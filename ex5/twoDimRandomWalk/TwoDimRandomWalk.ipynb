{
 "cells": [
  {
   "cell_type": "markdown",
   "source": [
    "# Imports:"
   ],
   "metadata": {
    "collapsed": false
   }
  },
  {
   "cell_type": "code",
   "execution_count": 22,
   "outputs": [],
   "source": [
    "import numpy as np\n",
    "import matplotlib.pyplot as plt\n",
    "from typing import Sequence"
   ],
   "metadata": {
    "collapsed": false
   }
  },
  {
   "cell_type": "markdown",
   "source": [
    "# Classes:"
   ],
   "metadata": {
    "collapsed": false
   }
  },
  {
   "cell_type": "code",
   "execution_count": 53,
   "outputs": [],
   "source": [
    "class twoDimRandomWalk:\n",
    "    \"\"\"\n",
    "    the class to simulate two dim random Walk\n",
    "\n",
    "    the walker randomly goes right with possibility 00.25 ,left with possibility 0.25 ,up with possibility 0.25 and down with possibility 0.25\n",
    "    r is the array containing random numbers representing walker's path in gauge 4\n",
    "    walks is the array containing random numbers representing walker's path\n",
    "    rs is the list of walkers positions\n",
    "\n",
    "    methods:\n",
    "\n",
    "    getX:\n",
    "        the function to get the distance of the walker with (0,0) at the time t by calculating the norm of the sum of the steps' array until time t witch is a complex number\n",
    "\n",
    "    run:\n",
    "        the function to run the main process of simulation during a main loop and appending x,meanX and var(x) to the data lists\n",
    "    \"\"\"\n",
    "    def __init__(self, steps: int) -> None:\n",
    "        \"\"\"\n",
    "        the function to construct RandomWalk object\n",
    "\n",
    "        :param steps: the total steps the walker goes\n",
    "        :type steps: int\n",
    "        \"\"\"\n",
    "        self.steps = steps\n",
    "        r = np.floor(np.random.uniform(0,4,self.steps))\n",
    "        self.walks = np.ones(self.steps) * (r==0) * 1 + np.ones(self.steps)*(r==3)*-1j + np.ones(self.steps)*(r==2)*1j + np.ones(self.steps) * (r==1) * -1\n",
    "        self.rs = []\n",
    "        self.r2s= []\n",
    "\n",
    "    def getR(self, t: int) -> np.ndarray:\n",
    "        \"\"\"\n",
    "        the function to get the distance of the walker with (0,0) at the time t by calculating the norm of the sum of the steps' array until time t witch is a complex number\n",
    "\n",
    "        :param t: the input time we need to determine the position at\n",
    "        :type t: int\n",
    "        :return: the position of the walker\n",
    "        :rtype: int\n",
    "        \"\"\"\n",
    "        return np.linalg.norm(np.sum(self.walks[:t+1]))\n",
    "\n",
    "    def run(self) -> None:\n",
    "        \"\"\"\n",
    "        the function to run the main process of simulation during a main loop and appending x,meanX and var(x) to the data lists\n",
    "        \"\"\"\n",
    "        for t in range(self.steps):\n",
    "            self.rs.append(self.getR(t))\n"
   ],
   "metadata": {
    "collapsed": false
   }
  },
  {
   "cell_type": "markdown",
   "source": [
    "#### Iterating:"
   ],
   "metadata": {
    "collapsed": false
   }
  },
  {
   "cell_type": "code",
   "execution_count": 56,
   "outputs": [],
   "source": [
    "def getTwoDimResults(steps: int, iterations: int) -> Sequence:\n",
    "    \"\"\"\n",
    "    the function to iterate and repeat getting results in a for loop and returning the mean of the results\n",
    "\n",
    "    R2s is the list of squares of  rs for different iterations\n",
    "\n",
    "    :param steps: the total steps the walker goes\n",
    "    :type steps: int\n",
    "    :param iterations: the number of iterations\n",
    "    :type iterations: int\n",
    "    :return: the sequence of mean of rs and mean of meanRs\n",
    "    :rtype: Sequence\n",
    "    \"\"\"\n",
    "\n",
    "    R2s = []\n",
    "    for i in range(iterations):\n",
    "        rw = twoDimRandomWalk(steps)\n",
    "        rw.run()\n",
    "        R2s.append(np.array(rw.rs)**2)\n",
    "    return np.mean(R2s,axis=0)"
   ],
   "metadata": {
    "collapsed": false
   }
  },
  {
   "cell_type": "markdown",
   "source": [
    "#### Main Part:"
   ],
   "metadata": {
    "collapsed": false
   }
  },
  {
   "cell_type": "code",
   "execution_count": 62,
   "outputs": [],
   "source": [
    "mr2s= getTwoDimResults(100,1000)"
   ],
   "metadata": {
    "collapsed": false
   }
  },
  {
   "cell_type": "code",
   "execution_count": 63,
   "outputs": [
    {
     "name": "stdout",
     "output_type": "stream",
     "text": [
      "r2 for steps and meanR2:  0.9996413504965396\n",
      "slope:  0.9869778937893792\n"
     ]
    }
   ],
   "source": [
    "print(\"r2 for steps and meanR2: \",np.corrcoef(np.arange(100),mr2s)[0][1])\n",
    "print(\"slope: \",np.polyfit(np.arange(100),mr2s,1)[0])"
   ],
   "metadata": {
    "collapsed": false
   }
  },
  {
   "cell_type": "markdown",
   "source": [
    "#### Plotting"
   ],
   "metadata": {
    "collapsed": false
   }
  },
  {
   "cell_type": "code",
   "execution_count": 66,
   "outputs": [
    {
     "data": {
      "text/plain": "<Figure size 720x720 with 1 Axes>",
      "image/png": "[encoded data removed]"
     },
     "metadata": {
      "needs_background": "light"
     },
     "output_type": "display_data"
    }
   ],
   "source": [
    "plt.figure(figsize=(10,10))\n",
    "plt.title(\"mean square of the radius of 2d random walk vs steps\")\n",
    "plt.ylabel(\"mean r^2\")\n",
    "plt.xlabel(\"steps\")\n",
    "plt.plot(np.arange(100),mr2s)\n",
    "plt.show()"
   ],
   "metadata": {
    "collapsed": false
   }
  }
 ],
 "metadata": {
  "kernelspec": {
   "display_name": "Python 3",
   "language": "python",
   "name": "python3"
  },
  "language_info": {
   "codemirror_mode": {
    "name": "ipython",
    "version": 2
   },
   "file_extension": ".py",
   "mimetype": "text/x-python",
   "name": "python",
   "nbconvert_exporter": "python",
   "pygments_lexer": "ipython2",
   "version": "2.7.6"
  }
 },
 "nbformat": 4,
 "nbformat_minor": 0
}
