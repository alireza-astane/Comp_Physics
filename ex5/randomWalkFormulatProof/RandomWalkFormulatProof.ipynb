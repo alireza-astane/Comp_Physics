{
 "cells": [
  {
   "cell_type": "markdown",
   "source": [
    "We can use the recurrence relation\n",
    "\t\\begin{equation}\n",
    "\t\tx(t) = x(t-\\tau) + al,\n",
    "\t\\end{equation}"
   ],
   "metadata": {
    "collapsed": false
   }
  },
  {
   "cell_type": "markdown",
   "source": [
    "where $a$ is $+1$ with probability $p$ and $-1$ with probability $q$, to find the variance.\n",
    "\tThe calculation is as follows:\n",
    "\t\\begin{align}\n",
    "\t\t\\Braket{x^2(t)} &= \\Braket{x^2(t-\\tau)} + 2l\\Braket{ax(t-\\tau)} + \\Braket{a^2}l^2 \\\\\n",
    "\t\t&= \\Braket{x^2(t-\\tau)} + l^2 + 2l(p - q)\\Braket{x(t-\\tau)} \\\\\n",
    "\t\t&= \\Braket{x^2(t-\\tau)} + l^2 + 2l^2 (\\frac{t}{\\tau}-1)(p - q)^2\n",
    "\t\\end{align}"
   ],
   "metadata": {
    "collapsed": false
   }
  },
  {
   "cell_type": "markdown",
   "source": [
    "(Note that $a^2$ is always $1$, and since $a$ is dependant from $x$, $\\Braket{ax} = \\Braket{a}\\Braket{x}$.\n",
    "\tAlso, I used $\\Braket{x(t)} = \\frac{l}{\\tau}(p-q)t$, which has already been proven in the lecture notes) \\\\\n",
    "\tRepeating the recurrence relation until it reaches $x(0) = 0$\n",
    "\t\\begin{align}\n",
    "\t\t\\Braket{x^2(t)} &= \\frac{tl^2}{\\tau} + \\frac{2l^2}{\\tau}(p - q)^2 \\sum_{n=1}^{t/\\tau - 1} n\\tau \\\\\n",
    "\t\t&= \\frac{tl^2}{\\tau}\\times[1 +(\\frac{t}{\\tau} - 1)(p - q)^2].\n",
    "\t\\end{align}"
   ],
   "metadata": {
    "collapsed": false
   }
  },
  {
   "cell_type": "markdown",
   "source": [
    "Substituting into the variance,\n",
    "\t\\begin{align}\n",
    "\t\t\\sigma^2(t) &= \\Braket{x^2(t)} - \\Braket{x(t)}^2 \\\\\n",
    "\t\t&= \\frac{tl^2}{\\tau}\\times[1 + (\\frac{t}{\\tau} - 1)(p - q)^2] - \\frac{t^2l^2}{\\tau^2}(p-q)^2 \\\\\n",
    "\t\t&= \\frac{tl^2}{\\tau}\\times[1 - (p - q)^2].\n",
    "\t\\end{align}"
   ],
   "metadata": {
    "collapsed": false
   }
  },
  {
   "cell_type": "markdown",
   "source": [
    "But\n",
    "\t\\begin{equation}\n",
    "\t\tp+q = 1 \\implies (p+q)^2 = 1 \\implies p^2 + q^2 = 1 - 2pq,\n",
    "\t\\end{equation}"
   ],
   "metadata": {
    "collapsed": false
   }
  },
  {
   "cell_type": "markdown",
   "source": [
    "and using this to simplify the expression\n",
    "\t\\begin{equation}\n",
    "\t\t\\sigma^2(t) = \\frac{tl^2}{\\tau}\\times[1 - (p^2 + q^2) + 2pq] = \\frac{tl^2}{\\tau}\\times[1 - 1 + 2pq + 2pq]\n",
    "\t\\end{equation}"
   ],
   "metadata": {
    "collapsed": false
   }
  },
  {
   "cell_type": "markdown",
   "source": [
    "\\begin{equation}\n",
    "\t\t\\sigma^2(t) = \\frac{4l^2}{\\tau}pqt\n",
    "\\end{equation}"
   ],
   "metadata": {
    "collapsed": false
   }
  }
 ],
 "metadata": {
  "kernelspec": {
   "display_name": "Python 3",
   "language": "python",
   "name": "python3"
  },
  "language_info": {
   "codemirror_mode": {
    "name": "ipython",
    "version": 2
   },
   "file_extension": ".py",
   "mimetype": "text/x-python",
   "name": "python",
   "nbconvert_exporter": "python",
   "pygments_lexer": "ipython2",
   "version": "2.7.6"
  }
 },
 "nbformat": 4,
 "nbformat_minor": 0
}
