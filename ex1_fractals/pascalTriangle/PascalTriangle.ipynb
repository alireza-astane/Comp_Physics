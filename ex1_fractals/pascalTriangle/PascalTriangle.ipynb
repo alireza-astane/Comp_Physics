{
 "cells": [
  {
   "cell_type": "code",
   "execution_count": 45,
   "metadata": {
    "collapsed": true
   },
   "outputs": [],
   "source": [
    "from matplotlib import rcParams, pyplot as plt\n",
    "\n",
    "directory = \"../fig/\"\n",
    "import plotly.graph_objects as go\n",
    "figsize = (4, 2 * 3**0.5)"
   ]
  },
  {
   "cell_type": "code",
   "execution_count": 2,
   "outputs": [],
   "source": [
    "import numpy as np\n",
    "from typing import Union\n",
    "from matplotlib.axes import Axes\n",
    "from matplotlib.image import AxesImage\n",
    "from matplotlib.colors import Colormap, LogNorm\n",
    "\n",
    "\n",
    "def pascal_triangle(size: int) -> np.ndarray:\n",
    "    \"\"\"Creates an array representation of pascal's triangle (right-angled)\n",
    "    Args:\n",
    "        size: width and height of the triangle\n",
    "    Returns:\n",
    "        A 2D numpy array containing the triangle. The triangle is\n",
    "        right-angled and the elements where the triangle is not defined\n",
    "        are filled with zeros.\n",
    "\n",
    "    \"\"\"\n",
    "    grid = np.zeros((size, size), dtype=np.uint64)\n",
    "    grid[:, 0] = 1\n",
    "    for i in range(1, size):\n",
    "        for j in range(1, size):\n",
    "            grid[i, j] = grid[i - 1, j - 1] + grid[i - 1, j]\n",
    "    return grid\n",
    "\n",
    "\n",
    "def draw_pascal_triangle(ax: Axes, size: int, fontsize: int = 10,\n",
    "                         normalize: bool = True) -> None:\n",
    "    \"\"\"Plots pascal's triangle with the given size on ax\n",
    "    Args:\n",
    "        ax: matplotlib axes object\n",
    "        size: width and height of the triangle\n",
    "        fontsize: font size of the numbers\n",
    "        normalize: whether or not to normalize the coordinates\n",
    "            and the axes' limits to make the triangle equilateral\n",
    "    \"\"\"\n",
    "    grid = pascal_triangle(size)\n",
    "    hor = 1\n",
    "    if normalize:\n",
    "        ver = 3**0.5 / 2 * hor\n",
    "    else:\n",
    "        ver = hor\n",
    "\n",
    "    for i in range(size):\n",
    "        for j in range(i + 1):\n",
    "            ax.text((size - i + 2 * j) * hor,\n",
    "                    (2 * (size - 1 - i) + 1) * ver,\n",
    "                    str(int(grid[i][j])), fontsize=fontsize,\n",
    "                    ha=\"center\", va=\"center\")\n",
    "\n",
    "    if normalize:\n",
    "        ax.set_xlim(0, 2 * hor * (size - 1))\n",
    "        ax.set_ylim(0, 2 * ver * (size - 1))\n",
    "\n",
    "\n",
    "def draw_pascal_fractal(ax: Axes, size: int,\n",
    "                        draw_numbers: bool = True, fontsize: float = 10,\n",
    "                        cmap: Union[Colormap, str]=\"rainbow\") -> AxesImage:\n",
    "    \"\"\"Draws the serpinski triangle inside pascal's triangle\n",
    "    This is achieved by connecting the odd numbers in pascal's triangle\n",
    "    Args:\n",
    "        ax: matplotlib axes object\n",
    "        size: width and height of the triangle\n",
    "        draw_numbers: wheter or not to draw pascal's triangle\n",
    "            on top of the fractal\n",
    "        fontsize: font size of the numbers\n",
    "        cmap: The colormap used for coloring the points. The points are\n",
    "            colored according to the ratio of their number to the maximum\n",
    "            number in the triangle. Logarithmic normalization is applied\n",
    "            for better distinction.\n",
    "    Returns:\n",
    "        output of imshow\n",
    "    \"\"\"\n",
    "    grid = pascal_fractal(size)\n",
    "\n",
    "    image = ax.imshow(np.flip(grid, axis=0), origin=\"lower\",\n",
    "                      extent=(0, 2 * size, 0, 2 * size),\n",
    "                      norm=LogNorm(), cmap=cmap)\n",
    "    if draw_numbers:\n",
    "        draw_pascal_triangle(ax, size, fontsize, False)\n",
    "\n",
    "    ax.set_aspect('auto')\n",
    "    return image\n",
    "\n",
    "\n",
    "def pascal_fractal(size: int) -> np.ndarray:\n",
    "    \"\"\"Masked array representation of pascal's triangle serpinski fractal\n",
    "    Suitable for use with imshow\n",
    "    Args:\n",
    "        size: width and height of the triangle\n",
    "    Returns:\n",
    "        Masked numpy array containing the serpinski triangle inside\n",
    "        pascal's triangle. The numbers are repeated four times in squares\n",
    "        and the squares are centered. Even numbers are masked.\n",
    "    \"\"\"\n",
    "    grid = _pascal_triangle_map(size)\n",
    "    return np.ma.masked_where(grid % 2 == 0, grid)\n",
    "\n",
    "\n",
    "def _pascal_triangle_map(size: int) -> np.ndarray:\n",
    "    \"\"\"Array representation of pascal's triangle, centered\n",
    "    Args:\n",
    "        size (int): width and height of the triangle\n",
    "    Returns:\n",
    "        Numpy array containing centered pascal's triangle. The numbers\n",
    "        are repeated four times in squares and the squares are centered.\n",
    "        Elements where the triangle is not defined are filled with zeros.\n",
    "    \"\"\"\n",
    "    grid = pascal_triangle(size)\n",
    "    grid = grid.repeat(2, axis=0)\n",
    "    grid = grid.repeat(2, axis=1)\n",
    "\n",
    "    shifts = np.linspace(size - 1, 0, size).astype(int)\n",
    "    shifts = shifts.repeat(2)\n",
    "    return _apply_shifts(grid, shifts)\n",
    "\n",
    "\n",
    "def _apply_shifts(array: np.ndarray, shifts: np.ndarray) -> np.ndarray:\n",
    "    \"\"\"Applies different shifts to diffrent rows of a numpy array\n",
    "    Args:\n",
    "        array: the numpy array\n",
    "        shifts: shift amounts as a numpy array\n",
    "    Returns:\n",
    "        the numpy array with shifted rows\n",
    "    \"\"\"\n",
    "    row, col = np.ogrid[:array.shape[0], :array.shape[1]]\n",
    "    col = col - shifts[:, np.newaxis]\n",
    "    return array[row, col]"
   ],
   "metadata": {
    "collapsed": false
   }
  },
  {
   "cell_type": "code",
   "execution_count": 6,
   "outputs": [
    {
     "data": {
      "text/plain": "array([[  1,   0,   0,   0,   0,   0,   0,   0,   0,   0],\n       [  1,   1,   0,   0,   0,   0,   0,   0,   0,   0],\n       [  1,   2,   1,   0,   0,   0,   0,   0,   0,   0],\n       [  1,   3,   3,   1,   0,   0,   0,   0,   0,   0],\n       [  1,   4,   6,   4,   1,   0,   0,   0,   0,   0],\n       [  1,   5,  10,  10,   5,   1,   0,   0,   0,   0],\n       [  1,   6,  15,  20,  15,   6,   1,   0,   0,   0],\n       [  1,   7,  21,  35,  35,  21,   7,   1,   0,   0],\n       [  1,   8,  28,  56,  70,  56,  28,   8,   1,   0],\n       [  1,   9,  36,  84, 126, 126,  84,  36,   9,   1]], dtype=uint64)"
     },
     "execution_count": 6,
     "metadata": {},
     "output_type": "execute_result"
    }
   ],
   "source": [
    "pascal_triangle(10)"
   ],
   "metadata": {
    "collapsed": false
   }
  },
  {
   "cell_type": "code",
   "execution_count": 3,
   "outputs": [
    {
     "ename": "FileNotFoundError",
     "evalue": "[Errno 2] No such file or directory: '../fig/pascal-triangle-fractal.pdf'",
     "output_type": "error",
     "traceback": [
      "\u001B[1;31m---------------------------------------------------------------------------\u001B[0m",
      "\u001B[1;31mFileNotFoundError\u001B[0m                         Traceback (most recent call last)",
      "Input \u001B[1;32mIn [3]\u001B[0m, in \u001B[0;36m<cell line: 6>\u001B[1;34m()\u001B[0m\n\u001B[0;32m      2\u001B[0m ax\u001B[38;5;241m.\u001B[39mset_axis_off()\n\u001B[0;32m      4\u001B[0m draw_pascal_fractal(ax, \u001B[38;5;241m8\u001B[39m, fontsize\u001B[38;5;241m=\u001B[39m\u001B[38;5;241m18\u001B[39m)\n\u001B[1;32m----> 6\u001B[0m \u001B[43mplt\u001B[49m\u001B[38;5;241;43m.\u001B[39;49m\u001B[43msavefig\u001B[49m\u001B[43m(\u001B[49m\u001B[43mdirectory\u001B[49m\u001B[43m \u001B[49m\u001B[38;5;241;43m+\u001B[39;49m\u001B[43m \u001B[49m\u001B[38;5;124;43m\"\u001B[39;49m\u001B[38;5;124;43mpascal-triangle-fractal.pdf\u001B[39;49m\u001B[38;5;124;43m\"\u001B[39;49m\u001B[43m,\u001B[49m\u001B[43m \u001B[49m\u001B[43mbbox_inches\u001B[49m\u001B[38;5;241;43m=\u001B[39;49m\u001B[38;5;124;43m\"\u001B[39;49m\u001B[38;5;124;43mtight\u001B[39;49m\u001B[38;5;124;43m\"\u001B[39;49m\u001B[43m)\u001B[49m\n",
      "File \u001B[1;32mE:\\Anaconda\\lib\\site-packages\\matplotlib\\pyplot.py:958\u001B[0m, in \u001B[0;36msavefig\u001B[1;34m(*args, **kwargs)\u001B[0m\n\u001B[0;32m    955\u001B[0m \u001B[38;5;129m@_copy_docstring_and_deprecators\u001B[39m(Figure\u001B[38;5;241m.\u001B[39msavefig)\n\u001B[0;32m    956\u001B[0m \u001B[38;5;28;01mdef\u001B[39;00m \u001B[38;5;21msavefig\u001B[39m(\u001B[38;5;241m*\u001B[39margs, \u001B[38;5;241m*\u001B[39m\u001B[38;5;241m*\u001B[39mkwargs):\n\u001B[0;32m    957\u001B[0m     fig \u001B[38;5;241m=\u001B[39m gcf()\n\u001B[1;32m--> 958\u001B[0m     res \u001B[38;5;241m=\u001B[39m fig\u001B[38;5;241m.\u001B[39msavefig(\u001B[38;5;241m*\u001B[39margs, \u001B[38;5;241m*\u001B[39m\u001B[38;5;241m*\u001B[39mkwargs)\n\u001B[0;32m    959\u001B[0m     fig\u001B[38;5;241m.\u001B[39mcanvas\u001B[38;5;241m.\u001B[39mdraw_idle()   \u001B[38;5;66;03m# need this if 'transparent=True' to reset colors\u001B[39;00m\n\u001B[0;32m    960\u001B[0m     \u001B[38;5;28;01mreturn\u001B[39;00m res\n",
      "File \u001B[1;32mE:\\Anaconda\\lib\\site-packages\\matplotlib\\figure.py:3019\u001B[0m, in \u001B[0;36mFigure.savefig\u001B[1;34m(self, fname, transparent, **kwargs)\u001B[0m\n\u001B[0;32m   3015\u001B[0m     \u001B[38;5;28;01mfor\u001B[39;00m ax \u001B[38;5;129;01min\u001B[39;00m \u001B[38;5;28mself\u001B[39m\u001B[38;5;241m.\u001B[39maxes:\n\u001B[0;32m   3016\u001B[0m         stack\u001B[38;5;241m.\u001B[39menter_context(\n\u001B[0;32m   3017\u001B[0m             ax\u001B[38;5;241m.\u001B[39mpatch\u001B[38;5;241m.\u001B[39m_cm_set(facecolor\u001B[38;5;241m=\u001B[39m\u001B[38;5;124m'\u001B[39m\u001B[38;5;124mnone\u001B[39m\u001B[38;5;124m'\u001B[39m, edgecolor\u001B[38;5;241m=\u001B[39m\u001B[38;5;124m'\u001B[39m\u001B[38;5;124mnone\u001B[39m\u001B[38;5;124m'\u001B[39m))\n\u001B[1;32m-> 3019\u001B[0m \u001B[38;5;28mself\u001B[39m\u001B[38;5;241m.\u001B[39mcanvas\u001B[38;5;241m.\u001B[39mprint_figure(fname, \u001B[38;5;241m*\u001B[39m\u001B[38;5;241m*\u001B[39mkwargs)\n",
      "File \u001B[1;32mE:\\Anaconda\\lib\\site-packages\\matplotlib\\backend_bases.py:2319\u001B[0m, in \u001B[0;36mFigureCanvasBase.print_figure\u001B[1;34m(self, filename, dpi, facecolor, edgecolor, orientation, format, bbox_inches, pad_inches, bbox_extra_artists, backend, **kwargs)\u001B[0m\n\u001B[0;32m   2315\u001B[0m \u001B[38;5;28;01mtry\u001B[39;00m:\n\u001B[0;32m   2316\u001B[0m     \u001B[38;5;66;03m# _get_renderer may change the figure dpi (as vector formats\u001B[39;00m\n\u001B[0;32m   2317\u001B[0m     \u001B[38;5;66;03m# force the figure dpi to 72), so we need to set it again here.\u001B[39;00m\n\u001B[0;32m   2318\u001B[0m     \u001B[38;5;28;01mwith\u001B[39;00m cbook\u001B[38;5;241m.\u001B[39m_setattr_cm(\u001B[38;5;28mself\u001B[39m\u001B[38;5;241m.\u001B[39mfigure, dpi\u001B[38;5;241m=\u001B[39mdpi):\n\u001B[1;32m-> 2319\u001B[0m         result \u001B[38;5;241m=\u001B[39m print_method(\n\u001B[0;32m   2320\u001B[0m             filename,\n\u001B[0;32m   2321\u001B[0m             facecolor\u001B[38;5;241m=\u001B[39mfacecolor,\n\u001B[0;32m   2322\u001B[0m             edgecolor\u001B[38;5;241m=\u001B[39medgecolor,\n\u001B[0;32m   2323\u001B[0m             orientation\u001B[38;5;241m=\u001B[39morientation,\n\u001B[0;32m   2324\u001B[0m             bbox_inches_restore\u001B[38;5;241m=\u001B[39m_bbox_inches_restore,\n\u001B[0;32m   2325\u001B[0m             \u001B[38;5;241m*\u001B[39m\u001B[38;5;241m*\u001B[39mkwargs)\n\u001B[0;32m   2326\u001B[0m \u001B[38;5;28;01mfinally\u001B[39;00m:\n\u001B[0;32m   2327\u001B[0m     \u001B[38;5;28;01mif\u001B[39;00m bbox_inches \u001B[38;5;129;01mand\u001B[39;00m restore_bbox:\n",
      "File \u001B[1;32mE:\\Anaconda\\lib\\site-packages\\matplotlib\\backend_bases.py:1648\u001B[0m, in \u001B[0;36m_check_savefig_extra_args.<locals>.wrapper\u001B[1;34m(*args, **kwargs)\u001B[0m\n\u001B[0;32m   1640\u001B[0m     _api\u001B[38;5;241m.\u001B[39mwarn_deprecated(\n\u001B[0;32m   1641\u001B[0m         \u001B[38;5;124m'\u001B[39m\u001B[38;5;124m3.3\u001B[39m\u001B[38;5;124m'\u001B[39m, name\u001B[38;5;241m=\u001B[39mname, removal\u001B[38;5;241m=\u001B[39m\u001B[38;5;124m'\u001B[39m\u001B[38;5;124m3.6\u001B[39m\u001B[38;5;124m'\u001B[39m,\n\u001B[0;32m   1642\u001B[0m         message\u001B[38;5;241m=\u001B[39m\u001B[38;5;124m'\u001B[39m\u001B[38;5;132;01m%(name)s\u001B[39;00m\u001B[38;5;124m() got unexpected keyword argument \u001B[39m\u001B[38;5;124m\"\u001B[39m\u001B[38;5;124m'\u001B[39m\n\u001B[0;32m   1643\u001B[0m                 \u001B[38;5;241m+\u001B[39m arg \u001B[38;5;241m+\u001B[39m \u001B[38;5;124m'\u001B[39m\u001B[38;5;124m\"\u001B[39m\u001B[38;5;124m which is no longer supported as of \u001B[39m\u001B[38;5;124m'\u001B[39m\n\u001B[0;32m   1644\u001B[0m                 \u001B[38;5;124m'\u001B[39m\u001B[38;5;132;01m%(since)s\u001B[39;00m\u001B[38;5;124m and will become an error \u001B[39m\u001B[38;5;124m'\u001B[39m\n\u001B[0;32m   1645\u001B[0m                 \u001B[38;5;124m'\u001B[39m\u001B[38;5;132;01m%(removal)s\u001B[39;00m\u001B[38;5;124m'\u001B[39m)\n\u001B[0;32m   1646\u001B[0m     kwargs\u001B[38;5;241m.\u001B[39mpop(arg)\n\u001B[1;32m-> 1648\u001B[0m \u001B[38;5;28;01mreturn\u001B[39;00m func(\u001B[38;5;241m*\u001B[39margs, \u001B[38;5;241m*\u001B[39m\u001B[38;5;241m*\u001B[39mkwargs)\n",
      "File \u001B[1;32mE:\\Anaconda\\lib\\site-packages\\matplotlib\\_api\\deprecation.py:386\u001B[0m, in \u001B[0;36mdelete_parameter.<locals>.wrapper\u001B[1;34m(*inner_args, **inner_kwargs)\u001B[0m\n\u001B[0;32m    381\u001B[0m \u001B[38;5;129m@functools\u001B[39m\u001B[38;5;241m.\u001B[39mwraps(func)\n\u001B[0;32m    382\u001B[0m \u001B[38;5;28;01mdef\u001B[39;00m \u001B[38;5;21mwrapper\u001B[39m(\u001B[38;5;241m*\u001B[39minner_args, \u001B[38;5;241m*\u001B[39m\u001B[38;5;241m*\u001B[39minner_kwargs):\n\u001B[0;32m    383\u001B[0m     \u001B[38;5;28;01mif\u001B[39;00m \u001B[38;5;28mlen\u001B[39m(inner_args) \u001B[38;5;241m<\u001B[39m\u001B[38;5;241m=\u001B[39m name_idx \u001B[38;5;129;01mand\u001B[39;00m name \u001B[38;5;129;01mnot\u001B[39;00m \u001B[38;5;129;01min\u001B[39;00m inner_kwargs:\n\u001B[0;32m    384\u001B[0m         \u001B[38;5;66;03m# Early return in the simple, non-deprecated case (much faster than\u001B[39;00m\n\u001B[0;32m    385\u001B[0m         \u001B[38;5;66;03m# calling bind()).\u001B[39;00m\n\u001B[1;32m--> 386\u001B[0m         \u001B[38;5;28;01mreturn\u001B[39;00m func(\u001B[38;5;241m*\u001B[39minner_args, \u001B[38;5;241m*\u001B[39m\u001B[38;5;241m*\u001B[39minner_kwargs)\n\u001B[0;32m    387\u001B[0m     arguments \u001B[38;5;241m=\u001B[39m signature\u001B[38;5;241m.\u001B[39mbind(\u001B[38;5;241m*\u001B[39minner_args, \u001B[38;5;241m*\u001B[39m\u001B[38;5;241m*\u001B[39minner_kwargs)\u001B[38;5;241m.\u001B[39marguments\n\u001B[0;32m    388\u001B[0m     \u001B[38;5;28;01mif\u001B[39;00m is_varargs \u001B[38;5;129;01mand\u001B[39;00m arguments\u001B[38;5;241m.\u001B[39mget(name):\n",
      "File \u001B[1;32mE:\\Anaconda\\lib\\site-packages\\matplotlib\\backends\\backend_pdf.py:2778\u001B[0m, in \u001B[0;36mFigureCanvasPdf.print_pdf\u001B[1;34m(self, filename, dpi, bbox_inches_restore, metadata)\u001B[0m\n\u001B[0;32m   2776\u001B[0m     file \u001B[38;5;241m=\u001B[39m filename\u001B[38;5;241m.\u001B[39m_file\n\u001B[0;32m   2777\u001B[0m \u001B[38;5;28;01melse\u001B[39;00m:\n\u001B[1;32m-> 2778\u001B[0m     file \u001B[38;5;241m=\u001B[39m \u001B[43mPdfFile\u001B[49m\u001B[43m(\u001B[49m\u001B[43mfilename\u001B[49m\u001B[43m,\u001B[49m\u001B[43m \u001B[49m\u001B[43mmetadata\u001B[49m\u001B[38;5;241;43m=\u001B[39;49m\u001B[43mmetadata\u001B[49m\u001B[43m)\u001B[49m\n\u001B[0;32m   2779\u001B[0m \u001B[38;5;28;01mtry\u001B[39;00m:\n\u001B[0;32m   2780\u001B[0m     file\u001B[38;5;241m.\u001B[39mnewPage(width, height)\n",
      "File \u001B[1;32mE:\\Anaconda\\lib\\site-packages\\matplotlib\\backends\\backend_pdf.py:654\u001B[0m, in \u001B[0;36mPdfFile.__init__\u001B[1;34m(self, filename, metadata)\u001B[0m\n\u001B[0;32m    652\u001B[0m \u001B[38;5;28mself\u001B[39m\u001B[38;5;241m.\u001B[39moriginal_file_like \u001B[38;5;241m=\u001B[39m \u001B[38;5;28;01mNone\u001B[39;00m\n\u001B[0;32m    653\u001B[0m \u001B[38;5;28mself\u001B[39m\u001B[38;5;241m.\u001B[39mtell_base \u001B[38;5;241m=\u001B[39m \u001B[38;5;241m0\u001B[39m\n\u001B[1;32m--> 654\u001B[0m fh, opened \u001B[38;5;241m=\u001B[39m \u001B[43mcbook\u001B[49m\u001B[38;5;241;43m.\u001B[39;49m\u001B[43mto_filehandle\u001B[49m\u001B[43m(\u001B[49m\u001B[43mfilename\u001B[49m\u001B[43m,\u001B[49m\u001B[43m \u001B[49m\u001B[38;5;124;43m\"\u001B[39;49m\u001B[38;5;124;43mwb\u001B[39;49m\u001B[38;5;124;43m\"\u001B[39;49m\u001B[43m,\u001B[49m\u001B[43m \u001B[49m\u001B[43mreturn_opened\u001B[49m\u001B[38;5;241;43m=\u001B[39;49m\u001B[38;5;28;43;01mTrue\u001B[39;49;00m\u001B[43m)\u001B[49m\n\u001B[0;32m    655\u001B[0m \u001B[38;5;28;01mif\u001B[39;00m \u001B[38;5;129;01mnot\u001B[39;00m opened:\n\u001B[0;32m    656\u001B[0m     \u001B[38;5;28;01mtry\u001B[39;00m:\n",
      "File \u001B[1;32mE:\\Anaconda\\lib\\site-packages\\matplotlib\\cbook\\__init__.py:451\u001B[0m, in \u001B[0;36mto_filehandle\u001B[1;34m(fname, flag, return_opened, encoding)\u001B[0m\n\u001B[0;32m    449\u001B[0m         fh \u001B[38;5;241m=\u001B[39m bz2\u001B[38;5;241m.\u001B[39mBZ2File(fname, flag)\n\u001B[0;32m    450\u001B[0m     \u001B[38;5;28;01melse\u001B[39;00m:\n\u001B[1;32m--> 451\u001B[0m         fh \u001B[38;5;241m=\u001B[39m \u001B[38;5;28;43mopen\u001B[39;49m\u001B[43m(\u001B[49m\u001B[43mfname\u001B[49m\u001B[43m,\u001B[49m\u001B[43m \u001B[49m\u001B[43mflag\u001B[49m\u001B[43m,\u001B[49m\u001B[43m \u001B[49m\u001B[43mencoding\u001B[49m\u001B[38;5;241;43m=\u001B[39;49m\u001B[43mencoding\u001B[49m\u001B[43m)\u001B[49m\n\u001B[0;32m    452\u001B[0m     opened \u001B[38;5;241m=\u001B[39m \u001B[38;5;28;01mTrue\u001B[39;00m\n\u001B[0;32m    453\u001B[0m \u001B[38;5;28;01melif\u001B[39;00m \u001B[38;5;28mhasattr\u001B[39m(fname, \u001B[38;5;124m'\u001B[39m\u001B[38;5;124mseek\u001B[39m\u001B[38;5;124m'\u001B[39m):\n",
      "\u001B[1;31mFileNotFoundError\u001B[0m: [Errno 2] No such file or directory: '../fig/pascal-triangle-fractal.pdf'"
     ]
    },
    {
     "data": {
      "text/plain": "<Figure size 288x249.415 with 1 Axes>",
      "image/png": "[encoded data removed]"
     },
     "metadata": {
      "needs_background": "light"
     },
     "output_type": "display_data"
    }
   ],
   "source": [
    "fig, ax = plt.subplots(figsize=figsize)\n",
    "ax.set_axis_off()\n",
    "\n",
    "draw_pascal_fractal(ax, 8, fontsize=18)\n",
    "\n",
    "plt.savefig(directory + \"pascal-triangle-fractal.pdf\", bbox_inches=\"tight\")"
   ],
   "metadata": {
    "collapsed": false
   }
  },
  {
   "cell_type": "code",
   "execution_count": 4,
   "outputs": [
    {
     "ename": "FileNotFoundError",
     "evalue": "[Errno 2] No such file or directory: '../fig/pascal-fractal.pdf'",
     "output_type": "error",
     "traceback": [
      "\u001B[1;31m---------------------------------------------------------------------------\u001B[0m",
      "\u001B[1;31mFileNotFoundError\u001B[0m                         Traceback (most recent call last)",
      "Input \u001B[1;32mIn [4]\u001B[0m, in \u001B[0;36m<cell line: 6>\u001B[1;34m()\u001B[0m\n\u001B[0;32m      2\u001B[0m ax\u001B[38;5;241m.\u001B[39mset_axis_off()\n\u001B[0;32m      4\u001B[0m draw_pascal_fractal(ax, \u001B[38;5;241m16\u001B[39m, fontsize\u001B[38;5;241m=\u001B[39m\u001B[38;5;241m6\u001B[39m)\n\u001B[1;32m----> 6\u001B[0m \u001B[43mplt\u001B[49m\u001B[38;5;241;43m.\u001B[39;49m\u001B[43msavefig\u001B[49m\u001B[43m(\u001B[49m\u001B[43mdirectory\u001B[49m\u001B[43m \u001B[49m\u001B[38;5;241;43m+\u001B[39;49m\u001B[43m \u001B[49m\u001B[38;5;124;43m\"\u001B[39;49m\u001B[38;5;124;43mpascal-fractal.pdf\u001B[39;49m\u001B[38;5;124;43m\"\u001B[39;49m\u001B[43m,\u001B[49m\u001B[43m \u001B[49m\u001B[43mbbox_inches\u001B[49m\u001B[38;5;241;43m=\u001B[39;49m\u001B[38;5;124;43m\"\u001B[39;49m\u001B[38;5;124;43mtight\u001B[39;49m\u001B[38;5;124;43m\"\u001B[39;49m\u001B[43m)\u001B[49m\n",
      "File \u001B[1;32mE:\\Anaconda\\lib\\site-packages\\matplotlib\\pyplot.py:958\u001B[0m, in \u001B[0;36msavefig\u001B[1;34m(*args, **kwargs)\u001B[0m\n\u001B[0;32m    955\u001B[0m \u001B[38;5;129m@_copy_docstring_and_deprecators\u001B[39m(Figure\u001B[38;5;241m.\u001B[39msavefig)\n\u001B[0;32m    956\u001B[0m \u001B[38;5;28;01mdef\u001B[39;00m \u001B[38;5;21msavefig\u001B[39m(\u001B[38;5;241m*\u001B[39margs, \u001B[38;5;241m*\u001B[39m\u001B[38;5;241m*\u001B[39mkwargs):\n\u001B[0;32m    957\u001B[0m     fig \u001B[38;5;241m=\u001B[39m gcf()\n\u001B[1;32m--> 958\u001B[0m     res \u001B[38;5;241m=\u001B[39m fig\u001B[38;5;241m.\u001B[39msavefig(\u001B[38;5;241m*\u001B[39margs, \u001B[38;5;241m*\u001B[39m\u001B[38;5;241m*\u001B[39mkwargs)\n\u001B[0;32m    959\u001B[0m     fig\u001B[38;5;241m.\u001B[39mcanvas\u001B[38;5;241m.\u001B[39mdraw_idle()   \u001B[38;5;66;03m# need this if 'transparent=True' to reset colors\u001B[39;00m\n\u001B[0;32m    960\u001B[0m     \u001B[38;5;28;01mreturn\u001B[39;00m res\n",
      "File \u001B[1;32mE:\\Anaconda\\lib\\site-packages\\matplotlib\\figure.py:3019\u001B[0m, in \u001B[0;36mFigure.savefig\u001B[1;34m(self, fname, transparent, **kwargs)\u001B[0m\n\u001B[0;32m   3015\u001B[0m     \u001B[38;5;28;01mfor\u001B[39;00m ax \u001B[38;5;129;01min\u001B[39;00m \u001B[38;5;28mself\u001B[39m\u001B[38;5;241m.\u001B[39maxes:\n\u001B[0;32m   3016\u001B[0m         stack\u001B[38;5;241m.\u001B[39menter_context(\n\u001B[0;32m   3017\u001B[0m             ax\u001B[38;5;241m.\u001B[39mpatch\u001B[38;5;241m.\u001B[39m_cm_set(facecolor\u001B[38;5;241m=\u001B[39m\u001B[38;5;124m'\u001B[39m\u001B[38;5;124mnone\u001B[39m\u001B[38;5;124m'\u001B[39m, edgecolor\u001B[38;5;241m=\u001B[39m\u001B[38;5;124m'\u001B[39m\u001B[38;5;124mnone\u001B[39m\u001B[38;5;124m'\u001B[39m))\n\u001B[1;32m-> 3019\u001B[0m \u001B[38;5;28mself\u001B[39m\u001B[38;5;241m.\u001B[39mcanvas\u001B[38;5;241m.\u001B[39mprint_figure(fname, \u001B[38;5;241m*\u001B[39m\u001B[38;5;241m*\u001B[39mkwargs)\n",
      "File \u001B[1;32mE:\\Anaconda\\lib\\site-packages\\matplotlib\\backend_bases.py:2319\u001B[0m, in \u001B[0;36mFigureCanvasBase.print_figure\u001B[1;34m(self, filename, dpi, facecolor, edgecolor, orientation, format, bbox_inches, pad_inches, bbox_extra_artists, backend, **kwargs)\u001B[0m\n\u001B[0;32m   2315\u001B[0m \u001B[38;5;28;01mtry\u001B[39;00m:\n\u001B[0;32m   2316\u001B[0m     \u001B[38;5;66;03m# _get_renderer may change the figure dpi (as vector formats\u001B[39;00m\n\u001B[0;32m   2317\u001B[0m     \u001B[38;5;66;03m# force the figure dpi to 72), so we need to set it again here.\u001B[39;00m\n\u001B[0;32m   2318\u001B[0m     \u001B[38;5;28;01mwith\u001B[39;00m cbook\u001B[38;5;241m.\u001B[39m_setattr_cm(\u001B[38;5;28mself\u001B[39m\u001B[38;5;241m.\u001B[39mfigure, dpi\u001B[38;5;241m=\u001B[39mdpi):\n\u001B[1;32m-> 2319\u001B[0m         result \u001B[38;5;241m=\u001B[39m print_method(\n\u001B[0;32m   2320\u001B[0m             filename,\n\u001B[0;32m   2321\u001B[0m             facecolor\u001B[38;5;241m=\u001B[39mfacecolor,\n\u001B[0;32m   2322\u001B[0m             edgecolor\u001B[38;5;241m=\u001B[39medgecolor,\n\u001B[0;32m   2323\u001B[0m             orientation\u001B[38;5;241m=\u001B[39morientation,\n\u001B[0;32m   2324\u001B[0m             bbox_inches_restore\u001B[38;5;241m=\u001B[39m_bbox_inches_restore,\n\u001B[0;32m   2325\u001B[0m             \u001B[38;5;241m*\u001B[39m\u001B[38;5;241m*\u001B[39mkwargs)\n\u001B[0;32m   2326\u001B[0m \u001B[38;5;28;01mfinally\u001B[39;00m:\n\u001B[0;32m   2327\u001B[0m     \u001B[38;5;28;01mif\u001B[39;00m bbox_inches \u001B[38;5;129;01mand\u001B[39;00m restore_bbox:\n",
      "File \u001B[1;32mE:\\Anaconda\\lib\\site-packages\\matplotlib\\backend_bases.py:1648\u001B[0m, in \u001B[0;36m_check_savefig_extra_args.<locals>.wrapper\u001B[1;34m(*args, **kwargs)\u001B[0m\n\u001B[0;32m   1640\u001B[0m     _api\u001B[38;5;241m.\u001B[39mwarn_deprecated(\n\u001B[0;32m   1641\u001B[0m         \u001B[38;5;124m'\u001B[39m\u001B[38;5;124m3.3\u001B[39m\u001B[38;5;124m'\u001B[39m, name\u001B[38;5;241m=\u001B[39mname, removal\u001B[38;5;241m=\u001B[39m\u001B[38;5;124m'\u001B[39m\u001B[38;5;124m3.6\u001B[39m\u001B[38;5;124m'\u001B[39m,\n\u001B[0;32m   1642\u001B[0m         message\u001B[38;5;241m=\u001B[39m\u001B[38;5;124m'\u001B[39m\u001B[38;5;132;01m%(name)s\u001B[39;00m\u001B[38;5;124m() got unexpected keyword argument \u001B[39m\u001B[38;5;124m\"\u001B[39m\u001B[38;5;124m'\u001B[39m\n\u001B[0;32m   1643\u001B[0m                 \u001B[38;5;241m+\u001B[39m arg \u001B[38;5;241m+\u001B[39m \u001B[38;5;124m'\u001B[39m\u001B[38;5;124m\"\u001B[39m\u001B[38;5;124m which is no longer supported as of \u001B[39m\u001B[38;5;124m'\u001B[39m\n\u001B[0;32m   1644\u001B[0m                 \u001B[38;5;124m'\u001B[39m\u001B[38;5;132;01m%(since)s\u001B[39;00m\u001B[38;5;124m and will become an error \u001B[39m\u001B[38;5;124m'\u001B[39m\n\u001B[0;32m   1645\u001B[0m                 \u001B[38;5;124m'\u001B[39m\u001B[38;5;132;01m%(removal)s\u001B[39;00m\u001B[38;5;124m'\u001B[39m)\n\u001B[0;32m   1646\u001B[0m     kwargs\u001B[38;5;241m.\u001B[39mpop(arg)\n\u001B[1;32m-> 1648\u001B[0m \u001B[38;5;28;01mreturn\u001B[39;00m func(\u001B[38;5;241m*\u001B[39margs, \u001B[38;5;241m*\u001B[39m\u001B[38;5;241m*\u001B[39mkwargs)\n",
      "File \u001B[1;32mE:\\Anaconda\\lib\\site-packages\\matplotlib\\_api\\deprecation.py:386\u001B[0m, in \u001B[0;36mdelete_parameter.<locals>.wrapper\u001B[1;34m(*inner_args, **inner_kwargs)\u001B[0m\n\u001B[0;32m    381\u001B[0m \u001B[38;5;129m@functools\u001B[39m\u001B[38;5;241m.\u001B[39mwraps(func)\n\u001B[0;32m    382\u001B[0m \u001B[38;5;28;01mdef\u001B[39;00m \u001B[38;5;21mwrapper\u001B[39m(\u001B[38;5;241m*\u001B[39minner_args, \u001B[38;5;241m*\u001B[39m\u001B[38;5;241m*\u001B[39minner_kwargs):\n\u001B[0;32m    383\u001B[0m     \u001B[38;5;28;01mif\u001B[39;00m \u001B[38;5;28mlen\u001B[39m(inner_args) \u001B[38;5;241m<\u001B[39m\u001B[38;5;241m=\u001B[39m name_idx \u001B[38;5;129;01mand\u001B[39;00m name \u001B[38;5;129;01mnot\u001B[39;00m \u001B[38;5;129;01min\u001B[39;00m inner_kwargs:\n\u001B[0;32m    384\u001B[0m         \u001B[38;5;66;03m# Early return in the simple, non-deprecated case (much faster than\u001B[39;00m\n\u001B[0;32m    385\u001B[0m         \u001B[38;5;66;03m# calling bind()).\u001B[39;00m\n\u001B[1;32m--> 386\u001B[0m         \u001B[38;5;28;01mreturn\u001B[39;00m func(\u001B[38;5;241m*\u001B[39minner_args, \u001B[38;5;241m*\u001B[39m\u001B[38;5;241m*\u001B[39minner_kwargs)\n\u001B[0;32m    387\u001B[0m     arguments \u001B[38;5;241m=\u001B[39m signature\u001B[38;5;241m.\u001B[39mbind(\u001B[38;5;241m*\u001B[39minner_args, \u001B[38;5;241m*\u001B[39m\u001B[38;5;241m*\u001B[39minner_kwargs)\u001B[38;5;241m.\u001B[39marguments\n\u001B[0;32m    388\u001B[0m     \u001B[38;5;28;01mif\u001B[39;00m is_varargs \u001B[38;5;129;01mand\u001B[39;00m arguments\u001B[38;5;241m.\u001B[39mget(name):\n",
      "File \u001B[1;32mE:\\Anaconda\\lib\\site-packages\\matplotlib\\backends\\backend_pdf.py:2778\u001B[0m, in \u001B[0;36mFigureCanvasPdf.print_pdf\u001B[1;34m(self, filename, dpi, bbox_inches_restore, metadata)\u001B[0m\n\u001B[0;32m   2776\u001B[0m     file \u001B[38;5;241m=\u001B[39m filename\u001B[38;5;241m.\u001B[39m_file\n\u001B[0;32m   2777\u001B[0m \u001B[38;5;28;01melse\u001B[39;00m:\n\u001B[1;32m-> 2778\u001B[0m     file \u001B[38;5;241m=\u001B[39m \u001B[43mPdfFile\u001B[49m\u001B[43m(\u001B[49m\u001B[43mfilename\u001B[49m\u001B[43m,\u001B[49m\u001B[43m \u001B[49m\u001B[43mmetadata\u001B[49m\u001B[38;5;241;43m=\u001B[39;49m\u001B[43mmetadata\u001B[49m\u001B[43m)\u001B[49m\n\u001B[0;32m   2779\u001B[0m \u001B[38;5;28;01mtry\u001B[39;00m:\n\u001B[0;32m   2780\u001B[0m     file\u001B[38;5;241m.\u001B[39mnewPage(width, height)\n",
      "File \u001B[1;32mE:\\Anaconda\\lib\\site-packages\\matplotlib\\backends\\backend_pdf.py:654\u001B[0m, in \u001B[0;36mPdfFile.__init__\u001B[1;34m(self, filename, metadata)\u001B[0m\n\u001B[0;32m    652\u001B[0m \u001B[38;5;28mself\u001B[39m\u001B[38;5;241m.\u001B[39moriginal_file_like \u001B[38;5;241m=\u001B[39m \u001B[38;5;28;01mNone\u001B[39;00m\n\u001B[0;32m    653\u001B[0m \u001B[38;5;28mself\u001B[39m\u001B[38;5;241m.\u001B[39mtell_base \u001B[38;5;241m=\u001B[39m \u001B[38;5;241m0\u001B[39m\n\u001B[1;32m--> 654\u001B[0m fh, opened \u001B[38;5;241m=\u001B[39m \u001B[43mcbook\u001B[49m\u001B[38;5;241;43m.\u001B[39;49m\u001B[43mto_filehandle\u001B[49m\u001B[43m(\u001B[49m\u001B[43mfilename\u001B[49m\u001B[43m,\u001B[49m\u001B[43m \u001B[49m\u001B[38;5;124;43m\"\u001B[39;49m\u001B[38;5;124;43mwb\u001B[39;49m\u001B[38;5;124;43m\"\u001B[39;49m\u001B[43m,\u001B[49m\u001B[43m \u001B[49m\u001B[43mreturn_opened\u001B[49m\u001B[38;5;241;43m=\u001B[39;49m\u001B[38;5;28;43;01mTrue\u001B[39;49;00m\u001B[43m)\u001B[49m\n\u001B[0;32m    655\u001B[0m \u001B[38;5;28;01mif\u001B[39;00m \u001B[38;5;129;01mnot\u001B[39;00m opened:\n\u001B[0;32m    656\u001B[0m     \u001B[38;5;28;01mtry\u001B[39;00m:\n",
      "File \u001B[1;32mE:\\Anaconda\\lib\\site-packages\\matplotlib\\cbook\\__init__.py:451\u001B[0m, in \u001B[0;36mto_filehandle\u001B[1;34m(fname, flag, return_opened, encoding)\u001B[0m\n\u001B[0;32m    449\u001B[0m         fh \u001B[38;5;241m=\u001B[39m bz2\u001B[38;5;241m.\u001B[39mBZ2File(fname, flag)\n\u001B[0;32m    450\u001B[0m     \u001B[38;5;28;01melse\u001B[39;00m:\n\u001B[1;32m--> 451\u001B[0m         fh \u001B[38;5;241m=\u001B[39m \u001B[38;5;28;43mopen\u001B[39;49m\u001B[43m(\u001B[49m\u001B[43mfname\u001B[49m\u001B[43m,\u001B[49m\u001B[43m \u001B[49m\u001B[43mflag\u001B[49m\u001B[43m,\u001B[49m\u001B[43m \u001B[49m\u001B[43mencoding\u001B[49m\u001B[38;5;241;43m=\u001B[39;49m\u001B[43mencoding\u001B[49m\u001B[43m)\u001B[49m\n\u001B[0;32m    452\u001B[0m     opened \u001B[38;5;241m=\u001B[39m \u001B[38;5;28;01mTrue\u001B[39;00m\n\u001B[0;32m    453\u001B[0m \u001B[38;5;28;01melif\u001B[39;00m \u001B[38;5;28mhasattr\u001B[39m(fname, \u001B[38;5;124m'\u001B[39m\u001B[38;5;124mseek\u001B[39m\u001B[38;5;124m'\u001B[39m):\n",
      "\u001B[1;31mFileNotFoundError\u001B[0m: [Errno 2] No such file or directory: '../fig/pascal-fractal.pdf'"
     ]
    },
    {
     "data": {
      "text/plain": "<Figure size 288x249.415 with 1 Axes>",
      "image/png": "[encoded data removed]"
     },
     "metadata": {
      "needs_background": "light"
     },
     "output_type": "display_data"
    }
   ],
   "source": [
    "fig, ax = plt.subplots(figsize=figsize)\n",
    "ax.set_axis_off()\n",
    "\n",
    "draw_pascal_fractal(ax, 16, fontsize=6)\n",
    "\n",
    "plt.savefig(directory + \"pascal-fractal.pdf\", bbox_inches=\"tight\")"
   ],
   "metadata": {
    "collapsed": false
   }
  },
  {
   "cell_type": "code",
   "execution_count": 5,
   "outputs": [
    {
     "name": "stderr",
     "output_type": "stream",
     "text": [
      "C:\\Users\\MSI gf65\\AppData\\Local\\Temp\\ipykernel_26344\\3478224997.py:22: RuntimeWarning: overflow encountered in ulonglong_scalars\n",
      "  grid[i, j] = grid[i - 1, j - 1] + grid[i - 1, j]\n"
     ]
    },
    {
     "ename": "FileNotFoundError",
     "evalue": "[Errno 2] No such file or directory: '../fig/pascal-fractal-big.pdf'",
     "output_type": "error",
     "traceback": [
      "\u001B[1;31m---------------------------------------------------------------------------\u001B[0m",
      "\u001B[1;31mFileNotFoundError\u001B[0m                         Traceback (most recent call last)",
      "Input \u001B[1;32mIn [5]\u001B[0m, in \u001B[0;36m<cell line: 6>\u001B[1;34m()\u001B[0m\n\u001B[0;32m      2\u001B[0m ax\u001B[38;5;241m.\u001B[39mset_axis_off()\n\u001B[0;32m      4\u001B[0m draw_pascal_fractal(ax, \u001B[38;5;241m256\u001B[39m, draw_numbers\u001B[38;5;241m=\u001B[39m\u001B[38;5;28;01mFalse\u001B[39;00m)\n\u001B[1;32m----> 6\u001B[0m \u001B[43mplt\u001B[49m\u001B[38;5;241;43m.\u001B[39;49m\u001B[43msavefig\u001B[49m\u001B[43m(\u001B[49m\u001B[43mdirectory\u001B[49m\u001B[43m \u001B[49m\u001B[38;5;241;43m+\u001B[39;49m\u001B[43m \u001B[49m\u001B[38;5;124;43m\"\u001B[39;49m\u001B[38;5;124;43mpascal-fractal-big.pdf\u001B[39;49m\u001B[38;5;124;43m\"\u001B[39;49m\u001B[43m,\u001B[49m\u001B[43m \u001B[49m\u001B[43mbbox_inches\u001B[49m\u001B[38;5;241;43m=\u001B[39;49m\u001B[38;5;124;43m\"\u001B[39;49m\u001B[38;5;124;43mtight\u001B[39;49m\u001B[38;5;124;43m\"\u001B[39;49m\u001B[43m,\u001B[49m\u001B[43m \u001B[49m\u001B[43mdpi\u001B[49m\u001B[38;5;241;43m=\u001B[39;49m\u001B[38;5;241;43m1000\u001B[39;49m\u001B[43m)\u001B[49m\n",
      "File \u001B[1;32mE:\\Anaconda\\lib\\site-packages\\matplotlib\\pyplot.py:958\u001B[0m, in \u001B[0;36msavefig\u001B[1;34m(*args, **kwargs)\u001B[0m\n\u001B[0;32m    955\u001B[0m \u001B[38;5;129m@_copy_docstring_and_deprecators\u001B[39m(Figure\u001B[38;5;241m.\u001B[39msavefig)\n\u001B[0;32m    956\u001B[0m \u001B[38;5;28;01mdef\u001B[39;00m \u001B[38;5;21msavefig\u001B[39m(\u001B[38;5;241m*\u001B[39margs, \u001B[38;5;241m*\u001B[39m\u001B[38;5;241m*\u001B[39mkwargs):\n\u001B[0;32m    957\u001B[0m     fig \u001B[38;5;241m=\u001B[39m gcf()\n\u001B[1;32m--> 958\u001B[0m     res \u001B[38;5;241m=\u001B[39m fig\u001B[38;5;241m.\u001B[39msavefig(\u001B[38;5;241m*\u001B[39margs, \u001B[38;5;241m*\u001B[39m\u001B[38;5;241m*\u001B[39mkwargs)\n\u001B[0;32m    959\u001B[0m     fig\u001B[38;5;241m.\u001B[39mcanvas\u001B[38;5;241m.\u001B[39mdraw_idle()   \u001B[38;5;66;03m# need this if 'transparent=True' to reset colors\u001B[39;00m\n\u001B[0;32m    960\u001B[0m     \u001B[38;5;28;01mreturn\u001B[39;00m res\n",
      "File \u001B[1;32mE:\\Anaconda\\lib\\site-packages\\matplotlib\\figure.py:3019\u001B[0m, in \u001B[0;36mFigure.savefig\u001B[1;34m(self, fname, transparent, **kwargs)\u001B[0m\n\u001B[0;32m   3015\u001B[0m     \u001B[38;5;28;01mfor\u001B[39;00m ax \u001B[38;5;129;01min\u001B[39;00m \u001B[38;5;28mself\u001B[39m\u001B[38;5;241m.\u001B[39maxes:\n\u001B[0;32m   3016\u001B[0m         stack\u001B[38;5;241m.\u001B[39menter_context(\n\u001B[0;32m   3017\u001B[0m             ax\u001B[38;5;241m.\u001B[39mpatch\u001B[38;5;241m.\u001B[39m_cm_set(facecolor\u001B[38;5;241m=\u001B[39m\u001B[38;5;124m'\u001B[39m\u001B[38;5;124mnone\u001B[39m\u001B[38;5;124m'\u001B[39m, edgecolor\u001B[38;5;241m=\u001B[39m\u001B[38;5;124m'\u001B[39m\u001B[38;5;124mnone\u001B[39m\u001B[38;5;124m'\u001B[39m))\n\u001B[1;32m-> 3019\u001B[0m \u001B[38;5;28mself\u001B[39m\u001B[38;5;241m.\u001B[39mcanvas\u001B[38;5;241m.\u001B[39mprint_figure(fname, \u001B[38;5;241m*\u001B[39m\u001B[38;5;241m*\u001B[39mkwargs)\n",
      "File \u001B[1;32mE:\\Anaconda\\lib\\site-packages\\matplotlib\\backend_bases.py:2319\u001B[0m, in \u001B[0;36mFigureCanvasBase.print_figure\u001B[1;34m(self, filename, dpi, facecolor, edgecolor, orientation, format, bbox_inches, pad_inches, bbox_extra_artists, backend, **kwargs)\u001B[0m\n\u001B[0;32m   2315\u001B[0m \u001B[38;5;28;01mtry\u001B[39;00m:\n\u001B[0;32m   2316\u001B[0m     \u001B[38;5;66;03m# _get_renderer may change the figure dpi (as vector formats\u001B[39;00m\n\u001B[0;32m   2317\u001B[0m     \u001B[38;5;66;03m# force the figure dpi to 72), so we need to set it again here.\u001B[39;00m\n\u001B[0;32m   2318\u001B[0m     \u001B[38;5;28;01mwith\u001B[39;00m cbook\u001B[38;5;241m.\u001B[39m_setattr_cm(\u001B[38;5;28mself\u001B[39m\u001B[38;5;241m.\u001B[39mfigure, dpi\u001B[38;5;241m=\u001B[39mdpi):\n\u001B[1;32m-> 2319\u001B[0m         result \u001B[38;5;241m=\u001B[39m print_method(\n\u001B[0;32m   2320\u001B[0m             filename,\n\u001B[0;32m   2321\u001B[0m             facecolor\u001B[38;5;241m=\u001B[39mfacecolor,\n\u001B[0;32m   2322\u001B[0m             edgecolor\u001B[38;5;241m=\u001B[39medgecolor,\n\u001B[0;32m   2323\u001B[0m             orientation\u001B[38;5;241m=\u001B[39morientation,\n\u001B[0;32m   2324\u001B[0m             bbox_inches_restore\u001B[38;5;241m=\u001B[39m_bbox_inches_restore,\n\u001B[0;32m   2325\u001B[0m             \u001B[38;5;241m*\u001B[39m\u001B[38;5;241m*\u001B[39mkwargs)\n\u001B[0;32m   2326\u001B[0m \u001B[38;5;28;01mfinally\u001B[39;00m:\n\u001B[0;32m   2327\u001B[0m     \u001B[38;5;28;01mif\u001B[39;00m bbox_inches \u001B[38;5;129;01mand\u001B[39;00m restore_bbox:\n",
      "File \u001B[1;32mE:\\Anaconda\\lib\\site-packages\\matplotlib\\backend_bases.py:1648\u001B[0m, in \u001B[0;36m_check_savefig_extra_args.<locals>.wrapper\u001B[1;34m(*args, **kwargs)\u001B[0m\n\u001B[0;32m   1640\u001B[0m     _api\u001B[38;5;241m.\u001B[39mwarn_deprecated(\n\u001B[0;32m   1641\u001B[0m         \u001B[38;5;124m'\u001B[39m\u001B[38;5;124m3.3\u001B[39m\u001B[38;5;124m'\u001B[39m, name\u001B[38;5;241m=\u001B[39mname, removal\u001B[38;5;241m=\u001B[39m\u001B[38;5;124m'\u001B[39m\u001B[38;5;124m3.6\u001B[39m\u001B[38;5;124m'\u001B[39m,\n\u001B[0;32m   1642\u001B[0m         message\u001B[38;5;241m=\u001B[39m\u001B[38;5;124m'\u001B[39m\u001B[38;5;132;01m%(name)s\u001B[39;00m\u001B[38;5;124m() got unexpected keyword argument \u001B[39m\u001B[38;5;124m\"\u001B[39m\u001B[38;5;124m'\u001B[39m\n\u001B[0;32m   1643\u001B[0m                 \u001B[38;5;241m+\u001B[39m arg \u001B[38;5;241m+\u001B[39m \u001B[38;5;124m'\u001B[39m\u001B[38;5;124m\"\u001B[39m\u001B[38;5;124m which is no longer supported as of \u001B[39m\u001B[38;5;124m'\u001B[39m\n\u001B[0;32m   1644\u001B[0m                 \u001B[38;5;124m'\u001B[39m\u001B[38;5;132;01m%(since)s\u001B[39;00m\u001B[38;5;124m and will become an error \u001B[39m\u001B[38;5;124m'\u001B[39m\n\u001B[0;32m   1645\u001B[0m                 \u001B[38;5;124m'\u001B[39m\u001B[38;5;132;01m%(removal)s\u001B[39;00m\u001B[38;5;124m'\u001B[39m)\n\u001B[0;32m   1646\u001B[0m     kwargs\u001B[38;5;241m.\u001B[39mpop(arg)\n\u001B[1;32m-> 1648\u001B[0m \u001B[38;5;28;01mreturn\u001B[39;00m func(\u001B[38;5;241m*\u001B[39margs, \u001B[38;5;241m*\u001B[39m\u001B[38;5;241m*\u001B[39mkwargs)\n",
      "File \u001B[1;32mE:\\Anaconda\\lib\\site-packages\\matplotlib\\_api\\deprecation.py:386\u001B[0m, in \u001B[0;36mdelete_parameter.<locals>.wrapper\u001B[1;34m(*inner_args, **inner_kwargs)\u001B[0m\n\u001B[0;32m    381\u001B[0m \u001B[38;5;129m@functools\u001B[39m\u001B[38;5;241m.\u001B[39mwraps(func)\n\u001B[0;32m    382\u001B[0m \u001B[38;5;28;01mdef\u001B[39;00m \u001B[38;5;21mwrapper\u001B[39m(\u001B[38;5;241m*\u001B[39minner_args, \u001B[38;5;241m*\u001B[39m\u001B[38;5;241m*\u001B[39minner_kwargs):\n\u001B[0;32m    383\u001B[0m     \u001B[38;5;28;01mif\u001B[39;00m \u001B[38;5;28mlen\u001B[39m(inner_args) \u001B[38;5;241m<\u001B[39m\u001B[38;5;241m=\u001B[39m name_idx \u001B[38;5;129;01mand\u001B[39;00m name \u001B[38;5;129;01mnot\u001B[39;00m \u001B[38;5;129;01min\u001B[39;00m inner_kwargs:\n\u001B[0;32m    384\u001B[0m         \u001B[38;5;66;03m# Early return in the simple, non-deprecated case (much faster than\u001B[39;00m\n\u001B[0;32m    385\u001B[0m         \u001B[38;5;66;03m# calling bind()).\u001B[39;00m\n\u001B[1;32m--> 386\u001B[0m         \u001B[38;5;28;01mreturn\u001B[39;00m func(\u001B[38;5;241m*\u001B[39minner_args, \u001B[38;5;241m*\u001B[39m\u001B[38;5;241m*\u001B[39minner_kwargs)\n\u001B[0;32m    387\u001B[0m     arguments \u001B[38;5;241m=\u001B[39m signature\u001B[38;5;241m.\u001B[39mbind(\u001B[38;5;241m*\u001B[39minner_args, \u001B[38;5;241m*\u001B[39m\u001B[38;5;241m*\u001B[39minner_kwargs)\u001B[38;5;241m.\u001B[39marguments\n\u001B[0;32m    388\u001B[0m     \u001B[38;5;28;01mif\u001B[39;00m is_varargs \u001B[38;5;129;01mand\u001B[39;00m arguments\u001B[38;5;241m.\u001B[39mget(name):\n",
      "File \u001B[1;32mE:\\Anaconda\\lib\\site-packages\\matplotlib\\backends\\backend_pdf.py:2778\u001B[0m, in \u001B[0;36mFigureCanvasPdf.print_pdf\u001B[1;34m(self, filename, dpi, bbox_inches_restore, metadata)\u001B[0m\n\u001B[0;32m   2776\u001B[0m     file \u001B[38;5;241m=\u001B[39m filename\u001B[38;5;241m.\u001B[39m_file\n\u001B[0;32m   2777\u001B[0m \u001B[38;5;28;01melse\u001B[39;00m:\n\u001B[1;32m-> 2778\u001B[0m     file \u001B[38;5;241m=\u001B[39m \u001B[43mPdfFile\u001B[49m\u001B[43m(\u001B[49m\u001B[43mfilename\u001B[49m\u001B[43m,\u001B[49m\u001B[43m \u001B[49m\u001B[43mmetadata\u001B[49m\u001B[38;5;241;43m=\u001B[39;49m\u001B[43mmetadata\u001B[49m\u001B[43m)\u001B[49m\n\u001B[0;32m   2779\u001B[0m \u001B[38;5;28;01mtry\u001B[39;00m:\n\u001B[0;32m   2780\u001B[0m     file\u001B[38;5;241m.\u001B[39mnewPage(width, height)\n",
      "File \u001B[1;32mE:\\Anaconda\\lib\\site-packages\\matplotlib\\backends\\backend_pdf.py:654\u001B[0m, in \u001B[0;36mPdfFile.__init__\u001B[1;34m(self, filename, metadata)\u001B[0m\n\u001B[0;32m    652\u001B[0m \u001B[38;5;28mself\u001B[39m\u001B[38;5;241m.\u001B[39moriginal_file_like \u001B[38;5;241m=\u001B[39m \u001B[38;5;28;01mNone\u001B[39;00m\n\u001B[0;32m    653\u001B[0m \u001B[38;5;28mself\u001B[39m\u001B[38;5;241m.\u001B[39mtell_base \u001B[38;5;241m=\u001B[39m \u001B[38;5;241m0\u001B[39m\n\u001B[1;32m--> 654\u001B[0m fh, opened \u001B[38;5;241m=\u001B[39m \u001B[43mcbook\u001B[49m\u001B[38;5;241;43m.\u001B[39;49m\u001B[43mto_filehandle\u001B[49m\u001B[43m(\u001B[49m\u001B[43mfilename\u001B[49m\u001B[43m,\u001B[49m\u001B[43m \u001B[49m\u001B[38;5;124;43m\"\u001B[39;49m\u001B[38;5;124;43mwb\u001B[39;49m\u001B[38;5;124;43m\"\u001B[39;49m\u001B[43m,\u001B[49m\u001B[43m \u001B[49m\u001B[43mreturn_opened\u001B[49m\u001B[38;5;241;43m=\u001B[39;49m\u001B[38;5;28;43;01mTrue\u001B[39;49;00m\u001B[43m)\u001B[49m\n\u001B[0;32m    655\u001B[0m \u001B[38;5;28;01mif\u001B[39;00m \u001B[38;5;129;01mnot\u001B[39;00m opened:\n\u001B[0;32m    656\u001B[0m     \u001B[38;5;28;01mtry\u001B[39;00m:\n",
      "File \u001B[1;32mE:\\Anaconda\\lib\\site-packages\\matplotlib\\cbook\\__init__.py:451\u001B[0m, in \u001B[0;36mto_filehandle\u001B[1;34m(fname, flag, return_opened, encoding)\u001B[0m\n\u001B[0;32m    449\u001B[0m         fh \u001B[38;5;241m=\u001B[39m bz2\u001B[38;5;241m.\u001B[39mBZ2File(fname, flag)\n\u001B[0;32m    450\u001B[0m     \u001B[38;5;28;01melse\u001B[39;00m:\n\u001B[1;32m--> 451\u001B[0m         fh \u001B[38;5;241m=\u001B[39m \u001B[38;5;28;43mopen\u001B[39;49m\u001B[43m(\u001B[49m\u001B[43mfname\u001B[49m\u001B[43m,\u001B[49m\u001B[43m \u001B[49m\u001B[43mflag\u001B[49m\u001B[43m,\u001B[49m\u001B[43m \u001B[49m\u001B[43mencoding\u001B[49m\u001B[38;5;241;43m=\u001B[39;49m\u001B[43mencoding\u001B[49m\u001B[43m)\u001B[49m\n\u001B[0;32m    452\u001B[0m     opened \u001B[38;5;241m=\u001B[39m \u001B[38;5;28;01mTrue\u001B[39;00m\n\u001B[0;32m    453\u001B[0m \u001B[38;5;28;01melif\u001B[39;00m \u001B[38;5;28mhasattr\u001B[39m(fname, \u001B[38;5;124m'\u001B[39m\u001B[38;5;124mseek\u001B[39m\u001B[38;5;124m'\u001B[39m):\n",
      "\u001B[1;31mFileNotFoundError\u001B[0m: [Errno 2] No such file or directory: '../fig/pascal-fractal-big.pdf'"
     ]
    },
    {
     "data": {
      "text/plain": "<Figure size 288x249.415 with 1 Axes>",
      "image/png": "[encoded data removed]"
     },
     "metadata": {
      "needs_background": "light"
     },
     "output_type": "display_data"
    }
   ],
   "source": [
    "fig, ax = plt.subplots(figsize=figsize)\n",
    "ax.set_axis_off()\n",
    "\n",
    "draw_pascal_fractal(ax, 256, draw_numbers=False)\n",
    "\n",
    "plt.savefig(directory + \"pascal-fractal-big.pdf\", bbox_inches=\"tight\", dpi=1000)"
   ],
   "metadata": {
    "collapsed": false
   }
  },
  {
   "cell_type": "code",
   "execution_count": 53,
   "outputs": [],
   "source": [
    "def pascalTriangle(size: int):\n",
    "    nums = np.zeros((size, size))\n",
    "    nums[:, 0] = 1\n",
    "    for i in range(1, size):\n",
    "        for j in range(1, size):\n",
    "            nums[i, j] = nums[i - 1, j - 1] + nums[i - 1, j]\n",
    "    return nums"
   ],
   "metadata": {
    "collapsed": false
   }
  },
  {
   "cell_type": "code",
   "execution_count": 123,
   "outputs": [],
   "source": [
    "def getCoordination(i,j,l):\n",
    "    xO = l*(j-i/2)\n",
    "    yO = -l*i\n",
    "    x1,x2 = xO + l/2 , xO -l/2\n",
    "    y1,y2 = yO + l/2 , yO -l/2\n",
    "    return [x1,x2,x2,x1],[y1,y1,y2,y2],xO,yO\n",
    "\n",
    "\n",
    "def getPolygon(i,j,l,color,text):\n",
    "    x,y,xt,yt = getCoordination(i,j,l)\n",
    "    polygon = go.Scatter(\n",
    "    x=x,\n",
    "    y=y,\n",
    "    showlegend=False,\n",
    "    mode=\"lines\",\n",
    "    fill=\"toself\",\n",
    "    line=dict(color=color, width=2),)\n",
    "\n",
    "    textObject = dict(font=dict(color='black',size=int(l)),\n",
    "                                        x=xt,\n",
    "                                        y=yt,\n",
    "                                        showarrow=False,\n",
    "                                        text=int(text),\n",
    "                                        textangle=0,\n",
    "                                        xanchor='center'\n",
    "                                        )\n",
    "\n",
    "    return polygon,textObject\n",
    "\n"
   ],
   "metadata": {
    "collapsed": false
   }
  },
  {
   "cell_type": "code",
   "execution_count": 124,
   "outputs": [],
   "source": [
    "def drawPascal(size:int,length:float):\n",
    "    nums = pascalTriangle(size)\n",
    "    polygons = []\n",
    "    textObjects = []\n",
    "    for i in range(size):\n",
    "        for j in range(i+1):\n",
    "            color = \"blue\" if nums[i][j]%2==0 else \"red\"\n",
    "            polygon ,textObject = getPolygon(i,j,length,color,nums[i][j])\n",
    "            polygons.append(polygon)\n",
    "            textObjects.append(textObject)\n",
    "\n",
    "    fig = go.Figure(polygons)\n",
    "\n",
    "    for obj in textObjects:\n",
    "        fig.add_annotation(obj)\n",
    "\n",
    "    fig.show()\n",
    "    #fig.write_image(name+\".png\")"
   ],
   "metadata": {
    "collapsed": false
   }
  },
  {
   "cell_type": "code",
   "execution_count": 85,
   "outputs": [],
   "source": [],
   "metadata": {
    "collapsed": false
   }
  },
  {
   "cell_type": "code",
   "execution_count": 85,
   "outputs": [],
   "source": [],
   "metadata": {
    "collapsed": false
   }
  },
  {
   "cell_type": "code",
   "execution_count": null,
   "outputs": [],
   "source": [],
   "metadata": {
    "collapsed": false
   }
  },
  {
   "cell_type": "code",
   "execution_count": null,
   "outputs": [],
   "source": [],
   "metadata": {
    "collapsed": false
   }
  },
  {
   "cell_type": "code",
   "execution_count": 125,
   "outputs": [
    {
     "data": {
      "application/vnd.plotly.v1+json": {
       "data": [
        {
         "fill": "toself",
         "line": {
          "color": "red",
          "width": 2
         },
         "mode": "lines",
         "showlegend": false,
         "x": [
          5.0,
          -5.0,
          -5.0,
          5.0
         ],
         "y": [
          5.0,
          5.0,
          -5.0,
          -5.0
         ],
         "type": "scatter"
        },
        {
         "fill": "toself",
         "line": {
          "color": "red",
          "width": 2
         },
         "mode": "lines",
         "showlegend": false,
         "x": [
          0.0,
          -10.0,
          -10.0,
          0.0
         ],
         "y": [
          -5.0,
          -5.0,
          -15.0,
          -15.0
         ],
         "type": "scatter"
        },
        {
         "fill": "toself",
         "line": {
          "color": "red",
          "width": 2
         },
         "mode": "lines",
         "showlegend": false,
         "x": [
          10.0,
          0.0,
          0.0,
          10.0
         ],
         "y": [
          -5.0,
          -5.0,
          -15.0,
          -15.0
         ],
         "type": "scatter"
        },
        {
         "fill": "toself",
         "line": {
          "color": "red",
          "width": 2
         },
         "mode": "lines",
         "showlegend": false,
         "x": [
          -5.0,
          -15.0,
          -15.0,
          -5.0
         ],
         "y": [
          -15.0,
          -15.0,
          -25.0,
          -25.0
         ],
         "type": "scatter"
        },
        {
         "fill": "toself",
         "line": {
          "color": "blue",
          "width": 2
         },
         "mode": "lines",
         "showlegend": false,
         "x": [
          5.0,
          -5.0,
          -5.0,
          5.0
         ],
         "y": [
          -15.0,
          -15.0,
          -25.0,
          -25.0
         ],
         "type": "scatter"
        },
        {
         "fill": "toself",
         "line": {
          "color": "red",
          "width": 2
         },
         "mode": "lines",
         "showlegend": false,
         "x": [
          15.0,
          5.0,
          5.0,
          15.0
         ],
         "y": [
          -15.0,
          -15.0,
          -25.0,
          -25.0
         ],
         "type": "scatter"
        },
        {
         "fill": "toself",
         "line": {
          "color": "red",
          "width": 2
         },
         "mode": "lines",
         "showlegend": false,
         "x": [
          -10.0,
          -20.0,
          -20.0,
          -10.0
         ],
         "y": [
          -25.0,
          -25.0,
          -35.0,
          -35.0
         ],
         "type": "scatter"
        },
        {
         "fill": "toself",
         "line": {
          "color": "red",
          "width": 2
         },
         "mode": "lines",
         "showlegend": false,
         "x": [
          0.0,
          -10.0,
          -10.0,
          0.0
         ],
         "y": [
          -25.0,
          -25.0,
          -35.0,
          -35.0
         ],
         "type": "scatter"
        },
        {
         "fill": "toself",
         "line": {
          "color": "red",
          "width": 2
         },
         "mode": "lines",
         "showlegend": false,
         "x": [
          10.0,
          0.0,
          0.0,
          10.0
         ],
         "y": [
          -25.0,
          -25.0,
          -35.0,
          -35.0
         ],
         "type": "scatter"
        },
        {
         "fill": "toself",
         "line": {
          "color": "red",
          "width": 2
         },
         "mode": "lines",
         "showlegend": false,
         "x": [
          20.0,
          10.0,
          10.0,
          20.0
         ],
         "y": [
          -25.0,
          -25.0,
          -35.0,
          -35.0
         ],
         "type": "scatter"
        },
        {
         "fill": "toself",
         "line": {
          "color": "red",
          "width": 2
         },
         "mode": "lines",
         "showlegend": false,
         "x": [
          -15.0,
          -25.0,
          -25.0,
          -15.0
         ],
         "y": [
          -35.0,
          -35.0,
          -45.0,
          -45.0
         ],
         "type": "scatter"
        },
        {
         "fill": "toself",
         "line": {
          "color": "blue",
          "width": 2
         },
         "mode": "lines",
         "showlegend": false,
         "x": [
          -5.0,
          -15.0,
          -15.0,
          -5.0
         ],
         "y": [
          -35.0,
          -35.0,
          -45.0,
          -45.0
         ],
         "type": "scatter"
        },
        {
         "fill": "toself",
         "line": {
          "color": "blue",
          "width": 2
         },
         "mode": "lines",
         "showlegend": false,
         "x": [
          5.0,
          -5.0,
          -5.0,
          5.0
         ],
         "y": [
          -35.0,
          -35.0,
          -45.0,
          -45.0
         ],
         "type": "scatter"
        },
        {
         "fill": "toself",
         "line": {
          "color": "blue",
          "width": 2
         },
         "mode": "lines",
         "showlegend": false,
         "x": [
          15.0,
          5.0,
          5.0,
          15.0
         ],
         "y": [
          -35.0,
          -35.0,
          -45.0,
          -45.0
         ],
         "type": "scatter"
        },
        {
         "fill": "toself",
         "line": {
          "color": "red",
          "width": 2
         },
         "mode": "lines",
         "showlegend": false,
         "x": [
          25.0,
          15.0,
          15.0,
          25.0
         ],
         "y": [
          -35.0,
          -35.0,
          -45.0,
          -45.0
         ],
         "type": "scatter"
        },
        {
         "fill": "toself",
         "line": {
          "color": "red",
          "width": 2
         },
         "mode": "lines",
         "showlegend": false,
         "x": [
          -20.0,
          -30.0,
          -30.0,
          -20.0
         ],
         "y": [
          -45.0,
          -45.0,
          -55.0,
          -55.0
         ],
         "type": "scatter"
        },
        {
         "fill": "toself",
         "line": {
          "color": "red",
          "width": 2
         },
         "mode": "lines",
         "showlegend": false,
         "x": [
          -10.0,
          -20.0,
          -20.0,
          -10.0
         ],
         "y": [
          -45.0,
          -45.0,
          -55.0,
          -55.0
         ],
         "type": "scatter"
        },
        {
         "fill": "toself",
         "line": {
          "color": "blue",
          "width": 2
         },
         "mode": "lines",
         "showlegend": false,
         "x": [
          0.0,
          -10.0,
          -10.0,
          0.0
         ],
         "y": [
          -45.0,
          -45.0,
          -55.0,
          -55.0
         ],
         "type": "scatter"
        },
        {
         "fill": "toself",
         "line": {
          "color": "blue",
          "width": 2
         },
         "mode": "lines",
         "showlegend": false,
         "x": [
          10.0,
          0.0,
          0.0,
          10.0
         ],
         "y": [
          -45.0,
          -45.0,
          -55.0,
          -55.0
         ],
         "type": "scatter"
        },
        {
         "fill": "toself",
         "line": {
          "color": "red",
          "width": 2
         },
         "mode": "lines",
         "showlegend": false,
         "x": [
          20.0,
          10.0,
          10.0,
          20.0
         ],
         "y": [
          -45.0,
          -45.0,
          -55.0,
          -55.0
         ],
         "type": "scatter"
        },
        {
         "fill": "toself",
         "line": {
          "color": "red",
          "width": 2
         },
         "mode": "lines",
         "showlegend": false,
         "x": [
          30.0,
          20.0,
          20.0,
          30.0
         ],
         "y": [
          -45.0,
          -45.0,
          -55.0,
          -55.0
         ],
         "type": "scatter"
        },
        {
         "fill": "toself",
         "line": {
          "color": "red",
          "width": 2
         },
         "mode": "lines",
         "showlegend": false,
         "x": [
          -25.0,
          -35.0,
          -35.0,
          -25.0
         ],
         "y": [
          -55.0,
          -55.0,
          -65.0,
          -65.0
         ],
         "type": "scatter"
        },
        {
         "fill": "toself",
         "line": {
          "color": "blue",
          "width": 2
         },
         "mode": "lines",
         "showlegend": false,
         "x": [
          -15.0,
          -25.0,
          -25.0,
          -15.0
         ],
         "y": [
          -55.0,
          -55.0,
          -65.0,
          -65.0
         ],
         "type": "scatter"
        },
        {
         "fill": "toself",
         "line": {
          "color": "red",
          "width": 2
         },
         "mode": "lines",
         "showlegend": false,
         "x": [
          -5.0,
          -15.0,
          -15.0,
          -5.0
         ],
         "y": [
          -55.0,
          -55.0,
          -65.0,
          -65.0
         ],
         "type": "scatter"
        },
        {
         "fill": "toself",
         "line": {
          "color": "blue",
          "width": 2
         },
         "mode": "lines",
         "showlegend": false,
         "x": [
          5.0,
          -5.0,
          -5.0,
          5.0
         ],
         "y": [
          -55.0,
          -55.0,
          -65.0,
          -65.0
         ],
         "type": "scatter"
        },
        {
         "fill": "toself",
         "line": {
          "color": "red",
          "width": 2
         },
         "mode": "lines",
         "showlegend": false,
         "x": [
          15.0,
          5.0,
          5.0,
          15.0
         ],
         "y": [
          -55.0,
          -55.0,
          -65.0,
          -65.0
         ],
         "type": "scatter"
        },
        {
         "fill": "toself",
         "line": {
          "color": "blue",
          "width": 2
         },
         "mode": "lines",
         "showlegend": false,
         "x": [
          25.0,
          15.0,
          15.0,
          25.0
         ],
         "y": [
          -55.0,
          -55.0,
          -65.0,
          -65.0
         ],
         "type": "scatter"
        },
        {
         "fill": "toself",
         "line": {
          "color": "red",
          "width": 2
         },
         "mode": "lines",
         "showlegend": false,
         "x": [
          35.0,
          25.0,
          25.0,
          35.0
         ],
         "y": [
          -55.0,
          -55.0,
          -65.0,
          -65.0
         ],
         "type": "scatter"
        },
        {
         "fill": "toself",
         "line": {
          "color": "red",
          "width": 2
         },
         "mode": "lines",
         "showlegend": false,
         "x": [
          -30.0,
          -40.0,
          -40.0,
          -30.0
         ],
         "y": [
          -65.0,
          -65.0,
          -75.0,
          -75.0
         ],
         "type": "scatter"
        },
        {
         "fill": "toself",
         "line": {
          "color": "red",
          "width": 2
         },
         "mode": "lines",
         "showlegend": false,
         "x": [
          -20.0,
          -30.0,
          -30.0,
          -20.0
         ],
         "y": [
          -65.0,
          -65.0,
          -75.0,
          -75.0
         ],
         "type": "scatter"
        },
        {
         "fill": "toself",
         "line": {
          "color": "red",
          "width": 2
         },
         "mode": "lines",
         "showlegend": false,
         "x": [
          -10.0,
          -20.0,
          -20.0,
          -10.0
         ],
         "y": [
          -65.0,
          -65.0,
          -75.0,
          -75.0
         ],
         "type": "scatter"
        },
        {
         "fill": "toself",
         "line": {
          "color": "red",
          "width": 2
         },
         "mode": "lines",
         "showlegend": false,
         "x": [
          0.0,
          -10.0,
          -10.0,
          0.0
         ],
         "y": [
          -65.0,
          -65.0,
          -75.0,
          -75.0
         ],
         "type": "scatter"
        },
        {
         "fill": "toself",
         "line": {
          "color": "red",
          "width": 2
         },
         "mode": "lines",
         "showlegend": false,
         "x": [
          10.0,
          0.0,
          0.0,
          10.0
         ],
         "y": [
          -65.0,
          -65.0,
          -75.0,
          -75.0
         ],
         "type": "scatter"
        },
        {
         "fill": "toself",
         "line": {
          "color": "red",
          "width": 2
         },
         "mode": "lines",
         "showlegend": false,
         "x": [
          20.0,
          10.0,
          10.0,
          20.0
         ],
         "y": [
          -65.0,
          -65.0,
          -75.0,
          -75.0
         ],
         "type": "scatter"
        },
        {
         "fill": "toself",
         "line": {
          "color": "red",
          "width": 2
         },
         "mode": "lines",
         "showlegend": false,
         "x": [
          30.0,
          20.0,
          20.0,
          30.0
         ],
         "y": [
          -65.0,
          -65.0,
          -75.0,
          -75.0
         ],
         "type": "scatter"
        },
        {
         "fill": "toself",
         "line": {
          "color": "red",
          "width": 2
         },
         "mode": "lines",
         "showlegend": false,
         "x": [
          40.0,
          30.0,
          30.0,
          40.0
         ],
         "y": [
          -65.0,
          -65.0,
          -75.0,
          -75.0
         ],
         "type": "scatter"
        },
        {
         "fill": "toself",
         "line": {
          "color": "red",
          "width": 2
         },
         "mode": "lines",
         "showlegend": false,
         "x": [
          -35.0,
          -45.0,
          -45.0,
          -35.0
         ],
         "y": [
          -75.0,
          -75.0,
          -85.0,
          -85.0
         ],
         "type": "scatter"
        },
        {
         "fill": "toself",
         "line": {
          "color": "blue",
          "width": 2
         },
         "mode": "lines",
         "showlegend": false,
         "x": [
          -25.0,
          -35.0,
          -35.0,
          -25.0
         ],
         "y": [
          -75.0,
          -75.0,
          -85.0,
          -85.0
         ],
         "type": "scatter"
        },
        {
         "fill": "toself",
         "line": {
          "color": "blue",
          "width": 2
         },
         "mode": "lines",
         "showlegend": false,
         "x": [
          -15.0,
          -25.0,
          -25.0,
          -15.0
         ],
         "y": [
          -75.0,
          -75.0,
          -85.0,
          -85.0
         ],
         "type": "scatter"
        },
        {
         "fill": "toself",
         "line": {
          "color": "blue",
          "width": 2
         },
         "mode": "lines",
         "showlegend": false,
         "x": [
          -5.0,
          -15.0,
          -15.0,
          -5.0
         ],
         "y": [
          -75.0,
          -75.0,
          -85.0,
          -85.0
         ],
         "type": "scatter"
        },
        {
         "fill": "toself",
         "line": {
          "color": "blue",
          "width": 2
         },
         "mode": "lines",
         "showlegend": false,
         "x": [
          5.0,
          -5.0,
          -5.0,
          5.0
         ],
         "y": [
          -75.0,
          -75.0,
          -85.0,
          -85.0
         ],
         "type": "scatter"
        },
        {
         "fill": "toself",
         "line": {
          "color": "blue",
          "width": 2
         },
         "mode": "lines",
         "showlegend": false,
         "x": [
          15.0,
          5.0,
          5.0,
          15.0
         ],
         "y": [
          -75.0,
          -75.0,
          -85.0,
          -85.0
         ],
         "type": "scatter"
        },
        {
         "fill": "toself",
         "line": {
          "color": "blue",
          "width": 2
         },
         "mode": "lines",
         "showlegend": false,
         "x": [
          25.0,
          15.0,
          15.0,
          25.0
         ],
         "y": [
          -75.0,
          -75.0,
          -85.0,
          -85.0
         ],
         "type": "scatter"
        },
        {
         "fill": "toself",
         "line": {
          "color": "blue",
          "width": 2
         },
         "mode": "lines",
         "showlegend": false,
         "x": [
          35.0,
          25.0,
          25.0,
          35.0
         ],
         "y": [
          -75.0,
          -75.0,
          -85.0,
          -85.0
         ],
         "type": "scatter"
        },
        {
         "fill": "toself",
         "line": {
          "color": "red",
          "width": 2
         },
         "mode": "lines",
         "showlegend": false,
         "x": [
          45.0,
          35.0,
          35.0,
          45.0
         ],
         "y": [
          -75.0,
          -75.0,
          -85.0,
          -85.0
         ],
         "type": "scatter"
        },
        {
         "fill": "toself",
         "line": {
          "color": "red",
          "width": 2
         },
         "mode": "lines",
         "showlegend": false,
         "x": [
          -40.0,
          -50.0,
          -50.0,
          -40.0
         ],
         "y": [
          -85.0,
          -85.0,
          -95.0,
          -95.0
         ],
         "type": "scatter"
        },
        {
         "fill": "toself",
         "line": {
          "color": "red",
          "width": 2
         },
         "mode": "lines",
         "showlegend": false,
         "x": [
          -30.0,
          -40.0,
          -40.0,
          -30.0
         ],
         "y": [
          -85.0,
          -85.0,
          -95.0,
          -95.0
         ],
         "type": "scatter"
        },
        {
         "fill": "toself",
         "line": {
          "color": "blue",
          "width": 2
         },
         "mode": "lines",
         "showlegend": false,
         "x": [
          -20.0,
          -30.0,
          -30.0,
          -20.0
         ],
         "y": [
          -85.0,
          -85.0,
          -95.0,
          -95.0
         ],
         "type": "scatter"
        },
        {
         "fill": "toself",
         "line": {
          "color": "blue",
          "width": 2
         },
         "mode": "lines",
         "showlegend": false,
         "x": [
          -10.0,
          -20.0,
          -20.0,
          -10.0
         ],
         "y": [
          -85.0,
          -85.0,
          -95.0,
          -95.0
         ],
         "type": "scatter"
        },
        {
         "fill": "toself",
         "line": {
          "color": "blue",
          "width": 2
         },
         "mode": "lines",
         "showlegend": false,
         "x": [
          0.0,
          -10.0,
          -10.0,
          0.0
         ],
         "y": [
          -85.0,
          -85.0,
          -95.0,
          -95.0
         ],
         "type": "scatter"
        },
        {
         "fill": "toself",
         "line": {
          "color": "blue",
          "width": 2
         },
         "mode": "lines",
         "showlegend": false,
         "x": [
          10.0,
          0.0,
          0.0,
          10.0
         ],
         "y": [
          -85.0,
          -85.0,
          -95.0,
          -95.0
         ],
         "type": "scatter"
        },
        {
         "fill": "toself",
         "line": {
          "color": "blue",
          "width": 2
         },
         "mode": "lines",
         "showlegend": false,
         "x": [
          20.0,
          10.0,
          10.0,
          20.0
         ],
         "y": [
          -85.0,
          -85.0,
          -95.0,
          -95.0
         ],
         "type": "scatter"
        },
        {
         "fill": "toself",
         "line": {
          "color": "blue",
          "width": 2
         },
         "mode": "lines",
         "showlegend": false,
         "x": [
          30.0,
          20.0,
          20.0,
          30.0
         ],
         "y": [
          -85.0,
          -85.0,
          -95.0,
          -95.0
         ],
         "type": "scatter"
        },
        {
         "fill": "toself",
         "line": {
          "color": "red",
          "width": 2
         },
         "mode": "lines",
         "showlegend": false,
         "x": [
          40.0,
          30.0,
          30.0,
          40.0
         ],
         "y": [
          -85.0,
          -85.0,
          -95.0,
          -95.0
         ],
         "type": "scatter"
        },
        {
         "fill": "toself",
         "line": {
          "color": "red",
          "width": 2
         },
         "mode": "lines",
         "showlegend": false,
         "x": [
          50.0,
          40.0,
          40.0,
          50.0
         ],
         "y": [
          -85.0,
          -85.0,
          -95.0,
          -95.0
         ],
         "type": "scatter"
        },
        {
         "fill": "toself",
         "line": {
          "color": "red",
          "width": 2
         },
         "mode": "lines",
         "showlegend": false,
         "x": [
          -45.0,
          -55.0,
          -55.0,
          -45.0
         ],
         "y": [
          -95.0,
          -95.0,
          -105.0,
          -105.0
         ],
         "type": "scatter"
        },
        {
         "fill": "toself",
         "line": {
          "color": "blue",
          "width": 2
         },
         "mode": "lines",
         "showlegend": false,
         "x": [
          -35.0,
          -45.0,
          -45.0,
          -35.0
         ],
         "y": [
          -95.0,
          -95.0,
          -105.0,
          -105.0
         ],
         "type": "scatter"
        },
        {
         "fill": "toself",
         "line": {
          "color": "red",
          "width": 2
         },
         "mode": "lines",
         "showlegend": false,
         "x": [
          -25.0,
          -35.0,
          -35.0,
          -25.0
         ],
         "y": [
          -95.0,
          -95.0,
          -105.0,
          -105.0
         ],
         "type": "scatter"
        },
        {
         "fill": "toself",
         "line": {
          "color": "blue",
          "width": 2
         },
         "mode": "lines",
         "showlegend": false,
         "x": [
          -15.0,
          -25.0,
          -25.0,
          -15.0
         ],
         "y": [
          -95.0,
          -95.0,
          -105.0,
          -105.0
         ],
         "type": "scatter"
        },
        {
         "fill": "toself",
         "line": {
          "color": "blue",
          "width": 2
         },
         "mode": "lines",
         "showlegend": false,
         "x": [
          -5.0,
          -15.0,
          -15.0,
          -5.0
         ],
         "y": [
          -95.0,
          -95.0,
          -105.0,
          -105.0
         ],
         "type": "scatter"
        },
        {
         "fill": "toself",
         "line": {
          "color": "blue",
          "width": 2
         },
         "mode": "lines",
         "showlegend": false,
         "x": [
          5.0,
          -5.0,
          -5.0,
          5.0
         ],
         "y": [
          -95.0,
          -95.0,
          -105.0,
          -105.0
         ],
         "type": "scatter"
        },
        {
         "fill": "toself",
         "line": {
          "color": "blue",
          "width": 2
         },
         "mode": "lines",
         "showlegend": false,
         "x": [
          15.0,
          5.0,
          5.0,
          15.0
         ],
         "y": [
          -95.0,
          -95.0,
          -105.0,
          -105.0
         ],
         "type": "scatter"
        },
        {
         "fill": "toself",
         "line": {
          "color": "blue",
          "width": 2
         },
         "mode": "lines",
         "showlegend": false,
         "x": [
          25.0,
          15.0,
          15.0,
          25.0
         ],
         "y": [
          -95.0,
          -95.0,
          -105.0,
          -105.0
         ],
         "type": "scatter"
        },
        {
         "fill": "toself",
         "line": {
          "color": "red",
          "width": 2
         },
         "mode": "lines",
         "showlegend": false,
         "x": [
          35.0,
          25.0,
          25.0,
          35.0
         ],
         "y": [
          -95.0,
          -95.0,
          -105.0,
          -105.0
         ],
         "type": "scatter"
        },
        {
         "fill": "toself",
         "line": {
          "color": "blue",
          "width": 2
         },
         "mode": "lines",
         "showlegend": false,
         "x": [
          45.0,
          35.0,
          35.0,
          45.0
         ],
         "y": [
          -95.0,
          -95.0,
          -105.0,
          -105.0
         ],
         "type": "scatter"
        },
        {
         "fill": "toself",
         "line": {
          "color": "red",
          "width": 2
         },
         "mode": "lines",
         "showlegend": false,
         "x": [
          55.0,
          45.0,
          45.0,
          55.0
         ],
         "y": [
          -95.0,
          -95.0,
          -105.0,
          -105.0
         ],
         "type": "scatter"
        },
        {
         "fill": "toself",
         "line": {
          "color": "red",
          "width": 2
         },
         "mode": "lines",
         "showlegend": false,
         "x": [
          -50.0,
          -60.0,
          -60.0,
          -50.0
         ],
         "y": [
          -105.0,
          -105.0,
          -115.0,
          -115.0
         ],
         "type": "scatter"
        },
        {
         "fill": "toself",
         "line": {
          "color": "red",
          "width": 2
         },
         "mode": "lines",
         "showlegend": false,
         "x": [
          -40.0,
          -50.0,
          -50.0,
          -40.0
         ],
         "y": [
          -105.0,
          -105.0,
          -115.0,
          -115.0
         ],
         "type": "scatter"
        },
        {
         "fill": "toself",
         "line": {
          "color": "red",
          "width": 2
         },
         "mode": "lines",
         "showlegend": false,
         "x": [
          -30.0,
          -40.0,
          -40.0,
          -30.0
         ],
         "y": [
          -105.0,
          -105.0,
          -115.0,
          -115.0
         ],
         "type": "scatter"
        },
        {
         "fill": "toself",
         "line": {
          "color": "red",
          "width": 2
         },
         "mode": "lines",
         "showlegend": false,
         "x": [
          -20.0,
          -30.0,
          -30.0,
          -20.0
         ],
         "y": [
          -105.0,
          -105.0,
          -115.0,
          -115.0
         ],
         "type": "scatter"
        },
        {
         "fill": "toself",
         "line": {
          "color": "blue",
          "width": 2
         },
         "mode": "lines",
         "showlegend": false,
         "x": [
          -10.0,
          -20.0,
          -20.0,
          -10.0
         ],
         "y": [
          -105.0,
          -105.0,
          -115.0,
          -115.0
         ],
         "type": "scatter"
        },
        {
         "fill": "toself",
         "line": {
          "color": "blue",
          "width": 2
         },
         "mode": "lines",
         "showlegend": false,
         "x": [
          0.0,
          -10.0,
          -10.0,
          0.0
         ],
         "y": [
          -105.0,
          -105.0,
          -115.0,
          -115.0
         ],
         "type": "scatter"
        },
        {
         "fill": "toself",
         "line": {
          "color": "blue",
          "width": 2
         },
         "mode": "lines",
         "showlegend": false,
         "x": [
          10.0,
          0.0,
          0.0,
          10.0
         ],
         "y": [
          -105.0,
          -105.0,
          -115.0,
          -115.0
         ],
         "type": "scatter"
        },
        {
         "fill": "toself",
         "line": {
          "color": "blue",
          "width": 2
         },
         "mode": "lines",
         "showlegend": false,
         "x": [
          20.0,
          10.0,
          10.0,
          20.0
         ],
         "y": [
          -105.0,
          -105.0,
          -115.0,
          -115.0
         ],
         "type": "scatter"
        },
        {
         "fill": "toself",
         "line": {
          "color": "red",
          "width": 2
         },
         "mode": "lines",
         "showlegend": false,
         "x": [
          30.0,
          20.0,
          20.0,
          30.0
         ],
         "y": [
          -105.0,
          -105.0,
          -115.0,
          -115.0
         ],
         "type": "scatter"
        },
        {
         "fill": "toself",
         "line": {
          "color": "red",
          "width": 2
         },
         "mode": "lines",
         "showlegend": false,
         "x": [
          40.0,
          30.0,
          30.0,
          40.0
         ],
         "y": [
          -105.0,
          -105.0,
          -115.0,
          -115.0
         ],
         "type": "scatter"
        },
        {
         "fill": "toself",
         "line": {
          "color": "red",
          "width": 2
         },
         "mode": "lines",
         "showlegend": false,
         "x": [
          50.0,
          40.0,
          40.0,
          50.0
         ],
         "y": [
          -105.0,
          -105.0,
          -115.0,
          -115.0
         ],
         "type": "scatter"
        },
        {
         "fill": "toself",
         "line": {
          "color": "red",
          "width": 2
         },
         "mode": "lines",
         "showlegend": false,
         "x": [
          60.0,
          50.0,
          50.0,
          60.0
         ],
         "y": [
          -105.0,
          -105.0,
          -115.0,
          -115.0
         ],
         "type": "scatter"
        },
        {
         "fill": "toself",
         "line": {
          "color": "red",
          "width": 2
         },
         "mode": "lines",
         "showlegend": false,
         "x": [
          -55.0,
          -65.0,
          -65.0,
          -55.0
         ],
         "y": [
          -115.0,
          -115.0,
          -125.0,
          -125.0
         ],
         "type": "scatter"
        },
        {
         "fill": "toself",
         "line": {
          "color": "blue",
          "width": 2
         },
         "mode": "lines",
         "showlegend": false,
         "x": [
          -45.0,
          -55.0,
          -55.0,
          -45.0
         ],
         "y": [
          -115.0,
          -115.0,
          -125.0,
          -125.0
         ],
         "type": "scatter"
        },
        {
         "fill": "toself",
         "line": {
          "color": "blue",
          "width": 2
         },
         "mode": "lines",
         "showlegend": false,
         "x": [
          -35.0,
          -45.0,
          -45.0,
          -35.0
         ],
         "y": [
          -115.0,
          -115.0,
          -125.0,
          -125.0
         ],
         "type": "scatter"
        },
        {
         "fill": "toself",
         "line": {
          "color": "blue",
          "width": 2
         },
         "mode": "lines",
         "showlegend": false,
         "x": [
          -25.0,
          -35.0,
          -35.0,
          -25.0
         ],
         "y": [
          -115.0,
          -115.0,
          -125.0,
          -125.0
         ],
         "type": "scatter"
        },
        {
         "fill": "toself",
         "line": {
          "color": "red",
          "width": 2
         },
         "mode": "lines",
         "showlegend": false,
         "x": [
          -15.0,
          -25.0,
          -25.0,
          -15.0
         ],
         "y": [
          -115.0,
          -115.0,
          -125.0,
          -125.0
         ],
         "type": "scatter"
        },
        {
         "fill": "toself",
         "line": {
          "color": "blue",
          "width": 2
         },
         "mode": "lines",
         "showlegend": false,
         "x": [
          -5.0,
          -15.0,
          -15.0,
          -5.0
         ],
         "y": [
          -115.0,
          -115.0,
          -125.0,
          -125.0
         ],
         "type": "scatter"
        },
        {
         "fill": "toself",
         "line": {
          "color": "blue",
          "width": 2
         },
         "mode": "lines",
         "showlegend": false,
         "x": [
          5.0,
          -5.0,
          -5.0,
          5.0
         ],
         "y": [
          -115.0,
          -115.0,
          -125.0,
          -125.0
         ],
         "type": "scatter"
        },
        {
         "fill": "toself",
         "line": {
          "color": "blue",
          "width": 2
         },
         "mode": "lines",
         "showlegend": false,
         "x": [
          15.0,
          5.0,
          5.0,
          15.0
         ],
         "y": [
          -115.0,
          -115.0,
          -125.0,
          -125.0
         ],
         "type": "scatter"
        },
        {
         "fill": "toself",
         "line": {
          "color": "red",
          "width": 2
         },
         "mode": "lines",
         "showlegend": false,
         "x": [
          25.0,
          15.0,
          15.0,
          25.0
         ],
         "y": [
          -115.0,
          -115.0,
          -125.0,
          -125.0
         ],
         "type": "scatter"
        },
        {
         "fill": "toself",
         "line": {
          "color": "blue",
          "width": 2
         },
         "mode": "lines",
         "showlegend": false,
         "x": [
          35.0,
          25.0,
          25.0,
          35.0
         ],
         "y": [
          -115.0,
          -115.0,
          -125.0,
          -125.0
         ],
         "type": "scatter"
        },
        {
         "fill": "toself",
         "line": {
          "color": "blue",
          "width": 2
         },
         "mode": "lines",
         "showlegend": false,
         "x": [
          45.0,
          35.0,
          35.0,
          45.0
         ],
         "y": [
          -115.0,
          -115.0,
          -125.0,
          -125.0
         ],
         "type": "scatter"
        },
        {
         "fill": "toself",
         "line": {
          "color": "blue",
          "width": 2
         },
         "mode": "lines",
         "showlegend": false,
         "x": [
          55.0,
          45.0,
          45.0,
          55.0
         ],
         "y": [
          -115.0,
          -115.0,
          -125.0,
          -125.0
         ],
         "type": "scatter"
        },
        {
         "fill": "toself",
         "line": {
          "color": "red",
          "width": 2
         },
         "mode": "lines",
         "showlegend": false,
         "x": [
          65.0,
          55.0,
          55.0,
          65.0
         ],
         "y": [
          -115.0,
          -115.0,
          -125.0,
          -125.0
         ],
         "type": "scatter"
        },
        {
         "fill": "toself",
         "line": {
          "color": "red",
          "width": 2
         },
         "mode": "lines",
         "showlegend": false,
         "x": [
          -60.0,
          -70.0,
          -70.0,
          -60.0
         ],
         "y": [
          -125.0,
          -125.0,
          -135.0,
          -135.0
         ],
         "type": "scatter"
        },
        {
         "fill": "toself",
         "line": {
          "color": "red",
          "width": 2
         },
         "mode": "lines",
         "showlegend": false,
         "x": [
          -50.0,
          -60.0,
          -60.0,
          -50.0
         ],
         "y": [
          -125.0,
          -125.0,
          -135.0,
          -135.0
         ],
         "type": "scatter"
        },
        {
         "fill": "toself",
         "line": {
          "color": "blue",
          "width": 2
         },
         "mode": "lines",
         "showlegend": false,
         "x": [
          -40.0,
          -50.0,
          -50.0,
          -40.0
         ],
         "y": [
          -125.0,
          -125.0,
          -135.0,
          -135.0
         ],
         "type": "scatter"
        },
        {
         "fill": "toself",
         "line": {
          "color": "blue",
          "width": 2
         },
         "mode": "lines",
         "showlegend": false,
         "x": [
          -30.0,
          -40.0,
          -40.0,
          -30.0
         ],
         "y": [
          -125.0,
          -125.0,
          -135.0,
          -135.0
         ],
         "type": "scatter"
        },
        {
         "fill": "toself",
         "line": {
          "color": "red",
          "width": 2
         },
         "mode": "lines",
         "showlegend": false,
         "x": [
          -20.0,
          -30.0,
          -30.0,
          -20.0
         ],
         "y": [
          -125.0,
          -125.0,
          -135.0,
          -135.0
         ],
         "type": "scatter"
        },
        {
         "fill": "toself",
         "line": {
          "color": "red",
          "width": 2
         },
         "mode": "lines",
         "showlegend": false,
         "x": [
          -10.0,
          -20.0,
          -20.0,
          -10.0
         ],
         "y": [
          -125.0,
          -125.0,
          -135.0,
          -135.0
         ],
         "type": "scatter"
        },
        {
         "fill": "toself",
         "line": {
          "color": "blue",
          "width": 2
         },
         "mode": "lines",
         "showlegend": false,
         "x": [
          0.0,
          -10.0,
          -10.0,
          0.0
         ],
         "y": [
          -125.0,
          -125.0,
          -135.0,
          -135.0
         ],
         "type": "scatter"
        },
        {
         "fill": "toself",
         "line": {
          "color": "blue",
          "width": 2
         },
         "mode": "lines",
         "showlegend": false,
         "x": [
          10.0,
          0.0,
          0.0,
          10.0
         ],
         "y": [
          -125.0,
          -125.0,
          -135.0,
          -135.0
         ],
         "type": "scatter"
        },
        {
         "fill": "toself",
         "line": {
          "color": "red",
          "width": 2
         },
         "mode": "lines",
         "showlegend": false,
         "x": [
          20.0,
          10.0,
          10.0,
          20.0
         ],
         "y": [
          -125.0,
          -125.0,
          -135.0,
          -135.0
         ],
         "type": "scatter"
        },
        {
         "fill": "toself",
         "line": {
          "color": "red",
          "width": 2
         },
         "mode": "lines",
         "showlegend": false,
         "x": [
          30.0,
          20.0,
          20.0,
          30.0
         ],
         "y": [
          -125.0,
          -125.0,
          -135.0,
          -135.0
         ],
         "type": "scatter"
        },
        {
         "fill": "toself",
         "line": {
          "color": "blue",
          "width": 2
         },
         "mode": "lines",
         "showlegend": false,
         "x": [
          40.0,
          30.0,
          30.0,
          40.0
         ],
         "y": [
          -125.0,
          -125.0,
          -135.0,
          -135.0
         ],
         "type": "scatter"
        },
        {
         "fill": "toself",
         "line": {
          "color": "blue",
          "width": 2
         },
         "mode": "lines",
         "showlegend": false,
         "x": [
          50.0,
          40.0,
          40.0,
          50.0
         ],
         "y": [
          -125.0,
          -125.0,
          -135.0,
          -135.0
         ],
         "type": "scatter"
        },
        {
         "fill": "toself",
         "line": {
          "color": "red",
          "width": 2
         },
         "mode": "lines",
         "showlegend": false,
         "x": [
          60.0,
          50.0,
          50.0,
          60.0
         ],
         "y": [
          -125.0,
          -125.0,
          -135.0,
          -135.0
         ],
         "type": "scatter"
        },
        {
         "fill": "toself",
         "line": {
          "color": "red",
          "width": 2
         },
         "mode": "lines",
         "showlegend": false,
         "x": [
          70.0,
          60.0,
          60.0,
          70.0
         ],
         "y": [
          -125.0,
          -125.0,
          -135.0,
          -135.0
         ],
         "type": "scatter"
        },
        {
         "fill": "toself",
         "line": {
          "color": "red",
          "width": 2
         },
         "mode": "lines",
         "showlegend": false,
         "x": [
          -65.0,
          -75.0,
          -75.0,
          -65.0
         ],
         "y": [
          -135.0,
          -135.0,
          -145.0,
          -145.0
         ],
         "type": "scatter"
        },
        {
         "fill": "toself",
         "line": {
          "color": "blue",
          "width": 2
         },
         "mode": "lines",
         "showlegend": false,
         "x": [
          -55.0,
          -65.0,
          -65.0,
          -55.0
         ],
         "y": [
          -135.0,
          -135.0,
          -145.0,
          -145.0
         ],
         "type": "scatter"
        },
        {
         "fill": "toself",
         "line": {
          "color": "red",
          "width": 2
         },
         "mode": "lines",
         "showlegend": false,
         "x": [
          -45.0,
          -55.0,
          -55.0,
          -45.0
         ],
         "y": [
          -135.0,
          -135.0,
          -145.0,
          -145.0
         ],
         "type": "scatter"
        },
        {
         "fill": "toself",
         "line": {
          "color": "blue",
          "width": 2
         },
         "mode": "lines",
         "showlegend": false,
         "x": [
          -35.0,
          -45.0,
          -45.0,
          -35.0
         ],
         "y": [
          -135.0,
          -135.0,
          -145.0,
          -145.0
         ],
         "type": "scatter"
        },
        {
         "fill": "toself",
         "line": {
          "color": "red",
          "width": 2
         },
         "mode": "lines",
         "showlegend": false,
         "x": [
          -25.0,
          -35.0,
          -35.0,
          -25.0
         ],
         "y": [
          -135.0,
          -135.0,
          -145.0,
          -145.0
         ],
         "type": "scatter"
        },
        {
         "fill": "toself",
         "line": {
          "color": "blue",
          "width": 2
         },
         "mode": "lines",
         "showlegend": false,
         "x": [
          -15.0,
          -25.0,
          -25.0,
          -15.0
         ],
         "y": [
          -135.0,
          -135.0,
          -145.0,
          -145.0
         ],
         "type": "scatter"
        },
        {
         "fill": "toself",
         "line": {
          "color": "red",
          "width": 2
         },
         "mode": "lines",
         "showlegend": false,
         "x": [
          -5.0,
          -15.0,
          -15.0,
          -5.0
         ],
         "y": [
          -135.0,
          -135.0,
          -145.0,
          -145.0
         ],
         "type": "scatter"
        },
        {
         "fill": "toself",
         "line": {
          "color": "blue",
          "width": 2
         },
         "mode": "lines",
         "showlegend": false,
         "x": [
          5.0,
          -5.0,
          -5.0,
          5.0
         ],
         "y": [
          -135.0,
          -135.0,
          -145.0,
          -145.0
         ],
         "type": "scatter"
        },
        {
         "fill": "toself",
         "line": {
          "color": "red",
          "width": 2
         },
         "mode": "lines",
         "showlegend": false,
         "x": [
          15.0,
          5.0,
          5.0,
          15.0
         ],
         "y": [
          -135.0,
          -135.0,
          -145.0,
          -145.0
         ],
         "type": "scatter"
        },
        {
         "fill": "toself",
         "line": {
          "color": "blue",
          "width": 2
         },
         "mode": "lines",
         "showlegend": false,
         "x": [
          25.0,
          15.0,
          15.0,
          25.0
         ],
         "y": [
          -135.0,
          -135.0,
          -145.0,
          -145.0
         ],
         "type": "scatter"
        },
        {
         "fill": "toself",
         "line": {
          "color": "red",
          "width": 2
         },
         "mode": "lines",
         "showlegend": false,
         "x": [
          35.0,
          25.0,
          25.0,
          35.0
         ],
         "y": [
          -135.0,
          -135.0,
          -145.0,
          -145.0
         ],
         "type": "scatter"
        },
        {
         "fill": "toself",
         "line": {
          "color": "blue",
          "width": 2
         },
         "mode": "lines",
         "showlegend": false,
         "x": [
          45.0,
          35.0,
          35.0,
          45.0
         ],
         "y": [
          -135.0,
          -135.0,
          -145.0,
          -145.0
         ],
         "type": "scatter"
        },
        {
         "fill": "toself",
         "line": {
          "color": "red",
          "width": 2
         },
         "mode": "lines",
         "showlegend": false,
         "x": [
          55.0,
          45.0,
          45.0,
          55.0
         ],
         "y": [
          -135.0,
          -135.0,
          -145.0,
          -145.0
         ],
         "type": "scatter"
        },
        {
         "fill": "toself",
         "line": {
          "color": "blue",
          "width": 2
         },
         "mode": "lines",
         "showlegend": false,
         "x": [
          65.0,
          55.0,
          55.0,
          65.0
         ],
         "y": [
          -135.0,
          -135.0,
          -145.0,
          -145.0
         ],
         "type": "scatter"
        },
        {
         "fill": "toself",
         "line": {
          "color": "red",
          "width": 2
         },
         "mode": "lines",
         "showlegend": false,
         "x": [
          75.0,
          65.0,
          65.0,
          75.0
         ],
         "y": [
          -135.0,
          -135.0,
          -145.0,
          -145.0
         ],
         "type": "scatter"
        },
        {
         "fill": "toself",
         "line": {
          "color": "red",
          "width": 2
         },
         "mode": "lines",
         "showlegend": false,
         "x": [
          -70.0,
          -80.0,
          -80.0,
          -70.0
         ],
         "y": [
          -145.0,
          -145.0,
          -155.0,
          -155.0
         ],
         "type": "scatter"
        },
        {
         "fill": "toself",
         "line": {
          "color": "red",
          "width": 2
         },
         "mode": "lines",
         "showlegend": false,
         "x": [
          -60.0,
          -70.0,
          -70.0,
          -60.0
         ],
         "y": [
          -145.0,
          -145.0,
          -155.0,
          -155.0
         ],
         "type": "scatter"
        },
        {
         "fill": "toself",
         "line": {
          "color": "red",
          "width": 2
         },
         "mode": "lines",
         "showlegend": false,
         "x": [
          -50.0,
          -60.0,
          -60.0,
          -50.0
         ],
         "y": [
          -145.0,
          -145.0,
          -155.0,
          -155.0
         ],
         "type": "scatter"
        },
        {
         "fill": "toself",
         "line": {
          "color": "red",
          "width": 2
         },
         "mode": "lines",
         "showlegend": false,
         "x": [
          -40.0,
          -50.0,
          -50.0,
          -40.0
         ],
         "y": [
          -145.0,
          -145.0,
          -155.0,
          -155.0
         ],
         "type": "scatter"
        },
        {
         "fill": "toself",
         "line": {
          "color": "red",
          "width": 2
         },
         "mode": "lines",
         "showlegend": false,
         "x": [
          -30.0,
          -40.0,
          -40.0,
          -30.0
         ],
         "y": [
          -145.0,
          -145.0,
          -155.0,
          -155.0
         ],
         "type": "scatter"
        },
        {
         "fill": "toself",
         "line": {
          "color": "red",
          "width": 2
         },
         "mode": "lines",
         "showlegend": false,
         "x": [
          -20.0,
          -30.0,
          -30.0,
          -20.0
         ],
         "y": [
          -145.0,
          -145.0,
          -155.0,
          -155.0
         ],
         "type": "scatter"
        },
        {
         "fill": "toself",
         "line": {
          "color": "red",
          "width": 2
         },
         "mode": "lines",
         "showlegend": false,
         "x": [
          -10.0,
          -20.0,
          -20.0,
          -10.0
         ],
         "y": [
          -145.0,
          -145.0,
          -155.0,
          -155.0
         ],
         "type": "scatter"
        },
        {
         "fill": "toself",
         "line": {
          "color": "red",
          "width": 2
         },
         "mode": "lines",
         "showlegend": false,
         "x": [
          0.0,
          -10.0,
          -10.0,
          0.0
         ],
         "y": [
          -145.0,
          -145.0,
          -155.0,
          -155.0
         ],
         "type": "scatter"
        },
        {
         "fill": "toself",
         "line": {
          "color": "red",
          "width": 2
         },
         "mode": "lines",
         "showlegend": false,
         "x": [
          10.0,
          0.0,
          0.0,
          10.0
         ],
         "y": [
          -145.0,
          -145.0,
          -155.0,
          -155.0
         ],
         "type": "scatter"
        },
        {
         "fill": "toself",
         "line": {
          "color": "red",
          "width": 2
         },
         "mode": "lines",
         "showlegend": false,
         "x": [
          20.0,
          10.0,
          10.0,
          20.0
         ],
         "y": [
          -145.0,
          -145.0,
          -155.0,
          -155.0
         ],
         "type": "scatter"
        },
        {
         "fill": "toself",
         "line": {
          "color": "red",
          "width": 2
         },
         "mode": "lines",
         "showlegend": false,
         "x": [
          30.0,
          20.0,
          20.0,
          30.0
         ],
         "y": [
          -145.0,
          -145.0,
          -155.0,
          -155.0
         ],
         "type": "scatter"
        },
        {
         "fill": "toself",
         "line": {
          "color": "red",
          "width": 2
         },
         "mode": "lines",
         "showlegend": false,
         "x": [
          40.0,
          30.0,
          30.0,
          40.0
         ],
         "y": [
          -145.0,
          -145.0,
          -155.0,
          -155.0
         ],
         "type": "scatter"
        },
        {
         "fill": "toself",
         "line": {
          "color": "red",
          "width": 2
         },
         "mode": "lines",
         "showlegend": false,
         "x": [
          50.0,
          40.0,
          40.0,
          50.0
         ],
         "y": [
          -145.0,
          -145.0,
          -155.0,
          -155.0
         ],
         "type": "scatter"
        },
        {
         "fill": "toself",
         "line": {
          "color": "red",
          "width": 2
         },
         "mode": "lines",
         "showlegend": false,
         "x": [
          60.0,
          50.0,
          50.0,
          60.0
         ],
         "y": [
          -145.0,
          -145.0,
          -155.0,
          -155.0
         ],
         "type": "scatter"
        },
        {
         "fill": "toself",
         "line": {
          "color": "red",
          "width": 2
         },
         "mode": "lines",
         "showlegend": false,
         "x": [
          70.0,
          60.0,
          60.0,
          70.0
         ],
         "y": [
          -145.0,
          -145.0,
          -155.0,
          -155.0
         ],
         "type": "scatter"
        },
        {
         "fill": "toself",
         "line": {
          "color": "red",
          "width": 2
         },
         "mode": "lines",
         "showlegend": false,
         "x": [
          80.0,
          70.0,
          70.0,
          80.0
         ],
         "y": [
          -145.0,
          -145.0,
          -155.0,
          -155.0
         ],
         "type": "scatter"
        },
        {
         "fill": "toself",
         "line": {
          "color": "red",
          "width": 2
         },
         "mode": "lines",
         "showlegend": false,
         "x": [
          -75.0,
          -85.0,
          -85.0,
          -75.0
         ],
         "y": [
          -155.0,
          -155.0,
          -165.0,
          -165.0
         ],
         "type": "scatter"
        },
        {
         "fill": "toself",
         "line": {
          "color": "blue",
          "width": 2
         },
         "mode": "lines",
         "showlegend": false,
         "x": [
          -65.0,
          -75.0,
          -75.0,
          -65.0
         ],
         "y": [
          -155.0,
          -155.0,
          -165.0,
          -165.0
         ],
         "type": "scatter"
        },
        {
         "fill": "toself",
         "line": {
          "color": "blue",
          "width": 2
         },
         "mode": "lines",
         "showlegend": false,
         "x": [
          -55.0,
          -65.0,
          -65.0,
          -55.0
         ],
         "y": [
          -155.0,
          -155.0,
          -165.0,
          -165.0
         ],
         "type": "scatter"
        },
        {
         "fill": "toself",
         "line": {
          "color": "blue",
          "width": 2
         },
         "mode": "lines",
         "showlegend": false,
         "x": [
          -45.0,
          -55.0,
          -55.0,
          -45.0
         ],
         "y": [
          -155.0,
          -155.0,
          -165.0,
          -165.0
         ],
         "type": "scatter"
        },
        {
         "fill": "toself",
         "line": {
          "color": "blue",
          "width": 2
         },
         "mode": "lines",
         "showlegend": false,
         "x": [
          -35.0,
          -45.0,
          -45.0,
          -35.0
         ],
         "y": [
          -155.0,
          -155.0,
          -165.0,
          -165.0
         ],
         "type": "scatter"
        },
        {
         "fill": "toself",
         "line": {
          "color": "blue",
          "width": 2
         },
         "mode": "lines",
         "showlegend": false,
         "x": [
          -25.0,
          -35.0,
          -35.0,
          -25.0
         ],
         "y": [
          -155.0,
          -155.0,
          -165.0,
          -165.0
         ],
         "type": "scatter"
        },
        {
         "fill": "toself",
         "line": {
          "color": "blue",
          "width": 2
         },
         "mode": "lines",
         "showlegend": false,
         "x": [
          -15.0,
          -25.0,
          -25.0,
          -15.0
         ],
         "y": [
          -155.0,
          -155.0,
          -165.0,
          -165.0
         ],
         "type": "scatter"
        },
        {
         "fill": "toself",
         "line": {
          "color": "blue",
          "width": 2
         },
         "mode": "lines",
         "showlegend": false,
         "x": [
          -5.0,
          -15.0,
          -15.0,
          -5.0
         ],
         "y": [
          -155.0,
          -155.0,
          -165.0,
          -165.0
         ],
         "type": "scatter"
        },
        {
         "fill": "toself",
         "line": {
          "color": "blue",
          "width": 2
         },
         "mode": "lines",
         "showlegend": false,
         "x": [
          5.0,
          -5.0,
          -5.0,
          5.0
         ],
         "y": [
          -155.0,
          -155.0,
          -165.0,
          -165.0
         ],
         "type": "scatter"
        },
        {
         "fill": "toself",
         "line": {
          "color": "blue",
          "width": 2
         },
         "mode": "lines",
         "showlegend": false,
         "x": [
          15.0,
          5.0,
          5.0,
          15.0
         ],
         "y": [
          -155.0,
          -155.0,
          -165.0,
          -165.0
         ],
         "type": "scatter"
        },
        {
         "fill": "toself",
         "line": {
          "color": "blue",
          "width": 2
         },
         "mode": "lines",
         "showlegend": false,
         "x": [
          25.0,
          15.0,
          15.0,
          25.0
         ],
         "y": [
          -155.0,
          -155.0,
          -165.0,
          -165.0
         ],
         "type": "scatter"
        },
        {
         "fill": "toself",
         "line": {
          "color": "blue",
          "width": 2
         },
         "mode": "lines",
         "showlegend": false,
         "x": [
          35.0,
          25.0,
          25.0,
          35.0
         ],
         "y": [
          -155.0,
          -155.0,
          -165.0,
          -165.0
         ],
         "type": "scatter"
        },
        {
         "fill": "toself",
         "line": {
          "color": "blue",
          "width": 2
         },
         "mode": "lines",
         "showlegend": false,
         "x": [
          45.0,
          35.0,
          35.0,
          45.0
         ],
         "y": [
          -155.0,
          -155.0,
          -165.0,
          -165.0
         ],
         "type": "scatter"
        },
        {
         "fill": "toself",
         "line": {
          "color": "blue",
          "width": 2
         },
         "mode": "lines",
         "showlegend": false,
         "x": [
          55.0,
          45.0,
          45.0,
          55.0
         ],
         "y": [
          -155.0,
          -155.0,
          -165.0,
          -165.0
         ],
         "type": "scatter"
        },
        {
         "fill": "toself",
         "line": {
          "color": "blue",
          "width": 2
         },
         "mode": "lines",
         "showlegend": false,
         "x": [
          65.0,
          55.0,
          55.0,
          65.0
         ],
         "y": [
          -155.0,
          -155.0,
          -165.0,
          -165.0
         ],
         "type": "scatter"
        },
        {
         "fill": "toself",
         "line": {
          "color": "blue",
          "width": 2
         },
         "mode": "lines",
         "showlegend": false,
         "x": [
          75.0,
          65.0,
          65.0,
          75.0
         ],
         "y": [
          -155.0,
          -155.0,
          -165.0,
          -165.0
         ],
         "type": "scatter"
        },
        {
         "fill": "toself",
         "line": {
          "color": "red",
          "width": 2
         },
         "mode": "lines",
         "showlegend": false,
         "x": [
          85.0,
          75.0,
          75.0,
          85.0
         ],
         "y": [
          -155.0,
          -155.0,
          -165.0,
          -165.0
         ],
         "type": "scatter"
        },
        {
         "fill": "toself",
         "line": {
          "color": "red",
          "width": 2
         },
         "mode": "lines",
         "showlegend": false,
         "x": [
          -80.0,
          -90.0,
          -90.0,
          -80.0
         ],
         "y": [
          -165.0,
          -165.0,
          -175.0,
          -175.0
         ],
         "type": "scatter"
        },
        {
         "fill": "toself",
         "line": {
          "color": "red",
          "width": 2
         },
         "mode": "lines",
         "showlegend": false,
         "x": [
          -70.0,
          -80.0,
          -80.0,
          -70.0
         ],
         "y": [
          -165.0,
          -165.0,
          -175.0,
          -175.0
         ],
         "type": "scatter"
        },
        {
         "fill": "toself",
         "line": {
          "color": "blue",
          "width": 2
         },
         "mode": "lines",
         "showlegend": false,
         "x": [
          -60.0,
          -70.0,
          -70.0,
          -60.0
         ],
         "y": [
          -165.0,
          -165.0,
          -175.0,
          -175.0
         ],
         "type": "scatter"
        },
        {
         "fill": "toself",
         "line": {
          "color": "blue",
          "width": 2
         },
         "mode": "lines",
         "showlegend": false,
         "x": [
          -50.0,
          -60.0,
          -60.0,
          -50.0
         ],
         "y": [
          -165.0,
          -165.0,
          -175.0,
          -175.0
         ],
         "type": "scatter"
        },
        {
         "fill": "toself",
         "line": {
          "color": "blue",
          "width": 2
         },
         "mode": "lines",
         "showlegend": false,
         "x": [
          -40.0,
          -50.0,
          -50.0,
          -40.0
         ],
         "y": [
          -165.0,
          -165.0,
          -175.0,
          -175.0
         ],
         "type": "scatter"
        },
        {
         "fill": "toself",
         "line": {
          "color": "blue",
          "width": 2
         },
         "mode": "lines",
         "showlegend": false,
         "x": [
          -30.0,
          -40.0,
          -40.0,
          -30.0
         ],
         "y": [
          -165.0,
          -165.0,
          -175.0,
          -175.0
         ],
         "type": "scatter"
        },
        {
         "fill": "toself",
         "line": {
          "color": "blue",
          "width": 2
         },
         "mode": "lines",
         "showlegend": false,
         "x": [
          -20.0,
          -30.0,
          -30.0,
          -20.0
         ],
         "y": [
          -165.0,
          -165.0,
          -175.0,
          -175.0
         ],
         "type": "scatter"
        },
        {
         "fill": "toself",
         "line": {
          "color": "blue",
          "width": 2
         },
         "mode": "lines",
         "showlegend": false,
         "x": [
          -10.0,
          -20.0,
          -20.0,
          -10.0
         ],
         "y": [
          -165.0,
          -165.0,
          -175.0,
          -175.0
         ],
         "type": "scatter"
        },
        {
         "fill": "toself",
         "line": {
          "color": "blue",
          "width": 2
         },
         "mode": "lines",
         "showlegend": false,
         "x": [
          0.0,
          -10.0,
          -10.0,
          0.0
         ],
         "y": [
          -165.0,
          -165.0,
          -175.0,
          -175.0
         ],
         "type": "scatter"
        },
        {
         "fill": "toself",
         "line": {
          "color": "blue",
          "width": 2
         },
         "mode": "lines",
         "showlegend": false,
         "x": [
          10.0,
          0.0,
          0.0,
          10.0
         ],
         "y": [
          -165.0,
          -165.0,
          -175.0,
          -175.0
         ],
         "type": "scatter"
        },
        {
         "fill": "toself",
         "line": {
          "color": "blue",
          "width": 2
         },
         "mode": "lines",
         "showlegend": false,
         "x": [
          20.0,
          10.0,
          10.0,
          20.0
         ],
         "y": [
          -165.0,
          -165.0,
          -175.0,
          -175.0
         ],
         "type": "scatter"
        },
        {
         "fill": "toself",
         "line": {
          "color": "blue",
          "width": 2
         },
         "mode": "lines",
         "showlegend": false,
         "x": [
          30.0,
          20.0,
          20.0,
          30.0
         ],
         "y": [
          -165.0,
          -165.0,
          -175.0,
          -175.0
         ],
         "type": "scatter"
        },
        {
         "fill": "toself",
         "line": {
          "color": "blue",
          "width": 2
         },
         "mode": "lines",
         "showlegend": false,
         "x": [
          40.0,
          30.0,
          30.0,
          40.0
         ],
         "y": [
          -165.0,
          -165.0,
          -175.0,
          -175.0
         ],
         "type": "scatter"
        },
        {
         "fill": "toself",
         "line": {
          "color": "blue",
          "width": 2
         },
         "mode": "lines",
         "showlegend": false,
         "x": [
          50.0,
          40.0,
          40.0,
          50.0
         ],
         "y": [
          -165.0,
          -165.0,
          -175.0,
          -175.0
         ],
         "type": "scatter"
        },
        {
         "fill": "toself",
         "line": {
          "color": "blue",
          "width": 2
         },
         "mode": "lines",
         "showlegend": false,
         "x": [
          60.0,
          50.0,
          50.0,
          60.0
         ],
         "y": [
          -165.0,
          -165.0,
          -175.0,
          -175.0
         ],
         "type": "scatter"
        },
        {
         "fill": "toself",
         "line": {
          "color": "blue",
          "width": 2
         },
         "mode": "lines",
         "showlegend": false,
         "x": [
          70.0,
          60.0,
          60.0,
          70.0
         ],
         "y": [
          -165.0,
          -165.0,
          -175.0,
          -175.0
         ],
         "type": "scatter"
        },
        {
         "fill": "toself",
         "line": {
          "color": "red",
          "width": 2
         },
         "mode": "lines",
         "showlegend": false,
         "x": [
          80.0,
          70.0,
          70.0,
          80.0
         ],
         "y": [
          -165.0,
          -165.0,
          -175.0,
          -175.0
         ],
         "type": "scatter"
        },
        {
         "fill": "toself",
         "line": {
          "color": "red",
          "width": 2
         },
         "mode": "lines",
         "showlegend": false,
         "x": [
          90.0,
          80.0,
          80.0,
          90.0
         ],
         "y": [
          -165.0,
          -165.0,
          -175.0,
          -175.0
         ],
         "type": "scatter"
        },
        {
         "fill": "toself",
         "line": {
          "color": "red",
          "width": 2
         },
         "mode": "lines",
         "showlegend": false,
         "x": [
          -85.0,
          -95.0,
          -95.0,
          -85.0
         ],
         "y": [
          -175.0,
          -175.0,
          -185.0,
          -185.0
         ],
         "type": "scatter"
        },
        {
         "fill": "toself",
         "line": {
          "color": "blue",
          "width": 2
         },
         "mode": "lines",
         "showlegend": false,
         "x": [
          -75.0,
          -85.0,
          -85.0,
          -75.0
         ],
         "y": [
          -175.0,
          -175.0,
          -185.0,
          -185.0
         ],
         "type": "scatter"
        },
        {
         "fill": "toself",
         "line": {
          "color": "red",
          "width": 2
         },
         "mode": "lines",
         "showlegend": false,
         "x": [
          -65.0,
          -75.0,
          -75.0,
          -65.0
         ],
         "y": [
          -175.0,
          -175.0,
          -185.0,
          -185.0
         ],
         "type": "scatter"
        },
        {
         "fill": "toself",
         "line": {
          "color": "blue",
          "width": 2
         },
         "mode": "lines",
         "showlegend": false,
         "x": [
          -55.0,
          -65.0,
          -65.0,
          -55.0
         ],
         "y": [
          -175.0,
          -175.0,
          -185.0,
          -185.0
         ],
         "type": "scatter"
        },
        {
         "fill": "toself",
         "line": {
          "color": "blue",
          "width": 2
         },
         "mode": "lines",
         "showlegend": false,
         "x": [
          -45.0,
          -55.0,
          -55.0,
          -45.0
         ],
         "y": [
          -175.0,
          -175.0,
          -185.0,
          -185.0
         ],
         "type": "scatter"
        },
        {
         "fill": "toself",
         "line": {
          "color": "blue",
          "width": 2
         },
         "mode": "lines",
         "showlegend": false,
         "x": [
          -35.0,
          -45.0,
          -45.0,
          -35.0
         ],
         "y": [
          -175.0,
          -175.0,
          -185.0,
          -185.0
         ],
         "type": "scatter"
        },
        {
         "fill": "toself",
         "line": {
          "color": "blue",
          "width": 2
         },
         "mode": "lines",
         "showlegend": false,
         "x": [
          -25.0,
          -35.0,
          -35.0,
          -25.0
         ],
         "y": [
          -175.0,
          -175.0,
          -185.0,
          -185.0
         ],
         "type": "scatter"
        },
        {
         "fill": "toself",
         "line": {
          "color": "blue",
          "width": 2
         },
         "mode": "lines",
         "showlegend": false,
         "x": [
          -15.0,
          -25.0,
          -25.0,
          -15.0
         ],
         "y": [
          -175.0,
          -175.0,
          -185.0,
          -185.0
         ],
         "type": "scatter"
        },
        {
         "fill": "toself",
         "line": {
          "color": "blue",
          "width": 2
         },
         "mode": "lines",
         "showlegend": false,
         "x": [
          -5.0,
          -15.0,
          -15.0,
          -5.0
         ],
         "y": [
          -175.0,
          -175.0,
          -185.0,
          -185.0
         ],
         "type": "scatter"
        },
        {
         "fill": "toself",
         "line": {
          "color": "blue",
          "width": 2
         },
         "mode": "lines",
         "showlegend": false,
         "x": [
          5.0,
          -5.0,
          -5.0,
          5.0
         ],
         "y": [
          -175.0,
          -175.0,
          -185.0,
          -185.0
         ],
         "type": "scatter"
        },
        {
         "fill": "toself",
         "line": {
          "color": "blue",
          "width": 2
         },
         "mode": "lines",
         "showlegend": false,
         "x": [
          15.0,
          5.0,
          5.0,
          15.0
         ],
         "y": [
          -175.0,
          -175.0,
          -185.0,
          -185.0
         ],
         "type": "scatter"
        },
        {
         "fill": "toself",
         "line": {
          "color": "blue",
          "width": 2
         },
         "mode": "lines",
         "showlegend": false,
         "x": [
          25.0,
          15.0,
          15.0,
          25.0
         ],
         "y": [
          -175.0,
          -175.0,
          -185.0,
          -185.0
         ],
         "type": "scatter"
        },
        {
         "fill": "toself",
         "line": {
          "color": "blue",
          "width": 2
         },
         "mode": "lines",
         "showlegend": false,
         "x": [
          35.0,
          25.0,
          25.0,
          35.0
         ],
         "y": [
          -175.0,
          -175.0,
          -185.0,
          -185.0
         ],
         "type": "scatter"
        },
        {
         "fill": "toself",
         "line": {
          "color": "blue",
          "width": 2
         },
         "mode": "lines",
         "showlegend": false,
         "x": [
          45.0,
          35.0,
          35.0,
          45.0
         ],
         "y": [
          -175.0,
          -175.0,
          -185.0,
          -185.0
         ],
         "type": "scatter"
        },
        {
         "fill": "toself",
         "line": {
          "color": "blue",
          "width": 2
         },
         "mode": "lines",
         "showlegend": false,
         "x": [
          55.0,
          45.0,
          45.0,
          55.0
         ],
         "y": [
          -175.0,
          -175.0,
          -185.0,
          -185.0
         ],
         "type": "scatter"
        },
        {
         "fill": "toself",
         "line": {
          "color": "blue",
          "width": 2
         },
         "mode": "lines",
         "showlegend": false,
         "x": [
          65.0,
          55.0,
          55.0,
          65.0
         ],
         "y": [
          -175.0,
          -175.0,
          -185.0,
          -185.0
         ],
         "type": "scatter"
        },
        {
         "fill": "toself",
         "line": {
          "color": "red",
          "width": 2
         },
         "mode": "lines",
         "showlegend": false,
         "x": [
          75.0,
          65.0,
          65.0,
          75.0
         ],
         "y": [
          -175.0,
          -175.0,
          -185.0,
          -185.0
         ],
         "type": "scatter"
        },
        {
         "fill": "toself",
         "line": {
          "color": "blue",
          "width": 2
         },
         "mode": "lines",
         "showlegend": false,
         "x": [
          85.0,
          75.0,
          75.0,
          85.0
         ],
         "y": [
          -175.0,
          -175.0,
          -185.0,
          -185.0
         ],
         "type": "scatter"
        },
        {
         "fill": "toself",
         "line": {
          "color": "red",
          "width": 2
         },
         "mode": "lines",
         "showlegend": false,
         "x": [
          95.0,
          85.0,
          85.0,
          95.0
         ],
         "y": [
          -175.0,
          -175.0,
          -185.0,
          -185.0
         ],
         "type": "scatter"
        },
        {
         "fill": "toself",
         "line": {
          "color": "red",
          "width": 2
         },
         "mode": "lines",
         "showlegend": false,
         "x": [
          -90.0,
          -100.0,
          -100.0,
          -90.0
         ],
         "y": [
          -185.0,
          -185.0,
          -195.0,
          -195.0
         ],
         "type": "scatter"
        },
        {
         "fill": "toself",
         "line": {
          "color": "red",
          "width": 2
         },
         "mode": "lines",
         "showlegend": false,
         "x": [
          -80.0,
          -90.0,
          -90.0,
          -80.0
         ],
         "y": [
          -185.0,
          -185.0,
          -195.0,
          -195.0
         ],
         "type": "scatter"
        },
        {
         "fill": "toself",
         "line": {
          "color": "red",
          "width": 2
         },
         "mode": "lines",
         "showlegend": false,
         "x": [
          -70.0,
          -80.0,
          -80.0,
          -70.0
         ],
         "y": [
          -185.0,
          -185.0,
          -195.0,
          -195.0
         ],
         "type": "scatter"
        },
        {
         "fill": "toself",
         "line": {
          "color": "red",
          "width": 2
         },
         "mode": "lines",
         "showlegend": false,
         "x": [
          -60.0,
          -70.0,
          -70.0,
          -60.0
         ],
         "y": [
          -185.0,
          -185.0,
          -195.0,
          -195.0
         ],
         "type": "scatter"
        },
        {
         "fill": "toself",
         "line": {
          "color": "blue",
          "width": 2
         },
         "mode": "lines",
         "showlegend": false,
         "x": [
          -50.0,
          -60.0,
          -60.0,
          -50.0
         ],
         "y": [
          -185.0,
          -185.0,
          -195.0,
          -195.0
         ],
         "type": "scatter"
        },
        {
         "fill": "toself",
         "line": {
          "color": "blue",
          "width": 2
         },
         "mode": "lines",
         "showlegend": false,
         "x": [
          -40.0,
          -50.0,
          -50.0,
          -40.0
         ],
         "y": [
          -185.0,
          -185.0,
          -195.0,
          -195.0
         ],
         "type": "scatter"
        },
        {
         "fill": "toself",
         "line": {
          "color": "blue",
          "width": 2
         },
         "mode": "lines",
         "showlegend": false,
         "x": [
          -30.0,
          -40.0,
          -40.0,
          -30.0
         ],
         "y": [
          -185.0,
          -185.0,
          -195.0,
          -195.0
         ],
         "type": "scatter"
        },
        {
         "fill": "toself",
         "line": {
          "color": "blue",
          "width": 2
         },
         "mode": "lines",
         "showlegend": false,
         "x": [
          -20.0,
          -30.0,
          -30.0,
          -20.0
         ],
         "y": [
          -185.0,
          -185.0,
          -195.0,
          -195.0
         ],
         "type": "scatter"
        },
        {
         "fill": "toself",
         "line": {
          "color": "blue",
          "width": 2
         },
         "mode": "lines",
         "showlegend": false,
         "x": [
          -10.0,
          -20.0,
          -20.0,
          -10.0
         ],
         "y": [
          -185.0,
          -185.0,
          -195.0,
          -195.0
         ],
         "type": "scatter"
        },
        {
         "fill": "toself",
         "line": {
          "color": "blue",
          "width": 2
         },
         "mode": "lines",
         "showlegend": false,
         "x": [
          0.0,
          -10.0,
          -10.0,
          0.0
         ],
         "y": [
          -185.0,
          -185.0,
          -195.0,
          -195.0
         ],
         "type": "scatter"
        },
        {
         "fill": "toself",
         "line": {
          "color": "blue",
          "width": 2
         },
         "mode": "lines",
         "showlegend": false,
         "x": [
          10.0,
          0.0,
          0.0,
          10.0
         ],
         "y": [
          -185.0,
          -185.0,
          -195.0,
          -195.0
         ],
         "type": "scatter"
        },
        {
         "fill": "toself",
         "line": {
          "color": "blue",
          "width": 2
         },
         "mode": "lines",
         "showlegend": false,
         "x": [
          20.0,
          10.0,
          10.0,
          20.0
         ],
         "y": [
          -185.0,
          -185.0,
          -195.0,
          -195.0
         ],
         "type": "scatter"
        },
        {
         "fill": "toself",
         "line": {
          "color": "blue",
          "width": 2
         },
         "mode": "lines",
         "showlegend": false,
         "x": [
          30.0,
          20.0,
          20.0,
          30.0
         ],
         "y": [
          -185.0,
          -185.0,
          -195.0,
          -195.0
         ],
         "type": "scatter"
        },
        {
         "fill": "toself",
         "line": {
          "color": "blue",
          "width": 2
         },
         "mode": "lines",
         "showlegend": false,
         "x": [
          40.0,
          30.0,
          30.0,
          40.0
         ],
         "y": [
          -185.0,
          -185.0,
          -195.0,
          -195.0
         ],
         "type": "scatter"
        },
        {
         "fill": "toself",
         "line": {
          "color": "blue",
          "width": 2
         },
         "mode": "lines",
         "showlegend": false,
         "x": [
          50.0,
          40.0,
          40.0,
          50.0
         ],
         "y": [
          -185.0,
          -185.0,
          -195.0,
          -195.0
         ],
         "type": "scatter"
        },
        {
         "fill": "toself",
         "line": {
          "color": "blue",
          "width": 2
         },
         "mode": "lines",
         "showlegend": false,
         "x": [
          60.0,
          50.0,
          50.0,
          60.0
         ],
         "y": [
          -185.0,
          -185.0,
          -195.0,
          -195.0
         ],
         "type": "scatter"
        },
        {
         "fill": "toself",
         "line": {
          "color": "red",
          "width": 2
         },
         "mode": "lines",
         "showlegend": false,
         "x": [
          70.0,
          60.0,
          60.0,
          70.0
         ],
         "y": [
          -185.0,
          -185.0,
          -195.0,
          -195.0
         ],
         "type": "scatter"
        },
        {
         "fill": "toself",
         "line": {
          "color": "red",
          "width": 2
         },
         "mode": "lines",
         "showlegend": false,
         "x": [
          80.0,
          70.0,
          70.0,
          80.0
         ],
         "y": [
          -185.0,
          -185.0,
          -195.0,
          -195.0
         ],
         "type": "scatter"
        },
        {
         "fill": "toself",
         "line": {
          "color": "red",
          "width": 2
         },
         "mode": "lines",
         "showlegend": false,
         "x": [
          90.0,
          80.0,
          80.0,
          90.0
         ],
         "y": [
          -185.0,
          -185.0,
          -195.0,
          -195.0
         ],
         "type": "scatter"
        },
        {
         "fill": "toself",
         "line": {
          "color": "red",
          "width": 2
         },
         "mode": "lines",
         "showlegend": false,
         "x": [
          100.0,
          90.0,
          90.0,
          100.0
         ],
         "y": [
          -185.0,
          -185.0,
          -195.0,
          -195.0
         ],
         "type": "scatter"
        }
       ],
       "layout": {
        "template": {
         "data": {
          "bar": [
           {
            "error_x": {
             "color": "#2a3f5f"
            },
            "error_y": {
             "color": "#2a3f5f"
            },
            "marker": {
             "line": {
              "color": "#E5ECF6",
              "width": 0.5
             },
             "pattern": {
              "fillmode": "overlay",
              "size": 10,
              "solidity": 0.2
             }
            },
            "type": "bar"
           }
          ],
          "barpolar": [
           {
            "marker": {
             "line": {
              "color": "#E5ECF6",
              "width": 0.5
             },
             "pattern": {
              "fillmode": "overlay",
              "size": 10,
              "solidity": 0.2
             }
            },
            "type": "barpolar"
           }
          ],
          "carpet": [
           {
            "aaxis": {
             "endlinecolor": "#2a3f5f",
             "gridcolor": "white",
             "linecolor": "white",
             "minorgridcolor": "white",
             "startlinecolor": "#2a3f5f"
            },
            "baxis": {
             "endlinecolor": "#2a3f5f",
             "gridcolor": "white",
             "linecolor": "white",
             "minorgridcolor": "white",
             "startlinecolor": "#2a3f5f"
            },
            "type": "carpet"
           }
          ],
          "choropleth": [
           {
            "colorbar": {
             "outlinewidth": 0,
             "ticks": ""
            },
            "type": "choropleth"
           }
          ],
          "contour": [
           {
            "colorbar": {
             "outlinewidth": 0,
             "ticks": ""
            },
            "colorscale": [
             [
              0.0,
              "#0d0887"
             ],
             [
              0.1111111111111111,
              "#46039f"
             ],
             [
              0.2222222222222222,
              "#7201a8"
             ],
             [
              0.3333333333333333,
              "#9c179e"
             ],
             [
              0.4444444444444444,
              "#bd3786"
             ],
             [
              0.5555555555555556,
              "#d8576b"
             ],
             [
              0.6666666666666666,
              "#ed7953"
             ],
             [
              0.7777777777777778,
              "#fb9f3a"
             ],
             [
              0.8888888888888888,
              "#fdca26"
             ],
             [
              1.0,
              "#f0f921"
             ]
            ],
            "type": "contour"
           }
          ],
          "contourcarpet": [
           {
            "colorbar": {
             "outlinewidth": 0,
             "ticks": ""
            },
            "type": "contourcarpet"
           }
          ],
          "heatmap": [
           {
            "colorbar": {
             "outlinewidth": 0,
             "ticks": ""
            },
            "colorscale": [
             [
              0.0,
              "#0d0887"
             ],
             [
              0.1111111111111111,
              "#46039f"
             ],
             [
              0.2222222222222222,
              "#7201a8"
             ],
             [
              0.3333333333333333,
              "#9c179e"
             ],
             [
              0.4444444444444444,
              "#bd3786"
             ],
             [
              0.5555555555555556,
              "#d8576b"
             ],
             [
              0.6666666666666666,
              "#ed7953"
             ],
             [
              0.7777777777777778,
              "#fb9f3a"
             ],
             [
              0.8888888888888888,
              "#fdca26"
             ],
             [
              1.0,
              "#f0f921"
             ]
            ],
            "type": "heatmap"
           }
          ],
          "heatmapgl": [
           {
            "colorbar": {
             "outlinewidth": 0,
             "ticks": ""
            },
            "colorscale": [
             [
              0.0,
              "#0d0887"
             ],
             [
              0.1111111111111111,
              "#46039f"
             ],
             [
              0.2222222222222222,
              "#7201a8"
             ],
             [
              0.3333333333333333,
              "#9c179e"
             ],
             [
              0.4444444444444444,
              "#bd3786"
             ],
             [
              0.5555555555555556,
              "#d8576b"
             ],
             [
              0.6666666666666666,
              "#ed7953"
             ],
             [
              0.7777777777777778,
              "#fb9f3a"
             ],
             [
              0.8888888888888888,
              "#fdca26"
             ],
             [
              1.0,
              "#f0f921"
             ]
            ],
            "type": "heatmapgl"
           }
          ],
          "histogram": [
           {
            "marker": {
             "pattern": {
              "fillmode": "overlay",
              "size": 10,
              "solidity": 0.2
             }
            },
            "type": "histogram"
           }
          ],
          "histogram2d": [
           {
            "colorbar": {
             "outlinewidth": 0,
             "ticks": ""
            },
            "colorscale": [
             [
              0.0,
              "#0d0887"
             ],
             [
              0.1111111111111111,
              "#46039f"
             ],
             [
              0.2222222222222222,
              "#7201a8"
             ],
             [
              0.3333333333333333,
              "#9c179e"
             ],
             [
              0.4444444444444444,
              "#bd3786"
             ],
             [
              0.5555555555555556,
              "#d8576b"
             ],
             [
              0.6666666666666666,
              "#ed7953"
             ],
             [
              0.7777777777777778,
              "#fb9f3a"
             ],
             [
              0.8888888888888888,
              "#fdca26"
             ],
             [
              1.0,
              "#f0f921"
             ]
            ],
            "type": "histogram2d"
           }
          ],
          "histogram2dcontour": [
           {
            "colorbar": {
             "outlinewidth": 0,
             "ticks": ""
            },
            "colorscale": [
             [
              0.0,
              "#0d0887"
             ],
             [
              0.1111111111111111,
              "#46039f"
             ],
             [
              0.2222222222222222,
              "#7201a8"
             ],
             [
              0.3333333333333333,
              "#9c179e"
             ],
             [
              0.4444444444444444,
              "#bd3786"
             ],
             [
              0.5555555555555556,
              "#d8576b"
             ],
             [
              0.6666666666666666,
              "#ed7953"
             ],
             [
              0.7777777777777778,
              "#fb9f3a"
             ],
             [
              0.8888888888888888,
              "#fdca26"
             ],
             [
              1.0,
              "#f0f921"
             ]
            ],
            "type": "histogram2dcontour"
           }
          ],
          "mesh3d": [
           {
            "colorbar": {
             "outlinewidth": 0,
             "ticks": ""
            },
            "type": "mesh3d"
           }
          ],
          "parcoords": [
           {
            "line": {
             "colorbar": {
              "outlinewidth": 0,
              "ticks": ""
             }
            },
            "type": "parcoords"
           }
          ],
          "pie": [
           {
            "automargin": true,
            "type": "pie"
           }
          ],
          "scatter": [
           {
            "marker": {
             "colorbar": {
              "outlinewidth": 0,
              "ticks": ""
             }
            },
            "type": "scatter"
           }
          ],
          "scatter3d": [
           {
            "line": {
             "colorbar": {
              "outlinewidth": 0,
              "ticks": ""
             }
            },
            "marker": {
             "colorbar": {
              "outlinewidth": 0,
              "ticks": ""
             }
            },
            "type": "scatter3d"
           }
          ],
          "scattercarpet": [
           {
            "marker": {
             "colorbar": {
              "outlinewidth": 0,
              "ticks": ""
             }
            },
            "type": "scattercarpet"
           }
          ],
          "scattergeo": [
           {
            "marker": {
             "colorbar": {
              "outlinewidth": 0,
              "ticks": ""
             }
            },
            "type": "scattergeo"
           }
          ],
          "scattergl": [
           {
            "marker": {
             "colorbar": {
              "outlinewidth": 0,
              "ticks": ""
             }
            },
            "type": "scattergl"
           }
          ],
          "scattermapbox": [
           {
            "marker": {
             "colorbar": {
              "outlinewidth": 0,
              "ticks": ""
             }
            },
            "type": "scattermapbox"
           }
          ],
          "scatterpolar": [
           {
            "marker": {
             "colorbar": {
              "outlinewidth": 0,
              "ticks": ""
             }
            },
            "type": "scatterpolar"
           }
          ],
          "scatterpolargl": [
           {
            "marker": {
             "colorbar": {
              "outlinewidth": 0,
              "ticks": ""
             }
            },
            "type": "scatterpolargl"
           }
          ],
          "scatterternary": [
           {
            "marker": {
             "colorbar": {
              "outlinewidth": 0,
              "ticks": ""
             }
            },
            "type": "scatterternary"
           }
          ],
          "surface": [
           {
            "colorbar": {
             "outlinewidth": 0,
             "ticks": ""
            },
            "colorscale": [
             [
              0.0,
              "#0d0887"
             ],
             [
              0.1111111111111111,
              "#46039f"
             ],
             [
              0.2222222222222222,
              "#7201a8"
             ],
             [
              0.3333333333333333,
              "#9c179e"
             ],
             [
              0.4444444444444444,
              "#bd3786"
             ],
             [
              0.5555555555555556,
              "#d8576b"
             ],
             [
              0.6666666666666666,
              "#ed7953"
             ],
             [
              0.7777777777777778,
              "#fb9f3a"
             ],
             [
              0.8888888888888888,
              "#fdca26"
             ],
             [
              1.0,
              "#f0f921"
             ]
            ],
            "type": "surface"
           }
          ],
          "table": [
           {
            "cells": {
             "fill": {
              "color": "#EBF0F8"
             },
             "line": {
              "color": "white"
             }
            },
            "header": {
             "fill": {
              "color": "#C8D4E3"
             },
             "line": {
              "color": "white"
             }
            },
            "type": "table"
           }
          ]
         },
         "layout": {
          "annotationdefaults": {
           "arrowcolor": "#2a3f5f",
           "arrowhead": 0,
           "arrowwidth": 1
          },
          "autotypenumbers": "strict",
          "coloraxis": {
           "colorbar": {
            "outlinewidth": 0,
            "ticks": ""
           }
          },
          "colorscale": {
           "diverging": [
            [
             0,
             "#8e0152"
            ],
            [
             0.1,
             "#c51b7d"
            ],
            [
             0.2,
             "#de77ae"
            ],
            [
             0.3,
             "#f1b6da"
            ],
            [
             0.4,
             "#fde0ef"
            ],
            [
             0.5,
             "#f7f7f7"
            ],
            [
             0.6,
             "#e6f5d0"
            ],
            [
             0.7,
             "#b8e186"
            ],
            [
             0.8,
             "#7fbc41"
            ],
            [
             0.9,
             "#4d9221"
            ],
            [
             1,
             "#276419"
            ]
           ],
           "sequential": [
            [
             0.0,
             "#0d0887"
            ],
            [
             0.1111111111111111,
             "#46039f"
            ],
            [
             0.2222222222222222,
             "#7201a8"
            ],
            [
             0.3333333333333333,
             "#9c179e"
            ],
            [
             0.4444444444444444,
             "#bd3786"
            ],
            [
             0.5555555555555556,
             "#d8576b"
            ],
            [
             0.6666666666666666,
             "#ed7953"
            ],
            [
             0.7777777777777778,
             "#fb9f3a"
            ],
            [
             0.8888888888888888,
             "#fdca26"
            ],
            [
             1.0,
             "#f0f921"
            ]
           ],
           "sequentialminus": [
            [
             0.0,
             "#0d0887"
            ],
            [
             0.1111111111111111,
             "#46039f"
            ],
            [
             0.2222222222222222,
             "#7201a8"
            ],
            [
             0.3333333333333333,
             "#9c179e"
            ],
            [
             0.4444444444444444,
             "#bd3786"
            ],
            [
             0.5555555555555556,
             "#d8576b"
            ],
            [
             0.6666666666666666,
             "#ed7953"
            ],
            [
             0.7777777777777778,
             "#fb9f3a"
            ],
            [
             0.8888888888888888,
             "#fdca26"
            ],
            [
             1.0,
             "#f0f921"
            ]
           ]
          },
          "colorway": [
           "#636efa",
           "#EF553B",
           "#00cc96",
           "#ab63fa",
           "#FFA15A",
           "#19d3f3",
           "#FF6692",
           "#B6E880",
           "#FF97FF",
           "#FECB52"
          ],
          "font": {
           "color": "#2a3f5f"
          },
          "geo": {
           "bgcolor": "white",
           "lakecolor": "white",
           "landcolor": "#E5ECF6",
           "showlakes": true,
           "showland": true,
           "subunitcolor": "white"
          },
          "hoverlabel": {
           "align": "left"
          },
          "hovermode": "closest",
          "mapbox": {
           "style": "light"
          },
          "paper_bgcolor": "white",
          "plot_bgcolor": "#E5ECF6",
          "polar": {
           "angularaxis": {
            "gridcolor": "white",
            "linecolor": "white",
            "ticks": ""
           },
           "bgcolor": "#E5ECF6",
           "radialaxis": {
            "gridcolor": "white",
            "linecolor": "white",
            "ticks": ""
           }
          },
          "scene": {
           "xaxis": {
            "backgroundcolor": "#E5ECF6",
            "gridcolor": "white",
            "gridwidth": 2,
            "linecolor": "white",
            "showbackground": true,
            "ticks": "",
            "zerolinecolor": "white"
           },
           "yaxis": {
            "backgroundcolor": "#E5ECF6",
            "gridcolor": "white",
            "gridwidth": 2,
            "linecolor": "white",
            "showbackground": true,
            "ticks": "",
            "zerolinecolor": "white"
           },
           "zaxis": {
            "backgroundcolor": "#E5ECF6",
            "gridcolor": "white",
            "gridwidth": 2,
            "linecolor": "white",
            "showbackground": true,
            "ticks": "",
            "zerolinecolor": "white"
           }
          },
          "shapedefaults": {
           "line": {
            "color": "#2a3f5f"
           }
          },
          "ternary": {
           "aaxis": {
            "gridcolor": "white",
            "linecolor": "white",
            "ticks": ""
           },
           "baxis": {
            "gridcolor": "white",
            "linecolor": "white",
            "ticks": ""
           },
           "bgcolor": "#E5ECF6",
           "caxis": {
            "gridcolor": "white",
            "linecolor": "white",
            "ticks": ""
           }
          },
          "title": {
           "x": 0.05
          },
          "xaxis": {
           "automargin": true,
           "gridcolor": "white",
           "linecolor": "white",
           "ticks": "",
           "title": {
            "standoff": 15
           },
           "zerolinecolor": "white",
           "zerolinewidth": 2
          },
          "yaxis": {
           "automargin": true,
           "gridcolor": "white",
           "linecolor": "white",
           "ticks": "",
           "title": {
            "standoff": 15
           },
           "zerolinecolor": "white",
           "zerolinewidth": 2
          }
         }
        },
        "annotations": [
         {
          "font": {
           "color": "black",
           "size": 10
          },
          "showarrow": false,
          "text": "1",
          "textangle": 0,
          "x": 0.0,
          "xanchor": "center",
          "y": 0
         },
         {
          "font": {
           "color": "black",
           "size": 10
          },
          "showarrow": false,
          "text": "1",
          "textangle": 0,
          "x": -5.0,
          "xanchor": "center",
          "y": -10
         },
         {
          "font": {
           "color": "black",
           "size": 10
          },
          "showarrow": false,
          "text": "1",
          "textangle": 0,
          "x": 5.0,
          "xanchor": "center",
          "y": -10
         },
         {
          "font": {
           "color": "black",
           "size": 10
          },
          "showarrow": false,
          "text": "1",
          "textangle": 0,
          "x": -10.0,
          "xanchor": "center",
          "y": -20
         },
         {
          "font": {
           "color": "black",
           "size": 10
          },
          "showarrow": false,
          "text": "2",
          "textangle": 0,
          "x": 0.0,
          "xanchor": "center",
          "y": -20
         },
         {
          "font": {
           "color": "black",
           "size": 10
          },
          "showarrow": false,
          "text": "1",
          "textangle": 0,
          "x": 10.0,
          "xanchor": "center",
          "y": -20
         },
         {
          "font": {
           "color": "black",
           "size": 10
          },
          "showarrow": false,
          "text": "1",
          "textangle": 0,
          "x": -15.0,
          "xanchor": "center",
          "y": -30
         },
         {
          "font": {
           "color": "black",
           "size": 10
          },
          "showarrow": false,
          "text": "3",
          "textangle": 0,
          "x": -5.0,
          "xanchor": "center",
          "y": -30
         },
         {
          "font": {
           "color": "black",
           "size": 10
          },
          "showarrow": false,
          "text": "3",
          "textangle": 0,
          "x": 5.0,
          "xanchor": "center",
          "y": -30
         },
         {
          "font": {
           "color": "black",
           "size": 10
          },
          "showarrow": false,
          "text": "1",
          "textangle": 0,
          "x": 15.0,
          "xanchor": "center",
          "y": -30
         },
         {
          "font": {
           "color": "black",
           "size": 10
          },
          "showarrow": false,
          "text": "1",
          "textangle": 0,
          "x": -20.0,
          "xanchor": "center",
          "y": -40
         },
         {
          "font": {
           "color": "black",
           "size": 10
          },
          "showarrow": false,
          "text": "4",
          "textangle": 0,
          "x": -10.0,
          "xanchor": "center",
          "y": -40
         },
         {
          "font": {
           "color": "black",
           "size": 10
          },
          "showarrow": false,
          "text": "6",
          "textangle": 0,
          "x": 0.0,
          "xanchor": "center",
          "y": -40
         },
         {
          "font": {
           "color": "black",
           "size": 10
          },
          "showarrow": false,
          "text": "4",
          "textangle": 0,
          "x": 10.0,
          "xanchor": "center",
          "y": -40
         },
         {
          "font": {
           "color": "black",
           "size": 10
          },
          "showarrow": false,
          "text": "1",
          "textangle": 0,
          "x": 20.0,
          "xanchor": "center",
          "y": -40
         },
         {
          "font": {
           "color": "black",
           "size": 10
          },
          "showarrow": false,
          "text": "1",
          "textangle": 0,
          "x": -25.0,
          "xanchor": "center",
          "y": -50
         },
         {
          "font": {
           "color": "black",
           "size": 10
          },
          "showarrow": false,
          "text": "5",
          "textangle": 0,
          "x": -15.0,
          "xanchor": "center",
          "y": -50
         },
         {
          "font": {
           "color": "black",
           "size": 10
          },
          "showarrow": false,
          "text": "10",
          "textangle": 0,
          "x": -5.0,
          "xanchor": "center",
          "y": -50
         },
         {
          "font": {
           "color": "black",
           "size": 10
          },
          "showarrow": false,
          "text": "10",
          "textangle": 0,
          "x": 5.0,
          "xanchor": "center",
          "y": -50
         },
         {
          "font": {
           "color": "black",
           "size": 10
          },
          "showarrow": false,
          "text": "5",
          "textangle": 0,
          "x": 15.0,
          "xanchor": "center",
          "y": -50
         },
         {
          "font": {
           "color": "black",
           "size": 10
          },
          "showarrow": false,
          "text": "1",
          "textangle": 0,
          "x": 25.0,
          "xanchor": "center",
          "y": -50
         },
         {
          "font": {
           "color": "black",
           "size": 10
          },
          "showarrow": false,
          "text": "1",
          "textangle": 0,
          "x": -30.0,
          "xanchor": "center",
          "y": -60
         },
         {
          "font": {
           "color": "black",
           "size": 10
          },
          "showarrow": false,
          "text": "6",
          "textangle": 0,
          "x": -20.0,
          "xanchor": "center",
          "y": -60
         },
         {
          "font": {
           "color": "black",
           "size": 10
          },
          "showarrow": false,
          "text": "15",
          "textangle": 0,
          "x": -10.0,
          "xanchor": "center",
          "y": -60
         },
         {
          "font": {
           "color": "black",
           "size": 10
          },
          "showarrow": false,
          "text": "20",
          "textangle": 0,
          "x": 0.0,
          "xanchor": "center",
          "y": -60
         },
         {
          "font": {
           "color": "black",
           "size": 10
          },
          "showarrow": false,
          "text": "15",
          "textangle": 0,
          "x": 10.0,
          "xanchor": "center",
          "y": -60
         },
         {
          "font": {
           "color": "black",
           "size": 10
          },
          "showarrow": false,
          "text": "6",
          "textangle": 0,
          "x": 20.0,
          "xanchor": "center",
          "y": -60
         },
         {
          "font": {
           "color": "black",
           "size": 10
          },
          "showarrow": false,
          "text": "1",
          "textangle": 0,
          "x": 30.0,
          "xanchor": "center",
          "y": -60
         },
         {
          "font": {
           "color": "black",
           "size": 10
          },
          "showarrow": false,
          "text": "1",
          "textangle": 0,
          "x": -35.0,
          "xanchor": "center",
          "y": -70
         },
         {
          "font": {
           "color": "black",
           "size": 10
          },
          "showarrow": false,
          "text": "7",
          "textangle": 0,
          "x": -25.0,
          "xanchor": "center",
          "y": -70
         },
         {
          "font": {
           "color": "black",
           "size": 10
          },
          "showarrow": false,
          "text": "21",
          "textangle": 0,
          "x": -15.0,
          "xanchor": "center",
          "y": -70
         },
         {
          "font": {
           "color": "black",
           "size": 10
          },
          "showarrow": false,
          "text": "35",
          "textangle": 0,
          "x": -5.0,
          "xanchor": "center",
          "y": -70
         },
         {
          "font": {
           "color": "black",
           "size": 10
          },
          "showarrow": false,
          "text": "35",
          "textangle": 0,
          "x": 5.0,
          "xanchor": "center",
          "y": -70
         },
         {
          "font": {
           "color": "black",
           "size": 10
          },
          "showarrow": false,
          "text": "21",
          "textangle": 0,
          "x": 15.0,
          "xanchor": "center",
          "y": -70
         },
         {
          "font": {
           "color": "black",
           "size": 10
          },
          "showarrow": false,
          "text": "7",
          "textangle": 0,
          "x": 25.0,
          "xanchor": "center",
          "y": -70
         },
         {
          "font": {
           "color": "black",
           "size": 10
          },
          "showarrow": false,
          "text": "1",
          "textangle": 0,
          "x": 35.0,
          "xanchor": "center",
          "y": -70
         },
         {
          "font": {
           "color": "black",
           "size": 10
          },
          "showarrow": false,
          "text": "1",
          "textangle": 0,
          "x": -40.0,
          "xanchor": "center",
          "y": -80
         },
         {
          "font": {
           "color": "black",
           "size": 10
          },
          "showarrow": false,
          "text": "8",
          "textangle": 0,
          "x": -30.0,
          "xanchor": "center",
          "y": -80
         },
         {
          "font": {
           "color": "black",
           "size": 10
          },
          "showarrow": false,
          "text": "28",
          "textangle": 0,
          "x": -20.0,
          "xanchor": "center",
          "y": -80
         },
         {
          "font": {
           "color": "black",
           "size": 10
          },
          "showarrow": false,
          "text": "56",
          "textangle": 0,
          "x": -10.0,
          "xanchor": "center",
          "y": -80
         },
         {
          "font": {
           "color": "black",
           "size": 10
          },
          "showarrow": false,
          "text": "70",
          "textangle": 0,
          "x": 0.0,
          "xanchor": "center",
          "y": -80
         },
         {
          "font": {
           "color": "black",
           "size": 10
          },
          "showarrow": false,
          "text": "56",
          "textangle": 0,
          "x": 10.0,
          "xanchor": "center",
          "y": -80
         },
         {
          "font": {
           "color": "black",
           "size": 10
          },
          "showarrow": false,
          "text": "28",
          "textangle": 0,
          "x": 20.0,
          "xanchor": "center",
          "y": -80
         },
         {
          "font": {
           "color": "black",
           "size": 10
          },
          "showarrow": false,
          "text": "8",
          "textangle": 0,
          "x": 30.0,
          "xanchor": "center",
          "y": -80
         },
         {
          "font": {
           "color": "black",
           "size": 10
          },
          "showarrow": false,
          "text": "1",
          "textangle": 0,
          "x": 40.0,
          "xanchor": "center",
          "y": -80
         },
         {
          "font": {
           "color": "black",
           "size": 10
          },
          "showarrow": false,
          "text": "1",
          "textangle": 0,
          "x": -45.0,
          "xanchor": "center",
          "y": -90
         },
         {
          "font": {
           "color": "black",
           "size": 10
          },
          "showarrow": false,
          "text": "9",
          "textangle": 0,
          "x": -35.0,
          "xanchor": "center",
          "y": -90
         },
         {
          "font": {
           "color": "black",
           "size": 10
          },
          "showarrow": false,
          "text": "36",
          "textangle": 0,
          "x": -25.0,
          "xanchor": "center",
          "y": -90
         },
         {
          "font": {
           "color": "black",
           "size": 10
          },
          "showarrow": false,
          "text": "84",
          "textangle": 0,
          "x": -15.0,
          "xanchor": "center",
          "y": -90
         },
         {
          "font": {
           "color": "black",
           "size": 10
          },
          "showarrow": false,
          "text": "126",
          "textangle": 0,
          "x": -5.0,
          "xanchor": "center",
          "y": -90
         },
         {
          "font": {
           "color": "black",
           "size": 10
          },
          "showarrow": false,
          "text": "126",
          "textangle": 0,
          "x": 5.0,
          "xanchor": "center",
          "y": -90
         },
         {
          "font": {
           "color": "black",
           "size": 10
          },
          "showarrow": false,
          "text": "84",
          "textangle": 0,
          "x": 15.0,
          "xanchor": "center",
          "y": -90
         },
         {
          "font": {
           "color": "black",
           "size": 10
          },
          "showarrow": false,
          "text": "36",
          "textangle": 0,
          "x": 25.0,
          "xanchor": "center",
          "y": -90
         },
         {
          "font": {
           "color": "black",
           "size": 10
          },
          "showarrow": false,
          "text": "9",
          "textangle": 0,
          "x": 35.0,
          "xanchor": "center",
          "y": -90
         },
         {
          "font": {
           "color": "black",
           "size": 10
          },
          "showarrow": false,
          "text": "1",
          "textangle": 0,
          "x": 45.0,
          "xanchor": "center",
          "y": -90
         },
         {
          "font": {
           "color": "black",
           "size": 10
          },
          "showarrow": false,
          "text": "1",
          "textangle": 0,
          "x": -50.0,
          "xanchor": "center",
          "y": -100
         },
         {
          "font": {
           "color": "black",
           "size": 10
          },
          "showarrow": false,
          "text": "10",
          "textangle": 0,
          "x": -40.0,
          "xanchor": "center",
          "y": -100
         },
         {
          "font": {
           "color": "black",
           "size": 10
          },
          "showarrow": false,
          "text": "45",
          "textangle": 0,
          "x": -30.0,
          "xanchor": "center",
          "y": -100
         },
         {
          "font": {
           "color": "black",
           "size": 10
          },
          "showarrow": false,
          "text": "120",
          "textangle": 0,
          "x": -20.0,
          "xanchor": "center",
          "y": -100
         },
         {
          "font": {
           "color": "black",
           "size": 10
          },
          "showarrow": false,
          "text": "210",
          "textangle": 0,
          "x": -10.0,
          "xanchor": "center",
          "y": -100
         },
         {
          "font": {
           "color": "black",
           "size": 10
          },
          "showarrow": false,
          "text": "252",
          "textangle": 0,
          "x": 0.0,
          "xanchor": "center",
          "y": -100
         },
         {
          "font": {
           "color": "black",
           "size": 10
          },
          "showarrow": false,
          "text": "210",
          "textangle": 0,
          "x": 10.0,
          "xanchor": "center",
          "y": -100
         },
         {
          "font": {
           "color": "black",
           "size": 10
          },
          "showarrow": false,
          "text": "120",
          "textangle": 0,
          "x": 20.0,
          "xanchor": "center",
          "y": -100
         },
         {
          "font": {
           "color": "black",
           "size": 10
          },
          "showarrow": false,
          "text": "45",
          "textangle": 0,
          "x": 30.0,
          "xanchor": "center",
          "y": -100
         },
         {
          "font": {
           "color": "black",
           "size": 10
          },
          "showarrow": false,
          "text": "10",
          "textangle": 0,
          "x": 40.0,
          "xanchor": "center",
          "y": -100
         },
         {
          "font": {
           "color": "black",
           "size": 10
          },
          "showarrow": false,
          "text": "1",
          "textangle": 0,
          "x": 50.0,
          "xanchor": "center",
          "y": -100
         },
         {
          "font": {
           "color": "black",
           "size": 10
          },
          "showarrow": false,
          "text": "1",
          "textangle": 0,
          "x": -55.0,
          "xanchor": "center",
          "y": -110
         },
         {
          "font": {
           "color": "black",
           "size": 10
          },
          "showarrow": false,
          "text": "11",
          "textangle": 0,
          "x": -45.0,
          "xanchor": "center",
          "y": -110
         },
         {
          "font": {
           "color": "black",
           "size": 10
          },
          "showarrow": false,
          "text": "55",
          "textangle": 0,
          "x": -35.0,
          "xanchor": "center",
          "y": -110
         },
         {
          "font": {
           "color": "black",
           "size": 10
          },
          "showarrow": false,
          "text": "165",
          "textangle": 0,
          "x": -25.0,
          "xanchor": "center",
          "y": -110
         },
         {
          "font": {
           "color": "black",
           "size": 10
          },
          "showarrow": false,
          "text": "330",
          "textangle": 0,
          "x": -15.0,
          "xanchor": "center",
          "y": -110
         },
         {
          "font": {
           "color": "black",
           "size": 10
          },
          "showarrow": false,
          "text": "462",
          "textangle": 0,
          "x": -5.0,
          "xanchor": "center",
          "y": -110
         },
         {
          "font": {
           "color": "black",
           "size": 10
          },
          "showarrow": false,
          "text": "462",
          "textangle": 0,
          "x": 5.0,
          "xanchor": "center",
          "y": -110
         },
         {
          "font": {
           "color": "black",
           "size": 10
          },
          "showarrow": false,
          "text": "330",
          "textangle": 0,
          "x": 15.0,
          "xanchor": "center",
          "y": -110
         },
         {
          "font": {
           "color": "black",
           "size": 10
          },
          "showarrow": false,
          "text": "165",
          "textangle": 0,
          "x": 25.0,
          "xanchor": "center",
          "y": -110
         },
         {
          "font": {
           "color": "black",
           "size": 10
          },
          "showarrow": false,
          "text": "55",
          "textangle": 0,
          "x": 35.0,
          "xanchor": "center",
          "y": -110
         },
         {
          "font": {
           "color": "black",
           "size": 10
          },
          "showarrow": false,
          "text": "11",
          "textangle": 0,
          "x": 45.0,
          "xanchor": "center",
          "y": -110
         },
         {
          "font": {
           "color": "black",
           "size": 10
          },
          "showarrow": false,
          "text": "1",
          "textangle": 0,
          "x": 55.0,
          "xanchor": "center",
          "y": -110
         },
         {
          "font": {
           "color": "black",
           "size": 10
          },
          "showarrow": false,
          "text": "1",
          "textangle": 0,
          "x": -60.0,
          "xanchor": "center",
          "y": -120
         },
         {
          "font": {
           "color": "black",
           "size": 10
          },
          "showarrow": false,
          "text": "12",
          "textangle": 0,
          "x": -50.0,
          "xanchor": "center",
          "y": -120
         },
         {
          "font": {
           "color": "black",
           "size": 10
          },
          "showarrow": false,
          "text": "66",
          "textangle": 0,
          "x": -40.0,
          "xanchor": "center",
          "y": -120
         },
         {
          "font": {
           "color": "black",
           "size": 10
          },
          "showarrow": false,
          "text": "220",
          "textangle": 0,
          "x": -30.0,
          "xanchor": "center",
          "y": -120
         },
         {
          "font": {
           "color": "black",
           "size": 10
          },
          "showarrow": false,
          "text": "495",
          "textangle": 0,
          "x": -20.0,
          "xanchor": "center",
          "y": -120
         },
         {
          "font": {
           "color": "black",
           "size": 10
          },
          "showarrow": false,
          "text": "792",
          "textangle": 0,
          "x": -10.0,
          "xanchor": "center",
          "y": -120
         },
         {
          "font": {
           "color": "black",
           "size": 10
          },
          "showarrow": false,
          "text": "924",
          "textangle": 0,
          "x": 0.0,
          "xanchor": "center",
          "y": -120
         },
         {
          "font": {
           "color": "black",
           "size": 10
          },
          "showarrow": false,
          "text": "792",
          "textangle": 0,
          "x": 10.0,
          "xanchor": "center",
          "y": -120
         },
         {
          "font": {
           "color": "black",
           "size": 10
          },
          "showarrow": false,
          "text": "495",
          "textangle": 0,
          "x": 20.0,
          "xanchor": "center",
          "y": -120
         },
         {
          "font": {
           "color": "black",
           "size": 10
          },
          "showarrow": false,
          "text": "220",
          "textangle": 0,
          "x": 30.0,
          "xanchor": "center",
          "y": -120
         },
         {
          "font": {
           "color": "black",
           "size": 10
          },
          "showarrow": false,
          "text": "66",
          "textangle": 0,
          "x": 40.0,
          "xanchor": "center",
          "y": -120
         },
         {
          "font": {
           "color": "black",
           "size": 10
          },
          "showarrow": false,
          "text": "12",
          "textangle": 0,
          "x": 50.0,
          "xanchor": "center",
          "y": -120
         },
         {
          "font": {
           "color": "black",
           "size": 10
          },
          "showarrow": false,
          "text": "1",
          "textangle": 0,
          "x": 60.0,
          "xanchor": "center",
          "y": -120
         },
         {
          "font": {
           "color": "black",
           "size": 10
          },
          "showarrow": false,
          "text": "1",
          "textangle": 0,
          "x": -65.0,
          "xanchor": "center",
          "y": -130
         },
         {
          "font": {
           "color": "black",
           "size": 10
          },
          "showarrow": false,
          "text": "13",
          "textangle": 0,
          "x": -55.0,
          "xanchor": "center",
          "y": -130
         },
         {
          "font": {
           "color": "black",
           "size": 10
          },
          "showarrow": false,
          "text": "78",
          "textangle": 0,
          "x": -45.0,
          "xanchor": "center",
          "y": -130
         },
         {
          "font": {
           "color": "black",
           "size": 10
          },
          "showarrow": false,
          "text": "286",
          "textangle": 0,
          "x": -35.0,
          "xanchor": "center",
          "y": -130
         },
         {
          "font": {
           "color": "black",
           "size": 10
          },
          "showarrow": false,
          "text": "715",
          "textangle": 0,
          "x": -25.0,
          "xanchor": "center",
          "y": -130
         },
         {
          "font": {
           "color": "black",
           "size": 10
          },
          "showarrow": false,
          "text": "1287",
          "textangle": 0,
          "x": -15.0,
          "xanchor": "center",
          "y": -130
         },
         {
          "font": {
           "color": "black",
           "size": 10
          },
          "showarrow": false,
          "text": "1716",
          "textangle": 0,
          "x": -5.0,
          "xanchor": "center",
          "y": -130
         },
         {
          "font": {
           "color": "black",
           "size": 10
          },
          "showarrow": false,
          "text": "1716",
          "textangle": 0,
          "x": 5.0,
          "xanchor": "center",
          "y": -130
         },
         {
          "font": {
           "color": "black",
           "size": 10
          },
          "showarrow": false,
          "text": "1287",
          "textangle": 0,
          "x": 15.0,
          "xanchor": "center",
          "y": -130
         },
         {
          "font": {
           "color": "black",
           "size": 10
          },
          "showarrow": false,
          "text": "715",
          "textangle": 0,
          "x": 25.0,
          "xanchor": "center",
          "y": -130
         },
         {
          "font": {
           "color": "black",
           "size": 10
          },
          "showarrow": false,
          "text": "286",
          "textangle": 0,
          "x": 35.0,
          "xanchor": "center",
          "y": -130
         },
         {
          "font": {
           "color": "black",
           "size": 10
          },
          "showarrow": false,
          "text": "78",
          "textangle": 0,
          "x": 45.0,
          "xanchor": "center",
          "y": -130
         },
         {
          "font": {
           "color": "black",
           "size": 10
          },
          "showarrow": false,
          "text": "13",
          "textangle": 0,
          "x": 55.0,
          "xanchor": "center",
          "y": -130
         },
         {
          "font": {
           "color": "black",
           "size": 10
          },
          "showarrow": false,
          "text": "1",
          "textangle": 0,
          "x": 65.0,
          "xanchor": "center",
          "y": -130
         },
         {
          "font": {
           "color": "black",
           "size": 10
          },
          "showarrow": false,
          "text": "1",
          "textangle": 0,
          "x": -70.0,
          "xanchor": "center",
          "y": -140
         },
         {
          "font": {
           "color": "black",
           "size": 10
          },
          "showarrow": false,
          "text": "14",
          "textangle": 0,
          "x": -60.0,
          "xanchor": "center",
          "y": -140
         },
         {
          "font": {
           "color": "black",
           "size": 10
          },
          "showarrow": false,
          "text": "91",
          "textangle": 0,
          "x": -50.0,
          "xanchor": "center",
          "y": -140
         },
         {
          "font": {
           "color": "black",
           "size": 10
          },
          "showarrow": false,
          "text": "364",
          "textangle": 0,
          "x": -40.0,
          "xanchor": "center",
          "y": -140
         },
         {
          "font": {
           "color": "black",
           "size": 10
          },
          "showarrow": false,
          "text": "1001",
          "textangle": 0,
          "x": -30.0,
          "xanchor": "center",
          "y": -140
         },
         {
          "font": {
           "color": "black",
           "size": 10
          },
          "showarrow": false,
          "text": "2002",
          "textangle": 0,
          "x": -20.0,
          "xanchor": "center",
          "y": -140
         },
         {
          "font": {
           "color": "black",
           "size": 10
          },
          "showarrow": false,
          "text": "3003",
          "textangle": 0,
          "x": -10.0,
          "xanchor": "center",
          "y": -140
         },
         {
          "font": {
           "color": "black",
           "size": 10
          },
          "showarrow": false,
          "text": "3432",
          "textangle": 0,
          "x": 0.0,
          "xanchor": "center",
          "y": -140
         },
         {
          "font": {
           "color": "black",
           "size": 10
          },
          "showarrow": false,
          "text": "3003",
          "textangle": 0,
          "x": 10.0,
          "xanchor": "center",
          "y": -140
         },
         {
          "font": {
           "color": "black",
           "size": 10
          },
          "showarrow": false,
          "text": "2002",
          "textangle": 0,
          "x": 20.0,
          "xanchor": "center",
          "y": -140
         },
         {
          "font": {
           "color": "black",
           "size": 10
          },
          "showarrow": false,
          "text": "1001",
          "textangle": 0,
          "x": 30.0,
          "xanchor": "center",
          "y": -140
         },
         {
          "font": {
           "color": "black",
           "size": 10
          },
          "showarrow": false,
          "text": "364",
          "textangle": 0,
          "x": 40.0,
          "xanchor": "center",
          "y": -140
         },
         {
          "font": {
           "color": "black",
           "size": 10
          },
          "showarrow": false,
          "text": "91",
          "textangle": 0,
          "x": 50.0,
          "xanchor": "center",
          "y": -140
         },
         {
          "font": {
           "color": "black",
           "size": 10
          },
          "showarrow": false,
          "text": "14",
          "textangle": 0,
          "x": 60.0,
          "xanchor": "center",
          "y": -140
         },
         {
          "font": {
           "color": "black",
           "size": 10
          },
          "showarrow": false,
          "text": "1",
          "textangle": 0,
          "x": 70.0,
          "xanchor": "center",
          "y": -140
         },
         {
          "font": {
           "color": "black",
           "size": 10
          },
          "showarrow": false,
          "text": "1",
          "textangle": 0,
          "x": -75.0,
          "xanchor": "center",
          "y": -150
         },
         {
          "font": {
           "color": "black",
           "size": 10
          },
          "showarrow": false,
          "text": "15",
          "textangle": 0,
          "x": -65.0,
          "xanchor": "center",
          "y": -150
         },
         {
          "font": {
           "color": "black",
           "size": 10
          },
          "showarrow": false,
          "text": "105",
          "textangle": 0,
          "x": -55.0,
          "xanchor": "center",
          "y": -150
         },
         {
          "font": {
           "color": "black",
           "size": 10
          },
          "showarrow": false,
          "text": "455",
          "textangle": 0,
          "x": -45.0,
          "xanchor": "center",
          "y": -150
         },
         {
          "font": {
           "color": "black",
           "size": 10
          },
          "showarrow": false,
          "text": "1365",
          "textangle": 0,
          "x": -35.0,
          "xanchor": "center",
          "y": -150
         },
         {
          "font": {
           "color": "black",
           "size": 10
          },
          "showarrow": false,
          "text": "3003",
          "textangle": 0,
          "x": -25.0,
          "xanchor": "center",
          "y": -150
         },
         {
          "font": {
           "color": "black",
           "size": 10
          },
          "showarrow": false,
          "text": "5005",
          "textangle": 0,
          "x": -15.0,
          "xanchor": "center",
          "y": -150
         },
         {
          "font": {
           "color": "black",
           "size": 10
          },
          "showarrow": false,
          "text": "6435",
          "textangle": 0,
          "x": -5.0,
          "xanchor": "center",
          "y": -150
         },
         {
          "font": {
           "color": "black",
           "size": 10
          },
          "showarrow": false,
          "text": "6435",
          "textangle": 0,
          "x": 5.0,
          "xanchor": "center",
          "y": -150
         },
         {
          "font": {
           "color": "black",
           "size": 10
          },
          "showarrow": false,
          "text": "5005",
          "textangle": 0,
          "x": 15.0,
          "xanchor": "center",
          "y": -150
         },
         {
          "font": {
           "color": "black",
           "size": 10
          },
          "showarrow": false,
          "text": "3003",
          "textangle": 0,
          "x": 25.0,
          "xanchor": "center",
          "y": -150
         },
         {
          "font": {
           "color": "black",
           "size": 10
          },
          "showarrow": false,
          "text": "1365",
          "textangle": 0,
          "x": 35.0,
          "xanchor": "center",
          "y": -150
         },
         {
          "font": {
           "color": "black",
           "size": 10
          },
          "showarrow": false,
          "text": "455",
          "textangle": 0,
          "x": 45.0,
          "xanchor": "center",
          "y": -150
         },
         {
          "font": {
           "color": "black",
           "size": 10
          },
          "showarrow": false,
          "text": "105",
          "textangle": 0,
          "x": 55.0,
          "xanchor": "center",
          "y": -150
         },
         {
          "font": {
           "color": "black",
           "size": 10
          },
          "showarrow": false,
          "text": "15",
          "textangle": 0,
          "x": 65.0,
          "xanchor": "center",
          "y": -150
         },
         {
          "font": {
           "color": "black",
           "size": 10
          },
          "showarrow": false,
          "text": "1",
          "textangle": 0,
          "x": 75.0,
          "xanchor": "center",
          "y": -150
         },
         {
          "font": {
           "color": "black",
           "size": 10
          },
          "showarrow": false,
          "text": "1",
          "textangle": 0,
          "x": -80.0,
          "xanchor": "center",
          "y": -160
         },
         {
          "font": {
           "color": "black",
           "size": 10
          },
          "showarrow": false,
          "text": "16",
          "textangle": 0,
          "x": -70.0,
          "xanchor": "center",
          "y": -160
         },
         {
          "font": {
           "color": "black",
           "size": 10
          },
          "showarrow": false,
          "text": "120",
          "textangle": 0,
          "x": -60.0,
          "xanchor": "center",
          "y": -160
         },
         {
          "font": {
           "color": "black",
           "size": 10
          },
          "showarrow": false,
          "text": "560",
          "textangle": 0,
          "x": -50.0,
          "xanchor": "center",
          "y": -160
         },
         {
          "font": {
           "color": "black",
           "size": 10
          },
          "showarrow": false,
          "text": "1820",
          "textangle": 0,
          "x": -40.0,
          "xanchor": "center",
          "y": -160
         },
         {
          "font": {
           "color": "black",
           "size": 10
          },
          "showarrow": false,
          "text": "4368",
          "textangle": 0,
          "x": -30.0,
          "xanchor": "center",
          "y": -160
         },
         {
          "font": {
           "color": "black",
           "size": 10
          },
          "showarrow": false,
          "text": "8008",
          "textangle": 0,
          "x": -20.0,
          "xanchor": "center",
          "y": -160
         },
         {
          "font": {
           "color": "black",
           "size": 10
          },
          "showarrow": false,
          "text": "11440",
          "textangle": 0,
          "x": -10.0,
          "xanchor": "center",
          "y": -160
         },
         {
          "font": {
           "color": "black",
           "size": 10
          },
          "showarrow": false,
          "text": "12870",
          "textangle": 0,
          "x": 0.0,
          "xanchor": "center",
          "y": -160
         },
         {
          "font": {
           "color": "black",
           "size": 10
          },
          "showarrow": false,
          "text": "11440",
          "textangle": 0,
          "x": 10.0,
          "xanchor": "center",
          "y": -160
         },
         {
          "font": {
           "color": "black",
           "size": 10
          },
          "showarrow": false,
          "text": "8008",
          "textangle": 0,
          "x": 20.0,
          "xanchor": "center",
          "y": -160
         },
         {
          "font": {
           "color": "black",
           "size": 10
          },
          "showarrow": false,
          "text": "4368",
          "textangle": 0,
          "x": 30.0,
          "xanchor": "center",
          "y": -160
         },
         {
          "font": {
           "color": "black",
           "size": 10
          },
          "showarrow": false,
          "text": "1820",
          "textangle": 0,
          "x": 40.0,
          "xanchor": "center",
          "y": -160
         },
         {
          "font": {
           "color": "black",
           "size": 10
          },
          "showarrow": false,
          "text": "560",
          "textangle": 0,
          "x": 50.0,
          "xanchor": "center",
          "y": -160
         },
         {
          "font": {
           "color": "black",
           "size": 10
          },
          "showarrow": false,
          "text": "120",
          "textangle": 0,
          "x": 60.0,
          "xanchor": "center",
          "y": -160
         },
         {
          "font": {
           "color": "black",
           "size": 10
          },
          "showarrow": false,
          "text": "16",
          "textangle": 0,
          "x": 70.0,
          "xanchor": "center",
          "y": -160
         },
         {
          "font": {
           "color": "black",
           "size": 10
          },
          "showarrow": false,
          "text": "1",
          "textangle": 0,
          "x": 80.0,
          "xanchor": "center",
          "y": -160
         },
         {
          "font": {
           "color": "black",
           "size": 10
          },
          "showarrow": false,
          "text": "1",
          "textangle": 0,
          "x": -85.0,
          "xanchor": "center",
          "y": -170
         },
         {
          "font": {
           "color": "black",
           "size": 10
          },
          "showarrow": false,
          "text": "17",
          "textangle": 0,
          "x": -75.0,
          "xanchor": "center",
          "y": -170
         },
         {
          "font": {
           "color": "black",
           "size": 10
          },
          "showarrow": false,
          "text": "136",
          "textangle": 0,
          "x": -65.0,
          "xanchor": "center",
          "y": -170
         },
         {
          "font": {
           "color": "black",
           "size": 10
          },
          "showarrow": false,
          "text": "680",
          "textangle": 0,
          "x": -55.0,
          "xanchor": "center",
          "y": -170
         },
         {
          "font": {
           "color": "black",
           "size": 10
          },
          "showarrow": false,
          "text": "2380",
          "textangle": 0,
          "x": -45.0,
          "xanchor": "center",
          "y": -170
         },
         {
          "font": {
           "color": "black",
           "size": 10
          },
          "showarrow": false,
          "text": "6188",
          "textangle": 0,
          "x": -35.0,
          "xanchor": "center",
          "y": -170
         },
         {
          "font": {
           "color": "black",
           "size": 10
          },
          "showarrow": false,
          "text": "12376",
          "textangle": 0,
          "x": -25.0,
          "xanchor": "center",
          "y": -170
         },
         {
          "font": {
           "color": "black",
           "size": 10
          },
          "showarrow": false,
          "text": "19448",
          "textangle": 0,
          "x": -15.0,
          "xanchor": "center",
          "y": -170
         },
         {
          "font": {
           "color": "black",
           "size": 10
          },
          "showarrow": false,
          "text": "24310",
          "textangle": 0,
          "x": -5.0,
          "xanchor": "center",
          "y": -170
         },
         {
          "font": {
           "color": "black",
           "size": 10
          },
          "showarrow": false,
          "text": "24310",
          "textangle": 0,
          "x": 5.0,
          "xanchor": "center",
          "y": -170
         },
         {
          "font": {
           "color": "black",
           "size": 10
          },
          "showarrow": false,
          "text": "19448",
          "textangle": 0,
          "x": 15.0,
          "xanchor": "center",
          "y": -170
         },
         {
          "font": {
           "color": "black",
           "size": 10
          },
          "showarrow": false,
          "text": "12376",
          "textangle": 0,
          "x": 25.0,
          "xanchor": "center",
          "y": -170
         },
         {
          "font": {
           "color": "black",
           "size": 10
          },
          "showarrow": false,
          "text": "6188",
          "textangle": 0,
          "x": 35.0,
          "xanchor": "center",
          "y": -170
         },
         {
          "font": {
           "color": "black",
           "size": 10
          },
          "showarrow": false,
          "text": "2380",
          "textangle": 0,
          "x": 45.0,
          "xanchor": "center",
          "y": -170
         },
         {
          "font": {
           "color": "black",
           "size": 10
          },
          "showarrow": false,
          "text": "680",
          "textangle": 0,
          "x": 55.0,
          "xanchor": "center",
          "y": -170
         },
         {
          "font": {
           "color": "black",
           "size": 10
          },
          "showarrow": false,
          "text": "136",
          "textangle": 0,
          "x": 65.0,
          "xanchor": "center",
          "y": -170
         },
         {
          "font": {
           "color": "black",
           "size": 10
          },
          "showarrow": false,
          "text": "17",
          "textangle": 0,
          "x": 75.0,
          "xanchor": "center",
          "y": -170
         },
         {
          "font": {
           "color": "black",
           "size": 10
          },
          "showarrow": false,
          "text": "1",
          "textangle": 0,
          "x": 85.0,
          "xanchor": "center",
          "y": -170
         },
         {
          "font": {
           "color": "black",
           "size": 10
          },
          "showarrow": false,
          "text": "1",
          "textangle": 0,
          "x": -90.0,
          "xanchor": "center",
          "y": -180
         },
         {
          "font": {
           "color": "black",
           "size": 10
          },
          "showarrow": false,
          "text": "18",
          "textangle": 0,
          "x": -80.0,
          "xanchor": "center",
          "y": -180
         },
         {
          "font": {
           "color": "black",
           "size": 10
          },
          "showarrow": false,
          "text": "153",
          "textangle": 0,
          "x": -70.0,
          "xanchor": "center",
          "y": -180
         },
         {
          "font": {
           "color": "black",
           "size": 10
          },
          "showarrow": false,
          "text": "816",
          "textangle": 0,
          "x": -60.0,
          "xanchor": "center",
          "y": -180
         },
         {
          "font": {
           "color": "black",
           "size": 10
          },
          "showarrow": false,
          "text": "3060",
          "textangle": 0,
          "x": -50.0,
          "xanchor": "center",
          "y": -180
         },
         {
          "font": {
           "color": "black",
           "size": 10
          },
          "showarrow": false,
          "text": "8568",
          "textangle": 0,
          "x": -40.0,
          "xanchor": "center",
          "y": -180
         },
         {
          "font": {
           "color": "black",
           "size": 10
          },
          "showarrow": false,
          "text": "18564",
          "textangle": 0,
          "x": -30.0,
          "xanchor": "center",
          "y": -180
         },
         {
          "font": {
           "color": "black",
           "size": 10
          },
          "showarrow": false,
          "text": "31824",
          "textangle": 0,
          "x": -20.0,
          "xanchor": "center",
          "y": -180
         },
         {
          "font": {
           "color": "black",
           "size": 10
          },
          "showarrow": false,
          "text": "43758",
          "textangle": 0,
          "x": -10.0,
          "xanchor": "center",
          "y": -180
         },
         {
          "font": {
           "color": "black",
           "size": 10
          },
          "showarrow": false,
          "text": "48620",
          "textangle": 0,
          "x": 0.0,
          "xanchor": "center",
          "y": -180
         },
         {
          "font": {
           "color": "black",
           "size": 10
          },
          "showarrow": false,
          "text": "43758",
          "textangle": 0,
          "x": 10.0,
          "xanchor": "center",
          "y": -180
         },
         {
          "font": {
           "color": "black",
           "size": 10
          },
          "showarrow": false,
          "text": "31824",
          "textangle": 0,
          "x": 20.0,
          "xanchor": "center",
          "y": -180
         },
         {
          "font": {
           "color": "black",
           "size": 10
          },
          "showarrow": false,
          "text": "18564",
          "textangle": 0,
          "x": 30.0,
          "xanchor": "center",
          "y": -180
         },
         {
          "font": {
           "color": "black",
           "size": 10
          },
          "showarrow": false,
          "text": "8568",
          "textangle": 0,
          "x": 40.0,
          "xanchor": "center",
          "y": -180
         },
         {
          "font": {
           "color": "black",
           "size": 10
          },
          "showarrow": false,
          "text": "3060",
          "textangle": 0,
          "x": 50.0,
          "xanchor": "center",
          "y": -180
         },
         {
          "font": {
           "color": "black",
           "size": 10
          },
          "showarrow": false,
          "text": "816",
          "textangle": 0,
          "x": 60.0,
          "xanchor": "center",
          "y": -180
         },
         {
          "font": {
           "color": "black",
           "size": 10
          },
          "showarrow": false,
          "text": "153",
          "textangle": 0,
          "x": 70.0,
          "xanchor": "center",
          "y": -180
         },
         {
          "font": {
           "color": "black",
           "size": 10
          },
          "showarrow": false,
          "text": "18",
          "textangle": 0,
          "x": 80.0,
          "xanchor": "center",
          "y": -180
         },
         {
          "font": {
           "color": "black",
           "size": 10
          },
          "showarrow": false,
          "text": "1",
          "textangle": 0,
          "x": 90.0,
          "xanchor": "center",
          "y": -180
         },
         {
          "font": {
           "color": "black",
           "size": 10
          },
          "showarrow": false,
          "text": "1",
          "textangle": 0,
          "x": -95.0,
          "xanchor": "center",
          "y": -190
         },
         {
          "font": {
           "color": "black",
           "size": 10
          },
          "showarrow": false,
          "text": "19",
          "textangle": 0,
          "x": -85.0,
          "xanchor": "center",
          "y": -190
         },
         {
          "font": {
           "color": "black",
           "size": 10
          },
          "showarrow": false,
          "text": "171",
          "textangle": 0,
          "x": -75.0,
          "xanchor": "center",
          "y": -190
         },
         {
          "font": {
           "color": "black",
           "size": 10
          },
          "showarrow": false,
          "text": "969",
          "textangle": 0,
          "x": -65.0,
          "xanchor": "center",
          "y": -190
         },
         {
          "font": {
           "color": "black",
           "size": 10
          },
          "showarrow": false,
          "text": "3876",
          "textangle": 0,
          "x": -55.0,
          "xanchor": "center",
          "y": -190
         },
         {
          "font": {
           "color": "black",
           "size": 10
          },
          "showarrow": false,
          "text": "11628",
          "textangle": 0,
          "x": -45.0,
          "xanchor": "center",
          "y": -190
         },
         {
          "font": {
           "color": "black",
           "size": 10
          },
          "showarrow": false,
          "text": "27132",
          "textangle": 0,
          "x": -35.0,
          "xanchor": "center",
          "y": -190
         },
         {
          "font": {
           "color": "black",
           "size": 10
          },
          "showarrow": false,
          "text": "50388",
          "textangle": 0,
          "x": -25.0,
          "xanchor": "center",
          "y": -190
         },
         {
          "font": {
           "color": "black",
           "size": 10
          },
          "showarrow": false,
          "text": "75582",
          "textangle": 0,
          "x": -15.0,
          "xanchor": "center",
          "y": -190
         },
         {
          "font": {
           "color": "black",
           "size": 10
          },
          "showarrow": false,
          "text": "92378",
          "textangle": 0,
          "x": -5.0,
          "xanchor": "center",
          "y": -190
         },
         {
          "font": {
           "color": "black",
           "size": 10
          },
          "showarrow": false,
          "text": "92378",
          "textangle": 0,
          "x": 5.0,
          "xanchor": "center",
          "y": -190
         },
         {
          "font": {
           "color": "black",
           "size": 10
          },
          "showarrow": false,
          "text": "75582",
          "textangle": 0,
          "x": 15.0,
          "xanchor": "center",
          "y": -190
         },
         {
          "font": {
           "color": "black",
           "size": 10
          },
          "showarrow": false,
          "text": "50388",
          "textangle": 0,
          "x": 25.0,
          "xanchor": "center",
          "y": -190
         },
         {
          "font": {
           "color": "black",
           "size": 10
          },
          "showarrow": false,
          "text": "27132",
          "textangle": 0,
          "x": 35.0,
          "xanchor": "center",
          "y": -190
         },
         {
          "font": {
           "color": "black",
           "size": 10
          },
          "showarrow": false,
          "text": "11628",
          "textangle": 0,
          "x": 45.0,
          "xanchor": "center",
          "y": -190
         },
         {
          "font": {
           "color": "black",
           "size": 10
          },
          "showarrow": false,
          "text": "3876",
          "textangle": 0,
          "x": 55.0,
          "xanchor": "center",
          "y": -190
         },
         {
          "font": {
           "color": "black",
           "size": 10
          },
          "showarrow": false,
          "text": "969",
          "textangle": 0,
          "x": 65.0,
          "xanchor": "center",
          "y": -190
         },
         {
          "font": {
           "color": "black",
           "size": 10
          },
          "showarrow": false,
          "text": "171",
          "textangle": 0,
          "x": 75.0,
          "xanchor": "center",
          "y": -190
         },
         {
          "font": {
           "color": "black",
           "size": 10
          },
          "showarrow": false,
          "text": "19",
          "textangle": 0,
          "x": 85.0,
          "xanchor": "center",
          "y": -190
         },
         {
          "font": {
           "color": "black",
           "size": 10
          },
          "showarrow": false,
          "text": "1",
          "textangle": 0,
          "x": 95.0,
          "xanchor": "center",
          "y": -190
         }
        ]
       },
       "config": {
        "plotlyServerURL": "https://plot.ly"
       }
      },
      "text/html": "<div>                            <div id=\"304c921d-4cb2-4b00-b7c0-d5697aac7571\" class=\"plotly-graph-div\" style=\"height:525px; width:100%;\"></div>            <script type=\"text/javascript\">                require([\"plotly\"], function(Plotly) {                    window.PLOTLYENV=window.PLOTLYENV || {};                                    if (document.getElementById(\"304c921d-4cb2-4b00-b7c0-d5697aac7571\")) {                    Plotly.newPlot(                        \"304c921d-4cb2-4b00-b7c0-d5697aac7571\",                        [{\"fill\":\"toself\",\"line\":{\"color\":\"red\",\"width\":2},\"mode\":\"lines\",\"showlegend\":false,\"x\":[5.0,-5.0,-5.0,5.0],\"y\":[5.0,5.0,-5.0,-5.0],\"type\":\"scatter\"},{\"fill\":\"toself\",\"line\":{\"color\":\"red\",\"width\":2},\"mode\":\"lines\",\"showlegend\":false,\"x\":[0.0,-10.0,-10.0,0.0],\"y\":[-5.0,-5.0,-15.0,-15.0],\"type\":\"scatter\"},{\"fill\":\"toself\",\"line\":{\"color\":\"red\",\"width\":2},\"mode\":\"lines\",\"showlegend\":false,\"x\":[10.0,0.0,0.0,10.0],\"y\":[-5.0,-5.0,-15.0,-15.0],\"type\":\"scatter\"},{\"fill\":\"toself\",\"line\":{\"color\":\"red\",\"width\":2},\"mode\":\"lines\",\"showlegend\":false,\"x\":[-5.0,-15.0,-15.0,-5.0],\"y\":[-15.0,-15.0,-25.0,-25.0],\"type\":\"scatter\"},{\"fill\":\"toself\",\"line\":{\"color\":\"blue\",\"width\":2},\"mode\":\"lines\",\"showlegend\":false,\"x\":[5.0,-5.0,-5.0,5.0],\"y\":[-15.0,-15.0,-25.0,-25.0],\"type\":\"scatter\"},{\"fill\":\"toself\",\"line\":{\"color\":\"red\",\"width\":2},\"mode\":\"lines\",\"showlegend\":false,\"x\":[15.0,5.0,5.0,15.0],\"y\":[-15.0,-15.0,-25.0,-25.0],\"type\":\"scatter\"},{\"fill\":\"toself\",\"line\":{\"color\":\"red\",\"width\":2},\"mode\":\"lines\",\"showlegend\":false,\"x\":[-10.0,-20.0,-20.0,-10.0],\"y\":[-25.0,-25.0,-35.0,-35.0],\"type\":\"scatter\"},{\"fill\":\"toself\",\"line\":{\"color\":\"red\",\"width\":2},\"mode\":\"lines\",\"showlegend\":false,\"x\":[0.0,-10.0,-10.0,0.0],\"y\":[-25.0,-25.0,-35.0,-35.0],\"type\":\"scatter\"},{\"fill\":\"toself\",\"line\":{\"color\":\"red\",\"width\":2},\"mode\":\"lines\",\"showlegend\":false,\"x\":[10.0,0.0,0.0,10.0],\"y\":[-25.0,-25.0,-35.0,-35.0],\"type\":\"scatter\"},{\"fill\":\"toself\",\"line\":{\"color\":\"red\",\"width\":2},\"mode\":\"lines\",\"showlegend\":false,\"x\":[20.0,10.0,10.0,20.0],\"y\":[-25.0,-25.0,-35.0,-35.0],\"type\":\"scatter\"},{\"fill\":\"toself\",\"line\":{\"color\":\"red\",\"width\":2},\"mode\":\"lines\",\"showlegend\":false,\"x\":[-15.0,-25.0,-25.0,-15.0],\"y\":[-35.0,-35.0,-45.0,-45.0],\"type\":\"scatter\"},{\"fill\":\"toself\",\"line\":{\"color\":\"blue\",\"width\":2},\"mode\":\"lines\",\"showlegend\":false,\"x\":[-5.0,-15.0,-15.0,-5.0],\"y\":[-35.0,-35.0,-45.0,-45.0],\"type\":\"scatter\"},{\"fill\":\"toself\",\"line\":{\"color\":\"blue\",\"width\":2},\"mode\":\"lines\",\"showlegend\":false,\"x\":[5.0,-5.0,-5.0,5.0],\"y\":[-35.0,-35.0,-45.0,-45.0],\"type\":\"scatter\"},{\"fill\":\"toself\",\"line\":{\"color\":\"blue\",\"width\":2},\"mode\":\"lines\",\"showlegend\":false,\"x\":[15.0,5.0,5.0,15.0],\"y\":[-35.0,-35.0,-45.0,-45.0],\"type\":\"scatter\"},{\"fill\":\"toself\",\"line\":{\"color\":\"red\",\"width\":2},\"mode\":\"lines\",\"showlegend\":false,\"x\":[25.0,15.0,15.0,25.0],\"y\":[-35.0,-35.0,-45.0,-45.0],\"type\":\"scatter\"},{\"fill\":\"toself\",\"line\":{\"color\":\"red\",\"width\":2},\"mode\":\"lines\",\"showlegend\":false,\"x\":[-20.0,-30.0,-30.0,-20.0],\"y\":[-45.0,-45.0,-55.0,-55.0],\"type\":\"scatter\"},{\"fill\":\"toself\",\"line\":{\"color\":\"red\",\"width\":2},\"mode\":\"lines\",\"showlegend\":false,\"x\":[-10.0,-20.0,-20.0,-10.0],\"y\":[-45.0,-45.0,-55.0,-55.0],\"type\":\"scatter\"},{\"fill\":\"toself\",\"line\":{\"color\":\"blue\",\"width\":2},\"mode\":\"lines\",\"showlegend\":false,\"x\":[0.0,-10.0,-10.0,0.0],\"y\":[-45.0,-45.0,-55.0,-55.0],\"type\":\"scatter\"},{\"fill\":\"toself\",\"line\":{\"color\":\"blue\",\"width\":2},\"mode\":\"lines\",\"showlegend\":false,\"x\":[10.0,0.0,0.0,10.0],\"y\":[-45.0,-45.0,-55.0,-55.0],\"type\":\"scatter\"},{\"fill\":\"toself\",\"line\":{\"color\":\"red\",\"width\":2},\"mode\":\"lines\",\"showlegend\":false,\"x\":[20.0,10.0,10.0,20.0],\"y\":[-45.0,-45.0,-55.0,-55.0],\"type\":\"scatter\"},{\"fill\":\"toself\",\"line\":{\"color\":\"red\",\"width\":2},\"mode\":\"lines\",\"showlegend\":false,\"x\":[30.0,20.0,20.0,30.0],\"y\":[-45.0,-45.0,-55.0,-55.0],\"type\":\"scatter\"},{\"fill\":\"toself\",\"line\":{\"color\":\"red\",\"width\":2},\"mode\":\"lines\",\"showlegend\":false,\"x\":[-25.0,-35.0,-35.0,-25.0],\"y\":[-55.0,-55.0,-65.0,-65.0],\"type\":\"scatter\"},{\"fill\":\"toself\",\"line\":{\"color\":\"blue\",\"width\":2},\"mode\":\"lines\",\"showlegend\":false,\"x\":[-15.0,-25.0,-25.0,-15.0],\"y\":[-55.0,-55.0,-65.0,-65.0],\"type\":\"scatter\"},{\"fill\":\"toself\",\"line\":{\"color\":\"red\",\"width\":2},\"mode\":\"lines\",\"showlegend\":false,\"x\":[-5.0,-15.0,-15.0,-5.0],\"y\":[-55.0,-55.0,-65.0,-65.0],\"type\":\"scatter\"},{\"fill\":\"toself\",\"line\":{\"color\":\"blue\",\"width\":2},\"mode\":\"lines\",\"showlegend\":false,\"x\":[5.0,-5.0,-5.0,5.0],\"y\":[-55.0,-55.0,-65.0,-65.0],\"type\":\"scatter\"},{\"fill\":\"toself\",\"line\":{\"color\":\"red\",\"width\":2},\"mode\":\"lines\",\"showlegend\":false,\"x\":[15.0,5.0,5.0,15.0],\"y\":[-55.0,-55.0,-65.0,-65.0],\"type\":\"scatter\"},{\"fill\":\"toself\",\"line\":{\"color\":\"blue\",\"width\":2},\"mode\":\"lines\",\"showlegend\":false,\"x\":[25.0,15.0,15.0,25.0],\"y\":[-55.0,-55.0,-65.0,-65.0],\"type\":\"scatter\"},{\"fill\":\"toself\",\"line\":{\"color\":\"red\",\"width\":2},\"mode\":\"lines\",\"showlegend\":false,\"x\":[35.0,25.0,25.0,35.0],\"y\":[-55.0,-55.0,-65.0,-65.0],\"type\":\"scatter\"},{\"fill\":\"toself\",\"line\":{\"color\":\"red\",\"width\":2},\"mode\":\"lines\",\"showlegend\":false,\"x\":[-30.0,-40.0,-40.0,-30.0],\"y\":[-65.0,-65.0,-75.0,-75.0],\"type\":\"scatter\"},{\"fill\":\"toself\",\"line\":{\"color\":\"red\",\"width\":2},\"mode\":\"lines\",\"showlegend\":false,\"x\":[-20.0,-30.0,-30.0,-20.0],\"y\":[-65.0,-65.0,-75.0,-75.0],\"type\":\"scatter\"},{\"fill\":\"toself\",\"line\":{\"color\":\"red\",\"width\":2},\"mode\":\"lines\",\"showlegend\":false,\"x\":[-10.0,-20.0,-20.0,-10.0],\"y\":[-65.0,-65.0,-75.0,-75.0],\"type\":\"scatter\"},{\"fill\":\"toself\",\"line\":{\"color\":\"red\",\"width\":2},\"mode\":\"lines\",\"showlegend\":false,\"x\":[0.0,-10.0,-10.0,0.0],\"y\":[-65.0,-65.0,-75.0,-75.0],\"type\":\"scatter\"},{\"fill\":\"toself\",\"line\":{\"color\":\"red\",\"width\":2},\"mode\":\"lines\",\"showlegend\":false,\"x\":[10.0,0.0,0.0,10.0],\"y\":[-65.0,-65.0,-75.0,-75.0],\"type\":\"scatter\"},{\"fill\":\"toself\",\"line\":{\"color\":\"red\",\"width\":2},\"mode\":\"lines\",\"showlegend\":false,\"x\":[20.0,10.0,10.0,20.0],\"y\":[-65.0,-65.0,-75.0,-75.0],\"type\":\"scatter\"},{\"fill\":\"toself\",\"line\":{\"color\":\"red\",\"width\":2},\"mode\":\"lines\",\"showlegend\":false,\"x\":[30.0,20.0,20.0,30.0],\"y\":[-65.0,-65.0,-75.0,-75.0],\"type\":\"scatter\"},{\"fill\":\"toself\",\"line\":{\"color\":\"red\",\"width\":2},\"mode\":\"lines\",\"showlegend\":false,\"x\":[40.0,30.0,30.0,40.0],\"y\":[-65.0,-65.0,-75.0,-75.0],\"type\":\"scatter\"},{\"fill\":\"toself\",\"line\":{\"color\":\"red\",\"width\":2},\"mode\":\"lines\",\"showlegend\":false,\"x\":[-35.0,-45.0,-45.0,-35.0],\"y\":[-75.0,-75.0,-85.0,-85.0],\"type\":\"scatter\"},{\"fill\":\"toself\",\"line\":{\"color\":\"blue\",\"width\":2},\"mode\":\"lines\",\"showlegend\":false,\"x\":[-25.0,-35.0,-35.0,-25.0],\"y\":[-75.0,-75.0,-85.0,-85.0],\"type\":\"scatter\"},{\"fill\":\"toself\",\"line\":{\"color\":\"blue\",\"width\":2},\"mode\":\"lines\",\"showlegend\":false,\"x\":[-15.0,-25.0,-25.0,-15.0],\"y\":[-75.0,-75.0,-85.0,-85.0],\"type\":\"scatter\"},{\"fill\":\"toself\",\"line\":{\"color\":\"blue\",\"width\":2},\"mode\":\"lines\",\"showlegend\":false,\"x\":[-5.0,-15.0,-15.0,-5.0],\"y\":[-75.0,-75.0,-85.0,-85.0],\"type\":\"scatter\"},{\"fill\":\"toself\",\"line\":{\"color\":\"blue\",\"width\":2},\"mode\":\"lines\",\"showlegend\":false,\"x\":[5.0,-5.0,-5.0,5.0],\"y\":[-75.0,-75.0,-85.0,-85.0],\"type\":\"scatter\"},{\"fill\":\"toself\",\"line\":{\"color\":\"blue\",\"width\":2},\"mode\":\"lines\",\"showlegend\":false,\"x\":[15.0,5.0,5.0,15.0],\"y\":[-75.0,-75.0,-85.0,-85.0],\"type\":\"scatter\"},{\"fill\":\"toself\",\"line\":{\"color\":\"blue\",\"width\":2},\"mode\":\"lines\",\"showlegend\":false,\"x\":[25.0,15.0,15.0,25.0],\"y\":[-75.0,-75.0,-85.0,-85.0],\"type\":\"scatter\"},{\"fill\":\"toself\",\"line\":{\"color\":\"blue\",\"width\":2},\"mode\":\"lines\",\"showlegend\":false,\"x\":[35.0,25.0,25.0,35.0],\"y\":[-75.0,-75.0,-85.0,-85.0],\"type\":\"scatter\"},{\"fill\":\"toself\",\"line\":{\"color\":\"red\",\"width\":2},\"mode\":\"lines\",\"showlegend\":false,\"x\":[45.0,35.0,35.0,45.0],\"y\":[-75.0,-75.0,-85.0,-85.0],\"type\":\"scatter\"},{\"fill\":\"toself\",\"line\":{\"color\":\"red\",\"width\":2},\"mode\":\"lines\",\"showlegend\":false,\"x\":[-40.0,-50.0,-50.0,-40.0],\"y\":[-85.0,-85.0,-95.0,-95.0],\"type\":\"scatter\"},{\"fill\":\"toself\",\"line\":{\"color\":\"red\",\"width\":2},\"mode\":\"lines\",\"showlegend\":false,\"x\":[-30.0,-40.0,-40.0,-30.0],\"y\":[-85.0,-85.0,-95.0,-95.0],\"type\":\"scatter\"},{\"fill\":\"toself\",\"line\":{\"color\":\"blue\",\"width\":2},\"mode\":\"lines\",\"showlegend\":false,\"x\":[-20.0,-30.0,-30.0,-20.0],\"y\":[-85.0,-85.0,-95.0,-95.0],\"type\":\"scatter\"},{\"fill\":\"toself\",\"line\":{\"color\":\"blue\",\"width\":2},\"mode\":\"lines\",\"showlegend\":false,\"x\":[-10.0,-20.0,-20.0,-10.0],\"y\":[-85.0,-85.0,-95.0,-95.0],\"type\":\"scatter\"},{\"fill\":\"toself\",\"line\":{\"color\":\"blue\",\"width\":2},\"mode\":\"lines\",\"showlegend\":false,\"x\":[0.0,-10.0,-10.0,0.0],\"y\":[-85.0,-85.0,-95.0,-95.0],\"type\":\"scatter\"},{\"fill\":\"toself\",\"line\":{\"color\":\"blue\",\"width\":2},\"mode\":\"lines\",\"showlegend\":false,\"x\":[10.0,0.0,0.0,10.0],\"y\":[-85.0,-85.0,-95.0,-95.0],\"type\":\"scatter\"},{\"fill\":\"toself\",\"line\":{\"color\":\"blue\",\"width\":2},\"mode\":\"lines\",\"showlegend\":false,\"x\":[20.0,10.0,10.0,20.0],\"y\":[-85.0,-85.0,-95.0,-95.0],\"type\":\"scatter\"},{\"fill\":\"toself\",\"line\":{\"color\":\"blue\",\"width\":2},\"mode\":\"lines\",\"showlegend\":false,\"x\":[30.0,20.0,20.0,30.0],\"y\":[-85.0,-85.0,-95.0,-95.0],\"type\":\"scatter\"},{\"fill\":\"toself\",\"line\":{\"color\":\"red\",\"width\":2},\"mode\":\"lines\",\"showlegend\":false,\"x\":[40.0,30.0,30.0,40.0],\"y\":[-85.0,-85.0,-95.0,-95.0],\"type\":\"scatter\"},{\"fill\":\"toself\",\"line\":{\"color\":\"red\",\"width\":2},\"mode\":\"lines\",\"showlegend\":false,\"x\":[50.0,40.0,40.0,50.0],\"y\":[-85.0,-85.0,-95.0,-95.0],\"type\":\"scatter\"},{\"fill\":\"toself\",\"line\":{\"color\":\"red\",\"width\":2},\"mode\":\"lines\",\"showlegend\":false,\"x\":[-45.0,-55.0,-55.0,-45.0],\"y\":[-95.0,-95.0,-105.0,-105.0],\"type\":\"scatter\"},{\"fill\":\"toself\",\"line\":{\"color\":\"blue\",\"width\":2},\"mode\":\"lines\",\"showlegend\":false,\"x\":[-35.0,-45.0,-45.0,-35.0],\"y\":[-95.0,-95.0,-105.0,-105.0],\"type\":\"scatter\"},{\"fill\":\"toself\",\"line\":{\"color\":\"red\",\"width\":2},\"mode\":\"lines\",\"showlegend\":false,\"x\":[-25.0,-35.0,-35.0,-25.0],\"y\":[-95.0,-95.0,-105.0,-105.0],\"type\":\"scatter\"},{\"fill\":\"toself\",\"line\":{\"color\":\"blue\",\"width\":2},\"mode\":\"lines\",\"showlegend\":false,\"x\":[-15.0,-25.0,-25.0,-15.0],\"y\":[-95.0,-95.0,-105.0,-105.0],\"type\":\"scatter\"},{\"fill\":\"toself\",\"line\":{\"color\":\"blue\",\"width\":2},\"mode\":\"lines\",\"showlegend\":false,\"x\":[-5.0,-15.0,-15.0,-5.0],\"y\":[-95.0,-95.0,-105.0,-105.0],\"type\":\"scatter\"},{\"fill\":\"toself\",\"line\":{\"color\":\"blue\",\"width\":2},\"mode\":\"lines\",\"showlegend\":false,\"x\":[5.0,-5.0,-5.0,5.0],\"y\":[-95.0,-95.0,-105.0,-105.0],\"type\":\"scatter\"},{\"fill\":\"toself\",\"line\":{\"color\":\"blue\",\"width\":2},\"mode\":\"lines\",\"showlegend\":false,\"x\":[15.0,5.0,5.0,15.0],\"y\":[-95.0,-95.0,-105.0,-105.0],\"type\":\"scatter\"},{\"fill\":\"toself\",\"line\":{\"color\":\"blue\",\"width\":2},\"mode\":\"lines\",\"showlegend\":false,\"x\":[25.0,15.0,15.0,25.0],\"y\":[-95.0,-95.0,-105.0,-105.0],\"type\":\"scatter\"},{\"fill\":\"toself\",\"line\":{\"color\":\"red\",\"width\":2},\"mode\":\"lines\",\"showlegend\":false,\"x\":[35.0,25.0,25.0,35.0],\"y\":[-95.0,-95.0,-105.0,-105.0],\"type\":\"scatter\"},{\"fill\":\"toself\",\"line\":{\"color\":\"blue\",\"width\":2},\"mode\":\"lines\",\"showlegend\":false,\"x\":[45.0,35.0,35.0,45.0],\"y\":[-95.0,-95.0,-105.0,-105.0],\"type\":\"scatter\"},{\"fill\":\"toself\",\"line\":{\"color\":\"red\",\"width\":2},\"mode\":\"lines\",\"showlegend\":false,\"x\":[55.0,45.0,45.0,55.0],\"y\":[-95.0,-95.0,-105.0,-105.0],\"type\":\"scatter\"},{\"fill\":\"toself\",\"line\":{\"color\":\"red\",\"width\":2},\"mode\":\"lines\",\"showlegend\":false,\"x\":[-50.0,-60.0,-60.0,-50.0],\"y\":[-105.0,-105.0,-115.0,-115.0],\"type\":\"scatter\"},{\"fill\":\"toself\",\"line\":{\"color\":\"red\",\"width\":2},\"mode\":\"lines\",\"showlegend\":false,\"x\":[-40.0,-50.0,-50.0,-40.0],\"y\":[-105.0,-105.0,-115.0,-115.0],\"type\":\"scatter\"},{\"fill\":\"toself\",\"line\":{\"color\":\"red\",\"width\":2},\"mode\":\"lines\",\"showlegend\":false,\"x\":[-30.0,-40.0,-40.0,-30.0],\"y\":[-105.0,-105.0,-115.0,-115.0],\"type\":\"scatter\"},{\"fill\":\"toself\",\"line\":{\"color\":\"red\",\"width\":2},\"mode\":\"lines\",\"showlegend\":false,\"x\":[-20.0,-30.0,-30.0,-20.0],\"y\":[-105.0,-105.0,-115.0,-115.0],\"type\":\"scatter\"},{\"fill\":\"toself\",\"line\":{\"color\":\"blue\",\"width\":2},\"mode\":\"lines\",\"showlegend\":false,\"x\":[-10.0,-20.0,-20.0,-10.0],\"y\":[-105.0,-105.0,-115.0,-115.0],\"type\":\"scatter\"},{\"fill\":\"toself\",\"line\":{\"color\":\"blue\",\"width\":2},\"mode\":\"lines\",\"showlegend\":false,\"x\":[0.0,-10.0,-10.0,0.0],\"y\":[-105.0,-105.0,-115.0,-115.0],\"type\":\"scatter\"},{\"fill\":\"toself\",\"line\":{\"color\":\"blue\",\"width\":2},\"mode\":\"lines\",\"showlegend\":false,\"x\":[10.0,0.0,0.0,10.0],\"y\":[-105.0,-105.0,-115.0,-115.0],\"type\":\"scatter\"},{\"fill\":\"toself\",\"line\":{\"color\":\"blue\",\"width\":2},\"mode\":\"lines\",\"showlegend\":false,\"x\":[20.0,10.0,10.0,20.0],\"y\":[-105.0,-105.0,-115.0,-115.0],\"type\":\"scatter\"},{\"fill\":\"toself\",\"line\":{\"color\":\"red\",\"width\":2},\"mode\":\"lines\",\"showlegend\":false,\"x\":[30.0,20.0,20.0,30.0],\"y\":[-105.0,-105.0,-115.0,-115.0],\"type\":\"scatter\"},{\"fill\":\"toself\",\"line\":{\"color\":\"red\",\"width\":2},\"mode\":\"lines\",\"showlegend\":false,\"x\":[40.0,30.0,30.0,40.0],\"y\":[-105.0,-105.0,-115.0,-115.0],\"type\":\"scatter\"},{\"fill\":\"toself\",\"line\":{\"color\":\"red\",\"width\":2},\"mode\":\"lines\",\"showlegend\":false,\"x\":[50.0,40.0,40.0,50.0],\"y\":[-105.0,-105.0,-115.0,-115.0],\"type\":\"scatter\"},{\"fill\":\"toself\",\"line\":{\"color\":\"red\",\"width\":2},\"mode\":\"lines\",\"showlegend\":false,\"x\":[60.0,50.0,50.0,60.0],\"y\":[-105.0,-105.0,-115.0,-115.0],\"type\":\"scatter\"},{\"fill\":\"toself\",\"line\":{\"color\":\"red\",\"width\":2},\"mode\":\"lines\",\"showlegend\":false,\"x\":[-55.0,-65.0,-65.0,-55.0],\"y\":[-115.0,-115.0,-125.0,-125.0],\"type\":\"scatter\"},{\"fill\":\"toself\",\"line\":{\"color\":\"blue\",\"width\":2},\"mode\":\"lines\",\"showlegend\":false,\"x\":[-45.0,-55.0,-55.0,-45.0],\"y\":[-115.0,-115.0,-125.0,-125.0],\"type\":\"scatter\"},{\"fill\":\"toself\",\"line\":{\"color\":\"blue\",\"width\":2},\"mode\":\"lines\",\"showlegend\":false,\"x\":[-35.0,-45.0,-45.0,-35.0],\"y\":[-115.0,-115.0,-125.0,-125.0],\"type\":\"scatter\"},{\"fill\":\"toself\",\"line\":{\"color\":\"blue\",\"width\":2},\"mode\":\"lines\",\"showlegend\":false,\"x\":[-25.0,-35.0,-35.0,-25.0],\"y\":[-115.0,-115.0,-125.0,-125.0],\"type\":\"scatter\"},{\"fill\":\"toself\",\"line\":{\"color\":\"red\",\"width\":2},\"mode\":\"lines\",\"showlegend\":false,\"x\":[-15.0,-25.0,-25.0,-15.0],\"y\":[-115.0,-115.0,-125.0,-125.0],\"type\":\"scatter\"},{\"fill\":\"toself\",\"line\":{\"color\":\"blue\",\"width\":2},\"mode\":\"lines\",\"showlegend\":false,\"x\":[-5.0,-15.0,-15.0,-5.0],\"y\":[-115.0,-115.0,-125.0,-125.0],\"type\":\"scatter\"},{\"fill\":\"toself\",\"line\":{\"color\":\"blue\",\"width\":2},\"mode\":\"lines\",\"showlegend\":false,\"x\":[5.0,-5.0,-5.0,5.0],\"y\":[-115.0,-115.0,-125.0,-125.0],\"type\":\"scatter\"},{\"fill\":\"toself\",\"line\":{\"color\":\"blue\",\"width\":2},\"mode\":\"lines\",\"showlegend\":false,\"x\":[15.0,5.0,5.0,15.0],\"y\":[-115.0,-115.0,-125.0,-125.0],\"type\":\"scatter\"},{\"fill\":\"toself\",\"line\":{\"color\":\"red\",\"width\":2},\"mode\":\"lines\",\"showlegend\":false,\"x\":[25.0,15.0,15.0,25.0],\"y\":[-115.0,-115.0,-125.0,-125.0],\"type\":\"scatter\"},{\"fill\":\"toself\",\"line\":{\"color\":\"blue\",\"width\":2},\"mode\":\"lines\",\"showlegend\":false,\"x\":[35.0,25.0,25.0,35.0],\"y\":[-115.0,-115.0,-125.0,-125.0],\"type\":\"scatter\"},{\"fill\":\"toself\",\"line\":{\"color\":\"blue\",\"width\":2},\"mode\":\"lines\",\"showlegend\":false,\"x\":[45.0,35.0,35.0,45.0],\"y\":[-115.0,-115.0,-125.0,-125.0],\"type\":\"scatter\"},{\"fill\":\"toself\",\"line\":{\"color\":\"blue\",\"width\":2},\"mode\":\"lines\",\"showlegend\":false,\"x\":[55.0,45.0,45.0,55.0],\"y\":[-115.0,-115.0,-125.0,-125.0],\"type\":\"scatter\"},{\"fill\":\"toself\",\"line\":{\"color\":\"red\",\"width\":2},\"mode\":\"lines\",\"showlegend\":false,\"x\":[65.0,55.0,55.0,65.0],\"y\":[-115.0,-115.0,-125.0,-125.0],\"type\":\"scatter\"},{\"fill\":\"toself\",\"line\":{\"color\":\"red\",\"width\":2},\"mode\":\"lines\",\"showlegend\":false,\"x\":[-60.0,-70.0,-70.0,-60.0],\"y\":[-125.0,-125.0,-135.0,-135.0],\"type\":\"scatter\"},{\"fill\":\"toself\",\"line\":{\"color\":\"red\",\"width\":2},\"mode\":\"lines\",\"showlegend\":false,\"x\":[-50.0,-60.0,-60.0,-50.0],\"y\":[-125.0,-125.0,-135.0,-135.0],\"type\":\"scatter\"},{\"fill\":\"toself\",\"line\":{\"color\":\"blue\",\"width\":2},\"mode\":\"lines\",\"showlegend\":false,\"x\":[-40.0,-50.0,-50.0,-40.0],\"y\":[-125.0,-125.0,-135.0,-135.0],\"type\":\"scatter\"},{\"fill\":\"toself\",\"line\":{\"color\":\"blue\",\"width\":2},\"mode\":\"lines\",\"showlegend\":false,\"x\":[-30.0,-40.0,-40.0,-30.0],\"y\":[-125.0,-125.0,-135.0,-135.0],\"type\":\"scatter\"},{\"fill\":\"toself\",\"line\":{\"color\":\"red\",\"width\":2},\"mode\":\"lines\",\"showlegend\":false,\"x\":[-20.0,-30.0,-30.0,-20.0],\"y\":[-125.0,-125.0,-135.0,-135.0],\"type\":\"scatter\"},{\"fill\":\"toself\",\"line\":{\"color\":\"red\",\"width\":2},\"mode\":\"lines\",\"showlegend\":false,\"x\":[-10.0,-20.0,-20.0,-10.0],\"y\":[-125.0,-125.0,-135.0,-135.0],\"type\":\"scatter\"},{\"fill\":\"toself\",\"line\":{\"color\":\"blue\",\"width\":2},\"mode\":\"lines\",\"showlegend\":false,\"x\":[0.0,-10.0,-10.0,0.0],\"y\":[-125.0,-125.0,-135.0,-135.0],\"type\":\"scatter\"},{\"fill\":\"toself\",\"line\":{\"color\":\"blue\",\"width\":2},\"mode\":\"lines\",\"showlegend\":false,\"x\":[10.0,0.0,0.0,10.0],\"y\":[-125.0,-125.0,-135.0,-135.0],\"type\":\"scatter\"},{\"fill\":\"toself\",\"line\":{\"color\":\"red\",\"width\":2},\"mode\":\"lines\",\"showlegend\":false,\"x\":[20.0,10.0,10.0,20.0],\"y\":[-125.0,-125.0,-135.0,-135.0],\"type\":\"scatter\"},{\"fill\":\"toself\",\"line\":{\"color\":\"red\",\"width\":2},\"mode\":\"lines\",\"showlegend\":false,\"x\":[30.0,20.0,20.0,30.0],\"y\":[-125.0,-125.0,-135.0,-135.0],\"type\":\"scatter\"},{\"fill\":\"toself\",\"line\":{\"color\":\"blue\",\"width\":2},\"mode\":\"lines\",\"showlegend\":false,\"x\":[40.0,30.0,30.0,40.0],\"y\":[-125.0,-125.0,-135.0,-135.0],\"type\":\"scatter\"},{\"fill\":\"toself\",\"line\":{\"color\":\"blue\",\"width\":2},\"mode\":\"lines\",\"showlegend\":false,\"x\":[50.0,40.0,40.0,50.0],\"y\":[-125.0,-125.0,-135.0,-135.0],\"type\":\"scatter\"},{\"fill\":\"toself\",\"line\":{\"color\":\"red\",\"width\":2},\"mode\":\"lines\",\"showlegend\":false,\"x\":[60.0,50.0,50.0,60.0],\"y\":[-125.0,-125.0,-135.0,-135.0],\"type\":\"scatter\"},{\"fill\":\"toself\",\"line\":{\"color\":\"red\",\"width\":2},\"mode\":\"lines\",\"showlegend\":false,\"x\":[70.0,60.0,60.0,70.0],\"y\":[-125.0,-125.0,-135.0,-135.0],\"type\":\"scatter\"},{\"fill\":\"toself\",\"line\":{\"color\":\"red\",\"width\":2},\"mode\":\"lines\",\"showlegend\":false,\"x\":[-65.0,-75.0,-75.0,-65.0],\"y\":[-135.0,-135.0,-145.0,-145.0],\"type\":\"scatter\"},{\"fill\":\"toself\",\"line\":{\"color\":\"blue\",\"width\":2},\"mode\":\"lines\",\"showlegend\":false,\"x\":[-55.0,-65.0,-65.0,-55.0],\"y\":[-135.0,-135.0,-145.0,-145.0],\"type\":\"scatter\"},{\"fill\":\"toself\",\"line\":{\"color\":\"red\",\"width\":2},\"mode\":\"lines\",\"showlegend\":false,\"x\":[-45.0,-55.0,-55.0,-45.0],\"y\":[-135.0,-135.0,-145.0,-145.0],\"type\":\"scatter\"},{\"fill\":\"toself\",\"line\":{\"color\":\"blue\",\"width\":2},\"mode\":\"lines\",\"showlegend\":false,\"x\":[-35.0,-45.0,-45.0,-35.0],\"y\":[-135.0,-135.0,-145.0,-145.0],\"type\":\"scatter\"},{\"fill\":\"toself\",\"line\":{\"color\":\"red\",\"width\":2},\"mode\":\"lines\",\"showlegend\":false,\"x\":[-25.0,-35.0,-35.0,-25.0],\"y\":[-135.0,-135.0,-145.0,-145.0],\"type\":\"scatter\"},{\"fill\":\"toself\",\"line\":{\"color\":\"blue\",\"width\":2},\"mode\":\"lines\",\"showlegend\":false,\"x\":[-15.0,-25.0,-25.0,-15.0],\"y\":[-135.0,-135.0,-145.0,-145.0],\"type\":\"scatter\"},{\"fill\":\"toself\",\"line\":{\"color\":\"red\",\"width\":2},\"mode\":\"lines\",\"showlegend\":false,\"x\":[-5.0,-15.0,-15.0,-5.0],\"y\":[-135.0,-135.0,-145.0,-145.0],\"type\":\"scatter\"},{\"fill\":\"toself\",\"line\":{\"color\":\"blue\",\"width\":2},\"mode\":\"lines\",\"showlegend\":false,\"x\":[5.0,-5.0,-5.0,5.0],\"y\":[-135.0,-135.0,-145.0,-145.0],\"type\":\"scatter\"},{\"fill\":\"toself\",\"line\":{\"color\":\"red\",\"width\":2},\"mode\":\"lines\",\"showlegend\":false,\"x\":[15.0,5.0,5.0,15.0],\"y\":[-135.0,-135.0,-145.0,-145.0],\"type\":\"scatter\"},{\"fill\":\"toself\",\"line\":{\"color\":\"blue\",\"width\":2},\"mode\":\"lines\",\"showlegend\":false,\"x\":[25.0,15.0,15.0,25.0],\"y\":[-135.0,-135.0,-145.0,-145.0],\"type\":\"scatter\"},{\"fill\":\"toself\",\"line\":{\"color\":\"red\",\"width\":2},\"mode\":\"lines\",\"showlegend\":false,\"x\":[35.0,25.0,25.0,35.0],\"y\":[-135.0,-135.0,-145.0,-145.0],\"type\":\"scatter\"},{\"fill\":\"toself\",\"line\":{\"color\":\"blue\",\"width\":2},\"mode\":\"lines\",\"showlegend\":false,\"x\":[45.0,35.0,35.0,45.0],\"y\":[-135.0,-135.0,-145.0,-145.0],\"type\":\"scatter\"},{\"fill\":\"toself\",\"line\":{\"color\":\"red\",\"width\":2},\"mode\":\"lines\",\"showlegend\":false,\"x\":[55.0,45.0,45.0,55.0],\"y\":[-135.0,-135.0,-145.0,-145.0],\"type\":\"scatter\"},{\"fill\":\"toself\",\"line\":{\"color\":\"blue\",\"width\":2},\"mode\":\"lines\",\"showlegend\":false,\"x\":[65.0,55.0,55.0,65.0],\"y\":[-135.0,-135.0,-145.0,-145.0],\"type\":\"scatter\"},{\"fill\":\"toself\",\"line\":{\"color\":\"red\",\"width\":2},\"mode\":\"lines\",\"showlegend\":false,\"x\":[75.0,65.0,65.0,75.0],\"y\":[-135.0,-135.0,-145.0,-145.0],\"type\":\"scatter\"},{\"fill\":\"toself\",\"line\":{\"color\":\"red\",\"width\":2},\"mode\":\"lines\",\"showlegend\":false,\"x\":[-70.0,-80.0,-80.0,-70.0],\"y\":[-145.0,-145.0,-155.0,-155.0],\"type\":\"scatter\"},{\"fill\":\"toself\",\"line\":{\"color\":\"red\",\"width\":2},\"mode\":\"lines\",\"showlegend\":false,\"x\":[-60.0,-70.0,-70.0,-60.0],\"y\":[-145.0,-145.0,-155.0,-155.0],\"type\":\"scatter\"},{\"fill\":\"toself\",\"line\":{\"color\":\"red\",\"width\":2},\"mode\":\"lines\",\"showlegend\":false,\"x\":[-50.0,-60.0,-60.0,-50.0],\"y\":[-145.0,-145.0,-155.0,-155.0],\"type\":\"scatter\"},{\"fill\":\"toself\",\"line\":{\"color\":\"red\",\"width\":2},\"mode\":\"lines\",\"showlegend\":false,\"x\":[-40.0,-50.0,-50.0,-40.0],\"y\":[-145.0,-145.0,-155.0,-155.0],\"type\":\"scatter\"},{\"fill\":\"toself\",\"line\":{\"color\":\"red\",\"width\":2},\"mode\":\"lines\",\"showlegend\":false,\"x\":[-30.0,-40.0,-40.0,-30.0],\"y\":[-145.0,-145.0,-155.0,-155.0],\"type\":\"scatter\"},{\"fill\":\"toself\",\"line\":{\"color\":\"red\",\"width\":2},\"mode\":\"lines\",\"showlegend\":false,\"x\":[-20.0,-30.0,-30.0,-20.0],\"y\":[-145.0,-145.0,-155.0,-155.0],\"type\":\"scatter\"},{\"fill\":\"toself\",\"line\":{\"color\":\"red\",\"width\":2},\"mode\":\"lines\",\"showlegend\":false,\"x\":[-10.0,-20.0,-20.0,-10.0],\"y\":[-145.0,-145.0,-155.0,-155.0],\"type\":\"scatter\"},{\"fill\":\"toself\",\"line\":{\"color\":\"red\",\"width\":2},\"mode\":\"lines\",\"showlegend\":false,\"x\":[0.0,-10.0,-10.0,0.0],\"y\":[-145.0,-145.0,-155.0,-155.0],\"type\":\"scatter\"},{\"fill\":\"toself\",\"line\":{\"color\":\"red\",\"width\":2},\"mode\":\"lines\",\"showlegend\":false,\"x\":[10.0,0.0,0.0,10.0],\"y\":[-145.0,-145.0,-155.0,-155.0],\"type\":\"scatter\"},{\"fill\":\"toself\",\"line\":{\"color\":\"red\",\"width\":2},\"mode\":\"lines\",\"showlegend\":false,\"x\":[20.0,10.0,10.0,20.0],\"y\":[-145.0,-145.0,-155.0,-155.0],\"type\":\"scatter\"},{\"fill\":\"toself\",\"line\":{\"color\":\"red\",\"width\":2},\"mode\":\"lines\",\"showlegend\":false,\"x\":[30.0,20.0,20.0,30.0],\"y\":[-145.0,-145.0,-155.0,-155.0],\"type\":\"scatter\"},{\"fill\":\"toself\",\"line\":{\"color\":\"red\",\"width\":2},\"mode\":\"lines\",\"showlegend\":false,\"x\":[40.0,30.0,30.0,40.0],\"y\":[-145.0,-145.0,-155.0,-155.0],\"type\":\"scatter\"},{\"fill\":\"toself\",\"line\":{\"color\":\"red\",\"width\":2},\"mode\":\"lines\",\"showlegend\":false,\"x\":[50.0,40.0,40.0,50.0],\"y\":[-145.0,-145.0,-155.0,-155.0],\"type\":\"scatter\"},{\"fill\":\"toself\",\"line\":{\"color\":\"red\",\"width\":2},\"mode\":\"lines\",\"showlegend\":false,\"x\":[60.0,50.0,50.0,60.0],\"y\":[-145.0,-145.0,-155.0,-155.0],\"type\":\"scatter\"},{\"fill\":\"toself\",\"line\":{\"color\":\"red\",\"width\":2},\"mode\":\"lines\",\"showlegend\":false,\"x\":[70.0,60.0,60.0,70.0],\"y\":[-145.0,-145.0,-155.0,-155.0],\"type\":\"scatter\"},{\"fill\":\"toself\",\"line\":{\"color\":\"red\",\"width\":2},\"mode\":\"lines\",\"showlegend\":false,\"x\":[80.0,70.0,70.0,80.0],\"y\":[-145.0,-145.0,-155.0,-155.0],\"type\":\"scatter\"},{\"fill\":\"toself\",\"line\":{\"color\":\"red\",\"width\":2},\"mode\":\"lines\",\"showlegend\":false,\"x\":[-75.0,-85.0,-85.0,-75.0],\"y\":[-155.0,-155.0,-165.0,-165.0],\"type\":\"scatter\"},{\"fill\":\"toself\",\"line\":{\"color\":\"blue\",\"width\":2},\"mode\":\"lines\",\"showlegend\":false,\"x\":[-65.0,-75.0,-75.0,-65.0],\"y\":[-155.0,-155.0,-165.0,-165.0],\"type\":\"scatter\"},{\"fill\":\"toself\",\"line\":{\"color\":\"blue\",\"width\":2},\"mode\":\"lines\",\"showlegend\":false,\"x\":[-55.0,-65.0,-65.0,-55.0],\"y\":[-155.0,-155.0,-165.0,-165.0],\"type\":\"scatter\"},{\"fill\":\"toself\",\"line\":{\"color\":\"blue\",\"width\":2},\"mode\":\"lines\",\"showlegend\":false,\"x\":[-45.0,-55.0,-55.0,-45.0],\"y\":[-155.0,-155.0,-165.0,-165.0],\"type\":\"scatter\"},{\"fill\":\"toself\",\"line\":{\"color\":\"blue\",\"width\":2},\"mode\":\"lines\",\"showlegend\":false,\"x\":[-35.0,-45.0,-45.0,-35.0],\"y\":[-155.0,-155.0,-165.0,-165.0],\"type\":\"scatter\"},{\"fill\":\"toself\",\"line\":{\"color\":\"blue\",\"width\":2},\"mode\":\"lines\",\"showlegend\":false,\"x\":[-25.0,-35.0,-35.0,-25.0],\"y\":[-155.0,-155.0,-165.0,-165.0],\"type\":\"scatter\"},{\"fill\":\"toself\",\"line\":{\"color\":\"blue\",\"width\":2},\"mode\":\"lines\",\"showlegend\":false,\"x\":[-15.0,-25.0,-25.0,-15.0],\"y\":[-155.0,-155.0,-165.0,-165.0],\"type\":\"scatter\"},{\"fill\":\"toself\",\"line\":{\"color\":\"blue\",\"width\":2},\"mode\":\"lines\",\"showlegend\":false,\"x\":[-5.0,-15.0,-15.0,-5.0],\"y\":[-155.0,-155.0,-165.0,-165.0],\"type\":\"scatter\"},{\"fill\":\"toself\",\"line\":{\"color\":\"blue\",\"width\":2},\"mode\":\"lines\",\"showlegend\":false,\"x\":[5.0,-5.0,-5.0,5.0],\"y\":[-155.0,-155.0,-165.0,-165.0],\"type\":\"scatter\"},{\"fill\":\"toself\",\"line\":{\"color\":\"blue\",\"width\":2},\"mode\":\"lines\",\"showlegend\":false,\"x\":[15.0,5.0,5.0,15.0],\"y\":[-155.0,-155.0,-165.0,-165.0],\"type\":\"scatter\"},{\"fill\":\"toself\",\"line\":{\"color\":\"blue\",\"width\":2},\"mode\":\"lines\",\"showlegend\":false,\"x\":[25.0,15.0,15.0,25.0],\"y\":[-155.0,-155.0,-165.0,-165.0],\"type\":\"scatter\"},{\"fill\":\"toself\",\"line\":{\"color\":\"blue\",\"width\":2},\"mode\":\"lines\",\"showlegend\":false,\"x\":[35.0,25.0,25.0,35.0],\"y\":[-155.0,-155.0,-165.0,-165.0],\"type\":\"scatter\"},{\"fill\":\"toself\",\"line\":{\"color\":\"blue\",\"width\":2},\"mode\":\"lines\",\"showlegend\":false,\"x\":[45.0,35.0,35.0,45.0],\"y\":[-155.0,-155.0,-165.0,-165.0],\"type\":\"scatter\"},{\"fill\":\"toself\",\"line\":{\"color\":\"blue\",\"width\":2},\"mode\":\"lines\",\"showlegend\":false,\"x\":[55.0,45.0,45.0,55.0],\"y\":[-155.0,-155.0,-165.0,-165.0],\"type\":\"scatter\"},{\"fill\":\"toself\",\"line\":{\"color\":\"blue\",\"width\":2},\"mode\":\"lines\",\"showlegend\":false,\"x\":[65.0,55.0,55.0,65.0],\"y\":[-155.0,-155.0,-165.0,-165.0],\"type\":\"scatter\"},{\"fill\":\"toself\",\"line\":{\"color\":\"blue\",\"width\":2},\"mode\":\"lines\",\"showlegend\":false,\"x\":[75.0,65.0,65.0,75.0],\"y\":[-155.0,-155.0,-165.0,-165.0],\"type\":\"scatter\"},{\"fill\":\"toself\",\"line\":{\"color\":\"red\",\"width\":2},\"mode\":\"lines\",\"showlegend\":false,\"x\":[85.0,75.0,75.0,85.0],\"y\":[-155.0,-155.0,-165.0,-165.0],\"type\":\"scatter\"},{\"fill\":\"toself\",\"line\":{\"color\":\"red\",\"width\":2},\"mode\":\"lines\",\"showlegend\":false,\"x\":[-80.0,-90.0,-90.0,-80.0],\"y\":[-165.0,-165.0,-175.0,-175.0],\"type\":\"scatter\"},{\"fill\":\"toself\",\"line\":{\"color\":\"red\",\"width\":2},\"mode\":\"lines\",\"showlegend\":false,\"x\":[-70.0,-80.0,-80.0,-70.0],\"y\":[-165.0,-165.0,-175.0,-175.0],\"type\":\"scatter\"},{\"fill\":\"toself\",\"line\":{\"color\":\"blue\",\"width\":2},\"mode\":\"lines\",\"showlegend\":false,\"x\":[-60.0,-70.0,-70.0,-60.0],\"y\":[-165.0,-165.0,-175.0,-175.0],\"type\":\"scatter\"},{\"fill\":\"toself\",\"line\":{\"color\":\"blue\",\"width\":2},\"mode\":\"lines\",\"showlegend\":false,\"x\":[-50.0,-60.0,-60.0,-50.0],\"y\":[-165.0,-165.0,-175.0,-175.0],\"type\":\"scatter\"},{\"fill\":\"toself\",\"line\":{\"color\":\"blue\",\"width\":2},\"mode\":\"lines\",\"showlegend\":false,\"x\":[-40.0,-50.0,-50.0,-40.0],\"y\":[-165.0,-165.0,-175.0,-175.0],\"type\":\"scatter\"},{\"fill\":\"toself\",\"line\":{\"color\":\"blue\",\"width\":2},\"mode\":\"lines\",\"showlegend\":false,\"x\":[-30.0,-40.0,-40.0,-30.0],\"y\":[-165.0,-165.0,-175.0,-175.0],\"type\":\"scatter\"},{\"fill\":\"toself\",\"line\":{\"color\":\"blue\",\"width\":2},\"mode\":\"lines\",\"showlegend\":false,\"x\":[-20.0,-30.0,-30.0,-20.0],\"y\":[-165.0,-165.0,-175.0,-175.0],\"type\":\"scatter\"},{\"fill\":\"toself\",\"line\":{\"color\":\"blue\",\"width\":2},\"mode\":\"lines\",\"showlegend\":false,\"x\":[-10.0,-20.0,-20.0,-10.0],\"y\":[-165.0,-165.0,-175.0,-175.0],\"type\":\"scatter\"},{\"fill\":\"toself\",\"line\":{\"color\":\"blue\",\"width\":2},\"mode\":\"lines\",\"showlegend\":false,\"x\":[0.0,-10.0,-10.0,0.0],\"y\":[-165.0,-165.0,-175.0,-175.0],\"type\":\"scatter\"},{\"fill\":\"toself\",\"line\":{\"color\":\"blue\",\"width\":2},\"mode\":\"lines\",\"showlegend\":false,\"x\":[10.0,0.0,0.0,10.0],\"y\":[-165.0,-165.0,-175.0,-175.0],\"type\":\"scatter\"},{\"fill\":\"toself\",\"line\":{\"color\":\"blue\",\"width\":2},\"mode\":\"lines\",\"showlegend\":false,\"x\":[20.0,10.0,10.0,20.0],\"y\":[-165.0,-165.0,-175.0,-175.0],\"type\":\"scatter\"},{\"fill\":\"toself\",\"line\":{\"color\":\"blue\",\"width\":2},\"mode\":\"lines\",\"showlegend\":false,\"x\":[30.0,20.0,20.0,30.0],\"y\":[-165.0,-165.0,-175.0,-175.0],\"type\":\"scatter\"},{\"fill\":\"toself\",\"line\":{\"color\":\"blue\",\"width\":2},\"mode\":\"lines\",\"showlegend\":false,\"x\":[40.0,30.0,30.0,40.0],\"y\":[-165.0,-165.0,-175.0,-175.0],\"type\":\"scatter\"},{\"fill\":\"toself\",\"line\":{\"color\":\"blue\",\"width\":2},\"mode\":\"lines\",\"showlegend\":false,\"x\":[50.0,40.0,40.0,50.0],\"y\":[-165.0,-165.0,-175.0,-175.0],\"type\":\"scatter\"},{\"fill\":\"toself\",\"line\":{\"color\":\"blue\",\"width\":2},\"mode\":\"lines\",\"showlegend\":false,\"x\":[60.0,50.0,50.0,60.0],\"y\":[-165.0,-165.0,-175.0,-175.0],\"type\":\"scatter\"},{\"fill\":\"toself\",\"line\":{\"color\":\"blue\",\"width\":2},\"mode\":\"lines\",\"showlegend\":false,\"x\":[70.0,60.0,60.0,70.0],\"y\":[-165.0,-165.0,-175.0,-175.0],\"type\":\"scatter\"},{\"fill\":\"toself\",\"line\":{\"color\":\"red\",\"width\":2},\"mode\":\"lines\",\"showlegend\":false,\"x\":[80.0,70.0,70.0,80.0],\"y\":[-165.0,-165.0,-175.0,-175.0],\"type\":\"scatter\"},{\"fill\":\"toself\",\"line\":{\"color\":\"red\",\"width\":2},\"mode\":\"lines\",\"showlegend\":false,\"x\":[90.0,80.0,80.0,90.0],\"y\":[-165.0,-165.0,-175.0,-175.0],\"type\":\"scatter\"},{\"fill\":\"toself\",\"line\":{\"color\":\"red\",\"width\":2},\"mode\":\"lines\",\"showlegend\":false,\"x\":[-85.0,-95.0,-95.0,-85.0],\"y\":[-175.0,-175.0,-185.0,-185.0],\"type\":\"scatter\"},{\"fill\":\"toself\",\"line\":{\"color\":\"blue\",\"width\":2},\"mode\":\"lines\",\"showlegend\":false,\"x\":[-75.0,-85.0,-85.0,-75.0],\"y\":[-175.0,-175.0,-185.0,-185.0],\"type\":\"scatter\"},{\"fill\":\"toself\",\"line\":{\"color\":\"red\",\"width\":2},\"mode\":\"lines\",\"showlegend\":false,\"x\":[-65.0,-75.0,-75.0,-65.0],\"y\":[-175.0,-175.0,-185.0,-185.0],\"type\":\"scatter\"},{\"fill\":\"toself\",\"line\":{\"color\":\"blue\",\"width\":2},\"mode\":\"lines\",\"showlegend\":false,\"x\":[-55.0,-65.0,-65.0,-55.0],\"y\":[-175.0,-175.0,-185.0,-185.0],\"type\":\"scatter\"},{\"fill\":\"toself\",\"line\":{\"color\":\"blue\",\"width\":2},\"mode\":\"lines\",\"showlegend\":false,\"x\":[-45.0,-55.0,-55.0,-45.0],\"y\":[-175.0,-175.0,-185.0,-185.0],\"type\":\"scatter\"},{\"fill\":\"toself\",\"line\":{\"color\":\"blue\",\"width\":2},\"mode\":\"lines\",\"showlegend\":false,\"x\":[-35.0,-45.0,-45.0,-35.0],\"y\":[-175.0,-175.0,-185.0,-185.0],\"type\":\"scatter\"},{\"fill\":\"toself\",\"line\":{\"color\":\"blue\",\"width\":2},\"mode\":\"lines\",\"showlegend\":false,\"x\":[-25.0,-35.0,-35.0,-25.0],\"y\":[-175.0,-175.0,-185.0,-185.0],\"type\":\"scatter\"},{\"fill\":\"toself\",\"line\":{\"color\":\"blue\",\"width\":2},\"mode\":\"lines\",\"showlegend\":false,\"x\":[-15.0,-25.0,-25.0,-15.0],\"y\":[-175.0,-175.0,-185.0,-185.0],\"type\":\"scatter\"},{\"fill\":\"toself\",\"line\":{\"color\":\"blue\",\"width\":2},\"mode\":\"lines\",\"showlegend\":false,\"x\":[-5.0,-15.0,-15.0,-5.0],\"y\":[-175.0,-175.0,-185.0,-185.0],\"type\":\"scatter\"},{\"fill\":\"toself\",\"line\":{\"color\":\"blue\",\"width\":2},\"mode\":\"lines\",\"showlegend\":false,\"x\":[5.0,-5.0,-5.0,5.0],\"y\":[-175.0,-175.0,-185.0,-185.0],\"type\":\"scatter\"},{\"fill\":\"toself\",\"line\":{\"color\":\"blue\",\"width\":2},\"mode\":\"lines\",\"showlegend\":false,\"x\":[15.0,5.0,5.0,15.0],\"y\":[-175.0,-175.0,-185.0,-185.0],\"type\":\"scatter\"},{\"fill\":\"toself\",\"line\":{\"color\":\"blue\",\"width\":2},\"mode\":\"lines\",\"showlegend\":false,\"x\":[25.0,15.0,15.0,25.0],\"y\":[-175.0,-175.0,-185.0,-185.0],\"type\":\"scatter\"},{\"fill\":\"toself\",\"line\":{\"color\":\"blue\",\"width\":2},\"mode\":\"lines\",\"showlegend\":false,\"x\":[35.0,25.0,25.0,35.0],\"y\":[-175.0,-175.0,-185.0,-185.0],\"type\":\"scatter\"},{\"fill\":\"toself\",\"line\":{\"color\":\"blue\",\"width\":2},\"mode\":\"lines\",\"showlegend\":false,\"x\":[45.0,35.0,35.0,45.0],\"y\":[-175.0,-175.0,-185.0,-185.0],\"type\":\"scatter\"},{\"fill\":\"toself\",\"line\":{\"color\":\"blue\",\"width\":2},\"mode\":\"lines\",\"showlegend\":false,\"x\":[55.0,45.0,45.0,55.0],\"y\":[-175.0,-175.0,-185.0,-185.0],\"type\":\"scatter\"},{\"fill\":\"toself\",\"line\":{\"color\":\"blue\",\"width\":2},\"mode\":\"lines\",\"showlegend\":false,\"x\":[65.0,55.0,55.0,65.0],\"y\":[-175.0,-175.0,-185.0,-185.0],\"type\":\"scatter\"},{\"fill\":\"toself\",\"line\":{\"color\":\"red\",\"width\":2},\"mode\":\"lines\",\"showlegend\":false,\"x\":[75.0,65.0,65.0,75.0],\"y\":[-175.0,-175.0,-185.0,-185.0],\"type\":\"scatter\"},{\"fill\":\"toself\",\"line\":{\"color\":\"blue\",\"width\":2},\"mode\":\"lines\",\"showlegend\":false,\"x\":[85.0,75.0,75.0,85.0],\"y\":[-175.0,-175.0,-185.0,-185.0],\"type\":\"scatter\"},{\"fill\":\"toself\",\"line\":{\"color\":\"red\",\"width\":2},\"mode\":\"lines\",\"showlegend\":false,\"x\":[95.0,85.0,85.0,95.0],\"y\":[-175.0,-175.0,-185.0,-185.0],\"type\":\"scatter\"},{\"fill\":\"toself\",\"line\":{\"color\":\"red\",\"width\":2},\"mode\":\"lines\",\"showlegend\":false,\"x\":[-90.0,-100.0,-100.0,-90.0],\"y\":[-185.0,-185.0,-195.0,-195.0],\"type\":\"scatter\"},{\"fill\":\"toself\",\"line\":{\"color\":\"red\",\"width\":2},\"mode\":\"lines\",\"showlegend\":false,\"x\":[-80.0,-90.0,-90.0,-80.0],\"y\":[-185.0,-185.0,-195.0,-195.0],\"type\":\"scatter\"},{\"fill\":\"toself\",\"line\":{\"color\":\"red\",\"width\":2},\"mode\":\"lines\",\"showlegend\":false,\"x\":[-70.0,-80.0,-80.0,-70.0],\"y\":[-185.0,-185.0,-195.0,-195.0],\"type\":\"scatter\"},{\"fill\":\"toself\",\"line\":{\"color\":\"red\",\"width\":2},\"mode\":\"lines\",\"showlegend\":false,\"x\":[-60.0,-70.0,-70.0,-60.0],\"y\":[-185.0,-185.0,-195.0,-195.0],\"type\":\"scatter\"},{\"fill\":\"toself\",\"line\":{\"color\":\"blue\",\"width\":2},\"mode\":\"lines\",\"showlegend\":false,\"x\":[-50.0,-60.0,-60.0,-50.0],\"y\":[-185.0,-185.0,-195.0,-195.0],\"type\":\"scatter\"},{\"fill\":\"toself\",\"line\":{\"color\":\"blue\",\"width\":2},\"mode\":\"lines\",\"showlegend\":false,\"x\":[-40.0,-50.0,-50.0,-40.0],\"y\":[-185.0,-185.0,-195.0,-195.0],\"type\":\"scatter\"},{\"fill\":\"toself\",\"line\":{\"color\":\"blue\",\"width\":2},\"mode\":\"lines\",\"showlegend\":false,\"x\":[-30.0,-40.0,-40.0,-30.0],\"y\":[-185.0,-185.0,-195.0,-195.0],\"type\":\"scatter\"},{\"fill\":\"toself\",\"line\":{\"color\":\"blue\",\"width\":2},\"mode\":\"lines\",\"showlegend\":false,\"x\":[-20.0,-30.0,-30.0,-20.0],\"y\":[-185.0,-185.0,-195.0,-195.0],\"type\":\"scatter\"},{\"fill\":\"toself\",\"line\":{\"color\":\"blue\",\"width\":2},\"mode\":\"lines\",\"showlegend\":false,\"x\":[-10.0,-20.0,-20.0,-10.0],\"y\":[-185.0,-185.0,-195.0,-195.0],\"type\":\"scatter\"},{\"fill\":\"toself\",\"line\":{\"color\":\"blue\",\"width\":2},\"mode\":\"lines\",\"showlegend\":false,\"x\":[0.0,-10.0,-10.0,0.0],\"y\":[-185.0,-185.0,-195.0,-195.0],\"type\":\"scatter\"},{\"fill\":\"toself\",\"line\":{\"color\":\"blue\",\"width\":2},\"mode\":\"lines\",\"showlegend\":false,\"x\":[10.0,0.0,0.0,10.0],\"y\":[-185.0,-185.0,-195.0,-195.0],\"type\":\"scatter\"},{\"fill\":\"toself\",\"line\":{\"color\":\"blue\",\"width\":2},\"mode\":\"lines\",\"showlegend\":false,\"x\":[20.0,10.0,10.0,20.0],\"y\":[-185.0,-185.0,-195.0,-195.0],\"type\":\"scatter\"},{\"fill\":\"toself\",\"line\":{\"color\":\"blue\",\"width\":2},\"mode\":\"lines\",\"showlegend\":false,\"x\":[30.0,20.0,20.0,30.0],\"y\":[-185.0,-185.0,-195.0,-195.0],\"type\":\"scatter\"},{\"fill\":\"toself\",\"line\":{\"color\":\"blue\",\"width\":2},\"mode\":\"lines\",\"showlegend\":false,\"x\":[40.0,30.0,30.0,40.0],\"y\":[-185.0,-185.0,-195.0,-195.0],\"type\":\"scatter\"},{\"fill\":\"toself\",\"line\":{\"color\":\"blue\",\"width\":2},\"mode\":\"lines\",\"showlegend\":false,\"x\":[50.0,40.0,40.0,50.0],\"y\":[-185.0,-185.0,-195.0,-195.0],\"type\":\"scatter\"},{\"fill\":\"toself\",\"line\":{\"color\":\"blue\",\"width\":2},\"mode\":\"lines\",\"showlegend\":false,\"x\":[60.0,50.0,50.0,60.0],\"y\":[-185.0,-185.0,-195.0,-195.0],\"type\":\"scatter\"},{\"fill\":\"toself\",\"line\":{\"color\":\"red\",\"width\":2},\"mode\":\"lines\",\"showlegend\":false,\"x\":[70.0,60.0,60.0,70.0],\"y\":[-185.0,-185.0,-195.0,-195.0],\"type\":\"scatter\"},{\"fill\":\"toself\",\"line\":{\"color\":\"red\",\"width\":2},\"mode\":\"lines\",\"showlegend\":false,\"x\":[80.0,70.0,70.0,80.0],\"y\":[-185.0,-185.0,-195.0,-195.0],\"type\":\"scatter\"},{\"fill\":\"toself\",\"line\":{\"color\":\"red\",\"width\":2},\"mode\":\"lines\",\"showlegend\":false,\"x\":[90.0,80.0,80.0,90.0],\"y\":[-185.0,-185.0,-195.0,-195.0],\"type\":\"scatter\"},{\"fill\":\"toself\",\"line\":{\"color\":\"red\",\"width\":2},\"mode\":\"lines\",\"showlegend\":false,\"x\":[100.0,90.0,90.0,100.0],\"y\":[-185.0,-185.0,-195.0,-195.0],\"type\":\"scatter\"}],                        {\"template\":{\"data\":{\"bar\":[{\"error_x\":{\"color\":\"#2a3f5f\"},\"error_y\":{\"color\":\"#2a3f5f\"},\"marker\":{\"line\":{\"color\":\"#E5ECF6\",\"width\":0.5},\"pattern\":{\"fillmode\":\"overlay\",\"size\":10,\"solidity\":0.2}},\"type\":\"bar\"}],\"barpolar\":[{\"marker\":{\"line\":{\"color\":\"#E5ECF6\",\"width\":0.5},\"pattern\":{\"fillmode\":\"overlay\",\"size\":10,\"solidity\":0.2}},\"type\":\"barpolar\"}],\"carpet\":[{\"aaxis\":{\"endlinecolor\":\"#2a3f5f\",\"gridcolor\":\"white\",\"linecolor\":\"white\",\"minorgridcolor\":\"white\",\"startlinecolor\":\"#2a3f5f\"},\"baxis\":{\"endlinecolor\":\"#2a3f5f\",\"gridcolor\":\"white\",\"linecolor\":\"white\",\"minorgridcolor\":\"white\",\"startlinecolor\":\"#2a3f5f\"},\"type\":\"carpet\"}],\"choropleth\":[{\"colorbar\":{\"outlinewidth\":0,\"ticks\":\"\"},\"type\":\"choropleth\"}],\"contour\":[{\"colorbar\":{\"outlinewidth\":0,\"ticks\":\"\"},\"colorscale\":[[0.0,\"#0d0887\"],[0.1111111111111111,\"#46039f\"],[0.2222222222222222,\"#7201a8\"],[0.3333333333333333,\"#9c179e\"],[0.4444444444444444,\"#bd3786\"],[0.5555555555555556,\"#d8576b\"],[0.6666666666666666,\"#ed7953\"],[0.7777777777777778,\"#fb9f3a\"],[0.8888888888888888,\"#fdca26\"],[1.0,\"#f0f921\"]],\"type\":\"contour\"}],\"contourcarpet\":[{\"colorbar\":{\"outlinewidth\":0,\"ticks\":\"\"},\"type\":\"contourcarpet\"}],\"heatmap\":[{\"colorbar\":{\"outlinewidth\":0,\"ticks\":\"\"},\"colorscale\":[[0.0,\"#0d0887\"],[0.1111111111111111,\"#46039f\"],[0.2222222222222222,\"#7201a8\"],[0.3333333333333333,\"#9c179e\"],[0.4444444444444444,\"#bd3786\"],[0.5555555555555556,\"#d8576b\"],[0.6666666666666666,\"#ed7953\"],[0.7777777777777778,\"#fb9f3a\"],[0.8888888888888888,\"#fdca26\"],[1.0,\"#f0f921\"]],\"type\":\"heatmap\"}],\"heatmapgl\":[{\"colorbar\":{\"outlinewidth\":0,\"ticks\":\"\"},\"colorscale\":[[0.0,\"#0d0887\"],[0.1111111111111111,\"#46039f\"],[0.2222222222222222,\"#7201a8\"],[0.3333333333333333,\"#9c179e\"],[0.4444444444444444,\"#bd3786\"],[0.5555555555555556,\"#d8576b\"],[0.6666666666666666,\"#ed7953\"],[0.7777777777777778,\"#fb9f3a\"],[0.8888888888888888,\"#fdca26\"],[1.0,\"#f0f921\"]],\"type\":\"heatmapgl\"}],\"histogram\":[{\"marker\":{\"pattern\":{\"fillmode\":\"overlay\",\"size\":10,\"solidity\":0.2}},\"type\":\"histogram\"}],\"histogram2d\":[{\"colorbar\":{\"outlinewidth\":0,\"ticks\":\"\"},\"colorscale\":[[0.0,\"#0d0887\"],[0.1111111111111111,\"#46039f\"],[0.2222222222222222,\"#7201a8\"],[0.3333333333333333,\"#9c179e\"],[0.4444444444444444,\"#bd3786\"],[0.5555555555555556,\"#d8576b\"],[0.6666666666666666,\"#ed7953\"],[0.7777777777777778,\"#fb9f3a\"],[0.8888888888888888,\"#fdca26\"],[1.0,\"#f0f921\"]],\"type\":\"histogram2d\"}],\"histogram2dcontour\":[{\"colorbar\":{\"outlinewidth\":0,\"ticks\":\"\"},\"colorscale\":[[0.0,\"#0d0887\"],[0.1111111111111111,\"#46039f\"],[0.2222222222222222,\"#7201a8\"],[0.3333333333333333,\"#9c179e\"],[0.4444444444444444,\"#bd3786\"],[0.5555555555555556,\"#d8576b\"],[0.6666666666666666,\"#ed7953\"],[0.7777777777777778,\"#fb9f3a\"],[0.8888888888888888,\"#fdca26\"],[1.0,\"#f0f921\"]],\"type\":\"histogram2dcontour\"}],\"mesh3d\":[{\"colorbar\":{\"outlinewidth\":0,\"ticks\":\"\"},\"type\":\"mesh3d\"}],\"parcoords\":[{\"line\":{\"colorbar\":{\"outlinewidth\":0,\"ticks\":\"\"}},\"type\":\"parcoords\"}],\"pie\":[{\"automargin\":true,\"type\":\"pie\"}],\"scatter\":[{\"marker\":{\"colorbar\":{\"outlinewidth\":0,\"ticks\":\"\"}},\"type\":\"scatter\"}],\"scatter3d\":[{\"line\":{\"colorbar\":{\"outlinewidth\":0,\"ticks\":\"\"}},\"marker\":{\"colorbar\":{\"outlinewidth\":0,\"ticks\":\"\"}},\"type\":\"scatter3d\"}],\"scattercarpet\":[{\"marker\":{\"colorbar\":{\"outlinewidth\":0,\"ticks\":\"\"}},\"type\":\"scattercarpet\"}],\"scattergeo\":[{\"marker\":{\"colorbar\":{\"outlinewidth\":0,\"ticks\":\"\"}},\"type\":\"scattergeo\"}],\"scattergl\":[{\"marker\":{\"colorbar\":{\"outlinewidth\":0,\"ticks\":\"\"}},\"type\":\"scattergl\"}],\"scattermapbox\":[{\"marker\":{\"colorbar\":{\"outlinewidth\":0,\"ticks\":\"\"}},\"type\":\"scattermapbox\"}],\"scatterpolar\":[{\"marker\":{\"colorbar\":{\"outlinewidth\":0,\"ticks\":\"\"}},\"type\":\"scatterpolar\"}],\"scatterpolargl\":[{\"marker\":{\"colorbar\":{\"outlinewidth\":0,\"ticks\":\"\"}},\"type\":\"scatterpolargl\"}],\"scatterternary\":[{\"marker\":{\"colorbar\":{\"outlinewidth\":0,\"ticks\":\"\"}},\"type\":\"scatterternary\"}],\"surface\":[{\"colorbar\":{\"outlinewidth\":0,\"ticks\":\"\"},\"colorscale\":[[0.0,\"#0d0887\"],[0.1111111111111111,\"#46039f\"],[0.2222222222222222,\"#7201a8\"],[0.3333333333333333,\"#9c179e\"],[0.4444444444444444,\"#bd3786\"],[0.5555555555555556,\"#d8576b\"],[0.6666666666666666,\"#ed7953\"],[0.7777777777777778,\"#fb9f3a\"],[0.8888888888888888,\"#fdca26\"],[1.0,\"#f0f921\"]],\"type\":\"surface\"}],\"table\":[{\"cells\":{\"fill\":{\"color\":\"#EBF0F8\"},\"line\":{\"color\":\"white\"}},\"header\":{\"fill\":{\"color\":\"#C8D4E3\"},\"line\":{\"color\":\"white\"}},\"type\":\"table\"}]},\"layout\":{\"annotationdefaults\":{\"arrowcolor\":\"#2a3f5f\",\"arrowhead\":0,\"arrowwidth\":1},\"autotypenumbers\":\"strict\",\"coloraxis\":{\"colorbar\":{\"outlinewidth\":0,\"ticks\":\"\"}},\"colorscale\":{\"diverging\":[[0,\"#8e0152\"],[0.1,\"#c51b7d\"],[0.2,\"#de77ae\"],[0.3,\"#f1b6da\"],[0.4,\"#fde0ef\"],[0.5,\"#f7f7f7\"],[0.6,\"#e6f5d0\"],[0.7,\"#b8e186\"],[0.8,\"#7fbc41\"],[0.9,\"#4d9221\"],[1,\"#276419\"]],\"sequential\":[[0.0,\"#0d0887\"],[0.1111111111111111,\"#46039f\"],[0.2222222222222222,\"#7201a8\"],[0.3333333333333333,\"#9c179e\"],[0.4444444444444444,\"#bd3786\"],[0.5555555555555556,\"#d8576b\"],[0.6666666666666666,\"#ed7953\"],[0.7777777777777778,\"#fb9f3a\"],[0.8888888888888888,\"#fdca26\"],[1.0,\"#f0f921\"]],\"sequentialminus\":[[0.0,\"#0d0887\"],[0.1111111111111111,\"#46039f\"],[0.2222222222222222,\"#7201a8\"],[0.3333333333333333,\"#9c179e\"],[0.4444444444444444,\"#bd3786\"],[0.5555555555555556,\"#d8576b\"],[0.6666666666666666,\"#ed7953\"],[0.7777777777777778,\"#fb9f3a\"],[0.8888888888888888,\"#fdca26\"],[1.0,\"#f0f921\"]]},\"colorway\":[\"#636efa\",\"#EF553B\",\"#00cc96\",\"#ab63fa\",\"#FFA15A\",\"#19d3f3\",\"#FF6692\",\"#B6E880\",\"#FF97FF\",\"#FECB52\"],\"font\":{\"color\":\"#2a3f5f\"},\"geo\":{\"bgcolor\":\"white\",\"lakecolor\":\"white\",\"landcolor\":\"#E5ECF6\",\"showlakes\":true,\"showland\":true,\"subunitcolor\":\"white\"},\"hoverlabel\":{\"align\":\"left\"},\"hovermode\":\"closest\",\"mapbox\":{\"style\":\"light\"},\"paper_bgcolor\":\"white\",\"plot_bgcolor\":\"#E5ECF6\",\"polar\":{\"angularaxis\":{\"gridcolor\":\"white\",\"linecolor\":\"white\",\"ticks\":\"\"},\"bgcolor\":\"#E5ECF6\",\"radialaxis\":{\"gridcolor\":\"white\",\"linecolor\":\"white\",\"ticks\":\"\"}},\"scene\":{\"xaxis\":{\"backgroundcolor\":\"#E5ECF6\",\"gridcolor\":\"white\",\"gridwidth\":2,\"linecolor\":\"white\",\"showbackground\":true,\"ticks\":\"\",\"zerolinecolor\":\"white\"},\"yaxis\":{\"backgroundcolor\":\"#E5ECF6\",\"gridcolor\":\"white\",\"gridwidth\":2,\"linecolor\":\"white\",\"showbackground\":true,\"ticks\":\"\",\"zerolinecolor\":\"white\"},\"zaxis\":{\"backgroundcolor\":\"#E5ECF6\",\"gridcolor\":\"white\",\"gridwidth\":2,\"linecolor\":\"white\",\"showbackground\":true,\"ticks\":\"\",\"zerolinecolor\":\"white\"}},\"shapedefaults\":{\"line\":{\"color\":\"#2a3f5f\"}},\"ternary\":{\"aaxis\":{\"gridcolor\":\"white\",\"linecolor\":\"white\",\"ticks\":\"\"},\"baxis\":{\"gridcolor\":\"white\",\"linecolor\":\"white\",\"ticks\":\"\"},\"bgcolor\":\"#E5ECF6\",\"caxis\":{\"gridcolor\":\"white\",\"linecolor\":\"white\",\"ticks\":\"\"}},\"title\":{\"x\":0.05},\"xaxis\":{\"automargin\":true,\"gridcolor\":\"white\",\"linecolor\":\"white\",\"ticks\":\"\",\"title\":{\"standoff\":15},\"zerolinecolor\":\"white\",\"zerolinewidth\":2},\"yaxis\":{\"automargin\":true,\"gridcolor\":\"white\",\"linecolor\":\"white\",\"ticks\":\"\",\"title\":{\"standoff\":15},\"zerolinecolor\":\"white\",\"zerolinewidth\":2}}},\"annotations\":[{\"font\":{\"color\":\"black\",\"size\":10},\"showarrow\":false,\"text\":\"1\",\"textangle\":0,\"x\":0.0,\"xanchor\":\"center\",\"y\":0},{\"font\":{\"color\":\"black\",\"size\":10},\"showarrow\":false,\"text\":\"1\",\"textangle\":0,\"x\":-5.0,\"xanchor\":\"center\",\"y\":-10},{\"font\":{\"color\":\"black\",\"size\":10},\"showarrow\":false,\"text\":\"1\",\"textangle\":0,\"x\":5.0,\"xanchor\":\"center\",\"y\":-10},{\"font\":{\"color\":\"black\",\"size\":10},\"showarrow\":false,\"text\":\"1\",\"textangle\":0,\"x\":-10.0,\"xanchor\":\"center\",\"y\":-20},{\"font\":{\"color\":\"black\",\"size\":10},\"showarrow\":false,\"text\":\"2\",\"textangle\":0,\"x\":0.0,\"xanchor\":\"center\",\"y\":-20},{\"font\":{\"color\":\"black\",\"size\":10},\"showarrow\":false,\"text\":\"1\",\"textangle\":0,\"x\":10.0,\"xanchor\":\"center\",\"y\":-20},{\"font\":{\"color\":\"black\",\"size\":10},\"showarrow\":false,\"text\":\"1\",\"textangle\":0,\"x\":-15.0,\"xanchor\":\"center\",\"y\":-30},{\"font\":{\"color\":\"black\",\"size\":10},\"showarrow\":false,\"text\":\"3\",\"textangle\":0,\"x\":-5.0,\"xanchor\":\"center\",\"y\":-30},{\"font\":{\"color\":\"black\",\"size\":10},\"showarrow\":false,\"text\":\"3\",\"textangle\":0,\"x\":5.0,\"xanchor\":\"center\",\"y\":-30},{\"font\":{\"color\":\"black\",\"size\":10},\"showarrow\":false,\"text\":\"1\",\"textangle\":0,\"x\":15.0,\"xanchor\":\"center\",\"y\":-30},{\"font\":{\"color\":\"black\",\"size\":10},\"showarrow\":false,\"text\":\"1\",\"textangle\":0,\"x\":-20.0,\"xanchor\":\"center\",\"y\":-40},{\"font\":{\"color\":\"black\",\"size\":10},\"showarrow\":false,\"text\":\"4\",\"textangle\":0,\"x\":-10.0,\"xanchor\":\"center\",\"y\":-40},{\"font\":{\"color\":\"black\",\"size\":10},\"showarrow\":false,\"text\":\"6\",\"textangle\":0,\"x\":0.0,\"xanchor\":\"center\",\"y\":-40},{\"font\":{\"color\":\"black\",\"size\":10},\"showarrow\":false,\"text\":\"4\",\"textangle\":0,\"x\":10.0,\"xanchor\":\"center\",\"y\":-40},{\"font\":{\"color\":\"black\",\"size\":10},\"showarrow\":false,\"text\":\"1\",\"textangle\":0,\"x\":20.0,\"xanchor\":\"center\",\"y\":-40},{\"font\":{\"color\":\"black\",\"size\":10},\"showarrow\":false,\"text\":\"1\",\"textangle\":0,\"x\":-25.0,\"xanchor\":\"center\",\"y\":-50},{\"font\":{\"color\":\"black\",\"size\":10},\"showarrow\":false,\"text\":\"5\",\"textangle\":0,\"x\":-15.0,\"xanchor\":\"center\",\"y\":-50},{\"font\":{\"color\":\"black\",\"size\":10},\"showarrow\":false,\"text\":\"10\",\"textangle\":0,\"x\":-5.0,\"xanchor\":\"center\",\"y\":-50},{\"font\":{\"color\":\"black\",\"size\":10},\"showarrow\":false,\"text\":\"10\",\"textangle\":0,\"x\":5.0,\"xanchor\":\"center\",\"y\":-50},{\"font\":{\"color\":\"black\",\"size\":10},\"showarrow\":false,\"text\":\"5\",\"textangle\":0,\"x\":15.0,\"xanchor\":\"center\",\"y\":-50},{\"font\":{\"color\":\"black\",\"size\":10},\"showarrow\":false,\"text\":\"1\",\"textangle\":0,\"x\":25.0,\"xanchor\":\"center\",\"y\":-50},{\"font\":{\"color\":\"black\",\"size\":10},\"showarrow\":false,\"text\":\"1\",\"textangle\":0,\"x\":-30.0,\"xanchor\":\"center\",\"y\":-60},{\"font\":{\"color\":\"black\",\"size\":10},\"showarrow\":false,\"text\":\"6\",\"textangle\":0,\"x\":-20.0,\"xanchor\":\"center\",\"y\":-60},{\"font\":{\"color\":\"black\",\"size\":10},\"showarrow\":false,\"text\":\"15\",\"textangle\":0,\"x\":-10.0,\"xanchor\":\"center\",\"y\":-60},{\"font\":{\"color\":\"black\",\"size\":10},\"showarrow\":false,\"text\":\"20\",\"textangle\":0,\"x\":0.0,\"xanchor\":\"center\",\"y\":-60},{\"font\":{\"color\":\"black\",\"size\":10},\"showarrow\":false,\"text\":\"15\",\"textangle\":0,\"x\":10.0,\"xanchor\":\"center\",\"y\":-60},{\"font\":{\"color\":\"black\",\"size\":10},\"showarrow\":false,\"text\":\"6\",\"textangle\":0,\"x\":20.0,\"xanchor\":\"center\",\"y\":-60},{\"font\":{\"color\":\"black\",\"size\":10},\"showarrow\":false,\"text\":\"1\",\"textangle\":0,\"x\":30.0,\"xanchor\":\"center\",\"y\":-60},{\"font\":{\"color\":\"black\",\"size\":10},\"showarrow\":false,\"text\":\"1\",\"textangle\":0,\"x\":-35.0,\"xanchor\":\"center\",\"y\":-70},{\"font\":{\"color\":\"black\",\"size\":10},\"showarrow\":false,\"text\":\"7\",\"textangle\":0,\"x\":-25.0,\"xanchor\":\"center\",\"y\":-70},{\"font\":{\"color\":\"black\",\"size\":10},\"showarrow\":false,\"text\":\"21\",\"textangle\":0,\"x\":-15.0,\"xanchor\":\"center\",\"y\":-70},{\"font\":{\"color\":\"black\",\"size\":10},\"showarrow\":false,\"text\":\"35\",\"textangle\":0,\"x\":-5.0,\"xanchor\":\"center\",\"y\":-70},{\"font\":{\"color\":\"black\",\"size\":10},\"showarrow\":false,\"text\":\"35\",\"textangle\":0,\"x\":5.0,\"xanchor\":\"center\",\"y\":-70},{\"font\":{\"color\":\"black\",\"size\":10},\"showarrow\":false,\"text\":\"21\",\"textangle\":0,\"x\":15.0,\"xanchor\":\"center\",\"y\":-70},{\"font\":{\"color\":\"black\",\"size\":10},\"showarrow\":false,\"text\":\"7\",\"textangle\":0,\"x\":25.0,\"xanchor\":\"center\",\"y\":-70},{\"font\":{\"color\":\"black\",\"size\":10},\"showarrow\":false,\"text\":\"1\",\"textangle\":0,\"x\":35.0,\"xanchor\":\"center\",\"y\":-70},{\"font\":{\"color\":\"black\",\"size\":10},\"showarrow\":false,\"text\":\"1\",\"textangle\":0,\"x\":-40.0,\"xanchor\":\"center\",\"y\":-80},{\"font\":{\"color\":\"black\",\"size\":10},\"showarrow\":false,\"text\":\"8\",\"textangle\":0,\"x\":-30.0,\"xanchor\":\"center\",\"y\":-80},{\"font\":{\"color\":\"black\",\"size\":10},\"showarrow\":false,\"text\":\"28\",\"textangle\":0,\"x\":-20.0,\"xanchor\":\"center\",\"y\":-80},{\"font\":{\"color\":\"black\",\"size\":10},\"showarrow\":false,\"text\":\"56\",\"textangle\":0,\"x\":-10.0,\"xanchor\":\"center\",\"y\":-80},{\"font\":{\"color\":\"black\",\"size\":10},\"showarrow\":false,\"text\":\"70\",\"textangle\":0,\"x\":0.0,\"xanchor\":\"center\",\"y\":-80},{\"font\":{\"color\":\"black\",\"size\":10},\"showarrow\":false,\"text\":\"56\",\"textangle\":0,\"x\":10.0,\"xanchor\":\"center\",\"y\":-80},{\"font\":{\"color\":\"black\",\"size\":10},\"showarrow\":false,\"text\":\"28\",\"textangle\":0,\"x\":20.0,\"xanchor\":\"center\",\"y\":-80},{\"font\":{\"color\":\"black\",\"size\":10},\"showarrow\":false,\"text\":\"8\",\"textangle\":0,\"x\":30.0,\"xanchor\":\"center\",\"y\":-80},{\"font\":{\"color\":\"black\",\"size\":10},\"showarrow\":false,\"text\":\"1\",\"textangle\":0,\"x\":40.0,\"xanchor\":\"center\",\"y\":-80},{\"font\":{\"color\":\"black\",\"size\":10},\"showarrow\":false,\"text\":\"1\",\"textangle\":0,\"x\":-45.0,\"xanchor\":\"center\",\"y\":-90},{\"font\":{\"color\":\"black\",\"size\":10},\"showarrow\":false,\"text\":\"9\",\"textangle\":0,\"x\":-35.0,\"xanchor\":\"center\",\"y\":-90},{\"font\":{\"color\":\"black\",\"size\":10},\"showarrow\":false,\"text\":\"36\",\"textangle\":0,\"x\":-25.0,\"xanchor\":\"center\",\"y\":-90},{\"font\":{\"color\":\"black\",\"size\":10},\"showarrow\":false,\"text\":\"84\",\"textangle\":0,\"x\":-15.0,\"xanchor\":\"center\",\"y\":-90},{\"font\":{\"color\":\"black\",\"size\":10},\"showarrow\":false,\"text\":\"126\",\"textangle\":0,\"x\":-5.0,\"xanchor\":\"center\",\"y\":-90},{\"font\":{\"color\":\"black\",\"size\":10},\"showarrow\":false,\"text\":\"126\",\"textangle\":0,\"x\":5.0,\"xanchor\":\"center\",\"y\":-90},{\"font\":{\"color\":\"black\",\"size\":10},\"showarrow\":false,\"text\":\"84\",\"textangle\":0,\"x\":15.0,\"xanchor\":\"center\",\"y\":-90},{\"font\":{\"color\":\"black\",\"size\":10},\"showarrow\":false,\"text\":\"36\",\"textangle\":0,\"x\":25.0,\"xanchor\":\"center\",\"y\":-90},{\"font\":{\"color\":\"black\",\"size\":10},\"showarrow\":false,\"text\":\"9\",\"textangle\":0,\"x\":35.0,\"xanchor\":\"center\",\"y\":-90},{\"font\":{\"color\":\"black\",\"size\":10},\"showarrow\":false,\"text\":\"1\",\"textangle\":0,\"x\":45.0,\"xanchor\":\"center\",\"y\":-90},{\"font\":{\"color\":\"black\",\"size\":10},\"showarrow\":false,\"text\":\"1\",\"textangle\":0,\"x\":-50.0,\"xanchor\":\"center\",\"y\":-100},{\"font\":{\"color\":\"black\",\"size\":10},\"showarrow\":false,\"text\":\"10\",\"textangle\":0,\"x\":-40.0,\"xanchor\":\"center\",\"y\":-100},{\"font\":{\"color\":\"black\",\"size\":10},\"showarrow\":false,\"text\":\"45\",\"textangle\":0,\"x\":-30.0,\"xanchor\":\"center\",\"y\":-100},{\"font\":{\"color\":\"black\",\"size\":10},\"showarrow\":false,\"text\":\"120\",\"textangle\":0,\"x\":-20.0,\"xanchor\":\"center\",\"y\":-100},{\"font\":{\"color\":\"black\",\"size\":10},\"showarrow\":false,\"text\":\"210\",\"textangle\":0,\"x\":-10.0,\"xanchor\":\"center\",\"y\":-100},{\"font\":{\"color\":\"black\",\"size\":10},\"showarrow\":false,\"text\":\"252\",\"textangle\":0,\"x\":0.0,\"xanchor\":\"center\",\"y\":-100},{\"font\":{\"color\":\"black\",\"size\":10},\"showarrow\":false,\"text\":\"210\",\"textangle\":0,\"x\":10.0,\"xanchor\":\"center\",\"y\":-100},{\"font\":{\"color\":\"black\",\"size\":10},\"showarrow\":false,\"text\":\"120\",\"textangle\":0,\"x\":20.0,\"xanchor\":\"center\",\"y\":-100},{\"font\":{\"color\":\"black\",\"size\":10},\"showarrow\":false,\"text\":\"45\",\"textangle\":0,\"x\":30.0,\"xanchor\":\"center\",\"y\":-100},{\"font\":{\"color\":\"black\",\"size\":10},\"showarrow\":false,\"text\":\"10\",\"textangle\":0,\"x\":40.0,\"xanchor\":\"center\",\"y\":-100},{\"font\":{\"color\":\"black\",\"size\":10},\"showarrow\":false,\"text\":\"1\",\"textangle\":0,\"x\":50.0,\"xanchor\":\"center\",\"y\":-100},{\"font\":{\"color\":\"black\",\"size\":10},\"showarrow\":false,\"text\":\"1\",\"textangle\":0,\"x\":-55.0,\"xanchor\":\"center\",\"y\":-110},{\"font\":{\"color\":\"black\",\"size\":10},\"showarrow\":false,\"text\":\"11\",\"textangle\":0,\"x\":-45.0,\"xanchor\":\"center\",\"y\":-110},{\"font\":{\"color\":\"black\",\"size\":10},\"showarrow\":false,\"text\":\"55\",\"textangle\":0,\"x\":-35.0,\"xanchor\":\"center\",\"y\":-110},{\"font\":{\"color\":\"black\",\"size\":10},\"showarrow\":false,\"text\":\"165\",\"textangle\":0,\"x\":-25.0,\"xanchor\":\"center\",\"y\":-110},{\"font\":{\"color\":\"black\",\"size\":10},\"showarrow\":false,\"text\":\"330\",\"textangle\":0,\"x\":-15.0,\"xanchor\":\"center\",\"y\":-110},{\"font\":{\"color\":\"black\",\"size\":10},\"showarrow\":false,\"text\":\"462\",\"textangle\":0,\"x\":-5.0,\"xanchor\":\"center\",\"y\":-110},{\"font\":{\"color\":\"black\",\"size\":10},\"showarrow\":false,\"text\":\"462\",\"textangle\":0,\"x\":5.0,\"xanchor\":\"center\",\"y\":-110},{\"font\":{\"color\":\"black\",\"size\":10},\"showarrow\":false,\"text\":\"330\",\"textangle\":0,\"x\":15.0,\"xanchor\":\"center\",\"y\":-110},{\"font\":{\"color\":\"black\",\"size\":10},\"showarrow\":false,\"text\":\"165\",\"textangle\":0,\"x\":25.0,\"xanchor\":\"center\",\"y\":-110},{\"font\":{\"color\":\"black\",\"size\":10},\"showarrow\":false,\"text\":\"55\",\"textangle\":0,\"x\":35.0,\"xanchor\":\"center\",\"y\":-110},{\"font\":{\"color\":\"black\",\"size\":10},\"showarrow\":false,\"text\":\"11\",\"textangle\":0,\"x\":45.0,\"xanchor\":\"center\",\"y\":-110},{\"font\":{\"color\":\"black\",\"size\":10},\"showarrow\":false,\"text\":\"1\",\"textangle\":0,\"x\":55.0,\"xanchor\":\"center\",\"y\":-110},{\"font\":{\"color\":\"black\",\"size\":10},\"showarrow\":false,\"text\":\"1\",\"textangle\":0,\"x\":-60.0,\"xanchor\":\"center\",\"y\":-120},{\"font\":{\"color\":\"black\",\"size\":10},\"showarrow\":false,\"text\":\"12\",\"textangle\":0,\"x\":-50.0,\"xanchor\":\"center\",\"y\":-120},{\"font\":{\"color\":\"black\",\"size\":10},\"showarrow\":false,\"text\":\"66\",\"textangle\":0,\"x\":-40.0,\"xanchor\":\"center\",\"y\":-120},{\"font\":{\"color\":\"black\",\"size\":10},\"showarrow\":false,\"text\":\"220\",\"textangle\":0,\"x\":-30.0,\"xanchor\":\"center\",\"y\":-120},{\"font\":{\"color\":\"black\",\"size\":10},\"showarrow\":false,\"text\":\"495\",\"textangle\":0,\"x\":-20.0,\"xanchor\":\"center\",\"y\":-120},{\"font\":{\"color\":\"black\",\"size\":10},\"showarrow\":false,\"text\":\"792\",\"textangle\":0,\"x\":-10.0,\"xanchor\":\"center\",\"y\":-120},{\"font\":{\"color\":\"black\",\"size\":10},\"showarrow\":false,\"text\":\"924\",\"textangle\":0,\"x\":0.0,\"xanchor\":\"center\",\"y\":-120},{\"font\":{\"color\":\"black\",\"size\":10},\"showarrow\":false,\"text\":\"792\",\"textangle\":0,\"x\":10.0,\"xanchor\":\"center\",\"y\":-120},{\"font\":{\"color\":\"black\",\"size\":10},\"showarrow\":false,\"text\":\"495\",\"textangle\":0,\"x\":20.0,\"xanchor\":\"center\",\"y\":-120},{\"font\":{\"color\":\"black\",\"size\":10},\"showarrow\":false,\"text\":\"220\",\"textangle\":0,\"x\":30.0,\"xanchor\":\"center\",\"y\":-120},{\"font\":{\"color\":\"black\",\"size\":10},\"showarrow\":false,\"text\":\"66\",\"textangle\":0,\"x\":40.0,\"xanchor\":\"center\",\"y\":-120},{\"font\":{\"color\":\"black\",\"size\":10},\"showarrow\":false,\"text\":\"12\",\"textangle\":0,\"x\":50.0,\"xanchor\":\"center\",\"y\":-120},{\"font\":{\"color\":\"black\",\"size\":10},\"showarrow\":false,\"text\":\"1\",\"textangle\":0,\"x\":60.0,\"xanchor\":\"center\",\"y\":-120},{\"font\":{\"color\":\"black\",\"size\":10},\"showarrow\":false,\"text\":\"1\",\"textangle\":0,\"x\":-65.0,\"xanchor\":\"center\",\"y\":-130},{\"font\":{\"color\":\"black\",\"size\":10},\"showarrow\":false,\"text\":\"13\",\"textangle\":0,\"x\":-55.0,\"xanchor\":\"center\",\"y\":-130},{\"font\":{\"color\":\"black\",\"size\":10},\"showarrow\":false,\"text\":\"78\",\"textangle\":0,\"x\":-45.0,\"xanchor\":\"center\",\"y\":-130},{\"font\":{\"color\":\"black\",\"size\":10},\"showarrow\":false,\"text\":\"286\",\"textangle\":0,\"x\":-35.0,\"xanchor\":\"center\",\"y\":-130},{\"font\":{\"color\":\"black\",\"size\":10},\"showarrow\":false,\"text\":\"715\",\"textangle\":0,\"x\":-25.0,\"xanchor\":\"center\",\"y\":-130},{\"font\":{\"color\":\"black\",\"size\":10},\"showarrow\":false,\"text\":\"1287\",\"textangle\":0,\"x\":-15.0,\"xanchor\":\"center\",\"y\":-130},{\"font\":{\"color\":\"black\",\"size\":10},\"showarrow\":false,\"text\":\"1716\",\"textangle\":0,\"x\":-5.0,\"xanchor\":\"center\",\"y\":-130},{\"font\":{\"color\":\"black\",\"size\":10},\"showarrow\":false,\"text\":\"1716\",\"textangle\":0,\"x\":5.0,\"xanchor\":\"center\",\"y\":-130},{\"font\":{\"color\":\"black\",\"size\":10},\"showarrow\":false,\"text\":\"1287\",\"textangle\":0,\"x\":15.0,\"xanchor\":\"center\",\"y\":-130},{\"font\":{\"color\":\"black\",\"size\":10},\"showarrow\":false,\"text\":\"715\",\"textangle\":0,\"x\":25.0,\"xanchor\":\"center\",\"y\":-130},{\"font\":{\"color\":\"black\",\"size\":10},\"showarrow\":false,\"text\":\"286\",\"textangle\":0,\"x\":35.0,\"xanchor\":\"center\",\"y\":-130},{\"font\":{\"color\":\"black\",\"size\":10},\"showarrow\":false,\"text\":\"78\",\"textangle\":0,\"x\":45.0,\"xanchor\":\"center\",\"y\":-130},{\"font\":{\"color\":\"black\",\"size\":10},\"showarrow\":false,\"text\":\"13\",\"textangle\":0,\"x\":55.0,\"xanchor\":\"center\",\"y\":-130},{\"font\":{\"color\":\"black\",\"size\":10},\"showarrow\":false,\"text\":\"1\",\"textangle\":0,\"x\":65.0,\"xanchor\":\"center\",\"y\":-130},{\"font\":{\"color\":\"black\",\"size\":10},\"showarrow\":false,\"text\":\"1\",\"textangle\":0,\"x\":-70.0,\"xanchor\":\"center\",\"y\":-140},{\"font\":{\"color\":\"black\",\"size\":10},\"showarrow\":false,\"text\":\"14\",\"textangle\":0,\"x\":-60.0,\"xanchor\":\"center\",\"y\":-140},{\"font\":{\"color\":\"black\",\"size\":10},\"showarrow\":false,\"text\":\"91\",\"textangle\":0,\"x\":-50.0,\"xanchor\":\"center\",\"y\":-140},{\"font\":{\"color\":\"black\",\"size\":10},\"showarrow\":false,\"text\":\"364\",\"textangle\":0,\"x\":-40.0,\"xanchor\":\"center\",\"y\":-140},{\"font\":{\"color\":\"black\",\"size\":10},\"showarrow\":false,\"text\":\"1001\",\"textangle\":0,\"x\":-30.0,\"xanchor\":\"center\",\"y\":-140},{\"font\":{\"color\":\"black\",\"size\":10},\"showarrow\":false,\"text\":\"2002\",\"textangle\":0,\"x\":-20.0,\"xanchor\":\"center\",\"y\":-140},{\"font\":{\"color\":\"black\",\"size\":10},\"showarrow\":false,\"text\":\"3003\",\"textangle\":0,\"x\":-10.0,\"xanchor\":\"center\",\"y\":-140},{\"font\":{\"color\":\"black\",\"size\":10},\"showarrow\":false,\"text\":\"3432\",\"textangle\":0,\"x\":0.0,\"xanchor\":\"center\",\"y\":-140},{\"font\":{\"color\":\"black\",\"size\":10},\"showarrow\":false,\"text\":\"3003\",\"textangle\":0,\"x\":10.0,\"xanchor\":\"center\",\"y\":-140},{\"font\":{\"color\":\"black\",\"size\":10},\"showarrow\":false,\"text\":\"2002\",\"textangle\":0,\"x\":20.0,\"xanchor\":\"center\",\"y\":-140},{\"font\":{\"color\":\"black\",\"size\":10},\"showarrow\":false,\"text\":\"1001\",\"textangle\":0,\"x\":30.0,\"xanchor\":\"center\",\"y\":-140},{\"font\":{\"color\":\"black\",\"size\":10},\"showarrow\":false,\"text\":\"364\",\"textangle\":0,\"x\":40.0,\"xanchor\":\"center\",\"y\":-140},{\"font\":{\"color\":\"black\",\"size\":10},\"showarrow\":false,\"text\":\"91\",\"textangle\":0,\"x\":50.0,\"xanchor\":\"center\",\"y\":-140},{\"font\":{\"color\":\"black\",\"size\":10},\"showarrow\":false,\"text\":\"14\",\"textangle\":0,\"x\":60.0,\"xanchor\":\"center\",\"y\":-140},{\"font\":{\"color\":\"black\",\"size\":10},\"showarrow\":false,\"text\":\"1\",\"textangle\":0,\"x\":70.0,\"xanchor\":\"center\",\"y\":-140},{\"font\":{\"color\":\"black\",\"size\":10},\"showarrow\":false,\"text\":\"1\",\"textangle\":0,\"x\":-75.0,\"xanchor\":\"center\",\"y\":-150},{\"font\":{\"color\":\"black\",\"size\":10},\"showarrow\":false,\"text\":\"15\",\"textangle\":0,\"x\":-65.0,\"xanchor\":\"center\",\"y\":-150},{\"font\":{\"color\":\"black\",\"size\":10},\"showarrow\":false,\"text\":\"105\",\"textangle\":0,\"x\":-55.0,\"xanchor\":\"center\",\"y\":-150},{\"font\":{\"color\":\"black\",\"size\":10},\"showarrow\":false,\"text\":\"455\",\"textangle\":0,\"x\":-45.0,\"xanchor\":\"center\",\"y\":-150},{\"font\":{\"color\":\"black\",\"size\":10},\"showarrow\":false,\"text\":\"1365\",\"textangle\":0,\"x\":-35.0,\"xanchor\":\"center\",\"y\":-150},{\"font\":{\"color\":\"black\",\"size\":10},\"showarrow\":false,\"text\":\"3003\",\"textangle\":0,\"x\":-25.0,\"xanchor\":\"center\",\"y\":-150},{\"font\":{\"color\":\"black\",\"size\":10},\"showarrow\":false,\"text\":\"5005\",\"textangle\":0,\"x\":-15.0,\"xanchor\":\"center\",\"y\":-150},{\"font\":{\"color\":\"black\",\"size\":10},\"showarrow\":false,\"text\":\"6435\",\"textangle\":0,\"x\":-5.0,\"xanchor\":\"center\",\"y\":-150},{\"font\":{\"color\":\"black\",\"size\":10},\"showarrow\":false,\"text\":\"6435\",\"textangle\":0,\"x\":5.0,\"xanchor\":\"center\",\"y\":-150},{\"font\":{\"color\":\"black\",\"size\":10},\"showarrow\":false,\"text\":\"5005\",\"textangle\":0,\"x\":15.0,\"xanchor\":\"center\",\"y\":-150},{\"font\":{\"color\":\"black\",\"size\":10},\"showarrow\":false,\"text\":\"3003\",\"textangle\":0,\"x\":25.0,\"xanchor\":\"center\",\"y\":-150},{\"font\":{\"color\":\"black\",\"size\":10},\"showarrow\":false,\"text\":\"1365\",\"textangle\":0,\"x\":35.0,\"xanchor\":\"center\",\"y\":-150},{\"font\":{\"color\":\"black\",\"size\":10},\"showarrow\":false,\"text\":\"455\",\"textangle\":0,\"x\":45.0,\"xanchor\":\"center\",\"y\":-150},{\"font\":{\"color\":\"black\",\"size\":10},\"showarrow\":false,\"text\":\"105\",\"textangle\":0,\"x\":55.0,\"xanchor\":\"center\",\"y\":-150},{\"font\":{\"color\":\"black\",\"size\":10},\"showarrow\":false,\"text\":\"15\",\"textangle\":0,\"x\":65.0,\"xanchor\":\"center\",\"y\":-150},{\"font\":{\"color\":\"black\",\"size\":10},\"showarrow\":false,\"text\":\"1\",\"textangle\":0,\"x\":75.0,\"xanchor\":\"center\",\"y\":-150},{\"font\":{\"color\":\"black\",\"size\":10},\"showarrow\":false,\"text\":\"1\",\"textangle\":0,\"x\":-80.0,\"xanchor\":\"center\",\"y\":-160},{\"font\":{\"color\":\"black\",\"size\":10},\"showarrow\":false,\"text\":\"16\",\"textangle\":0,\"x\":-70.0,\"xanchor\":\"center\",\"y\":-160},{\"font\":{\"color\":\"black\",\"size\":10},\"showarrow\":false,\"text\":\"120\",\"textangle\":0,\"x\":-60.0,\"xanchor\":\"center\",\"y\":-160},{\"font\":{\"color\":\"black\",\"size\":10},\"showarrow\":false,\"text\":\"560\",\"textangle\":0,\"x\":-50.0,\"xanchor\":\"center\",\"y\":-160},{\"font\":{\"color\":\"black\",\"size\":10},\"showarrow\":false,\"text\":\"1820\",\"textangle\":0,\"x\":-40.0,\"xanchor\":\"center\",\"y\":-160},{\"font\":{\"color\":\"black\",\"size\":10},\"showarrow\":false,\"text\":\"4368\",\"textangle\":0,\"x\":-30.0,\"xanchor\":\"center\",\"y\":-160},{\"font\":{\"color\":\"black\",\"size\":10},\"showarrow\":false,\"text\":\"8008\",\"textangle\":0,\"x\":-20.0,\"xanchor\":\"center\",\"y\":-160},{\"font\":{\"color\":\"black\",\"size\":10},\"showarrow\":false,\"text\":\"11440\",\"textangle\":0,\"x\":-10.0,\"xanchor\":\"center\",\"y\":-160},{\"font\":{\"color\":\"black\",\"size\":10},\"showarrow\":false,\"text\":\"12870\",\"textangle\":0,\"x\":0.0,\"xanchor\":\"center\",\"y\":-160},{\"font\":{\"color\":\"black\",\"size\":10},\"showarrow\":false,\"text\":\"11440\",\"textangle\":0,\"x\":10.0,\"xanchor\":\"center\",\"y\":-160},{\"font\":{\"color\":\"black\",\"size\":10},\"showarrow\":false,\"text\":\"8008\",\"textangle\":0,\"x\":20.0,\"xanchor\":\"center\",\"y\":-160},{\"font\":{\"color\":\"black\",\"size\":10},\"showarrow\":false,\"text\":\"4368\",\"textangle\":0,\"x\":30.0,\"xanchor\":\"center\",\"y\":-160},{\"font\":{\"color\":\"black\",\"size\":10},\"showarrow\":false,\"text\":\"1820\",\"textangle\":0,\"x\":40.0,\"xanchor\":\"center\",\"y\":-160},{\"font\":{\"color\":\"black\",\"size\":10},\"showarrow\":false,\"text\":\"560\",\"textangle\":0,\"x\":50.0,\"xanchor\":\"center\",\"y\":-160},{\"font\":{\"color\":\"black\",\"size\":10},\"showarrow\":false,\"text\":\"120\",\"textangle\":0,\"x\":60.0,\"xanchor\":\"center\",\"y\":-160},{\"font\":{\"color\":\"black\",\"size\":10},\"showarrow\":false,\"text\":\"16\",\"textangle\":0,\"x\":70.0,\"xanchor\":\"center\",\"y\":-160},{\"font\":{\"color\":\"black\",\"size\":10},\"showarrow\":false,\"text\":\"1\",\"textangle\":0,\"x\":80.0,\"xanchor\":\"center\",\"y\":-160},{\"font\":{\"color\":\"black\",\"size\":10},\"showarrow\":false,\"text\":\"1\",\"textangle\":0,\"x\":-85.0,\"xanchor\":\"center\",\"y\":-170},{\"font\":{\"color\":\"black\",\"size\":10},\"showarrow\":false,\"text\":\"17\",\"textangle\":0,\"x\":-75.0,\"xanchor\":\"center\",\"y\":-170},{\"font\":{\"color\":\"black\",\"size\":10},\"showarrow\":false,\"text\":\"136\",\"textangle\":0,\"x\":-65.0,\"xanchor\":\"center\",\"y\":-170},{\"font\":{\"color\":\"black\",\"size\":10},\"showarrow\":false,\"text\":\"680\",\"textangle\":0,\"x\":-55.0,\"xanchor\":\"center\",\"y\":-170},{\"font\":{\"color\":\"black\",\"size\":10},\"showarrow\":false,\"text\":\"2380\",\"textangle\":0,\"x\":-45.0,\"xanchor\":\"center\",\"y\":-170},{\"font\":{\"color\":\"black\",\"size\":10},\"showarrow\":false,\"text\":\"6188\",\"textangle\":0,\"x\":-35.0,\"xanchor\":\"center\",\"y\":-170},{\"font\":{\"color\":\"black\",\"size\":10},\"showarrow\":false,\"text\":\"12376\",\"textangle\":0,\"x\":-25.0,\"xanchor\":\"center\",\"y\":-170},{\"font\":{\"color\":\"black\",\"size\":10},\"showarrow\":false,\"text\":\"19448\",\"textangle\":0,\"x\":-15.0,\"xanchor\":\"center\",\"y\":-170},{\"font\":{\"color\":\"black\",\"size\":10},\"showarrow\":false,\"text\":\"24310\",\"textangle\":0,\"x\":-5.0,\"xanchor\":\"center\",\"y\":-170},{\"font\":{\"color\":\"black\",\"size\":10},\"showarrow\":false,\"text\":\"24310\",\"textangle\":0,\"x\":5.0,\"xanchor\":\"center\",\"y\":-170},{\"font\":{\"color\":\"black\",\"size\":10},\"showarrow\":false,\"text\":\"19448\",\"textangle\":0,\"x\":15.0,\"xanchor\":\"center\",\"y\":-170},{\"font\":{\"color\":\"black\",\"size\":10},\"showarrow\":false,\"text\":\"12376\",\"textangle\":0,\"x\":25.0,\"xanchor\":\"center\",\"y\":-170},{\"font\":{\"color\":\"black\",\"size\":10},\"showarrow\":false,\"text\":\"6188\",\"textangle\":0,\"x\":35.0,\"xanchor\":\"center\",\"y\":-170},{\"font\":{\"color\":\"black\",\"size\":10},\"showarrow\":false,\"text\":\"2380\",\"textangle\":0,\"x\":45.0,\"xanchor\":\"center\",\"y\":-170},{\"font\":{\"color\":\"black\",\"size\":10},\"showarrow\":false,\"text\":\"680\",\"textangle\":0,\"x\":55.0,\"xanchor\":\"center\",\"y\":-170},{\"font\":{\"color\":\"black\",\"size\":10},\"showarrow\":false,\"text\":\"136\",\"textangle\":0,\"x\":65.0,\"xanchor\":\"center\",\"y\":-170},{\"font\":{\"color\":\"black\",\"size\":10},\"showarrow\":false,\"text\":\"17\",\"textangle\":0,\"x\":75.0,\"xanchor\":\"center\",\"y\":-170},{\"font\":{\"color\":\"black\",\"size\":10},\"showarrow\":false,\"text\":\"1\",\"textangle\":0,\"x\":85.0,\"xanchor\":\"center\",\"y\":-170},{\"font\":{\"color\":\"black\",\"size\":10},\"showarrow\":false,\"text\":\"1\",\"textangle\":0,\"x\":-90.0,\"xanchor\":\"center\",\"y\":-180},{\"font\":{\"color\":\"black\",\"size\":10},\"showarrow\":false,\"text\":\"18\",\"textangle\":0,\"x\":-80.0,\"xanchor\":\"center\",\"y\":-180},{\"font\":{\"color\":\"black\",\"size\":10},\"showarrow\":false,\"text\":\"153\",\"textangle\":0,\"x\":-70.0,\"xanchor\":\"center\",\"y\":-180},{\"font\":{\"color\":\"black\",\"size\":10},\"showarrow\":false,\"text\":\"816\",\"textangle\":0,\"x\":-60.0,\"xanchor\":\"center\",\"y\":-180},{\"font\":{\"color\":\"black\",\"size\":10},\"showarrow\":false,\"text\":\"3060\",\"textangle\":0,\"x\":-50.0,\"xanchor\":\"center\",\"y\":-180},{\"font\":{\"color\":\"black\",\"size\":10},\"showarrow\":false,\"text\":\"8568\",\"textangle\":0,\"x\":-40.0,\"xanchor\":\"center\",\"y\":-180},{\"font\":{\"color\":\"black\",\"size\":10},\"showarrow\":false,\"text\":\"18564\",\"textangle\":0,\"x\":-30.0,\"xanchor\":\"center\",\"y\":-180},{\"font\":{\"color\":\"black\",\"size\":10},\"showarrow\":false,\"text\":\"31824\",\"textangle\":0,\"x\":-20.0,\"xanchor\":\"center\",\"y\":-180},{\"font\":{\"color\":\"black\",\"size\":10},\"showarrow\":false,\"text\":\"43758\",\"textangle\":0,\"x\":-10.0,\"xanchor\":\"center\",\"y\":-180},{\"font\":{\"color\":\"black\",\"size\":10},\"showarrow\":false,\"text\":\"48620\",\"textangle\":0,\"x\":0.0,\"xanchor\":\"center\",\"y\":-180},{\"font\":{\"color\":\"black\",\"size\":10},\"showarrow\":false,\"text\":\"43758\",\"textangle\":0,\"x\":10.0,\"xanchor\":\"center\",\"y\":-180},{\"font\":{\"color\":\"black\",\"size\":10},\"showarrow\":false,\"text\":\"31824\",\"textangle\":0,\"x\":20.0,\"xanchor\":\"center\",\"y\":-180},{\"font\":{\"color\":\"black\",\"size\":10},\"showarrow\":false,\"text\":\"18564\",\"textangle\":0,\"x\":30.0,\"xanchor\":\"center\",\"y\":-180},{\"font\":{\"color\":\"black\",\"size\":10},\"showarrow\":false,\"text\":\"8568\",\"textangle\":0,\"x\":40.0,\"xanchor\":\"center\",\"y\":-180},{\"font\":{\"color\":\"black\",\"size\":10},\"showarrow\":false,\"text\":\"3060\",\"textangle\":0,\"x\":50.0,\"xanchor\":\"center\",\"y\":-180},{\"font\":{\"color\":\"black\",\"size\":10},\"showarrow\":false,\"text\":\"816\",\"textangle\":0,\"x\":60.0,\"xanchor\":\"center\",\"y\":-180},{\"font\":{\"color\":\"black\",\"size\":10},\"showarrow\":false,\"text\":\"153\",\"textangle\":0,\"x\":70.0,\"xanchor\":\"center\",\"y\":-180},{\"font\":{\"color\":\"black\",\"size\":10},\"showarrow\":false,\"text\":\"18\",\"textangle\":0,\"x\":80.0,\"xanchor\":\"center\",\"y\":-180},{\"font\":{\"color\":\"black\",\"size\":10},\"showarrow\":false,\"text\":\"1\",\"textangle\":0,\"x\":90.0,\"xanchor\":\"center\",\"y\":-180},{\"font\":{\"color\":\"black\",\"size\":10},\"showarrow\":false,\"text\":\"1\",\"textangle\":0,\"x\":-95.0,\"xanchor\":\"center\",\"y\":-190},{\"font\":{\"color\":\"black\",\"size\":10},\"showarrow\":false,\"text\":\"19\",\"textangle\":0,\"x\":-85.0,\"xanchor\":\"center\",\"y\":-190},{\"font\":{\"color\":\"black\",\"size\":10},\"showarrow\":false,\"text\":\"171\",\"textangle\":0,\"x\":-75.0,\"xanchor\":\"center\",\"y\":-190},{\"font\":{\"color\":\"black\",\"size\":10},\"showarrow\":false,\"text\":\"969\",\"textangle\":0,\"x\":-65.0,\"xanchor\":\"center\",\"y\":-190},{\"font\":{\"color\":\"black\",\"size\":10},\"showarrow\":false,\"text\":\"3876\",\"textangle\":0,\"x\":-55.0,\"xanchor\":\"center\",\"y\":-190},{\"font\":{\"color\":\"black\",\"size\":10},\"showarrow\":false,\"text\":\"11628\",\"textangle\":0,\"x\":-45.0,\"xanchor\":\"center\",\"y\":-190},{\"font\":{\"color\":\"black\",\"size\":10},\"showarrow\":false,\"text\":\"27132\",\"textangle\":0,\"x\":-35.0,\"xanchor\":\"center\",\"y\":-190},{\"font\":{\"color\":\"black\",\"size\":10},\"showarrow\":false,\"text\":\"50388\",\"textangle\":0,\"x\":-25.0,\"xanchor\":\"center\",\"y\":-190},{\"font\":{\"color\":\"black\",\"size\":10},\"showarrow\":false,\"text\":\"75582\",\"textangle\":0,\"x\":-15.0,\"xanchor\":\"center\",\"y\":-190},{\"font\":{\"color\":\"black\",\"size\":10},\"showarrow\":false,\"text\":\"92378\",\"textangle\":0,\"x\":-5.0,\"xanchor\":\"center\",\"y\":-190},{\"font\":{\"color\":\"black\",\"size\":10},\"showarrow\":false,\"text\":\"92378\",\"textangle\":0,\"x\":5.0,\"xanchor\":\"center\",\"y\":-190},{\"font\":{\"color\":\"black\",\"size\":10},\"showarrow\":false,\"text\":\"75582\",\"textangle\":0,\"x\":15.0,\"xanchor\":\"center\",\"y\":-190},{\"font\":{\"color\":\"black\",\"size\":10},\"showarrow\":false,\"text\":\"50388\",\"textangle\":0,\"x\":25.0,\"xanchor\":\"center\",\"y\":-190},{\"font\":{\"color\":\"black\",\"size\":10},\"showarrow\":false,\"text\":\"27132\",\"textangle\":0,\"x\":35.0,\"xanchor\":\"center\",\"y\":-190},{\"font\":{\"color\":\"black\",\"size\":10},\"showarrow\":false,\"text\":\"11628\",\"textangle\":0,\"x\":45.0,\"xanchor\":\"center\",\"y\":-190},{\"font\":{\"color\":\"black\",\"size\":10},\"showarrow\":false,\"text\":\"3876\",\"textangle\":0,\"x\":55.0,\"xanchor\":\"center\",\"y\":-190},{\"font\":{\"color\":\"black\",\"size\":10},\"showarrow\":false,\"text\":\"969\",\"textangle\":0,\"x\":65.0,\"xanchor\":\"center\",\"y\":-190},{\"font\":{\"color\":\"black\",\"size\":10},\"showarrow\":false,\"text\":\"171\",\"textangle\":0,\"x\":75.0,\"xanchor\":\"center\",\"y\":-190},{\"font\":{\"color\":\"black\",\"size\":10},\"showarrow\":false,\"text\":\"19\",\"textangle\":0,\"x\":85.0,\"xanchor\":\"center\",\"y\":-190},{\"font\":{\"color\":\"black\",\"size\":10},\"showarrow\":false,\"text\":\"1\",\"textangle\":0,\"x\":95.0,\"xanchor\":\"center\",\"y\":-190}]},                        {\"responsive\": true}                    ).then(function(){\n                            \nvar gd = document.getElementById('304c921d-4cb2-4b00-b7c0-d5697aac7571');\nvar x = new MutationObserver(function (mutations, observer) {{\n        var display = window.getComputedStyle(gd).display;\n        if (!display || display === 'none') {{\n            console.log([gd, 'removed!']);\n            Plotly.purge(gd);\n            observer.disconnect();\n        }}\n}});\n\n// Listen for the removal of the full notebook cells\nvar notebookContainer = gd.closest('#notebook-container');\nif (notebookContainer) {{\n    x.observe(notebookContainer, {childList: true});\n}}\n\n// Listen for the clearing of the current output cell\nvar outputEl = gd.closest('.output');\nif (outputEl) {{\n    x.observe(outputEl, {childList: true});\n}}\n\n                        })                };                });            </script>        </div>"
     },
     "metadata": {},
     "output_type": "display_data"
    }
   ],
   "source": [
    "drawPascal(20,10)"
   ],
   "metadata": {
    "collapsed": false
   }
  },
  {
   "cell_type": "code",
   "execution_count": null,
   "outputs": [],
   "source": [],
   "metadata": {
    "collapsed": false
   }
  },
  {
   "cell_type": "code",
   "execution_count": null,
   "outputs": [],
   "source": [],
   "metadata": {
    "collapsed": false
   }
  }
 ],
 "metadata": {
  "kernelspec": {
   "display_name": "Python 3",
   "language": "python",
   "name": "python3"
  },
  "language_info": {
   "codemirror_mode": {
    "name": "ipython",
    "version": 2
   },
   "file_extension": ".py",
   "mimetype": "text/x-python",
   "name": "python",
   "nbconvert_exporter": "python",
   "pygments_lexer": "ipython2",
   "version": "2.7.6"
  }
 },
 "nbformat": 4,
 "nbformat_minor": 0
}
