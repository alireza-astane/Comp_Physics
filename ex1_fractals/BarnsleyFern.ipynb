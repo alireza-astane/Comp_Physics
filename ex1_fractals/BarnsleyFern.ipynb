{
 "cells": [
  {
   "cell_type": "code",
   "execution_count": 16,
   "metadata": {
    "collapsed": true
   },
   "outputs": [],
   "source": [
    "from math import pi, sin, cos\n",
    "from typing import Sequence\n",
    "import plotly.express as pe\n",
    "import numpy as np\n",
    "import random\n",
    "import matplotlib.pyplot as plt\n",
    "import plotly.graph_objects as go"
   ]
  },
  {
   "cell_type": "code",
   "execution_count": 17,
   "outputs": [],
   "source": [
    "class Object:\n",
    "            \"\"\"\n",
    "            the class to create and handle fractal Objects\n",
    "\n",
    "            methods:\n",
    "\n",
    "            shift:\n",
    "                the function to apply the shift on the object\n",
    "            scale:\n",
    "                the function to apply the scaling on the object\n",
    "            rotate:\n",
    "                the function to apply the rotation on the object\n",
    "            copy:\n",
    "                creates a new object with the same values for attributes\n",
    "\n",
    "            getPlot:\n",
    "            \"\"\"\n",
    "\n",
    "            def __init__(self, startingPoint: Sequence[float],length:float,theta:float,changing:bool) -> None:\n",
    "                \"\"\"\n",
    "                the function to create the fractal objects\n",
    "                the init color is blue\n",
    "\n",
    "                :param startingPoint:the starting point of the object stored as np.array\n",
    "                :type startingPoint:Sequence[float]\n",
    "                :param endPoint:the endPoint of the object stored as np.array\n",
    "                :type endPoint:Sequence[float]\n",
    "                \"\"\"\n",
    "                self.startingPoint = np.array(startingPoint)\n",
    "                self.changing = changing\n",
    "                self.theta = np.array(theta)\n",
    "                self.length = np.array(length)\n",
    "\n",
    "            def copy(self) -> object:\n",
    "                \"\"\"\n",
    "                the function to create a new object with the same properties as the input object\n",
    "\n",
    "                :return:the new object\n",
    "                :rtype:object\n",
    "                \"\"\"\n",
    "                return Object(self.startingPoint.copy(),self.length.copy(),self.theta.copy(),self.changing)\n",
    "\n",
    "\n",
    "            def scale(self, scaleParam: float) -> object:\n",
    "                \"\"\"\n",
    "                the function to apply the scaling on the object\n",
    "\n",
    "                :param r:the scaling coefficient\n",
    "                :type r: float\n",
    "                :return:the exact object\n",
    "                :rtype:object\n",
    "                \"\"\"\n",
    "                self.length *= scaleParam\n",
    "                return self\n",
    "\n",
    "            def shift(self,shiftParams:np.array) -> object:\n",
    "                \"\"\"\n",
    "                the function to apply the shift on the object\n",
    "                R is the rotating matrix witch should be applied on the shift vector\n",
    "\n",
    "                :param shiftParams:(the shift vector /length of object)\n",
    "                :type shiftParams:np.array\n",
    "                :return:the exact object\n",
    "                :rtype:object\n",
    "                \"\"\"\n",
    "                R = np.array([[cos(self.theta),sin(self.theta)],[-sin(self.theta),cos(self.theta)]])\n",
    "                self.startingPoint += self.length*R.dot(shiftParams)\n",
    "                return self\n",
    "\n",
    "            def rotate(self, rotatingParam: float) -> object:\n",
    "                \"\"\"\n",
    "                the function to apply the rotation on the object\n",
    "                R is the rotating matrix\n",
    "\n",
    "                :param rotatingParam: the change of theta\n",
    "                :type rotatingParam: float\n",
    "                :return:the exact object\n",
    "                :rtype:object\n",
    "                \"\"\"\n",
    "                self.theta += rotatingParam\n",
    "                return self\n",
    "\n",
    "            def mirror(self, mirrorParam: bool):\n",
    "                # if mirrorParam:\n",
    "                #     self.theta *= -1\n",
    "                return self\n",
    "            def getPoints(self) -> Sequence[Sequence[float]]:\n",
    "                \"\"\"\n",
    "                the function to get the plot of the object\n",
    "\n",
    "                :return:the plot of the object\n",
    "                :rtype:plt.plot\n",
    "                \"\"\"\n",
    "                return [self.startingPoint[0],self.startingPoint[0]+self.length*sin(self.theta)],[self.startingPoint[1],self.startingPoint[1]+self.length*cos(self.theta)]\n"
   ],
   "metadata": {
    "collapsed": false
   }
  },
  {
   "cell_type": "code",
   "execution_count": 18,
   "outputs": [],
   "source": [
    "class Transformer:\n",
    "    \"\"\"\n",
    "    the class to create and perform transformers\n",
    "\n",
    "    methods:\n",
    "    subTransform:\n",
    "        to apply all changes of a transformer on an object and return aa new object\n",
    "    \"\"\"\n",
    "    def __init__(self, scaleParam: float, rotateParam: float,shiftParams:Sequence[float],mirrorParam : bool,changingParam:bool) -> None:\n",
    "        \"\"\"\n",
    "        creates transformers based on the params\n",
    "\n",
    "        :param scaleParam:the scale coefficient of transformer\n",
    "        :type scaleParam: float\n",
    "        :param shiftParams:the shift vector of the transformer\n",
    "        :type shiftParams: np.array\n",
    "        :param rotateParam:the change of theta witch the transformer applies\n",
    "        :type rotateParam: float\n",
    "        \"\"\"\n",
    "        self.scaleParams =scaleParam\n",
    "        self.rotateParam = rotateParam\n",
    "        self.shiftParams = np.array(shiftParams)\n",
    "        self.mirrorParam = mirrorParam\n",
    "        self.changingParam = changingParam\n",
    "\n",
    "    def subTransform(self, obj: object) -> object:\n",
    "        \"\"\"\n",
    "        to apply all changes of a transformer on an object and return aa new object\n",
    "        the sort of the changes is important.\n",
    "\n",
    "        :param obj:the first object\n",
    "        :type obj: object\n",
    "        :return: new object\n",
    "        :rtype: object\n",
    "        \"\"\"\n",
    "        newObj = obj.copy()\n",
    "        if obj.changing:\n",
    "\n",
    "            newObj.changing = self.changingParam\n",
    "            return newObj.shift(self.shiftParams).mirror(self.mirrorParam).scale(self.scaleParams).rotate(self.rotateParam)\n",
    "        else:\n",
    "            return newObj\n"
   ],
   "metadata": {
    "collapsed": false
   }
  },
  {
   "cell_type": "code",
   "execution_count": 19,
   "outputs": [],
   "source": [
    "class BarnsleyFern:\n",
    "    \"\"\"\n",
    "    the class to create Dragon highway object and simulate the fractal growth\n",
    "\n",
    "    methods:\n",
    "        visualize:\n",
    "            the function to create a plotly plot of the objects at the step\n",
    "        transform:\n",
    "            the function to apply all the transformers on the input object\n",
    "        step:\n",
    "            the function to go one step forward\n",
    "    \"\"\"\n",
    "\n",
    "    def getSequence(self, depth: int) -> Sequence[Transformer]:\n",
    "        \"\"\"\n",
    "        returns a random sequence of transformers with the input size\n",
    "\n",
    "        :param depth:the depth of fractal growth\n",
    "        :type depth:int\n",
    "        :return:the random list of transformers with the size of depth\n",
    "        :rtype:Sequence[Transformer]\n",
    "        \"\"\"\n",
    "        return random.choices(self.transformers,k = depth)\n",
    "\n",
    "    def __init__(self, firstObject: object, transformers: Sequence[Transformer]) -> None:\n",
    "        \"\"\"\n",
    "        the function to create the Dragon object with the first object and the transformers\n",
    "\n",
    "        :param firstObject:the first input\n",
    "        :type firstObject:object\n",
    "        :param transformers:the transformers to apply on the objects\n",
    "        :type transformers:Transformer\n",
    "        \"\"\"\n",
    "        self.objects:np.array = [firstObject]\n",
    "        self.transformers = transformers\n",
    "\n",
    "    def visualize(self) -> None:\n",
    "        \"\"\"\n",
    "        the function to create a plotly plot of the objects at the step\n",
    "        \"\"\"\n",
    "        x = []\n",
    "        y = []\n",
    "        lines = []\n",
    "        for obj in self.objects:\n",
    "            plt.plot(obj.getPoints()[0],obj.getPoints()[1],color = \"blue\")\n",
    "\n",
    "            lines.append(pe.line(x = obj.getPoints()[0],y = obj.getPoints()[1]))\n",
    "\n",
    "        # fig  = lines[0]\n",
    "        # for line in lines:\n",
    "        #     fig.add_trace(line.data[0])\n",
    "        #\n",
    "        # fig.show()\n",
    "\n",
    "    def transform(self, obj: object) -> Sequence[object]:\n",
    "        \"\"\"\n",
    "        the function to apply all the transformers on the input object\n",
    "\n",
    "        :param obj:the input object\n",
    "        :type obj:object\n",
    "        :return:the new output objects\n",
    "        :rtype:Sequence[object]\n",
    "        \"\"\"\n",
    "        outputs = []\n",
    "        for transformer in self.transformers:\n",
    "            outputs.append(transformer.subTransform(obj))\n",
    "\n",
    "        return outputs\n",
    "\n",
    "    def step(self) -> None:\n",
    "        \"\"\"\n",
    "        the function to go one step forward\n",
    "        \"\"\"\n",
    "        new_objects = []\n",
    "        for obj in self.objects:\n",
    "            new_objects += self.transform(obj)\n",
    "\n",
    "        self.objects = new_objects\n",
    "\n",
    "    def drawRandomFractal(self, depth: int, iterations: int) -> None:\n",
    "        \"\"\"\n",
    "        draws a random Sierpinski triangle fractal plot\n",
    "\n",
    "        :param depth:the depth of fractal growth\n",
    "        :type depth:int\n",
    "        :param iterations:the number of redrawing iterations\n",
    "        :type iterations:int\n",
    "\n",
    "        \"\"\"\n",
    "        x = []\n",
    "        y = []\n",
    "        lines = []\n",
    "\n",
    "        for _ in range(iterations):\n",
    "            sequence = self.getSequence(depth)\n",
    "            newObj = firstObject\n",
    "            for i in range(depth):\n",
    "                newObj = sequence[i].subTransform(newObj)\n",
    "\n",
    "            plt.plot(newObj.getPoints()[0],newObj.getPoints()[1],color = \"blue\")\n",
    "            lines.append(pe.line(x = newObj.getPoints()[0],y = newObj.getPoints()[1]))\n",
    "\n",
    "\n",
    "        # fig  = lines[0]\n",
    "        # for line in lines:\n",
    "        #     fig.add_trace(line.data[0])\n",
    "\n",
    "        #fig.show()\n",
    "\n",
    "\n",
    "\n"
   ],
   "metadata": {
    "collapsed": false
   }
  },
  {
   "cell_type": "code",
   "execution_count": 31,
   "outputs": [],
   "source": [
    "firstObject = Object([0.,0.],1.,0.,True)\n",
    "transformer1 = Transformer(0.8,pi/18,[0.,0.2],False,True)\n",
    "transformer2 = Transformer(0.3,pi/4,[0.,0.1],True,True)\n",
    "transformer3= Transformer(0.3,-pi/4,[0.,0.2],False,True)\n",
    "transformer4 = Transformer(0.2,0,[0,0],False,False)\n",
    "fractal = BarnsleyFern(firstObject,[transformer1,transformer2,transformer3,transformer4])"
   ],
   "metadata": {
    "collapsed": false
   }
  },
  {
   "cell_type": "code",
   "execution_count": 32,
   "outputs": [],
   "source": [
    "for _ in range(5):\n",
    "    fractal.step()"
   ],
   "metadata": {
    "collapsed": false
   }
  },
  {
   "cell_type": "code",
   "execution_count": 33,
   "outputs": [
    {
     "data": {
      "text/plain": "<Figure size 432x288 with 1 Axes>",
      "image/png": "[encoded data removed]"
     },
     "metadata": {
      "needs_background": "light"
     },
     "output_type": "display_data"
    }
   ],
   "source": [
    "fractal.visualize()"
   ],
   "metadata": {
    "collapsed": false
   }
  },
  {
   "cell_type": "code",
   "execution_count": 42,
   "outputs": [
    {
     "data": {
      "text/plain": "<Figure size 432x288 with 1 Axes>",
      "image/png": "[encoded data removed]"
     },
     "metadata": {
      "needs_background": "light"
     },
     "output_type": "display_data"
    }
   ],
   "source": [
    "fractal.drawRandomFractal(5,1000)"
   ],
   "metadata": {
    "collapsed": false
   }
  },
  {
   "cell_type": "code",
   "execution_count": 41,
   "outputs": [
    {
     "data": {
      "text/plain": "1024"
     },
     "execution_count": 41,
     "metadata": {},
     "output_type": "execute_result"
    }
   ],
   "source": [
    "4**5"
   ],
   "metadata": {
    "collapsed": false
   }
  },
  {
   "cell_type": "code",
   "execution_count": null,
   "outputs": [],
   "source": [],
   "metadata": {
    "collapsed": false
   }
  },
  {
   "cell_type": "code",
   "execution_count": 62,
   "outputs": [],
   "source": [],
   "metadata": {
    "collapsed": false
   }
  },
  {
   "cell_type": "code",
   "execution_count": 63,
   "outputs": [],
   "source": [],
   "metadata": {
    "collapsed": false
   }
  },
  {
   "cell_type": "code",
   "execution_count": null,
   "outputs": [],
   "source": [],
   "metadata": {
    "collapsed": false
   }
  },
  {
   "cell_type": "code",
   "execution_count": 58,
   "outputs": [],
   "source": [],
   "metadata": {
    "collapsed": false
   }
  },
  {
   "cell_type": "code",
   "execution_count": null,
   "outputs": [],
   "source": [],
   "metadata": {
    "collapsed": false
   }
  }
 ],
 "metadata": {
  "kernelspec": {
   "display_name": "Python 3",
   "language": "python",
   "name": "python3"
  },
  "language_info": {
   "codemirror_mode": {
    "name": "ipython",
    "version": 2
   },
   "file_extension": ".py",
   "mimetype": "text/x-python",
   "name": "python",
   "nbconvert_exporter": "python",
   "pygments_lexer": "ipython2",
   "version": "2.7.6"
  }
 },
 "nbformat": 4,
 "nbformat_minor": 0
}
