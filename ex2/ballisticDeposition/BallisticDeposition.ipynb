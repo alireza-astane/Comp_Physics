{
 "cells": [
  {
   "cell_type": "markdown",
   "source": [
    "# Imports:"
   ],
   "metadata": {
    "collapsed": false
   }
  },
  {
   "cell_type": "code",
   "execution_count": 8,
   "metadata": {
    "collapsed": true
   },
   "outputs": [],
   "source": [
    "import numpy.random as npr\n",
    "import numpy as np\n",
    "import matplotlib.pyplot as plt\n",
    "import imageio\n",
    "from IPython.display import Video"
   ]
  },
  {
   "cell_type": "markdown",
   "source": [
    "# Classes:"
   ],
   "metadata": {
    "collapsed": false
   }
  },
  {
   "cell_type": "code",
   "execution_count": 142,
   "outputs": [],
   "source": [
    "class BallisticDeposition:\n",
    "    \"\"\"\n",
    "    class fields :\n",
    "    colors:the list of colors used in visualization\n",
    "\n",
    "    the class to model Ballistic Deposition\n",
    "    methods:\n",
    "    step:\n",
    "        the function to add an amount of objects\n",
    "\n",
    "    miniStep:\n",
    "        the function to add one object\n",
    "\n",
    "    run:\n",
    "        the function to do the process of Ballistic Deposition\n",
    "\n",
    "    visualize:\n",
    "        the function to show the states of the process\n",
    "\n",
    "    result:\n",
    "        the function to show the result of the process\n",
    "\n",
    "    animate:\n",
    "        the function to create an animation of the process\n",
    "\n",
    "    \"\"\"\n",
    "    colors = [\"blue\",\"red\"]\n",
    "    def __init__(self, miniSteps: int, steps: int, length: int) -> None:\n",
    "        \"\"\"\n",
    "\n",
    "        :param miniSteps: the amount of objects added after a step\n",
    "        :type miniSteps: int\n",
    "        :param steps: the amount of steps in the process\n",
    "        :type steps: int\n",
    "        :param length: the size of the platform in Ballistic Deposition\n",
    "        :type length: int\n",
    "        \"\"\"\n",
    "        self.miniSteps = miniSteps\n",
    "        self.steps = steps\n",
    "        self.length = length\n",
    "        self.averages = []\n",
    "        self.w = []\n",
    "        self.x = np.zeros(length)\n",
    "        self.t =range(1,steps+1)\n",
    "        self.yTicks = range(0,int(3*miniSteps*steps/length),steps)\n",
    "        self.data = []\n",
    "\n",
    "\n",
    "    def step(self) -> None:\n",
    "        \"\"\"\n",
    "        the function to add an amount of objects\n",
    "        \"\"\"\n",
    "        for i in range(self.miniSteps):\n",
    "            self.miniStep()\n",
    "\n",
    "\n",
    "    def miniStep(self) -> None:\n",
    "        \"\"\"\n",
    "        the function to add one object\n",
    "        \"\"\"\n",
    "        index = np.random.uniform(0,self.length-1)\n",
    "        self.x[int(index)] += 1\n",
    "\n",
    "    def run(self) -> None:\n",
    "        \"\"\"\n",
    "        the function to do the process of Ballistic Deposition\n",
    "        \"\"\"\n",
    "        for i in range(self.steps):\n",
    "            self.step()\n",
    "\n",
    "            x_bar = sum(self.x)\n",
    "            sigma = np.sqrt(np.var(self.x))\n",
    "            self.averages.append(x_bar)\n",
    "            self.w.append(sigma)\n",
    "            self.data.append(self.x.copy())\n",
    "\n",
    "    def visualize(self) -> None:\n",
    "        \"\"\"\n",
    "        the function to show the states of the process\n",
    "        \"\"\"\n",
    "        plt.clf()\n",
    "        for i in range(1,self.steps+1):\n",
    "            c = BallisticDeposition.colors[i%2]\n",
    "            plt.bar(range(self.length),self.data[-i],color = c)\n",
    "            plt.yticks(self.yTicks)\n",
    "\n",
    "    def result(self) -> None:\n",
    "        \"\"\"\n",
    "        the function to show the result of the process\n",
    "\n",
    "        \"\"\"\n",
    "        plt.scatter(self.t,self.w)\n",
    "        plt.title(\"w(t): \")\n",
    "        plt.show()\n",
    "        tArray = np.array(self.t)\n",
    "        sigmasArray = np.array(self.w)\n",
    "        logSigmas = np.log10(sigmasArray)\n",
    "        logT = np.log10(tArray)\n",
    "        plt.scatter(logT,logSigmas)\n",
    "        plt.title(\"logW(logT): \")\n",
    "        plt.show()\n",
    "\n",
    "        print(\"r2 for log(w) and log(t): \",np.corrcoef(logT, logSigmas)[0][1])\n",
    "        print(\"beta: \",np.polyfit(logT,logSigmas,1)[0])\n",
    "\n",
    "    def animate(self) -> None:\n",
    "        \"\"\"\n",
    "        the function to create an animation of the process\n",
    "\n",
    "        \"\"\"\n",
    "        images = []\n",
    "        for i in range(0,self.steps):\n",
    "            c = bd.colors[i%2]\n",
    "            plt.bar(range(self.length),self.data[i],color = c)\n",
    "            plt.yticks(self.yTicks)\n",
    "            plt.savefig(str(i)+\".png\")\n",
    "\n",
    "            images.append(imageio.imread(str(i)+\".png\"))\n",
    "        imageio.mimsave('movie.mp4', images)\n",
    "        Video(\"./movie.mp4\")\n",
    "\n"
   ],
   "metadata": {
    "collapsed": false
   }
  },
  {
   "cell_type": "markdown",
   "source": [
    "# Main Part:"
   ],
   "metadata": {
    "collapsed": false
   }
  },
  {
   "cell_type": "markdown",
   "source": [
    "### creating the ballistic deposition object and running:"
   ],
   "metadata": {
    "collapsed": false
   }
  },
  {
   "cell_type": "code",
   "execution_count": 143,
   "outputs": [],
   "source": [
    "bd = BallisticDeposition(1000,20,200)\n",
    "bd.run()"
   ],
   "metadata": {
    "collapsed": false
   }
  },
  {
   "cell_type": "markdown",
   "source": [
    "### getting the result:"
   ],
   "metadata": {
    "collapsed": false
   }
  },
  {
   "cell_type": "code",
   "execution_count": 144,
   "outputs": [
    {
     "data": {
      "text/plain": "<Figure size 432x288 with 1 Axes>",
      "image/png": "[encoded data removed]"
     },
     "metadata": {
      "needs_background": "light"
     },
     "output_type": "display_data"
    },
    {
     "data": {
      "text/plain": "<Figure size 432x288 with 1 Axes>",
      "image/png": "[encoded data removed]"
     },
     "metadata": {
      "needs_background": "light"
     },
     "output_type": "display_data"
    },
    {
     "name": "stdout",
     "output_type": "stream",
     "text": [
      "r2 for log(w) and log(t):  0.9987849228218644\n",
      "beta:  0.6071185836643217\n"
     ]
    }
   ],
   "source": [
    "bd.result()"
   ],
   "metadata": {
    "collapsed": false
   }
  },
  {
   "cell_type": "markdown",
   "source": [
    "### visualizing the final state:"
   ],
   "metadata": {
    "collapsed": false
   }
  },
  {
   "cell_type": "code",
   "execution_count": 145,
   "outputs": [
    {
     "data": {
      "text/plain": "<Figure size 432x288 with 1 Axes>",
      "image/png": "[encoded data removed]"
     },
     "metadata": {
      "needs_background": "light"
     },
     "output_type": "display_data"
    }
   ],
   "source": [
    "bd.visualize()"
   ],
   "metadata": {
    "collapsed": false
   }
  },
  {
   "cell_type": "markdown",
   "source": [
    "### shwing the dynamic of the Ballistic Deposition:"
   ],
   "metadata": {
    "collapsed": false
   }
  },
  {
   "cell_type": "code",
   "execution_count": 146,
   "outputs": [
    {
     "data": {
      "text/plain": "<Figure size 432x288 with 1 Axes>",
      "image/png": "[encoded data removed]"
     },
     "metadata": {
      "needs_background": "light"
     },
     "output_type": "display_data"
    }
   ],
   "source": [
    "bd.animate()"
   ],
   "metadata": {
    "collapsed": false
   }
  }
 ],
 "metadata": {
  "kernelspec": {
   "display_name": "Python 3",
   "language": "python",
   "name": "python3"
  },
  "language_info": {
   "codemirror_mode": {
    "name": "ipython",
    "version": 2
   },
   "file_extension": ".py",
   "mimetype": "text/x-python",
   "name": "python",
   "nbconvert_exporter": "python",
   "pygments_lexer": "ipython2",
   "version": "2.7.6"
  }
 },
 "nbformat": 4,
 "nbformat_minor": 0
}
