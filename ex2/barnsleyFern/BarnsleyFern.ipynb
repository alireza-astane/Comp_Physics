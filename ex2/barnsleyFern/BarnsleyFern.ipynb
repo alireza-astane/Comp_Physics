{
 "cells": [
  {
   "cell_type": "markdown",
   "source": [
    "# Imports:"
   ],
   "metadata": {
    "collapsed": false
   }
  },
  {
   "cell_type": "code",
   "execution_count": 1,
   "metadata": {
    "collapsed": true
   },
   "outputs": [],
   "source": [
    "from math import pi, sin, cos\n",
    "from typing import Sequence\n",
    "import numpy as np\n",
    "import random\n",
    "import matplotlib.pyplot as plt"
   ]
  },
  {
   "cell_type": "markdown",
   "source": [
    "# Classes:"
   ],
   "metadata": {
    "collapsed": false
   }
  },
  {
   "cell_type": "code",
   "execution_count": 2,
   "outputs": [],
   "source": [
    "class Object:\n",
    "            \"\"\"\n",
    "            the class to create and handle fractal Objects\n",
    "\n",
    "            methods:\n",
    "\n",
    "            shift:\n",
    "                the function to apply the shift on the object\n",
    "            scale:\n",
    "                the function to apply the scaling on the object\n",
    "            rotate:\n",
    "                the function to apply the rotation on the object\n",
    "            copy:\n",
    "                creates a new object with the same values for attributes\n",
    "\n",
    "            mirror:\n",
    "                the function to change the type of mirroring\n",
    "\n",
    "            getPoints:\n",
    "                the function to get the points of the object\n",
    "\n",
    "            \"\"\"\n",
    "\n",
    "            def __init__(self, startingPoint: Sequence[float], length: float, theta: float, changing: bool,\n",
    "                         mirroring: float) -> None:\n",
    "                \"\"\"\n",
    "                the function to create the fractal objects\n",
    "\n",
    "                :param length: the length pf the object\n",
    "                :type length: float\n",
    "                :param theta:the rotation\n",
    "                :type theta:float\n",
    "                :param changing:is the object can change\n",
    "                :type changing:bool\n",
    "                :param mirroring:-1. if the object is mirroring,else +1.\n",
    "                :type mirroring:float\n",
    "                :param startingPoint:the starting point of the object stored as np.array\n",
    "                :type startingPoint:Sequence[float]\n",
    "                \"\"\"\n",
    "                self.startingPoint = np.array(startingPoint)\n",
    "                self.changing = changing\n",
    "                self.theta = np.array(theta)\n",
    "                self.length = np.array(length)\n",
    "                self.mirroring = np.array(mirroring)\n",
    "\n",
    "            def copy(self) -> object:\n",
    "                \"\"\"\n",
    "                the function to create a new object with the same properties as the input object\n",
    "\n",
    "                :return:the new object\n",
    "                :rtype:object\n",
    "                \"\"\"\n",
    "                return Object(self.startingPoint.copy(),self.length.copy(),self.theta.copy(),self.changing,self.mirroring.copy())\n",
    "\n",
    "\n",
    "            def scale(self, scaleParam: float) -> object:\n",
    "                \"\"\"\n",
    "                the function to apply the scaling on the object\n",
    "\n",
    "                :param scaleParam: the scaling parameter\n",
    "                :type scaleParam: float\n",
    "                :return:the exact object\n",
    "                :rtype:object\n",
    "                \"\"\"\n",
    "                self.length *= scaleParam\n",
    "                return self\n",
    "\n",
    "            def shift(self,shiftParams:np.array) -> object:\n",
    "                \"\"\"\n",
    "                the function to apply the shift on the object\n",
    "                R is the rotating matrix witch should be applied on the shift vector\n",
    "\n",
    "                :param shiftParams:(the shift vector /length of object)\n",
    "                :type shiftParams:np.array\n",
    "                :return:the exact object\n",
    "                :rtype:object\n",
    "                \"\"\"\n",
    "                R = np.array([[cos(self.theta),sin(self.theta)],[-sin(self.theta),cos(self.theta)]])\n",
    "                self.startingPoint += self.length*R.dot(shiftParams)\n",
    "                return self\n",
    "\n",
    "            def rotate(self, rotatingParam: float) -> object:\n",
    "                \"\"\"\n",
    "                the function to apply the rotation on the object\n",
    "                R is the rotating matrix\n",
    "\n",
    "                :param rotatingParam: the change of theta\n",
    "                :type rotatingParam: float\n",
    "                :return:the exact object\n",
    "                :rtype:object\n",
    "                \"\"\"\n",
    "                self.theta += rotatingParam*self.mirroring\n",
    "                return self\n",
    "\n",
    "            def mirror(self, mirrorParam: bool) -> object:\n",
    "                \"\"\"\n",
    "                the function to change the type of mirroring\n",
    "\n",
    "                :param mirrorParam: the mirroring param of the transformer\n",
    "                :type mirrorParam: float\n",
    "                :return: the exact object\n",
    "                :rtype: Object\n",
    "                \"\"\"\n",
    "                self.mirroring *= mirrorParam\n",
    "                return self\n",
    "            def getPoints(self) -> Sequence[Sequence[float]]:\n",
    "                \"\"\"\n",
    "                the function to get the points of the object\n",
    "\n",
    "                :return:the points of the object\n",
    "                :rtype:Sequence[Sequence[float]]\n",
    "                \"\"\"\n",
    "                return [self.startingPoint[0],self.startingPoint[0]+self.length*sin(self.theta)],[self.startingPoint[1],self.startingPoint[1]+self.length*cos(self.theta)]\n"
   ],
   "metadata": {
    "collapsed": false
   }
  },
  {
   "cell_type": "code",
   "execution_count": 3,
   "outputs": [],
   "source": [
    "class Transformer:\n",
    "    \"\"\"\n",
    "    the class to create and perform transformers\n",
    "\n",
    "    methods:\n",
    "    subTransform:\n",
    "        to apply all changes of a transformer on an object and return aa new object\n",
    "    \"\"\"\n",
    "    def __init__(self, scaleParam: float, rotateParam: float, shiftParams: Sequence[float], mirrorParam: float,\n",
    "                 changingParam: bool) -> None:\n",
    "        \"\"\"\n",
    "        creates transformers based on the params\n",
    "\n",
    "        :param mirrorParam:-1. if the transformer change the mirroring of the object else +1.\n",
    "        :type mirrorParam: float\n",
    "        :param changingParam: if the transformer change the changing of the object\n",
    "        :type changingParam: bool\n",
    "        :param scaleParam:the scale coefficient of transformer\n",
    "        :type scaleParam: float\n",
    "        :param shiftParams:the shift vector of the transformer\n",
    "        :type shiftParams: np.array\n",
    "        :param rotateParam:the change of theta witch the transformer applies\n",
    "        :type rotateParam: float\n",
    "        \"\"\"\n",
    "        self.scaleParams =scaleParam\n",
    "        self.rotateParam = rotateParam\n",
    "        self.shiftParams = np.array(shiftParams)\n",
    "        self.mirrorParam = mirrorParam\n",
    "        self.changingParam = changingParam\n",
    "\n",
    "    def subTransform(self, obj: object) -> object:\n",
    "        \"\"\"\n",
    "        to apply all changes of a transformer on an object and return a new object\n",
    "        the sort of the changes is important.\n",
    "        Only if the object can change.\n",
    "\n",
    "        :param obj:the first object\n",
    "        :type obj: object\n",
    "        :return: new object\n",
    "        :rtype: object\n",
    "        \"\"\"\n",
    "        newObj = obj.copy()\n",
    "        if obj.changing:\n",
    "            newObj.changing = self.changingParam\n",
    "            return newObj.shift(self.shiftParams).scale(self.scaleParams).rotate(self.rotateParam).mirror(self.mirrorParam)\n",
    "        else:\n",
    "            return newObj\n"
   ],
   "metadata": {
    "collapsed": false
   }
  },
  {
   "cell_type": "code",
   "execution_count": 4,
   "outputs": [],
   "source": [
    "class BarnsleyFern:\n",
    "    \"\"\"\n",
    "    the class to create Dragon highway object and simulate the fractal growth\n",
    "\n",
    "    methods:\n",
    "        visualize:\n",
    "            the function to create a plotly plot of the objects at the step\n",
    "        transform:\n",
    "            the function to apply all the transformers on the input object\n",
    "        step:\n",
    "            the function to go one step forward\n",
    "    \"\"\"\n",
    "\n",
    "    def getSequence(self, depth: int) -> Sequence[Transformer]:\n",
    "        \"\"\"\n",
    "        returns a random sequence of transformers with the input size\n",
    "\n",
    "        :param depth:the depth of fractal growth\n",
    "        :type depth:int\n",
    "        :return:the random list of transformers with the size of depth\n",
    "        :rtype:Sequence[Transformer]\n",
    "        \"\"\"\n",
    "        return random.choices(self.transformers,k = depth)\n",
    "\n",
    "    def __init__(self, firstObject: object, transformers: Sequence[Transformer]) -> None:\n",
    "        \"\"\"\n",
    "        the function to create the Dragon object with the first object and the transformers\n",
    "\n",
    "        :param firstObject:the first input\n",
    "        :type firstObject:object\n",
    "        :param transformers:the transformers to apply on the objects\n",
    "        :type transformers:Transformer\n",
    "        \"\"\"\n",
    "        self.objects:np.array = [firstObject]\n",
    "        self.transformers = transformers\n",
    "\n",
    "    def visualize(self) -> None:\n",
    "        \"\"\"\n",
    "        the function to create a plotly plot of the objects at the step\n",
    "        \"\"\"\n",
    "        for obj in self.objects:\n",
    "            plt.plot(obj.getPoints()[0],obj.getPoints()[1],color = \"green\")\n",
    "\n",
    "    def transform(self, obj: object) -> Sequence[object]:\n",
    "        \"\"\"\n",
    "        the function to apply all the transformers on the input object\n",
    "\n",
    "        :param obj:the input object\n",
    "        :type obj:object\n",
    "        :return:the new output objects\n",
    "        :rtype:Sequence[object]\n",
    "        \"\"\"\n",
    "        outputs = []\n",
    "        for transformer in self.transformers:\n",
    "            outputs.append(transformer.subTransform(obj))\n",
    "\n",
    "        return outputs\n",
    "\n",
    "    def step(self) -> None:\n",
    "        \"\"\"\n",
    "        the function to go one step forward\n",
    "        \"\"\"\n",
    "        new_objects = []\n",
    "        for obj in self.objects:\n",
    "            new_objects += self.transform(obj)\n",
    "\n",
    "        self.objects = new_objects\n",
    "\n",
    "    def drawRandomFractal(self, depth: int, iterations: int) -> None:\n",
    "        \"\"\"\n",
    "        draws a random Sierpinski triangle fractal plot\n",
    "\n",
    "        :param depth:the depth of fractal growth\n",
    "        :type depth:int\n",
    "        :param iterations:the number of redrawing iterations\n",
    "        :type iterations:int\n",
    "\n",
    "        \"\"\"\n",
    "\n",
    "        for _ in range(iterations):\n",
    "            sequence = self.getSequence(depth)\n",
    "            newObj = firstObject\n",
    "            for i in range(depth):\n",
    "                newObj = sequence[i].subTransform(newObj)\n",
    "\n",
    "            plt.plot(newObj.getPoints()[0],newObj.getPoints()[1],color = \"green\")\n",
    "            del newObj\n"
   ],
   "metadata": {
    "collapsed": false
   }
  },
  {
   "cell_type": "markdown",
   "source": [
    "# Main Part:"
   ],
   "metadata": {
    "collapsed": false
   }
  },
  {
   "cell_type": "markdown",
   "source": [
    "### creating the first object and the transformers and the fractal object"
   ],
   "metadata": {
    "collapsed": false
   }
  },
  {
   "cell_type": "code",
   "execution_count": 5,
   "outputs": [],
   "source": [
    "firstObject = Object([0.,0.],1.,0.,True,+1.)\n",
    "transformer1 = Transformer(0.9,pi/36,[0.,0.1],+1.,True)\n",
    "transformer2 = Transformer(0.3,pi/4,[0.,0.05],-1.,True)\n",
    "transformer3= Transformer(0.3,-pi/4,[0.,0.1],+1.,True)\n",
    "transformer4 = Transformer(0.1,0,[0,0],+1.,False)\n",
    "fractal = BarnsleyFern(firstObject,[transformer1,transformer2,transformer3,transformer4])"
   ],
   "metadata": {
    "collapsed": false
   }
  },
  {
   "cell_type": "markdown",
   "source": [
    "### draw the random fractal:"
   ],
   "metadata": {
    "collapsed": false
   }
  },
  {
   "cell_type": "code",
   "execution_count": null,
   "outputs": [],
   "source": [
    "fractal.drawRandomFractal(25,10000000)"
   ],
   "metadata": {
    "collapsed": false,
    "pycharm": {
     "is_executing": true
    }
   }
  }
 ],
 "metadata": {
  "kernelspec": {
   "display_name": "Python 3",
   "language": "python",
   "name": "python3"
  },
  "language_info": {
   "codemirror_mode": {
    "name": "ipython",
    "version": 2
   },
   "file_extension": ".py",
   "mimetype": "text/x-python",
   "name": "python",
   "nbconvert_exporter": "python",
   "pygments_lexer": "ipython2",
   "version": "2.7.6"
  }
 },
 "nbformat": 4,
 "nbformat_minor": 0
}
