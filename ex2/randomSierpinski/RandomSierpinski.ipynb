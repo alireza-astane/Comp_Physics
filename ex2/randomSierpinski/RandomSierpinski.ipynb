{
 "cells": [
  {
   "cell_type": "markdown",
   "source": [
    "# imports:"
   ],
   "metadata": {
    "collapsed": false
   }
  },
  {
   "cell_type": "code",
   "execution_count": 2,
   "metadata": {
    "collapsed": true
   },
   "outputs": [],
   "source": [
    "from math import pi, sin, cos\n",
    "from typing import Sequence\n",
    "import numpy as np\n",
    "import plotly.graph_objects as go\n",
    "import random"
   ]
  },
  {
   "cell_type": "markdown",
   "source": [
    "# Classes"
   ],
   "metadata": {
    "collapsed": false
   }
  },
  {
   "cell_type": "code",
   "execution_count": 3,
   "outputs": [],
   "source": [
    "class Object:\n",
    "            \"\"\"\n",
    "            the class to create and handle fractal Objects\n",
    "\n",
    "            methods:\n",
    "\n",
    "            shift:\n",
    "                the function to apply the shift on the object\n",
    "            scale:\n",
    "                the function to apply the scaling on the object\n",
    "            rotate:\n",
    "                the function to apply the rotation on the object\n",
    "            copy:\n",
    "                creates a new object with the same values for attributes\n",
    "            \"\"\"\n",
    "            def __init__(self,length:float,startingPoint:Sequence[float],theta:float) -> None:\n",
    "                \"\"\"\n",
    "                creates objects based on the params\n",
    "\n",
    "                :param length: length of the object\n",
    "                :type length: float\n",
    "                :param startingPoint:the numpy vector pointing to the starting point of the object and stored as a np.array\n",
    "                :type startingPoint: Sequence[float]\n",
    "                :param theta: the orientation of the object\n",
    "                :type theta: float\n",
    "                \"\"\"\n",
    "                self.length = np.array(length)\n",
    "                self.startingPoint = np.array(startingPoint)\n",
    "                self.theta = np.array(theta)\n",
    "\n",
    "            def shift(self, shiftParams:np.array) -> object:\n",
    "                \"\"\"\n",
    "                the function to apply the shift on the object\n",
    "                R is the rotating matrix witch should be applied on the shift vector\n",
    "\n",
    "                :param shiftParams:(the shift vector /length of object)\n",
    "                :type shiftParams:np.array\n",
    "                :return:the exact object\n",
    "                :rtype:object\n",
    "                \"\"\"\n",
    "                R = np.array([[cos(self.theta),-sin(self.theta)],[sin(self.theta),cos(self.theta)]])\n",
    "                self.startingPoint += R.dot(self.length*shiftParams)\n",
    "                return self\n",
    "\n",
    "            def scale(self, r: float) -> object:\n",
    "                \"\"\"\n",
    "                the function to apply the scaling on the object\n",
    "\n",
    "                :param r:the scaling coefficient\n",
    "                :type r: float\n",
    "                :return:the exact object\n",
    "                :rtype:object\n",
    "                \"\"\"\n",
    "                self.length *= r\n",
    "                return self\n",
    "\n",
    "            def rotate(self, rotatingParam: float) -> object:\n",
    "                \"\"\"\n",
    "                the function to apply the rotation on the object\n",
    "\n",
    "                :param rotatingParam: the change of theta\n",
    "                :type rotatingParam: float\n",
    "                :return:the exact object\n",
    "                :rtype:object\n",
    "                \"\"\"\n",
    "                self.theta += rotatingParam\n",
    "                return self\n",
    "\n",
    "            def copy(self) -> object:\n",
    "                \"\"\"\n",
    "                creates a new object with the same values for attributes\n",
    "                :return: the new object\n",
    "                :rtype: object\n",
    "                \"\"\"\n",
    "                return Object(self.length.copy(),self.startingPoint.copy(),self.theta.copy())\n",
    "\n",
    "            def getCoordination(self) -> Sequence[Sequence[float]] :\n",
    "                \"\"\"\n",
    "                the function to get coordination of the triangle object\n",
    "\n",
    "                :return: the coordination\n",
    "                :rtype:Sequence[Sequence[float]\n",
    "                \"\"\"\n",
    "                x = [self.startingPoint[0],self.startingPoint[0]+self.length/2,self.startingPoint[0]-self.length/2]\n",
    "                y = [self.startingPoint[1],self.startingPoint[1]-self.length*sin(pi/3),self.startingPoint[1]-self.length*sin(pi/3)]\n",
    "                return x,y\n",
    "\n",
    "            def getPolygon(self) -> go.Scatter:\n",
    "                \"\"\"\n",
    "                the function to get the polygon object based on the coordination of the object\n",
    "\n",
    "                :return:the polygon(in this case the triangle)\n",
    "                :rtype:go.scatter\n",
    "                \"\"\"\n",
    "                x,y = self.getCoordination()\n",
    "                polygon = go.Scatter(\n",
    "                x=x,\n",
    "                y=y,\n",
    "                showlegend=False,\n",
    "                mode=\"lines\",\n",
    "                fill=\"toself\",\n",
    "                line=dict(color=\"LightSeaGreen\", width=2),)\n",
    "                return polygon\n"
   ],
   "metadata": {
    "collapsed": false
   }
  },
  {
   "cell_type": "code",
   "execution_count": 4,
   "outputs": [],
   "source": [
    "class Transformer:\n",
    "    \"\"\"\n",
    "    the class to create and perform transformers\n",
    "\n",
    "    methods:\n",
    "    subTransform:\n",
    "        to apply all changes of a transformer on an object and return aa new object\n",
    "    \"\"\"\n",
    "    def __init__(self, scaleParam: float, shiftParams: np.array, rotateParam: float) -> None:\n",
    "        \"\"\"\n",
    "        creates transformers based on the params\n",
    "\n",
    "        :param scaleParam:the scale coefficient of transformer\n",
    "        :type scaleParam: float\n",
    "        :param shiftParams:the shift vector of the transformer\n",
    "        :type shiftParams: np.array\n",
    "        :param rotateParam:the change of theta witch the transformer applies\n",
    "        :type rotateParam: float\n",
    "        \"\"\"\n",
    "        self.scaleParam =scaleParam\n",
    "        self.shiftParams = shiftParams\n",
    "        self.rotateParam = rotateParam\n",
    "\n",
    "    def subTransform(self, obj: Object) -> Object:\n",
    "        \"\"\"\n",
    "        to apply all changes of a transformer on an object and return aa new object\n",
    "        the sort of the changes is important.\n",
    "\n",
    "        :param obj:the first object\n",
    "        :type obj: Object\n",
    "        :return: new object\n",
    "        :rtype: Object\n",
    "        \"\"\"\n",
    "        return obj.copy().scale(self.scaleParam).shift(self.shiftParams).rotate(self.rotateParam)"
   ],
   "metadata": {
    "collapsed": false
   }
  },
  {
   "cell_type": "code",
   "execution_count": 13,
   "outputs": [],
   "source": [
    "class Sierpinski:\n",
    "    \"\"\"\n",
    "    the class to create Sierpinski object and simulate the fractal growth\n",
    "\n",
    "    methods:\n",
    "        visualize:\n",
    "            the function to create a plotly plot of the objects at the step\n",
    "        transform:\n",
    "            the function to apply all the transformers on the input object\n",
    "        step:\n",
    "            the function to go one step forward\n",
    "        getSequence:\n",
    "            returns a random sequence of transformers with the input size\n",
    "\n",
    "        drawRandomFractal\n",
    "            draws a random Sierpinski triangle fractal plot\n",
    "\n",
    "    \"\"\"\n",
    "\n",
    "    def __init__(self,firstObject,transformers:np.array):\n",
    "        self.objects:np.array = [firstObject]\n",
    "        self.transformers = transformers\n",
    "\n",
    "\n",
    "    def visualize(self) -> None:\n",
    "        \"\"\"\n",
    "        the function to create a plotly plot of the objects at the step\n",
    "        \"\"\"\n",
    "        polygons = []\n",
    "\n",
    "        for obj in self.objects:\n",
    "            polygons.append(obj.getPolygon())\n",
    "\n",
    "        fig = go.Figure(polygons)\n",
    "        fig.show()\n",
    "\n",
    "    def transform(self, obj: Object) -> Sequence[Object]:\n",
    "        \"\"\"\n",
    "        the function to apply all the transformers on the input object\n",
    "\n",
    "        :param obj:the input object\n",
    "        :type obj:Object\n",
    "        :return:the new output Objects\n",
    "        :rtype:Sequence[Object]\n",
    "        \"\"\"\n",
    "        outputs = []\n",
    "        for transformer in self.transformers:\n",
    "            outputs.append(transformer.subTransform(obj))\n",
    "\n",
    "        return outputs\n",
    "\n",
    "    def step(self) -> None:\n",
    "        \"\"\"\n",
    "        the function to go one step forward\n",
    "        \"\"\"\n",
    "        new_objects = []\n",
    "        for obj in self.objects:\n",
    "            new_objects += self.transform(obj)\n",
    "\n",
    "        self.objects = new_objects\n",
    "\n",
    "    def getSequence(self, depth: int) -> Sequence[Transformer]:\n",
    "        \"\"\"\n",
    "        returns a random sequence of transformers with the input size\n",
    "\n",
    "        :param depth:the depth of fractal growth\n",
    "        :type depth:int\n",
    "        :return:the random list of transformers with the size of depth\n",
    "        :rtype:Sequence[Transformer]\n",
    "        \"\"\"\n",
    "        return random.choices(self.transformers,k = depth)\n",
    "\n",
    "\n",
    "    def drawRandomFractal(self, depth: int, itrations: int) -> None:\n",
    "        \"\"\"\n",
    "        draws a random Sierpinski triangle fractal plot\n",
    "\n",
    "        :param depth:the depth of fractal growth\n",
    "        :type depth:int\n",
    "        :param itrations:the number of redrawing iterations\n",
    "        :type itrations:int\n",
    "\n",
    "        \"\"\"\n",
    "        polygons = []\n",
    "        for i in range(itrations):\n",
    "            sequence = self.getSequence(depth)\n",
    "            newObj = firstObject\n",
    "            for i in range(depth):\n",
    "                newObj = sequence[i].subTransform(newObj)\n",
    "\n",
    "            polygons.append(newObj.getPolygon())\n",
    "\n",
    "\n",
    "        fig = go.Figure(polygons)\n",
    "        fig.show()\n",
    "\n"
   ],
   "metadata": {
    "collapsed": false
   }
  },
  {
   "cell_type": "markdown",
   "source": [
    "###  creating the first triangle and the sierpinski object"
   ],
   "metadata": {
    "collapsed": false
   }
  },
  {
   "cell_type": "code",
   "execution_count": 14,
   "outputs": [],
   "source": [
    "firstObject = Object(1.,np.array([0.,1.]),0.)\n",
    "transformer1 = Transformer(1/2,[0.,0.],0.)\n",
    "transformer2 = Transformer(1/2,np.array([1/2,-sin(pi/3)]),0.)\n",
    "transformer3 = Transformer(1/2,np.array([-1/2,-sin(pi/3)]),0.)\n",
    "sierpinski = Sierpinski(firstObject,[transformer1,transformer2,transformer3])"
   ],
   "metadata": {
    "collapsed": false
   }
  },
  {
   "cell_type": "markdown",
   "source": [
    "### drawing the random sierpinski triangle fractal"
   ],
   "metadata": {
    "collapsed": false
   }
  },
  {
   "cell_type": "code",
   "execution_count": 16,
   "outputs": [
    {
     "data": {
      "application/vnd.plotly.v1+json": {
       "data": [
        {
         "fill": "toself",
         "line": {
          "color": "LightSeaGreen",
          "width": 2
         },
         "mode": "lines",
         "showlegend": false,
         "x": [
          0.060546875,
          0.0625,
          0.05859375
         ],
         "y": [
          0.13735750794909435,
          0.13397459621556138,
          0.13397459621556138
         ],
         "type": "scatter"
        },
        {
         "fill": "toself",
         "line": {
          "color": "LightSeaGreen",
          "width": 2
         },
         "mode": "lines",
         "showlegend": false,
         "x": [
          0.337890625,
          0.33984375,
          0.3359375
         ],
         "y": [
          0.3809271527634678,
          0.37754424102993484,
          0.37754424102993484
         ],
         "type": "scatter"
        },
        {
         "fill": "toself",
         "line": {
          "color": "LightSeaGreen",
          "width": 2
         },
         "mode": "lines",
         "showlegend": false,
         "x": [
          -0.171875,
          -0.169921875,
          -0.173828125
         ],
         "y": [
          0.2692910655568799,
          0.265908153823347,
          0.265908153823347
         ],
         "type": "scatter"
        },
        {
         "fill": "toself",
         "line": {
          "color": "LightSeaGreen",
          "width": 2
         },
         "mode": "lines",
         "showlegend": false,
         "x": [
          0.333984375,
          0.3359375,
          0.33203125
         ],
         "y": [
          0.2726739772904129,
          0.26929106555688,
          0.26929106555688
         ],
         "type": "scatter"
        },
        {
         "fill": "toself",
         "line": {
          "color": "LightSeaGreen",
          "width": 2
         },
         "mode": "lines",
         "showlegend": false,
         "x": [
          0.076171875,
          0.078125,
          0.07421875
         ],
         "y": [
          0.15765497835029213,
          0.15427206661675916,
          0.15427206661675916
         ],
         "type": "scatter"
        },
        {
         "fill": "toself",
         "line": {
          "color": "LightSeaGreen",
          "width": 2
         },
         "mode": "lines",
         "showlegend": false,
         "x": [
          -0.208984375,
          -0.20703125,
          -0.2109375
         ],
         "y": [
          0.5703702098413137,
          0.5669872981077807,
          0.5669872981077807
         ],
         "type": "scatter"
        },
        {
         "fill": "toself",
         "line": {
          "color": "LightSeaGreen",
          "width": 2
         },
         "mode": "lines",
         "showlegend": false,
         "x": [
          0.193359375,
          0.1953125,
          0.19140625
         ],
         "y": [
          0.4350537404999952,
          0.43167082876646223,
          0.43167082876646223
         ],
         "type": "scatter"
        },
        {
         "fill": "toself",
         "line": {
          "color": "LightSeaGreen",
          "width": 2
         },
         "mode": "lines",
         "showlegend": false,
         "x": [
          0.158203125,
          0.16015625,
          0.15625
         ],
         "y": [
          0.35386385889520405,
          0.3504809471616711,
          0.3504809471616711
         ],
         "type": "scatter"
        },
        {
         "fill": "toself",
         "line": {
          "color": "LightSeaGreen",
          "width": 2
         },
         "mode": "lines",
         "showlegend": false,
         "x": [
          0.01953125,
          0.021484375,
          0.017578125
         ],
         "y": [
          0.912044294928143,
          0.90866138319461,
          0.90866138319461
         ],
         "type": "scatter"
        },
        {
         "fill": "toself",
         "line": {
          "color": "LightSeaGreen",
          "width": 2
         },
         "mode": "lines",
         "showlegend": false,
         "x": [
          -0.185546875,
          -0.18359375,
          -0.1875
         ],
         "y": [
          0.13735750794909435,
          0.13397459621556138,
          0.13397459621556138
         ],
         "type": "scatter"
        },
        {
         "fill": "toself",
         "line": {
          "color": "LightSeaGreen",
          "width": 2
         },
         "mode": "lines",
         "showlegend": false,
         "x": [
          0.322265625,
          0.32421875,
          0.3203125
         ],
         "y": [
          0.21854738955388547,
          0.2151644778203525,
          0.2151644778203525
         ],
         "type": "scatter"
        },
        {
         "fill": "toself",
         "line": {
          "color": "LightSeaGreen",
          "width": 2
         },
         "mode": "lines",
         "showlegend": false,
         "x": [
          -0.21484375,
          -0.212890625,
          -0.216796875
         ],
         "y": [
          0.3843100644970007,
          0.3809271527634678,
          0.3809271527634678
         ],
         "type": "scatter"
        },
        {
         "fill": "toself",
         "line": {
          "color": "LightSeaGreen",
          "width": 2
         },
         "mode": "lines",
         "showlegend": false,
         "x": [
          -0.166015625,
          -0.1640625,
          -0.16796875
         ],
         "y": [
          0.4147562700987974,
          0.41137335836526445,
          0.41137335836526445
         ],
         "type": "scatter"
        },
        {
         "fill": "toself",
         "line": {
          "color": "LightSeaGreen",
          "width": 2
         },
         "mode": "lines",
         "showlegend": false,
         "x": [
          -0.01171875,
          -0.009765625,
          -0.013671875
         ],
         "y": [
          0.9526392357305385,
          0.9492563239970055,
          0.9492563239970055
         ],
         "type": "scatter"
        },
        {
         "fill": "toself",
         "line": {
          "color": "LightSeaGreen",
          "width": 2
         },
         "mode": "lines",
         "showlegend": false,
         "x": [
          0.12890625,
          0.130859375,
          0.126953125
         ],
         "y": [
          0.3437151236946051,
          0.34033221196107216,
          0.34033221196107216
         ],
         "type": "scatter"
        },
        {
         "fill": "toself",
         "line": {
          "color": "LightSeaGreen",
          "width": 2
         },
         "mode": "lines",
         "showlegend": false,
         "x": [
          -0.17578125,
          -0.173828125,
          -0.177734375
         ],
         "y": [
          0.4113733583652644,
          0.40799044663173145,
          0.40799044663173145
         ],
         "type": "scatter"
        },
        {
         "fill": "toself",
         "line": {
          "color": "LightSeaGreen",
          "width": 2
         },
         "mode": "lines",
         "showlegend": false,
         "x": [
          0.2265625,
          0.228515625,
          0.224609375
         ],
         "y": [
          0.14750624314969324,
          0.14412333141616027,
          0.14412333141616027
         ],
         "type": "scatter"
        },
        {
         "fill": "toself",
         "line": {
          "color": "LightSeaGreen",
          "width": 2
         },
         "mode": "lines",
         "showlegend": false,
         "x": [
          -0.044921875,
          -0.04296875,
          -0.046875
         ],
         "y": [
          0.5703702098413137,
          0.5669872981077807,
          0.5669872981077807
         ],
         "type": "scatter"
        },
        {
         "fill": "toself",
         "line": {
          "color": "LightSeaGreen",
          "width": 2
         },
         "mode": "lines",
         "showlegend": false,
         "x": [
          0.06640625,
          0.068359375,
          0.064453125
         ],
         "y": [
          0.6549430031796378,
          0.6515600914461048,
          0.6515600914461048
         ],
         "type": "scatter"
        },
        {
         "fill": "toself",
         "line": {
          "color": "LightSeaGreen",
          "width": 2
         },
         "mode": "lines",
         "showlegend": false,
         "x": [
          0.208984375,
          0.2109375,
          0.20703125
         ],
         "y": [
          0.5839018567754456,
          0.5805189450419126,
          0.5805189450419126
         ],
         "type": "scatter"
        },
        {
         "fill": "toself",
         "line": {
          "color": "LightSeaGreen",
          "width": 2
         },
         "mode": "lines",
         "showlegend": false,
         "x": [
          -0.439453125,
          -0.4375,
          -0.44140625
         ],
         "y": [
          0.21854738955388547,
          0.2151644778203525,
          0.2151644778203525
         ],
         "type": "scatter"
        },
        {
         "fill": "toself",
         "line": {
          "color": "LightSeaGreen",
          "width": 2
         },
         "mode": "lines",
         "showlegend": false,
         "x": [
          -0.486328125,
          -0.484375,
          -0.48828125
         ],
         "y": [
          0.13735750794909435,
          0.13397459621556138,
          0.13397459621556138
         ],
         "type": "scatter"
        },
        {
         "fill": "toself",
         "line": {
          "color": "LightSeaGreen",
          "width": 2
         },
         "mode": "lines",
         "showlegend": false,
         "x": [
          -0.38671875,
          -0.384765625,
          -0.388671875
         ],
         "y": [
          0.14074041968262732,
          0.13735750794909435,
          0.13735750794909435
         ],
         "type": "scatter"
        },
        {
         "fill": "toself",
         "line": {
          "color": "LightSeaGreen",
          "width": 2
         },
         "mode": "lines",
         "showlegend": false,
         "x": [
          -0.3046875,
          -0.302734375,
          -0.306640625
         ],
         "y": [
          0.4722657695688577,
          0.46888285783532474,
          0.46888285783532474
         ],
         "type": "scatter"
        },
        {
         "fill": "toself",
         "line": {
          "color": "LightSeaGreen",
          "width": 2
         },
         "mode": "lines",
         "showlegend": false,
         "x": [
          -0.130859375,
          -0.12890625,
          -0.1328125
         ],
         "y": [
          0.25237650688921515,
          0.24899359515568217,
          0.24899359515568217
         ],
         "type": "scatter"
        },
        {
         "fill": "toself",
         "line": {
          "color": "LightSeaGreen",
          "width": 2
         },
         "mode": "lines",
         "showlegend": false,
         "x": [
          -0.345703125,
          -0.34375,
          -0.34765625
         ],
         "y": [
          0.2997372711586766,
          0.29635435942514365,
          0.29635435942514365
         ],
         "type": "scatter"
        },
        {
         "fill": "toself",
         "line": {
          "color": "LightSeaGreen",
          "width": 2
         },
         "mode": "lines",
         "showlegend": false,
         "x": [
          0.140625,
          0.142578125,
          0.138671875
         ],
         "y": [
          0.3234176532934073,
          0.3200347415598744,
          0.3200347415598744
         ],
         "type": "scatter"
        },
        {
         "fill": "toself",
         "line": {
          "color": "LightSeaGreen",
          "width": 2
         },
         "mode": "lines",
         "showlegend": false,
         "x": [
          0.103515625,
          0.10546875,
          0.1015625
         ],
         "y": [
          0.25237650688921515,
          0.24899359515568217,
          0.24899359515568217
         ],
         "type": "scatter"
        },
        {
         "fill": "toself",
         "line": {
          "color": "LightSeaGreen",
          "width": 2
         },
         "mode": "lines",
         "showlegend": false,
         "x": [
          -0.10546875,
          -0.103515625,
          -0.107421875
         ],
         "y": [
          0.24899359515568217,
          0.2456106834221492,
          0.2456106834221492
         ],
         "type": "scatter"
        },
        {
         "fill": "toself",
         "line": {
          "color": "LightSeaGreen",
          "width": 2
         },
         "mode": "lines",
         "showlegend": false,
         "x": [
          -0.181640625,
          -0.1796875,
          -0.18359375
         ],
         "y": [
          0.14412333141616027,
          0.1407404196826273,
          0.1407404196826273
         ],
         "type": "scatter"
        },
        {
         "fill": "toself",
         "line": {
          "color": "LightSeaGreen",
          "width": 2
         },
         "mode": "lines",
         "showlegend": false,
         "x": [
          -0.380859375,
          -0.37890625,
          -0.3828125
         ],
         "y": [
          0.34033221196107216,
          0.3369493002275392,
          0.3369493002275392
         ],
         "type": "scatter"
        },
        {
         "fill": "toself",
         "line": {
          "color": "LightSeaGreen",
          "width": 2
         },
         "mode": "lines",
         "showlegend": false,
         "x": [
          -0.025390625,
          -0.0234375,
          -0.02734375
         ],
         "y": [
          0.5703702098413137,
          0.5669872981077807,
          0.5669872981077807
         ],
         "type": "scatter"
        },
        {
         "fill": "toself",
         "line": {
          "color": "LightSeaGreen",
          "width": 2
         },
         "mode": "lines",
         "showlegend": false,
         "x": [
          -0.16796875,
          -0.166015625,
          -0.169921875
         ],
         "y": [
          0.2083986543532866,
          0.20501574261975364,
          0.20501574261975364
         ],
         "type": "scatter"
        },
        {
         "fill": "toself",
         "line": {
          "color": "LightSeaGreen",
          "width": 2
         },
         "mode": "lines",
         "showlegend": false,
         "x": [
          0.048828125,
          0.05078125,
          0.046875
         ],
         "y": [
          0.5839018567754456,
          0.5805189450419126,
          0.5805189450419126
         ],
         "type": "scatter"
        },
        {
         "fill": "toself",
         "line": {
          "color": "LightSeaGreen",
          "width": 2
         },
         "mode": "lines",
         "showlegend": false,
         "x": [
          0.267578125,
          0.26953125,
          0.265625
         ],
         "y": [
          0.15765497835029213,
          0.15427206661675916,
          0.15427206661675916
         ],
         "type": "scatter"
        },
        {
         "fill": "toself",
         "line": {
          "color": "LightSeaGreen",
          "width": 2
         },
         "mode": "lines",
         "showlegend": false,
         "x": [
          -0.294921875,
          -0.29296875,
          -0.296875
         ],
         "y": [
          0.13735750794909435,
          0.13397459621556138,
          0.13397459621556138
         ],
         "type": "scatter"
        },
        {
         "fill": "toself",
         "line": {
          "color": "LightSeaGreen",
          "width": 2
         },
         "mode": "lines",
         "showlegend": false,
         "x": [
          0.134765625,
          0.13671875,
          0.1328125
         ],
         "y": [
          0.13735750794909435,
          0.13397459621556138,
          0.13397459621556138
         ],
         "type": "scatter"
        },
        {
         "fill": "toself",
         "line": {
          "color": "LightSeaGreen",
          "width": 2
         },
         "mode": "lines",
         "showlegend": false,
         "x": [
          -0.212890625,
          -0.2109375,
          -0.21484375
         ],
         "y": [
          0.46888285783532474,
          0.4654999461017918,
          0.4654999461017918
         ],
         "type": "scatter"
        },
        {
         "fill": "toself",
         "line": {
          "color": "LightSeaGreen",
          "width": 2
         },
         "mode": "lines",
         "showlegend": false,
         "x": [
          -0.359375,
          -0.357421875,
          -0.361328125
         ],
         "y": [
          0.3775442410299348,
          0.37416132929640183,
          0.37416132929640183
         ],
         "type": "scatter"
        },
        {
         "fill": "toself",
         "line": {
          "color": "LightSeaGreen",
          "width": 2
         },
         "mode": "lines",
         "showlegend": false,
         "x": [
          0.19921875,
          0.201171875,
          0.197265625
         ],
         "y": [
          0.14074041968262732,
          0.13735750794909435,
          0.13735750794909435
         ],
         "type": "scatter"
        },
        {
         "fill": "toself",
         "line": {
          "color": "LightSeaGreen",
          "width": 2
         },
         "mode": "lines",
         "showlegend": false,
         "x": [
          0.400390625,
          0.40234375,
          0.3984375
         ],
         "y": [
          0.2726739772904129,
          0.26929106555688,
          0.26929106555688
         ],
         "type": "scatter"
        },
        {
         "fill": "toself",
         "line": {
          "color": "LightSeaGreen",
          "width": 2
         },
         "mode": "lines",
         "showlegend": false,
         "x": [
          0.166015625,
          0.16796875,
          0.1640625
         ],
         "y": [
          0.6853892087814344,
          0.6820062970479014,
          0.6820062970479014
         ],
         "type": "scatter"
        },
        {
         "fill": "toself",
         "line": {
          "color": "LightSeaGreen",
          "width": 2
         },
         "mode": "lines",
         "showlegend": false,
         "x": [
          -0.06640625,
          -0.064453125,
          -0.068359375
         ],
         "y": [
          0.22193030128741845,
          0.21854738955388547,
          0.21854738955388547
         ],
         "type": "scatter"
        },
        {
         "fill": "toself",
         "line": {
          "color": "LightSeaGreen",
          "width": 2
         },
         "mode": "lines",
         "showlegend": false,
         "x": [
          0.154296875,
          0.15625,
          0.15234375
         ],
         "y": [
          0.2456106834221492,
          0.24222777168861623,
          0.24222777168861623
         ],
         "type": "scatter"
        },
        {
         "fill": "toself",
         "line": {
          "color": "LightSeaGreen",
          "width": 2
         },
         "mode": "lines",
         "showlegend": false,
         "x": [
          -0.056640625,
          -0.0546875,
          -0.05859375
         ],
         "y": [
          0.901895559727544,
          0.898512647994011,
          0.898512647994011
         ],
         "type": "scatter"
        },
        {
         "fill": "toself",
         "line": {
          "color": "LightSeaGreen",
          "width": 2
         },
         "mode": "lines",
         "showlegend": false,
         "x": [
          -0.333984375,
          -0.33203125,
          -0.3359375
         ],
         "y": [
          0.2726739772904129,
          0.26929106555688,
          0.26929106555688
         ],
         "type": "scatter"
        },
        {
         "fill": "toself",
         "line": {
          "color": "LightSeaGreen",
          "width": 2
         },
         "mode": "lines",
         "showlegend": false,
         "x": [
          -0.169921875,
          -0.16796875,
          -0.171875
         ],
         "y": [
          0.16442080181735805,
          0.16103789008382507,
          0.16103789008382507
         ],
         "type": "scatter"
        },
        {
         "fill": "toself",
         "line": {
          "color": "LightSeaGreen",
          "width": 2
         },
         "mode": "lines",
         "showlegend": false,
         "x": [
          0.294921875,
          0.296875,
          0.29296875
         ],
         "y": [
          0.4215220935658633,
          0.41813918183233034,
          0.41813918183233034
         ],
         "type": "scatter"
        },
        {
         "fill": "toself",
         "line": {
          "color": "LightSeaGreen",
          "width": 2
         },
         "mode": "lines",
         "showlegend": false,
         "x": [
          0.169921875,
          0.171875,
          0.16796875
         ],
         "y": [
          0.37416132929640183,
          0.3707784175628689,
          0.3707784175628689
         ],
         "type": "scatter"
        },
        {
         "fill": "toself",
         "line": {
          "color": "LightSeaGreen",
          "width": 2
         },
         "mode": "lines",
         "showlegend": false,
         "x": [
          -0.140625,
          -0.138671875,
          -0.142578125
         ],
         "y": [
          0.1610378900838251,
          0.15765497835029213,
          0.15765497835029213
         ],
         "type": "scatter"
        },
        {
         "fill": "toself",
         "line": {
          "color": "LightSeaGreen",
          "width": 2
         },
         "mode": "lines",
         "showlegend": false,
         "x": [
          -0.298828125,
          -0.296875,
          -0.30078125
         ],
         "y": [
          0.35386385889520405,
          0.3504809471616711,
          0.3504809471616711
         ],
         "type": "scatter"
        },
        {
         "fill": "toself",
         "line": {
          "color": "LightSeaGreen",
          "width": 2
         },
         "mode": "lines",
         "showlegend": false,
         "x": [
          -0.123046875,
          -0.12109375,
          -0.125
         ],
         "y": [
          0.7868765607874233,
          0.7834936490538903,
          0.7834936490538903
         ],
         "type": "scatter"
        },
        {
         "fill": "toself",
         "line": {
          "color": "LightSeaGreen",
          "width": 2
         },
         "mode": "lines",
         "showlegend": false,
         "x": [
          0.3984375,
          0.400390625,
          0.396484375
         ],
         "y": [
          0.17456953701795694,
          0.17118662528442397,
          0.17118662528442397
         ],
         "type": "scatter"
        },
        {
         "fill": "toself",
         "line": {
          "color": "LightSeaGreen",
          "width": 2
         },
         "mode": "lines",
         "showlegend": false,
         "x": [
          0.30078125,
          0.302734375,
          0.298828125
         ],
         "y": [
          0.37077841756286883,
          0.3673955058293359,
          0.3673955058293359
         ],
         "type": "scatter"
        },
        {
         "fill": "toself",
         "line": {
          "color": "LightSeaGreen",
          "width": 2
         },
         "mode": "lines",
         "showlegend": false,
         "x": [
          0.146484375,
          0.1484375,
          0.14453125
         ],
         "y": [
          0.17118662528442397,
          0.167803713550891,
          0.167803713550891
         ],
         "type": "scatter"
        },
        {
         "fill": "toself",
         "line": {
          "color": "LightSeaGreen",
          "width": 2
         },
         "mode": "lines",
         "showlegend": false,
         "x": [
          0.095703125,
          0.09765625,
          0.09375
         ],
         "y": [
          0.18471827221855583,
          0.18133536048502286,
          0.18133536048502286
         ],
         "type": "scatter"
        },
        {
         "fill": "toself",
         "line": {
          "color": "LightSeaGreen",
          "width": 2
         },
         "mode": "lines",
         "showlegend": false,
         "x": [
          -0.2109375,
          -0.208984375,
          -0.212890625
         ],
         "y": [
          0.4993290634371214,
          0.49594615170358847,
          0.49594615170358847
         ],
         "type": "scatter"
        },
        {
         "fill": "toself",
         "line": {
          "color": "LightSeaGreen",
          "width": 2
         },
         "mode": "lines",
         "showlegend": false,
         "x": [
          0.404296875,
          0.40625,
          0.40234375
         ],
         "y": [
          0.28620562422454476,
          0.2828227124910118,
          0.2828227124910118
         ],
         "type": "scatter"
        },
        {
         "fill": "toself",
         "line": {
          "color": "LightSeaGreen",
          "width": 2
         },
         "mode": "lines",
         "showlegend": false,
         "x": [
          -0.318359375,
          -0.31640625,
          -0.3203125
         ],
         "y": [
          0.4350537404999952,
          0.43167082876646223,
          0.43167082876646223
         ],
         "type": "scatter"
        },
        {
         "fill": "toself",
         "line": {
          "color": "LightSeaGreen",
          "width": 2
         },
         "mode": "lines",
         "showlegend": false,
         "x": [
          -0.232421875,
          -0.23046875,
          -0.234375
         ],
         "y": [
          0.13735750794909435,
          0.13397459621556138,
          0.13397459621556138
         ],
         "type": "scatter"
        },
        {
         "fill": "toself",
         "line": {
          "color": "LightSeaGreen",
          "width": 2
         },
         "mode": "lines",
         "showlegend": false,
         "x": [
          0.216796875,
          0.21875,
          0.21484375
         ],
         "y": [
          0.18471827221855583,
          0.18133536048502286,
          0.18133536048502286
         ],
         "type": "scatter"
        },
        {
         "fill": "toself",
         "line": {
          "color": "LightSeaGreen",
          "width": 2
         },
         "mode": "lines",
         "showlegend": false,
         "x": [
          -0.041015625,
          -0.0390625,
          -0.04296875
         ],
         "y": [
          0.9289588535958077,
          0.9255759418622747,
          0.9255759418622747
         ],
         "type": "scatter"
        },
        {
         "fill": "toself",
         "line": {
          "color": "LightSeaGreen",
          "width": 2
         },
         "mode": "lines",
         "showlegend": false,
         "x": [
          0.087890625,
          0.08984375,
          0.0859375
         ],
         "y": [
          0.5703702098413137,
          0.5669872981077807,
          0.5669872981077807
         ],
         "type": "scatter"
        },
        {
         "fill": "toself",
         "line": {
          "color": "LightSeaGreen",
          "width": 2
         },
         "mode": "lines",
         "showlegend": false,
         "x": [
          0.162109375,
          0.1640625,
          0.16015625
         ],
         "y": [
          0.13735750794909435,
          0.13397459621556138,
          0.13397459621556138
         ],
         "type": "scatter"
        },
        {
         "fill": "toself",
         "line": {
          "color": "LightSeaGreen",
          "width": 2
         },
         "mode": "lines",
         "showlegend": false,
         "x": [
          -0.322265625,
          -0.3203125,
          -0.32421875
         ],
         "y": [
          0.4418195639670611,
          0.4384366522335282,
          0.4384366522335282
         ],
         "type": "scatter"
        },
        {
         "fill": "toself",
         "line": {
          "color": "LightSeaGreen",
          "width": 2
         },
         "mode": "lines",
         "showlegend": false,
         "x": [
          -0.162109375,
          -0.16015625,
          -0.1640625
         ],
         "y": [
          0.14412333141616027,
          0.1407404196826273,
          0.1407404196826273
         ],
         "type": "scatter"
        },
        {
         "fill": "toself",
         "line": {
          "color": "LightSeaGreen",
          "width": 2
         },
         "mode": "lines",
         "showlegend": false,
         "x": [
          0.228515625,
          0.23046875,
          0.2265625
         ],
         "y": [
          0.6041993271766433,
          0.6008164154431103,
          0.6008164154431103
         ],
         "type": "scatter"
        },
        {
         "fill": "toself",
         "line": {
          "color": "LightSeaGreen",
          "width": 2
         },
         "mode": "lines",
         "showlegend": false,
         "x": [
          0.34765625,
          0.349609375,
          0.345703125
         ],
         "y": [
          0.357246770628737,
          0.35386385889520405,
          0.35386385889520405
         ],
         "type": "scatter"
        },
        {
         "fill": "toself",
         "line": {
          "color": "LightSeaGreen",
          "width": 2
         },
         "mode": "lines",
         "showlegend": false,
         "x": [
          -0.13671875,
          -0.134765625,
          -0.138671875
         ],
         "y": [
          0.5737531215748467,
          0.5703702098413137,
          0.5703702098413137
         ],
         "type": "scatter"
        },
        {
         "fill": "toself",
         "line": {
          "color": "LightSeaGreen",
          "width": 2
         },
         "mode": "lines",
         "showlegend": false,
         "x": [
          0.224609375,
          0.2265625,
          0.22265625
         ],
         "y": [
          0.3809271527634678,
          0.37754424102993484,
          0.37754424102993484
         ],
         "type": "scatter"
        },
        {
         "fill": "toself",
         "line": {
          "color": "LightSeaGreen",
          "width": 2
         },
         "mode": "lines",
         "showlegend": false,
         "x": [
          -0.2890625,
          -0.287109375,
          -0.291015625
         ],
         "y": [
          0.39107588796406667,
          0.3876929762305337,
          0.3876929762305337
         ],
         "type": "scatter"
        },
        {
         "fill": "toself",
         "line": {
          "color": "LightSeaGreen",
          "width": 2
         },
         "mode": "lines",
         "showlegend": false,
         "x": [
          -0.134765625,
          -0.1328125,
          -0.13671875
         ],
         "y": [
          0.7462816199850278,
          0.7428987082514948,
          0.7428987082514948
         ],
         "type": "scatter"
        },
        {
         "fill": "toself",
         "line": {
          "color": "LightSeaGreen",
          "width": 2
         },
         "mode": "lines",
         "showlegend": false,
         "x": [
          -0.099609375,
          -0.09765625,
          -0.1015625
         ],
         "y": [
          0.6109651506437093,
          0.6075822389101763,
          0.6075822389101763
         ],
         "type": "scatter"
        },
        {
         "fill": "toself",
         "line": {
          "color": "LightSeaGreen",
          "width": 2
         },
         "mode": "lines",
         "showlegend": false,
         "x": [
          0.04296875,
          0.044921875,
          0.041015625
         ],
         "y": [
          0.5737531215748467,
          0.5703702098413137,
          0.5703702098413137
         ],
         "type": "scatter"
        },
        {
         "fill": "toself",
         "line": {
          "color": "LightSeaGreen",
          "width": 2
         },
         "mode": "lines",
         "showlegend": false,
         "x": [
          -0.337890625,
          -0.3359375,
          -0.33984375
         ],
         "y": [
          0.13735750794909435,
          0.13397459621556138,
          0.13397459621556138
         ],
         "type": "scatter"
        },
        {
         "fill": "toself",
         "line": {
          "color": "LightSeaGreen",
          "width": 2
         },
         "mode": "lines",
         "showlegend": false,
         "x": [
          0.044921875,
          0.046875,
          0.04296875
         ],
         "y": [
          0.8410031485239507,
          0.8376202367904177,
          0.8376202367904177
         ],
         "type": "scatter"
        },
        {
         "fill": "toself",
         "line": {
          "color": "LightSeaGreen",
          "width": 2
         },
         "mode": "lines",
         "showlegend": false,
         "x": [
          0.296875,
          0.298828125,
          0.294921875
         ],
         "y": [
          0.4316708287664622,
          0.42828791703292923,
          0.42828791703292923
         ],
         "type": "scatter"
        },
        {
         "fill": "toself",
         "line": {
          "color": "LightSeaGreen",
          "width": 2
         },
         "mode": "lines",
         "showlegend": false,
         "x": [
          0.009765625,
          0.01171875,
          0.0078125
         ],
         "y": [
          0.13735750794909435,
          0.13397459621556138,
          0.13397459621556138
         ],
         "type": "scatter"
        },
        {
         "fill": "toself",
         "line": {
          "color": "LightSeaGreen",
          "width": 2
         },
         "mode": "lines",
         "showlegend": false,
         "x": [
          0.033203125,
          0.03515625,
          0.03125
         ],
         "y": [
          0.8342373250568847,
          0.8308544133233517,
          0.8308544133233517
         ],
         "type": "scatter"
        },
        {
         "fill": "toself",
         "line": {
          "color": "LightSeaGreen",
          "width": 2
         },
         "mode": "lines",
         "showlegend": false,
         "x": [
          -0.0859375,
          -0.083984375,
          -0.087890625
         ],
         "y": [
          0.7158354143832311,
          0.7124525026496981,
          0.7124525026496981
         ],
         "type": "scatter"
        },
        {
         "fill": "toself",
         "line": {
          "color": "LightSeaGreen",
          "width": 2
         },
         "mode": "lines",
         "showlegend": false,
         "x": [
          -0.412109375,
          -0.41015625,
          -0.4140625
         ],
         "y": [
          0.19148409568562177,
          0.1881011839520888,
          0.1881011839520888
         ],
         "type": "scatter"
        },
        {
         "fill": "toself",
         "line": {
          "color": "LightSeaGreen",
          "width": 2
         },
         "mode": "lines",
         "showlegend": false,
         "x": [
          0.19921875,
          0.201171875,
          0.197265625
         ],
         "y": [
          0.6278797093113742,
          0.6244967975778412,
          0.6244967975778412
         ],
         "type": "scatter"
        },
        {
         "fill": "toself",
         "line": {
          "color": "LightSeaGreen",
          "width": 2
         },
         "mode": "lines",
         "showlegend": false,
         "x": [
          0.337890625,
          0.33984375,
          0.3359375
         ],
         "y": [
          0.3809271527634678,
          0.37754424102993484,
          0.37754424102993484
         ],
         "type": "scatter"
        },
        {
         "fill": "toself",
         "line": {
          "color": "LightSeaGreen",
          "width": 2
         },
         "mode": "lines",
         "showlegend": false,
         "x": [
          -0.26953125,
          -0.267578125,
          -0.271484375
         ],
         "y": [
          0.4790315930359236,
          0.47564868130239063,
          0.47564868130239063
         ],
         "type": "scatter"
        },
        {
         "fill": "toself",
         "line": {
          "color": "LightSeaGreen",
          "width": 2
         },
         "mode": "lines",
         "showlegend": false,
         "x": [
          -0.240234375,
          -0.23828125,
          -0.2421875
         ],
         "y": [
          0.4621170343682588,
          0.45873412263472585,
          0.45873412263472585
         ],
         "type": "scatter"
        },
        {
         "fill": "toself",
         "line": {
          "color": "LightSeaGreen",
          "width": 2
         },
         "mode": "lines",
         "showlegend": false,
         "x": [
          -0.33203125,
          -0.330078125,
          -0.333984375
         ],
         "y": [
          0.19486700741915475,
          0.19148409568562177,
          0.19148409568562177
         ],
         "type": "scatter"
        },
        {
         "fill": "toself",
         "line": {
          "color": "LightSeaGreen",
          "width": 2
         },
         "mode": "lines",
         "showlegend": false,
         "x": [
          0.32421875,
          0.326171875,
          0.322265625
         ],
         "y": [
          0.4113733583652644,
          0.40799044663173145,
          0.40799044663173145
         ],
         "type": "scatter"
        },
        {
         "fill": "toself",
         "line": {
          "color": "LightSeaGreen",
          "width": 2
         },
         "mode": "lines",
         "showlegend": false,
         "x": [
          -0.212890625,
          -0.2109375,
          -0.21484375
         ],
         "y": [
          0.5771360333083796,
          0.5737531215748466,
          0.5737531215748466
         ],
         "type": "scatter"
        },
        {
         "fill": "toself",
         "line": {
          "color": "LightSeaGreen",
          "width": 2
         },
         "mode": "lines",
         "showlegend": false,
         "x": [
          -0.322265625,
          -0.3203125,
          -0.32421875
         ],
         "y": [
          0.20501574261975364,
          0.20163283088622067,
          0.20163283088622067
         ],
         "type": "scatter"
        },
        {
         "fill": "toself",
         "line": {
          "color": "LightSeaGreen",
          "width": 2
         },
         "mode": "lines",
         "showlegend": false,
         "x": [
          -0.00390625,
          -0.001953125,
          -0.005859375
         ],
         "y": [
          0.8985126479940111,
          0.8951297362604781,
          0.8951297362604781
         ],
         "type": "scatter"
        },
        {
         "fill": "toself",
         "line": {
          "color": "LightSeaGreen",
          "width": 2
         },
         "mode": "lines",
         "showlegend": false,
         "x": [
          -0.427734375,
          -0.42578125,
          -0.4296875
         ],
         "y": [
          0.25237650688921515,
          0.24899359515568217,
          0.24899359515568217
         ],
         "type": "scatter"
        },
        {
         "fill": "toself",
         "line": {
          "color": "LightSeaGreen",
          "width": 2
         },
         "mode": "lines",
         "showlegend": false,
         "x": [
          0.25,
          0.251953125,
          0.248046875
         ],
         "y": [
          0.5669872981077807,
          0.5636043863742477,
          0.5636043863742477
         ],
         "type": "scatter"
        },
        {
         "fill": "toself",
         "line": {
          "color": "LightSeaGreen",
          "width": 2
         },
         "mode": "lines",
         "showlegend": false,
         "x": [
          0.33984375,
          0.341796875,
          0.337890625
         ],
         "y": [
          0.19486700741915475,
          0.19148409568562177,
          0.19148409568562177
         ],
         "type": "scatter"
        },
        {
         "fill": "toself",
         "line": {
          "color": "LightSeaGreen",
          "width": 2
         },
         "mode": "lines",
         "showlegend": false,
         "x": [
          0.232421875,
          0.234375,
          0.23046875
         ],
         "y": [
          0.35386385889520405,
          0.3504809471616711,
          0.3504809471616711
         ],
         "type": "scatter"
        },
        {
         "fill": "toself",
         "line": {
          "color": "LightSeaGreen",
          "width": 2
         },
         "mode": "lines",
         "showlegend": false,
         "x": [
          -0.2890625,
          -0.287109375,
          -0.291015625
         ],
         "y": [
          0.4722657695688577,
          0.46888285783532474,
          0.46888285783532474
         ],
         "type": "scatter"
        },
        {
         "fill": "toself",
         "line": {
          "color": "LightSeaGreen",
          "width": 2
         },
         "mode": "lines",
         "showlegend": false,
         "x": [
          -0.18359375,
          -0.181640625,
          -0.185546875
         ],
         "y": [
          0.19486700741915475,
          0.19148409568562177,
          0.19148409568562177
         ],
         "type": "scatter"
        },
        {
         "fill": "toself",
         "line": {
          "color": "LightSeaGreen",
          "width": 2
         },
         "mode": "lines",
         "showlegend": false,
         "x": [
          0.291015625,
          0.29296875,
          0.2890625
         ],
         "y": [
          0.4621170343682588,
          0.45873412263472585,
          0.45873412263472585
         ],
         "type": "scatter"
        },
        {
         "fill": "toself",
         "line": {
          "color": "LightSeaGreen",
          "width": 2
         },
         "mode": "lines",
         "showlegend": false,
         "x": [
          0.169921875,
          0.171875,
          0.16796875
         ],
         "y": [
          0.6244967975778412,
          0.6211138858443082,
          0.6211138858443082
         ],
         "type": "scatter"
        },
        {
         "fill": "toself",
         "line": {
          "color": "LightSeaGreen",
          "width": 2
         },
         "mode": "lines",
         "showlegend": false,
         "x": [
          -0.236328125,
          -0.234375,
          -0.23828125
         ],
         "y": [
          0.5839018567754456,
          0.5805189450419126,
          0.5805189450419126
         ],
         "type": "scatter"
        },
        {
         "fill": "toself",
         "line": {
          "color": "LightSeaGreen",
          "width": 2
         },
         "mode": "lines",
         "showlegend": false,
         "x": [
          -0.236328125,
          -0.234375,
          -0.23828125
         ],
         "y": [
          0.5839018567754456,
          0.5805189450419126,
          0.5805189450419126
         ],
         "type": "scatter"
        },
        {
         "fill": "toself",
         "line": {
          "color": "LightSeaGreen",
          "width": 2
         },
         "mode": "lines",
         "showlegend": false,
         "x": [
          -0.482421875,
          -0.48046875,
          -0.484375
         ],
         "y": [
          0.13735750794909435,
          0.13397459621556138,
          0.13397459621556138
         ],
         "type": "scatter"
        },
        {
         "fill": "toself",
         "line": {
          "color": "LightSeaGreen",
          "width": 2
         },
         "mode": "lines",
         "showlegend": false,
         "x": [
          0.15234375,
          0.154296875,
          0.150390625
         ],
         "y": [
          0.6820062970479015,
          0.6786233853143685,
          0.6786233853143685
         ],
         "type": "scatter"
        },
        {
         "fill": "toself",
         "line": {
          "color": "LightSeaGreen",
          "width": 2
         },
         "mode": "lines",
         "showlegend": false,
         "x": [
          -0.16015625,
          -0.158203125,
          -0.162109375
         ],
         "y": [
          0.6278797093113742,
          0.6244967975778412,
          0.6244967975778412
         ],
         "type": "scatter"
        },
        {
         "fill": "toself",
         "line": {
          "color": "LightSeaGreen",
          "width": 2
         },
         "mode": "lines",
         "showlegend": false,
         "x": [
          0.103515625,
          0.10546875,
          0.1015625
         ],
         "y": [
          0.17118662528442397,
          0.167803713550891,
          0.167803713550891
         ],
         "type": "scatter"
        },
        {
         "fill": "toself",
         "line": {
          "color": "LightSeaGreen",
          "width": 2
         },
         "mode": "lines",
         "showlegend": false,
         "x": [
          -0.15234375,
          -0.150390625,
          -0.154296875
         ],
         "y": [
          0.16780371355089102,
          0.16442080181735805,
          0.16442080181735805
         ],
         "type": "scatter"
        },
        {
         "fill": "toself",
         "line": {
          "color": "LightSeaGreen",
          "width": 2
         },
         "mode": "lines",
         "showlegend": false,
         "x": [
          0.291015625,
          0.29296875,
          0.2890625
         ],
         "y": [
          0.3876929762305337,
          0.3843100644970008,
          0.3843100644970008
         ],
         "type": "scatter"
        },
        {
         "fill": "toself",
         "line": {
          "color": "LightSeaGreen",
          "width": 2
         },
         "mode": "lines",
         "showlegend": false,
         "x": [
          -0.14453125,
          -0.142578125,
          -0.146484375
         ],
         "y": [
          0.6008164154431104,
          0.5974335037095774,
          0.5974335037095774
         ],
         "type": "scatter"
        },
        {
         "fill": "toself",
         "line": {
          "color": "LightSeaGreen",
          "width": 2
         },
         "mode": "lines",
         "showlegend": false,
         "x": [
          0.412109375,
          0.4140625,
          0.41015625
         ],
         "y": [
          0.13735750794909435,
          0.13397459621556138,
          0.13397459621556138
         ],
         "type": "scatter"
        },
        {
         "fill": "toself",
         "line": {
          "color": "LightSeaGreen",
          "width": 2
         },
         "mode": "lines",
         "showlegend": false,
         "x": [
          -0.041015625,
          -0.0390625,
          -0.04296875
         ],
         "y": [
          0.8410031485239507,
          0.8376202367904177,
          0.8376202367904177
         ],
         "type": "scatter"
        },
        {
         "fill": "toself",
         "line": {
          "color": "LightSeaGreen",
          "width": 2
         },
         "mode": "lines",
         "showlegend": false,
         "x": [
          0.048828125,
          0.05078125,
          0.046875
         ],
         "y": [
          0.5906676802425115,
          0.5872847685089785,
          0.5872847685089785
         ],
         "type": "scatter"
        },
        {
         "fill": "toself",
         "line": {
          "color": "LightSeaGreen",
          "width": 2
         },
         "mode": "lines",
         "showlegend": false,
         "x": [
          -0.11328125,
          -0.111328125,
          -0.115234375
         ],
         "y": [
          0.5737531215748467,
          0.5703702098413137,
          0.5703702098413137
         ],
         "type": "scatter"
        },
        {
         "fill": "toself",
         "line": {
          "color": "LightSeaGreen",
          "width": 2
         },
         "mode": "lines",
         "showlegend": false,
         "x": [
          0.408203125,
          0.41015625,
          0.40625
         ],
         "y": [
          0.2726739772904129,
          0.26929106555688,
          0.26929106555688
         ],
         "type": "scatter"
        },
        {
         "fill": "toself",
         "line": {
          "color": "LightSeaGreen",
          "width": 2
         },
         "mode": "lines",
         "showlegend": false,
         "x": [
          -0.083984375,
          -0.08203125,
          -0.0859375
         ],
         "y": [
          0.1982499191526877,
          0.19486700741915472,
          0.19486700741915472
         ],
         "type": "scatter"
        },
        {
         "fill": "toself",
         "line": {
          "color": "LightSeaGreen",
          "width": 2
         },
         "mode": "lines",
         "showlegend": false,
         "x": [
          0.099609375,
          0.1015625,
          0.09765625
         ],
         "y": [
          0.5703702098413137,
          0.5669872981077807,
          0.5669872981077807
         ],
         "type": "scatter"
        },
        {
         "fill": "toself",
         "line": {
          "color": "LightSeaGreen",
          "width": 2
         },
         "mode": "lines",
         "showlegend": false,
         "x": [
          0.267578125,
          0.26953125,
          0.265625
         ],
         "y": [
          0.1508891548832262,
          0.14750624314969324,
          0.14750624314969324
         ],
         "type": "scatter"
        },
        {
         "fill": "toself",
         "line": {
          "color": "LightSeaGreen",
          "width": 2
         },
         "mode": "lines",
         "showlegend": false,
         "x": [
          0.119140625,
          0.12109375,
          0.1171875
         ],
         "y": [
          0.13735750794909435,
          0.13397459621556138,
          0.13397459621556138
         ],
         "type": "scatter"
        },
        {
         "fill": "toself",
         "line": {
          "color": "LightSeaGreen",
          "width": 2
         },
         "mode": "lines",
         "showlegend": false,
         "x": [
          0.087890625,
          0.08984375,
          0.0859375
         ],
         "y": [
          0.8207056781227529,
          0.8173227663892199,
          0.8173227663892199
         ],
         "type": "scatter"
        },
        {
         "fill": "toself",
         "line": {
          "color": "LightSeaGreen",
          "width": 2
         },
         "mode": "lines",
         "showlegend": false,
         "x": [
          0.326171875,
          0.328125,
          0.32421875
         ],
         "y": [
          0.35386385889520405,
          0.3504809471616711,
          0.3504809471616711
         ],
         "type": "scatter"
        },
        {
         "fill": "toself",
         "line": {
          "color": "LightSeaGreen",
          "width": 2
         },
         "mode": "lines",
         "showlegend": false,
         "x": [
          -0.369140625,
          -0.3671875,
          -0.37109375
         ],
         "y": [
          0.13735750794909435,
          0.13397459621556138,
          0.13397459621556138
         ],
         "type": "scatter"
        },
        {
         "fill": "toself",
         "line": {
          "color": "LightSeaGreen",
          "width": 2
         },
         "mode": "lines",
         "showlegend": false,
         "x": [
          0.26171875,
          0.263671875,
          0.259765625
         ],
         "y": [
          0.5196265338383192,
          0.5162436221047862,
          0.5162436221047862
         ],
         "type": "scatter"
        },
        {
         "fill": "toself",
         "line": {
          "color": "LightSeaGreen",
          "width": 2
         },
         "mode": "lines",
         "showlegend": false,
         "x": [
          0.361328125,
          0.36328125,
          0.359375
         ],
         "y": [
          0.25914233035628104,
          0.2557594186227481,
          0.2557594186227481
         ],
         "type": "scatter"
        },
        {
         "fill": "toself",
         "line": {
          "color": "LightSeaGreen",
          "width": 2
         },
         "mode": "lines",
         "showlegend": false,
         "x": [
          0.017578125,
          0.01953125,
          0.015625
         ],
         "y": [
          0.13735750794909435,
          0.13397459621556138,
          0.13397459621556138
         ],
         "type": "scatter"
        },
        {
         "fill": "toself",
         "line": {
          "color": "LightSeaGreen",
          "width": 2
         },
         "mode": "lines",
         "showlegend": false,
         "x": [
          0.220703125,
          0.22265625,
          0.21875
         ],
         "y": [
          0.3809271527634678,
          0.37754424102993484,
          0.37754424102993484
         ],
         "type": "scatter"
        },
        {
         "fill": "toself",
         "line": {
          "color": "LightSeaGreen",
          "width": 2
         },
         "mode": "lines",
         "showlegend": false,
         "x": [
          0.314453125,
          0.31640625,
          0.3125
         ],
         "y": [
          0.45535121090119296,
          0.45196829916766,
          0.45196829916766
         ],
         "type": "scatter"
        },
        {
         "fill": "toself",
         "line": {
          "color": "LightSeaGreen",
          "width": 2
         },
         "mode": "lines",
         "showlegend": false,
         "x": [
          0.056640625,
          0.05859375,
          0.0546875
         ],
         "y": [
          0.8951297362604781,
          0.8917468245269451,
          0.8917468245269451
         ],
         "type": "scatter"
        },
        {
         "fill": "toself",
         "line": {
          "color": "LightSeaGreen",
          "width": 2
         },
         "mode": "lines",
         "showlegend": false,
         "x": [
          0.361328125,
          0.36328125,
          0.359375
         ],
         "y": [
          0.13735750794909435,
          0.13397459621556138,
          0.13397459621556138
         ],
         "type": "scatter"
        },
        {
         "fill": "toself",
         "line": {
          "color": "LightSeaGreen",
          "width": 2
         },
         "mode": "lines",
         "showlegend": false,
         "x": [
          0.013671875,
          0.015625,
          0.01171875
         ],
         "y": [
          0.9763196178652692,
          0.9729367061317362,
          0.9729367061317362
         ],
         "type": "scatter"
        },
        {
         "fill": "toself",
         "line": {
          "color": "LightSeaGreen",
          "width": 2
         },
         "mode": "lines",
         "showlegend": false,
         "x": [
          -0.068359375,
          -0.06640625,
          -0.0703125
         ],
         "y": [
          0.23207903648801734,
          0.22869612475448436,
          0.22869612475448436
         ],
         "type": "scatter"
        },
        {
         "fill": "toself",
         "line": {
          "color": "LightSeaGreen",
          "width": 2
         },
         "mode": "lines",
         "showlegend": false,
         "x": [
          -0.095703125,
          -0.09375,
          -0.09765625
         ],
         "y": [
          0.16442080181735805,
          0.16103789008382507,
          0.16103789008382507
         ],
         "type": "scatter"
        },
        {
         "fill": "toself",
         "line": {
          "color": "LightSeaGreen",
          "width": 2
         },
         "mode": "lines",
         "showlegend": false,
         "x": [
          0.3671875,
          0.369140625,
          0.365234375
         ],
         "y": [
          0.3098860063592755,
          0.30650309462574254,
          0.30650309462574254
         ],
         "type": "scatter"
        },
        {
         "fill": "toself",
         "line": {
          "color": "LightSeaGreen",
          "width": 2
         },
         "mode": "lines",
         "showlegend": false,
         "x": [
          -0.181640625,
          -0.1796875,
          -0.18359375
         ],
         "y": [
          0.2456106834221492,
          0.24222777168861623,
          0.24222777168861623
         ],
         "type": "scatter"
        },
        {
         "fill": "toself",
         "line": {
          "color": "LightSeaGreen",
          "width": 2
         },
         "mode": "lines",
         "showlegend": false,
         "x": [
          -0.21484375,
          -0.212890625,
          -0.216796875
         ],
         "y": [
          0.6008164154431104,
          0.5974335037095774,
          0.5974335037095774
         ],
         "type": "scatter"
        },
        {
         "fill": "toself",
         "line": {
          "color": "LightSeaGreen",
          "width": 2
         },
         "mode": "lines",
         "showlegend": false,
         "x": [
          -0.044921875,
          -0.04296875,
          -0.046875
         ],
         "y": [
          0.813939854655687,
          0.810556942922154,
          0.810556942922154
         ],
         "type": "scatter"
        },
        {
         "fill": "toself",
         "line": {
          "color": "LightSeaGreen",
          "width": 2
         },
         "mode": "lines",
         "showlegend": false,
         "x": [
          -0.30859375,
          -0.306640625,
          -0.310546875
         ],
         "y": [
          0.22193030128741845,
          0.21854738955388547,
          0.21854738955388547
         ],
         "type": "scatter"
        },
        {
         "fill": "toself",
         "line": {
          "color": "LightSeaGreen",
          "width": 2
         },
         "mode": "lines",
         "showlegend": false,
         "x": [
          -0.04296875,
          -0.041015625,
          -0.044921875
         ],
         "y": [
          0.641411356245506,
          0.638028444511973,
          0.638028444511973
         ],
         "type": "scatter"
        },
        {
         "fill": "toself",
         "line": {
          "color": "LightSeaGreen",
          "width": 2
         },
         "mode": "lines",
         "showlegend": false,
         "x": [
          -0.33203125,
          -0.330078125,
          -0.333984375
         ],
         "y": [
          0.2760568890239459,
          0.2726739772904129,
          0.2726739772904129
         ],
         "type": "scatter"
        },
        {
         "fill": "toself",
         "line": {
          "color": "LightSeaGreen",
          "width": 2
         },
         "mode": "lines",
         "showlegend": false,
         "x": [
          -0.052734375,
          -0.05078125,
          -0.0546875
         ],
         "y": [
          0.8410031485239507,
          0.8376202367904177,
          0.8376202367904177
         ],
         "type": "scatter"
        },
        {
         "fill": "toself",
         "line": {
          "color": "LightSeaGreen",
          "width": 2
         },
         "mode": "lines",
         "showlegend": false,
         "x": [
          -0.208984375,
          -0.20703125,
          -0.2109375
         ],
         "y": [
          0.4215220935658633,
          0.41813918183233034,
          0.41813918183233034
         ],
         "type": "scatter"
        },
        {
         "fill": "toself",
         "line": {
          "color": "LightSeaGreen",
          "width": 2
         },
         "mode": "lines",
         "showlegend": false,
         "x": [
          0.134765625,
          0.13671875,
          0.1328125
         ],
         "y": [
          0.31326891809280843,
          0.3098860063592755,
          0.3098860063592755
         ],
         "type": "scatter"
        },
        {
         "fill": "toself",
         "line": {
          "color": "LightSeaGreen",
          "width": 2
         },
         "mode": "lines",
         "showlegend": false,
         "x": [
          -0.177734375,
          -0.17578125,
          -0.1796875
         ],
         "y": [
          0.25914233035628104,
          0.2557594186227481,
          0.2557594186227481
         ],
         "type": "scatter"
        },
        {
         "fill": "toself",
         "line": {
          "color": "LightSeaGreen",
          "width": 2
         },
         "mode": "lines",
         "showlegend": false,
         "x": [
          0.107421875,
          0.109375,
          0.10546875
         ],
         "y": [
          0.5839018567754456,
          0.5805189450419126,
          0.5805189450419126
         ],
         "type": "scatter"
        },
        {
         "fill": "toself",
         "line": {
          "color": "LightSeaGreen",
          "width": 2
         },
         "mode": "lines",
         "showlegend": false,
         "x": [
          0.322265625,
          0.32421875,
          0.3203125
         ],
         "y": [
          0.4418195639670611,
          0.4384366522335282,
          0.4384366522335282
         ],
         "type": "scatter"
        },
        {
         "fill": "toself",
         "line": {
          "color": "LightSeaGreen",
          "width": 2
         },
         "mode": "lines",
         "showlegend": false,
         "x": [
          0.181640625,
          0.18359375,
          0.1796875
         ],
         "y": [
          0.19148409568562177,
          0.1881011839520888,
          0.1881011839520888
         ],
         "type": "scatter"
        },
        {
         "fill": "toself",
         "line": {
          "color": "LightSeaGreen",
          "width": 2
         },
         "mode": "lines",
         "showlegend": false,
         "x": [
          0.21875,
          0.220703125,
          0.216796875
         ],
         "y": [
          0.5128607103712532,
          0.5094777986377202,
          0.5094777986377202
         ],
         "type": "scatter"
        },
        {
         "fill": "toself",
         "line": {
          "color": "LightSeaGreen",
          "width": 2
         },
         "mode": "lines",
         "showlegend": false,
         "x": [
          -0.06640625,
          -0.064453125,
          -0.068359375
         ],
         "y": [
          0.8443860602574838,
          0.8410031485239507,
          0.8410031485239507
         ],
         "type": "scatter"
        },
        {
         "fill": "toself",
         "line": {
          "color": "LightSeaGreen",
          "width": 2
         },
         "mode": "lines",
         "showlegend": false,
         "x": [
          -0.0859375,
          -0.083984375,
          -0.087890625
         ],
         "y": [
          0.7970252959880222,
          0.7936423842544892,
          0.7936423842544892
         ],
         "type": "scatter"
        },
        {
         "fill": "toself",
         "line": {
          "color": "LightSeaGreen",
          "width": 2
         },
         "mode": "lines",
         "showlegend": false,
         "x": [
          0.0390625,
          0.041015625,
          0.037109375
         ],
         "y": [
          0.14750624314969324,
          0.14412333141616027,
          0.14412333141616027
         ],
         "type": "scatter"
        },
        {
         "fill": "toself",
         "line": {
          "color": "LightSeaGreen",
          "width": 2
         },
         "mode": "lines",
         "showlegend": false,
         "x": [
          -0.166015625,
          -0.1640625,
          -0.16796875
         ],
         "y": [
          0.6244967975778412,
          0.6211138858443082,
          0.6211138858443082
         ],
         "type": "scatter"
        },
        {
         "fill": "toself",
         "line": {
          "color": "LightSeaGreen",
          "width": 2
         },
         "mode": "lines",
         "showlegend": false,
         "x": [
          -0.47265625,
          -0.470703125,
          -0.474609375
         ],
         "y": [
          0.16780371355089102,
          0.16442080181735805,
          0.16442080181735805
         ],
         "type": "scatter"
        },
        {
         "fill": "toself",
         "line": {
          "color": "LightSeaGreen",
          "width": 2
         },
         "mode": "lines",
         "showlegend": false,
         "x": [
          0.083984375,
          0.0859375,
          0.08203125
         ],
         "y": [
          0.8410031485239507,
          0.8376202367904177,
          0.8376202367904177
         ],
         "type": "scatter"
        },
        {
         "fill": "toself",
         "line": {
          "color": "LightSeaGreen",
          "width": 2
         },
         "mode": "lines",
         "showlegend": false,
         "x": [
          0.037109375,
          0.0390625,
          0.03515625
         ],
         "y": [
          0.8951297362604781,
          0.8917468245269451,
          0.8917468245269451
         ],
         "type": "scatter"
        },
        {
         "fill": "toself",
         "line": {
          "color": "LightSeaGreen",
          "width": 2
         },
         "mode": "lines",
         "showlegend": false,
         "x": [
          0.34765625,
          0.349609375,
          0.345703125
         ],
         "y": [
          0.3843100644970007,
          0.3809271527634678,
          0.3809271527634678
         ],
         "type": "scatter"
        },
        {
         "fill": "toself",
         "line": {
          "color": "LightSeaGreen",
          "width": 2
         },
         "mode": "lines",
         "showlegend": false,
         "x": [
          -0.318359375,
          -0.31640625,
          -0.3203125
         ],
         "y": [
          0.25237650688921515,
          0.24899359515568217,
          0.24899359515568217
         ],
         "type": "scatter"
        },
        {
         "fill": "toself",
         "line": {
          "color": "LightSeaGreen",
          "width": 2
         },
         "mode": "lines",
         "showlegend": false,
         "x": [
          0.162109375,
          0.1640625,
          0.16015625
         ],
         "y": [
          0.3876929762305337,
          0.3843100644970008,
          0.3843100644970008
         ],
         "type": "scatter"
        },
        {
         "fill": "toself",
         "line": {
          "color": "LightSeaGreen",
          "width": 2
         },
         "mode": "lines",
         "showlegend": false,
         "x": [
          0.291015625,
          0.29296875,
          0.2890625
         ],
         "y": [
          0.4147562700987974,
          0.41137335836526445,
          0.41137335836526445
         ],
         "type": "scatter"
        },
        {
         "fill": "toself",
         "line": {
          "color": "LightSeaGreen",
          "width": 2
         },
         "mode": "lines",
         "showlegend": false,
         "x": [
          0.11328125,
          0.115234375,
          0.111328125
         ],
         "y": [
          0.7496645317185608,
          0.7462816199850278,
          0.7462816199850278
         ],
         "type": "scatter"
        },
        {
         "fill": "toself",
         "line": {
          "color": "LightSeaGreen",
          "width": 2
         },
         "mode": "lines",
         "showlegend": false,
         "x": [
          0.15234375,
          0.154296875,
          0.150390625
         ],
         "y": [
          0.7090695909161652,
          0.7056866791826322,
          0.7056866791826322
         ],
         "type": "scatter"
        },
        {
         "fill": "toself",
         "line": {
          "color": "LightSeaGreen",
          "width": 2
         },
         "mode": "lines",
         "showlegend": false,
         "x": [
          -0.443359375,
          -0.44140625,
          -0.4453125
         ],
         "y": [
          0.14412333141616027,
          0.1407404196826273,
          0.1407404196826273
         ],
         "type": "scatter"
        },
        {
         "fill": "toself",
         "line": {
          "color": "LightSeaGreen",
          "width": 2
         },
         "mode": "lines",
         "showlegend": false,
         "x": [
          0.3515625,
          0.353515625,
          0.349609375
         ],
         "y": [
          0.39107588796406667,
          0.3876929762305337,
          0.3876929762305337
         ],
         "type": "scatter"
        },
        {
         "fill": "toself",
         "line": {
          "color": "LightSeaGreen",
          "width": 2
         },
         "mode": "lines",
         "showlegend": false,
         "x": [
          0.0703125,
          0.072265625,
          0.068359375
         ],
         "y": [
          0.7970252959880222,
          0.7936423842544892,
          0.7936423842544892
         ],
         "type": "scatter"
        },
        {
         "fill": "toself",
         "line": {
          "color": "LightSeaGreen",
          "width": 2
         },
         "mode": "lines",
         "showlegend": false,
         "x": [
          0.298828125,
          0.30078125,
          0.296875
         ],
         "y": [
          0.4621170343682588,
          0.45873412263472585,
          0.45873412263472585
         ],
         "type": "scatter"
        },
        {
         "fill": "toself",
         "line": {
          "color": "LightSeaGreen",
          "width": 2
         },
         "mode": "lines",
         "showlegend": false,
         "x": [
          -0.025390625,
          -0.0234375,
          -0.02734375
         ],
         "y": [
          0.9289588535958077,
          0.9255759418622747,
          0.9255759418622747
         ],
         "type": "scatter"
        },
        {
         "fill": "toself",
         "line": {
          "color": "LightSeaGreen",
          "width": 2
         },
         "mode": "lines",
         "showlegend": false,
         "x": [
          -0.294921875,
          -0.29296875,
          -0.296875
         ],
         "y": [
          0.4215220935658633,
          0.41813918183233034,
          0.41813918183233034
         ],
         "type": "scatter"
        },
        {
         "fill": "toself",
         "line": {
          "color": "LightSeaGreen",
          "width": 2
         },
         "mode": "lines",
         "showlegend": false,
         "x": [
          -0.330078125,
          -0.328125,
          -0.33203125
         ],
         "y": [
          0.19148409568562177,
          0.1881011839520888,
          0.1881011839520888
         ],
         "type": "scatter"
        },
        {
         "fill": "toself",
         "line": {
          "color": "LightSeaGreen",
          "width": 2
         },
         "mode": "lines",
         "showlegend": false,
         "x": [
          -0.333984375,
          -0.33203125,
          -0.3359375
         ],
         "y": [
          0.13735750794909435,
          0.13397459621556138,
          0.13397459621556138
         ],
         "type": "scatter"
        },
        {
         "fill": "toself",
         "line": {
          "color": "LightSeaGreen",
          "width": 2
         },
         "mode": "lines",
         "showlegend": false,
         "x": [
          0.33984375,
          0.341796875,
          0.337890625
         ],
         "y": [
          0.24899359515568217,
          0.2456106834221492,
          0.2456106834221492
         ],
         "type": "scatter"
        },
        {
         "fill": "toself",
         "line": {
          "color": "LightSeaGreen",
          "width": 2
         },
         "mode": "lines",
         "showlegend": false,
         "x": [
          -0.166015625,
          -0.1640625,
          -0.16796875
         ],
         "y": [
          0.1508891548832262,
          0.14750624314969324,
          0.14750624314969324
         ],
         "type": "scatter"
        },
        {
         "fill": "toself",
         "line": {
          "color": "LightSeaGreen",
          "width": 2
         },
         "mode": "lines",
         "showlegend": false,
         "x": [
          -0.13671875,
          -0.134765625,
          -0.138671875
         ],
         "y": [
          0.24899359515568217,
          0.2456106834221492,
          0.2456106834221492
         ],
         "type": "scatter"
        },
        {
         "fill": "toself",
         "line": {
          "color": "LightSeaGreen",
          "width": 2
         },
         "mode": "lines",
         "showlegend": false,
         "x": [
          -0.31640625,
          -0.314453125,
          -0.318359375
         ],
         "y": [
          0.14074041968262732,
          0.13735750794909435,
          0.13735750794909435
         ],
         "type": "scatter"
        },
        {
         "fill": "toself",
         "line": {
          "color": "LightSeaGreen",
          "width": 2
         },
         "mode": "lines",
         "showlegend": false,
         "x": [
          -0.017578125,
          -0.015625,
          -0.01953125
         ],
         "y": [
          0.8951297362604781,
          0.8917468245269451,
          0.8917468245269451
         ],
         "type": "scatter"
        },
        {
         "fill": "toself",
         "line": {
          "color": "LightSeaGreen",
          "width": 2
         },
         "mode": "lines",
         "showlegend": false,
         "x": [
          0.158203125,
          0.16015625,
          0.15625
         ],
         "y": [
          0.2726739772904129,
          0.26929106555688,
          0.26929106555688
         ],
         "type": "scatter"
        },
        {
         "fill": "toself",
         "line": {
          "color": "LightSeaGreen",
          "width": 2
         },
         "mode": "lines",
         "showlegend": false,
         "x": [
          0.103515625,
          0.10546875,
          0.1015625
         ],
         "y": [
          0.16442080181735805,
          0.16103789008382507,
          0.16103789008382507
         ],
         "type": "scatter"
        },
        {
         "fill": "toself",
         "line": {
          "color": "LightSeaGreen",
          "width": 2
         },
         "mode": "lines",
         "showlegend": false,
         "x": [
          0.287109375,
          0.2890625,
          0.28515625
         ],
         "y": [
          0.3809271527634678,
          0.37754424102993484,
          0.37754424102993484
         ],
         "type": "scatter"
        },
        {
         "fill": "toself",
         "line": {
          "color": "LightSeaGreen",
          "width": 2
         },
         "mode": "lines",
         "showlegend": false,
         "x": [
          0.345703125,
          0.34765625,
          0.34375
         ],
         "y": [
          0.13735750794909435,
          0.13397459621556138,
          0.13397459621556138
         ],
         "type": "scatter"
        },
        {
         "fill": "toself",
         "line": {
          "color": "LightSeaGreen",
          "width": 2
         },
         "mode": "lines",
         "showlegend": false,
         "x": [
          0.072265625,
          0.07421875,
          0.0703125
         ],
         "y": [
          0.7868765607874233,
          0.7834936490538903,
          0.7834936490538903
         ],
         "type": "scatter"
        },
        {
         "fill": "toself",
         "line": {
          "color": "LightSeaGreen",
          "width": 2
         },
         "mode": "lines",
         "showlegend": false,
         "x": [
          -0.17578125,
          -0.173828125,
          -0.177734375
         ],
         "y": [
          0.5872847685089786,
          0.5839018567754456,
          0.5839018567754456
         ],
         "type": "scatter"
        },
        {
         "fill": "toself",
         "line": {
          "color": "LightSeaGreen",
          "width": 2
         },
         "mode": "lines",
         "showlegend": false,
         "x": [
          0.208984375,
          0.2109375,
          0.20703125
         ],
         "y": [
          0.13735750794909435,
          0.13397459621556138,
          0.13397459621556138
         ],
         "type": "scatter"
        },
        {
         "fill": "toself",
         "line": {
          "color": "LightSeaGreen",
          "width": 2
         },
         "mode": "lines",
         "showlegend": false,
         "x": [
          0.048828125,
          0.05078125,
          0.046875
         ],
         "y": [
          0.15765497835029213,
          0.15427206661675916,
          0.15427206661675916
         ],
         "type": "scatter"
        },
        {
         "fill": "toself",
         "line": {
          "color": "LightSeaGreen",
          "width": 2
         },
         "mode": "lines",
         "showlegend": false,
         "x": [
          0.416015625,
          0.41796875,
          0.4140625
         ],
         "y": [
          0.20501574261975364,
          0.20163283088622067,
          0.20163283088622067
         ],
         "type": "scatter"
        },
        {
         "fill": "toself",
         "line": {
          "color": "LightSeaGreen",
          "width": 2
         },
         "mode": "lines",
         "showlegend": false,
         "x": [
          0.48046875,
          0.482421875,
          0.478515625
         ],
         "y": [
          0.14074041968262732,
          0.13735750794909435,
          0.13735750794909435
         ],
         "type": "scatter"
        },
        {
         "fill": "toself",
         "line": {
          "color": "LightSeaGreen",
          "width": 2
         },
         "mode": "lines",
         "showlegend": false,
         "x": [
          0.072265625,
          0.07421875,
          0.0703125
         ],
         "y": [
          0.14412333141616027,
          0.1407404196826273,
          0.1407404196826273
         ],
         "type": "scatter"
        },
        {
         "fill": "toself",
         "line": {
          "color": "LightSeaGreen",
          "width": 2
         },
         "mode": "lines",
         "showlegend": false,
         "x": [
          -0.228515625,
          -0.2265625,
          -0.23046875
         ],
         "y": [
          0.3809271527634678,
          0.37754424102993484,
          0.37754424102993484
         ],
         "type": "scatter"
        },
        {
         "fill": "toself",
         "line": {
          "color": "LightSeaGreen",
          "width": 2
         },
         "mode": "lines",
         "showlegend": false,
         "x": [
          0.384765625,
          0.38671875,
          0.3828125
         ],
         "y": [
          0.31326891809280843,
          0.3098860063592755,
          0.3098860063592755
         ],
         "type": "scatter"
        },
        {
         "fill": "toself",
         "line": {
          "color": "LightSeaGreen",
          "width": 2
         },
         "mode": "lines",
         "showlegend": false,
         "x": [
          -0.349609375,
          -0.34765625,
          -0.3515625
         ],
         "y": [
          0.3809271527634678,
          0.37754424102993484,
          0.37754424102993484
         ],
         "type": "scatter"
        },
        {
         "fill": "toself",
         "line": {
          "color": "LightSeaGreen",
          "width": 2
         },
         "mode": "lines",
         "showlegend": false,
         "x": [
          0.275390625,
          0.27734375,
          0.2734375
         ],
         "y": [
          0.3809271527634678,
          0.37754424102993484,
          0.37754424102993484
         ],
         "type": "scatter"
        },
        {
         "fill": "toself",
         "line": {
          "color": "LightSeaGreen",
          "width": 2
         },
         "mode": "lines",
         "showlegend": false,
         "x": [
          -0.064453125,
          -0.0625,
          -0.06640625
         ],
         "y": [
          0.21854738955388547,
          0.2151644778203525,
          0.2151644778203525
         ],
         "type": "scatter"
        },
        {
         "fill": "toself",
         "line": {
          "color": "LightSeaGreen",
          "width": 2
         },
         "mode": "lines",
         "showlegend": false,
         "x": [
          -0.01171875,
          -0.009765625,
          -0.013671875
         ],
         "y": [
          0.5872847685089786,
          0.5839018567754456,
          0.5839018567754456
         ],
         "type": "scatter"
        },
        {
         "fill": "toself",
         "line": {
          "color": "LightSeaGreen",
          "width": 2
         },
         "mode": "lines",
         "showlegend": false,
         "x": [
          0.294921875,
          0.296875,
          0.29296875
         ],
         "y": [
          0.3673955058293359,
          0.36401259409580294,
          0.36401259409580294
         ],
         "type": "scatter"
        },
        {
         "fill": "toself",
         "line": {
          "color": "LightSeaGreen",
          "width": 2
         },
         "mode": "lines",
         "showlegend": false,
         "x": [
          0.060546875,
          0.0625,
          0.05859375
         ],
         "y": [
          0.8410031485239507,
          0.8376202367904177,
          0.8376202367904177
         ],
         "type": "scatter"
        },
        {
         "fill": "toself",
         "line": {
          "color": "LightSeaGreen",
          "width": 2
         },
         "mode": "lines",
         "showlegend": false,
         "x": [
          -0.26171875,
          -0.259765625,
          -0.263671875
         ],
         "y": [
          0.357246770628737,
          0.35386385889520405,
          0.35386385889520405
         ],
         "type": "scatter"
        },
        {
         "fill": "toself",
         "line": {
          "color": "LightSeaGreen",
          "width": 2
         },
         "mode": "lines",
         "showlegend": false,
         "x": [
          0.357421875,
          0.359375,
          0.35546875
         ],
         "y": [
          0.3200347415598744,
          0.31665182982634144,
          0.31665182982634144
         ],
         "type": "scatter"
        },
        {
         "fill": "toself",
         "line": {
          "color": "LightSeaGreen",
          "width": 2
         },
         "mode": "lines",
         "showlegend": false,
         "x": [
          -0.380859375,
          -0.37890625,
          -0.3828125
         ],
         "y": [
          0.25237650688921515,
          0.24899359515568217,
          0.24899359515568217
         ],
         "type": "scatter"
        },
        {
         "fill": "toself",
         "line": {
          "color": "LightSeaGreen",
          "width": 2
         },
         "mode": "lines",
         "showlegend": false,
         "x": [
          0.107421875,
          0.109375,
          0.10546875
         ],
         "y": [
          0.2997372711586766,
          0.29635435942514365,
          0.29635435942514365
         ],
         "type": "scatter"
        },
        {
         "fill": "toself",
         "line": {
          "color": "LightSeaGreen",
          "width": 2
         },
         "mode": "lines",
         "showlegend": false,
         "x": [
          -0.134765625,
          -0.1328125,
          -0.13671875
         ],
         "y": [
          0.732749973050896,
          0.729367061317363,
          0.729367061317363
         ],
         "type": "scatter"
        },
        {
         "fill": "toself",
         "line": {
          "color": "LightSeaGreen",
          "width": 2
         },
         "mode": "lines",
         "showlegend": false,
         "x": [
          0.41796875,
          0.419921875,
          0.416015625
         ],
         "y": [
          0.24899359515568217,
          0.2456106834221492,
          0.2456106834221492
         ],
         "type": "scatter"
        },
        {
         "fill": "toself",
         "line": {
          "color": "LightSeaGreen",
          "width": 2
         },
         "mode": "lines",
         "showlegend": false,
         "x": [
          -0.298828125,
          -0.296875,
          -0.30078125
         ],
         "y": [
          0.42828791703292923,
          0.4249050052993963,
          0.4249050052993963
         ],
         "type": "scatter"
        },
        {
         "fill": "toself",
         "line": {
          "color": "LightSeaGreen",
          "width": 2
         },
         "mode": "lines",
         "showlegend": false,
         "x": [
          0.353515625,
          0.35546875,
          0.3515625
         ],
         "y": [
          0.2794398007574789,
          0.27605688902394593,
          0.27605688902394593
         ],
         "type": "scatter"
        },
        {
         "fill": "toself",
         "line": {
          "color": "LightSeaGreen",
          "width": 2
         },
         "mode": "lines",
         "showlegend": false,
         "x": [
          -0.14453125,
          -0.142578125,
          -0.146484375
         ],
         "y": [
          0.357246770628737,
          0.35386385889520405,
          0.35386385889520405
         ],
         "type": "scatter"
        },
        {
         "fill": "toself",
         "line": {
          "color": "LightSeaGreen",
          "width": 2
         },
         "mode": "lines",
         "showlegend": false,
         "x": [
          0.353515625,
          0.35546875,
          0.3515625
         ],
         "y": [
          0.2726739772904129,
          0.26929106555688,
          0.26929106555688
         ],
         "type": "scatter"
        },
        {
         "fill": "toself",
         "line": {
          "color": "LightSeaGreen",
          "width": 2
         },
         "mode": "lines",
         "showlegend": false,
         "x": [
          0.3515625,
          0.353515625,
          0.349609375
         ],
         "y": [
          0.2828227124910118,
          0.2794398007574789,
          0.2794398007574789
         ],
         "type": "scatter"
        },
        {
         "fill": "toself",
         "line": {
          "color": "LightSeaGreen",
          "width": 2
         },
         "mode": "lines",
         "showlegend": false,
         "x": [
          -0.087890625,
          -0.0859375,
          -0.08984375
         ],
         "y": [
          0.5703702098413137,
          0.5669872981077807,
          0.5669872981077807
         ],
         "type": "scatter"
        },
        {
         "fill": "toself",
         "line": {
          "color": "LightSeaGreen",
          "width": 2
         },
         "mode": "lines",
         "showlegend": false,
         "x": [
          -0.099609375,
          -0.09765625,
          -0.1015625
         ],
         "y": [
          0.7124525026496981,
          0.7090695909161651,
          0.7090695909161651
         ],
         "type": "scatter"
        },
        {
         "fill": "toself",
         "line": {
          "color": "LightSeaGreen",
          "width": 2
         },
         "mode": "lines",
         "showlegend": false,
         "x": [
          0.115234375,
          0.1171875,
          0.11328125
         ],
         "y": [
          0.6786233853143685,
          0.6752404735808355,
          0.6752404735808355
         ],
         "type": "scatter"
        },
        {
         "fill": "toself",
         "line": {
          "color": "LightSeaGreen",
          "width": 2
         },
         "mode": "lines",
         "showlegend": false,
         "x": [
          0.166015625,
          0.16796875,
          0.1640625
         ],
         "y": [
          0.3809271527634678,
          0.37754424102993484,
          0.37754424102993484
         ],
         "type": "scatter"
        },
        {
         "fill": "toself",
         "line": {
          "color": "LightSeaGreen",
          "width": 2
         },
         "mode": "lines",
         "showlegend": false,
         "x": [
          -0.05859375,
          -0.056640625,
          -0.060546875
         ],
         "y": [
          0.6684746501137697,
          0.6650917383802367,
          0.6650917383802367
         ],
         "type": "scatter"
        },
        {
         "fill": "toself",
         "line": {
          "color": "LightSeaGreen",
          "width": 2
         },
         "mode": "lines",
         "showlegend": false,
         "x": [
          -0.349609375,
          -0.34765625,
          -0.3515625
         ],
         "y": [
          0.2726739772904129,
          0.26929106555688,
          0.26929106555688
         ],
         "type": "scatter"
        },
        {
         "fill": "toself",
         "line": {
          "color": "LightSeaGreen",
          "width": 2
         },
         "mode": "lines",
         "showlegend": false,
         "x": [
          -0.2109375,
          -0.208984375,
          -0.212890625
         ],
         "y": [
          0.6075822389101763,
          0.6041993271766433,
          0.6041993271766433
         ],
         "type": "scatter"
        },
        {
         "fill": "toself",
         "line": {
          "color": "LightSeaGreen",
          "width": 2
         },
         "mode": "lines",
         "showlegend": false,
         "x": [
          -0.06640625,
          -0.064453125,
          -0.068359375
         ],
         "y": [
          0.8849810010598793,
          0.8815980893263463,
          0.8815980893263463
         ],
         "type": "scatter"
        },
        {
         "fill": "toself",
         "line": {
          "color": "LightSeaGreen",
          "width": 2
         },
         "mode": "lines",
         "showlegend": false,
         "x": [
          0.080078125,
          0.08203125,
          0.078125
         ],
         "y": [
          0.25914233035628104,
          0.2557594186227481,
          0.2557594186227481
         ],
         "type": "scatter"
        },
        {
         "fill": "toself",
         "line": {
          "color": "LightSeaGreen",
          "width": 2
         },
         "mode": "lines",
         "showlegend": false,
         "x": [
          -0.021484375,
          -0.01953125,
          -0.0234375
         ],
         "y": [
          0.7868765607874233,
          0.7834936490538903,
          0.7834936490538903
         ],
         "type": "scatter"
        },
        {
         "fill": "toself",
         "line": {
          "color": "LightSeaGreen",
          "width": 2
         },
         "mode": "lines",
         "showlegend": false,
         "x": [
          -0.2890625,
          -0.287109375,
          -0.291015625
         ],
         "y": [
          0.14750624314969324,
          0.14412333141616027,
          0.14412333141616027
         ],
         "type": "scatter"
        },
        {
         "fill": "toself",
         "line": {
          "color": "LightSeaGreen",
          "width": 2
         },
         "mode": "lines",
         "showlegend": false,
         "x": [
          0.181640625,
          0.18359375,
          0.1796875
         ],
         "y": [
          0.631262621044907,
          0.627879709311374,
          0.627879709311374
         ],
         "type": "scatter"
        },
        {
         "fill": "toself",
         "line": {
          "color": "LightSeaGreen",
          "width": 2
         },
         "mode": "lines",
         "showlegend": false,
         "x": [
          -0.123046875,
          -0.12109375,
          -0.125
         ],
         "y": [
          0.3268005650269403,
          0.3234176532934074,
          0.3234176532934074
         ],
         "type": "scatter"
        },
        {
         "fill": "toself",
         "line": {
          "color": "LightSeaGreen",
          "width": 2
         },
         "mode": "lines",
         "showlegend": false,
         "x": [
          -0.322265625,
          -0.3203125,
          -0.32421875
         ],
         "y": [
          0.4147562700987974,
          0.41137335836526445,
          0.41137335836526445
         ],
         "type": "scatter"
        },
        {
         "fill": "toself",
         "line": {
          "color": "LightSeaGreen",
          "width": 2
         },
         "mode": "lines",
         "showlegend": false,
         "x": [
          0.298828125,
          0.30078125,
          0.296875
         ],
         "y": [
          0.19148409568562177,
          0.1881011839520888,
          0.1881011839520888
         ],
         "type": "scatter"
        },
        {
         "fill": "toself",
         "line": {
          "color": "LightSeaGreen",
          "width": 2
         },
         "mode": "lines",
         "showlegend": false,
         "x": [
          0.04296875,
          0.044921875,
          0.041015625
         ],
         "y": [
          0.15427206661675918,
          0.1508891548832262,
          0.1508891548832262
         ],
         "type": "scatter"
        },
        {
         "fill": "toself",
         "line": {
          "color": "LightSeaGreen",
          "width": 2
         },
         "mode": "lines",
         "showlegend": false,
         "x": [
          -0.025390625,
          -0.0234375,
          -0.02734375
         ],
         "y": [
          0.16442080181735805,
          0.16103789008382507,
          0.16103789008382507
         ],
         "type": "scatter"
        },
        {
         "fill": "toself",
         "line": {
          "color": "LightSeaGreen",
          "width": 2
         },
         "mode": "lines",
         "showlegend": false,
         "x": [
          -0.333984375,
          -0.33203125,
          -0.3359375
         ],
         "y": [
          0.14412333141616027,
          0.1407404196826273,
          0.1407404196826273
         ],
         "type": "scatter"
        },
        {
         "fill": "toself",
         "line": {
          "color": "LightSeaGreen",
          "width": 2
         },
         "mode": "lines",
         "showlegend": false,
         "x": [
          -0.064453125,
          -0.0625,
          -0.06640625
         ],
         "y": [
          0.8883639127934122,
          0.8849810010598792,
          0.8849810010598792
         ],
         "type": "scatter"
        },
        {
         "fill": "toself",
         "line": {
          "color": "LightSeaGreen",
          "width": 2
         },
         "mode": "lines",
         "showlegend": false,
         "x": [
          -0.208984375,
          -0.20703125,
          -0.2109375
         ],
         "y": [
          0.1982499191526877,
          0.19486700741915472,
          0.19486700741915472
         ],
         "type": "scatter"
        },
        {
         "fill": "toself",
         "line": {
          "color": "LightSeaGreen",
          "width": 2
         },
         "mode": "lines",
         "showlegend": false,
         "x": [
          -0.0859375,
          -0.083984375,
          -0.087890625
         ],
         "y": [
          0.7158354143832311,
          0.7124525026496981,
          0.7124525026496981
         ],
         "type": "scatter"
        },
        {
         "fill": "toself",
         "line": {
          "color": "LightSeaGreen",
          "width": 2
         },
         "mode": "lines",
         "showlegend": false,
         "x": [
          0.044921875,
          0.046875,
          0.04296875
         ],
         "y": [
          0.5974335037095774,
          0.5940505919760444,
          0.5940505919760444
         ],
         "type": "scatter"
        },
        {
         "fill": "toself",
         "line": {
          "color": "LightSeaGreen",
          "width": 2
         },
         "mode": "lines",
         "showlegend": false,
         "x": [
          -0.06640625,
          -0.064453125,
          -0.068359375
         ],
         "y": [
          0.14074041968262732,
          0.13735750794909435,
          0.13735750794909435
         ],
         "type": "scatter"
        },
        {
         "fill": "toself",
         "line": {
          "color": "LightSeaGreen",
          "width": 2
         },
         "mode": "lines",
         "showlegend": false,
         "x": [
          -0.2890625,
          -0.287109375,
          -0.291015625
         ],
         "y": [
          0.14750624314969324,
          0.14412333141616027,
          0.14412333141616027
         ],
         "type": "scatter"
        },
        {
         "fill": "toself",
         "line": {
          "color": "LightSeaGreen",
          "width": 2
         },
         "mode": "lines",
         "showlegend": false,
         "x": [
          -0.169921875,
          -0.16796875,
          -0.171875
         ],
         "y": [
          0.3673955058293359,
          0.36401259409580294,
          0.36401259409580294
         ],
         "type": "scatter"
        },
        {
         "fill": "toself",
         "line": {
          "color": "LightSeaGreen",
          "width": 2
         },
         "mode": "lines",
         "showlegend": false,
         "x": [
          0.111328125,
          0.11328125,
          0.109375
         ],
         "y": [
          0.13735750794909435,
          0.13397459621556138,
          0.13397459621556138
         ],
         "type": "scatter"
        },
        {
         "fill": "toself",
         "line": {
          "color": "LightSeaGreen",
          "width": 2
         },
         "mode": "lines",
         "showlegend": false,
         "x": [
          0.091796875,
          0.09375,
          0.08984375
         ],
         "y": [
          0.16442080181735805,
          0.16103789008382507,
          0.16103789008382507
         ],
         "type": "scatter"
        },
        {
         "fill": "toself",
         "line": {
          "color": "LightSeaGreen",
          "width": 2
         },
         "mode": "lines",
         "showlegend": false,
         "x": [
          0.220703125,
          0.22265625,
          0.21875
         ],
         "y": [
          0.5974335037095774,
          0.5940505919760444,
          0.5940505919760444
         ],
         "type": "scatter"
        },
        {
         "fill": "toself",
         "line": {
          "color": "LightSeaGreen",
          "width": 2
         },
         "mode": "lines",
         "showlegend": false,
         "x": [
          0.15234375,
          0.154296875,
          0.150390625
         ],
         "y": [
          0.14074041968262732,
          0.13735750794909435,
          0.13735750794909435
         ],
         "type": "scatter"
        },
        {
         "fill": "toself",
         "line": {
          "color": "LightSeaGreen",
          "width": 2
         },
         "mode": "lines",
         "showlegend": false,
         "x": [
          0.119140625,
          0.12109375,
          0.1171875
         ],
         "y": [
          0.33356638849400627,
          0.3301834767604733,
          0.3301834767604733
         ],
         "type": "scatter"
        },
        {
         "fill": "toself",
         "line": {
          "color": "LightSeaGreen",
          "width": 2
         },
         "mode": "lines",
         "showlegend": false,
         "x": [
          0.283203125,
          0.28515625,
          0.28125
         ],
         "y": [
          0.3809271527634678,
          0.37754424102993484,
          0.37754424102993484
         ],
         "type": "scatter"
        },
        {
         "fill": "toself",
         "line": {
          "color": "LightSeaGreen",
          "width": 2
         },
         "mode": "lines",
         "showlegend": false,
         "x": [
          0.1796875,
          0.181640625,
          0.177734375
         ],
         "y": [
          0.44520247570059407,
          0.4418195639670611,
          0.4418195639670611
         ],
         "type": "scatter"
        },
        {
         "fill": "toself",
         "line": {
          "color": "LightSeaGreen",
          "width": 2
         },
         "mode": "lines",
         "showlegend": false,
         "x": [
          -0.228515625,
          -0.2265625,
          -0.23046875
         ],
         "y": [
          0.35386385889520405,
          0.3504809471616711,
          0.3504809471616711
         ],
         "type": "scatter"
        },
        {
         "fill": "toself",
         "line": {
          "color": "LightSeaGreen",
          "width": 2
         },
         "mode": "lines",
         "showlegend": false,
         "x": [
          0.357421875,
          0.359375,
          0.35546875
         ],
         "y": [
          0.25914233035628104,
          0.2557594186227481,
          0.2557594186227481
         ],
         "type": "scatter"
        },
        {
         "fill": "toself",
         "line": {
          "color": "LightSeaGreen",
          "width": 2
         },
         "mode": "lines",
         "showlegend": false,
         "x": [
          -0.142578125,
          -0.140625,
          -0.14453125
         ],
         "y": [
          0.5974335037095774,
          0.5940505919760444,
          0.5940505919760444
         ],
         "type": "scatter"
        },
        {
         "fill": "toself",
         "line": {
          "color": "LightSeaGreen",
          "width": 2
         },
         "mode": "lines",
         "showlegend": false,
         "x": [
          0.13671875,
          0.138671875,
          0.134765625
         ],
         "y": [
          0.24899359515568217,
          0.2456106834221492,
          0.2456106834221492
         ],
         "type": "scatter"
        },
        {
         "fill": "toself",
         "line": {
          "color": "LightSeaGreen",
          "width": 2
         },
         "mode": "lines",
         "showlegend": false,
         "x": [
          -0.373046875,
          -0.37109375,
          -0.375
         ],
         "y": [
          0.2997372711586766,
          0.29635435942514365,
          0.29635435942514365
         ],
         "type": "scatter"
        },
        {
         "fill": "toself",
         "line": {
          "color": "LightSeaGreen",
          "width": 2
         },
         "mode": "lines",
         "showlegend": false,
         "x": [
          -0.083984375,
          -0.08203125,
          -0.0859375
         ],
         "y": [
          0.631262621044907,
          0.627879709311374,
          0.627879709311374
         ],
         "type": "scatter"
        },
        {
         "fill": "toself",
         "line": {
          "color": "LightSeaGreen",
          "width": 2
         },
         "mode": "lines",
         "showlegend": false,
         "x": [
          -0.048828125,
          -0.046875,
          -0.05078125
         ],
         "y": [
          0.5703702098413137,
          0.5669872981077807,
          0.5669872981077807
         ],
         "type": "scatter"
        },
        {
         "fill": "toself",
         "line": {
          "color": "LightSeaGreen",
          "width": 2
         },
         "mode": "lines",
         "showlegend": false,
         "x": [
          0.435546875,
          0.4375,
          0.43359375
         ],
         "y": [
          0.23884485995508326,
          0.23546194822155028,
          0.23546194822155028
         ],
         "type": "scatter"
        },
        {
         "fill": "toself",
         "line": {
          "color": "LightSeaGreen",
          "width": 2
         },
         "mode": "lines",
         "showlegend": false,
         "x": [
          0.181640625,
          0.18359375,
          0.1796875
         ],
         "y": [
          0.14412333141616027,
          0.1407404196826273,
          0.1407404196826273
         ],
         "type": "scatter"
        },
        {
         "fill": "toself",
         "line": {
          "color": "LightSeaGreen",
          "width": 2
         },
         "mode": "lines",
         "showlegend": false,
         "x": [
          0.404296875,
          0.40625,
          0.40234375
         ],
         "y": [
          0.2929714476916107,
          0.28958853595807776,
          0.28958853595807776
         ],
         "type": "scatter"
        },
        {
         "fill": "toself",
         "line": {
          "color": "LightSeaGreen",
          "width": 2
         },
         "mode": "lines",
         "showlegend": false,
         "x": [
          0.111328125,
          0.11328125,
          0.109375
         ],
         "y": [
          0.6786233853143685,
          0.6752404735808355,
          0.6752404735808355
         ],
         "type": "scatter"
        },
        {
         "fill": "toself",
         "line": {
          "color": "LightSeaGreen",
          "width": 2
         },
         "mode": "lines",
         "showlegend": false,
         "x": [
          0.255859375,
          0.2578125,
          0.25390625
         ],
         "y": [
          0.36062968236227,
          0.35724677062873705,
          0.35724677062873705
         ],
         "type": "scatter"
        },
        {
         "fill": "toself",
         "line": {
          "color": "LightSeaGreen",
          "width": 2
         },
         "mode": "lines",
         "showlegend": false,
         "x": [
          -0.26953125,
          -0.267578125,
          -0.271484375
         ],
         "y": [
          0.357246770628737,
          0.35386385889520405,
          0.35386385889520405
         ],
         "type": "scatter"
        },
        {
         "fill": "toself",
         "line": {
          "color": "LightSeaGreen",
          "width": 2
         },
         "mode": "lines",
         "showlegend": false,
         "x": [
          -0.14453125,
          -0.142578125,
          -0.146484375
         ],
         "y": [
          0.37077841756286883,
          0.3673955058293359,
          0.3673955058293359
         ],
         "type": "scatter"
        },
        {
         "fill": "toself",
         "line": {
          "color": "LightSeaGreen",
          "width": 2
         },
         "mode": "lines",
         "showlegend": false,
         "x": [
          0.099609375,
          0.1015625,
          0.09765625
         ],
         "y": [
          0.14412333141616027,
          0.1407404196826273,
          0.1407404196826273
         ],
         "type": "scatter"
        },
        {
         "fill": "toself",
         "line": {
          "color": "LightSeaGreen",
          "width": 2
         },
         "mode": "lines",
         "showlegend": false,
         "x": [
          0.146484375,
          0.1484375,
          0.14453125
         ],
         "y": [
          0.7462816199850278,
          0.7428987082514948,
          0.7428987082514948
         ],
         "type": "scatter"
        },
        {
         "fill": "toself",
         "line": {
          "color": "LightSeaGreen",
          "width": 2
         },
         "mode": "lines",
         "showlegend": false,
         "x": [
          -0.13671875,
          -0.134765625,
          -0.138671875
         ],
         "y": [
          0.736132884784429,
          0.732749973050896,
          0.732749973050896
         ],
         "type": "scatter"
        },
        {
         "fill": "toself",
         "line": {
          "color": "LightSeaGreen",
          "width": 2
         },
         "mode": "lines",
         "showlegend": false,
         "x": [
          0.13671875,
          0.138671875,
          0.134765625
         ],
         "y": [
          0.5872847685089786,
          0.5839018567754456,
          0.5839018567754456
         ],
         "type": "scatter"
        },
        {
         "fill": "toself",
         "line": {
          "color": "LightSeaGreen",
          "width": 2
         },
         "mode": "lines",
         "showlegend": false,
         "x": [
          -0.115234375,
          -0.11328125,
          -0.1171875
         ],
         "y": [
          0.6786233853143685,
          0.6752404735808355,
          0.6752404735808355
         ],
         "type": "scatter"
        },
        {
         "fill": "toself",
         "line": {
          "color": "LightSeaGreen",
          "width": 2
         },
         "mode": "lines",
         "showlegend": false,
         "x": [
          0.0390625,
          0.041015625,
          0.037109375
         ],
         "y": [
          0.6075822389101763,
          0.6041993271766433,
          0.6041993271766433
         ],
         "type": "scatter"
        },
        {
         "fill": "toself",
         "line": {
          "color": "LightSeaGreen",
          "width": 2
         },
         "mode": "lines",
         "showlegend": false,
         "x": [
          -0.353515625,
          -0.3515625,
          -0.35546875
         ],
         "y": [
          0.2997372711586766,
          0.29635435942514365,
          0.29635435942514365
         ],
         "type": "scatter"
        },
        {
         "fill": "toself",
         "line": {
          "color": "LightSeaGreen",
          "width": 2
         },
         "mode": "lines",
         "showlegend": false,
         "x": [
          0.171875,
          0.173828125,
          0.169921875
         ],
         "y": [
          0.7023037674490993,
          0.6989208557155663,
          0.6989208557155663
         ],
         "type": "scatter"
        },
        {
         "fill": "toself",
         "line": {
          "color": "LightSeaGreen",
          "width": 2
         },
         "mode": "lines",
         "showlegend": false,
         "x": [
          0.091796875,
          0.09375,
          0.08984375
         ],
         "y": [
          0.8342373250568847,
          0.8308544133233517,
          0.8308544133233517
         ],
         "type": "scatter"
        },
        {
         "fill": "toself",
         "line": {
          "color": "LightSeaGreen",
          "width": 2
         },
         "mode": "lines",
         "showlegend": false,
         "x": [
          -0.35546875,
          -0.353515625,
          -0.357421875
         ],
         "y": [
          0.15427206661675918,
          0.1508891548832262,
          0.1508891548832262
         ],
         "type": "scatter"
        },
        {
         "fill": "toself",
         "line": {
          "color": "LightSeaGreen",
          "width": 2
         },
         "mode": "lines",
         "showlegend": false,
         "x": [
          -0.115234375,
          -0.11328125,
          -0.1171875
         ],
         "y": [
          0.30650309462574254,
          0.3031201828922096,
          0.3031201828922096
         ],
         "type": "scatter"
        },
        {
         "fill": "toself",
         "line": {
          "color": "LightSeaGreen",
          "width": 2
         },
         "mode": "lines",
         "showlegend": false,
         "x": [
          -0.345703125,
          -0.34375,
          -0.34765625
         ],
         "y": [
          0.2456106834221492,
          0.24222777168861623,
          0.24222777168861623
         ],
         "type": "scatter"
        },
        {
         "fill": "toself",
         "line": {
          "color": "LightSeaGreen",
          "width": 2
         },
         "mode": "lines",
         "showlegend": false,
         "x": [
          0.361328125,
          0.36328125,
          0.359375
         ],
         "y": [
          0.13735750794909435,
          0.13397459621556138,
          0.13397459621556138
         ],
         "type": "scatter"
        },
        {
         "fill": "toself",
         "line": {
          "color": "LightSeaGreen",
          "width": 2
         },
         "mode": "lines",
         "showlegend": false,
         "x": [
          0.353515625,
          0.35546875,
          0.3515625
         ],
         "y": [
          0.16442080181735805,
          0.16103789008382507,
          0.16103789008382507
         ],
         "type": "scatter"
        },
        {
         "fill": "toself",
         "line": {
          "color": "LightSeaGreen",
          "width": 2
         },
         "mode": "lines",
         "showlegend": false,
         "x": [
          0.419921875,
          0.421875,
          0.41796875
         ],
         "y": [
          0.15765497835029213,
          0.15427206661675916,
          0.15427206661675916
         ],
         "type": "scatter"
        },
        {
         "fill": "toself",
         "line": {
          "color": "LightSeaGreen",
          "width": 2
         },
         "mode": "lines",
         "showlegend": false,
         "x": [
          -0.197265625,
          -0.1953125,
          -0.19921875
         ],
         "y": [
          0.2253132130209514,
          0.22193030128741842,
          0.22193030128741842
         ],
         "type": "scatter"
        },
        {
         "fill": "toself",
         "line": {
          "color": "LightSeaGreen",
          "width": 2
         },
         "mode": "lines",
         "showlegend": false,
         "x": [
          0.2890625,
          0.291015625,
          0.287109375
         ],
         "y": [
          0.20163283088622067,
          0.1982499191526877,
          0.1982499191526877
         ],
         "type": "scatter"
        },
        {
         "fill": "toself",
         "line": {
          "color": "LightSeaGreen",
          "width": 2
         },
         "mode": "lines",
         "showlegend": false,
         "x": [
          -0.388671875,
          -0.38671875,
          -0.390625
         ],
         "y": [
          0.25914233035628104,
          0.2557594186227481,
          0.2557594186227481
         ],
         "type": "scatter"
        },
        {
         "fill": "toself",
         "line": {
          "color": "LightSeaGreen",
          "width": 2
         },
         "mode": "lines",
         "showlegend": false,
         "x": [
          -0.03515625,
          -0.033203125,
          -0.037109375
         ],
         "y": [
          0.6008164154431104,
          0.5974335037095774,
          0.5974335037095774
         ],
         "type": "scatter"
        },
        {
         "fill": "toself",
         "line": {
          "color": "LightSeaGreen",
          "width": 2
         },
         "mode": "lines",
         "showlegend": false,
         "x": [
          -0.017578125,
          -0.015625,
          -0.01953125
         ],
         "y": [
          0.5703702098413137,
          0.5669872981077807,
          0.5669872981077807
         ],
         "type": "scatter"
        },
        {
         "fill": "toself",
         "line": {
          "color": "LightSeaGreen",
          "width": 2
         },
         "mode": "lines",
         "showlegend": false,
         "x": [
          -0.318359375,
          -0.31640625,
          -0.3203125
         ],
         "y": [
          0.1982499191526877,
          0.19486700741915472,
          0.19486700741915472
         ],
         "type": "scatter"
        },
        {
         "fill": "toself",
         "line": {
          "color": "LightSeaGreen",
          "width": 2
         },
         "mode": "lines",
         "showlegend": false,
         "x": [
          0.345703125,
          0.34765625,
          0.34375
         ],
         "y": [
          0.2929714476916107,
          0.28958853595807776,
          0.28958853595807776
         ],
         "type": "scatter"
        },
        {
         "fill": "toself",
         "line": {
          "color": "LightSeaGreen",
          "width": 2
         },
         "mode": "lines",
         "showlegend": false,
         "x": [
          0.07421875,
          0.076171875,
          0.072265625
         ],
         "y": [
          0.7902594725209563,
          0.7868765607874233,
          0.7868765607874233
         ],
         "type": "scatter"
        },
        {
         "fill": "toself",
         "line": {
          "color": "LightSeaGreen",
          "width": 2
         },
         "mode": "lines",
         "showlegend": false,
         "x": [
          0.00390625,
          0.005859375,
          0.001953125
         ],
         "y": [
          0.5737531215748467,
          0.5703702098413137,
          0.5703702098413137
         ],
         "type": "scatter"
        },
        {
         "fill": "toself",
         "line": {
          "color": "LightSeaGreen",
          "width": 2
         },
         "mode": "lines",
         "showlegend": false,
         "x": [
          -0.14453125,
          -0.142578125,
          -0.146484375
         ],
         "y": [
          0.5872847685089786,
          0.5839018567754456,
          0.5839018567754456
         ],
         "type": "scatter"
        },
        {
         "fill": "toself",
         "line": {
          "color": "LightSeaGreen",
          "width": 2
         },
         "mode": "lines",
         "showlegend": false,
         "x": [
          0.326171875,
          0.328125,
          0.32421875
         ],
         "y": [
          0.15765497835029213,
          0.15427206661675916,
          0.15427206661675916
         ],
         "type": "scatter"
        },
        {
         "fill": "toself",
         "line": {
          "color": "LightSeaGreen",
          "width": 2
         },
         "mode": "lines",
         "showlegend": false,
         "x": [
          -0.15234375,
          -0.150390625,
          -0.154296875
         ],
         "y": [
          0.6143480623772423,
          0.6109651506437093,
          0.6109651506437093
         ],
         "type": "scatter"
        },
        {
         "fill": "toself",
         "line": {
          "color": "LightSeaGreen",
          "width": 2
         },
         "mode": "lines",
         "showlegend": false,
         "x": [
          -0.275390625,
          -0.2734375,
          -0.27734375
         ],
         "y": [
          0.5230094455718521,
          0.5196265338383191,
          0.5196265338383191
         ],
         "type": "scatter"
        },
        {
         "fill": "toself",
         "line": {
          "color": "LightSeaGreen",
          "width": 2
         },
         "mode": "lines",
         "showlegend": false,
         "x": [
          -0.373046875,
          -0.37109375,
          -0.375
         ],
         "y": [
          0.35386385889520405,
          0.3504809471616711,
          0.3504809471616711
         ],
         "type": "scatter"
        },
        {
         "fill": "toself",
         "line": {
          "color": "LightSeaGreen",
          "width": 2
         },
         "mode": "lines",
         "showlegend": false,
         "x": [
          0.103515625,
          0.10546875,
          0.1015625
         ],
         "y": [
          0.7462816199850278,
          0.7428987082514948,
          0.7428987082514948
         ],
         "type": "scatter"
        },
        {
         "fill": "toself",
         "line": {
          "color": "LightSeaGreen",
          "width": 2
         },
         "mode": "lines",
         "showlegend": false,
         "x": [
          -0.380859375,
          -0.37890625,
          -0.3828125
         ],
         "y": [
          0.14412333141616027,
          0.1407404196826273,
          0.1407404196826273
         ],
         "type": "scatter"
        },
        {
         "fill": "toself",
         "line": {
          "color": "LightSeaGreen",
          "width": 2
         },
         "mode": "lines",
         "showlegend": false,
         "x": [
          0.201171875,
          0.203125,
          0.19921875
         ],
         "y": [
          0.15765497835029213,
          0.15427206661675916,
          0.15427206661675916
         ],
         "type": "scatter"
        },
        {
         "fill": "toself",
         "line": {
          "color": "LightSeaGreen",
          "width": 2
         },
         "mode": "lines",
         "showlegend": false,
         "x": [
          0.130859375,
          0.1328125,
          0.12890625
         ],
         "y": [
          0.6786233853143685,
          0.6752404735808355,
          0.6752404735808355
         ],
         "type": "scatter"
        },
        {
         "fill": "toself",
         "line": {
          "color": "LightSeaGreen",
          "width": 2
         },
         "mode": "lines",
         "showlegend": false,
         "x": [
          0.150390625,
          0.15234375,
          0.1484375
         ],
         "y": [
          0.3809271527634678,
          0.37754424102993484,
          0.37754424102993484
         ],
         "type": "scatter"
        },
        {
         "fill": "toself",
         "line": {
          "color": "LightSeaGreen",
          "width": 2
         },
         "mode": "lines",
         "showlegend": false,
         "x": [
          0.072265625,
          0.07421875,
          0.0703125
         ],
         "y": [
          0.6853892087814344,
          0.6820062970479014,
          0.6820062970479014
         ],
         "type": "scatter"
        },
        {
         "fill": "toself",
         "line": {
          "color": "LightSeaGreen",
          "width": 2
         },
         "mode": "lines",
         "showlegend": false,
         "x": [
          -0.150390625,
          -0.1484375,
          -0.15234375
         ],
         "y": [
          0.17118662528442397,
          0.167803713550891,
          0.167803713550891
         ],
         "type": "scatter"
        },
        {
         "fill": "toself",
         "line": {
          "color": "LightSeaGreen",
          "width": 2
         },
         "mode": "lines",
         "showlegend": false,
         "x": [
          0.119140625,
          0.12109375,
          0.1171875
         ],
         "y": [
          0.7598132669191596,
          0.7564303551856266,
          0.7564303551856266
         ],
         "type": "scatter"
        },
        {
         "fill": "toself",
         "line": {
          "color": "LightSeaGreen",
          "width": 2
         },
         "mode": "lines",
         "showlegend": false,
         "x": [
          0.044921875,
          0.046875,
          0.04296875
         ],
         "y": [
          0.9154272066616759,
          0.9120442949281429,
          0.9120442949281429
         ],
         "type": "scatter"
        },
        {
         "fill": "toself",
         "line": {
          "color": "LightSeaGreen",
          "width": 2
         },
         "mode": "lines",
         "showlegend": false,
         "x": [
          -0.056640625,
          -0.0546875,
          -0.05859375
         ],
         "y": [
          0.5703702098413137,
          0.5669872981077807,
          0.5669872981077807
         ],
         "type": "scatter"
        },
        {
         "fill": "toself",
         "line": {
          "color": "LightSeaGreen",
          "width": 2
         },
         "mode": "lines",
         "showlegend": false,
         "x": [
          0.048828125,
          0.05078125,
          0.046875
         ],
         "y": [
          0.7868765607874233,
          0.7834936490538903,
          0.7834936490538903
         ],
         "type": "scatter"
        },
        {
         "fill": "toself",
         "line": {
          "color": "LightSeaGreen",
          "width": 2
         },
         "mode": "lines",
         "showlegend": false,
         "x": [
          0.126953125,
          0.12890625,
          0.125
         ],
         "y": [
          0.2997372711586766,
          0.29635435942514365,
          0.29635435942514365
         ],
         "type": "scatter"
        },
        {
         "fill": "toself",
         "line": {
          "color": "LightSeaGreen",
          "width": 2
         },
         "mode": "lines",
         "showlegend": false,
         "x": [
          0.134765625,
          0.13671875,
          0.1328125
         ],
         "y": [
          0.7462816199850278,
          0.7428987082514948,
          0.7428987082514948
         ],
         "type": "scatter"
        },
        {
         "fill": "toself",
         "line": {
          "color": "LightSeaGreen",
          "width": 2
         },
         "mode": "lines",
         "showlegend": false,
         "x": [
          0.33203125,
          0.333984375,
          0.330078125
         ],
         "y": [
          0.37077841756286883,
          0.3673955058293359,
          0.3673955058293359
         ],
         "type": "scatter"
        },
        {
         "fill": "toself",
         "line": {
          "color": "LightSeaGreen",
          "width": 2
         },
         "mode": "lines",
         "showlegend": false,
         "x": [
          0.20703125,
          0.208984375,
          0.205078125
         ],
         "y": [
          0.19486700741915475,
          0.19148409568562177,
          0.19148409568562177
         ],
         "type": "scatter"
        },
        {
         "fill": "toself",
         "line": {
          "color": "LightSeaGreen",
          "width": 2
         },
         "mode": "lines",
         "showlegend": false,
         "x": [
          -0.212890625,
          -0.2109375,
          -0.21484375
         ],
         "y": [
          0.19148409568562177,
          0.1881011839520888,
          0.1881011839520888
         ],
         "type": "scatter"
        },
        {
         "fill": "toself",
         "line": {
          "color": "LightSeaGreen",
          "width": 2
         },
         "mode": "lines",
         "showlegend": false,
         "x": [
          0.01953125,
          0.021484375,
          0.017578125
         ],
         "y": [
          0.9661708826646704,
          0.9627879709311374,
          0.9627879709311374
         ],
         "type": "scatter"
        },
        {
         "fill": "toself",
         "line": {
          "color": "LightSeaGreen",
          "width": 2
         },
         "mode": "lines",
         "showlegend": false,
         "x": [
          -0.443359375,
          -0.44140625,
          -0.4453125
         ],
         "y": [
          0.19148409568562177,
          0.1881011839520888,
          0.1881011839520888
         ],
         "type": "scatter"
        },
        {
         "fill": "toself",
         "line": {
          "color": "LightSeaGreen",
          "width": 2
         },
         "mode": "lines",
         "showlegend": false,
         "x": [
          -0.142578125,
          -0.140625,
          -0.14453125
         ],
         "y": [
          0.6921550322485004,
          0.6887721205149674,
          0.6887721205149674
         ],
         "type": "scatter"
        },
        {
         "fill": "toself",
         "line": {
          "color": "LightSeaGreen",
          "width": 2
         },
         "mode": "lines",
         "showlegend": false,
         "x": [
          -0.41015625,
          -0.408203125,
          -0.412109375
         ],
         "y": [
          0.2760568890239459,
          0.2726739772904129,
          0.2726739772904129
         ],
         "type": "scatter"
        },
        {
         "fill": "toself",
         "line": {
          "color": "LightSeaGreen",
          "width": 2
         },
         "mode": "lines",
         "showlegend": false,
         "x": [
          -0.35546875,
          -0.353515625,
          -0.357421875
         ],
         "y": [
          0.3843100644970007,
          0.3809271527634678,
          0.3809271527634678
         ],
         "type": "scatter"
        },
        {
         "fill": "toself",
         "line": {
          "color": "LightSeaGreen",
          "width": 2
         },
         "mode": "lines",
         "showlegend": false,
         "x": [
          0.357421875,
          0.359375,
          0.35546875
         ],
         "y": [
          0.35386385889520405,
          0.3504809471616711,
          0.3504809471616711
         ],
         "type": "scatter"
        },
        {
         "fill": "toself",
         "line": {
          "color": "LightSeaGreen",
          "width": 2
         },
         "mode": "lines",
         "showlegend": false,
         "x": [
          0.212890625,
          0.21484375,
          0.2109375
         ],
         "y": [
          0.6109651506437093,
          0.6075822389101763,
          0.6075822389101763
         ],
         "type": "scatter"
        },
        {
         "fill": "toself",
         "line": {
          "color": "LightSeaGreen",
          "width": 2
         },
         "mode": "lines",
         "showlegend": false,
         "x": [
          0.396484375,
          0.3984375,
          0.39453125
         ],
         "y": [
          0.1508891548832262,
          0.14750624314969324,
          0.14750624314969324
         ],
         "type": "scatter"
        },
        {
         "fill": "toself",
         "line": {
          "color": "LightSeaGreen",
          "width": 2
         },
         "mode": "lines",
         "showlegend": false,
         "x": [
          -0.412109375,
          -0.41015625,
          -0.4140625
         ],
         "y": [
          0.13735750794909435,
          0.13397459621556138,
          0.13397459621556138
         ],
         "type": "scatter"
        },
        {
         "fill": "toself",
         "line": {
          "color": "LightSeaGreen",
          "width": 2
         },
         "mode": "lines",
         "showlegend": false,
         "x": [
          0.033203125,
          0.03515625,
          0.03125
         ],
         "y": [
          0.19148409568562177,
          0.1881011839520888,
          0.1881011839520888
         ],
         "type": "scatter"
        },
        {
         "fill": "toself",
         "line": {
          "color": "LightSeaGreen",
          "width": 2
         },
         "mode": "lines",
         "showlegend": false,
         "x": [
          -0.2890625,
          -0.287109375,
          -0.291015625
         ],
         "y": [
          0.20163283088622067,
          0.1982499191526877,
          0.1982499191526877
         ],
         "type": "scatter"
        },
        {
         "fill": "toself",
         "line": {
          "color": "LightSeaGreen",
          "width": 2
         },
         "mode": "lines",
         "showlegend": false,
         "x": [
          -0.4140625,
          -0.412109375,
          -0.416015625
         ],
         "y": [
          0.20163283088622067,
          0.1982499191526877,
          0.1982499191526877
         ],
         "type": "scatter"
        },
        {
         "fill": "toself",
         "line": {
          "color": "LightSeaGreen",
          "width": 2
         },
         "mode": "lines",
         "showlegend": false,
         "x": [
          0.259765625,
          0.26171875,
          0.2578125
         ],
         "y": [
          0.5230094455718521,
          0.5196265338383191,
          0.5196265338383191
         ],
         "type": "scatter"
        },
        {
         "fill": "toself",
         "line": {
          "color": "LightSeaGreen",
          "width": 2
         },
         "mode": "lines",
         "showlegend": false,
         "x": [
          0.27734375,
          0.279296875,
          0.275390625
         ],
         "y": [
          0.5060948869041874,
          0.5027119751706544,
          0.5027119751706544
         ],
         "type": "scatter"
        },
        {
         "fill": "toself",
         "line": {
          "color": "LightSeaGreen",
          "width": 2
         },
         "mode": "lines",
         "showlegend": false,
         "x": [
          -0.240234375,
          -0.23828125,
          -0.2421875
         ],
         "y": [
          0.5297752690389181,
          0.5263923573053851,
          0.5263923573053851
         ],
         "type": "scatter"
        },
        {
         "fill": "toself",
         "line": {
          "color": "LightSeaGreen",
          "width": 2
         },
         "mode": "lines",
         "showlegend": false,
         "x": [
          0.005859375,
          0.0078125,
          0.00390625
         ],
         "y": [
          0.14412333141616027,
          0.1407404196826273,
          0.1407404196826273
         ],
         "type": "scatter"
        },
        {
         "fill": "toself",
         "line": {
          "color": "LightSeaGreen",
          "width": 2
         },
         "mode": "lines",
         "showlegend": false,
         "x": [
          0.271484375,
          0.2734375,
          0.26953125
         ],
         "y": [
          0.4891803282365225,
          0.4857974165029896,
          0.4857974165029896
         ],
         "type": "scatter"
        },
        {
         "fill": "toself",
         "line": {
          "color": "LightSeaGreen",
          "width": 2
         },
         "mode": "lines",
         "showlegend": false,
         "x": [
          -0.12109375,
          -0.119140625,
          -0.123046875
         ],
         "y": [
          0.3437151236946051,
          0.34033221196107216,
          0.34033221196107216
         ],
         "type": "scatter"
        },
        {
         "fill": "toself",
         "line": {
          "color": "LightSeaGreen",
          "width": 2
         },
         "mode": "lines",
         "showlegend": false,
         "x": [
          -0.01953125,
          -0.017578125,
          -0.021484375
         ],
         "y": [
          0.9255759418622748,
          0.9221930301287418,
          0.9221930301287418
         ],
         "type": "scatter"
        },
        {
         "fill": "toself",
         "line": {
          "color": "LightSeaGreen",
          "width": 2
         },
         "mode": "lines",
         "showlegend": false,
         "x": [
          0.42578125,
          0.427734375,
          0.423828125
         ],
         "y": [
          0.14074041968262732,
          0.13735750794909435,
          0.13735750794909435
         ],
         "type": "scatter"
        },
        {
         "fill": "toself",
         "line": {
          "color": "LightSeaGreen",
          "width": 2
         },
         "mode": "lines",
         "showlegend": false,
         "x": [
          0.357421875,
          0.359375,
          0.35546875
         ],
         "y": [
          0.3809271527634678,
          0.37754424102993484,
          0.37754424102993484
         ],
         "type": "scatter"
        },
        {
         "fill": "toself",
         "line": {
          "color": "LightSeaGreen",
          "width": 2
         },
         "mode": "lines",
         "showlegend": false,
         "x": [
          -0.078125,
          -0.076171875,
          -0.080078125
         ],
         "y": [
          0.8646835306586815,
          0.8613006189251485,
          0.8613006189251485
         ],
         "type": "scatter"
        },
        {
         "fill": "toself",
         "line": {
          "color": "LightSeaGreen",
          "width": 2
         },
         "mode": "lines",
         "showlegend": false,
         "x": [
          -0.486328125,
          -0.484375,
          -0.48828125
         ],
         "y": [
          0.15765497835029213,
          0.15427206661675916,
          0.15427206661675916
         ],
         "type": "scatter"
        },
        {
         "fill": "toself",
         "line": {
          "color": "LightSeaGreen",
          "width": 2
         },
         "mode": "lines",
         "showlegend": false,
         "x": [
          0.060546875,
          0.0625,
          0.05859375
         ],
         "y": [
          0.23884485995508326,
          0.23546194822155028,
          0.23546194822155028
         ],
         "type": "scatter"
        },
        {
         "fill": "toself",
         "line": {
          "color": "LightSeaGreen",
          "width": 2
         },
         "mode": "lines",
         "showlegend": false,
         "x": [
          0.083984375,
          0.0859375,
          0.08203125
         ],
         "y": [
          0.5703702098413137,
          0.5669872981077807,
          0.5669872981077807
         ],
         "type": "scatter"
        },
        {
         "fill": "toself",
         "line": {
          "color": "LightSeaGreen",
          "width": 2
         },
         "mode": "lines",
         "showlegend": false,
         "x": [
          -0.087890625,
          -0.0859375,
          -0.08984375
         ],
         "y": [
          0.14412333141616027,
          0.1407404196826273,
          0.1407404196826273
         ],
         "type": "scatter"
        },
        {
         "fill": "toself",
         "line": {
          "color": "LightSeaGreen",
          "width": 2
         },
         "mode": "lines",
         "showlegend": false,
         "x": [
          0.107421875,
          0.109375,
          0.10546875
         ],
         "y": [
          0.732749973050896,
          0.729367061317363,
          0.729367061317363
         ],
         "type": "scatter"
        },
        {
         "fill": "toself",
         "line": {
          "color": "LightSeaGreen",
          "width": 2
         },
         "mode": "lines",
         "showlegend": false,
         "x": [
          0.21484375,
          0.216796875,
          0.212890625
         ],
         "y": [
          0.19486700741915475,
          0.19148409568562177,
          0.19148409568562177
         ],
         "type": "scatter"
        },
        {
         "fill": "toself",
         "line": {
          "color": "LightSeaGreen",
          "width": 2
         },
         "mode": "lines",
         "showlegend": false,
         "x": [
          0.025390625,
          0.02734375,
          0.0234375
         ],
         "y": [
          0.6109651506437093,
          0.6075822389101763,
          0.6075822389101763
         ],
         "type": "scatter"
        },
        {
         "fill": "toself",
         "line": {
          "color": "LightSeaGreen",
          "width": 2
         },
         "mode": "lines",
         "showlegend": false,
         "x": [
          -0.19921875,
          -0.197265625,
          -0.201171875
         ],
         "y": [
          0.357246770628737,
          0.35386385889520405,
          0.35386385889520405
         ],
         "type": "scatter"
        },
        {
         "fill": "toself",
         "line": {
          "color": "LightSeaGreen",
          "width": 2
         },
         "mode": "lines",
         "showlegend": false,
         "x": [
          0.39453125,
          0.396484375,
          0.392578125
         ],
         "y": [
          0.16780371355089102,
          0.16442080181735805,
          0.16442080181735805
         ],
         "type": "scatter"
        },
        {
         "fill": "toself",
         "line": {
          "color": "LightSeaGreen",
          "width": 2
         },
         "mode": "lines",
         "showlegend": false,
         "x": [
          0.462890625,
          0.46484375,
          0.4609375
         ],
         "y": [
          0.14412333141616027,
          0.1407404196826273,
          0.1407404196826273
         ],
         "type": "scatter"
        },
        {
         "fill": "toself",
         "line": {
          "color": "LightSeaGreen",
          "width": 2
         },
         "mode": "lines",
         "showlegend": false,
         "x": [
          -0.12890625,
          -0.126953125,
          -0.130859375
         ],
         "y": [
          0.14074041968262732,
          0.13735750794909435,
          0.13735750794909435
         ],
         "type": "scatter"
        },
        {
         "fill": "toself",
         "line": {
          "color": "LightSeaGreen",
          "width": 2
         },
         "mode": "lines",
         "showlegend": false,
         "x": [
          0.22265625,
          0.224609375,
          0.220703125
         ],
         "y": [
          0.3843100644970007,
          0.3809271527634678,
          0.3809271527634678
         ],
         "type": "scatter"
        },
        {
         "fill": "toself",
         "line": {
          "color": "LightSeaGreen",
          "width": 2
         },
         "mode": "lines",
         "showlegend": false,
         "x": [
          0.19140625,
          0.193359375,
          0.189453125
         ],
         "y": [
          0.2354619482215503,
          0.23207903648801734,
          0.23207903648801734
         ],
         "type": "scatter"
        },
        {
         "fill": "toself",
         "line": {
          "color": "LightSeaGreen",
          "width": 2
         },
         "mode": "lines",
         "showlegend": false,
         "x": [
          -0.244140625,
          -0.2421875,
          -0.24609375
         ],
         "y": [
          0.5433069159730499,
          0.5399240042395169,
          0.5399240042395169
         ],
         "type": "scatter"
        },
        {
         "fill": "toself",
         "line": {
          "color": "LightSeaGreen",
          "width": 2
         },
         "mode": "lines",
         "showlegend": false,
         "x": [
          0.169921875,
          0.171875,
          0.16796875
         ],
         "y": [
          0.638028444511973,
          0.63464553277844,
          0.63464553277844
         ],
         "type": "scatter"
        },
        {
         "fill": "toself",
         "line": {
          "color": "LightSeaGreen",
          "width": 2
         },
         "mode": "lines",
         "showlegend": false,
         "x": [
          0.07421875,
          0.076171875,
          0.072265625
         ],
         "y": [
          0.7902594725209563,
          0.7868765607874233,
          0.7868765607874233
         ],
         "type": "scatter"
        },
        {
         "fill": "toself",
         "line": {
          "color": "LightSeaGreen",
          "width": 2
         },
         "mode": "lines",
         "showlegend": false,
         "x": [
          -0.107421875,
          -0.10546875,
          -0.109375
         ],
         "y": [
          0.7868765607874233,
          0.7834936490538903,
          0.7834936490538903
         ],
         "type": "scatter"
        },
        {
         "fill": "toself",
         "line": {
          "color": "LightSeaGreen",
          "width": 2
         },
         "mode": "lines",
         "showlegend": false,
         "x": [
          0.4140625,
          0.416015625,
          0.412109375
         ],
         "y": [
          0.2557594186227481,
          0.25237650688921515,
          0.25237650688921515
         ],
         "type": "scatter"
        },
        {
         "fill": "toself",
         "line": {
          "color": "LightSeaGreen",
          "width": 2
         },
         "mode": "lines",
         "showlegend": false,
         "x": [
          0.150390625,
          0.15234375,
          0.1484375
         ],
         "y": [
          0.2726739772904129,
          0.26929106555688,
          0.26929106555688
         ],
         "type": "scatter"
        },
        {
         "fill": "toself",
         "line": {
          "color": "LightSeaGreen",
          "width": 2
         },
         "mode": "lines",
         "showlegend": false,
         "x": [
          -0.25390625,
          -0.251953125,
          -0.255859375
         ],
         "y": [
          0.5466898277065829,
          0.5433069159730499,
          0.5433069159730499
         ],
         "type": "scatter"
        },
        {
         "fill": "toself",
         "line": {
          "color": "LightSeaGreen",
          "width": 2
         },
         "mode": "lines",
         "showlegend": false,
         "x": [
          0.16796875,
          0.169921875,
          0.166015625
         ],
         "y": [
          0.15427206661675918,
          0.1508891548832262,
          0.1508891548832262
         ],
         "type": "scatter"
        },
        {
         "fill": "toself",
         "line": {
          "color": "LightSeaGreen",
          "width": 2
         },
         "mode": "lines",
         "showlegend": false,
         "x": [
          0.35546875,
          0.357421875,
          0.353515625
         ],
         "y": [
          0.14074041968262732,
          0.13735750794909435,
          0.13735750794909435
         ],
         "type": "scatter"
        },
        {
         "fill": "toself",
         "line": {
          "color": "LightSeaGreen",
          "width": 2
         },
         "mode": "lines",
         "showlegend": false,
         "x": [
          -0.150390625,
          -0.1484375,
          -0.15234375
         ],
         "y": [
          0.6041993271766433,
          0.6008164154431103,
          0.6008164154431103
         ],
         "type": "scatter"
        },
        {
         "fill": "toself",
         "line": {
          "color": "LightSeaGreen",
          "width": 2
         },
         "mode": "lines",
         "showlegend": false,
         "x": [
          0.142578125,
          0.14453125,
          0.140625
         ],
         "y": [
          0.3200347415598744,
          0.31665182982634144,
          0.31665182982634144
         ],
         "type": "scatter"
        },
        {
         "fill": "toself",
         "line": {
          "color": "LightSeaGreen",
          "width": 2
         },
         "mode": "lines",
         "showlegend": false,
         "x": [
          -0.435546875,
          -0.43359375,
          -0.4375
         ],
         "y": [
          0.23884485995508326,
          0.23546194822155028,
          0.23546194822155028
         ],
         "type": "scatter"
        },
        {
         "fill": "toself",
         "line": {
          "color": "LightSeaGreen",
          "width": 2
         },
         "mode": "lines",
         "showlegend": false,
         "x": [
          0.244140625,
          0.24609375,
          0.2421875
         ],
         "y": [
          0.5433069159730499,
          0.5399240042395169,
          0.5399240042395169
         ],
         "type": "scatter"
        },
        {
         "fill": "toself",
         "line": {
          "color": "LightSeaGreen",
          "width": 2
         },
         "mode": "lines",
         "showlegend": false,
         "x": [
          -0.15234375,
          -0.150390625,
          -0.154296875
         ],
         "y": [
          0.7226012378502971,
          0.7192183261167641,
          0.7192183261167641
         ],
         "type": "scatter"
        },
        {
         "fill": "toself",
         "line": {
          "color": "LightSeaGreen",
          "width": 2
         },
         "mode": "lines",
         "showlegend": false,
         "x": [
          0.138671875,
          0.140625,
          0.13671875
         ],
         "y": [
          0.6989208557155663,
          0.6955379439820333,
          0.6955379439820333
         ],
         "type": "scatter"
        },
        {
         "fill": "toself",
         "line": {
          "color": "LightSeaGreen",
          "width": 2
         },
         "mode": "lines",
         "showlegend": false,
         "x": [
          -0.26953125,
          -0.267578125,
          -0.271484375
         ],
         "y": [
          0.4790315930359236,
          0.47564868130239063,
          0.47564868130239063
         ],
         "type": "scatter"
        },
        {
         "fill": "toself",
         "line": {
          "color": "LightSeaGreen",
          "width": 2
         },
         "mode": "lines",
         "showlegend": false,
         "x": [
          0.05078125,
          0.052734375,
          0.048828125
         ],
         "y": [
          0.6549430031796378,
          0.6515600914461048,
          0.6515600914461048
         ],
         "type": "scatter"
        },
        {
         "fill": "toself",
         "line": {
          "color": "LightSeaGreen",
          "width": 2
         },
         "mode": "lines",
         "showlegend": false,
         "x": [
          -0.234375,
          -0.232421875,
          -0.236328125
         ],
         "y": [
          0.539924004239517,
          0.536541092505984,
          0.536541092505984
         ],
         "type": "scatter"
        },
        {
         "fill": "toself",
         "line": {
          "color": "LightSeaGreen",
          "width": 2
         },
         "mode": "lines",
         "showlegend": false,
         "x": [
          0.45703125,
          0.458984375,
          0.455078125
         ],
         "y": [
          0.16780371355089102,
          0.16442080181735805,
          0.16442080181735805
         ],
         "type": "scatter"
        },
        {
         "fill": "toself",
         "line": {
          "color": "LightSeaGreen",
          "width": 2
         },
         "mode": "lines",
         "showlegend": false,
         "x": [
          -0.291015625,
          -0.2890625,
          -0.29296875
         ],
         "y": [
          0.4147562700987974,
          0.41137335836526445,
          0.41137335836526445
         ],
         "type": "scatter"
        },
        {
         "fill": "toself",
         "line": {
          "color": "LightSeaGreen",
          "width": 2
         },
         "mode": "lines",
         "showlegend": false,
         "x": [
          -0.392578125,
          -0.390625,
          -0.39453125
         ],
         "y": [
          0.16442080181735805,
          0.16103789008382507,
          0.16103789008382507
         ],
         "type": "scatter"
        },
        {
         "fill": "toself",
         "line": {
          "color": "LightSeaGreen",
          "width": 2
         },
         "mode": "lines",
         "showlegend": false,
         "x": [
          0.064453125,
          0.06640625,
          0.0625
         ],
         "y": [
          0.6786233853143685,
          0.6752404735808355,
          0.6752404735808355
         ],
         "type": "scatter"
        },
        {
         "fill": "toself",
         "line": {
          "color": "LightSeaGreen",
          "width": 2
         },
         "mode": "lines",
         "showlegend": false,
         "x": [
          0.26953125,
          0.271484375,
          0.267578125
         ],
         "y": [
          0.46549994610179174,
          0.4621170343682588,
          0.4621170343682588
         ],
         "type": "scatter"
        },
        {
         "fill": "toself",
         "line": {
          "color": "LightSeaGreen",
          "width": 2
         },
         "mode": "lines",
         "showlegend": false,
         "x": [
          -0.412109375,
          -0.41015625,
          -0.4140625
         ],
         "y": [
          0.28620562422454476,
          0.2828227124910118,
          0.2828227124910118
         ],
         "type": "scatter"
        },
        {
         "fill": "toself",
         "line": {
          "color": "LightSeaGreen",
          "width": 2
         },
         "mode": "lines",
         "showlegend": false,
         "x": [
          0.27734375,
          0.279296875,
          0.275390625
         ],
         "y": [
          0.3843100644970007,
          0.3809271527634678,
          0.3809271527634678
         ],
         "type": "scatter"
        },
        {
         "fill": "toself",
         "line": {
          "color": "LightSeaGreen",
          "width": 2
         },
         "mode": "lines",
         "showlegend": false,
         "x": [
          -0.392578125,
          -0.390625,
          -0.39453125
         ],
         "y": [
          0.3200347415598744,
          0.31665182982634144,
          0.31665182982634144
         ],
         "type": "scatter"
        },
        {
         "fill": "toself",
         "line": {
          "color": "LightSeaGreen",
          "width": 2
         },
         "mode": "lines",
         "showlegend": false,
         "x": [
          -0.26953125,
          -0.267578125,
          -0.271484375
         ],
         "y": [
          0.46549994610179174,
          0.4621170343682588,
          0.4621170343682588
         ],
         "type": "scatter"
        },
        {
         "fill": "toself",
         "line": {
          "color": "LightSeaGreen",
          "width": 2
         },
         "mode": "lines",
         "showlegend": false,
         "x": [
          0.271484375,
          0.2734375,
          0.26953125
         ],
         "y": [
          0.5162436221047862,
          0.5128607103712532,
          0.5128607103712532
         ],
         "type": "scatter"
        },
        {
         "fill": "toself",
         "line": {
          "color": "LightSeaGreen",
          "width": 2
         },
         "mode": "lines",
         "showlegend": false,
         "x": [
          0.166015625,
          0.16796875,
          0.1640625
         ],
         "y": [
          0.6921550322485004,
          0.6887721205149674,
          0.6887721205149674
         ],
         "type": "scatter"
        },
        {
         "fill": "toself",
         "line": {
          "color": "LightSeaGreen",
          "width": 2
         },
         "mode": "lines",
         "showlegend": false,
         "x": [
          -0.154296875,
          -0.15234375,
          -0.15625
         ],
         "y": [
          0.40122462316466556,
          0.3978417114311326,
          0.3978417114311326
         ],
         "type": "scatter"
        },
        {
         "fill": "toself",
         "line": {
          "color": "LightSeaGreen",
          "width": 2
         },
         "mode": "lines",
         "showlegend": false,
         "x": [
          0.388671875,
          0.390625,
          0.38671875
         ],
         "y": [
          0.3200347415598744,
          0.31665182982634144,
          0.31665182982634144
         ],
         "type": "scatter"
        },
        {
         "fill": "toself",
         "line": {
          "color": "LightSeaGreen",
          "width": 2
         },
         "mode": "lines",
         "showlegend": false,
         "x": [
          0.142578125,
          0.14453125,
          0.140625
         ],
         "y": [
          0.7056866791826322,
          0.7023037674490992,
          0.7023037674490992
         ],
         "type": "scatter"
        },
        {
         "fill": "toself",
         "line": {
          "color": "LightSeaGreen",
          "width": 2
         },
         "mode": "lines",
         "showlegend": false,
         "x": [
          -0.30859375,
          -0.306640625,
          -0.310546875
         ],
         "y": [
          0.357246770628737,
          0.35386385889520405,
          0.35386385889520405
         ],
         "type": "scatter"
        },
        {
         "fill": "toself",
         "line": {
          "color": "LightSeaGreen",
          "width": 2
         },
         "mode": "lines",
         "showlegend": false,
         "x": [
          -0.404296875,
          -0.40234375,
          -0.40625
         ],
         "y": [
          0.2929714476916107,
          0.28958853595807776,
          0.28958853595807776
         ],
         "type": "scatter"
        },
        {
         "fill": "toself",
         "line": {
          "color": "LightSeaGreen",
          "width": 2
         },
         "mode": "lines",
         "showlegend": false,
         "x": [
          0.0859375,
          0.087890625,
          0.083984375
         ],
         "y": [
          0.2828227124910118,
          0.2794398007574789,
          0.2794398007574789
         ],
         "type": "scatter"
        },
        {
         "fill": "toself",
         "line": {
          "color": "LightSeaGreen",
          "width": 2
         },
         "mode": "lines",
         "showlegend": false,
         "x": [
          -0.267578125,
          -0.265625,
          -0.26953125
         ],
         "y": [
          0.5297752690389181,
          0.5263923573053851,
          0.5263923573053851
         ],
         "type": "scatter"
        },
        {
         "fill": "toself",
         "line": {
          "color": "LightSeaGreen",
          "width": 2
         },
         "mode": "lines",
         "showlegend": false,
         "x": [
          0.083984375,
          0.0859375,
          0.08203125
         ],
         "y": [
          0.7124525026496981,
          0.7090695909161651,
          0.7090695909161651
         ],
         "type": "scatter"
        },
        {
         "fill": "toself",
         "line": {
          "color": "LightSeaGreen",
          "width": 2
         },
         "mode": "lines",
         "showlegend": false,
         "x": [
          -0.064453125,
          -0.0625,
          -0.06640625
         ],
         "y": [
          0.8883639127934122,
          0.8849810010598792,
          0.8849810010598792
         ],
         "type": "scatter"
        },
        {
         "fill": "toself",
         "line": {
          "color": "LightSeaGreen",
          "width": 2
         },
         "mode": "lines",
         "showlegend": false,
         "x": [
          0.099609375,
          0.1015625,
          0.09765625
         ],
         "y": [
          0.5703702098413137,
          0.5669872981077807,
          0.5669872981077807
         ],
         "type": "scatter"
        },
        {
         "fill": "toself",
         "line": {
          "color": "LightSeaGreen",
          "width": 2
         },
         "mode": "lines",
         "showlegend": false,
         "x": [
          -0.27734375,
          -0.275390625,
          -0.279296875
         ],
         "y": [
          0.18133536048502288,
          0.1779524487514899,
          0.1779524487514899
         ],
         "type": "scatter"
        },
        {
         "fill": "toself",
         "line": {
          "color": "LightSeaGreen",
          "width": 2
         },
         "mode": "lines",
         "showlegend": false,
         "x": [
          0.193359375,
          0.1953125,
          0.19140625
         ],
         "y": [
          0.23207903648801734,
          0.22869612475448436,
          0.22869612475448436
         ],
         "type": "scatter"
        },
        {
         "fill": "toself",
         "line": {
          "color": "LightSeaGreen",
          "width": 2
         },
         "mode": "lines",
         "showlegend": false,
         "x": [
          0.279296875,
          0.28125,
          0.27734375
         ],
         "y": [
          0.16442080181735805,
          0.16103789008382507,
          0.16103789008382507
         ],
         "type": "scatter"
        },
        {
         "fill": "toself",
         "line": {
          "color": "LightSeaGreen",
          "width": 2
         },
         "mode": "lines",
         "showlegend": false,
         "x": [
          0.076171875,
          0.078125,
          0.07421875
         ],
         "y": [
          0.1508891548832262,
          0.14750624314969324,
          0.14750624314969324
         ],
         "type": "scatter"
        },
        {
         "fill": "toself",
         "line": {
          "color": "LightSeaGreen",
          "width": 2
         },
         "mode": "lines",
         "showlegend": false,
         "x": [
          -0.185546875,
          -0.18359375,
          -0.1875
         ],
         "y": [
          0.6515600914461048,
          0.6481771797125718,
          0.6481771797125718
         ],
         "type": "scatter"
        },
        {
         "fill": "toself",
         "line": {
          "color": "LightSeaGreen",
          "width": 2
         },
         "mode": "lines",
         "showlegend": false,
         "x": [
          0.224609375,
          0.2265625,
          0.22265625
         ],
         "y": [
          0.5974335037095774,
          0.5940505919760444,
          0.5940505919760444
         ],
         "type": "scatter"
        },
        {
         "fill": "toself",
         "line": {
          "color": "LightSeaGreen",
          "width": 2
         },
         "mode": "lines",
         "showlegend": false,
         "x": [
          0.083984375,
          0.0859375,
          0.08203125
         ],
         "y": [
          0.7056866791826322,
          0.7023037674490992,
          0.7023037674490992
         ],
         "type": "scatter"
        },
        {
         "fill": "toself",
         "line": {
          "color": "LightSeaGreen",
          "width": 2
         },
         "mode": "lines",
         "showlegend": false,
         "x": [
          -0.142578125,
          -0.140625,
          -0.14453125
         ],
         "y": [
          0.1508891548832262,
          0.14750624314969324,
          0.14750624314969324
         ],
         "type": "scatter"
        },
        {
         "fill": "toself",
         "line": {
          "color": "LightSeaGreen",
          "width": 2
         },
         "mode": "lines",
         "showlegend": false,
         "x": [
          0.36328125,
          0.365234375,
          0.361328125
         ],
         "y": [
          0.262525242089814,
          0.25914233035628104,
          0.25914233035628104
         ],
         "type": "scatter"
        },
        {
         "fill": "toself",
         "line": {
          "color": "LightSeaGreen",
          "width": 2
         },
         "mode": "lines",
         "showlegend": false,
         "x": [
          -0.267578125,
          -0.265625,
          -0.26953125
         ],
         "y": [
          0.4891803282365225,
          0.4857974165029896,
          0.4857974165029896
         ],
         "type": "scatter"
        },
        {
         "fill": "toself",
         "line": {
          "color": "LightSeaGreen",
          "width": 2
         },
         "mode": "lines",
         "showlegend": false,
         "x": [
          0.072265625,
          0.07421875,
          0.0703125
         ],
         "y": [
          0.6583259149131707,
          0.6549430031796377,
          0.6549430031796377
         ],
         "type": "scatter"
        },
        {
         "fill": "toself",
         "line": {
          "color": "LightSeaGreen",
          "width": 2
         },
         "mode": "lines",
         "showlegend": false,
         "x": [
          -0.287109375,
          -0.28515625,
          -0.2890625
         ],
         "y": [
          0.36062968236227,
          0.35724677062873705,
          0.35724677062873705
         ],
         "type": "scatter"
        },
        {
         "fill": "toself",
         "line": {
          "color": "LightSeaGreen",
          "width": 2
         },
         "mode": "lines",
         "showlegend": false,
         "x": [
          -0.349609375,
          -0.34765625,
          -0.3515625
         ],
         "y": [
          0.16442080181735805,
          0.16103789008382507,
          0.16103789008382507
         ],
         "type": "scatter"
        },
        {
         "fill": "toself",
         "line": {
          "color": "LightSeaGreen",
          "width": 2
         },
         "mode": "lines",
         "showlegend": false,
         "x": [
          0.025390625,
          0.02734375,
          0.0234375
         ],
         "y": [
          0.9221930301287418,
          0.9188101183952088,
          0.9188101183952088
         ],
         "type": "scatter"
        },
        {
         "fill": "toself",
         "line": {
          "color": "LightSeaGreen",
          "width": 2
         },
         "mode": "lines",
         "showlegend": false,
         "x": [
          0.080078125,
          0.08203125,
          0.078125
         ],
         "y": [
          0.6447942679790389,
          0.6414113562455059,
          0.6414113562455059
         ],
         "type": "scatter"
        },
        {
         "fill": "toself",
         "line": {
          "color": "LightSeaGreen",
          "width": 2
         },
         "mode": "lines",
         "showlegend": false,
         "x": [
          0.0234375,
          0.025390625,
          0.021484375
         ],
         "y": [
          0.905278471461077,
          0.901895559727544,
          0.901895559727544
         ],
         "type": "scatter"
        },
        {
         "fill": "toself",
         "line": {
          "color": "LightSeaGreen",
          "width": 2
         },
         "mode": "lines",
         "showlegend": false,
         "x": [
          -0.19921875,
          -0.197265625,
          -0.201171875
         ],
         "y": [
          0.15427206661675918,
          0.1508891548832262,
          0.1508891548832262
         ],
         "type": "scatter"
        },
        {
         "fill": "toself",
         "line": {
          "color": "LightSeaGreen",
          "width": 2
         },
         "mode": "lines",
         "showlegend": false,
         "x": [
          0.08984375,
          0.091796875,
          0.087890625
         ],
         "y": [
          0.2760568890239459,
          0.2726739772904129,
          0.2726739772904129
         ],
         "type": "scatter"
        },
        {
         "fill": "toself",
         "line": {
          "color": "LightSeaGreen",
          "width": 2
         },
         "mode": "lines",
         "showlegend": false,
         "x": [
          -0.455078125,
          -0.453125,
          -0.45703125
         ],
         "y": [
          0.20501574261975364,
          0.20163283088622067,
          0.20163283088622067
         ],
         "type": "scatter"
        },
        {
         "fill": "toself",
         "line": {
          "color": "LightSeaGreen",
          "width": 2
         },
         "mode": "lines",
         "showlegend": false,
         "x": [
          -0.314453125,
          -0.3125,
          -0.31640625
         ],
         "y": [
          0.4350537404999952,
          0.43167082876646223,
          0.43167082876646223
         ],
         "type": "scatter"
        },
        {
         "fill": "toself",
         "line": {
          "color": "LightSeaGreen",
          "width": 2
         },
         "mode": "lines",
         "showlegend": false,
         "x": [
          -0.115234375,
          -0.11328125,
          -0.1171875
         ],
         "y": [
          0.8004082077215552,
          0.7970252959880222,
          0.7970252959880222
         ],
         "type": "scatter"
        },
        {
         "fill": "toself",
         "line": {
          "color": "LightSeaGreen",
          "width": 2
         },
         "mode": "lines",
         "showlegend": false,
         "x": [
          0.32421875,
          0.326171875,
          0.322265625
         ],
         "y": [
          0.2083986543532866,
          0.20501574261975364,
          0.20501574261975364
         ],
         "type": "scatter"
        },
        {
         "fill": "toself",
         "line": {
          "color": "LightSeaGreen",
          "width": 2
         },
         "mode": "lines",
         "showlegend": false,
         "x": [
          0.099609375,
          0.1015625,
          0.09765625
         ],
         "y": [
          0.5771360333083796,
          0.5737531215748466,
          0.5737531215748466
         ],
         "type": "scatter"
        },
        {
         "fill": "toself",
         "line": {
          "color": "LightSeaGreen",
          "width": 2
         },
         "mode": "lines",
         "showlegend": false,
         "x": [
          0.267578125,
          0.26953125,
          0.265625
         ],
         "y": [
          0.4824145047694566,
          0.47903159303592363,
          0.47903159303592363
         ],
         "type": "scatter"
        },
        {
         "fill": "toself",
         "line": {
          "color": "LightSeaGreen",
          "width": 2
         },
         "mode": "lines",
         "showlegend": false,
         "x": [
          -0.146484375,
          -0.14453125,
          -0.1484375
         ],
         "y": [
          0.6853892087814344,
          0.6820062970479014,
          0.6820062970479014
         ],
         "type": "scatter"
        },
        {
         "fill": "toself",
         "line": {
          "color": "LightSeaGreen",
          "width": 2
         },
         "mode": "lines",
         "showlegend": false,
         "x": [
          -0.056640625,
          -0.0546875,
          -0.05859375
         ],
         "y": [
          0.6515600914461048,
          0.6481771797125718,
          0.6481771797125718
         ],
         "type": "scatter"
        },
        {
         "fill": "toself",
         "line": {
          "color": "LightSeaGreen",
          "width": 2
         },
         "mode": "lines",
         "showlegend": false,
         "x": [
          0.373046875,
          0.375,
          0.37109375
         ],
         "y": [
          0.3268005650269403,
          0.3234176532934074,
          0.3234176532934074
         ],
         "type": "scatter"
        },
        {
         "fill": "toself",
         "line": {
          "color": "LightSeaGreen",
          "width": 2
         },
         "mode": "lines",
         "showlegend": false,
         "x": [
          -0.236328125,
          -0.234375,
          -0.23828125
         ],
         "y": [
          0.5703702098413137,
          0.5669872981077807,
          0.5669872981077807
         ],
         "type": "scatter"
        },
        {
         "fill": "toself",
         "line": {
          "color": "LightSeaGreen",
          "width": 2
         },
         "mode": "lines",
         "showlegend": false,
         "x": [
          -0.173828125,
          -0.171875,
          -0.17578125
         ],
         "y": [
          0.2456106834221492,
          0.24222777168861623,
          0.24222777168861623
         ],
         "type": "scatter"
        },
        {
         "fill": "toself",
         "line": {
          "color": "LightSeaGreen",
          "width": 2
         },
         "mode": "lines",
         "showlegend": false,
         "x": [
          0.177734375,
          0.1796875,
          0.17578125
         ],
         "y": [
          0.6583259149131707,
          0.6549430031796377,
          0.6549430031796377
         ],
         "type": "scatter"
        },
        {
         "fill": "toself",
         "line": {
          "color": "LightSeaGreen",
          "width": 2
         },
         "mode": "lines",
         "showlegend": false,
         "x": [
          -0.3203125,
          -0.318359375,
          -0.322265625
         ],
         "y": [
          0.20163283088622067,
          0.1982499191526877,
          0.1982499191526877
         ],
         "type": "scatter"
        },
        {
         "fill": "toself",
         "line": {
          "color": "LightSeaGreen",
          "width": 2
         },
         "mode": "lines",
         "showlegend": false,
         "x": [
          0.052734375,
          0.0546875,
          0.05078125
         ],
         "y": [
          0.20501574261975364,
          0.20163283088622067,
          0.20163283088622067
         ],
         "type": "scatter"
        },
        {
         "fill": "toself",
         "line": {
          "color": "LightSeaGreen",
          "width": 2
         },
         "mode": "lines",
         "showlegend": false,
         "x": [
          0.056640625,
          0.05859375,
          0.0546875
         ],
         "y": [
          0.13735750794909435,
          0.13397459621556138,
          0.13397459621556138
         ],
         "type": "scatter"
        },
        {
         "fill": "toself",
         "line": {
          "color": "LightSeaGreen",
          "width": 2
         },
         "mode": "lines",
         "showlegend": false,
         "x": [
          0.205078125,
          0.20703125,
          0.203125
         ],
         "y": [
          0.4215220935658633,
          0.41813918183233034,
          0.41813918183233034
         ],
         "type": "scatter"
        },
        {
         "fill": "toself",
         "line": {
          "color": "LightSeaGreen",
          "width": 2
         },
         "mode": "lines",
         "showlegend": false,
         "x": [
          -0.17578125,
          -0.173828125,
          -0.177734375
         ],
         "y": [
          0.6820062970479015,
          0.6786233853143685,
          0.6786233853143685
         ],
         "type": "scatter"
        },
        {
         "fill": "toself",
         "line": {
          "color": "LightSeaGreen",
          "width": 2
         },
         "mode": "lines",
         "showlegend": false,
         "x": [
          -0.158203125,
          -0.15625,
          -0.16015625
         ],
         "y": [
          0.18471827221855583,
          0.18133536048502286,
          0.18133536048502286
         ],
         "type": "scatter"
        },
        {
         "fill": "toself",
         "line": {
          "color": "LightSeaGreen",
          "width": 2
         },
         "mode": "lines",
         "showlegend": false,
         "x": [
          -0.23828125,
          -0.236328125,
          -0.240234375
         ],
         "y": [
          0.5331581807724511,
          0.5297752690389181,
          0.5297752690389181
         ],
         "type": "scatter"
        },
        {
         "fill": "toself",
         "line": {
          "color": "LightSeaGreen",
          "width": 2
         },
         "mode": "lines",
         "showlegend": false,
         "x": [
          -0.015625,
          -0.013671875,
          -0.017578125
         ],
         "y": [
          0.9188101183952089,
          0.9154272066616759,
          0.9154272066616759
         ],
         "type": "scatter"
        },
        {
         "fill": "toself",
         "line": {
          "color": "LightSeaGreen",
          "width": 2
         },
         "mode": "lines",
         "showlegend": false,
         "x": [
          0.13671875,
          0.138671875,
          0.134765625
         ],
         "y": [
          0.262525242089814,
          0.25914233035628104,
          0.25914233035628104
         ],
         "type": "scatter"
        },
        {
         "fill": "toself",
         "line": {
          "color": "LightSeaGreen",
          "width": 2
         },
         "mode": "lines",
         "showlegend": false,
         "x": [
          -0.26171875,
          -0.259765625,
          -0.263671875
         ],
         "y": [
          0.5196265338383192,
          0.5162436221047862,
          0.5162436221047862
         ],
         "type": "scatter"
        },
        {
         "fill": "toself",
         "line": {
          "color": "LightSeaGreen",
          "width": 2
         },
         "mode": "lines",
         "showlegend": false,
         "x": [
          0.3671875,
          0.369140625,
          0.365234375
         ],
         "y": [
          0.14750624314969324,
          0.14412333141616027,
          0.14412333141616027
         ],
         "type": "scatter"
        },
        {
         "fill": "toself",
         "line": {
          "color": "LightSeaGreen",
          "width": 2
         },
         "mode": "lines",
         "showlegend": false,
         "x": [
          -0.158203125,
          -0.15625,
          -0.16015625
         ],
         "y": [
          0.19148409568562177,
          0.1881011839520888,
          0.1881011839520888
         ],
         "type": "scatter"
        },
        {
         "fill": "toself",
         "line": {
          "color": "LightSeaGreen",
          "width": 2
         },
         "mode": "lines",
         "showlegend": false,
         "x": [
          0.27734375,
          0.279296875,
          0.275390625
         ],
         "y": [
          0.3843100644970007,
          0.3809271527634678,
          0.3809271527634678
         ],
         "type": "scatter"
        },
        {
         "fill": "toself",
         "line": {
          "color": "LightSeaGreen",
          "width": 2
         },
         "mode": "lines",
         "showlegend": false,
         "x": [
          -0.099609375,
          -0.09765625,
          -0.1015625
         ],
         "y": [
          0.6041993271766433,
          0.6008164154431103,
          0.6008164154431103
         ],
         "type": "scatter"
        },
        {
         "fill": "toself",
         "line": {
          "color": "LightSeaGreen",
          "width": 2
         },
         "mode": "lines",
         "showlegend": false,
         "x": [
          0.177734375,
          0.1796875,
          0.17578125
         ],
         "y": [
          0.14412333141616027,
          0.1407404196826273,
          0.1407404196826273
         ],
         "type": "scatter"
        },
        {
         "fill": "toself",
         "line": {
          "color": "LightSeaGreen",
          "width": 2
         },
         "mode": "lines",
         "showlegend": false,
         "x": [
          -0.103515625,
          -0.1015625,
          -0.10546875
         ],
         "y": [
          0.5771360333083796,
          0.5737531215748466,
          0.5737531215748466
         ],
         "type": "scatter"
        },
        {
         "fill": "toself",
         "line": {
          "color": "LightSeaGreen",
          "width": 2
         },
         "mode": "lines",
         "showlegend": false,
         "x": [
          -0.298828125,
          -0.296875,
          -0.30078125
         ],
         "y": [
          0.4215220935658633,
          0.41813918183233034,
          0.41813918183233034
         ],
         "type": "scatter"
        },
        {
         "fill": "toself",
         "line": {
          "color": "LightSeaGreen",
          "width": 2
         },
         "mode": "lines",
         "showlegend": false,
         "x": [
          -0.01171875,
          -0.009765625,
          -0.013671875
         ],
         "y": [
          0.9797025295988022,
          0.9763196178652692,
          0.9763196178652692
         ],
         "type": "scatter"
        },
        {
         "fill": "toself",
         "line": {
          "color": "LightSeaGreen",
          "width": 2
         },
         "mode": "lines",
         "showlegend": false,
         "x": [
          0.416015625,
          0.41796875,
          0.4140625
         ],
         "y": [
          0.13735750794909435,
          0.13397459621556138,
          0.13397459621556138
         ],
         "type": "scatter"
        },
        {
         "fill": "toself",
         "line": {
          "color": "LightSeaGreen",
          "width": 2
         },
         "mode": "lines",
         "showlegend": false,
         "x": [
          -0.18359375,
          -0.181640625,
          -0.185546875
         ],
         "y": [
          0.2354619482215503,
          0.23207903648801734,
          0.23207903648801734
         ],
         "type": "scatter"
        },
        {
         "fill": "toself",
         "line": {
          "color": "LightSeaGreen",
          "width": 2
         },
         "mode": "lines",
         "showlegend": false,
         "x": [
          0.298828125,
          0.30078125,
          0.296875
         ],
         "y": [
          0.1508891548832262,
          0.14750624314969324,
          0.14750624314969324
         ],
         "type": "scatter"
        },
        {
         "fill": "toself",
         "line": {
          "color": "LightSeaGreen",
          "width": 2
         },
         "mode": "lines",
         "showlegend": false,
         "x": [
          -0.357421875,
          -0.35546875,
          -0.359375
         ],
         "y": [
          0.25914233035628104,
          0.2557594186227481,
          0.2557594186227481
         ],
         "type": "scatter"
        },
        {
         "fill": "toself",
         "line": {
          "color": "LightSeaGreen",
          "width": 2
         },
         "mode": "lines",
         "showlegend": false,
         "x": [
          0.12109375,
          0.123046875,
          0.119140625
         ],
         "y": [
          0.3437151236946051,
          0.34033221196107216,
          0.34033221196107216
         ],
         "type": "scatter"
        },
        {
         "fill": "toself",
         "line": {
          "color": "LightSeaGreen",
          "width": 2
         },
         "mode": "lines",
         "showlegend": false,
         "x": [
          -0.103515625,
          -0.1015625,
          -0.10546875
         ],
         "y": [
          0.7868765607874233,
          0.7834936490538903,
          0.7834936490538903
         ],
         "type": "scatter"
        },
        {
         "fill": "toself",
         "line": {
          "color": "LightSeaGreen",
          "width": 2
         },
         "mode": "lines",
         "showlegend": false,
         "x": [
          0.189453125,
          0.19140625,
          0.1875
         ],
         "y": [
          0.6718575618473026,
          0.6684746501137696,
          0.6684746501137696
         ],
         "type": "scatter"
        },
        {
         "fill": "toself",
         "line": {
          "color": "LightSeaGreen",
          "width": 2
         },
         "mode": "lines",
         "showlegend": false,
         "x": [
          -0.10546875,
          -0.103515625,
          -0.107421875
         ],
         "y": [
          0.262525242089814,
          0.25914233035628104,
          0.25914233035628104
         ],
         "type": "scatter"
        },
        {
         "fill": "toself",
         "line": {
          "color": "LightSeaGreen",
          "width": 2
         },
         "mode": "lines",
         "showlegend": false,
         "x": [
          0.318359375,
          0.3203125,
          0.31640625
         ],
         "y": [
          0.14412333141616027,
          0.1407404196826273,
          0.1407404196826273
         ],
         "type": "scatter"
        },
        {
         "fill": "toself",
         "line": {
          "color": "LightSeaGreen",
          "width": 2
         },
         "mode": "lines",
         "showlegend": false,
         "x": [
          -0.365234375,
          -0.36328125,
          -0.3671875
         ],
         "y": [
          0.31326891809280843,
          0.3098860063592755,
          0.3098860063592755
         ],
         "type": "scatter"
        },
        {
         "fill": "toself",
         "line": {
          "color": "LightSeaGreen",
          "width": 2
         },
         "mode": "lines",
         "showlegend": false,
         "x": [
          -0.21484375,
          -0.212890625,
          -0.216796875
         ],
         "y": [
          0.4113733583652644,
          0.40799044663173145,
          0.40799044663173145
         ],
         "type": "scatter"
        },
        {
         "fill": "toself",
         "line": {
          "color": "LightSeaGreen",
          "width": 2
         },
         "mode": "lines",
         "showlegend": false,
         "x": [
          0.091796875,
          0.09375,
          0.08984375
         ],
         "y": [
          0.7868765607874233,
          0.7834936490538903,
          0.7834936490538903
         ],
         "type": "scatter"
        },
        {
         "fill": "toself",
         "line": {
          "color": "LightSeaGreen",
          "width": 2
         },
         "mode": "lines",
         "showlegend": false,
         "x": [
          -0.302734375,
          -0.30078125,
          -0.3046875
         ],
         "y": [
          0.4418195639670611,
          0.4384366522335282,
          0.4384366522335282
         ],
         "type": "scatter"
        },
        {
         "fill": "toself",
         "line": {
          "color": "LightSeaGreen",
          "width": 2
         },
         "mode": "lines",
         "showlegend": false,
         "x": [
          -0.154296875,
          -0.15234375,
          -0.15625
         ],
         "y": [
          0.2929714476916107,
          0.28958853595807776,
          0.28958853595807776
         ],
         "type": "scatter"
        },
        {
         "fill": "toself",
         "line": {
          "color": "LightSeaGreen",
          "width": 2
         },
         "mode": "lines",
         "showlegend": false,
         "x": [
          0.208984375,
          0.2109375,
          0.20703125
         ],
         "y": [
          0.17118662528442397,
          0.167803713550891,
          0.167803713550891
         ],
         "type": "scatter"
        },
        {
         "fill": "toself",
         "line": {
          "color": "LightSeaGreen",
          "width": 2
         },
         "mode": "lines",
         "showlegend": false,
         "x": [
          0.45703125,
          0.458984375,
          0.455078125
         ],
         "y": [
          0.14074041968262732,
          0.13735750794909435,
          0.13735750794909435
         ],
         "type": "scatter"
        },
        {
         "fill": "toself",
         "line": {
          "color": "LightSeaGreen",
          "width": 2
         },
         "mode": "lines",
         "showlegend": false,
         "x": [
          -0.408203125,
          -0.40625,
          -0.41015625
         ],
         "y": [
          0.2726739772904129,
          0.26929106555688,
          0.26929106555688
         ],
         "type": "scatter"
        },
        {
         "fill": "toself",
         "line": {
          "color": "LightSeaGreen",
          "width": 2
         },
         "mode": "lines",
         "showlegend": false,
         "x": [
          0.197265625,
          0.19921875,
          0.1953125
         ],
         "y": [
          0.47564868130239063,
          0.4722657695688577,
          0.4722657695688577
         ],
         "type": "scatter"
        },
        {
         "fill": "toself",
         "line": {
          "color": "LightSeaGreen",
          "width": 2
         },
         "mode": "lines",
         "showlegend": false,
         "x": [
          -0.208984375,
          -0.20703125,
          -0.2109375
         ],
         "y": [
          0.5974335037095774,
          0.5940505919760444,
          0.5940505919760444
         ],
         "type": "scatter"
        },
        {
         "fill": "toself",
         "line": {
          "color": "LightSeaGreen",
          "width": 2
         },
         "mode": "lines",
         "showlegend": false,
         "x": [
          0.263671875,
          0.265625,
          0.26171875
         ],
         "y": [
          0.536541092505984,
          0.533158180772451,
          0.533158180772451
         ],
         "type": "scatter"
        },
        {
         "fill": "toself",
         "line": {
          "color": "LightSeaGreen",
          "width": 2
         },
         "mode": "lines",
         "showlegend": false,
         "x": [
          0.080078125,
          0.08203125,
          0.078125
         ],
         "y": [
          0.6244967975778412,
          0.6211138858443082,
          0.6211138858443082
         ],
         "type": "scatter"
        },
        {
         "fill": "toself",
         "line": {
          "color": "LightSeaGreen",
          "width": 2
         },
         "mode": "lines",
         "showlegend": false,
         "x": [
          -0.169921875,
          -0.16796875,
          -0.171875
         ],
         "y": [
          0.35386385889520405,
          0.3504809471616711,
          0.3504809471616711
         ],
         "type": "scatter"
        },
        {
         "fill": "toself",
         "line": {
          "color": "LightSeaGreen",
          "width": 2
         },
         "mode": "lines",
         "showlegend": false,
         "x": [
          -0.310546875,
          -0.30859375,
          -0.3125
         ],
         "y": [
          0.23207903648801734,
          0.22869612475448436,
          0.22869612475448436
         ],
         "type": "scatter"
        },
        {
         "fill": "toself",
         "line": {
          "color": "LightSeaGreen",
          "width": 2
         },
         "mode": "lines",
         "showlegend": false,
         "x": [
          0.3359375,
          0.337890625,
          0.333984375
         ],
         "y": [
          0.14750624314969324,
          0.14412333141616027,
          0.14412333141616027
         ],
         "type": "scatter"
        },
        {
         "fill": "toself",
         "line": {
          "color": "LightSeaGreen",
          "width": 2
         },
         "mode": "lines",
         "showlegend": false,
         "x": [
          -0.1484375,
          -0.146484375,
          -0.150390625
         ],
         "y": [
          0.39107588796406667,
          0.3876929762305337,
          0.3876929762305337
         ],
         "type": "scatter"
        },
        {
         "fill": "toself",
         "line": {
          "color": "LightSeaGreen",
          "width": 2
         },
         "mode": "lines",
         "showlegend": false,
         "x": [
          -0.419921875,
          -0.41796875,
          -0.421875
         ],
         "y": [
          0.2456106834221492,
          0.24222777168861623,
          0.24222777168861623
         ],
         "type": "scatter"
        },
        {
         "fill": "toself",
         "line": {
          "color": "LightSeaGreen",
          "width": 2
         },
         "mode": "lines",
         "showlegend": false,
         "x": [
          0.341796875,
          0.34375,
          0.33984375
         ],
         "y": [
          0.35386385889520405,
          0.3504809471616711,
          0.3504809471616711
         ],
         "type": "scatter"
        },
        {
         "fill": "toself",
         "line": {
          "color": "LightSeaGreen",
          "width": 2
         },
         "mode": "lines",
         "showlegend": false,
         "x": [
          -0.166015625,
          -0.1640625,
          -0.16796875
         ],
         "y": [
          0.5839018567754456,
          0.5805189450419126,
          0.5805189450419126
         ],
         "type": "scatter"
        },
        {
         "fill": "toself",
         "line": {
          "color": "LightSeaGreen",
          "width": 2
         },
         "mode": "lines",
         "showlegend": false,
         "x": [
          0.130859375,
          0.1328125,
          0.12890625
         ],
         "y": [
          0.2997372711586766,
          0.29635435942514365,
          0.29635435942514365
         ],
         "type": "scatter"
        },
        {
         "fill": "toself",
         "line": {
          "color": "LightSeaGreen",
          "width": 2
         },
         "mode": "lines",
         "showlegend": false,
         "x": [
          0.287109375,
          0.2890625,
          0.28515625
         ],
         "y": [
          0.35386385889520405,
          0.3504809471616711,
          0.3504809471616711
         ],
         "type": "scatter"
        },
        {
         "fill": "toself",
         "line": {
          "color": "LightSeaGreen",
          "width": 2
         },
         "mode": "lines",
         "showlegend": false,
         "x": [
          -0.302734375,
          -0.30078125,
          -0.3046875
         ],
         "y": [
          0.47564868130239063,
          0.4722657695688577,
          0.4722657695688577
         ],
         "type": "scatter"
        },
        {
         "fill": "toself",
         "line": {
          "color": "LightSeaGreen",
          "width": 2
         },
         "mode": "lines",
         "showlegend": false,
         "x": [
          0.19921875,
          0.201171875,
          0.197265625
         ],
         "y": [
          0.6278797093113742,
          0.6244967975778412,
          0.6244967975778412
         ],
         "type": "scatter"
        },
        {
         "fill": "toself",
         "line": {
          "color": "LightSeaGreen",
          "width": 2
         },
         "mode": "lines",
         "showlegend": false,
         "x": [
          -0.24609375,
          -0.244140625,
          -0.248046875
         ],
         "y": [
          0.5196265338383192,
          0.5162436221047862,
          0.5162436221047862
         ],
         "type": "scatter"
        },
        {
         "fill": "toself",
         "line": {
          "color": "LightSeaGreen",
          "width": 2
         },
         "mode": "lines",
         "showlegend": false,
         "x": [
          -0.419921875,
          -0.41796875,
          -0.421875
         ],
         "y": [
          0.25914233035628104,
          0.2557594186227481,
          0.2557594186227481
         ],
         "type": "scatter"
        },
        {
         "fill": "toself",
         "line": {
          "color": "LightSeaGreen",
          "width": 2
         },
         "mode": "lines",
         "showlegend": false,
         "x": [
          0.404296875,
          0.40625,
          0.40234375
         ],
         "y": [
          0.18471827221855583,
          0.18133536048502286,
          0.18133536048502286
         ],
         "type": "scatter"
        },
        {
         "fill": "toself",
         "line": {
          "color": "LightSeaGreen",
          "width": 2
         },
         "mode": "lines",
         "showlegend": false,
         "x": [
          0.41015625,
          0.412109375,
          0.408203125
         ],
         "y": [
          0.14074041968262732,
          0.13735750794909435,
          0.13735750794909435
         ],
         "type": "scatter"
        },
        {
         "fill": "toself",
         "line": {
          "color": "LightSeaGreen",
          "width": 2
         },
         "mode": "lines",
         "showlegend": false,
         "x": [
          0.162109375,
          0.1640625,
          0.16015625
         ],
         "y": [
          0.2794398007574789,
          0.27605688902394593,
          0.27605688902394593
         ],
         "type": "scatter"
        },
        {
         "fill": "toself",
         "line": {
          "color": "LightSeaGreen",
          "width": 2
         },
         "mode": "lines",
         "showlegend": false,
         "x": [
          0.11328125,
          0.115234375,
          0.111328125
         ],
         "y": [
          0.33018347676047327,
          0.3268005650269403,
          0.3268005650269403
         ],
         "type": "scatter"
        },
        {
         "fill": "toself",
         "line": {
          "color": "LightSeaGreen",
          "width": 2
         },
         "mode": "lines",
         "showlegend": false,
         "x": [
          0.302734375,
          0.3046875,
          0.30078125
         ],
         "y": [
          0.35386385889520405,
          0.3504809471616711,
          0.3504809471616711
         ],
         "type": "scatter"
        },
        {
         "fill": "toself",
         "line": {
          "color": "LightSeaGreen",
          "width": 2
         },
         "mode": "lines",
         "showlegend": false,
         "x": [
          -0.009765625,
          -0.0078125,
          -0.01171875
         ],
         "y": [
          0.9560221474640714,
          0.9526392357305384,
          0.9526392357305384
         ],
         "type": "scatter"
        },
        {
         "fill": "toself",
         "line": {
          "color": "LightSeaGreen",
          "width": 2
         },
         "mode": "lines",
         "showlegend": false,
         "x": [
          -0.177734375,
          -0.17578125,
          -0.1796875
         ],
         "y": [
          0.25237650688921515,
          0.24899359515568217,
          0.24899359515568217
         ],
         "type": "scatter"
        },
        {
         "fill": "toself",
         "line": {
          "color": "LightSeaGreen",
          "width": 2
         },
         "mode": "lines",
         "showlegend": false,
         "x": [
          -0.28515625,
          -0.283203125,
          -0.287109375
         ],
         "y": [
          0.16780371355089102,
          0.16442080181735805,
          0.16442080181735805
         ],
         "type": "scatter"
        },
        {
         "fill": "toself",
         "line": {
          "color": "LightSeaGreen",
          "width": 2
         },
         "mode": "lines",
         "showlegend": false,
         "x": [
          -0.037109375,
          -0.03515625,
          -0.0390625
         ],
         "y": [
          0.16442080181735805,
          0.16103789008382507,
          0.16103789008382507
         ],
         "type": "scatter"
        },
        {
         "fill": "toself",
         "line": {
          "color": "LightSeaGreen",
          "width": 2
         },
         "mode": "lines",
         "showlegend": false,
         "x": [
          0.140625,
          0.142578125,
          0.138671875
         ],
         "y": [
          0.5940505919760445,
          0.5906676802425115,
          0.5906676802425115
         ],
         "type": "scatter"
        },
        {
         "fill": "toself",
         "line": {
          "color": "LightSeaGreen",
          "width": 2
         },
         "mode": "lines",
         "showlegend": false,
         "x": [
          -0.025390625,
          -0.0234375,
          -0.02734375
         ],
         "y": [
          0.8951297362604781,
          0.8917468245269451,
          0.8917468245269451
         ],
         "type": "scatter"
        },
        {
         "fill": "toself",
         "line": {
          "color": "LightSeaGreen",
          "width": 2
         },
         "mode": "lines",
         "showlegend": false,
         "x": [
          -0.091796875,
          -0.08984375,
          -0.09375
         ],
         "y": [
          0.813939854655687,
          0.810556942922154,
          0.810556942922154
         ],
         "type": "scatter"
        },
        {
         "fill": "toself",
         "line": {
          "color": "LightSeaGreen",
          "width": 2
         },
         "mode": "lines",
         "showlegend": false,
         "x": [
          -0.302734375,
          -0.30078125,
          -0.3046875
         ],
         "y": [
          0.36062968236227,
          0.35724677062873705,
          0.35724677062873705
         ],
         "type": "scatter"
        },
        {
         "fill": "toself",
         "line": {
          "color": "LightSeaGreen",
          "width": 2
         },
         "mode": "lines",
         "showlegend": false,
         "x": [
          0.06640625,
          0.068359375,
          0.064453125
         ],
         "y": [
          0.22193030128741845,
          0.21854738955388547,
          0.21854738955388547
         ],
         "type": "scatter"
        },
        {
         "fill": "toself",
         "line": {
          "color": "LightSeaGreen",
          "width": 2
         },
         "mode": "lines",
         "showlegend": false,
         "x": [
          0.09765625,
          0.099609375,
          0.095703125
         ],
         "y": [
          0.7090695909161652,
          0.7056866791826322,
          0.7056866791826322
         ],
         "type": "scatter"
        },
        {
         "fill": "toself",
         "line": {
          "color": "LightSeaGreen",
          "width": 2
         },
         "mode": "lines",
         "showlegend": false,
         "x": [
          -0.037109375,
          -0.03515625,
          -0.0390625
         ],
         "y": [
          0.5703702098413137,
          0.5669872981077807,
          0.5669872981077807
         ],
         "type": "scatter"
        },
        {
         "fill": "toself",
         "line": {
          "color": "LightSeaGreen",
          "width": 2
         },
         "mode": "lines",
         "showlegend": false,
         "x": [
          0.400390625,
          0.40234375,
          0.3984375
         ],
         "y": [
          0.25237650688921515,
          0.24899359515568217,
          0.24899359515568217
         ],
         "type": "scatter"
        },
        {
         "fill": "toself",
         "line": {
          "color": "LightSeaGreen",
          "width": 2
         },
         "mode": "lines",
         "showlegend": false,
         "x": [
          -0.29296875,
          -0.291015625,
          -0.294921875
         ],
         "y": [
          0.357246770628737,
          0.35386385889520405,
          0.35386385889520405
         ],
         "type": "scatter"
        },
        {
         "fill": "toself",
         "line": {
          "color": "LightSeaGreen",
          "width": 2
         },
         "mode": "lines",
         "showlegend": false,
         "x": [
          0.1640625,
          0.166015625,
          0.162109375
         ],
         "y": [
          0.6075822389101763,
          0.6041993271766433,
          0.6041993271766433
         ],
         "type": "scatter"
        },
        {
         "fill": "toself",
         "line": {
          "color": "LightSeaGreen",
          "width": 2
         },
         "mode": "lines",
         "showlegend": false,
         "x": [
          0.00390625,
          0.005859375,
          0.001953125
         ],
         "y": [
          0.14074041968262732,
          0.13735750794909435,
          0.13735750794909435
         ],
         "type": "scatter"
        },
        {
         "fill": "toself",
         "line": {
          "color": "LightSeaGreen",
          "width": 2
         },
         "mode": "lines",
         "showlegend": false,
         "x": [
          -0.15234375,
          -0.150390625,
          -0.154296875
         ],
         "y": [
          0.736132884784429,
          0.732749973050896,
          0.732749973050896
         ],
         "type": "scatter"
        },
        {
         "fill": "toself",
         "line": {
          "color": "LightSeaGreen",
          "width": 2
         },
         "mode": "lines",
         "showlegend": false,
         "x": [
          0.119140625,
          0.12109375,
          0.1171875
         ],
         "y": [
          0.25237650688921515,
          0.24899359515568217,
          0.24899359515568217
         ],
         "type": "scatter"
        },
        {
         "fill": "toself",
         "line": {
          "color": "LightSeaGreen",
          "width": 2
         },
         "mode": "lines",
         "showlegend": false,
         "x": [
          -0.052734375,
          -0.05078125,
          -0.0546875
         ],
         "y": [
          0.638028444511973,
          0.63464553277844,
          0.63464553277844
         ],
         "type": "scatter"
        },
        {
         "fill": "toself",
         "line": {
          "color": "LightSeaGreen",
          "width": 2
         },
         "mode": "lines",
         "showlegend": false,
         "x": [
          0.41015625,
          0.412109375,
          0.408203125
         ],
         "y": [
          0.19486700741915475,
          0.19148409568562177,
          0.19148409568562177
         ],
         "type": "scatter"
        },
        {
         "fill": "toself",
         "line": {
          "color": "LightSeaGreen",
          "width": 2
         },
         "mode": "lines",
         "showlegend": false,
         "x": [
          0.134765625,
          0.13671875,
          0.1328125
         ],
         "y": [
          0.30650309462574254,
          0.3031201828922096,
          0.3031201828922096
         ],
         "type": "scatter"
        },
        {
         "fill": "toself",
         "line": {
          "color": "LightSeaGreen",
          "width": 2
         },
         "mode": "lines",
         "showlegend": false,
         "x": [
          0.185546875,
          0.1875,
          0.18359375
         ],
         "y": [
          0.21854738955388547,
          0.2151644778203525,
          0.2151644778203525
         ],
         "type": "scatter"
        },
        {
         "fill": "toself",
         "line": {
          "color": "LightSeaGreen",
          "width": 2
         },
         "mode": "lines",
         "showlegend": false,
         "x": [
          0.373046875,
          0.375,
          0.37109375
         ],
         "y": [
          0.3470980354281381,
          0.34371512369460516,
          0.34371512369460516
         ],
         "type": "scatter"
        },
        {
         "fill": "toself",
         "line": {
          "color": "LightSeaGreen",
          "width": 2
         },
         "mode": "lines",
         "showlegend": false,
         "x": [
          0.130859375,
          0.1328125,
          0.12890625
         ],
         "y": [
          0.5771360333083796,
          0.5737531215748466,
          0.5737531215748466
         ],
         "type": "scatter"
        },
        {
         "fill": "toself",
         "line": {
          "color": "LightSeaGreen",
          "width": 2
         },
         "mode": "lines",
         "showlegend": false,
         "x": [
          0.251953125,
          0.25390625,
          0.25
         ],
         "y": [
          0.5568385629071818,
          0.5534556511736488,
          0.5534556511736488
         ],
         "type": "scatter"
        },
        {
         "fill": "toself",
         "line": {
          "color": "LightSeaGreen",
          "width": 2
         },
         "mode": "lines",
         "showlegend": false,
         "x": [
          -0.208984375,
          -0.20703125,
          -0.2109375
         ],
         "y": [
          0.1982499191526877,
          0.19486700741915472,
          0.19486700741915472
         ],
         "type": "scatter"
        },
        {
         "fill": "toself",
         "line": {
          "color": "LightSeaGreen",
          "width": 2
         },
         "mode": "lines",
         "showlegend": false,
         "x": [
          -0.2578125,
          -0.255859375,
          -0.259765625
         ],
         "y": [
          0.5534556511736488,
          0.5500727394401158,
          0.5500727394401158
         ],
         "type": "scatter"
        },
        {
         "fill": "toself",
         "line": {
          "color": "LightSeaGreen",
          "width": 2
         },
         "mode": "lines",
         "showlegend": false,
         "x": [
          -0.337890625,
          -0.3359375,
          -0.33984375
         ],
         "y": [
          0.19148409568562177,
          0.1881011839520888,
          0.1881011839520888
         ],
         "type": "scatter"
        },
        {
         "fill": "toself",
         "line": {
          "color": "LightSeaGreen",
          "width": 2
         },
         "mode": "lines",
         "showlegend": false,
         "x": [
          -0.16015625,
          -0.158203125,
          -0.162109375
         ],
         "y": [
          0.7090695909161652,
          0.7056866791826322,
          0.7056866791826322
         ],
         "type": "scatter"
        },
        {
         "fill": "toself",
         "line": {
          "color": "LightSeaGreen",
          "width": 2
         },
         "mode": "lines",
         "showlegend": false,
         "x": [
          -0.173828125,
          -0.171875,
          -0.17578125
         ],
         "y": [
          0.20501574261975364,
          0.20163283088622067,
          0.20163283088622067
         ],
         "type": "scatter"
        },
        {
         "fill": "toself",
         "line": {
          "color": "LightSeaGreen",
          "width": 2
         },
         "mode": "lines",
         "showlegend": false,
         "x": [
          -0.30078125,
          -0.298828125,
          -0.302734375
         ],
         "y": [
          0.2083986543532866,
          0.20501574261975364,
          0.20501574261975364
         ],
         "type": "scatter"
        },
        {
         "fill": "toself",
         "line": {
          "color": "LightSeaGreen",
          "width": 2
         },
         "mode": "lines",
         "showlegend": false,
         "x": [
          0.224609375,
          0.2265625,
          0.22265625
         ],
         "y": [
          0.4891803282365225,
          0.4857974165029896,
          0.4857974165029896
         ],
         "type": "scatter"
        },
        {
         "fill": "toself",
         "line": {
          "color": "LightSeaGreen",
          "width": 2
         },
         "mode": "lines",
         "showlegend": false,
         "x": [
          -0.07421875,
          -0.072265625,
          -0.076171875
         ],
         "y": [
          0.19486700741915475,
          0.19148409568562177,
          0.19148409568562177
         ],
         "type": "scatter"
        },
        {
         "fill": "toself",
         "line": {
          "color": "LightSeaGreen",
          "width": 2
         },
         "mode": "lines",
         "showlegend": false,
         "x": [
          0.2109375,
          0.212890625,
          0.208984375
         ],
         "y": [
          0.14750624314969324,
          0.14412333141616027,
          0.14412333141616027
         ],
         "type": "scatter"
        },
        {
         "fill": "toself",
         "line": {
          "color": "LightSeaGreen",
          "width": 2
         },
         "mode": "lines",
         "showlegend": false,
         "x": [
          -0.201171875,
          -0.19921875,
          -0.203125
         ],
         "y": [
          0.5906676802425115,
          0.5872847685089785,
          0.5872847685089785
         ],
         "type": "scatter"
        },
        {
         "fill": "toself",
         "line": {
          "color": "LightSeaGreen",
          "width": 2
         },
         "mode": "lines",
         "showlegend": false,
         "x": [
          0.490234375,
          0.4921875,
          0.48828125
         ],
         "y": [
          0.13735750794909435,
          0.13397459621556138,
          0.13397459621556138
         ],
         "type": "scatter"
        },
        {
         "fill": "toself",
         "line": {
          "color": "LightSeaGreen",
          "width": 2
         },
         "mode": "lines",
         "showlegend": false,
         "x": [
          0.216796875,
          0.21875,
          0.21484375
         ],
         "y": [
          0.16442080181735805,
          0.16103789008382507,
          0.16103789008382507
         ],
         "type": "scatter"
        },
        {
         "fill": "toself",
         "line": {
          "color": "LightSeaGreen",
          "width": 2
         },
         "mode": "lines",
         "showlegend": false,
         "x": [
          -0.265625,
          -0.263671875,
          -0.267578125
         ],
         "y": [
          0.1610378900838251,
          0.15765497835029213,
          0.15765497835029213
         ],
         "type": "scatter"
        },
        {
         "fill": "toself",
         "line": {
          "color": "LightSeaGreen",
          "width": 2
         },
         "mode": "lines",
         "showlegend": false,
         "x": [
          -0.119140625,
          -0.1171875,
          -0.12109375
         ],
         "y": [
          0.13735750794909435,
          0.13397459621556138,
          0.13397459621556138
         ],
         "type": "scatter"
        },
        {
         "fill": "toself",
         "line": {
          "color": "LightSeaGreen",
          "width": 2
         },
         "mode": "lines",
         "showlegend": false,
         "x": [
          0.458984375,
          0.4609375,
          0.45703125
         ],
         "y": [
          0.1982499191526877,
          0.19486700741915472,
          0.19486700741915472
         ],
         "type": "scatter"
        },
        {
         "fill": "toself",
         "line": {
          "color": "LightSeaGreen",
          "width": 2
         },
         "mode": "lines",
         "showlegend": false,
         "x": [
          -0.2265625,
          -0.224609375,
          -0.228515625
         ],
         "y": [
          0.4993290634371214,
          0.49594615170358847,
          0.49594615170358847
         ],
         "type": "scatter"
        },
        {
         "fill": "toself",
         "line": {
          "color": "LightSeaGreen",
          "width": 2
         },
         "mode": "lines",
         "showlegend": false,
         "x": [
          -0.302734375,
          -0.30078125,
          -0.3046875
         ],
         "y": [
          0.40799044663173145,
          0.4046075348981985,
          0.4046075348981985
         ],
         "type": "scatter"
        },
        {
         "fill": "toself",
         "line": {
          "color": "LightSeaGreen",
          "width": 2
         },
         "mode": "lines",
         "showlegend": false,
         "x": [
          0.185546875,
          0.1875,
          0.18359375
         ],
         "y": [
          0.45535121090119296,
          0.45196829916766,
          0.45196829916766
         ],
         "type": "scatter"
        },
        {
         "fill": "toself",
         "line": {
          "color": "LightSeaGreen",
          "width": 2
         },
         "mode": "lines",
         "showlegend": false,
         "x": [
          -0.388671875,
          -0.38671875,
          -0.390625
         ],
         "y": [
          0.25914233035628104,
          0.2557594186227481,
          0.2557594186227481
         ],
         "type": "scatter"
        },
        {
         "fill": "toself",
         "line": {
          "color": "LightSeaGreen",
          "width": 2
         },
         "mode": "lines",
         "showlegend": false,
         "x": [
          -0.205078125,
          -0.203125,
          -0.20703125
         ],
         "y": [
          0.5974335037095774,
          0.5940505919760444,
          0.5940505919760444
         ],
         "type": "scatter"
        },
        {
         "fill": "toself",
         "line": {
          "color": "LightSeaGreen",
          "width": 2
         },
         "mode": "lines",
         "showlegend": false,
         "x": [
          0.474609375,
          0.4765625,
          0.47265625
         ],
         "y": [
          0.17118662528442397,
          0.167803713550891,
          0.167803713550891
         ],
         "type": "scatter"
        },
        {
         "fill": "toself",
         "line": {
          "color": "LightSeaGreen",
          "width": 2
         },
         "mode": "lines",
         "showlegend": false,
         "x": [
          0.015625,
          0.017578125,
          0.013671875
         ],
         "y": [
          0.1610378900838251,
          0.15765497835029213,
          0.15765497835029213
         ],
         "type": "scatter"
        },
        {
         "fill": "toself",
         "line": {
          "color": "LightSeaGreen",
          "width": 2
         },
         "mode": "lines",
         "showlegend": false,
         "x": [
          -0.158203125,
          -0.15625,
          -0.16015625
         ],
         "y": [
          0.2726739772904129,
          0.26929106555688,
          0.26929106555688
         ],
         "type": "scatter"
        },
        {
         "fill": "toself",
         "line": {
          "color": "LightSeaGreen",
          "width": 2
         },
         "mode": "lines",
         "showlegend": false,
         "x": [
          -0.033203125,
          -0.03125,
          -0.03515625
         ],
         "y": [
          0.9357246770628737,
          0.9323417653293407,
          0.9323417653293407
         ],
         "type": "scatter"
        },
        {
         "fill": "toself",
         "line": {
          "color": "LightSeaGreen",
          "width": 2
         },
         "mode": "lines",
         "showlegend": false,
         "x": [
          0.205078125,
          0.20703125,
          0.203125
         ],
         "y": [
          0.3673955058293359,
          0.36401259409580294,
          0.36401259409580294
         ],
         "type": "scatter"
        },
        {
         "fill": "toself",
         "line": {
          "color": "LightSeaGreen",
          "width": 2
         },
         "mode": "lines",
         "showlegend": false,
         "x": [
          0.20703125,
          0.208984375,
          0.205078125
         ],
         "y": [
          0.4113733583652644,
          0.40799044663173145,
          0.40799044663173145
         ],
         "type": "scatter"
        },
        {
         "fill": "toself",
         "line": {
          "color": "LightSeaGreen",
          "width": 2
         },
         "mode": "lines",
         "showlegend": false,
         "x": [
          -0.177734375,
          -0.17578125,
          -0.1796875
         ],
         "y": [
          0.5771360333083796,
          0.5737531215748466,
          0.5737531215748466
         ],
         "type": "scatter"
        },
        {
         "fill": "toself",
         "line": {
          "color": "LightSeaGreen",
          "width": 2
         },
         "mode": "lines",
         "showlegend": false,
         "x": [
          0.19921875,
          0.201171875,
          0.197265625
         ],
         "y": [
          0.42490500529939623,
          0.4215220935658633,
          0.4215220935658633
         ],
         "type": "scatter"
        },
        {
         "fill": "toself",
         "line": {
          "color": "LightSeaGreen",
          "width": 2
         },
         "mode": "lines",
         "showlegend": false,
         "x": [
          0.345703125,
          0.34765625,
          0.34375
         ],
         "y": [
          0.28620562422454476,
          0.2828227124910118,
          0.2828227124910118
         ],
         "type": "scatter"
        },
        {
         "fill": "toself",
         "line": {
          "color": "LightSeaGreen",
          "width": 2
         },
         "mode": "lines",
         "showlegend": false,
         "x": [
          0.037109375,
          0.0390625,
          0.03515625
         ],
         "y": [
          0.6244967975778412,
          0.6211138858443082,
          0.6211138858443082
         ],
         "type": "scatter"
        },
        {
         "fill": "toself",
         "line": {
          "color": "LightSeaGreen",
          "width": 2
         },
         "mode": "lines",
         "showlegend": false,
         "x": [
          0.14453125,
          0.146484375,
          0.142578125
         ],
         "y": [
          0.5737531215748467,
          0.5703702098413137,
          0.5703702098413137
         ],
         "type": "scatter"
        },
        {
         "fill": "toself",
         "line": {
          "color": "LightSeaGreen",
          "width": 2
         },
         "mode": "lines",
         "showlegend": false,
         "x": [
          -0.01953125,
          -0.017578125,
          -0.021484375
         ],
         "y": [
          0.9255759418622748,
          0.9221930301287418,
          0.9221930301287418
         ],
         "type": "scatter"
        },
        {
         "fill": "toself",
         "line": {
          "color": "LightSeaGreen",
          "width": 2
         },
         "mode": "lines",
         "showlegend": false,
         "x": [
          -0.318359375,
          -0.31640625,
          -0.3203125
         ],
         "y": [
          0.448585387434127,
          0.44520247570059407,
          0.44520247570059407
         ],
         "type": "scatter"
        },
        {
         "fill": "toself",
         "line": {
          "color": "LightSeaGreen",
          "width": 2
         },
         "mode": "lines",
         "showlegend": false,
         "x": [
          -0.05078125,
          -0.048828125,
          -0.052734375
         ],
         "y": [
          0.5737531215748467,
          0.5703702098413137,
          0.5703702098413137
         ],
         "type": "scatter"
        },
        {
         "fill": "toself",
         "line": {
          "color": "LightSeaGreen",
          "width": 2
         },
         "mode": "lines",
         "showlegend": false,
         "x": [
          -0.02734375,
          -0.025390625,
          -0.029296875
         ],
         "y": [
          0.8308544133233519,
          0.8274715015898189,
          0.8274715015898189
         ],
         "type": "scatter"
        },
        {
         "fill": "toself",
         "line": {
          "color": "LightSeaGreen",
          "width": 2
         },
         "mode": "lines",
         "showlegend": false,
         "x": [
          0.064453125,
          0.06640625,
          0.0625
         ],
         "y": [
          0.8410031485239507,
          0.8376202367904177,
          0.8376202367904177
         ],
         "type": "scatter"
        },
        {
         "fill": "toself",
         "line": {
          "color": "LightSeaGreen",
          "width": 2
         },
         "mode": "lines",
         "showlegend": false,
         "x": [
          0.1796875,
          0.181640625,
          0.177734375
         ],
         "y": [
          0.22869612475448436,
          0.2253132130209514,
          0.2253132130209514
         ],
         "type": "scatter"
        },
        {
         "fill": "toself",
         "line": {
          "color": "LightSeaGreen",
          "width": 2
         },
         "mode": "lines",
         "showlegend": false,
         "x": [
          -0.23046875,
          -0.228515625,
          -0.232421875
         ],
         "y": [
          0.49256323997005547,
          0.4891803282365225,
          0.4891803282365225
         ],
         "type": "scatter"
        },
        {
         "fill": "toself",
         "line": {
          "color": "LightSeaGreen",
          "width": 2
         },
         "mode": "lines",
         "showlegend": false,
         "x": [
          0.076171875,
          0.078125,
          0.07421875
         ],
         "y": [
          0.8410031485239507,
          0.8376202367904177,
          0.8376202367904177
         ],
         "type": "scatter"
        },
        {
         "fill": "toself",
         "line": {
          "color": "LightSeaGreen",
          "width": 2
         },
         "mode": "lines",
         "showlegend": false,
         "x": [
          0.041015625,
          0.04296875,
          0.0390625
         ],
         "y": [
          0.6041993271766433,
          0.6008164154431103,
          0.6008164154431103
         ],
         "type": "scatter"
        },
        {
         "fill": "toself",
         "line": {
          "color": "LightSeaGreen",
          "width": 2
         },
         "mode": "lines",
         "showlegend": false,
         "x": [
          0.3125,
          0.314453125,
          0.310546875
         ],
         "y": [
          0.24222777168861623,
          0.23884485995508326,
          0.23884485995508326
         ],
         "type": "scatter"
        },
        {
         "fill": "toself",
         "line": {
          "color": "LightSeaGreen",
          "width": 2
         },
         "mode": "lines",
         "showlegend": false,
         "x": [
          -0.087890625,
          -0.0859375,
          -0.08984375
         ],
         "y": [
          0.6853892087814344,
          0.6820062970479014,
          0.6820062970479014
         ],
         "type": "scatter"
        },
        {
         "fill": "toself",
         "line": {
          "color": "LightSeaGreen",
          "width": 2
         },
         "mode": "lines",
         "showlegend": false,
         "x": [
          -0.134765625,
          -0.1328125,
          -0.13671875
         ],
         "y": [
          0.7665790903862255,
          0.7631961786526925,
          0.7631961786526925
         ],
         "type": "scatter"
        },
        {
         "fill": "toself",
         "line": {
          "color": "LightSeaGreen",
          "width": 2
         },
         "mode": "lines",
         "showlegend": false,
         "x": [
          -0.349609375,
          -0.34765625,
          -0.3515625
         ],
         "y": [
          0.36062968236227,
          0.35724677062873705,
          0.35724677062873705
         ],
         "type": "scatter"
        },
        {
         "fill": "toself",
         "line": {
          "color": "LightSeaGreen",
          "width": 2
         },
         "mode": "lines",
         "showlegend": false,
         "x": [
          -0.173828125,
          -0.171875,
          -0.17578125
         ],
         "y": [
          0.5906676802425115,
          0.5872847685089785,
          0.5872847685089785
         ],
         "type": "scatter"
        },
        {
         "fill": "toself",
         "line": {
          "color": "LightSeaGreen",
          "width": 2
         },
         "mode": "lines",
         "showlegend": false,
         "x": [
          -0.361328125,
          -0.359375,
          -0.36328125
         ],
         "y": [
          0.2997372711586766,
          0.29635435942514365,
          0.29635435942514365
         ],
         "type": "scatter"
        },
        {
         "fill": "toself",
         "line": {
          "color": "LightSeaGreen",
          "width": 2
         },
         "mode": "lines",
         "showlegend": false,
         "x": [
          0.041015625,
          0.04296875,
          0.0390625
         ],
         "y": [
          0.16442080181735805,
          0.16103789008382507,
          0.16103789008382507
         ],
         "type": "scatter"
        },
        {
         "fill": "toself",
         "line": {
          "color": "LightSeaGreen",
          "width": 2
         },
         "mode": "lines",
         "showlegend": false,
         "x": [
          0.1953125,
          0.197265625,
          0.193359375
         ],
         "y": [
          0.6617088266467037,
          0.6583259149131707,
          0.6583259149131707
         ],
         "type": "scatter"
        },
        {
         "fill": "toself",
         "line": {
          "color": "LightSeaGreen",
          "width": 2
         },
         "mode": "lines",
         "showlegend": false,
         "x": [
          -0.220703125,
          -0.21875,
          -0.22265625
         ],
         "y": [
          0.40122462316466556,
          0.3978417114311326,
          0.3978417114311326
         ],
         "type": "scatter"
        },
        {
         "fill": "toself",
         "line": {
          "color": "LightSeaGreen",
          "width": 2
         },
         "mode": "lines",
         "showlegend": false,
         "x": [
          0.09375,
          0.095703125,
          0.091796875
         ],
         "y": [
          0.6211138858443082,
          0.6177309741107752,
          0.6177309741107752
         ],
         "type": "scatter"
        },
        {
         "fill": "toself",
         "line": {
          "color": "LightSeaGreen",
          "width": 2
         },
         "mode": "lines",
         "showlegend": false,
         "x": [
          -0.140625,
          -0.138671875,
          -0.142578125
         ],
         "y": [
          0.7564303551856267,
          0.7530474434520937,
          0.7530474434520937
         ],
         "type": "scatter"
        },
        {
         "fill": "toself",
         "line": {
          "color": "LightSeaGreen",
          "width": 2
         },
         "mode": "lines",
         "showlegend": false,
         "x": [
          -0.478515625,
          -0.4765625,
          -0.48046875
         ],
         "y": [
          0.13735750794909435,
          0.13397459621556138,
          0.13397459621556138
         ],
         "type": "scatter"
        },
        {
         "fill": "toself",
         "line": {
          "color": "LightSeaGreen",
          "width": 2
         },
         "mode": "lines",
         "showlegend": false,
         "x": [
          0.353515625,
          0.35546875,
          0.3515625
         ],
         "y": [
          0.14412333141616027,
          0.1407404196826273,
          0.1407404196826273
         ],
         "type": "scatter"
        },
        {
         "fill": "toself",
         "line": {
          "color": "LightSeaGreen",
          "width": 2
         },
         "mode": "lines",
         "showlegend": false,
         "x": [
          0.25390625,
          0.255859375,
          0.251953125
         ],
         "y": [
          0.5466898277065829,
          0.5433069159730499,
          0.5433069159730499
         ],
         "type": "scatter"
        },
        {
         "fill": "toself",
         "line": {
          "color": "LightSeaGreen",
          "width": 2
         },
         "mode": "lines",
         "showlegend": false,
         "x": [
          0.025390625,
          0.02734375,
          0.0234375
         ],
         "y": [
          0.9289588535958077,
          0.9255759418622747,
          0.9255759418622747
         ],
         "type": "scatter"
        },
        {
         "fill": "toself",
         "line": {
          "color": "LightSeaGreen",
          "width": 2
         },
         "mode": "lines",
         "showlegend": false,
         "x": [
          -0.021484375,
          -0.01953125,
          -0.0234375
         ],
         "y": [
          0.9289588535958077,
          0.9255759418622747,
          0.9255759418622747
         ],
         "type": "scatter"
        },
        {
         "fill": "toself",
         "line": {
          "color": "LightSeaGreen",
          "width": 2
         },
         "mode": "lines",
         "showlegend": false,
         "x": [
          0.072265625,
          0.07421875,
          0.0703125
         ],
         "y": [
          0.8004082077215552,
          0.7970252959880222,
          0.7970252959880222
         ],
         "type": "scatter"
        },
        {
         "fill": "toself",
         "line": {
          "color": "LightSeaGreen",
          "width": 2
         },
         "mode": "lines",
         "showlegend": false,
         "x": [
          0.10546875,
          0.107421875,
          0.103515625
         ],
         "y": [
          0.7090695909161652,
          0.7056866791826322,
          0.7056866791826322
         ],
         "type": "scatter"
        },
        {
         "fill": "toself",
         "line": {
          "color": "LightSeaGreen",
          "width": 2
         },
         "mode": "lines",
         "showlegend": false,
         "x": [
          -0.158203125,
          -0.15625,
          -0.16015625
         ],
         "y": [
          0.13735750794909435,
          0.13397459621556138,
          0.13397459621556138
         ],
         "type": "scatter"
        },
        {
         "fill": "toself",
         "line": {
          "color": "LightSeaGreen",
          "width": 2
         },
         "mode": "lines",
         "showlegend": false,
         "x": [
          0.365234375,
          0.3671875,
          0.36328125
         ],
         "y": [
          0.30650309462574254,
          0.3031201828922096,
          0.3031201828922096
         ],
         "type": "scatter"
        },
        {
         "fill": "toself",
         "line": {
          "color": "LightSeaGreen",
          "width": 2
         },
         "mode": "lines",
         "showlegend": false,
         "x": [
          -0.060546875,
          -0.05859375,
          -0.0625
         ],
         "y": [
          0.8883639127934122,
          0.8849810010598792,
          0.8849810010598792
         ],
         "type": "scatter"
        },
        {
         "fill": "toself",
         "line": {
          "color": "LightSeaGreen",
          "width": 2
         },
         "mode": "lines",
         "showlegend": false,
         "x": [
          -0.404296875,
          -0.40234375,
          -0.40625
         ],
         "y": [
          0.2929714476916107,
          0.28958853595807776,
          0.28958853595807776
         ],
         "type": "scatter"
        },
        {
         "fill": "toself",
         "line": {
          "color": "LightSeaGreen",
          "width": 2
         },
         "mode": "lines",
         "showlegend": false,
         "x": [
          0.146484375,
          0.1484375,
          0.14453125
         ],
         "y": [
          0.6786233853143685,
          0.6752404735808355,
          0.6752404735808355
         ],
         "type": "scatter"
        },
        {
         "fill": "toself",
         "line": {
          "color": "LightSeaGreen",
          "width": 2
         },
         "mode": "lines",
         "showlegend": false,
         "x": [
          -0.306640625,
          -0.3046875,
          -0.30859375
         ],
         "y": [
          0.21854738955388547,
          0.2151644778203525,
          0.2151644778203525
         ],
         "type": "scatter"
        },
        {
         "fill": "toself",
         "line": {
          "color": "LightSeaGreen",
          "width": 2
         },
         "mode": "lines",
         "showlegend": false,
         "x": [
          -0.19921875,
          -0.197265625,
          -0.201171875
         ],
         "y": [
          0.15427206661675918,
          0.1508891548832262,
          0.1508891548832262
         ],
         "type": "scatter"
        },
        {
         "fill": "toself",
         "line": {
          "color": "LightSeaGreen",
          "width": 2
         },
         "mode": "lines",
         "showlegend": false,
         "x": [
          -0.482421875,
          -0.48046875,
          -0.484375
         ],
         "y": [
          0.15765497835029213,
          0.15427206661675916,
          0.15427206661675916
         ],
         "type": "scatter"
        },
        {
         "fill": "toself",
         "line": {
          "color": "LightSeaGreen",
          "width": 2
         },
         "mode": "lines",
         "showlegend": false,
         "x": [
          0.412109375,
          0.4140625,
          0.41015625
         ],
         "y": [
          0.19148409568562177,
          0.1881011839520888,
          0.1881011839520888
         ],
         "type": "scatter"
        },
        {
         "fill": "toself",
         "line": {
          "color": "LightSeaGreen",
          "width": 2
         },
         "mode": "lines",
         "showlegend": false,
         "x": [
          0.400390625,
          0.40234375,
          0.3984375
         ],
         "y": [
          0.2456106834221492,
          0.24222777168861623,
          0.24222777168861623
         ],
         "type": "scatter"
        },
        {
         "fill": "toself",
         "line": {
          "color": "LightSeaGreen",
          "width": 2
         },
         "mode": "lines",
         "showlegend": false,
         "x": [
          0.482421875,
          0.484375,
          0.48046875
         ],
         "y": [
          0.15765497835029213,
          0.15427206661675916,
          0.15427206661675916
         ],
         "type": "scatter"
        },
        {
         "fill": "toself",
         "line": {
          "color": "LightSeaGreen",
          "width": 2
         },
         "mode": "lines",
         "showlegend": false,
         "x": [
          0.2109375,
          0.212890625,
          0.208984375
         ],
         "y": [
          0.4993290634371214,
          0.49594615170358847,
          0.49594615170358847
         ],
         "type": "scatter"
        },
        {
         "fill": "toself",
         "line": {
          "color": "LightSeaGreen",
          "width": 2
         },
         "mode": "lines",
         "showlegend": false,
         "x": [
          0.41015625,
          0.412109375,
          0.408203125
         ],
         "y": [
          0.14074041968262732,
          0.13735750794909435,
          0.13735750794909435
         ],
         "type": "scatter"
        },
        {
         "fill": "toself",
         "line": {
          "color": "LightSeaGreen",
          "width": 2
         },
         "mode": "lines",
         "showlegend": false,
         "x": [
          -0.20703125,
          -0.205078125,
          -0.208984375
         ],
         "y": [
          0.6278797093113742,
          0.6244967975778412,
          0.6244967975778412
         ],
         "type": "scatter"
        },
        {
         "fill": "toself",
         "line": {
          "color": "LightSeaGreen",
          "width": 2
         },
         "mode": "lines",
         "showlegend": false,
         "x": [
          0.166015625,
          0.16796875,
          0.1640625
         ],
         "y": [
          0.1508891548832262,
          0.14750624314969324,
          0.14750624314969324
         ],
         "type": "scatter"
        },
        {
         "fill": "toself",
         "line": {
          "color": "LightSeaGreen",
          "width": 2
         },
         "mode": "lines",
         "showlegend": false,
         "x": [
          0.41796875,
          0.419921875,
          0.416015625
         ],
         "y": [
          0.19486700741915475,
          0.19148409568562177,
          0.19148409568562177
         ],
         "type": "scatter"
        },
        {
         "fill": "toself",
         "line": {
          "color": "LightSeaGreen",
          "width": 2
         },
         "mode": "lines",
         "showlegend": false,
         "x": [
          -0.1953125,
          -0.193359375,
          -0.197265625
         ],
         "y": [
          0.20163283088622067,
          0.1982499191526877,
          0.1982499191526877
         ],
         "type": "scatter"
        },
        {
         "fill": "toself",
         "line": {
          "color": "LightSeaGreen",
          "width": 2
         },
         "mode": "lines",
         "showlegend": false,
         "x": [
          0.220703125,
          0.22265625,
          0.21875
         ],
         "y": [
          0.4621170343682588,
          0.45873412263472585,
          0.45873412263472585
         ],
         "type": "scatter"
        },
        {
         "fill": "toself",
         "line": {
          "color": "LightSeaGreen",
          "width": 2
         },
         "mode": "lines",
         "showlegend": false,
         "x": [
          -0.34765625,
          -0.345703125,
          -0.349609375
         ],
         "y": [
          0.357246770628737,
          0.35386385889520405,
          0.35386385889520405
         ],
         "type": "scatter"
        },
        {
         "fill": "toself",
         "line": {
          "color": "LightSeaGreen",
          "width": 2
         },
         "mode": "lines",
         "showlegend": false,
         "x": [
          0.228515625,
          0.23046875,
          0.2265625
         ],
         "y": [
          0.1508891548832262,
          0.14750624314969324,
          0.14750624314969324
         ],
         "type": "scatter"
        },
        {
         "fill": "toself",
         "line": {
          "color": "LightSeaGreen",
          "width": 2
         },
         "mode": "lines",
         "showlegend": false,
         "x": [
          0.31640625,
          0.318359375,
          0.314453125
         ],
         "y": [
          0.24899359515568217,
          0.2456106834221492,
          0.2456106834221492
         ],
         "type": "scatter"
        },
        {
         "fill": "toself",
         "line": {
          "color": "LightSeaGreen",
          "width": 2
         },
         "mode": "lines",
         "showlegend": false,
         "x": [
          -0.302734375,
          -0.30078125,
          -0.3046875
         ],
         "y": [
          0.1508891548832262,
          0.14750624314969324,
          0.14750624314969324
         ],
         "type": "scatter"
        },
        {
         "fill": "toself",
         "line": {
          "color": "LightSeaGreen",
          "width": 2
         },
         "mode": "lines",
         "showlegend": false,
         "x": [
          -0.189453125,
          -0.1875,
          -0.19140625
         ],
         "y": [
          0.6650917383802367,
          0.6617088266467037,
          0.6617088266467037
         ],
         "type": "scatter"
        },
        {
         "fill": "toself",
         "line": {
          "color": "LightSeaGreen",
          "width": 2
         },
         "mode": "lines",
         "showlegend": false,
         "x": [
          0.162109375,
          0.1640625,
          0.16015625
         ],
         "y": [
          0.25237650688921515,
          0.24899359515568217,
          0.24899359515568217
         ],
         "type": "scatter"
        },
        {
         "fill": "toself",
         "line": {
          "color": "LightSeaGreen",
          "width": 2
         },
         "mode": "lines",
         "showlegend": false,
         "x": [
          -0.048828125,
          -0.046875,
          -0.05078125
         ],
         "y": [
          0.8410031485239507,
          0.8376202367904177,
          0.8376202367904177
         ],
         "type": "scatter"
        },
        {
         "fill": "toself",
         "line": {
          "color": "LightSeaGreen",
          "width": 2
         },
         "mode": "lines",
         "showlegend": false,
         "x": [
          -0.146484375,
          -0.14453125,
          -0.1484375
         ],
         "y": [
          0.7395157965179618,
          0.7361328847844288,
          0.7361328847844288
         ],
         "type": "scatter"
        },
        {
         "fill": "toself",
         "line": {
          "color": "LightSeaGreen",
          "width": 2
         },
         "mode": "lines",
         "showlegend": false,
         "x": [
          -0.0390625,
          -0.037109375,
          -0.041015625
         ],
         "y": [
          0.17456953701795694,
          0.17118662528442397,
          0.17118662528442397
         ],
         "type": "scatter"
        },
        {
         "fill": "toself",
         "line": {
          "color": "LightSeaGreen",
          "width": 2
         },
         "mode": "lines",
         "showlegend": false,
         "x": [
          0.25390625,
          0.255859375,
          0.251953125
         ],
         "y": [
          0.5196265338383192,
          0.5162436221047862,
          0.5162436221047862
         ],
         "type": "scatter"
        },
        {
         "fill": "toself",
         "line": {
          "color": "LightSeaGreen",
          "width": 2
         },
         "mode": "lines",
         "showlegend": false,
         "x": [
          0.443359375,
          0.4453125,
          0.44140625
         ],
         "y": [
          0.19148409568562177,
          0.1881011839520888,
          0.1881011839520888
         ],
         "type": "scatter"
        },
        {
         "fill": "toself",
         "line": {
          "color": "LightSeaGreen",
          "width": 2
         },
         "mode": "lines",
         "showlegend": false,
         "x": [
          0.169921875,
          0.171875,
          0.16796875
         ],
         "y": [
          0.3809271527634678,
          0.37754424102993484,
          0.37754424102993484
         ],
         "type": "scatter"
        },
        {
         "fill": "toself",
         "line": {
          "color": "LightSeaGreen",
          "width": 2
         },
         "mode": "lines",
         "showlegend": false,
         "x": [
          0.36328125,
          0.365234375,
          0.361328125
         ],
         "y": [
          0.357246770628737,
          0.35386385889520405,
          0.35386385889520405
         ],
         "type": "scatter"
        },
        {
         "fill": "toself",
         "line": {
          "color": "LightSeaGreen",
          "width": 2
         },
         "mode": "lines",
         "showlegend": false,
         "x": [
          0.08203125,
          0.083984375,
          0.080078125
         ],
         "y": [
          0.5737531215748467,
          0.5703702098413137,
          0.5703702098413137
         ],
         "type": "scatter"
        },
        {
         "fill": "toself",
         "line": {
          "color": "LightSeaGreen",
          "width": 2
         },
         "mode": "lines",
         "showlegend": false,
         "x": [
          -0.021484375,
          -0.01953125,
          -0.0234375
         ],
         "y": [
          0.8951297362604781,
          0.8917468245269451,
          0.8917468245269451
         ],
         "type": "scatter"
        },
        {
         "fill": "toself",
         "line": {
          "color": "LightSeaGreen",
          "width": 2
         },
         "mode": "lines",
         "showlegend": false,
         "x": [
          0.302734375,
          0.3046875,
          0.30078125
         ],
         "y": [
          0.3673955058293359,
          0.36401259409580294,
          0.36401259409580294
         ],
         "type": "scatter"
        },
        {
         "fill": "toself",
         "line": {
          "color": "LightSeaGreen",
          "width": 2
         },
         "mode": "lines",
         "showlegend": false,
         "x": [
          0.263671875,
          0.265625,
          0.26171875
         ],
         "y": [
          0.3673955058293359,
          0.36401259409580294,
          0.36401259409580294
         ],
         "type": "scatter"
        },
        {
         "fill": "toself",
         "line": {
          "color": "LightSeaGreen",
          "width": 2
         },
         "mode": "lines",
         "showlegend": false,
         "x": [
          0.06640625,
          0.068359375,
          0.064453125
         ],
         "y": [
          0.8714493541257474,
          0.8680664423922144,
          0.8680664423922144
         ],
         "type": "scatter"
        },
        {
         "fill": "toself",
         "line": {
          "color": "LightSeaGreen",
          "width": 2
         },
         "mode": "lines",
         "showlegend": false,
         "x": [
          0.458984375,
          0.4609375,
          0.45703125
         ],
         "y": [
          0.20501574261975364,
          0.20163283088622067,
          0.20163283088622067
         ],
         "type": "scatter"
        },
        {
         "fill": "toself",
         "line": {
          "color": "LightSeaGreen",
          "width": 2
         },
         "mode": "lines",
         "showlegend": false,
         "x": [
          0.349609375,
          0.3515625,
          0.34765625
         ],
         "y": [
          0.3876929762305337,
          0.3843100644970008,
          0.3843100644970008
         ],
         "type": "scatter"
        },
        {
         "fill": "toself",
         "line": {
          "color": "LightSeaGreen",
          "width": 2
         },
         "mode": "lines",
         "showlegend": false,
         "x": [
          -0.046875,
          -0.044921875,
          -0.048828125
         ],
         "y": [
          0.9188101183952089,
          0.9154272066616759,
          0.9154272066616759
         ],
         "type": "scatter"
        },
        {
         "fill": "toself",
         "line": {
          "color": "LightSeaGreen",
          "width": 2
         },
         "mode": "lines",
         "showlegend": false,
         "x": [
          -0.271484375,
          -0.26953125,
          -0.2734375
         ],
         "y": [
          0.35386385889520405,
          0.3504809471616711,
          0.3504809471616711
         ],
         "type": "scatter"
        },
        {
         "fill": "toself",
         "line": {
          "color": "LightSeaGreen",
          "width": 2
         },
         "mode": "lines",
         "showlegend": false,
         "x": [
          0.208984375,
          0.2109375,
          0.20703125
         ],
         "y": [
          0.47564868130239063,
          0.4722657695688577,
          0.4722657695688577
         ],
         "type": "scatter"
        },
        {
         "fill": "toself",
         "line": {
          "color": "LightSeaGreen",
          "width": 2
         },
         "mode": "lines",
         "showlegend": false,
         "x": [
          0.291015625,
          0.29296875,
          0.2890625
         ],
         "y": [
          0.4891803282365225,
          0.4857974165029896,
          0.4857974165029896
         ],
         "type": "scatter"
        },
        {
         "fill": "toself",
         "line": {
          "color": "LightSeaGreen",
          "width": 2
         },
         "mode": "lines",
         "showlegend": false,
         "x": [
          -0.11328125,
          -0.111328125,
          -0.115234375
         ],
         "y": [
          0.30312018289220954,
          0.2997372711586766,
          0.2997372711586766
         ],
         "type": "scatter"
        },
        {
         "fill": "toself",
         "line": {
          "color": "LightSeaGreen",
          "width": 2
         },
         "mode": "lines",
         "showlegend": false,
         "x": [
          0.080078125,
          0.08203125,
          0.078125
         ],
         "y": [
          0.638028444511973,
          0.63464553277844,
          0.63464553277844
         ],
         "type": "scatter"
        },
        {
         "fill": "toself",
         "line": {
          "color": "LightSeaGreen",
          "width": 2
         },
         "mode": "lines",
         "showlegend": false,
         "x": [
          0.267578125,
          0.26953125,
          0.265625
         ],
         "y": [
          0.35386385889520405,
          0.3504809471616711,
          0.3504809471616711
         ],
         "type": "scatter"
        },
        {
         "fill": "toself",
         "line": {
          "color": "LightSeaGreen",
          "width": 2
         },
         "mode": "lines",
         "showlegend": false,
         "x": [
          0.2109375,
          0.212890625,
          0.208984375
         ],
         "y": [
          0.17456953701795694,
          0.17118662528442397,
          0.17118662528442397
         ],
         "type": "scatter"
        },
        {
         "fill": "toself",
         "line": {
          "color": "LightSeaGreen",
          "width": 2
         },
         "mode": "lines",
         "showlegend": false,
         "x": [
          -0.283203125,
          -0.28125,
          -0.28515625
         ],
         "y": [
          0.35386385889520405,
          0.3504809471616711,
          0.3504809471616711
         ],
         "type": "scatter"
        },
        {
         "fill": "toself",
         "line": {
          "color": "LightSeaGreen",
          "width": 2
         },
         "mode": "lines",
         "showlegend": false,
         "x": [
          -0.107421875,
          -0.10546875,
          -0.109375
         ],
         "y": [
          0.5974335037095774,
          0.5940505919760444,
          0.5940505919760444
         ],
         "type": "scatter"
        },
        {
         "fill": "toself",
         "line": {
          "color": "LightSeaGreen",
          "width": 2
         },
         "mode": "lines",
         "showlegend": false,
         "x": [
          -0.146484375,
          -0.14453125,
          -0.1484375
         ],
         "y": [
          0.5839018567754456,
          0.5805189450419126,
          0.5805189450419126
         ],
         "type": "scatter"
        },
        {
         "fill": "toself",
         "line": {
          "color": "LightSeaGreen",
          "width": 2
         },
         "mode": "lines",
         "showlegend": false,
         "x": [
          0.16015625,
          0.162109375,
          0.158203125
         ],
         "y": [
          0.7090695909161652,
          0.7056866791826322,
          0.7056866791826322
         ],
         "type": "scatter"
        },
        {
         "fill": "toself",
         "line": {
          "color": "LightSeaGreen",
          "width": 2
         },
         "mode": "lines",
         "showlegend": false,
         "x": [
          0.3203125,
          0.322265625,
          0.318359375
         ],
         "y": [
          0.44520247570059407,
          0.4418195639670611,
          0.4418195639670611
         ],
         "type": "scatter"
        },
        {
         "fill": "toself",
         "line": {
          "color": "LightSeaGreen",
          "width": 2
         },
         "mode": "lines",
         "showlegend": false,
         "x": [
          0.130859375,
          0.1328125,
          0.12890625
         ],
         "y": [
          0.7665790903862255,
          0.7631961786526925,
          0.7631961786526925
         ],
         "type": "scatter"
        },
        {
         "fill": "toself",
         "line": {
          "color": "LightSeaGreen",
          "width": 2
         },
         "mode": "lines",
         "showlegend": false,
         "x": [
          0.244140625,
          0.24609375,
          0.2421875
         ],
         "y": [
          0.5230094455718521,
          0.5196265338383191,
          0.5196265338383191
         ],
         "type": "scatter"
        },
        {
         "fill": "toself",
         "line": {
          "color": "LightSeaGreen",
          "width": 2
         },
         "mode": "lines",
         "showlegend": false,
         "x": [
          -0.02734375,
          -0.025390625,
          -0.029296875
         ],
         "y": [
          0.18133536048502288,
          0.1779524487514899,
          0.1779524487514899
         ],
         "type": "scatter"
        },
        {
         "fill": "toself",
         "line": {
          "color": "LightSeaGreen",
          "width": 2
         },
         "mode": "lines",
         "showlegend": false,
         "x": [
          -0.232421875,
          -0.23046875,
          -0.234375
         ],
         "y": [
          0.3809271527634678,
          0.37754424102993484,
          0.37754424102993484
         ],
         "type": "scatter"
        },
        {
         "fill": "toself",
         "line": {
          "color": "LightSeaGreen",
          "width": 2
         },
         "mode": "lines",
         "showlegend": false,
         "x": [
          0.05078125,
          0.052734375,
          0.048828125
         ],
         "y": [
          0.22193030128741845,
          0.21854738955388547,
          0.21854738955388547
         ],
         "type": "scatter"
        },
        {
         "fill": "toself",
         "line": {
          "color": "LightSeaGreen",
          "width": 2
         },
         "mode": "lines",
         "showlegend": false,
         "x": [
          0.306640625,
          0.30859375,
          0.3046875
         ],
         "y": [
          0.21854738955388547,
          0.2151644778203525,
          0.2151644778203525
         ],
         "type": "scatter"
        },
        {
         "fill": "toself",
         "line": {
          "color": "LightSeaGreen",
          "width": 2
         },
         "mode": "lines",
         "showlegend": false,
         "x": [
          0.302734375,
          0.3046875,
          0.30078125
         ],
         "y": [
          0.4147562700987974,
          0.41137335836526445,
          0.41137335836526445
         ],
         "type": "scatter"
        },
        {
         "fill": "toself",
         "line": {
          "color": "LightSeaGreen",
          "width": 2
         },
         "mode": "lines",
         "showlegend": false,
         "x": [
          -0.244140625,
          -0.2421875,
          -0.24609375
         ],
         "y": [
          0.5433069159730499,
          0.5399240042395169,
          0.5399240042395169
         ],
         "type": "scatter"
        },
        {
         "fill": "toself",
         "line": {
          "color": "LightSeaGreen",
          "width": 2
         },
         "mode": "lines",
         "showlegend": false,
         "x": [
          0.13671875,
          0.138671875,
          0.134765625
         ],
         "y": [
          0.37077841756286883,
          0.3673955058293359,
          0.3673955058293359
         ],
         "type": "scatter"
        },
        {
         "fill": "toself",
         "line": {
          "color": "LightSeaGreen",
          "width": 2
         },
         "mode": "lines",
         "showlegend": false,
         "x": [
          0.201171875,
          0.203125,
          0.19921875
         ],
         "y": [
          0.5703702098413137,
          0.5669872981077807,
          0.5669872981077807
         ],
         "type": "scatter"
        },
        {
         "fill": "toself",
         "line": {
          "color": "LightSeaGreen",
          "width": 2
         },
         "mode": "lines",
         "showlegend": false,
         "x": [
          0.060546875,
          0.0625,
          0.05859375
         ],
         "y": [
          0.23884485995508326,
          0.23546194822155028,
          0.23546194822155028
         ],
         "type": "scatter"
        },
        {
         "fill": "toself",
         "line": {
          "color": "LightSeaGreen",
          "width": 2
         },
         "mode": "lines",
         "showlegend": false,
         "x": [
          0.34765625,
          0.349609375,
          0.345703125
         ],
         "y": [
          0.14074041968262732,
          0.13735750794909435,
          0.13735750794909435
         ],
         "type": "scatter"
        },
        {
         "fill": "toself",
         "line": {
          "color": "LightSeaGreen",
          "width": 2
         },
         "mode": "lines",
         "showlegend": false,
         "x": [
          0.103515625,
          0.10546875,
          0.1015625
         ],
         "y": [
          0.7868765607874233,
          0.7834936490538903,
          0.7834936490538903
         ],
         "type": "scatter"
        },
        {
         "fill": "toself",
         "line": {
          "color": "LightSeaGreen",
          "width": 2
         },
         "mode": "lines",
         "showlegend": false,
         "x": [
          -0.197265625,
          -0.1953125,
          -0.19921875
         ],
         "y": [
          0.19148409568562177,
          0.1881011839520888,
          0.1881011839520888
         ],
         "type": "scatter"
        },
        {
         "fill": "toself",
         "line": {
          "color": "LightSeaGreen",
          "width": 2
         },
         "mode": "lines",
         "showlegend": false,
         "x": [
          -0.044921875,
          -0.04296875,
          -0.046875
         ],
         "y": [
          0.21178156608681956,
          0.20839865435328658,
          0.20839865435328658
         ],
         "type": "scatter"
        },
        {
         "fill": "toself",
         "line": {
          "color": "LightSeaGreen",
          "width": 2
         },
         "mode": "lines",
         "showlegend": false,
         "x": [
          0.169921875,
          0.171875,
          0.16796875
         ],
         "y": [
          0.265908153823347,
          0.26252524208981404,
          0.26252524208981404
         ],
         "type": "scatter"
        },
        {
         "fill": "toself",
         "line": {
          "color": "LightSeaGreen",
          "width": 2
         },
         "mode": "lines",
         "showlegend": false,
         "x": [
          -0.16015625,
          -0.158203125,
          -0.162109375
         ],
         "y": [
          0.7226012378502971,
          0.7192183261167641,
          0.7192183261167641
         ],
         "type": "scatter"
        },
        {
         "fill": "toself",
         "line": {
          "color": "LightSeaGreen",
          "width": 2
         },
         "mode": "lines",
         "showlegend": false,
         "x": [
          -0.30859375,
          -0.306640625,
          -0.310546875
         ],
         "y": [
          0.2354619482215503,
          0.23207903648801734,
          0.23207903648801734
         ],
         "type": "scatter"
        },
        {
         "fill": "toself",
         "line": {
          "color": "LightSeaGreen",
          "width": 2
         },
         "mode": "lines",
         "showlegend": false,
         "x": [
          -0.353515625,
          -0.3515625,
          -0.35546875
         ],
         "y": [
          0.17118662528442397,
          0.167803713550891,
          0.167803713550891
         ],
         "type": "scatter"
        },
        {
         "fill": "toself",
         "line": {
          "color": "LightSeaGreen",
          "width": 2
         },
         "mode": "lines",
         "showlegend": false,
         "x": [
          0.306640625,
          0.30859375,
          0.3046875
         ],
         "y": [
          0.19148409568562177,
          0.1881011839520888,
          0.1881011839520888
         ],
         "type": "scatter"
        },
        {
         "fill": "toself",
         "line": {
          "color": "LightSeaGreen",
          "width": 2
         },
         "mode": "lines",
         "showlegend": false,
         "x": [
          0.31640625,
          0.318359375,
          0.314453125
         ],
         "y": [
          0.19486700741915475,
          0.19148409568562177,
          0.19148409568562177
         ],
         "type": "scatter"
        },
        {
         "fill": "toself",
         "line": {
          "color": "LightSeaGreen",
          "width": 2
         },
         "mode": "lines",
         "showlegend": false,
         "x": [
          -0.07421875,
          -0.072265625,
          -0.076171875
         ],
         "y": [
          0.5737531215748467,
          0.5703702098413137,
          0.5703702098413137
         ],
         "type": "scatter"
        },
        {
         "fill": "toself",
         "line": {
          "color": "LightSeaGreen",
          "width": 2
         },
         "mode": "lines",
         "showlegend": false,
         "x": [
          -0.1640625,
          -0.162109375,
          -0.166015625
         ],
         "y": [
          0.20163283088622067,
          0.1982499191526877,
          0.1982499191526877
         ],
         "type": "scatter"
        },
        {
         "fill": "toself",
         "line": {
          "color": "LightSeaGreen",
          "width": 2
         },
         "mode": "lines",
         "showlegend": false,
         "x": [
          -0.322265625,
          -0.3203125,
          -0.32421875
         ],
         "y": [
          0.4215220935658633,
          0.41813918183233034,
          0.41813918183233034
         ],
         "type": "scatter"
        },
        {
         "fill": "toself",
         "line": {
          "color": "LightSeaGreen",
          "width": 2
         },
         "mode": "lines",
         "showlegend": false,
         "x": [
          0.142578125,
          0.14453125,
          0.140625
         ],
         "y": [
          0.2456106834221492,
          0.24222777168861623,
          0.24222777168861623
         ],
         "type": "scatter"
        },
        {
         "fill": "toself",
         "line": {
          "color": "LightSeaGreen",
          "width": 2
         },
         "mode": "lines",
         "showlegend": false,
         "x": [
          -0.072265625,
          -0.0703125,
          -0.07421875
         ],
         "y": [
          0.6583259149131707,
          0.6549430031796377,
          0.6549430031796377
         ],
         "type": "scatter"
        },
        {
         "fill": "toself",
         "line": {
          "color": "LightSeaGreen",
          "width": 2
         },
         "mode": "lines",
         "showlegend": false,
         "x": [
          -0.162109375,
          -0.16015625,
          -0.1640625
         ],
         "y": [
          0.17118662528442397,
          0.167803713550891,
          0.167803713550891
         ],
         "type": "scatter"
        },
        {
         "fill": "toself",
         "line": {
          "color": "LightSeaGreen",
          "width": 2
         },
         "mode": "lines",
         "showlegend": false,
         "x": [
          -0.07421875,
          -0.072265625,
          -0.076171875
         ],
         "y": [
          0.6549430031796378,
          0.6515600914461048,
          0.6515600914461048
         ],
         "type": "scatter"
        },
        {
         "fill": "toself",
         "line": {
          "color": "LightSeaGreen",
          "width": 2
         },
         "mode": "lines",
         "showlegend": false,
         "x": [
          -0.10546875,
          -0.103515625,
          -0.107421875
         ],
         "y": [
          0.14074041968262732,
          0.13735750794909435,
          0.13735750794909435
         ],
         "type": "scatter"
        },
        {
         "fill": "toself",
         "line": {
          "color": "LightSeaGreen",
          "width": 2
         },
         "mode": "lines",
         "showlegend": false,
         "x": [
          -0.349609375,
          -0.34765625,
          -0.3515625
         ],
         "y": [
          0.25237650688921515,
          0.24899359515568217,
          0.24899359515568217
         ],
         "type": "scatter"
        },
        {
         "fill": "toself",
         "line": {
          "color": "LightSeaGreen",
          "width": 2
         },
         "mode": "lines",
         "showlegend": false,
         "x": [
          -0.068359375,
          -0.06640625,
          -0.0703125
         ],
         "y": [
          0.7868765607874233,
          0.7834936490538903,
          0.7834936490538903
         ],
         "type": "scatter"
        },
        {
         "fill": "toself",
         "line": {
          "color": "LightSeaGreen",
          "width": 2
         },
         "mode": "lines",
         "showlegend": false,
         "x": [
          -0.177734375,
          -0.17578125,
          -0.1796875
         ],
         "y": [
          0.638028444511973,
          0.63464553277844,
          0.63464553277844
         ],
         "type": "scatter"
        },
        {
         "fill": "toself",
         "line": {
          "color": "LightSeaGreen",
          "width": 2
         },
         "mode": "lines",
         "showlegend": false,
         "x": [
          -0.09765625,
          -0.095703125,
          -0.099609375
         ],
         "y": [
          0.7090695909161652,
          0.7056866791826322,
          0.7056866791826322
         ],
         "type": "scatter"
        },
        {
         "fill": "toself",
         "line": {
          "color": "LightSeaGreen",
          "width": 2
         },
         "mode": "lines",
         "showlegend": false,
         "x": [
          -0.00390625,
          -0.001953125,
          -0.005859375
         ],
         "y": [
          0.9526392357305385,
          0.9492563239970055,
          0.9492563239970055
         ],
         "type": "scatter"
        },
        {
         "fill": "toself",
         "line": {
          "color": "LightSeaGreen",
          "width": 2
         },
         "mode": "lines",
         "showlegend": false,
         "x": [
          -0.099609375,
          -0.09765625,
          -0.1015625
         ],
         "y": [
          0.2456106834221492,
          0.24222777168861623,
          0.24222777168861623
         ],
         "type": "scatter"
        },
        {
         "fill": "toself",
         "line": {
          "color": "LightSeaGreen",
          "width": 2
         },
         "mode": "lines",
         "showlegend": false,
         "x": [
          -0.26171875,
          -0.259765625,
          -0.263671875
         ],
         "y": [
          0.5331581807724511,
          0.5297752690389181,
          0.5297752690389181
         ],
         "type": "scatter"
        },
        {
         "fill": "toself",
         "line": {
          "color": "LightSeaGreen",
          "width": 2
         },
         "mode": "lines",
         "showlegend": false,
         "x": [
          0.302734375,
          0.3046875,
          0.30078125
         ],
         "y": [
          0.47564868130239063,
          0.4722657695688577,
          0.4722657695688577
         ],
         "type": "scatter"
        },
        {
         "fill": "toself",
         "line": {
          "color": "LightSeaGreen",
          "width": 2
         },
         "mode": "lines",
         "showlegend": false,
         "x": [
          0.3828125,
          0.384765625,
          0.380859375
         ],
         "y": [
          0.2557594186227481,
          0.25237650688921515,
          0.25237650688921515
         ],
         "type": "scatter"
        },
        {
         "fill": "toself",
         "line": {
          "color": "LightSeaGreen",
          "width": 2
         },
         "mode": "lines",
         "showlegend": false,
         "x": [
          0.181640625,
          0.18359375,
          0.1796875
         ],
         "y": [
          0.6244967975778412,
          0.6211138858443082,
          0.6211138858443082
         ],
         "type": "scatter"
        },
        {
         "fill": "toself",
         "line": {
          "color": "LightSeaGreen",
          "width": 2
         },
         "mode": "lines",
         "showlegend": false,
         "x": [
          -0.470703125,
          -0.46875,
          -0.47265625
         ],
         "y": [
          0.1779524487514899,
          0.17456953701795694,
          0.17456953701795694
         ],
         "type": "scatter"
        },
        {
         "fill": "toself",
         "line": {
          "color": "LightSeaGreen",
          "width": 2
         },
         "mode": "lines",
         "showlegend": false,
         "x": [
          0.14453125,
          0.146484375,
          0.142578125
         ],
         "y": [
          0.5737531215748467,
          0.5703702098413137,
          0.5703702098413137
         ],
         "type": "scatter"
        },
        {
         "fill": "toself",
         "line": {
          "color": "LightSeaGreen",
          "width": 2
         },
         "mode": "lines",
         "showlegend": false,
         "x": [
          -0.4375,
          -0.435546875,
          -0.439453125
         ],
         "y": [
          0.24222777168861623,
          0.23884485995508326,
          0.23884485995508326
         ],
         "type": "scatter"
        },
        {
         "fill": "toself",
         "line": {
          "color": "LightSeaGreen",
          "width": 2
         },
         "mode": "lines",
         "showlegend": false,
         "x": [
          0.31640625,
          0.318359375,
          0.314453125
         ],
         "y": [
          0.24899359515568217,
          0.2456106834221492,
          0.2456106834221492
         ],
         "type": "scatter"
        },
        {
         "fill": "toself",
         "line": {
          "color": "LightSeaGreen",
          "width": 2
         },
         "mode": "lines",
         "showlegend": false,
         "x": [
          -0.3203125,
          -0.318359375,
          -0.322265625
         ],
         "y": [
          0.2557594186227481,
          0.25237650688921515,
          0.25237650688921515
         ],
         "type": "scatter"
        },
        {
         "fill": "toself",
         "line": {
          "color": "LightSeaGreen",
          "width": 2
         },
         "mode": "lines",
         "showlegend": false,
         "x": [
          -0.212890625,
          -0.2109375,
          -0.21484375
         ],
         "y": [
          0.4891803282365225,
          0.4857974165029896,
          0.4857974165029896
         ],
         "type": "scatter"
        },
        {
         "fill": "toself",
         "line": {
          "color": "LightSeaGreen",
          "width": 2
         },
         "mode": "lines",
         "showlegend": false,
         "x": [
          0.10546875,
          0.107421875,
          0.103515625
         ],
         "y": [
          0.5872847685089786,
          0.5839018567754456,
          0.5839018567754456
         ],
         "type": "scatter"
        },
        {
         "fill": "toself",
         "line": {
          "color": "LightSeaGreen",
          "width": 2
         },
         "mode": "lines",
         "showlegend": false,
         "x": [
          -0.22265625,
          -0.220703125,
          -0.224609375
         ],
         "y": [
          0.5737531215748467,
          0.5703702098413137,
          0.5703702098413137
         ],
         "type": "scatter"
        },
        {
         "fill": "toself",
         "line": {
          "color": "LightSeaGreen",
          "width": 2
         },
         "mode": "lines",
         "showlegend": false,
         "x": [
          -0.015625,
          -0.013671875,
          -0.017578125
         ],
         "y": [
          0.9729367061317363,
          0.9695537943982033,
          0.9695537943982033
         ],
         "type": "scatter"
        },
        {
         "fill": "toself",
         "line": {
          "color": "LightSeaGreen",
          "width": 2
         },
         "mode": "lines",
         "showlegend": false,
         "x": [
          -0.083984375,
          -0.08203125,
          -0.0859375
         ],
         "y": [
          0.638028444511973,
          0.63464553277844,
          0.63464553277844
         ],
         "type": "scatter"
        },
        {
         "fill": "toself",
         "line": {
          "color": "LightSeaGreen",
          "width": 2
         },
         "mode": "lines",
         "showlegend": false,
         "x": [
          0.478515625,
          0.48046875,
          0.4765625
         ],
         "y": [
          0.14412333141616027,
          0.1407404196826273,
          0.1407404196826273
         ],
         "type": "scatter"
        },
        {
         "fill": "toself",
         "line": {
          "color": "LightSeaGreen",
          "width": 2
         },
         "mode": "lines",
         "showlegend": false,
         "x": [
          -0.015625,
          -0.013671875,
          -0.017578125
         ],
         "y": [
          0.8105569429221541,
          0.8071740311886211,
          0.8071740311886211
         ],
         "type": "scatter"
        },
        {
         "fill": "toself",
         "line": {
          "color": "LightSeaGreen",
          "width": 2
         },
         "mode": "lines",
         "showlegend": false,
         "x": [
          0.240234375,
          0.2421875,
          0.23828125
         ],
         "y": [
          0.5162436221047862,
          0.5128607103712532,
          0.5128607103712532
         ],
         "type": "scatter"
        },
        {
         "fill": "toself",
         "line": {
          "color": "LightSeaGreen",
          "width": 2
         },
         "mode": "lines",
         "showlegend": false,
         "x": [
          -0.166015625,
          -0.1640625,
          -0.16796875
         ],
         "y": [
          0.7124525026496981,
          0.7090695909161651,
          0.7090695909161651
         ],
         "type": "scatter"
        },
        {
         "fill": "toself",
         "line": {
          "color": "LightSeaGreen",
          "width": 2
         },
         "mode": "lines",
         "showlegend": false,
         "x": [
          -0.197265625,
          -0.1953125,
          -0.19921875
         ],
         "y": [
          0.6515600914461048,
          0.6481771797125718,
          0.6481771797125718
         ],
         "type": "scatter"
        },
        {
         "fill": "toself",
         "line": {
          "color": "LightSeaGreen",
          "width": 2
         },
         "mode": "lines",
         "showlegend": false,
         "x": [
          -0.1875,
          -0.185546875,
          -0.189453125
         ],
         "y": [
          0.24222777168861623,
          0.23884485995508326,
          0.23884485995508326
         ],
         "type": "scatter"
        },
        {
         "fill": "toself",
         "line": {
          "color": "LightSeaGreen",
          "width": 2
         },
         "mode": "lines",
         "showlegend": false,
         "x": [
          0.08984375,
          0.091796875,
          0.087890625
         ],
         "y": [
          0.2895885359580777,
          0.28620562422454476,
          0.28620562422454476
         ],
         "type": "scatter"
        },
        {
         "fill": "toself",
         "line": {
          "color": "LightSeaGreen",
          "width": 2
         },
         "mode": "lines",
         "showlegend": false,
         "x": [
          0.353515625,
          0.35546875,
          0.3515625
         ],
         "y": [
          0.2794398007574789,
          0.27605688902394593,
          0.27605688902394593
         ],
         "type": "scatter"
        },
        {
         "fill": "toself",
         "line": {
          "color": "LightSeaGreen",
          "width": 2
         },
         "mode": "lines",
         "showlegend": false,
         "x": [
          -0.306640625,
          -0.3046875,
          -0.30859375
         ],
         "y": [
          0.2253132130209514,
          0.22193030128741842,
          0.22193030128741842
         ],
         "type": "scatter"
        },
        {
         "fill": "toself",
         "line": {
          "color": "LightSeaGreen",
          "width": 2
         },
         "mode": "lines",
         "showlegend": false,
         "x": [
          -0.01171875,
          -0.009765625,
          -0.013671875
         ],
         "y": [
          0.9661708826646704,
          0.9627879709311374,
          0.9627879709311374
         ],
         "type": "scatter"
        },
        {
         "fill": "toself",
         "line": {
          "color": "LightSeaGreen",
          "width": 2
         },
         "mode": "lines",
         "showlegend": false,
         "x": [
          0.171875,
          0.173828125,
          0.169921875
         ],
         "y": [
          0.1610378900838251,
          0.15765497835029213,
          0.15765497835029213
         ],
         "type": "scatter"
        },
        {
         "fill": "toself",
         "line": {
          "color": "LightSeaGreen",
          "width": 2
         },
         "mode": "lines",
         "showlegend": false,
         "x": [
          0.349609375,
          0.3515625,
          0.34765625
         ],
         "y": [
          0.16442080181735805,
          0.16103789008382507,
          0.16103789008382507
         ],
         "type": "scatter"
        },
        {
         "fill": "toself",
         "line": {
          "color": "LightSeaGreen",
          "width": 2
         },
         "mode": "lines",
         "showlegend": false,
         "x": [
          0.39453125,
          0.396484375,
          0.392578125
         ],
         "y": [
          0.16780371355089102,
          0.16442080181735805,
          0.16442080181735805
         ],
         "type": "scatter"
        },
        {
         "fill": "toself",
         "line": {
          "color": "LightSeaGreen",
          "width": 2
         },
         "mode": "lines",
         "showlegend": false,
         "x": [
          -0.033203125,
          -0.03125,
          -0.03515625
         ],
         "y": [
          0.6109651506437093,
          0.6075822389101763,
          0.6075822389101763
         ],
         "type": "scatter"
        },
        {
         "fill": "toself",
         "line": {
          "color": "LightSeaGreen",
          "width": 2
         },
         "mode": "lines",
         "showlegend": false,
         "x": [
          0.158203125,
          0.16015625,
          0.15625
         ],
         "y": [
          0.18471827221855583,
          0.18133536048502286,
          0.18133536048502286
         ],
         "type": "scatter"
        },
        {
         "fill": "toself",
         "line": {
          "color": "LightSeaGreen",
          "width": 2
         },
         "mode": "lines",
         "showlegend": false,
         "x": [
          0.19140625,
          0.193359375,
          0.189453125
         ],
         "y": [
          0.6549430031796378,
          0.6515600914461048,
          0.6515600914461048
         ],
         "type": "scatter"
        },
        {
         "fill": "toself",
         "line": {
          "color": "LightSeaGreen",
          "width": 2
         },
         "mode": "lines",
         "showlegend": false,
         "x": [
          -0.412109375,
          -0.41015625,
          -0.4140625
         ],
         "y": [
          0.14412333141616027,
          0.1407404196826273,
          0.1407404196826273
         ],
         "type": "scatter"
        },
        {
         "fill": "toself",
         "line": {
          "color": "LightSeaGreen",
          "width": 2
         },
         "mode": "lines",
         "showlegend": false,
         "x": [
          -0.494140625,
          -0.4921875,
          -0.49609375
         ],
         "y": [
          0.13735750794909435,
          0.13397459621556138,
          0.13397459621556138
         ],
         "type": "scatter"
        },
        {
         "fill": "toself",
         "line": {
          "color": "LightSeaGreen",
          "width": 2
         },
         "mode": "lines",
         "showlegend": false,
         "x": [
          0.16015625,
          0.162109375,
          0.158203125
         ],
         "y": [
          0.6008164154431104,
          0.5974335037095774,
          0.5974335037095774
         ],
         "type": "scatter"
        },
        {
         "fill": "toself",
         "line": {
          "color": "LightSeaGreen",
          "width": 2
         },
         "mode": "lines",
         "showlegend": false,
         "x": [
          0.033203125,
          0.03515625,
          0.03125
         ],
         "y": [
          0.5974335037095774,
          0.5940505919760444,
          0.5940505919760444
         ],
         "type": "scatter"
        },
        {
         "fill": "toself",
         "line": {
          "color": "LightSeaGreen",
          "width": 2
         },
         "mode": "lines",
         "showlegend": false,
         "x": [
          0.048828125,
          0.05078125,
          0.046875
         ],
         "y": [
          0.13735750794909435,
          0.13397459621556138,
          0.13397459621556138
         ],
         "type": "scatter"
        },
        {
         "fill": "toself",
         "line": {
          "color": "LightSeaGreen",
          "width": 2
         },
         "mode": "lines",
         "showlegend": false,
         "x": [
          -0.046875,
          -0.044921875,
          -0.048828125
         ],
         "y": [
          0.9188101183952089,
          0.9154272066616759,
          0.9154272066616759
         ],
         "type": "scatter"
        },
        {
         "fill": "toself",
         "line": {
          "color": "LightSeaGreen",
          "width": 2
         },
         "mode": "lines",
         "showlegend": false,
         "x": [
          0.201171875,
          0.203125,
          0.19921875
         ],
         "y": [
          0.19148409568562177,
          0.1881011839520888,
          0.1881011839520888
         ],
         "type": "scatter"
        },
        {
         "fill": "toself",
         "line": {
          "color": "LightSeaGreen",
          "width": 2
         },
         "mode": "lines",
         "showlegend": false,
         "x": [
          0.072265625,
          0.07421875,
          0.0703125
         ],
         "y": [
          0.5703702098413137,
          0.5669872981077807,
          0.5669872981077807
         ],
         "type": "scatter"
        },
        {
         "fill": "toself",
         "line": {
          "color": "LightSeaGreen",
          "width": 2
         },
         "mode": "lines",
         "showlegend": false,
         "x": [
          0.091796875,
          0.09375,
          0.08984375
         ],
         "y": [
          0.7868765607874233,
          0.7834936490538903,
          0.7834936490538903
         ],
         "type": "scatter"
        },
        {
         "fill": "toself",
         "line": {
          "color": "LightSeaGreen",
          "width": 2
         },
         "mode": "lines",
         "showlegend": false,
         "x": [
          -0.23046875,
          -0.228515625,
          -0.232421875
         ],
         "y": [
          0.5872847685089786,
          0.5839018567754456,
          0.5839018567754456
         ],
         "type": "scatter"
        },
        {
         "fill": "toself",
         "line": {
          "color": "LightSeaGreen",
          "width": 2
         },
         "mode": "lines",
         "showlegend": false,
         "x": [
          -0.39453125,
          -0.392578125,
          -0.396484375
         ],
         "y": [
          0.3166518298263414,
          0.31326891809280843,
          0.31326891809280843
         ],
         "type": "scatter"
        },
        {
         "fill": "toself",
         "line": {
          "color": "LightSeaGreen",
          "width": 2
         },
         "mode": "lines",
         "showlegend": false,
         "x": [
          -0.404296875,
          -0.40234375,
          -0.40625
         ],
         "y": [
          0.2456106834221492,
          0.24222777168861623,
          0.24222777168861623
         ],
         "type": "scatter"
        },
        {
         "fill": "toself",
         "line": {
          "color": "LightSeaGreen",
          "width": 2
         },
         "mode": "lines",
         "showlegend": false,
         "x": [
          0.169921875,
          0.171875,
          0.16796875
         ],
         "y": [
          0.20501574261975364,
          0.20163283088622067,
          0.20163283088622067
         ],
         "type": "scatter"
        },
        {
         "fill": "toself",
         "line": {
          "color": "LightSeaGreen",
          "width": 2
         },
         "mode": "lines",
         "showlegend": false,
         "x": [
          -0.23046875,
          -0.228515625,
          -0.232421875
         ],
         "y": [
          0.16780371355089102,
          0.16442080181735805,
          0.16442080181735805
         ],
         "type": "scatter"
        },
        {
         "fill": "toself",
         "line": {
          "color": "LightSeaGreen",
          "width": 2
         },
         "mode": "lines",
         "showlegend": false,
         "x": [
          0.015625,
          0.017578125,
          0.013671875
         ],
         "y": [
          0.1610378900838251,
          0.15765497835029213,
          0.15765497835029213
         ],
         "type": "scatter"
        },
        {
         "fill": "toself",
         "line": {
          "color": "LightSeaGreen",
          "width": 2
         },
         "mode": "lines",
         "showlegend": false,
         "x": [
          0.138671875,
          0.140625,
          0.13671875
         ],
         "y": [
          0.13735750794909435,
          0.13397459621556138,
          0.13397459621556138
         ],
         "type": "scatter"
        },
        {
         "fill": "toself",
         "line": {
          "color": "LightSeaGreen",
          "width": 2
         },
         "mode": "lines",
         "showlegend": false,
         "x": [
          0.2890625,
          0.291015625,
          0.287109375
         ],
         "y": [
          0.41813918183233034,
          0.4147562700987974,
          0.4147562700987974
         ],
         "type": "scatter"
        },
        {
         "fill": "toself",
         "line": {
          "color": "LightSeaGreen",
          "width": 2
         },
         "mode": "lines",
         "showlegend": false,
         "x": [
          0.1015625,
          0.103515625,
          0.099609375
         ],
         "y": [
          0.14750624314969324,
          0.14412333141616027,
          0.14412333141616027
         ],
         "type": "scatter"
        },
        {
         "fill": "toself",
         "line": {
          "color": "LightSeaGreen",
          "width": 2
         },
         "mode": "lines",
         "showlegend": false,
         "x": [
          -0.15625,
          -0.154296875,
          -0.158203125
         ],
         "y": [
          0.4046075348981985,
          0.40122462316466556,
          0.40122462316466556
         ],
         "type": "scatter"
        },
        {
         "fill": "toself",
         "line": {
          "color": "LightSeaGreen",
          "width": 2
         },
         "mode": "lines",
         "showlegend": false,
         "x": [
          0.130859375,
          0.1328125,
          0.12890625
         ],
         "y": [
          0.33356638849400627,
          0.3301834767604733,
          0.3301834767604733
         ],
         "type": "scatter"
        },
        {
         "fill": "toself",
         "line": {
          "color": "LightSeaGreen",
          "width": 2
         },
         "mode": "lines",
         "showlegend": false,
         "x": [
          -0.236328125,
          -0.234375,
          -0.23828125
         ],
         "y": [
          0.5297752690389181,
          0.5263923573053851,
          0.5263923573053851
         ],
         "type": "scatter"
        },
        {
         "fill": "toself",
         "line": {
          "color": "LightSeaGreen",
          "width": 2
         },
         "mode": "lines",
         "showlegend": false,
         "x": [
          0.294921875,
          0.296875,
          0.29296875
         ],
         "y": [
          0.15765497835029213,
          0.15427206661675916,
          0.15427206661675916
         ],
         "type": "scatter"
        },
        {
         "fill": "toself",
         "line": {
          "color": "LightSeaGreen",
          "width": 2
         },
         "mode": "lines",
         "showlegend": false,
         "x": [
          -0.046875,
          -0.044921875,
          -0.048828125
         ],
         "y": [
          0.5940505919760445,
          0.5906676802425115,
          0.5906676802425115
         ],
         "type": "scatter"
        },
        {
         "fill": "toself",
         "line": {
          "color": "LightSeaGreen",
          "width": 2
         },
         "mode": "lines",
         "showlegend": false,
         "x": [
          -0.080078125,
          -0.078125,
          -0.08203125
         ],
         "y": [
          0.20501574261975364,
          0.20163283088622067,
          0.20163283088622067
         ],
         "type": "scatter"
        },
        {
         "fill": "toself",
         "line": {
          "color": "LightSeaGreen",
          "width": 2
         },
         "mode": "lines",
         "showlegend": false,
         "x": [
          0.197265625,
          0.19921875,
          0.1953125
         ],
         "y": [
          0.6244967975778412,
          0.6211138858443082,
          0.6211138858443082
         ],
         "type": "scatter"
        },
        {
         "fill": "toself",
         "line": {
          "color": "LightSeaGreen",
          "width": 2
         },
         "mode": "lines",
         "showlegend": false,
         "x": [
          -0.095703125,
          -0.09375,
          -0.09765625
         ],
         "y": [
          0.72598414958383,
          0.722601237850297,
          0.722601237850297
         ],
         "type": "scatter"
        },
        {
         "fill": "toself",
         "line": {
          "color": "LightSeaGreen",
          "width": 2
         },
         "mode": "lines",
         "showlegend": false,
         "x": [
          -0.1875,
          -0.185546875,
          -0.189453125
         ],
         "y": [
          0.24222777168861623,
          0.23884485995508326,
          0.23884485995508326
         ],
         "type": "scatter"
        },
        {
         "fill": "toself",
         "line": {
          "color": "LightSeaGreen",
          "width": 2
         },
         "mode": "lines",
         "showlegend": false,
         "x": [
          -0.185546875,
          -0.18359375,
          -0.1875
         ],
         "y": [
          0.4350537404999952,
          0.43167082876646223,
          0.43167082876646223
         ],
         "type": "scatter"
        },
        {
         "fill": "toself",
         "line": {
          "color": "LightSeaGreen",
          "width": 2
         },
         "mode": "lines",
         "showlegend": false,
         "x": [
          0.201171875,
          0.203125,
          0.19921875
         ],
         "y": [
          0.1508891548832262,
          0.14750624314969324,
          0.14750624314969324
         ],
         "type": "scatter"
        },
        {
         "fill": "toself",
         "line": {
          "color": "LightSeaGreen",
          "width": 2
         },
         "mode": "lines",
         "showlegend": false,
         "x": [
          0.205078125,
          0.20703125,
          0.203125
         ],
         "y": [
          0.4621170343682588,
          0.45873412263472585,
          0.45873412263472585
         ],
         "type": "scatter"
        },
        {
         "fill": "toself",
         "line": {
          "color": "LightSeaGreen",
          "width": 2
         },
         "mode": "lines",
         "showlegend": false,
         "x": [
          0.34375,
          0.345703125,
          0.341796875
         ],
         "y": [
          0.29635435942514365,
          0.2929714476916107,
          0.2929714476916107
         ],
         "type": "scatter"
        },
        {
         "fill": "toself",
         "line": {
          "color": "LightSeaGreen",
          "width": 2
         },
         "mode": "lines",
         "showlegend": false,
         "x": [
          -0.31640625,
          -0.314453125,
          -0.318359375
         ],
         "y": [
          0.19486700741915475,
          0.19148409568562177,
          0.19148409568562177
         ],
         "type": "scatter"
        },
        {
         "fill": "toself",
         "line": {
          "color": "LightSeaGreen",
          "width": 2
         },
         "mode": "lines",
         "showlegend": false,
         "x": [
          0.203125,
          0.205078125,
          0.201171875
         ],
         "y": [
          0.1610378900838251,
          0.15765497835029213,
          0.15765497835029213
         ],
         "type": "scatter"
        },
        {
         "fill": "toself",
         "line": {
          "color": "LightSeaGreen",
          "width": 2
         },
         "mode": "lines",
         "showlegend": false,
         "x": [
          -0.169921875,
          -0.16796875,
          -0.171875
         ],
         "y": [
          0.6786233853143685,
          0.6752404735808355,
          0.6752404735808355
         ],
         "type": "scatter"
        },
        {
         "fill": "toself",
         "line": {
          "color": "LightSeaGreen",
          "width": 2
         },
         "mode": "lines",
         "showlegend": false,
         "x": [
          0.0703125,
          0.072265625,
          0.068359375
         ],
         "y": [
          0.8511518837245496,
          0.8477689719910166,
          0.8477689719910166
         ],
         "type": "scatter"
        },
        {
         "fill": "toself",
         "line": {
          "color": "LightSeaGreen",
          "width": 2
         },
         "mode": "lines",
         "showlegend": false,
         "x": [
          -0.130859375,
          -0.12890625,
          -0.1328125
         ],
         "y": [
          0.7733449138532915,
          0.7699620021197585,
          0.7699620021197585
         ],
         "type": "scatter"
        },
        {
         "fill": "toself",
         "line": {
          "color": "LightSeaGreen",
          "width": 2
         },
         "mode": "lines",
         "showlegend": false,
         "x": [
          0.333984375,
          0.3359375,
          0.33203125
         ],
         "y": [
          0.4215220935658633,
          0.41813918183233034,
          0.41813918183233034
         ],
         "type": "scatter"
        },
        {
         "fill": "toself",
         "line": {
          "color": "LightSeaGreen",
          "width": 2
         },
         "mode": "lines",
         "showlegend": false,
         "x": [
          -0.455078125,
          -0.453125,
          -0.45703125
         ],
         "y": [
          0.15765497835029213,
          0.15427206661675916,
          0.15427206661675916
         ],
         "type": "scatter"
        },
        {
         "fill": "toself",
         "line": {
          "color": "LightSeaGreen",
          "width": 2
         },
         "mode": "lines",
         "showlegend": false,
         "x": [
          0.177734375,
          0.1796875,
          0.17578125
         ],
         "y": [
          0.5771360333083796,
          0.5737531215748466,
          0.5737531215748466
         ],
         "type": "scatter"
        },
        {
         "fill": "toself",
         "line": {
          "color": "LightSeaGreen",
          "width": 2
         },
         "mode": "lines",
         "showlegend": false,
         "x": [
          0.111328125,
          0.11328125,
          0.109375
         ],
         "y": [
          0.2456106834221492,
          0.24222777168861623,
          0.24222777168861623
         ],
         "type": "scatter"
        },
        {
         "fill": "toself",
         "line": {
          "color": "LightSeaGreen",
          "width": 2
         },
         "mode": "lines",
         "showlegend": false,
         "x": [
          0.099609375,
          0.1015625,
          0.09765625
         ],
         "y": [
          0.7936423842544892,
          0.7902594725209562,
          0.7902594725209562
         ],
         "type": "scatter"
        },
        {
         "fill": "toself",
         "line": {
          "color": "LightSeaGreen",
          "width": 2
         },
         "mode": "lines",
         "showlegend": false,
         "x": [
          0.083984375,
          0.0859375,
          0.08203125
         ],
         "y": [
          0.7056866791826322,
          0.7023037674490992,
          0.7023037674490992
         ],
         "type": "scatter"
        },
        {
         "fill": "toself",
         "line": {
          "color": "LightSeaGreen",
          "width": 2
         },
         "mode": "lines",
         "showlegend": false,
         "x": [
          0.275390625,
          0.27734375,
          0.2734375
         ],
         "y": [
          0.14412333141616027,
          0.1407404196826273,
          0.1407404196826273
         ],
         "type": "scatter"
        },
        {
         "fill": "toself",
         "line": {
          "color": "LightSeaGreen",
          "width": 2
         },
         "mode": "lines",
         "showlegend": false,
         "x": [
          -0.044921875,
          -0.04296875,
          -0.046875
         ],
         "y": [
          0.13735750794909435,
          0.13397459621556138,
          0.13397459621556138
         ],
         "type": "scatter"
        },
        {
         "fill": "toself",
         "line": {
          "color": "LightSeaGreen",
          "width": 2
         },
         "mode": "lines",
         "showlegend": false,
         "x": [
          -0.115234375,
          -0.11328125,
          -0.1171875
         ],
         "y": [
          0.7462816199850278,
          0.7428987082514948,
          0.7428987082514948
         ],
         "type": "scatter"
        },
        {
         "fill": "toself",
         "line": {
          "color": "LightSeaGreen",
          "width": 2
         },
         "mode": "lines",
         "showlegend": false,
         "x": [
          0.197265625,
          0.19921875,
          0.1953125
         ],
         "y": [
          0.3673955058293359,
          0.36401259409580294,
          0.36401259409580294
         ],
         "type": "scatter"
        },
        {
         "fill": "toself",
         "line": {
          "color": "LightSeaGreen",
          "width": 2
         },
         "mode": "lines",
         "showlegend": false,
         "x": [
          -0.474609375,
          -0.47265625,
          -0.4765625
         ],
         "y": [
          0.13735750794909435,
          0.13397459621556138,
          0.13397459621556138
         ],
         "type": "scatter"
        },
        {
         "fill": "toself",
         "line": {
          "color": "LightSeaGreen",
          "width": 2
         },
         "mode": "lines",
         "showlegend": false,
         "x": [
          0.17578125,
          0.177734375,
          0.173828125
         ],
         "y": [
          0.4113733583652644,
          0.40799044663173145,
          0.40799044663173145
         ],
         "type": "scatter"
        },
        {
         "fill": "toself",
         "line": {
          "color": "LightSeaGreen",
          "width": 2
         },
         "mode": "lines",
         "showlegend": false,
         "x": [
          -0.005859375,
          -0.00390625,
          -0.0078125
         ],
         "y": [
          0.9830854413323351,
          0.9797025295988021,
          0.9797025295988021
         ],
         "type": "scatter"
        },
        {
         "fill": "toself",
         "line": {
          "color": "LightSeaGreen",
          "width": 2
         },
         "mode": "lines",
         "showlegend": false,
         "x": [
          -0.291015625,
          -0.2890625,
          -0.29296875
         ],
         "y": [
          0.20501574261975364,
          0.20163283088622067,
          0.20163283088622067
         ],
         "type": "scatter"
        },
        {
         "fill": "toself",
         "line": {
          "color": "LightSeaGreen",
          "width": 2
         },
         "mode": "lines",
         "showlegend": false,
         "x": [
          0.380859375,
          0.3828125,
          0.37890625
         ],
         "y": [
          0.2997372711586766,
          0.29635435942514365,
          0.29635435942514365
         ],
         "type": "scatter"
        },
        {
         "fill": "toself",
         "line": {
          "color": "LightSeaGreen",
          "width": 2
         },
         "mode": "lines",
         "showlegend": false,
         "x": [
          -0.197265625,
          -0.1953125,
          -0.19921875
         ],
         "y": [
          0.631262621044907,
          0.627879709311374,
          0.627879709311374
         ],
         "type": "scatter"
        },
        {
         "fill": "toself",
         "line": {
          "color": "LightSeaGreen",
          "width": 2
         },
         "mode": "lines",
         "showlegend": false,
         "x": [
          0.013671875,
          0.015625,
          0.01171875
         ],
         "y": [
          0.8004082077215552,
          0.7970252959880222,
          0.7970252959880222
         ],
         "type": "scatter"
        },
        {
         "fill": "toself",
         "line": {
          "color": "LightSeaGreen",
          "width": 2
         },
         "mode": "lines",
         "showlegend": false,
         "x": [
          -0.025390625,
          -0.0234375,
          -0.02734375
         ],
         "y": [
          0.5771360333083796,
          0.5737531215748466,
          0.5737531215748466
         ],
         "type": "scatter"
        },
        {
         "fill": "toself",
         "line": {
          "color": "LightSeaGreen",
          "width": 2
         },
         "mode": "lines",
         "showlegend": false,
         "x": [
          -0.234375,
          -0.232421875,
          -0.236328125
         ],
         "y": [
          0.539924004239517,
          0.536541092505984,
          0.536541092505984
         ],
         "type": "scatter"
        },
        {
         "fill": "toself",
         "line": {
          "color": "LightSeaGreen",
          "width": 2
         },
         "mode": "lines",
         "showlegend": false,
         "x": [
          0.12890625,
          0.130859375,
          0.126953125
         ],
         "y": [
          0.736132884784429,
          0.732749973050896,
          0.732749973050896
         ],
         "type": "scatter"
        },
        {
         "fill": "toself",
         "line": {
          "color": "LightSeaGreen",
          "width": 2
         },
         "mode": "lines",
         "showlegend": false,
         "x": [
          -0.041015625,
          -0.0390625,
          -0.04296875
         ],
         "y": [
          0.17118662528442397,
          0.167803713550891,
          0.167803713550891
         ],
         "type": "scatter"
        },
        {
         "fill": "toself",
         "line": {
          "color": "LightSeaGreen",
          "width": 2
         },
         "mode": "lines",
         "showlegend": false,
         "x": [
          0.14453125,
          0.146484375,
          0.142578125
         ],
         "y": [
          0.6955379439820334,
          0.6921550322485004,
          0.6921550322485004
         ],
         "type": "scatter"
        },
        {
         "fill": "toself",
         "line": {
          "color": "LightSeaGreen",
          "width": 2
         },
         "mode": "lines",
         "showlegend": false,
         "x": [
          -0.263671875,
          -0.26171875,
          -0.265625
         ],
         "y": [
          0.15765497835029213,
          0.15427206661675916,
          0.15427206661675916
         ],
         "type": "scatter"
        },
        {
         "fill": "toself",
         "line": {
          "color": "LightSeaGreen",
          "width": 2
         },
         "mode": "lines",
         "showlegend": false,
         "x": [
          0.287109375,
          0.2890625,
          0.28515625
         ],
         "y": [
          0.3809271527634678,
          0.37754424102993484,
          0.37754424102993484
         ],
         "type": "scatter"
        },
        {
         "fill": "toself",
         "line": {
          "color": "LightSeaGreen",
          "width": 2
         },
         "mode": "lines",
         "showlegend": false,
         "x": [
          0.0078125,
          0.009765625,
          0.005859375
         ],
         "y": [
          0.14750624314969324,
          0.14412333141616027,
          0.14412333141616027
         ],
         "type": "scatter"
        },
        {
         "fill": "toself",
         "line": {
          "color": "LightSeaGreen",
          "width": 2
         },
         "mode": "lines",
         "showlegend": false,
         "x": [
          0.060546875,
          0.0625,
          0.05859375
         ],
         "y": [
          0.23884485995508326,
          0.23546194822155028,
          0.23546194822155028
         ],
         "type": "scatter"
        },
        {
         "fill": "toself",
         "line": {
          "color": "LightSeaGreen",
          "width": 2
         },
         "mode": "lines",
         "showlegend": false,
         "x": [
          0.181640625,
          0.18359375,
          0.1796875
         ],
         "y": [
          0.4350537404999952,
          0.43167082876646223,
          0.43167082876646223
         ],
         "type": "scatter"
        },
        {
         "fill": "toself",
         "line": {
          "color": "LightSeaGreen",
          "width": 2
         },
         "mode": "lines",
         "showlegend": false,
         "x": [
          0.32421875,
          0.326171875,
          0.322265625
         ],
         "y": [
          0.4384366522335281,
          0.4350537404999952,
          0.4350537404999952
         ],
         "type": "scatter"
        },
        {
         "fill": "toself",
         "line": {
          "color": "LightSeaGreen",
          "width": 2
         },
         "mode": "lines",
         "showlegend": false,
         "x": [
          0.013671875,
          0.015625,
          0.01171875
         ],
         "y": [
          0.8951297362604781,
          0.8917468245269451,
          0.8917468245269451
         ],
         "type": "scatter"
        },
        {
         "fill": "toself",
         "line": {
          "color": "LightSeaGreen",
          "width": 2
         },
         "mode": "lines",
         "showlegend": false,
         "x": [
          0.314453125,
          0.31640625,
          0.3125
         ],
         "y": [
          0.21854738955388547,
          0.2151644778203525,
          0.2151644778203525
         ],
         "type": "scatter"
        },
        {
         "fill": "toself",
         "line": {
          "color": "LightSeaGreen",
          "width": 2
         },
         "mode": "lines",
         "showlegend": false,
         "x": [
          0.103515625,
          0.10546875,
          0.1015625
         ],
         "y": [
          0.7124525026496981,
          0.7090695909161651,
          0.7090695909161651
         ],
         "type": "scatter"
        },
        {
         "fill": "toself",
         "line": {
          "color": "LightSeaGreen",
          "width": 2
         },
         "mode": "lines",
         "showlegend": false,
         "x": [
          0.330078125,
          0.33203125,
          0.328125
         ],
         "y": [
          0.13735750794909435,
          0.13397459621556138,
          0.13397459621556138
         ],
         "type": "scatter"
        },
        {
         "fill": "toself",
         "line": {
          "color": "LightSeaGreen",
          "width": 2
         },
         "mode": "lines",
         "showlegend": false,
         "x": [
          0.216796875,
          0.21875,
          0.21484375
         ],
         "y": [
          0.19148409568562177,
          0.1881011839520888,
          0.1881011839520888
         ],
         "type": "scatter"
        },
        {
         "fill": "toself",
         "line": {
          "color": "LightSeaGreen",
          "width": 2
         },
         "mode": "lines",
         "showlegend": false,
         "x": [
          0.248046875,
          0.25,
          0.24609375
         ],
         "y": [
          0.13735750794909435,
          0.13397459621556138,
          0.13397459621556138
         ],
         "type": "scatter"
        },
        {
         "fill": "toself",
         "line": {
          "color": "LightSeaGreen",
          "width": 2
         },
         "mode": "lines",
         "showlegend": false,
         "x": [
          0.177734375,
          0.1796875,
          0.17578125
         ],
         "y": [
          0.2456106834221492,
          0.24222777168861623,
          0.24222777168861623
         ],
         "type": "scatter"
        },
        {
         "fill": "toself",
         "line": {
          "color": "LightSeaGreen",
          "width": 2
         },
         "mode": "lines",
         "showlegend": false,
         "x": [
          -0.044921875,
          -0.04296875,
          -0.046875
         ],
         "y": [
          0.8951297362604781,
          0.8917468245269451,
          0.8917468245269451
         ],
         "type": "scatter"
        },
        {
         "fill": "toself",
         "line": {
          "color": "LightSeaGreen",
          "width": 2
         },
         "mode": "lines",
         "showlegend": false,
         "x": [
          -0.072265625,
          -0.0703125,
          -0.07421875
         ],
         "y": [
          0.5839018567754456,
          0.5805189450419126,
          0.5805189450419126
         ],
         "type": "scatter"
        },
        {
         "fill": "toself",
         "line": {
          "color": "LightSeaGreen",
          "width": 2
         },
         "mode": "lines",
         "showlegend": false,
         "x": [
          0.431640625,
          0.43359375,
          0.4296875
         ],
         "y": [
          0.21854738955388547,
          0.2151644778203525,
          0.2151644778203525
         ],
         "type": "scatter"
        },
        {
         "fill": "toself",
         "line": {
          "color": "LightSeaGreen",
          "width": 2
         },
         "mode": "lines",
         "showlegend": false,
         "x": [
          -0.216796875,
          -0.21484375,
          -0.21875
         ],
         "y": [
          0.19148409568562177,
          0.1881011839520888,
          0.1881011839520888
         ],
         "type": "scatter"
        },
        {
         "fill": "toself",
         "line": {
          "color": "LightSeaGreen",
          "width": 2
         },
         "mode": "lines",
         "showlegend": false,
         "x": [
          -0.056640625,
          -0.0546875,
          -0.05859375
         ],
         "y": [
          0.14412333141616027,
          0.1407404196826273,
          0.1407404196826273
         ],
         "type": "scatter"
        },
        {
         "fill": "toself",
         "line": {
          "color": "LightSeaGreen",
          "width": 2
         },
         "mode": "lines",
         "showlegend": false,
         "x": [
          -0.287109375,
          -0.28515625,
          -0.2890625
         ],
         "y": [
          0.1779524487514899,
          0.17456953701795694,
          0.17456953701795694
         ],
         "type": "scatter"
        },
        {
         "fill": "toself",
         "line": {
          "color": "LightSeaGreen",
          "width": 2
         },
         "mode": "lines",
         "showlegend": false,
         "x": [
          -0.330078125,
          -0.328125,
          -0.33203125
         ],
         "y": [
          0.13735750794909435,
          0.13397459621556138,
          0.13397459621556138
         ],
         "type": "scatter"
        },
        {
         "fill": "toself",
         "line": {
          "color": "LightSeaGreen",
          "width": 2
         },
         "mode": "lines",
         "showlegend": false,
         "x": [
          -0.01171875,
          -0.009765625,
          -0.013671875
         ],
         "y": [
          0.5737531215748467,
          0.5703702098413137,
          0.5703702098413137
         ],
         "type": "scatter"
        },
        {
         "fill": "toself",
         "line": {
          "color": "LightSeaGreen",
          "width": 2
         },
         "mode": "lines",
         "showlegend": false,
         "x": [
          0.349609375,
          0.3515625,
          0.34765625
         ],
         "y": [
          0.2794398007574789,
          0.27605688902394593,
          0.27605688902394593
         ],
         "type": "scatter"
        },
        {
         "fill": "toself",
         "line": {
          "color": "LightSeaGreen",
          "width": 2
         },
         "mode": "lines",
         "showlegend": false,
         "x": [
          0.001953125,
          0.00390625,
          0.0
         ],
         "y": [
          0.7868765607874233,
          0.7834936490538903,
          0.7834936490538903
         ],
         "type": "scatter"
        },
        {
         "fill": "toself",
         "line": {
          "color": "LightSeaGreen",
          "width": 2
         },
         "mode": "lines",
         "showlegend": false,
         "x": [
          0.208984375,
          0.2109375,
          0.20703125
         ],
         "y": [
          0.4891803282365225,
          0.4857974165029896,
          0.4857974165029896
         ],
         "type": "scatter"
        },
        {
         "fill": "toself",
         "line": {
          "color": "LightSeaGreen",
          "width": 2
         },
         "mode": "lines",
         "showlegend": false,
         "x": [
          0.486328125,
          0.48828125,
          0.484375
         ],
         "y": [
          0.13735750794909435,
          0.13397459621556138,
          0.13397459621556138
         ],
         "type": "scatter"
        },
        {
         "fill": "toself",
         "line": {
          "color": "LightSeaGreen",
          "width": 2
         },
         "mode": "lines",
         "showlegend": false,
         "x": [
          -0.12890625,
          -0.126953125,
          -0.130859375
         ],
         "y": [
          0.33018347676047327,
          0.3268005650269403,
          0.3268005650269403
         ],
         "type": "scatter"
        },
        {
         "fill": "toself",
         "line": {
          "color": "LightSeaGreen",
          "width": 2
         },
         "mode": "lines",
         "showlegend": false,
         "x": [
          -0.462890625,
          -0.4609375,
          -0.46484375
         ],
         "y": [
          0.13735750794909435,
          0.13397459621556138,
          0.13397459621556138
         ],
         "type": "scatter"
        },
        {
         "fill": "toself",
         "line": {
          "color": "LightSeaGreen",
          "width": 2
         },
         "mode": "lines",
         "showlegend": false,
         "x": [
          -0.0546875,
          -0.052734375,
          -0.056640625
         ],
         "y": [
          0.8782151775928133,
          0.8748322658592803,
          0.8748322658592803
         ],
         "type": "scatter"
        },
        {
         "fill": "toself",
         "line": {
          "color": "LightSeaGreen",
          "width": 2
         },
         "mode": "lines",
         "showlegend": false,
         "x": [
          -0.0859375,
          -0.083984375,
          -0.087890625
         ],
         "y": [
          0.5805189450419126,
          0.5771360333083796,
          0.5771360333083796
         ],
         "type": "scatter"
        },
        {
         "fill": "toself",
         "line": {
          "color": "LightSeaGreen",
          "width": 2
         },
         "mode": "lines",
         "showlegend": false,
         "x": [
          -0.072265625,
          -0.0703125,
          -0.07421875
         ],
         "y": [
          0.13735750794909435,
          0.13397459621556138,
          0.13397459621556138
         ],
         "type": "scatter"
        },
        {
         "fill": "toself",
         "line": {
          "color": "LightSeaGreen",
          "width": 2
         },
         "mode": "lines",
         "showlegend": false,
         "x": [
          0.396484375,
          0.3984375,
          0.39453125
         ],
         "y": [
          0.2456106834221492,
          0.24222777168861623,
          0.24222777168861623
         ],
         "type": "scatter"
        },
        {
         "fill": "toself",
         "line": {
          "color": "LightSeaGreen",
          "width": 2
         },
         "mode": "lines",
         "showlegend": false,
         "x": [
          -0.337890625,
          -0.3359375,
          -0.33984375
         ],
         "y": [
          0.3944587996975996,
          0.39107588796406667,
          0.39107588796406667
         ],
         "type": "scatter"
        },
        {
         "fill": "toself",
         "line": {
          "color": "LightSeaGreen",
          "width": 2
         },
         "mode": "lines",
         "showlegend": false,
         "x": [
          -0.177734375,
          -0.17578125,
          -0.1796875
         ],
         "y": [
          0.6786233853143685,
          0.6752404735808355,
          0.6752404735808355
         ],
         "type": "scatter"
        },
        {
         "fill": "toself",
         "line": {
          "color": "LightSeaGreen",
          "width": 2
         },
         "mode": "lines",
         "showlegend": false,
         "x": [
          -0.259765625,
          -0.2578125,
          -0.26171875
         ],
         "y": [
          0.5297752690389181,
          0.5263923573053851,
          0.5263923573053851
         ],
         "type": "scatter"
        },
        {
         "fill": "toself",
         "line": {
          "color": "LightSeaGreen",
          "width": 2
         },
         "mode": "lines",
         "showlegend": false,
         "x": [
          0.396484375,
          0.3984375,
          0.39453125
         ],
         "y": [
          0.14412333141616027,
          0.1407404196826273,
          0.1407404196826273
         ],
         "type": "scatter"
        },
        {
         "fill": "toself",
         "line": {
          "color": "LightSeaGreen",
          "width": 2
         },
         "mode": "lines",
         "showlegend": false,
         "x": [
          0.20703125,
          0.208984375,
          0.205078125
         ],
         "y": [
          0.4113733583652644,
          0.40799044663173145,
          0.40799044663173145
         ],
         "type": "scatter"
        },
        {
         "fill": "toself",
         "line": {
          "color": "LightSeaGreen",
          "width": 2
         },
         "mode": "lines",
         "showlegend": false,
         "x": [
          -0.224609375,
          -0.22265625,
          -0.2265625
         ],
         "y": [
          0.5230094455718521,
          0.5196265338383191,
          0.5196265338383191
         ],
         "type": "scatter"
        },
        {
         "fill": "toself",
         "line": {
          "color": "LightSeaGreen",
          "width": 2
         },
         "mode": "lines",
         "showlegend": false,
         "x": [
          -0.056640625,
          -0.0546875,
          -0.05859375
         ],
         "y": [
          0.631262621044907,
          0.627879709311374,
          0.627879709311374
         ],
         "type": "scatter"
        },
        {
         "fill": "toself",
         "line": {
          "color": "LightSeaGreen",
          "width": 2
         },
         "mode": "lines",
         "showlegend": false,
         "x": [
          0.1953125,
          0.197265625,
          0.193359375
         ],
         "y": [
          0.22869612475448436,
          0.2253132130209514,
          0.2253132130209514
         ],
         "type": "scatter"
        },
        {
         "fill": "toself",
         "line": {
          "color": "LightSeaGreen",
          "width": 2
         },
         "mode": "lines",
         "showlegend": false,
         "x": [
          -0.361328125,
          -0.359375,
          -0.36328125
         ],
         "y": [
          0.13735750794909435,
          0.13397459621556138,
          0.13397459621556138
         ],
         "type": "scatter"
        },
        {
         "fill": "toself",
         "line": {
          "color": "LightSeaGreen",
          "width": 2
         },
         "mode": "lines",
         "showlegend": false,
         "x": [
          -0.357421875,
          -0.35546875,
          -0.359375
         ],
         "y": [
          0.3673955058293359,
          0.36401259409580294,
          0.36401259409580294
         ],
         "type": "scatter"
        },
        {
         "fill": "toself",
         "line": {
          "color": "LightSeaGreen",
          "width": 2
         },
         "mode": "lines",
         "showlegend": false,
         "x": [
          0.2890625,
          0.291015625,
          0.287109375
         ],
         "y": [
          0.17456953701795694,
          0.17118662528442397,
          0.17118662528442397
         ],
         "type": "scatter"
        },
        {
         "fill": "toself",
         "line": {
          "color": "LightSeaGreen",
          "width": 2
         },
         "mode": "lines",
         "showlegend": false,
         "x": [
          0.197265625,
          0.19921875,
          0.1953125
         ],
         "y": [
          0.2253132130209514,
          0.22193030128741842,
          0.22193030128741842
         ],
         "type": "scatter"
        },
        {
         "fill": "toself",
         "line": {
          "color": "LightSeaGreen",
          "width": 2
         },
         "mode": "lines",
         "showlegend": false,
         "x": [
          0.072265625,
          0.07421875,
          0.0703125
         ],
         "y": [
          0.5771360333083796,
          0.5737531215748466,
          0.5737531215748466
         ],
         "type": "scatter"
        },
        {
         "fill": "toself",
         "line": {
          "color": "LightSeaGreen",
          "width": 2
         },
         "mode": "lines",
         "showlegend": false,
         "x": [
          0.365234375,
          0.3671875,
          0.36328125
         ],
         "y": [
          0.25914233035628104,
          0.2557594186227481,
          0.2557594186227481
         ],
         "type": "scatter"
        },
        {
         "fill": "toself",
         "line": {
          "color": "LightSeaGreen",
          "width": 2
         },
         "mode": "lines",
         "showlegend": false,
         "x": [
          -0.166015625,
          -0.1640625,
          -0.16796875
         ],
         "y": [
          0.40799044663173145,
          0.4046075348981985,
          0.4046075348981985
         ],
         "type": "scatter"
        },
        {
         "fill": "toself",
         "line": {
          "color": "LightSeaGreen",
          "width": 2
         },
         "mode": "lines",
         "showlegend": false,
         "x": [
          0.080078125,
          0.08203125,
          0.078125
         ],
         "y": [
          0.6921550322485004,
          0.6887721205149674,
          0.6887721205149674
         ],
         "type": "scatter"
        },
        {
         "fill": "toself",
         "line": {
          "color": "LightSeaGreen",
          "width": 2
         },
         "mode": "lines",
         "showlegend": false,
         "x": [
          -0.318359375,
          -0.31640625,
          -0.3203125
         ],
         "y": [
          0.21854738955388547,
          0.2151644778203525,
          0.2151644778203525
         ],
         "type": "scatter"
        },
        {
         "fill": "toself",
         "line": {
          "color": "LightSeaGreen",
          "width": 2
         },
         "mode": "lines",
         "showlegend": false,
         "x": [
          0.12109375,
          0.123046875,
          0.119140625
         ],
         "y": [
          0.33018347676047327,
          0.3268005650269403,
          0.3268005650269403
         ],
         "type": "scatter"
        },
        {
         "fill": "toself",
         "line": {
          "color": "LightSeaGreen",
          "width": 2
         },
         "mode": "lines",
         "showlegend": false,
         "x": [
          -0.314453125,
          -0.3125,
          -0.31640625
         ],
         "y": [
          0.13735750794909435,
          0.13397459621556138,
          0.13397459621556138
         ],
         "type": "scatter"
        },
        {
         "fill": "toself",
         "line": {
          "color": "LightSeaGreen",
          "width": 2
         },
         "mode": "lines",
         "showlegend": false,
         "x": [
          0.259765625,
          0.26171875,
          0.2578125
         ],
         "y": [
          0.4621170343682588,
          0.45873412263472585,
          0.45873412263472585
         ],
         "type": "scatter"
        },
        {
         "fill": "toself",
         "line": {
          "color": "LightSeaGreen",
          "width": 2
         },
         "mode": "lines",
         "showlegend": false,
         "x": [
          0.091796875,
          0.09375,
          0.08984375
         ],
         "y": [
          0.5974335037095774,
          0.5940505919760444,
          0.5940505919760444
         ],
         "type": "scatter"
        },
        {
         "fill": "toself",
         "line": {
          "color": "LightSeaGreen",
          "width": 2
         },
         "mode": "lines",
         "showlegend": false,
         "x": [
          0.404296875,
          0.40625,
          0.40234375
         ],
         "y": [
          0.2997372711586766,
          0.29635435942514365,
          0.29635435942514365
         ],
         "type": "scatter"
        },
        {
         "fill": "toself",
         "line": {
          "color": "LightSeaGreen",
          "width": 2
         },
         "mode": "lines",
         "showlegend": false,
         "x": [
          -0.419921875,
          -0.41796875,
          -0.421875
         ],
         "y": [
          0.20501574261975364,
          0.20163283088622067,
          0.20163283088622067
         ],
         "type": "scatter"
        },
        {
         "fill": "toself",
         "line": {
          "color": "LightSeaGreen",
          "width": 2
         },
         "mode": "lines",
         "showlegend": false,
         "x": [
          -0.033203125,
          -0.03125,
          -0.03515625
         ],
         "y": [
          0.18471827221855583,
          0.18133536048502286,
          0.18133536048502286
         ],
         "type": "scatter"
        },
        {
         "fill": "toself",
         "line": {
          "color": "LightSeaGreen",
          "width": 2
         },
         "mode": "lines",
         "showlegend": false,
         "x": [
          -0.009765625,
          -0.0078125,
          -0.01171875
         ],
         "y": [
          0.9627879709311374,
          0.9594050591976044,
          0.9594050591976044
         ],
         "type": "scatter"
        },
        {
         "fill": "toself",
         "line": {
          "color": "LightSeaGreen",
          "width": 2
         },
         "mode": "lines",
         "showlegend": false,
         "x": [
          0.1796875,
          0.181640625,
          0.177734375
         ],
         "y": [
          0.63464553277844,
          0.631262621044907,
          0.631262621044907
         ],
         "type": "scatter"
        },
        {
         "fill": "toself",
         "line": {
          "color": "LightSeaGreen",
          "width": 2
         },
         "mode": "lines",
         "showlegend": false,
         "x": [
          -0.158203125,
          -0.15625,
          -0.16015625
         ],
         "y": [
          0.6786233853143685,
          0.6752404735808355,
          0.6752404735808355
         ],
         "type": "scatter"
        },
        {
         "fill": "toself",
         "line": {
          "color": "LightSeaGreen",
          "width": 2
         },
         "mode": "lines",
         "showlegend": false,
         "x": [
          0.14453125,
          0.146484375,
          0.142578125
         ],
         "y": [
          0.6955379439820334,
          0.6921550322485004,
          0.6921550322485004
         ],
         "type": "scatter"
        },
        {
         "fill": "toself",
         "line": {
          "color": "LightSeaGreen",
          "width": 2
         },
         "mode": "lines",
         "showlegend": false,
         "x": [
          -0.373046875,
          -0.37109375,
          -0.375
         ],
         "y": [
          0.34033221196107216,
          0.3369493002275392,
          0.3369493002275392
         ],
         "type": "scatter"
        },
        {
         "fill": "toself",
         "line": {
          "color": "LightSeaGreen",
          "width": 2
         },
         "mode": "lines",
         "showlegend": false,
         "x": [
          -0.087890625,
          -0.0859375,
          -0.08984375
         ],
         "y": [
          0.6853892087814344,
          0.6820062970479014,
          0.6820062970479014
         ],
         "type": "scatter"
        },
        {
         "fill": "toself",
         "line": {
          "color": "LightSeaGreen",
          "width": 2
         },
         "mode": "lines",
         "showlegend": false,
         "x": [
          0.1328125,
          0.134765625,
          0.130859375
         ],
         "y": [
          0.14750624314969324,
          0.14412333141616027,
          0.14412333141616027
         ],
         "type": "scatter"
        },
        {
         "fill": "toself",
         "line": {
          "color": "LightSeaGreen",
          "width": 2
         },
         "mode": "lines",
         "showlegend": false,
         "x": [
          0.40234375,
          0.404296875,
          0.400390625
         ],
         "y": [
          0.18133536048502288,
          0.1779524487514899,
          0.1779524487514899
         ],
         "type": "scatter"
        },
        {
         "fill": "toself",
         "line": {
          "color": "LightSeaGreen",
          "width": 2
         },
         "mode": "lines",
         "showlegend": false,
         "x": [
          0.033203125,
          0.03515625,
          0.03125
         ],
         "y": [
          0.5703702098413137,
          0.5669872981077807,
          0.5669872981077807
         ],
         "type": "scatter"
        },
        {
         "fill": "toself",
         "line": {
          "color": "LightSeaGreen",
          "width": 2
         },
         "mode": "lines",
         "showlegend": false,
         "x": [
          -0.19140625,
          -0.189453125,
          -0.193359375
         ],
         "y": [
          0.5737531215748467,
          0.5703702098413137,
          0.5703702098413137
         ],
         "type": "scatter"
        },
        {
         "fill": "toself",
         "line": {
          "color": "LightSeaGreen",
          "width": 2
         },
         "mode": "lines",
         "showlegend": false,
         "x": [
          0.4765625,
          0.478515625,
          0.474609375
         ],
         "y": [
          0.14750624314969324,
          0.14412333141616027,
          0.14412333141616027
         ],
         "type": "scatter"
        },
        {
         "fill": "toself",
         "line": {
          "color": "LightSeaGreen",
          "width": 2
         },
         "mode": "lines",
         "showlegend": false,
         "x": [
          -0.32421875,
          -0.322265625,
          -0.326171875
         ],
         "y": [
          0.19486700741915475,
          0.19148409568562177,
          0.19148409568562177
         ],
         "type": "scatter"
        },
        {
         "fill": "toself",
         "line": {
          "color": "LightSeaGreen",
          "width": 2
         },
         "mode": "lines",
         "showlegend": false,
         "x": [
          -0.240234375,
          -0.23828125,
          -0.2421875
         ],
         "y": [
          0.5433069159730499,
          0.5399240042395169,
          0.5399240042395169
         ],
         "type": "scatter"
        },
        {
         "fill": "toself",
         "line": {
          "color": "LightSeaGreen",
          "width": 2
         },
         "mode": "lines",
         "showlegend": false,
         "x": [
          0.169921875,
          0.171875,
          0.16796875
         ],
         "y": [
          0.2726739772904129,
          0.26929106555688,
          0.26929106555688
         ],
         "type": "scatter"
        },
        {
         "fill": "toself",
         "line": {
          "color": "LightSeaGreen",
          "width": 2
         },
         "mode": "lines",
         "showlegend": false,
         "x": [
          0.1875,
          0.189453125,
          0.185546875
         ],
         "y": [
          0.6752404735808356,
          0.6718575618473026,
          0.6718575618473026
         ],
         "type": "scatter"
        },
        {
         "fill": "toself",
         "line": {
          "color": "LightSeaGreen",
          "width": 2
         },
         "mode": "lines",
         "showlegend": false,
         "x": [
          -0.216796875,
          -0.21484375,
          -0.21875
         ],
         "y": [
          0.5094777986377202,
          0.5060948869041872,
          0.5060948869041872
         ],
         "type": "scatter"
        },
        {
         "fill": "toself",
         "line": {
          "color": "LightSeaGreen",
          "width": 2
         },
         "mode": "lines",
         "showlegend": false,
         "x": [
          0.099609375,
          0.1015625,
          0.09765625
         ],
         "y": [
          0.8274715015898189,
          0.8240885898562859,
          0.8240885898562859
         ],
         "type": "scatter"
        },
        {
         "fill": "toself",
         "line": {
          "color": "LightSeaGreen",
          "width": 2
         },
         "mode": "lines",
         "showlegend": false,
         "x": [
          -0.48046875,
          -0.478515625,
          -0.482421875
         ],
         "y": [
          0.14074041968262732,
          0.13735750794909435,
          0.13735750794909435
         ],
         "type": "scatter"
        },
        {
         "fill": "toself",
         "line": {
          "color": "LightSeaGreen",
          "width": 2
         },
         "mode": "lines",
         "showlegend": false,
         "x": [
          0.34765625,
          0.349609375,
          0.345703125
         ],
         "y": [
          0.24899359515568217,
          0.2456106834221492,
          0.2456106834221492
         ],
         "type": "scatter"
        },
        {
         "fill": "toself",
         "line": {
          "color": "LightSeaGreen",
          "width": 2
         },
         "mode": "lines",
         "showlegend": false,
         "x": [
          0.099609375,
          0.1015625,
          0.09765625
         ],
         "y": [
          0.7395157965179618,
          0.7361328847844288,
          0.7361328847844288
         ],
         "type": "scatter"
        },
        {
         "fill": "toself",
         "line": {
          "color": "LightSeaGreen",
          "width": 2
         },
         "mode": "lines",
         "showlegend": false,
         "x": [
          0.056640625,
          0.05859375,
          0.0546875
         ],
         "y": [
          0.5771360333083796,
          0.5737531215748466,
          0.5737531215748466
         ],
         "type": "scatter"
        },
        {
         "fill": "toself",
         "line": {
          "color": "LightSeaGreen",
          "width": 2
         },
         "mode": "lines",
         "showlegend": false,
         "x": [
          -0.20703125,
          -0.205078125,
          -0.208984375
         ],
         "y": [
          0.19486700741915475,
          0.19148409568562177,
          0.19148409568562177
         ],
         "type": "scatter"
        },
        {
         "fill": "toself",
         "line": {
          "color": "LightSeaGreen",
          "width": 2
         },
         "mode": "lines",
         "showlegend": false,
         "x": [
          -0.08203125,
          -0.080078125,
          -0.083984375
         ],
         "y": [
          0.8443860602574838,
          0.8410031485239507,
          0.8410031485239507
         ],
         "type": "scatter"
        },
        {
         "fill": "toself",
         "line": {
          "color": "LightSeaGreen",
          "width": 2
         },
         "mode": "lines",
         "showlegend": false,
         "x": [
          0.12890625,
          0.130859375,
          0.126953125
         ],
         "y": [
          0.3437151236946051,
          0.34033221196107216,
          0.34033221196107216
         ],
         "type": "scatter"
        },
        {
         "fill": "toself",
         "line": {
          "color": "LightSeaGreen",
          "width": 2
         },
         "mode": "lines",
         "showlegend": false,
         "x": [
          0.224609375,
          0.2265625,
          0.22265625
         ],
         "y": [
          0.5771360333083796,
          0.5737531215748466,
          0.5737531215748466
         ],
         "type": "scatter"
        },
        {
         "fill": "toself",
         "line": {
          "color": "LightSeaGreen",
          "width": 2
         },
         "mode": "lines",
         "showlegend": false,
         "x": [
          -0.08203125,
          -0.080078125,
          -0.083984375
         ],
         "y": [
          0.6278797093113742,
          0.6244967975778412,
          0.6244967975778412
         ],
         "type": "scatter"
        },
        {
         "fill": "toself",
         "line": {
          "color": "LightSeaGreen",
          "width": 2
         },
         "mode": "lines",
         "showlegend": false,
         "x": [
          0.275390625,
          0.27734375,
          0.2734375
         ],
         "y": [
          0.13735750794909435,
          0.13397459621556138,
          0.13397459621556138
         ],
         "type": "scatter"
        },
        {
         "fill": "toself",
         "line": {
          "color": "LightSeaGreen",
          "width": 2
         },
         "mode": "lines",
         "showlegend": false,
         "x": [
          0.267578125,
          0.26953125,
          0.265625
         ],
         "y": [
          0.47564868130239063,
          0.4722657695688577,
          0.4722657695688577
         ],
         "type": "scatter"
        },
        {
         "fill": "toself",
         "line": {
          "color": "LightSeaGreen",
          "width": 2
         },
         "mode": "lines",
         "showlegend": false,
         "x": [
          -0.236328125,
          -0.234375,
          -0.23828125
         ],
         "y": [
          0.5703702098413137,
          0.5669872981077807,
          0.5669872981077807
         ],
         "type": "scatter"
        },
        {
         "fill": "toself",
         "line": {
          "color": "LightSeaGreen",
          "width": 2
         },
         "mode": "lines",
         "showlegend": false,
         "x": [
          0.314453125,
          0.31640625,
          0.3125
         ],
         "y": [
          0.13735750794909435,
          0.13397459621556138,
          0.13397459621556138
         ],
         "type": "scatter"
        },
        {
         "fill": "toself",
         "line": {
          "color": "LightSeaGreen",
          "width": 2
         },
         "mode": "lines",
         "showlegend": false,
         "x": [
          0.259765625,
          0.26171875,
          0.2578125
         ],
         "y": [
          0.46888285783532474,
          0.4654999461017918,
          0.4654999461017918
         ],
         "type": "scatter"
        },
        {
         "fill": "toself",
         "line": {
          "color": "LightSeaGreen",
          "width": 2
         },
         "mode": "lines",
         "showlegend": false,
         "x": [
          -0.076171875,
          -0.07421875,
          -0.078125
         ],
         "y": [
          0.8613006189251485,
          0.8579177071916155,
          0.8579177071916155
         ],
         "type": "scatter"
        },
        {
         "fill": "toself",
         "line": {
          "color": "LightSeaGreen",
          "width": 2
         },
         "mode": "lines",
         "showlegend": false,
         "x": [
          -0.087890625,
          -0.0859375,
          -0.08984375
         ],
         "y": [
          0.7192183261167641,
          0.7158354143832311,
          0.7158354143832311
         ],
         "type": "scatter"
        },
        {
         "fill": "toself",
         "line": {
          "color": "LightSeaGreen",
          "width": 2
         },
         "mode": "lines",
         "showlegend": false,
         "x": [
          -0.318359375,
          -0.31640625,
          -0.3203125
         ],
         "y": [
          0.4147562700987974,
          0.41137335836526445,
          0.41137335836526445
         ],
         "type": "scatter"
        },
        {
         "fill": "toself",
         "line": {
          "color": "LightSeaGreen",
          "width": 2
         },
         "mode": "lines",
         "showlegend": false,
         "x": [
          -0.353515625,
          -0.3515625,
          -0.35546875
         ],
         "y": [
          0.13735750794909435,
          0.13397459621556138,
          0.13397459621556138
         ],
         "type": "scatter"
        },
        {
         "fill": "toself",
         "line": {
          "color": "LightSeaGreen",
          "width": 2
         },
         "mode": "lines",
         "showlegend": false,
         "x": [
          -0.123046875,
          -0.12109375,
          -0.125
         ],
         "y": [
          0.732749973050896,
          0.729367061317363,
          0.729367061317363
         ],
         "type": "scatter"
        },
        {
         "fill": "toself",
         "line": {
          "color": "LightSeaGreen",
          "width": 2
         },
         "mode": "lines",
         "showlegend": false,
         "x": [
          0.337890625,
          0.33984375,
          0.3359375
         ],
         "y": [
          0.1982499191526877,
          0.19486700741915472,
          0.19486700741915472
         ],
         "type": "scatter"
        },
        {
         "fill": "toself",
         "line": {
          "color": "LightSeaGreen",
          "width": 2
         },
         "mode": "lines",
         "showlegend": false,
         "x": [
          0.216796875,
          0.21875,
          0.21484375
         ],
         "y": [
          0.35386385889520405,
          0.3504809471616711,
          0.3504809471616711
         ],
         "type": "scatter"
        },
        {
         "fill": "toself",
         "line": {
          "color": "LightSeaGreen",
          "width": 2
         },
         "mode": "lines",
         "showlegend": false,
         "x": [
          0.03515625,
          0.037109375,
          0.033203125
         ],
         "y": [
          0.7902594725209563,
          0.7868765607874233,
          0.7868765607874233
         ],
         "type": "scatter"
        },
        {
         "fill": "toself",
         "line": {
          "color": "LightSeaGreen",
          "width": 2
         },
         "mode": "lines",
         "showlegend": false,
         "x": [
          0.041015625,
          0.04296875,
          0.0390625
         ],
         "y": [
          0.14412333141616027,
          0.1407404196826273,
          0.1407404196826273
         ],
         "type": "scatter"
        },
        {
         "fill": "toself",
         "line": {
          "color": "LightSeaGreen",
          "width": 2
         },
         "mode": "lines",
         "showlegend": false,
         "x": [
          -0.1328125,
          -0.130859375,
          -0.134765625
         ],
         "y": [
          0.3369493002275392,
          0.33356638849400627,
          0.33356638849400627
         ],
         "type": "scatter"
        },
        {
         "fill": "toself",
         "line": {
          "color": "LightSeaGreen",
          "width": 2
         },
         "mode": "lines",
         "showlegend": false,
         "x": [
          -0.02734375,
          -0.025390625,
          -0.029296875
         ],
         "y": [
          0.14074041968262732,
          0.13735750794909435,
          0.13735750794909435
         ],
         "type": "scatter"
        },
        {
         "fill": "toself",
         "line": {
          "color": "LightSeaGreen",
          "width": 2
         },
         "mode": "lines",
         "showlegend": false,
         "x": [
          0.166015625,
          0.16796875,
          0.1640625
         ],
         "y": [
          0.20501574261975364,
          0.20163283088622067,
          0.20163283088622067
         ],
         "type": "scatter"
        },
        {
         "fill": "toself",
         "line": {
          "color": "LightSeaGreen",
          "width": 2
         },
         "mode": "lines",
         "showlegend": false,
         "x": [
          -0.259765625,
          -0.2578125,
          -0.26171875
         ],
         "y": [
          0.13735750794909435,
          0.13397459621556138,
          0.13397459621556138
         ],
         "type": "scatter"
        },
        {
         "fill": "toself",
         "line": {
          "color": "LightSeaGreen",
          "width": 2
         },
         "mode": "lines",
         "showlegend": false,
         "x": [
          0.197265625,
          0.19921875,
          0.1953125
         ],
         "y": [
          0.6244967975778412,
          0.6211138858443082,
          0.6211138858443082
         ],
         "type": "scatter"
        },
        {
         "fill": "toself",
         "line": {
          "color": "LightSeaGreen",
          "width": 2
         },
         "mode": "lines",
         "showlegend": false,
         "x": [
          -0.07421875,
          -0.072265625,
          -0.076171875
         ],
         "y": [
          0.19486700741915475,
          0.19148409568562177,
          0.19148409568562177
         ],
         "type": "scatter"
        },
        {
         "fill": "toself",
         "line": {
          "color": "LightSeaGreen",
          "width": 2
         },
         "mode": "lines",
         "showlegend": false,
         "x": [
          0.267578125,
          0.26953125,
          0.265625
         ],
         "y": [
          0.5162436221047862,
          0.5128607103712532,
          0.5128607103712532
         ],
         "type": "scatter"
        },
        {
         "fill": "toself",
         "line": {
          "color": "LightSeaGreen",
          "width": 2
         },
         "mode": "lines",
         "showlegend": false,
         "x": [
          -0.3359375,
          -0.333984375,
          -0.337890625
         ],
         "y": [
          0.2828227124910118,
          0.2794398007574789,
          0.2794398007574789
         ],
         "type": "scatter"
        },
        {
         "fill": "toself",
         "line": {
          "color": "LightSeaGreen",
          "width": 2
         },
         "mode": "lines",
         "showlegend": false,
         "x": [
          0.05078125,
          0.052734375,
          0.048828125
         ],
         "y": [
          0.22193030128741845,
          0.21854738955388547,
          0.21854738955388547
         ],
         "type": "scatter"
        },
        {
         "fill": "toself",
         "line": {
          "color": "LightSeaGreen",
          "width": 2
         },
         "mode": "lines",
         "showlegend": false,
         "x": [
          0.005859375,
          0.0078125,
          0.00390625
         ],
         "y": [
          0.9560221474640714,
          0.9526392357305384,
          0.9526392357305384
         ],
         "type": "scatter"
        },
        {
         "fill": "toself",
         "line": {
          "color": "LightSeaGreen",
          "width": 2
         },
         "mode": "lines",
         "showlegend": false,
         "x": [
          0.150390625,
          0.15234375,
          0.1484375
         ],
         "y": [
          0.25237650688921515,
          0.24899359515568217,
          0.24899359515568217
         ],
         "type": "scatter"
        },
        {
         "fill": "toself",
         "line": {
          "color": "LightSeaGreen",
          "width": 2
         },
         "mode": "lines",
         "showlegend": false,
         "x": [
          -0.236328125,
          -0.234375,
          -0.23828125
         ],
         "y": [
          0.15765497835029213,
          0.15427206661675916,
          0.15427206661675916
         ],
         "type": "scatter"
        },
        {
         "fill": "toself",
         "line": {
          "color": "LightSeaGreen",
          "width": 2
         },
         "mode": "lines",
         "showlegend": false,
         "x": [
          0.232421875,
          0.234375,
          0.23046875
         ],
         "y": [
          0.5297752690389181,
          0.5263923573053851,
          0.5263923573053851
         ],
         "type": "scatter"
        },
        {
         "fill": "toself",
         "line": {
          "color": "LightSeaGreen",
          "width": 2
         },
         "mode": "lines",
         "showlegend": false,
         "x": [
          0.283203125,
          0.28515625,
          0.28125
         ],
         "y": [
          0.5027119751706544,
          0.4993290634371214,
          0.4993290634371214
         ],
         "type": "scatter"
        },
        {
         "fill": "toself",
         "line": {
          "color": "LightSeaGreen",
          "width": 2
         },
         "mode": "lines",
         "showlegend": false,
         "x": [
          -0.451171875,
          -0.44921875,
          -0.453125
         ],
         "y": [
          0.20501574261975364,
          0.20163283088622067,
          0.20163283088622067
         ],
         "type": "scatter"
        },
        {
         "fill": "toself",
         "line": {
          "color": "LightSeaGreen",
          "width": 2
         },
         "mode": "lines",
         "showlegend": false,
         "x": [
          0.19140625,
          0.193359375,
          0.189453125
         ],
         "y": [
          0.6278797093113742,
          0.6244967975778412,
          0.6244967975778412
         ],
         "type": "scatter"
        },
        {
         "fill": "toself",
         "line": {
          "color": "LightSeaGreen",
          "width": 2
         },
         "mode": "lines",
         "showlegend": false,
         "x": [
          0.220703125,
          0.22265625,
          0.21875
         ],
         "y": [
          0.16442080181735805,
          0.16103789008382507,
          0.16103789008382507
         ],
         "type": "scatter"
        },
        {
         "fill": "toself",
         "line": {
          "color": "LightSeaGreen",
          "width": 2
         },
         "mode": "lines",
         "showlegend": false,
         "x": [
          0.1640625,
          0.166015625,
          0.162109375
         ],
         "y": [
          0.17456953701795694,
          0.17118662528442397,
          0.17118662528442397
         ],
         "type": "scatter"
        },
        {
         "fill": "toself",
         "line": {
          "color": "LightSeaGreen",
          "width": 2
         },
         "mode": "lines",
         "showlegend": false,
         "x": [
          -0.107421875,
          -0.10546875,
          -0.109375
         ],
         "y": [
          0.5906676802425115,
          0.5872847685089785,
          0.5872847685089785
         ],
         "type": "scatter"
        },
        {
         "fill": "toself",
         "line": {
          "color": "LightSeaGreen",
          "width": 2
         },
         "mode": "lines",
         "showlegend": false,
         "x": [
          -0.08984375,
          -0.087890625,
          -0.091796875
         ],
         "y": [
          0.2760568890239459,
          0.2726739772904129,
          0.2726739772904129
         ],
         "type": "scatter"
        },
        {
         "fill": "toself",
         "line": {
          "color": "LightSeaGreen",
          "width": 2
         },
         "mode": "lines",
         "showlegend": false,
         "x": [
          0.244140625,
          0.24609375,
          0.2421875
         ],
         "y": [
          0.36062968236227,
          0.35724677062873705,
          0.35724677062873705
         ],
         "type": "scatter"
        },
        {
         "fill": "toself",
         "line": {
          "color": "LightSeaGreen",
          "width": 2
         },
         "mode": "lines",
         "showlegend": false,
         "x": [
          0.0859375,
          0.087890625,
          0.083984375
         ],
         "y": [
          0.5805189450419126,
          0.5771360333083796,
          0.5771360333083796
         ],
         "type": "scatter"
        },
        {
         "fill": "toself",
         "line": {
          "color": "LightSeaGreen",
          "width": 2
         },
         "mode": "lines",
         "showlegend": false,
         "x": [
          0.283203125,
          0.28515625,
          0.28125
         ],
         "y": [
          0.19148409568562177,
          0.1881011839520888,
          0.1881011839520888
         ],
         "type": "scatter"
        },
        {
         "fill": "toself",
         "line": {
          "color": "LightSeaGreen",
          "width": 2
         },
         "mode": "lines",
         "showlegend": false,
         "x": [
          -0.212890625,
          -0.2109375,
          -0.21484375
         ],
         "y": [
          0.19148409568562177,
          0.1881011839520888,
          0.1881011839520888
         ],
         "type": "scatter"
        },
        {
         "fill": "toself",
         "line": {
          "color": "LightSeaGreen",
          "width": 2
         },
         "mode": "lines",
         "showlegend": false,
         "x": [
          0.1484375,
          0.150390625,
          0.146484375
         ],
         "y": [
          0.2828227124910118,
          0.2794398007574789,
          0.2794398007574789
         ],
         "type": "scatter"
        },
        {
         "fill": "toself",
         "line": {
          "color": "LightSeaGreen",
          "width": 2
         },
         "mode": "lines",
         "showlegend": false,
         "x": [
          0.1875,
          0.189453125,
          0.185546875
         ],
         "y": [
          0.4587341226347259,
          0.45535121090119296,
          0.45535121090119296
         ],
         "type": "scatter"
        },
        {
         "fill": "toself",
         "line": {
          "color": "LightSeaGreen",
          "width": 2
         },
         "mode": "lines",
         "showlegend": false,
         "x": [
          0.107421875,
          0.109375,
          0.10546875
         ],
         "y": [
          0.25914233035628104,
          0.2557594186227481,
          0.2557594186227481
         ],
         "type": "scatter"
        },
        {
         "fill": "toself",
         "line": {
          "color": "LightSeaGreen",
          "width": 2
         },
         "mode": "lines",
         "showlegend": false,
         "x": [
          -0.07421875,
          -0.072265625,
          -0.076171875
         ],
         "y": [
          0.6549430031796378,
          0.6515600914461048,
          0.6515600914461048
         ],
         "type": "scatter"
        },
        {
         "fill": "toself",
         "line": {
          "color": "LightSeaGreen",
          "width": 2
         },
         "mode": "lines",
         "showlegend": false,
         "x": [
          0.134765625,
          0.13671875,
          0.1328125
         ],
         "y": [
          0.7395157965179618,
          0.7361328847844288,
          0.7361328847844288
         ],
         "type": "scatter"
        },
        {
         "fill": "toself",
         "line": {
          "color": "LightSeaGreen",
          "width": 2
         },
         "mode": "lines",
         "showlegend": false,
         "x": [
          -0.11328125,
          -0.111328125,
          -0.115234375
         ],
         "y": [
          0.6955379439820334,
          0.6921550322485004,
          0.6921550322485004
         ],
         "type": "scatter"
        },
        {
         "fill": "toself",
         "line": {
          "color": "LightSeaGreen",
          "width": 2
         },
         "mode": "lines",
         "showlegend": false,
         "x": [
          -0.009765625,
          -0.0078125,
          -0.01171875
         ],
         "y": [
          0.8004082077215552,
          0.7970252959880222,
          0.7970252959880222
         ],
         "type": "scatter"
        },
        {
         "fill": "toself",
         "line": {
          "color": "LightSeaGreen",
          "width": 2
         },
         "mode": "lines",
         "showlegend": false,
         "x": [
          0.16015625,
          0.162109375,
          0.158203125
         ],
         "y": [
          0.6008164154431104,
          0.5974335037095774,
          0.5974335037095774
         ],
         "type": "scatter"
        },
        {
         "fill": "toself",
         "line": {
          "color": "LightSeaGreen",
          "width": 2
         },
         "mode": "lines",
         "showlegend": false,
         "x": [
          0.173828125,
          0.17578125,
          0.171875
         ],
         "y": [
          0.13735750794909435,
          0.13397459621556138,
          0.13397459621556138
         ],
         "type": "scatter"
        },
        {
         "fill": "toself",
         "line": {
          "color": "LightSeaGreen",
          "width": 2
         },
         "mode": "lines",
         "showlegend": false,
         "x": [
          0.41015625,
          0.412109375,
          0.408203125
         ],
         "y": [
          0.19486700741915475,
          0.19148409568562177,
          0.19148409568562177
         ],
         "type": "scatter"
        },
        {
         "fill": "toself",
         "line": {
          "color": "LightSeaGreen",
          "width": 2
         },
         "mode": "lines",
         "showlegend": false,
         "x": [
          0.423828125,
          0.42578125,
          0.421875
         ],
         "y": [
          0.2456106834221492,
          0.24222777168861623,
          0.24222777168861623
         ],
         "type": "scatter"
        },
        {
         "fill": "toself",
         "line": {
          "color": "LightSeaGreen",
          "width": 2
         },
         "mode": "lines",
         "showlegend": false,
         "x": [
          0.201171875,
          0.203125,
          0.19921875
         ],
         "y": [
          0.40799044663173145,
          0.4046075348981985,
          0.4046075348981985
         ],
         "type": "scatter"
        },
        {
         "fill": "toself",
         "line": {
          "color": "LightSeaGreen",
          "width": 2
         },
         "mode": "lines",
         "showlegend": false,
         "x": [
          0.26953125,
          0.271484375,
          0.267578125
         ],
         "y": [
          0.15427206661675918,
          0.1508891548832262,
          0.1508891548832262
         ],
         "type": "scatter"
        },
        {
         "fill": "toself",
         "line": {
          "color": "LightSeaGreen",
          "width": 2
         },
         "mode": "lines",
         "showlegend": false,
         "x": [
          -0.044921875,
          -0.04296875,
          -0.046875
         ],
         "y": [
          0.16442080181735805,
          0.16103789008382507,
          0.16103789008382507
         ],
         "type": "scatter"
        },
        {
         "fill": "toself",
         "line": {
          "color": "LightSeaGreen",
          "width": 2
         },
         "mode": "lines",
         "showlegend": false,
         "x": [
          0.419921875,
          0.421875,
          0.41796875
         ],
         "y": [
          0.16442080181735805,
          0.16103789008382507,
          0.16103789008382507
         ],
         "type": "scatter"
        },
        {
         "fill": "toself",
         "line": {
          "color": "LightSeaGreen",
          "width": 2
         },
         "mode": "lines",
         "showlegend": false,
         "x": [
          -0.15625,
          -0.154296875,
          -0.158203125
         ],
         "y": [
          0.6211138858443082,
          0.6177309741107752,
          0.6177309741107752
         ],
         "type": "scatter"
        },
        {
         "fill": "toself",
         "line": {
          "color": "LightSeaGreen",
          "width": 2
         },
         "mode": "lines",
         "showlegend": false,
         "x": [
          -0.267578125,
          -0.265625,
          -0.26953125
         ],
         "y": [
          0.47564868130239063,
          0.4722657695688577,
          0.4722657695688577
         ],
         "type": "scatter"
        },
        {
         "fill": "toself",
         "line": {
          "color": "LightSeaGreen",
          "width": 2
         },
         "mode": "lines",
         "showlegend": false,
         "x": [
          -0.072265625,
          -0.0703125,
          -0.07421875
         ],
         "y": [
          0.6786233853143685,
          0.6752404735808355,
          0.6752404735808355
         ],
         "type": "scatter"
        },
        {
         "fill": "toself",
         "line": {
          "color": "LightSeaGreen",
          "width": 2
         },
         "mode": "lines",
         "showlegend": false,
         "x": [
          -0.205078125,
          -0.203125,
          -0.20703125
         ],
         "y": [
          0.5703702098413137,
          0.5669872981077807,
          0.5669872981077807
         ],
         "type": "scatter"
        },
        {
         "fill": "toself",
         "line": {
          "color": "LightSeaGreen",
          "width": 2
         },
         "mode": "lines",
         "showlegend": false,
         "x": [
          0.185546875,
          0.1875,
          0.18359375
         ],
         "y": [
          0.6515600914461048,
          0.6481771797125718,
          0.6481771797125718
         ],
         "type": "scatter"
        },
        {
         "fill": "toself",
         "line": {
          "color": "LightSeaGreen",
          "width": 2
         },
         "mode": "lines",
         "showlegend": false,
         "x": [
          -0.142578125,
          -0.140625,
          -0.14453125
         ],
         "y": [
          0.35386385889520405,
          0.3504809471616711,
          0.3504809471616711
         ],
         "type": "scatter"
        },
        {
         "fill": "toself",
         "line": {
          "color": "LightSeaGreen",
          "width": 2
         },
         "mode": "lines",
         "showlegend": false,
         "x": [
          0.44921875,
          0.451171875,
          0.447265625
         ],
         "y": [
          0.14074041968262732,
          0.13735750794909435,
          0.13735750794909435
         ],
         "type": "scatter"
        },
        {
         "fill": "toself",
         "line": {
          "color": "LightSeaGreen",
          "width": 2
         },
         "mode": "lines",
         "showlegend": false,
         "x": [
          -0.478515625,
          -0.4765625,
          -0.48046875
         ],
         "y": [
          0.14412333141616027,
          0.1407404196826273,
          0.1407404196826273
         ],
         "type": "scatter"
        },
        {
         "fill": "toself",
         "line": {
          "color": "LightSeaGreen",
          "width": 2
         },
         "mode": "lines",
         "showlegend": false,
         "x": [
          0.044921875,
          0.046875,
          0.04296875
         ],
         "y": [
          0.8410031485239507,
          0.8376202367904177,
          0.8376202367904177
         ],
         "type": "scatter"
        },
        {
         "fill": "toself",
         "line": {
          "color": "LightSeaGreen",
          "width": 2
         },
         "mode": "lines",
         "showlegend": false,
         "x": [
          -0.04296875,
          -0.041015625,
          -0.044921875
         ],
         "y": [
          0.8443860602574838,
          0.8410031485239507,
          0.8410031485239507
         ],
         "type": "scatter"
        },
        {
         "fill": "toself",
         "line": {
          "color": "LightSeaGreen",
          "width": 2
         },
         "mode": "lines",
         "showlegend": false,
         "x": [
          -0.02734375,
          -0.025390625,
          -0.029296875
         ],
         "y": [
          0.8985126479940111,
          0.8951297362604781,
          0.8951297362604781
         ],
         "type": "scatter"
        },
        {
         "fill": "toself",
         "line": {
          "color": "LightSeaGreen",
          "width": 2
         },
         "mode": "lines",
         "showlegend": false,
         "x": [
          0.095703125,
          0.09765625,
          0.09375
         ],
         "y": [
          0.2726739772904129,
          0.26929106555688,
          0.26929106555688
         ],
         "type": "scatter"
        },
        {
         "fill": "toself",
         "line": {
          "color": "LightSeaGreen",
          "width": 2
         },
         "mode": "lines",
         "showlegend": false,
         "x": [
          -0.2109375,
          -0.208984375,
          -0.212890625
         ],
         "y": [
          0.17456953701795694,
          0.17118662528442397,
          0.17118662528442397
         ],
         "type": "scatter"
        },
        {
         "fill": "toself",
         "line": {
          "color": "LightSeaGreen",
          "width": 2
         },
         "mode": "lines",
         "showlegend": false,
         "x": [
          0.14453125,
          0.146484375,
          0.142578125
         ],
         "y": [
          0.262525242089814,
          0.25914233035628104,
          0.25914233035628104
         ],
         "type": "scatter"
        },
        {
         "fill": "toself",
         "line": {
          "color": "LightSeaGreen",
          "width": 2
         },
         "mode": "lines",
         "showlegend": false,
         "x": [
          0.166015625,
          0.16796875,
          0.1640625
         ],
         "y": [
          0.1508891548832262,
          0.14750624314969324,
          0.14750624314969324
         ],
         "type": "scatter"
        },
        {
         "fill": "toself",
         "line": {
          "color": "LightSeaGreen",
          "width": 2
         },
         "mode": "lines",
         "showlegend": false,
         "x": [
          0.083984375,
          0.0859375,
          0.08203125
         ],
         "y": [
          0.631262621044907,
          0.627879709311374,
          0.627879709311374
         ],
         "type": "scatter"
        },
        {
         "fill": "toself",
         "line": {
          "color": "LightSeaGreen",
          "width": 2
         },
         "mode": "lines",
         "showlegend": false,
         "x": [
          0.064453125,
          0.06640625,
          0.0625
         ],
         "y": [
          0.13735750794909435,
          0.13397459621556138,
          0.13397459621556138
         ],
         "type": "scatter"
        },
        {
         "fill": "toself",
         "line": {
          "color": "LightSeaGreen",
          "width": 2
         },
         "mode": "lines",
         "showlegend": false,
         "x": [
          0.23828125,
          0.240234375,
          0.236328125
         ],
         "y": [
          0.15427206661675918,
          0.1508891548832262,
          0.1508891548832262
         ],
         "type": "scatter"
        },
        {
         "fill": "toself",
         "line": {
          "color": "LightSeaGreen",
          "width": 2
         },
         "mode": "lines",
         "showlegend": false,
         "x": [
          0.013671875,
          0.015625,
          0.01171875
         ],
         "y": [
          0.8071740311886211,
          0.8037911194550881,
          0.8037911194550881
         ],
         "type": "scatter"
        },
        {
         "fill": "toself",
         "line": {
          "color": "LightSeaGreen",
          "width": 2
         },
         "mode": "lines",
         "showlegend": false,
         "x": [
          0.138671875,
          0.140625,
          0.13671875
         ],
         "y": [
          0.3268005650269403,
          0.3234176532934074,
          0.3234176532934074
         ],
         "type": "scatter"
        },
        {
         "fill": "toself",
         "line": {
          "color": "LightSeaGreen",
          "width": 2
         },
         "mode": "lines",
         "showlegend": false,
         "x": [
          0.166015625,
          0.16796875,
          0.1640625
         ],
         "y": [
          0.3673955058293359,
          0.36401259409580294,
          0.36401259409580294
         ],
         "type": "scatter"
        },
        {
         "fill": "toself",
         "line": {
          "color": "LightSeaGreen",
          "width": 2
         },
         "mode": "lines",
         "showlegend": false,
         "x": [
          -0.423828125,
          -0.421875,
          -0.42578125
         ],
         "y": [
          0.13735750794909435,
          0.13397459621556138,
          0.13397459621556138
         ],
         "type": "scatter"
        },
        {
         "fill": "toself",
         "line": {
          "color": "LightSeaGreen",
          "width": 2
         },
         "mode": "lines",
         "showlegend": false,
         "x": [
          0.138671875,
          0.140625,
          0.13671875
         ],
         "y": [
          0.6921550322485004,
          0.6887721205149674,
          0.6887721205149674
         ],
         "type": "scatter"
        },
        {
         "fill": "toself",
         "line": {
          "color": "LightSeaGreen",
          "width": 2
         },
         "mode": "lines",
         "showlegend": false,
         "x": [
          -0.396484375,
          -0.39453125,
          -0.3984375
         ],
         "y": [
          0.13735750794909435,
          0.13397459621556138,
          0.13397459621556138
         ],
         "type": "scatter"
        },
        {
         "fill": "toself",
         "line": {
          "color": "LightSeaGreen",
          "width": 2
         },
         "mode": "lines",
         "showlegend": false,
         "x": [
          -0.26953125,
          -0.267578125,
          -0.271484375
         ],
         "y": [
          0.37077841756286883,
          0.3673955058293359,
          0.3673955058293359
         ],
         "type": "scatter"
        },
        {
         "fill": "toself",
         "line": {
          "color": "LightSeaGreen",
          "width": 2
         },
         "mode": "lines",
         "showlegend": false,
         "x": [
          -0.072265625,
          -0.0703125,
          -0.07421875
         ],
         "y": [
          0.6244967975778412,
          0.6211138858443082,
          0.6211138858443082
         ],
         "type": "scatter"
        },
        {
         "fill": "toself",
         "line": {
          "color": "LightSeaGreen",
          "width": 2
         },
         "mode": "lines",
         "showlegend": false,
         "x": [
          -0.201171875,
          -0.19921875,
          -0.203125
         ],
         "y": [
          0.5906676802425115,
          0.5872847685089785,
          0.5872847685089785
         ],
         "type": "scatter"
        },
        {
         "fill": "toself",
         "line": {
          "color": "LightSeaGreen",
          "width": 2
         },
         "mode": "lines",
         "showlegend": false,
         "x": [
          -0.083984375,
          -0.08203125,
          -0.0859375
         ],
         "y": [
          0.7868765607874233,
          0.7834936490538903,
          0.7834936490538903
         ],
         "type": "scatter"
        },
        {
         "fill": "toself",
         "line": {
          "color": "LightSeaGreen",
          "width": 2
         },
         "mode": "lines",
         "showlegend": false,
         "x": [
          0.15234375,
          0.154296875,
          0.150390625
         ],
         "y": [
          0.6008164154431104,
          0.5974335037095774,
          0.5974335037095774
         ],
         "type": "scatter"
        },
        {
         "fill": "toself",
         "line": {
          "color": "LightSeaGreen",
          "width": 2
         },
         "mode": "lines",
         "showlegend": false,
         "x": [
          -0.236328125,
          -0.234375,
          -0.23828125
         ],
         "y": [
          0.5839018567754456,
          0.5805189450419126,
          0.5805189450419126
         ],
         "type": "scatter"
        },
        {
         "fill": "toself",
         "line": {
          "color": "LightSeaGreen",
          "width": 2
         },
         "mode": "lines",
         "showlegend": false,
         "x": [
          -0.197265625,
          -0.1953125,
          -0.19921875
         ],
         "y": [
          0.20501574261975364,
          0.20163283088622067,
          0.20163283088622067
         ],
         "type": "scatter"
        },
        {
         "fill": "toself",
         "line": {
          "color": "LightSeaGreen",
          "width": 2
         },
         "mode": "lines",
         "showlegend": false,
         "x": [
          -0.103515625,
          -0.1015625,
          -0.10546875
         ],
         "y": [
          0.1508891548832262,
          0.14750624314969324,
          0.14750624314969324
         ],
         "type": "scatter"
        },
        {
         "fill": "toself",
         "line": {
          "color": "LightSeaGreen",
          "width": 2
         },
         "mode": "lines",
         "showlegend": false,
         "x": [
          0.037109375,
          0.0390625,
          0.03515625
         ],
         "y": [
          0.7868765607874233,
          0.7834936490538903,
          0.7834936490538903
         ],
         "type": "scatter"
        },
        {
         "fill": "toself",
         "line": {
          "color": "LightSeaGreen",
          "width": 2
         },
         "mode": "lines",
         "showlegend": false,
         "x": [
          -0.478515625,
          -0.4765625,
          -0.48046875
         ],
         "y": [
          0.1508891548832262,
          0.14750624314969324,
          0.14750624314969324
         ],
         "type": "scatter"
        },
        {
         "fill": "toself",
         "line": {
          "color": "LightSeaGreen",
          "width": 2
         },
         "mode": "lines",
         "showlegend": false,
         "x": [
          -0.23828125,
          -0.236328125,
          -0.240234375
         ],
         "y": [
          0.5466898277065829,
          0.5433069159730499,
          0.5433069159730499
         ],
         "type": "scatter"
        },
        {
         "fill": "toself",
         "line": {
          "color": "LightSeaGreen",
          "width": 2
         },
         "mode": "lines",
         "showlegend": false,
         "x": [
          0.2109375,
          0.212890625,
          0.208984375
         ],
         "y": [
          0.5805189450419126,
          0.5771360333083796,
          0.5771360333083796
         ],
         "type": "scatter"
        },
        {
         "fill": "toself",
         "line": {
          "color": "LightSeaGreen",
          "width": 2
         },
         "mode": "lines",
         "showlegend": false,
         "x": [
          0.34765625,
          0.349609375,
          0.345703125
         ],
         "y": [
          0.14074041968262732,
          0.13735750794909435,
          0.13735750794909435
         ],
         "type": "scatter"
        },
        {
         "fill": "toself",
         "line": {
          "color": "LightSeaGreen",
          "width": 2
         },
         "mode": "lines",
         "showlegend": false,
         "x": [
          0.162109375,
          0.1640625,
          0.16015625
         ],
         "y": [
          0.2456106834221492,
          0.24222777168861623,
          0.24222777168861623
         ],
         "type": "scatter"
        },
        {
         "fill": "toself",
         "line": {
          "color": "LightSeaGreen",
          "width": 2
         },
         "mode": "lines",
         "showlegend": false,
         "x": [
          -0.302734375,
          -0.30078125,
          -0.3046875
         ],
         "y": [
          0.13735750794909435,
          0.13397459621556138,
          0.13397459621556138
         ],
         "type": "scatter"
        },
        {
         "fill": "toself",
         "line": {
          "color": "LightSeaGreen",
          "width": 2
         },
         "mode": "lines",
         "showlegend": false,
         "x": [
          -0.43359375,
          -0.431640625,
          -0.435546875
         ],
         "y": [
          0.22193030128741845,
          0.21854738955388547,
          0.21854738955388547
         ],
         "type": "scatter"
        },
        {
         "fill": "toself",
         "line": {
          "color": "LightSeaGreen",
          "width": 2
         },
         "mode": "lines",
         "showlegend": false,
         "x": [
          -0.185546875,
          -0.18359375,
          -0.1875
         ],
         "y": [
          0.6650917383802367,
          0.6617088266467037,
          0.6617088266467037
         ],
         "type": "scatter"
        },
        {
         "fill": "toself",
         "line": {
          "color": "LightSeaGreen",
          "width": 2
         },
         "mode": "lines",
         "showlegend": false,
         "x": [
          0.091796875,
          0.09375,
          0.08984375
         ],
         "y": [
          0.72598414958383,
          0.722601237850297,
          0.722601237850297
         ],
         "type": "scatter"
        },
        {
         "fill": "toself",
         "line": {
          "color": "LightSeaGreen",
          "width": 2
         },
         "mode": "lines",
         "showlegend": false,
         "x": [
          -0.173828125,
          -0.171875,
          -0.17578125
         ],
         "y": [
          0.35386385889520405,
          0.3504809471616711,
          0.3504809471616711
         ],
         "type": "scatter"
        },
        {
         "fill": "toself",
         "line": {
          "color": "LightSeaGreen",
          "width": 2
         },
         "mode": "lines",
         "showlegend": false,
         "x": [
          0.15625,
          0.158203125,
          0.154296875
         ],
         "y": [
          0.729367061317363,
          0.72598414958383,
          0.72598414958383
         ],
         "type": "scatter"
        },
        {
         "fill": "toself",
         "line": {
          "color": "LightSeaGreen",
          "width": 2
         },
         "mode": "lines",
         "showlegend": false,
         "x": [
          0.056640625,
          0.05859375,
          0.0546875
         ],
         "y": [
          0.7868765607874233,
          0.7834936490538903,
          0.7834936490538903
         ],
         "type": "scatter"
        },
        {
         "fill": "toself",
         "line": {
          "color": "LightSeaGreen",
          "width": 2
         },
         "mode": "lines",
         "showlegend": false,
         "x": [
          -0.291015625,
          -0.2890625,
          -0.29296875
         ],
         "y": [
          0.1982499191526877,
          0.19486700741915472,
          0.19486700741915472
         ],
         "type": "scatter"
        },
        {
         "fill": "toself",
         "line": {
          "color": "LightSeaGreen",
          "width": 2
         },
         "mode": "lines",
         "showlegend": false,
         "x": [
          0.146484375,
          0.1484375,
          0.14453125
         ],
         "y": [
          0.25914233035628104,
          0.2557594186227481,
          0.2557594186227481
         ],
         "type": "scatter"
        },
        {
         "fill": "toself",
         "line": {
          "color": "LightSeaGreen",
          "width": 2
         },
         "mode": "lines",
         "showlegend": false,
         "x": [
          0.169921875,
          0.171875,
          0.16796875
         ],
         "y": [
          0.16442080181735805,
          0.16103789008382507,
          0.16103789008382507
         ],
         "type": "scatter"
        },
        {
         "fill": "toself",
         "line": {
          "color": "LightSeaGreen",
          "width": 2
         },
         "mode": "lines",
         "showlegend": false,
         "x": [
          -0.09765625,
          -0.095703125,
          -0.099609375
         ],
         "y": [
          0.14074041968262732,
          0.13735750794909435,
          0.13735750794909435
         ],
         "type": "scatter"
        },
        {
         "fill": "toself",
         "line": {
          "color": "LightSeaGreen",
          "width": 2
         },
         "mode": "lines",
         "showlegend": false,
         "x": [
          0.216796875,
          0.21875,
          0.21484375
         ],
         "y": [
          0.5027119751706544,
          0.4993290634371214,
          0.4993290634371214
         ],
         "type": "scatter"
        },
        {
         "fill": "toself",
         "line": {
          "color": "LightSeaGreen",
          "width": 2
         },
         "mode": "lines",
         "showlegend": false,
         "x": [
          -0.056640625,
          -0.0546875,
          -0.05859375
         ],
         "y": [
          0.6650917383802367,
          0.6617088266467037,
          0.6617088266467037
         ],
         "type": "scatter"
        },
        {
         "fill": "toself",
         "line": {
          "color": "LightSeaGreen",
          "width": 2
         },
         "mode": "lines",
         "showlegend": false,
         "x": [
          -0.181640625,
          -0.1796875,
          -0.18359375
         ],
         "y": [
          0.40799044663173145,
          0.4046075348981985,
          0.4046075348981985
         ],
         "type": "scatter"
        },
        {
         "fill": "toself",
         "line": {
          "color": "LightSeaGreen",
          "width": 2
         },
         "mode": "lines",
         "showlegend": false,
         "x": [
          0.099609375,
          0.1015625,
          0.09765625
         ],
         "y": [
          0.6853892087814344,
          0.6820062970479014,
          0.6820062970479014
         ],
         "type": "scatter"
        },
        {
         "fill": "toself",
         "line": {
          "color": "LightSeaGreen",
          "width": 2
         },
         "mode": "lines",
         "showlegend": false,
         "x": [
          0.322265625,
          0.32421875,
          0.3203125
         ],
         "y": [
          0.40799044663173145,
          0.4046075348981985,
          0.4046075348981985
         ],
         "type": "scatter"
        },
        {
         "fill": "toself",
         "line": {
          "color": "LightSeaGreen",
          "width": 2
         },
         "mode": "lines",
         "showlegend": false,
         "x": [
          -0.37890625,
          -0.376953125,
          -0.380859375
         ],
         "y": [
          0.24899359515568217,
          0.2456106834221492,
          0.2456106834221492
         ],
         "type": "scatter"
        },
        {
         "fill": "toself",
         "line": {
          "color": "LightSeaGreen",
          "width": 2
         },
         "mode": "lines",
         "showlegend": false,
         "x": [
          -0.267578125,
          -0.265625,
          -0.26953125
         ],
         "y": [
          0.4621170343682588,
          0.45873412263472585,
          0.45873412263472585
         ],
         "type": "scatter"
        },
        {
         "fill": "toself",
         "line": {
          "color": "LightSeaGreen",
          "width": 2
         },
         "mode": "lines",
         "showlegend": false,
         "x": [
          0.330078125,
          0.33203125,
          0.328125
         ],
         "y": [
          0.37416132929640183,
          0.3707784175628689,
          0.3707784175628689
         ],
         "type": "scatter"
        },
        {
         "fill": "toself",
         "line": {
          "color": "LightSeaGreen",
          "width": 2
         },
         "mode": "lines",
         "showlegend": false,
         "x": [
          -0.333984375,
          -0.33203125,
          -0.3359375
         ],
         "y": [
          0.3673955058293359,
          0.36401259409580294,
          0.36401259409580294
         ],
         "type": "scatter"
        },
        {
         "fill": "toself",
         "line": {
          "color": "LightSeaGreen",
          "width": 2
         },
         "mode": "lines",
         "showlegend": false,
         "x": [
          0.427734375,
          0.4296875,
          0.42578125
         ],
         "y": [
          0.13735750794909435,
          0.13397459621556138,
          0.13397459621556138
         ],
         "type": "scatter"
        },
        {
         "fill": "toself",
         "line": {
          "color": "LightSeaGreen",
          "width": 2
         },
         "mode": "lines",
         "showlegend": false,
         "x": [
          0.22265625,
          0.224609375,
          0.220703125
         ],
         "y": [
          0.3843100644970007,
          0.3809271527634678,
          0.3809271527634678
         ],
         "type": "scatter"
        },
        {
         "fill": "toself",
         "line": {
          "color": "LightSeaGreen",
          "width": 2
         },
         "mode": "lines",
         "showlegend": false,
         "x": [
          0.166015625,
          0.16796875,
          0.1640625
         ],
         "y": [
          0.20501574261975364,
          0.20163283088622067,
          0.20163283088622067
         ],
         "type": "scatter"
        },
        {
         "fill": "toself",
         "line": {
          "color": "LightSeaGreen",
          "width": 2
         },
         "mode": "lines",
         "showlegend": false,
         "x": [
          0.29296875,
          0.294921875,
          0.291015625
         ],
         "y": [
          0.4113733583652644,
          0.40799044663173145,
          0.40799044663173145
         ],
         "type": "scatter"
        },
        {
         "fill": "toself",
         "line": {
          "color": "LightSeaGreen",
          "width": 2
         },
         "mode": "lines",
         "showlegend": false,
         "x": [
          0.080078125,
          0.08203125,
          0.078125
         ],
         "y": [
          0.6989208557155663,
          0.6955379439820333,
          0.6955379439820333
         ],
         "type": "scatter"
        },
        {
         "fill": "toself",
         "line": {
          "color": "LightSeaGreen",
          "width": 2
         },
         "mode": "lines",
         "showlegend": false,
         "x": [
          -0.376953125,
          -0.375,
          -0.37890625
         ],
         "y": [
          0.34033221196107216,
          0.3369493002275392,
          0.3369493002275392
         ],
         "type": "scatter"
        },
        {
         "fill": "toself",
         "line": {
          "color": "LightSeaGreen",
          "width": 2
         },
         "mode": "lines",
         "showlegend": false,
         "x": [
          0.068359375,
          0.0703125,
          0.06640625
         ],
         "y": [
          0.6786233853143685,
          0.6752404735808355,
          0.6752404735808355
         ],
         "type": "scatter"
        },
        {
         "fill": "toself",
         "line": {
          "color": "LightSeaGreen",
          "width": 2
         },
         "mode": "lines",
         "showlegend": false,
         "x": [
          -0.333984375,
          -0.33203125,
          -0.3359375
         ],
         "y": [
          0.20501574261975364,
          0.20163283088622067,
          0.20163283088622067
         ],
         "type": "scatter"
        },
        {
         "fill": "toself",
         "line": {
          "color": "LightSeaGreen",
          "width": 2
         },
         "mode": "lines",
         "showlegend": false,
         "x": [
          0.025390625,
          0.02734375,
          0.0234375
         ],
         "y": [
          0.6041993271766433,
          0.6008164154431103,
          0.6008164154431103
         ],
         "type": "scatter"
        },
        {
         "fill": "toself",
         "line": {
          "color": "LightSeaGreen",
          "width": 2
         },
         "mode": "lines",
         "showlegend": false,
         "x": [
          0.458984375,
          0.4609375,
          0.45703125
         ],
         "y": [
          0.17118662528442397,
          0.167803713550891,
          0.167803713550891
         ],
         "type": "scatter"
        },
        {
         "fill": "toself",
         "line": {
          "color": "LightSeaGreen",
          "width": 2
         },
         "mode": "lines",
         "showlegend": false,
         "x": [
          0.060546875,
          0.0625,
          0.05859375
         ],
         "y": [
          0.7868765607874233,
          0.7834936490538903,
          0.7834936490538903
         ],
         "type": "scatter"
        },
        {
         "fill": "toself",
         "line": {
          "color": "LightSeaGreen",
          "width": 2
         },
         "mode": "lines",
         "showlegend": false,
         "x": [
          -0.43359375,
          -0.431640625,
          -0.435546875
         ],
         "y": [
          0.19486700741915475,
          0.19148409568562177,
          0.19148409568562177
         ],
         "type": "scatter"
        },
        {
         "fill": "toself",
         "line": {
          "color": "LightSeaGreen",
          "width": 2
         },
         "mode": "lines",
         "showlegend": false,
         "x": [
          -0.404296875,
          -0.40234375,
          -0.40625
         ],
         "y": [
          0.2726739772904129,
          0.26929106555688,
          0.26929106555688
         ],
         "type": "scatter"
        },
        {
         "fill": "toself",
         "line": {
          "color": "LightSeaGreen",
          "width": 2
         },
         "mode": "lines",
         "showlegend": false,
         "x": [
          -0.041015625,
          -0.0390625,
          -0.04296875
         ],
         "y": [
          0.1508891548832262,
          0.14750624314969324,
          0.14750624314969324
         ],
         "type": "scatter"
        },
        {
         "fill": "toself",
         "line": {
          "color": "LightSeaGreen",
          "width": 2
         },
         "mode": "lines",
         "showlegend": false,
         "x": [
          -0.244140625,
          -0.2421875,
          -0.24609375
         ],
         "y": [
          0.5500727394401158,
          0.5466898277065828,
          0.5466898277065828
         ],
         "type": "scatter"
        },
        {
         "fill": "toself",
         "line": {
          "color": "LightSeaGreen",
          "width": 2
         },
         "mode": "lines",
         "showlegend": false,
         "x": [
          0.083984375,
          0.0859375,
          0.08203125
         ],
         "y": [
          0.638028444511973,
          0.63464553277844,
          0.63464553277844
         ],
         "type": "scatter"
        },
        {
         "fill": "toself",
         "line": {
          "color": "LightSeaGreen",
          "width": 2
         },
         "mode": "lines",
         "showlegend": false,
         "x": [
          0.25390625,
          0.255859375,
          0.251953125
         ],
         "y": [
          0.5196265338383192,
          0.5162436221047862,
          0.5162436221047862
         ],
         "type": "scatter"
        },
        {
         "fill": "toself",
         "line": {
          "color": "LightSeaGreen",
          "width": 2
         },
         "mode": "lines",
         "showlegend": false,
         "x": [
          -0.08203125,
          -0.080078125,
          -0.083984375
         ],
         "y": [
          0.8037911194550882,
          0.8004082077215552,
          0.8004082077215552
         ],
         "type": "scatter"
        },
        {
         "fill": "toself",
         "line": {
          "color": "LightSeaGreen",
          "width": 2
         },
         "mode": "lines",
         "showlegend": false,
         "x": [
          -0.197265625,
          -0.1953125,
          -0.19921875
         ],
         "y": [
          0.47564868130239063,
          0.4722657695688577,
          0.4722657695688577
         ],
         "type": "scatter"
        },
        {
         "fill": "toself",
         "line": {
          "color": "LightSeaGreen",
          "width": 2
         },
         "mode": "lines",
         "showlegend": false,
         "x": [
          0.091796875,
          0.09375,
          0.08984375
         ],
         "y": [
          0.2726739772904129,
          0.26929106555688,
          0.26929106555688
         ],
         "type": "scatter"
        },
        {
         "fill": "toself",
         "line": {
          "color": "LightSeaGreen",
          "width": 2
         },
         "mode": "lines",
         "showlegend": false,
         "x": [
          0.095703125,
          0.09765625,
          0.09375
         ],
         "y": [
          0.28620562422454476,
          0.2828227124910118,
          0.2828227124910118
         ],
         "type": "scatter"
        },
        {
         "fill": "toself",
         "line": {
          "color": "LightSeaGreen",
          "width": 2
         },
         "mode": "lines",
         "showlegend": false,
         "x": [
          -0.00390625,
          -0.001953125,
          -0.005859375
         ],
         "y": [
          0.14074041968262732,
          0.13735750794909435,
          0.13735750794909435
         ],
         "type": "scatter"
        },
        {
         "fill": "toself",
         "line": {
          "color": "LightSeaGreen",
          "width": 2
         },
         "mode": "lines",
         "showlegend": false,
         "x": [
          0.224609375,
          0.2265625,
          0.22265625
         ],
         "y": [
          0.17118662528442397,
          0.167803713550891,
          0.167803713550891
         ],
         "type": "scatter"
        },
        {
         "fill": "toself",
         "line": {
          "color": "LightSeaGreen",
          "width": 2
         },
         "mode": "lines",
         "showlegend": false,
         "x": [
          -0.146484375,
          -0.14453125,
          -0.1484375
         ],
         "y": [
          0.25237650688921515,
          0.24899359515568217,
          0.24899359515568217
         ],
         "type": "scatter"
        },
        {
         "fill": "toself",
         "line": {
          "color": "LightSeaGreen",
          "width": 2
         },
         "mode": "lines",
         "showlegend": false,
         "x": [
          0.451171875,
          0.453125,
          0.44921875
         ],
         "y": [
          0.21178156608681956,
          0.20839865435328658,
          0.20839865435328658
         ],
         "type": "scatter"
        },
        {
         "fill": "toself",
         "line": {
          "color": "LightSeaGreen",
          "width": 2
         },
         "mode": "lines",
         "showlegend": false,
         "x": [
          -0.455078125,
          -0.453125,
          -0.45703125
         ],
         "y": [
          0.19148409568562177,
          0.1881011839520888,
          0.1881011839520888
         ],
         "type": "scatter"
        },
        {
         "fill": "toself",
         "line": {
          "color": "LightSeaGreen",
          "width": 2
         },
         "mode": "lines",
         "showlegend": false,
         "x": [
          0.10546875,
          0.107421875,
          0.103515625
         ],
         "y": [
          0.736132884784429,
          0.732749973050896,
          0.732749973050896
         ],
         "type": "scatter"
        },
        {
         "fill": "toself",
         "line": {
          "color": "LightSeaGreen",
          "width": 2
         },
         "mode": "lines",
         "showlegend": false,
         "x": [
          0.10546875,
          0.107421875,
          0.103515625
         ],
         "y": [
          0.5737531215748467,
          0.5703702098413137,
          0.5703702098413137
         ],
         "type": "scatter"
        },
        {
         "fill": "toself",
         "line": {
          "color": "LightSeaGreen",
          "width": 2
         },
         "mode": "lines",
         "showlegend": false,
         "x": [
          -0.322265625,
          -0.3203125,
          -0.32421875
         ],
         "y": [
          0.35386385889520405,
          0.3504809471616711,
          0.3504809471616711
         ],
         "type": "scatter"
        },
        {
         "fill": "toself",
         "line": {
          "color": "LightSeaGreen",
          "width": 2
         },
         "mode": "lines",
         "showlegend": false,
         "x": [
          0.029296875,
          0.03125,
          0.02734375
         ],
         "y": [
          0.9492563239970055,
          0.9458734122634725,
          0.9458734122634725
         ],
         "type": "scatter"
        },
        {
         "fill": "toself",
         "line": {
          "color": "LightSeaGreen",
          "width": 2
         },
         "mode": "lines",
         "showlegend": false,
         "x": [
          -0.02734375,
          -0.025390625,
          -0.029296875
         ],
         "y": [
          0.16780371355089102,
          0.16442080181735805,
          0.16442080181735805
         ],
         "type": "scatter"
        },
        {
         "fill": "toself",
         "line": {
          "color": "LightSeaGreen",
          "width": 2
         },
         "mode": "lines",
         "showlegend": false,
         "x": [
          0.130859375,
          0.1328125,
          0.12890625
         ],
         "y": [
          0.2456106834221492,
          0.24222777168861623,
          0.24222777168861623
         ],
         "type": "scatter"
        },
        {
         "fill": "toself",
         "line": {
          "color": "LightSeaGreen",
          "width": 2
         },
         "mode": "lines",
         "showlegend": false,
         "x": [
          -0.18359375,
          -0.181640625,
          -0.185546875
         ],
         "y": [
          0.6278797093113742,
          0.6244967975778412,
          0.6244967975778412
         ],
         "type": "scatter"
        },
        {
         "fill": "toself",
         "line": {
          "color": "LightSeaGreen",
          "width": 2
         },
         "mode": "lines",
         "showlegend": false,
         "x": [
          0.35546875,
          0.357421875,
          0.353515625
         ],
         "y": [
          0.262525242089814,
          0.25914233035628104,
          0.25914233035628104
         ],
         "type": "scatter"
        },
        {
         "fill": "toself",
         "line": {
          "color": "LightSeaGreen",
          "width": 2
         },
         "mode": "lines",
         "showlegend": false,
         "x": [
          -0.412109375,
          -0.41015625,
          -0.4140625
         ],
         "y": [
          0.14412333141616027,
          0.1407404196826273,
          0.1407404196826273
         ],
         "type": "scatter"
        },
        {
         "fill": "toself",
         "line": {
          "color": "LightSeaGreen",
          "width": 2
         },
         "mode": "lines",
         "showlegend": false,
         "x": [
          -0.033203125,
          -0.03125,
          -0.03515625
         ],
         "y": [
          0.6177309741107752,
          0.6143480623772422,
          0.6143480623772422
         ],
         "type": "scatter"
        },
        {
         "fill": "toself",
         "line": {
          "color": "LightSeaGreen",
          "width": 2
         },
         "mode": "lines",
         "showlegend": false,
         "x": [
          0.169921875,
          0.171875,
          0.16796875
         ],
         "y": [
          0.5839018567754456,
          0.5805189450419126,
          0.5805189450419126
         ],
         "type": "scatter"
        },
        {
         "fill": "toself",
         "line": {
          "color": "LightSeaGreen",
          "width": 2
         },
         "mode": "lines",
         "showlegend": false,
         "x": [
          -0.0078125,
          -0.005859375,
          -0.009765625
         ],
         "y": [
          0.905278471461077,
          0.901895559727544,
          0.901895559727544
         ],
         "type": "scatter"
        },
        {
         "fill": "toself",
         "line": {
          "color": "LightSeaGreen",
          "width": 2
         },
         "mode": "lines",
         "showlegend": false,
         "x": [
          -0.099609375,
          -0.09765625,
          -0.1015625
         ],
         "y": [
          0.6041993271766433,
          0.6008164154431103,
          0.6008164154431103
         ],
         "type": "scatter"
        },
        {
         "fill": "toself",
         "line": {
          "color": "LightSeaGreen",
          "width": 2
         },
         "mode": "lines",
         "showlegend": false,
         "x": [
          0.017578125,
          0.01953125,
          0.015625
         ],
         "y": [
          0.8004082077215552,
          0.7970252959880222,
          0.7970252959880222
         ],
         "type": "scatter"
        },
        {
         "fill": "toself",
         "line": {
          "color": "LightSeaGreen",
          "width": 2
         },
         "mode": "lines",
         "showlegend": false,
         "x": [
          -0.416015625,
          -0.4140625,
          -0.41796875
         ],
         "y": [
          0.1982499191526877,
          0.19486700741915472,
          0.19486700741915472
         ],
         "type": "scatter"
        },
        {
         "fill": "toself",
         "line": {
          "color": "LightSeaGreen",
          "width": 2
         },
         "mode": "lines",
         "showlegend": false,
         "x": [
          0.423828125,
          0.42578125,
          0.421875
         ],
         "y": [
          0.13735750794909435,
          0.13397459621556138,
          0.13397459621556138
         ],
         "type": "scatter"
        },
        {
         "fill": "toself",
         "line": {
          "color": "LightSeaGreen",
          "width": 2
         },
         "mode": "lines",
         "showlegend": false,
         "x": [
          0.181640625,
          0.18359375,
          0.1796875
         ],
         "y": [
          0.6583259149131707,
          0.6549430031796377,
          0.6549430031796377
         ],
         "type": "scatter"
        },
        {
         "fill": "toself",
         "line": {
          "color": "LightSeaGreen",
          "width": 2
         },
         "mode": "lines",
         "showlegend": false,
         "x": [
          0.185546875,
          0.1875,
          0.18359375
         ],
         "y": [
          0.40799044663173145,
          0.4046075348981985,
          0.4046075348981985
         ],
         "type": "scatter"
        },
        {
         "fill": "toself",
         "line": {
          "color": "LightSeaGreen",
          "width": 2
         },
         "mode": "lines",
         "showlegend": false,
         "x": [
          0.32421875,
          0.326171875,
          0.322265625
         ],
         "y": [
          0.4113733583652644,
          0.40799044663173145,
          0.40799044663173145
         ],
         "type": "scatter"
        },
        {
         "fill": "toself",
         "line": {
          "color": "LightSeaGreen",
          "width": 2
         },
         "mode": "lines",
         "showlegend": false,
         "x": [
          0.162109375,
          0.1640625,
          0.16015625
         ],
         "y": [
          0.19148409568562177,
          0.1881011839520888,
          0.1881011839520888
         ],
         "type": "scatter"
        },
        {
         "fill": "toself",
         "line": {
          "color": "LightSeaGreen",
          "width": 2
         },
         "mode": "lines",
         "showlegend": false,
         "x": [
          -0.45703125,
          -0.455078125,
          -0.458984375
         ],
         "y": [
          0.2083986543532866,
          0.20501574261975364,
          0.20501574261975364
         ],
         "type": "scatter"
        },
        {
         "fill": "toself",
         "line": {
          "color": "LightSeaGreen",
          "width": 2
         },
         "mode": "lines",
         "showlegend": false,
         "x": [
          -0.310546875,
          -0.30859375,
          -0.3125
         ],
         "y": [
          0.13735750794909435,
          0.13397459621556138,
          0.13397459621556138
         ],
         "type": "scatter"
        },
        {
         "fill": "toself",
         "line": {
          "color": "LightSeaGreen",
          "width": 2
         },
         "mode": "lines",
         "showlegend": false,
         "x": [
          -0.181640625,
          -0.1796875,
          -0.18359375
         ],
         "y": [
          0.35386385889520405,
          0.3504809471616711,
          0.3504809471616711
         ],
         "type": "scatter"
        },
        {
         "fill": "toself",
         "line": {
          "color": "LightSeaGreen",
          "width": 2
         },
         "mode": "lines",
         "showlegend": false,
         "x": [
          -0.10546875,
          -0.103515625,
          -0.107421875
         ],
         "y": [
          0.7496645317185608,
          0.7462816199850278,
          0.7462816199850278
         ],
         "type": "scatter"
        },
        {
         "fill": "toself",
         "line": {
          "color": "LightSeaGreen",
          "width": 2
         },
         "mode": "lines",
         "showlegend": false,
         "x": [
          -0.154296875,
          -0.15234375,
          -0.15625
         ],
         "y": [
          0.5974335037095774,
          0.5940505919760444,
          0.5940505919760444
         ],
         "type": "scatter"
        },
        {
         "fill": "toself",
         "line": {
          "color": "LightSeaGreen",
          "width": 2
         },
         "mode": "lines",
         "showlegend": false,
         "x": [
          0.259765625,
          0.26171875,
          0.2578125
         ],
         "y": [
          0.47564868130239063,
          0.4722657695688577,
          0.4722657695688577
         ],
         "type": "scatter"
        },
        {
         "fill": "toself",
         "line": {
          "color": "LightSeaGreen",
          "width": 2
         },
         "mode": "lines",
         "showlegend": false,
         "x": [
          0.103515625,
          0.10546875,
          0.1015625
         ],
         "y": [
          0.7936423842544892,
          0.7902594725209562,
          0.7902594725209562
         ],
         "type": "scatter"
        },
        {
         "fill": "toself",
         "line": {
          "color": "LightSeaGreen",
          "width": 2
         },
         "mode": "lines",
         "showlegend": false,
         "x": [
          -0.005859375,
          -0.00390625,
          -0.0078125
         ],
         "y": [
          0.7936423842544892,
          0.7902594725209562,
          0.7902594725209562
         ],
         "type": "scatter"
        },
        {
         "fill": "toself",
         "line": {
          "color": "LightSeaGreen",
          "width": 2
         },
         "mode": "lines",
         "showlegend": false,
         "x": [
          -0.419921875,
          -0.41796875,
          -0.421875
         ],
         "y": [
          0.16442080181735805,
          0.16103789008382507,
          0.16103789008382507
         ],
         "type": "scatter"
        },
        {
         "fill": "toself",
         "line": {
          "color": "LightSeaGreen",
          "width": 2
         },
         "mode": "lines",
         "showlegend": false,
         "x": [
          -0.14453125,
          -0.142578125,
          -0.146484375
         ],
         "y": [
          0.6955379439820334,
          0.6921550322485004,
          0.6921550322485004
         ],
         "type": "scatter"
        },
        {
         "fill": "toself",
         "line": {
          "color": "LightSeaGreen",
          "width": 2
         },
         "mode": "lines",
         "showlegend": false,
         "x": [
          -0.494140625,
          -0.4921875,
          -0.49609375
         ],
         "y": [
          0.13735750794909435,
          0.13397459621556138,
          0.13397459621556138
         ],
         "type": "scatter"
        },
        {
         "fill": "toself",
         "line": {
          "color": "LightSeaGreen",
          "width": 2
         },
         "mode": "lines",
         "showlegend": false,
         "x": [
          0.201171875,
          0.203125,
          0.19921875
         ],
         "y": [
          0.15765497835029213,
          0.15427206661675916,
          0.15427206661675916
         ],
         "type": "scatter"
        },
        {
         "fill": "toself",
         "line": {
          "color": "LightSeaGreen",
          "width": 2
         },
         "mode": "lines",
         "showlegend": false,
         "x": [
          0.232421875,
          0.234375,
          0.23046875
         ],
         "y": [
          0.5297752690389181,
          0.5263923573053851,
          0.5263923573053851
         ],
         "type": "scatter"
        },
        {
         "fill": "toself",
         "line": {
          "color": "LightSeaGreen",
          "width": 2
         },
         "mode": "lines",
         "showlegend": false,
         "x": [
          0.306640625,
          0.30859375,
          0.3046875
         ],
         "y": [
          0.19148409568562177,
          0.1881011839520888,
          0.1881011839520888
         ],
         "type": "scatter"
        },
        {
         "fill": "toself",
         "line": {
          "color": "LightSeaGreen",
          "width": 2
         },
         "mode": "lines",
         "showlegend": false,
         "x": [
          0.267578125,
          0.26953125,
          0.265625
         ],
         "y": [
          0.4824145047694566,
          0.47903159303592363,
          0.47903159303592363
         ],
         "type": "scatter"
        },
        {
         "fill": "toself",
         "line": {
          "color": "LightSeaGreen",
          "width": 2
         },
         "mode": "lines",
         "showlegend": false,
         "x": [
          -0.39453125,
          -0.392578125,
          -0.396484375
         ],
         "y": [
          0.24899359515568217,
          0.2456106834221492,
          0.2456106834221492
         ],
         "type": "scatter"
        },
        {
         "fill": "toself",
         "line": {
          "color": "LightSeaGreen",
          "width": 2
         },
         "mode": "lines",
         "showlegend": false,
         "x": [
          0.009765625,
          0.01171875,
          0.0078125
         ],
         "y": [
          0.9830854413323351,
          0.9797025295988021,
          0.9797025295988021
         ],
         "type": "scatter"
        },
        {
         "fill": "toself",
         "line": {
          "color": "LightSeaGreen",
          "width": 2
         },
         "mode": "lines",
         "showlegend": false,
         "x": [
          0.27734375,
          0.279296875,
          0.275390625
         ],
         "y": [
          0.357246770628737,
          0.35386385889520405,
          0.35386385889520405
         ],
         "type": "scatter"
        },
        {
         "fill": "toself",
         "line": {
          "color": "LightSeaGreen",
          "width": 2
         },
         "mode": "lines",
         "showlegend": false,
         "x": [
          0.076171875,
          0.078125,
          0.07421875
         ],
         "y": [
          0.638028444511973,
          0.63464553277844,
          0.63464553277844
         ],
         "type": "scatter"
        },
        {
         "fill": "toself",
         "line": {
          "color": "LightSeaGreen",
          "width": 2
         },
         "mode": "lines",
         "showlegend": false,
         "x": [
          0.115234375,
          0.1171875,
          0.11328125
         ],
         "y": [
          0.13735750794909435,
          0.13397459621556138,
          0.13397459621556138
         ],
         "type": "scatter"
        },
        {
         "fill": "toself",
         "line": {
          "color": "LightSeaGreen",
          "width": 2
         },
         "mode": "lines",
         "showlegend": false,
         "x": [
          -0.060546875,
          -0.05859375,
          -0.0625
         ],
         "y": [
          0.8883639127934122,
          0.8849810010598792,
          0.8849810010598792
         ],
         "type": "scatter"
        },
        {
         "fill": "toself",
         "line": {
          "color": "LightSeaGreen",
          "width": 2
         },
         "mode": "lines",
         "showlegend": false,
         "x": [
          -0.044921875,
          -0.04296875,
          -0.046875
         ],
         "y": [
          0.9154272066616759,
          0.9120442949281429,
          0.9120442949281429
         ],
         "type": "scatter"
        },
        {
         "fill": "toself",
         "line": {
          "color": "LightSeaGreen",
          "width": 2
         },
         "mode": "lines",
         "showlegend": false,
         "x": [
          0.162109375,
          0.1640625,
          0.16015625
         ],
         "y": [
          0.7192183261167641,
          0.7158354143832311,
          0.7158354143832311
         ],
         "type": "scatter"
        },
        {
         "fill": "toself",
         "line": {
          "color": "LightSeaGreen",
          "width": 2
         },
         "mode": "lines",
         "showlegend": false,
         "x": [
          0.205078125,
          0.20703125,
          0.203125
         ],
         "y": [
          0.6244967975778412,
          0.6211138858443082,
          0.6211138858443082
         ],
         "type": "scatter"
        },
        {
         "fill": "toself",
         "line": {
          "color": "LightSeaGreen",
          "width": 2
         },
         "mode": "lines",
         "showlegend": false,
         "x": [
          -0.248046875,
          -0.24609375,
          -0.25
         ],
         "y": [
          0.35386385889520405,
          0.3504809471616711,
          0.3504809471616711
         ],
         "type": "scatter"
        },
        {
         "fill": "toself",
         "line": {
          "color": "LightSeaGreen",
          "width": 2
         },
         "mode": "lines",
         "showlegend": false,
         "x": [
          0.291015625,
          0.29296875,
          0.2890625
         ],
         "y": [
          0.4215220935658633,
          0.41813918183233034,
          0.41813918183233034
         ],
         "type": "scatter"
        },
        {
         "fill": "toself",
         "line": {
          "color": "LightSeaGreen",
          "width": 2
         },
         "mode": "lines",
         "showlegend": false,
         "x": [
          -0.322265625,
          -0.3203125,
          -0.32421875
         ],
         "y": [
          0.21854738955388547,
          0.2151644778203525,
          0.2151644778203525
         ],
         "type": "scatter"
        },
        {
         "fill": "toself",
         "line": {
          "color": "LightSeaGreen",
          "width": 2
         },
         "mode": "lines",
         "showlegend": false,
         "x": [
          0.005859375,
          0.0078125,
          0.00390625
         ],
         "y": [
          0.5703702098413137,
          0.5669872981077807,
          0.5669872981077807
         ],
         "type": "scatter"
        },
        {
         "fill": "toself",
         "line": {
          "color": "LightSeaGreen",
          "width": 2
         },
         "mode": "lines",
         "showlegend": false,
         "x": [
          0.189453125,
          0.19140625,
          0.1875
         ],
         "y": [
          0.35386385889520405,
          0.3504809471616711,
          0.3504809471616711
         ],
         "type": "scatter"
        },
        {
         "fill": "toself",
         "line": {
          "color": "LightSeaGreen",
          "width": 2
         },
         "mode": "lines",
         "showlegend": false,
         "x": [
          -0.220703125,
          -0.21875,
          -0.22265625
         ],
         "y": [
          0.5162436221047862,
          0.5128607103712532,
          0.5128607103712532
         ],
         "type": "scatter"
        },
        {
         "fill": "toself",
         "line": {
          "color": "LightSeaGreen",
          "width": 2
         },
         "mode": "lines",
         "showlegend": false,
         "x": [
          -0.033203125,
          -0.03125,
          -0.03515625
         ],
         "y": [
          0.6109651506437093,
          0.6075822389101763,
          0.6075822389101763
         ],
         "type": "scatter"
        },
        {
         "fill": "toself",
         "line": {
          "color": "LightSeaGreen",
          "width": 2
         },
         "mode": "lines",
         "showlegend": false,
         "x": [
          -0.07421875,
          -0.072265625,
          -0.076171875
         ],
         "y": [
          0.5737531215748467,
          0.5703702098413137,
          0.5703702098413137
         ],
         "type": "scatter"
        },
        {
         "fill": "toself",
         "line": {
          "color": "LightSeaGreen",
          "width": 2
         },
         "mode": "lines",
         "showlegend": false,
         "x": [
          -0.271484375,
          -0.26953125,
          -0.2734375
         ],
         "y": [
          0.3809271527634678,
          0.37754424102993484,
          0.37754424102993484
         ],
         "type": "scatter"
        },
        {
         "fill": "toself",
         "line": {
          "color": "LightSeaGreen",
          "width": 2
         },
         "mode": "lines",
         "showlegend": false,
         "x": [
          -0.388671875,
          -0.38671875,
          -0.390625
         ],
         "y": [
          0.2456106834221492,
          0.24222777168861623,
          0.24222777168861623
         ],
         "type": "scatter"
        },
        {
         "fill": "toself",
         "line": {
          "color": "LightSeaGreen",
          "width": 2
         },
         "mode": "lines",
         "showlegend": false,
         "x": [
          0.298828125,
          0.30078125,
          0.296875
         ],
         "y": [
          0.3673955058293359,
          0.36401259409580294,
          0.36401259409580294
         ],
         "type": "scatter"
        },
        {
         "fill": "toself",
         "line": {
          "color": "LightSeaGreen",
          "width": 2
         },
         "mode": "lines",
         "showlegend": false,
         "x": [
          0.16796875,
          0.169921875,
          0.166015625
         ],
         "y": [
          0.42490500529939623,
          0.4215220935658633,
          0.4215220935658633
         ],
         "type": "scatter"
        },
        {
         "fill": "toself",
         "line": {
          "color": "LightSeaGreen",
          "width": 2
         },
         "mode": "lines",
         "showlegend": false,
         "x": [
          0.037109375,
          0.0390625,
          0.03515625
         ],
         "y": [
          0.901895559727544,
          0.898512647994011,
          0.898512647994011
         ],
         "type": "scatter"
        },
        {
         "fill": "toself",
         "line": {
          "color": "LightSeaGreen",
          "width": 2
         },
         "mode": "lines",
         "showlegend": false,
         "x": [
          0.330078125,
          0.33203125,
          0.328125
         ],
         "y": [
          0.2456106834221492,
          0.24222777168861623,
          0.24222777168861623
         ],
         "type": "scatter"
        },
        {
         "fill": "toself",
         "line": {
          "color": "LightSeaGreen",
          "width": 2
         },
         "mode": "lines",
         "showlegend": false,
         "x": [
          -0.099609375,
          -0.09765625,
          -0.1015625
         ],
         "y": [
          0.6041993271766433,
          0.6008164154431103,
          0.6008164154431103
         ],
         "type": "scatter"
        },
        {
         "fill": "toself",
         "line": {
          "color": "LightSeaGreen",
          "width": 2
         },
         "mode": "lines",
         "showlegend": false,
         "x": [
          -0.02734375,
          -0.025390625,
          -0.029296875
         ],
         "y": [
          0.6008164154431104,
          0.5974335037095774,
          0.5974335037095774
         ],
         "type": "scatter"
        },
        {
         "fill": "toself",
         "line": {
          "color": "LightSeaGreen",
          "width": 2
         },
         "mode": "lines",
         "showlegend": false,
         "x": [
          -0.474609375,
          -0.47265625,
          -0.4765625
         ],
         "y": [
          0.13735750794909435,
          0.13397459621556138,
          0.13397459621556138
         ],
         "type": "scatter"
        },
        {
         "fill": "toself",
         "line": {
          "color": "LightSeaGreen",
          "width": 2
         },
         "mode": "lines",
         "showlegend": false,
         "x": [
          -0.498046875,
          -0.49609375,
          -0.5
         ],
         "y": [
          0.13735750794909435,
          0.13397459621556138,
          0.13397459621556138
         ],
         "type": "scatter"
        },
        {
         "fill": "toself",
         "line": {
          "color": "LightSeaGreen",
          "width": 2
         },
         "mode": "lines",
         "showlegend": false,
         "x": [
          -0.1640625,
          -0.162109375,
          -0.166015625
         ],
         "y": [
          0.39107588796406667,
          0.3876929762305337,
          0.3876929762305337
         ],
         "type": "scatter"
        },
        {
         "fill": "toself",
         "line": {
          "color": "LightSeaGreen",
          "width": 2
         },
         "mode": "lines",
         "showlegend": false,
         "x": [
          0.349609375,
          0.3515625,
          0.34765625
         ],
         "y": [
          0.3876929762305337,
          0.3843100644970008,
          0.3843100644970008
         ],
         "type": "scatter"
        },
        {
         "fill": "toself",
         "line": {
          "color": "LightSeaGreen",
          "width": 2
         },
         "mode": "lines",
         "showlegend": false,
         "x": [
          0.322265625,
          0.32421875,
          0.3203125
         ],
         "y": [
          0.19148409568562177,
          0.1881011839520888,
          0.1881011839520888
         ],
         "type": "scatter"
        },
        {
         "fill": "toself",
         "line": {
          "color": "LightSeaGreen",
          "width": 2
         },
         "mode": "lines",
         "showlegend": false,
         "x": [
          0.208984375,
          0.2109375,
          0.20703125
         ],
         "y": [
          0.5839018567754456,
          0.5805189450419126,
          0.5805189450419126
         ],
         "type": "scatter"
        },
        {
         "fill": "toself",
         "line": {
          "color": "LightSeaGreen",
          "width": 2
         },
         "mode": "lines",
         "showlegend": false,
         "x": [
          0.30078125,
          0.302734375,
          0.298828125
         ],
         "y": [
          0.357246770628737,
          0.35386385889520405,
          0.35386385889520405
         ],
         "type": "scatter"
        },
        {
         "fill": "toself",
         "line": {
          "color": "LightSeaGreen",
          "width": 2
         },
         "mode": "lines",
         "showlegend": false,
         "x": [
          -0.298828125,
          -0.296875,
          -0.30078125
         ],
         "y": [
          0.4215220935658633,
          0.41813918183233034,
          0.41813918183233034
         ],
         "type": "scatter"
        },
        {
         "fill": "toself",
         "line": {
          "color": "LightSeaGreen",
          "width": 2
         },
         "mode": "lines",
         "showlegend": false,
         "x": [
          0.083984375,
          0.0859375,
          0.08203125
         ],
         "y": [
          0.13735750794909435,
          0.13397459621556138,
          0.13397459621556138
         ],
         "type": "scatter"
        },
        {
         "fill": "toself",
         "line": {
          "color": "LightSeaGreen",
          "width": 2
         },
         "mode": "lines",
         "showlegend": false,
         "x": [
          0.19921875,
          0.201171875,
          0.197265625
         ],
         "y": [
          0.4790315930359236,
          0.47564868130239063,
          0.47564868130239063
         ],
         "type": "scatter"
        },
        {
         "fill": "toself",
         "line": {
          "color": "LightSeaGreen",
          "width": 2
         },
         "mode": "lines",
         "showlegend": false,
         "x": [
          -0.12890625,
          -0.126953125,
          -0.130859375
         ],
         "y": [
          0.7631961786526926,
          0.7598132669191596,
          0.7598132669191596
         ],
         "type": "scatter"
        },
        {
         "fill": "toself",
         "line": {
          "color": "LightSeaGreen",
          "width": 2
         },
         "mode": "lines",
         "showlegend": false,
         "x": [
          -0.353515625,
          -0.3515625,
          -0.35546875
         ],
         "y": [
          0.25914233035628104,
          0.2557594186227481,
          0.2557594186227481
         ],
         "type": "scatter"
        },
        {
         "fill": "toself",
         "line": {
          "color": "LightSeaGreen",
          "width": 2
         },
         "mode": "lines",
         "showlegend": false,
         "x": [
          -0.416015625,
          -0.4140625,
          -0.41796875
         ],
         "y": [
          0.13735750794909435,
          0.13397459621556138,
          0.13397459621556138
         ],
         "type": "scatter"
        },
        {
         "fill": "toself",
         "line": {
          "color": "LightSeaGreen",
          "width": 2
         },
         "mode": "lines",
         "showlegend": false,
         "x": [
          -0.208984375,
          -0.20703125,
          -0.2109375
         ],
         "y": [
          0.5771360333083796,
          0.5737531215748466,
          0.5737531215748466
         ],
         "type": "scatter"
        }
       ],
       "layout": {
        "template": {
         "data": {
          "bar": [
           {
            "error_x": {
             "color": "#f2f5fa"
            },
            "error_y": {
             "color": "#f2f5fa"
            },
            "marker": {
             "line": {
              "color": "rgb(17,17,17)",
              "width": 0.5
             },
             "pattern": {
              "fillmode": "overlay",
              "size": 10,
              "solidity": 0.2
             }
            },
            "type": "bar"
           }
          ],
          "barpolar": [
           {
            "marker": {
             "line": {
              "color": "rgb(17,17,17)",
              "width": 0.5
             },
             "pattern": {
              "fillmode": "overlay",
              "size": 10,
              "solidity": 0.2
             }
            },
            "type": "barpolar"
           }
          ],
          "carpet": [
           {
            "aaxis": {
             "endlinecolor": "#A2B1C6",
             "gridcolor": "#506784",
             "linecolor": "#506784",
             "minorgridcolor": "#506784",
             "startlinecolor": "#A2B1C6"
            },
            "baxis": {
             "endlinecolor": "#A2B1C6",
             "gridcolor": "#506784",
             "linecolor": "#506784",
             "minorgridcolor": "#506784",
             "startlinecolor": "#A2B1C6"
            },
            "type": "carpet"
           }
          ],
          "choropleth": [
           {
            "colorbar": {
             "outlinewidth": 0,
             "ticks": ""
            },
            "type": "choropleth"
           }
          ],
          "contour": [
           {
            "colorbar": {
             "outlinewidth": 0,
             "ticks": ""
            },
            "colorscale": [
             [
              0.0,
              "#0d0887"
             ],
             [
              0.1111111111111111,
              "#46039f"
             ],
             [
              0.2222222222222222,
              "#7201a8"
             ],
             [
              0.3333333333333333,
              "#9c179e"
             ],
             [
              0.4444444444444444,
              "#bd3786"
             ],
             [
              0.5555555555555556,
              "#d8576b"
             ],
             [
              0.6666666666666666,
              "#ed7953"
             ],
             [
              0.7777777777777778,
              "#fb9f3a"
             ],
             [
              0.8888888888888888,
              "#fdca26"
             ],
             [
              1.0,
              "#f0f921"
             ]
            ],
            "type": "contour"
           }
          ],
          "contourcarpet": [
           {
            "colorbar": {
             "outlinewidth": 0,
             "ticks": ""
            },
            "type": "contourcarpet"
           }
          ],
          "heatmap": [
           {
            "colorbar": {
             "outlinewidth": 0,
             "ticks": ""
            },
            "colorscale": [
             [
              0.0,
              "#0d0887"
             ],
             [
              0.1111111111111111,
              "#46039f"
             ],
             [
              0.2222222222222222,
              "#7201a8"
             ],
             [
              0.3333333333333333,
              "#9c179e"
             ],
             [
              0.4444444444444444,
              "#bd3786"
             ],
             [
              0.5555555555555556,
              "#d8576b"
             ],
             [
              0.6666666666666666,
              "#ed7953"
             ],
             [
              0.7777777777777778,
              "#fb9f3a"
             ],
             [
              0.8888888888888888,
              "#fdca26"
             ],
             [
              1.0,
              "#f0f921"
             ]
            ],
            "type": "heatmap"
           }
          ],
          "heatmapgl": [
           {
            "colorbar": {
             "outlinewidth": 0,
             "ticks": ""
            },
            "colorscale": [
             [
              0.0,
              "#0d0887"
             ],
             [
              0.1111111111111111,
              "#46039f"
             ],
             [
              0.2222222222222222,
              "#7201a8"
             ],
             [
              0.3333333333333333,
              "#9c179e"
             ],
             [
              0.4444444444444444,
              "#bd3786"
             ],
             [
              0.5555555555555556,
              "#d8576b"
             ],
             [
              0.6666666666666666,
              "#ed7953"
             ],
             [
              0.7777777777777778,
              "#fb9f3a"
             ],
             [
              0.8888888888888888,
              "#fdca26"
             ],
             [
              1.0,
              "#f0f921"
             ]
            ],
            "type": "heatmapgl"
           }
          ],
          "histogram": [
           {
            "marker": {
             "pattern": {
              "fillmode": "overlay",
              "size": 10,
              "solidity": 0.2
             }
            },
            "type": "histogram"
           }
          ],
          "histogram2d": [
           {
            "colorbar": {
             "outlinewidth": 0,
             "ticks": ""
            },
            "colorscale": [
             [
              0.0,
              "#0d0887"
             ],
             [
              0.1111111111111111,
              "#46039f"
             ],
             [
              0.2222222222222222,
              "#7201a8"
             ],
             [
              0.3333333333333333,
              "#9c179e"
             ],
             [
              0.4444444444444444,
              "#bd3786"
             ],
             [
              0.5555555555555556,
              "#d8576b"
             ],
             [
              0.6666666666666666,
              "#ed7953"
             ],
             [
              0.7777777777777778,
              "#fb9f3a"
             ],
             [
              0.8888888888888888,
              "#fdca26"
             ],
             [
              1.0,
              "#f0f921"
             ]
            ],
            "type": "histogram2d"
           }
          ],
          "histogram2dcontour": [
           {
            "colorbar": {
             "outlinewidth": 0,
             "ticks": ""
            },
            "colorscale": [
             [
              0.0,
              "#0d0887"
             ],
             [
              0.1111111111111111,
              "#46039f"
             ],
             [
              0.2222222222222222,
              "#7201a8"
             ],
             [
              0.3333333333333333,
              "#9c179e"
             ],
             [
              0.4444444444444444,
              "#bd3786"
             ],
             [
              0.5555555555555556,
              "#d8576b"
             ],
             [
              0.6666666666666666,
              "#ed7953"
             ],
             [
              0.7777777777777778,
              "#fb9f3a"
             ],
             [
              0.8888888888888888,
              "#fdca26"
             ],
             [
              1.0,
              "#f0f921"
             ]
            ],
            "type": "histogram2dcontour"
           }
          ],
          "mesh3d": [
           {
            "colorbar": {
             "outlinewidth": 0,
             "ticks": ""
            },
            "type": "mesh3d"
           }
          ],
          "parcoords": [
           {
            "line": {
             "colorbar": {
              "outlinewidth": 0,
              "ticks": ""
             }
            },
            "type": "parcoords"
           }
          ],
          "pie": [
           {
            "automargin": true,
            "type": "pie"
           }
          ],
          "scatter": [
           {
            "marker": {
             "line": {
              "color": "#283442"
             }
            },
            "type": "scatter"
           }
          ],
          "scatter3d": [
           {
            "line": {
             "colorbar": {
              "outlinewidth": 0,
              "ticks": ""
             }
            },
            "marker": {
             "colorbar": {
              "outlinewidth": 0,
              "ticks": ""
             }
            },
            "type": "scatter3d"
           }
          ],
          "scattercarpet": [
           {
            "marker": {
             "colorbar": {
              "outlinewidth": 0,
              "ticks": ""
             }
            },
            "type": "scattercarpet"
           }
          ],
          "scattergeo": [
           {
            "marker": {
             "colorbar": {
              "outlinewidth": 0,
              "ticks": ""
             }
            },
            "type": "scattergeo"
           }
          ],
          "scattergl": [
           {
            "marker": {
             "line": {
              "color": "#283442"
             }
            },
            "type": "scattergl"
           }
          ],
          "scattermapbox": [
           {
            "marker": {
             "colorbar": {
              "outlinewidth": 0,
              "ticks": ""
             }
            },
            "type": "scattermapbox"
           }
          ],
          "scatterpolar": [
           {
            "marker": {
             "colorbar": {
              "outlinewidth": 0,
              "ticks": ""
             }
            },
            "type": "scatterpolar"
           }
          ],
          "scatterpolargl": [
           {
            "marker": {
             "colorbar": {
              "outlinewidth": 0,
              "ticks": ""
             }
            },
            "type": "scatterpolargl"
           }
          ],
          "scatterternary": [
           {
            "marker": {
             "colorbar": {
              "outlinewidth": 0,
              "ticks": ""
             }
            },
            "type": "scatterternary"
           }
          ],
          "surface": [
           {
            "colorbar": {
             "outlinewidth": 0,
             "ticks": ""
            },
            "colorscale": [
             [
              0.0,
              "#0d0887"
             ],
             [
              0.1111111111111111,
              "#46039f"
             ],
             [
              0.2222222222222222,
              "#7201a8"
             ],
             [
              0.3333333333333333,
              "#9c179e"
             ],
             [
              0.4444444444444444,
              "#bd3786"
             ],
             [
              0.5555555555555556,
              "#d8576b"
             ],
             [
              0.6666666666666666,
              "#ed7953"
             ],
             [
              0.7777777777777778,
              "#fb9f3a"
             ],
             [
              0.8888888888888888,
              "#fdca26"
             ],
             [
              1.0,
              "#f0f921"
             ]
            ],
            "type": "surface"
           }
          ],
          "table": [
           {
            "cells": {
             "fill": {
              "color": "#506784"
             },
             "line": {
              "color": "rgb(17,17,17)"
             }
            },
            "header": {
             "fill": {
              "color": "#2a3f5f"
             },
             "line": {
              "color": "rgb(17,17,17)"
             }
            },
            "type": "table"
           }
          ]
         },
         "layout": {
          "annotationdefaults": {
           "arrowcolor": "#f2f5fa",
           "arrowhead": 0,
           "arrowwidth": 1
          },
          "autotypenumbers": "strict",
          "coloraxis": {
           "colorbar": {
            "outlinewidth": 0,
            "ticks": ""
           }
          },
          "colorscale": {
           "diverging": [
            [
             0,
             "#8e0152"
            ],
            [
             0.1,
             "#c51b7d"
            ],
            [
             0.2,
             "#de77ae"
            ],
            [
             0.3,
             "#f1b6da"
            ],
            [
             0.4,
             "#fde0ef"
            ],
            [
             0.5,
             "#f7f7f7"
            ],
            [
             0.6,
             "#e6f5d0"
            ],
            [
             0.7,
             "#b8e186"
            ],
            [
             0.8,
             "#7fbc41"
            ],
            [
             0.9,
             "#4d9221"
            ],
            [
             1,
             "#276419"
            ]
           ],
           "sequential": [
            [
             0.0,
             "#0d0887"
            ],
            [
             0.1111111111111111,
             "#46039f"
            ],
            [
             0.2222222222222222,
             "#7201a8"
            ],
            [
             0.3333333333333333,
             "#9c179e"
            ],
            [
             0.4444444444444444,
             "#bd3786"
            ],
            [
             0.5555555555555556,
             "#d8576b"
            ],
            [
             0.6666666666666666,
             "#ed7953"
            ],
            [
             0.7777777777777778,
             "#fb9f3a"
            ],
            [
             0.8888888888888888,
             "#fdca26"
            ],
            [
             1.0,
             "#f0f921"
            ]
           ],
           "sequentialminus": [
            [
             0.0,
             "#0d0887"
            ],
            [
             0.1111111111111111,
             "#46039f"
            ],
            [
             0.2222222222222222,
             "#7201a8"
            ],
            [
             0.3333333333333333,
             "#9c179e"
            ],
            [
             0.4444444444444444,
             "#bd3786"
            ],
            [
             0.5555555555555556,
             "#d8576b"
            ],
            [
             0.6666666666666666,
             "#ed7953"
            ],
            [
             0.7777777777777778,
             "#fb9f3a"
            ],
            [
             0.8888888888888888,
             "#fdca26"
            ],
            [
             1.0,
             "#f0f921"
            ]
           ]
          },
          "colorway": [
           "#636efa",
           "#EF553B",
           "#00cc96",
           "#ab63fa",
           "#FFA15A",
           "#19d3f3",
           "#FF6692",
           "#B6E880",
           "#FF97FF",
           "#FECB52"
          ],
          "font": {
           "color": "#f2f5fa"
          },
          "geo": {
           "bgcolor": "rgb(17,17,17)",
           "lakecolor": "rgb(17,17,17)",
           "landcolor": "rgb(17,17,17)",
           "showlakes": true,
           "showland": true,
           "subunitcolor": "#506784"
          },
          "hoverlabel": {
           "align": "left"
          },
          "hovermode": "closest",
          "mapbox": {
           "style": "dark"
          },
          "paper_bgcolor": "rgb(17,17,17)",
          "plot_bgcolor": "rgb(17,17,17)",
          "polar": {
           "angularaxis": {
            "gridcolor": "#506784",
            "linecolor": "#506784",
            "ticks": ""
           },
           "bgcolor": "rgb(17,17,17)",
           "radialaxis": {
            "gridcolor": "#506784",
            "linecolor": "#506784",
            "ticks": ""
           }
          },
          "scene": {
           "xaxis": {
            "backgroundcolor": "rgb(17,17,17)",
            "gridcolor": "#506784",
            "gridwidth": 2,
            "linecolor": "#506784",
            "showbackground": true,
            "ticks": "",
            "zerolinecolor": "#C8D4E3"
           },
           "yaxis": {
            "backgroundcolor": "rgb(17,17,17)",
            "gridcolor": "#506784",
            "gridwidth": 2,
            "linecolor": "#506784",
            "showbackground": true,
            "ticks": "",
            "zerolinecolor": "#C8D4E3"
           },
           "zaxis": {
            "backgroundcolor": "rgb(17,17,17)",
            "gridcolor": "#506784",
            "gridwidth": 2,
            "linecolor": "#506784",
            "showbackground": true,
            "ticks": "",
            "zerolinecolor": "#C8D4E3"
           }
          },
          "shapedefaults": {
           "line": {
            "color": "#f2f5fa"
           }
          },
          "sliderdefaults": {
           "bgcolor": "#C8D4E3",
           "bordercolor": "rgb(17,17,17)",
           "borderwidth": 1,
           "tickwidth": 0
          },
          "ternary": {
           "aaxis": {
            "gridcolor": "#506784",
            "linecolor": "#506784",
            "ticks": ""
           },
           "baxis": {
            "gridcolor": "#506784",
            "linecolor": "#506784",
            "ticks": ""
           },
           "bgcolor": "rgb(17,17,17)",
           "caxis": {
            "gridcolor": "#506784",
            "linecolor": "#506784",
            "ticks": ""
           }
          },
          "title": {
           "x": 0.05
          },
          "updatemenudefaults": {
           "bgcolor": "#506784",
           "borderwidth": 0
          },
          "xaxis": {
           "automargin": true,
           "gridcolor": "#283442",
           "linecolor": "#506784",
           "ticks": "",
           "title": {
            "standoff": 15
           },
           "zerolinecolor": "#283442",
           "zerolinewidth": 2
          },
          "yaxis": {
           "automargin": true,
           "gridcolor": "#283442",
           "linecolor": "#506784",
           "ticks": "",
           "title": {
            "standoff": 15
           },
           "zerolinecolor": "#283442",
           "zerolinewidth": 2
          }
         }
        }
       },
       "config": {
        "plotlyServerURL": "https://plot.ly"
       }
      },
      "text/html": "<div>                            <div id=\"d58e14c9-a05d-48f5-a5b0-3df55679dffd\" class=\"plotly-graph-div\" style=\"height:525px; width:100%;\"></div>            <script type=\"text/javascript\">                require([\"plotly\"], function(Plotly) {                    window.PLOTLYENV=window.PLOTLYENV || {};                                    if (document.getElementById(\"d58e14c9-a05d-48f5-a5b0-3df55679dffd\")) {                    Plotly.newPlot(                        \"d58e14c9-a05d-48f5-a5b0-3df55679dffd\",                        [{\"fill\":\"toself\",\"line\":{\"color\":\"LightSeaGreen\",\"width\":2},\"mode\":\"lines\",\"showlegend\":false,\"x\":[0.060546875,0.0625,0.05859375],\"y\":[0.13735750794909435,0.13397459621556138,0.13397459621556138],\"type\":\"scatter\"},{\"fill\":\"toself\",\"line\":{\"color\":\"LightSeaGreen\",\"width\":2},\"mode\":\"lines\",\"showlegend\":false,\"x\":[0.337890625,0.33984375,0.3359375],\"y\":[0.3809271527634678,0.37754424102993484,0.37754424102993484],\"type\":\"scatter\"},{\"fill\":\"toself\",\"line\":{\"color\":\"LightSeaGreen\",\"width\":2},\"mode\":\"lines\",\"showlegend\":false,\"x\":[-0.171875,-0.169921875,-0.173828125],\"y\":[0.2692910655568799,0.265908153823347,0.265908153823347],\"type\":\"scatter\"},{\"fill\":\"toself\",\"line\":{\"color\":\"LightSeaGreen\",\"width\":2},\"mode\":\"lines\",\"showlegend\":false,\"x\":[0.333984375,0.3359375,0.33203125],\"y\":[0.2726739772904129,0.26929106555688,0.26929106555688],\"type\":\"scatter\"},{\"fill\":\"toself\",\"line\":{\"color\":\"LightSeaGreen\",\"width\":2},\"mode\":\"lines\",\"showlegend\":false,\"x\":[0.076171875,0.078125,0.07421875],\"y\":[0.15765497835029213,0.15427206661675916,0.15427206661675916],\"type\":\"scatter\"},{\"fill\":\"toself\",\"line\":{\"color\":\"LightSeaGreen\",\"width\":2},\"mode\":\"lines\",\"showlegend\":false,\"x\":[-0.208984375,-0.20703125,-0.2109375],\"y\":[0.5703702098413137,0.5669872981077807,0.5669872981077807],\"type\":\"scatter\"},{\"fill\":\"toself\",\"line\":{\"color\":\"LightSeaGreen\",\"width\":2},\"mode\":\"lines\",\"showlegend\":false,\"x\":[0.193359375,0.1953125,0.19140625],\"y\":[0.4350537404999952,0.43167082876646223,0.43167082876646223],\"type\":\"scatter\"},{\"fill\":\"toself\",\"line\":{\"color\":\"LightSeaGreen\",\"width\":2},\"mode\":\"lines\",\"showlegend\":false,\"x\":[0.158203125,0.16015625,0.15625],\"y\":[0.35386385889520405,0.3504809471616711,0.3504809471616711],\"type\":\"scatter\"},{\"fill\":\"toself\",\"line\":{\"color\":\"LightSeaGreen\",\"width\":2},\"mode\":\"lines\",\"showlegend\":false,\"x\":[0.01953125,0.021484375,0.017578125],\"y\":[0.912044294928143,0.90866138319461,0.90866138319461],\"type\":\"scatter\"},{\"fill\":\"toself\",\"line\":{\"color\":\"LightSeaGreen\",\"width\":2},\"mode\":\"lines\",\"showlegend\":false,\"x\":[-0.185546875,-0.18359375,-0.1875],\"y\":[0.13735750794909435,0.13397459621556138,0.13397459621556138],\"type\":\"scatter\"},{\"fill\":\"toself\",\"line\":{\"color\":\"LightSeaGreen\",\"width\":2},\"mode\":\"lines\",\"showlegend\":false,\"x\":[0.322265625,0.32421875,0.3203125],\"y\":[0.21854738955388547,0.2151644778203525,0.2151644778203525],\"type\":\"scatter\"},{\"fill\":\"toself\",\"line\":{\"color\":\"LightSeaGreen\",\"width\":2},\"mode\":\"lines\",\"showlegend\":false,\"x\":[-0.21484375,-0.212890625,-0.216796875],\"y\":[0.3843100644970007,0.3809271527634678,0.3809271527634678],\"type\":\"scatter\"},{\"fill\":\"toself\",\"line\":{\"color\":\"LightSeaGreen\",\"width\":2},\"mode\":\"lines\",\"showlegend\":false,\"x\":[-0.166015625,-0.1640625,-0.16796875],\"y\":[0.4147562700987974,0.41137335836526445,0.41137335836526445],\"type\":\"scatter\"},{\"fill\":\"toself\",\"line\":{\"color\":\"LightSeaGreen\",\"width\":2},\"mode\":\"lines\",\"showlegend\":false,\"x\":[-0.01171875,-0.009765625,-0.013671875],\"y\":[0.9526392357305385,0.9492563239970055,0.9492563239970055],\"type\":\"scatter\"},{\"fill\":\"toself\",\"line\":{\"color\":\"LightSeaGreen\",\"width\":2},\"mode\":\"lines\",\"showlegend\":false,\"x\":[0.12890625,0.130859375,0.126953125],\"y\":[0.3437151236946051,0.34033221196107216,0.34033221196107216],\"type\":\"scatter\"},{\"fill\":\"toself\",\"line\":{\"color\":\"LightSeaGreen\",\"width\":2},\"mode\":\"lines\",\"showlegend\":false,\"x\":[-0.17578125,-0.173828125,-0.177734375],\"y\":[0.4113733583652644,0.40799044663173145,0.40799044663173145],\"type\":\"scatter\"},{\"fill\":\"toself\",\"line\":{\"color\":\"LightSeaGreen\",\"width\":2},\"mode\":\"lines\",\"showlegend\":false,\"x\":[0.2265625,0.228515625,0.224609375],\"y\":[0.14750624314969324,0.14412333141616027,0.14412333141616027],\"type\":\"scatter\"},{\"fill\":\"toself\",\"line\":{\"color\":\"LightSeaGreen\",\"width\":2},\"mode\":\"lines\",\"showlegend\":false,\"x\":[-0.044921875,-0.04296875,-0.046875],\"y\":[0.5703702098413137,0.5669872981077807,0.5669872981077807],\"type\":\"scatter\"},{\"fill\":\"toself\",\"line\":{\"color\":\"LightSeaGreen\",\"width\":2},\"mode\":\"lines\",\"showlegend\":false,\"x\":[0.06640625,0.068359375,0.064453125],\"y\":[0.6549430031796378,0.6515600914461048,0.6515600914461048],\"type\":\"scatter\"},{\"fill\":\"toself\",\"line\":{\"color\":\"LightSeaGreen\",\"width\":2},\"mode\":\"lines\",\"showlegend\":false,\"x\":[0.208984375,0.2109375,0.20703125],\"y\":[0.5839018567754456,0.5805189450419126,0.5805189450419126],\"type\":\"scatter\"},{\"fill\":\"toself\",\"line\":{\"color\":\"LightSeaGreen\",\"width\":2},\"mode\":\"lines\",\"showlegend\":false,\"x\":[-0.439453125,-0.4375,-0.44140625],\"y\":[0.21854738955388547,0.2151644778203525,0.2151644778203525],\"type\":\"scatter\"},{\"fill\":\"toself\",\"line\":{\"color\":\"LightSeaGreen\",\"width\":2},\"mode\":\"lines\",\"showlegend\":false,\"x\":[-0.486328125,-0.484375,-0.48828125],\"y\":[0.13735750794909435,0.13397459621556138,0.13397459621556138],\"type\":\"scatter\"},{\"fill\":\"toself\",\"line\":{\"color\":\"LightSeaGreen\",\"width\":2},\"mode\":\"lines\",\"showlegend\":false,\"x\":[-0.38671875,-0.384765625,-0.388671875],\"y\":[0.14074041968262732,0.13735750794909435,0.13735750794909435],\"type\":\"scatter\"},{\"fill\":\"toself\",\"line\":{\"color\":\"LightSeaGreen\",\"width\":2},\"mode\":\"lines\",\"showlegend\":false,\"x\":[-0.3046875,-0.302734375,-0.306640625],\"y\":[0.4722657695688577,0.46888285783532474,0.46888285783532474],\"type\":\"scatter\"},{\"fill\":\"toself\",\"line\":{\"color\":\"LightSeaGreen\",\"width\":2},\"mode\":\"lines\",\"showlegend\":false,\"x\":[-0.130859375,-0.12890625,-0.1328125],\"y\":[0.25237650688921515,0.24899359515568217,0.24899359515568217],\"type\":\"scatter\"},{\"fill\":\"toself\",\"line\":{\"color\":\"LightSeaGreen\",\"width\":2},\"mode\":\"lines\",\"showlegend\":false,\"x\":[-0.345703125,-0.34375,-0.34765625],\"y\":[0.2997372711586766,0.29635435942514365,0.29635435942514365],\"type\":\"scatter\"},{\"fill\":\"toself\",\"line\":{\"color\":\"LightSeaGreen\",\"width\":2},\"mode\":\"lines\",\"showlegend\":false,\"x\":[0.140625,0.142578125,0.138671875],\"y\":[0.3234176532934073,0.3200347415598744,0.3200347415598744],\"type\":\"scatter\"},{\"fill\":\"toself\",\"line\":{\"color\":\"LightSeaGreen\",\"width\":2},\"mode\":\"lines\",\"showlegend\":false,\"x\":[0.103515625,0.10546875,0.1015625],\"y\":[0.25237650688921515,0.24899359515568217,0.24899359515568217],\"type\":\"scatter\"},{\"fill\":\"toself\",\"line\":{\"color\":\"LightSeaGreen\",\"width\":2},\"mode\":\"lines\",\"showlegend\":false,\"x\":[-0.10546875,-0.103515625,-0.107421875],\"y\":[0.24899359515568217,0.2456106834221492,0.2456106834221492],\"type\":\"scatter\"},{\"fill\":\"toself\",\"line\":{\"color\":\"LightSeaGreen\",\"width\":2},\"mode\":\"lines\",\"showlegend\":false,\"x\":[-0.181640625,-0.1796875,-0.18359375],\"y\":[0.14412333141616027,0.1407404196826273,0.1407404196826273],\"type\":\"scatter\"},{\"fill\":\"toself\",\"line\":{\"color\":\"LightSeaGreen\",\"width\":2},\"mode\":\"lines\",\"showlegend\":false,\"x\":[-0.380859375,-0.37890625,-0.3828125],\"y\":[0.34033221196107216,0.3369493002275392,0.3369493002275392],\"type\":\"scatter\"},{\"fill\":\"toself\",\"line\":{\"color\":\"LightSeaGreen\",\"width\":2},\"mode\":\"lines\",\"showlegend\":false,\"x\":[-0.025390625,-0.0234375,-0.02734375],\"y\":[0.5703702098413137,0.5669872981077807,0.5669872981077807],\"type\":\"scatter\"},{\"fill\":\"toself\",\"line\":{\"color\":\"LightSeaGreen\",\"width\":2},\"mode\":\"lines\",\"showlegend\":false,\"x\":[-0.16796875,-0.166015625,-0.169921875],\"y\":[0.2083986543532866,0.20501574261975364,0.20501574261975364],\"type\":\"scatter\"},{\"fill\":\"toself\",\"line\":{\"color\":\"LightSeaGreen\",\"width\":2},\"mode\":\"lines\",\"showlegend\":false,\"x\":[0.048828125,0.05078125,0.046875],\"y\":[0.5839018567754456,0.5805189450419126,0.5805189450419126],\"type\":\"scatter\"},{\"fill\":\"toself\",\"line\":{\"color\":\"LightSeaGreen\",\"width\":2},\"mode\":\"lines\",\"showlegend\":false,\"x\":[0.267578125,0.26953125,0.265625],\"y\":[0.15765497835029213,0.15427206661675916,0.15427206661675916],\"type\":\"scatter\"},{\"fill\":\"toself\",\"line\":{\"color\":\"LightSeaGreen\",\"width\":2},\"mode\":\"lines\",\"showlegend\":false,\"x\":[-0.294921875,-0.29296875,-0.296875],\"y\":[0.13735750794909435,0.13397459621556138,0.13397459621556138],\"type\":\"scatter\"},{\"fill\":\"toself\",\"line\":{\"color\":\"LightSeaGreen\",\"width\":2},\"mode\":\"lines\",\"showlegend\":false,\"x\":[0.134765625,0.13671875,0.1328125],\"y\":[0.13735750794909435,0.13397459621556138,0.13397459621556138],\"type\":\"scatter\"},{\"fill\":\"toself\",\"line\":{\"color\":\"LightSeaGreen\",\"width\":2},\"mode\":\"lines\",\"showlegend\":false,\"x\":[-0.212890625,-0.2109375,-0.21484375],\"y\":[0.46888285783532474,0.4654999461017918,0.4654999461017918],\"type\":\"scatter\"},{\"fill\":\"toself\",\"line\":{\"color\":\"LightSeaGreen\",\"width\":2},\"mode\":\"lines\",\"showlegend\":false,\"x\":[-0.359375,-0.357421875,-0.361328125],\"y\":[0.3775442410299348,0.37416132929640183,0.37416132929640183],\"type\":\"scatter\"},{\"fill\":\"toself\",\"line\":{\"color\":\"LightSeaGreen\",\"width\":2},\"mode\":\"lines\",\"showlegend\":false,\"x\":[0.19921875,0.201171875,0.197265625],\"y\":[0.14074041968262732,0.13735750794909435,0.13735750794909435],\"type\":\"scatter\"},{\"fill\":\"toself\",\"line\":{\"color\":\"LightSeaGreen\",\"width\":2},\"mode\":\"lines\",\"showlegend\":false,\"x\":[0.400390625,0.40234375,0.3984375],\"y\":[0.2726739772904129,0.26929106555688,0.26929106555688],\"type\":\"scatter\"},{\"fill\":\"toself\",\"line\":{\"color\":\"LightSeaGreen\",\"width\":2},\"mode\":\"lines\",\"showlegend\":false,\"x\":[0.166015625,0.16796875,0.1640625],\"y\":[0.6853892087814344,0.6820062970479014,0.6820062970479014],\"type\":\"scatter\"},{\"fill\":\"toself\",\"line\":{\"color\":\"LightSeaGreen\",\"width\":2},\"mode\":\"lines\",\"showlegend\":false,\"x\":[-0.06640625,-0.064453125,-0.068359375],\"y\":[0.22193030128741845,0.21854738955388547,0.21854738955388547],\"type\":\"scatter\"},{\"fill\":\"toself\",\"line\":{\"color\":\"LightSeaGreen\",\"width\":2},\"mode\":\"lines\",\"showlegend\":false,\"x\":[0.154296875,0.15625,0.15234375],\"y\":[0.2456106834221492,0.24222777168861623,0.24222777168861623],\"type\":\"scatter\"},{\"fill\":\"toself\",\"line\":{\"color\":\"LightSeaGreen\",\"width\":2},\"mode\":\"lines\",\"showlegend\":false,\"x\":[-0.056640625,-0.0546875,-0.05859375],\"y\":[0.901895559727544,0.898512647994011,0.898512647994011],\"type\":\"scatter\"},{\"fill\":\"toself\",\"line\":{\"color\":\"LightSeaGreen\",\"width\":2},\"mode\":\"lines\",\"showlegend\":false,\"x\":[-0.333984375,-0.33203125,-0.3359375],\"y\":[0.2726739772904129,0.26929106555688,0.26929106555688],\"type\":\"scatter\"},{\"fill\":\"toself\",\"line\":{\"color\":\"LightSeaGreen\",\"width\":2},\"mode\":\"lines\",\"showlegend\":false,\"x\":[-0.169921875,-0.16796875,-0.171875],\"y\":[0.16442080181735805,0.16103789008382507,0.16103789008382507],\"type\":\"scatter\"},{\"fill\":\"toself\",\"line\":{\"color\":\"LightSeaGreen\",\"width\":2},\"mode\":\"lines\",\"showlegend\":false,\"x\":[0.294921875,0.296875,0.29296875],\"y\":[0.4215220935658633,0.41813918183233034,0.41813918183233034],\"type\":\"scatter\"},{\"fill\":\"toself\",\"line\":{\"color\":\"LightSeaGreen\",\"width\":2},\"mode\":\"lines\",\"showlegend\":false,\"x\":[0.169921875,0.171875,0.16796875],\"y\":[0.37416132929640183,0.3707784175628689,0.3707784175628689],\"type\":\"scatter\"},{\"fill\":\"toself\",\"line\":{\"color\":\"LightSeaGreen\",\"width\":2},\"mode\":\"lines\",\"showlegend\":false,\"x\":[-0.140625,-0.138671875,-0.142578125],\"y\":[0.1610378900838251,0.15765497835029213,0.15765497835029213],\"type\":\"scatter\"},{\"fill\":\"toself\",\"line\":{\"color\":\"LightSeaGreen\",\"width\":2},\"mode\":\"lines\",\"showlegend\":false,\"x\":[-0.298828125,-0.296875,-0.30078125],\"y\":[0.35386385889520405,0.3504809471616711,0.3504809471616711],\"type\":\"scatter\"},{\"fill\":\"toself\",\"line\":{\"color\":\"LightSeaGreen\",\"width\":2},\"mode\":\"lines\",\"showlegend\":false,\"x\":[-0.123046875,-0.12109375,-0.125],\"y\":[0.7868765607874233,0.7834936490538903,0.7834936490538903],\"type\":\"scatter\"},{\"fill\":\"toself\",\"line\":{\"color\":\"LightSeaGreen\",\"width\":2},\"mode\":\"lines\",\"showlegend\":false,\"x\":[0.3984375,0.400390625,0.396484375],\"y\":[0.17456953701795694,0.17118662528442397,0.17118662528442397],\"type\":\"scatter\"},{\"fill\":\"toself\",\"line\":{\"color\":\"LightSeaGreen\",\"width\":2},\"mode\":\"lines\",\"showlegend\":false,\"x\":[0.30078125,0.302734375,0.298828125],\"y\":[0.37077841756286883,0.3673955058293359,0.3673955058293359],\"type\":\"scatter\"},{\"fill\":\"toself\",\"line\":{\"color\":\"LightSeaGreen\",\"width\":2},\"mode\":\"lines\",\"showlegend\":false,\"x\":[0.146484375,0.1484375,0.14453125],\"y\":[0.17118662528442397,0.167803713550891,0.167803713550891],\"type\":\"scatter\"},{\"fill\":\"toself\",\"line\":{\"color\":\"LightSeaGreen\",\"width\":2},\"mode\":\"lines\",\"showlegend\":false,\"x\":[0.095703125,0.09765625,0.09375],\"y\":[0.18471827221855583,0.18133536048502286,0.18133536048502286],\"type\":\"scatter\"},{\"fill\":\"toself\",\"line\":{\"color\":\"LightSeaGreen\",\"width\":2},\"mode\":\"lines\",\"showlegend\":false,\"x\":[-0.2109375,-0.208984375,-0.212890625],\"y\":[0.4993290634371214,0.49594615170358847,0.49594615170358847],\"type\":\"scatter\"},{\"fill\":\"toself\",\"line\":{\"color\":\"LightSeaGreen\",\"width\":2},\"mode\":\"lines\",\"showlegend\":false,\"x\":[0.404296875,0.40625,0.40234375],\"y\":[0.28620562422454476,0.2828227124910118,0.2828227124910118],\"type\":\"scatter\"},{\"fill\":\"toself\",\"line\":{\"color\":\"LightSeaGreen\",\"width\":2},\"mode\":\"lines\",\"showlegend\":false,\"x\":[-0.318359375,-0.31640625,-0.3203125],\"y\":[0.4350537404999952,0.43167082876646223,0.43167082876646223],\"type\":\"scatter\"},{\"fill\":\"toself\",\"line\":{\"color\":\"LightSeaGreen\",\"width\":2},\"mode\":\"lines\",\"showlegend\":false,\"x\":[-0.232421875,-0.23046875,-0.234375],\"y\":[0.13735750794909435,0.13397459621556138,0.13397459621556138],\"type\":\"scatter\"},{\"fill\":\"toself\",\"line\":{\"color\":\"LightSeaGreen\",\"width\":2},\"mode\":\"lines\",\"showlegend\":false,\"x\":[0.216796875,0.21875,0.21484375],\"y\":[0.18471827221855583,0.18133536048502286,0.18133536048502286],\"type\":\"scatter\"},{\"fill\":\"toself\",\"line\":{\"color\":\"LightSeaGreen\",\"width\":2},\"mode\":\"lines\",\"showlegend\":false,\"x\":[-0.041015625,-0.0390625,-0.04296875],\"y\":[0.9289588535958077,0.9255759418622747,0.9255759418622747],\"type\":\"scatter\"},{\"fill\":\"toself\",\"line\":{\"color\":\"LightSeaGreen\",\"width\":2},\"mode\":\"lines\",\"showlegend\":false,\"x\":[0.087890625,0.08984375,0.0859375],\"y\":[0.5703702098413137,0.5669872981077807,0.5669872981077807],\"type\":\"scatter\"},{\"fill\":\"toself\",\"line\":{\"color\":\"LightSeaGreen\",\"width\":2},\"mode\":\"lines\",\"showlegend\":false,\"x\":[0.162109375,0.1640625,0.16015625],\"y\":[0.13735750794909435,0.13397459621556138,0.13397459621556138],\"type\":\"scatter\"},{\"fill\":\"toself\",\"line\":{\"color\":\"LightSeaGreen\",\"width\":2},\"mode\":\"lines\",\"showlegend\":false,\"x\":[-0.322265625,-0.3203125,-0.32421875],\"y\":[0.4418195639670611,0.4384366522335282,0.4384366522335282],\"type\":\"scatter\"},{\"fill\":\"toself\",\"line\":{\"color\":\"LightSeaGreen\",\"width\":2},\"mode\":\"lines\",\"showlegend\":false,\"x\":[-0.162109375,-0.16015625,-0.1640625],\"y\":[0.14412333141616027,0.1407404196826273,0.1407404196826273],\"type\":\"scatter\"},{\"fill\":\"toself\",\"line\":{\"color\":\"LightSeaGreen\",\"width\":2},\"mode\":\"lines\",\"showlegend\":false,\"x\":[0.228515625,0.23046875,0.2265625],\"y\":[0.6041993271766433,0.6008164154431103,0.6008164154431103],\"type\":\"scatter\"},{\"fill\":\"toself\",\"line\":{\"color\":\"LightSeaGreen\",\"width\":2},\"mode\":\"lines\",\"showlegend\":false,\"x\":[0.34765625,0.349609375,0.345703125],\"y\":[0.357246770628737,0.35386385889520405,0.35386385889520405],\"type\":\"scatter\"},{\"fill\":\"toself\",\"line\":{\"color\":\"LightSeaGreen\",\"width\":2},\"mode\":\"lines\",\"showlegend\":false,\"x\":[-0.13671875,-0.134765625,-0.138671875],\"y\":[0.5737531215748467,0.5703702098413137,0.5703702098413137],\"type\":\"scatter\"},{\"fill\":\"toself\",\"line\":{\"color\":\"LightSeaGreen\",\"width\":2},\"mode\":\"lines\",\"showlegend\":false,\"x\":[0.224609375,0.2265625,0.22265625],\"y\":[0.3809271527634678,0.37754424102993484,0.37754424102993484],\"type\":\"scatter\"},{\"fill\":\"toself\",\"line\":{\"color\":\"LightSeaGreen\",\"width\":2},\"mode\":\"lines\",\"showlegend\":false,\"x\":[-0.2890625,-0.287109375,-0.291015625],\"y\":[0.39107588796406667,0.3876929762305337,0.3876929762305337],\"type\":\"scatter\"},{\"fill\":\"toself\",\"line\":{\"color\":\"LightSeaGreen\",\"width\":2},\"mode\":\"lines\",\"showlegend\":false,\"x\":[-0.134765625,-0.1328125,-0.13671875],\"y\":[0.7462816199850278,0.7428987082514948,0.7428987082514948],\"type\":\"scatter\"},{\"fill\":\"toself\",\"line\":{\"color\":\"LightSeaGreen\",\"width\":2},\"mode\":\"lines\",\"showlegend\":false,\"x\":[-0.099609375,-0.09765625,-0.1015625],\"y\":[0.6109651506437093,0.6075822389101763,0.6075822389101763],\"type\":\"scatter\"},{\"fill\":\"toself\",\"line\":{\"color\":\"LightSeaGreen\",\"width\":2},\"mode\":\"lines\",\"showlegend\":false,\"x\":[0.04296875,0.044921875,0.041015625],\"y\":[0.5737531215748467,0.5703702098413137,0.5703702098413137],\"type\":\"scatter\"},{\"fill\":\"toself\",\"line\":{\"color\":\"LightSeaGreen\",\"width\":2},\"mode\":\"lines\",\"showlegend\":false,\"x\":[-0.337890625,-0.3359375,-0.33984375],\"y\":[0.13735750794909435,0.13397459621556138,0.13397459621556138],\"type\":\"scatter\"},{\"fill\":\"toself\",\"line\":{\"color\":\"LightSeaGreen\",\"width\":2},\"mode\":\"lines\",\"showlegend\":false,\"x\":[0.044921875,0.046875,0.04296875],\"y\":[0.8410031485239507,0.8376202367904177,0.8376202367904177],\"type\":\"scatter\"},{\"fill\":\"toself\",\"line\":{\"color\":\"LightSeaGreen\",\"width\":2},\"mode\":\"lines\",\"showlegend\":false,\"x\":[0.296875,0.298828125,0.294921875],\"y\":[0.4316708287664622,0.42828791703292923,0.42828791703292923],\"type\":\"scatter\"},{\"fill\":\"toself\",\"line\":{\"color\":\"LightSeaGreen\",\"width\":2},\"mode\":\"lines\",\"showlegend\":false,\"x\":[0.009765625,0.01171875,0.0078125],\"y\":[0.13735750794909435,0.13397459621556138,0.13397459621556138],\"type\":\"scatter\"},{\"fill\":\"toself\",\"line\":{\"color\":\"LightSeaGreen\",\"width\":2},\"mode\":\"lines\",\"showlegend\":false,\"x\":[0.033203125,0.03515625,0.03125],\"y\":[0.8342373250568847,0.8308544133233517,0.8308544133233517],\"type\":\"scatter\"},{\"fill\":\"toself\",\"line\":{\"color\":\"LightSeaGreen\",\"width\":2},\"mode\":\"lines\",\"showlegend\":false,\"x\":[-0.0859375,-0.083984375,-0.087890625],\"y\":[0.7158354143832311,0.7124525026496981,0.7124525026496981],\"type\":\"scatter\"},{\"fill\":\"toself\",\"line\":{\"color\":\"LightSeaGreen\",\"width\":2},\"mode\":\"lines\",\"showlegend\":false,\"x\":[-0.412109375,-0.41015625,-0.4140625],\"y\":[0.19148409568562177,0.1881011839520888,0.1881011839520888],\"type\":\"scatter\"},{\"fill\":\"toself\",\"line\":{\"color\":\"LightSeaGreen\",\"width\":2},\"mode\":\"lines\",\"showlegend\":false,\"x\":[0.19921875,0.201171875,0.197265625],\"y\":[0.6278797093113742,0.6244967975778412,0.6244967975778412],\"type\":\"scatter\"},{\"fill\":\"toself\",\"line\":{\"color\":\"LightSeaGreen\",\"width\":2},\"mode\":\"lines\",\"showlegend\":false,\"x\":[0.337890625,0.33984375,0.3359375],\"y\":[0.3809271527634678,0.37754424102993484,0.37754424102993484],\"type\":\"scatter\"},{\"fill\":\"toself\",\"line\":{\"color\":\"LightSeaGreen\",\"width\":2},\"mode\":\"lines\",\"showlegend\":false,\"x\":[-0.26953125,-0.267578125,-0.271484375],\"y\":[0.4790315930359236,0.47564868130239063,0.47564868130239063],\"type\":\"scatter\"},{\"fill\":\"toself\",\"line\":{\"color\":\"LightSeaGreen\",\"width\":2},\"mode\":\"lines\",\"showlegend\":false,\"x\":[-0.240234375,-0.23828125,-0.2421875],\"y\":[0.4621170343682588,0.45873412263472585,0.45873412263472585],\"type\":\"scatter\"},{\"fill\":\"toself\",\"line\":{\"color\":\"LightSeaGreen\",\"width\":2},\"mode\":\"lines\",\"showlegend\":false,\"x\":[-0.33203125,-0.330078125,-0.333984375],\"y\":[0.19486700741915475,0.19148409568562177,0.19148409568562177],\"type\":\"scatter\"},{\"fill\":\"toself\",\"line\":{\"color\":\"LightSeaGreen\",\"width\":2},\"mode\":\"lines\",\"showlegend\":false,\"x\":[0.32421875,0.326171875,0.322265625],\"y\":[0.4113733583652644,0.40799044663173145,0.40799044663173145],\"type\":\"scatter\"},{\"fill\":\"toself\",\"line\":{\"color\":\"LightSeaGreen\",\"width\":2},\"mode\":\"lines\",\"showlegend\":false,\"x\":[-0.212890625,-0.2109375,-0.21484375],\"y\":[0.5771360333083796,0.5737531215748466,0.5737531215748466],\"type\":\"scatter\"},{\"fill\":\"toself\",\"line\":{\"color\":\"LightSeaGreen\",\"width\":2},\"mode\":\"lines\",\"showlegend\":false,\"x\":[-0.322265625,-0.3203125,-0.32421875],\"y\":[0.20501574261975364,0.20163283088622067,0.20163283088622067],\"type\":\"scatter\"},{\"fill\":\"toself\",\"line\":{\"color\":\"LightSeaGreen\",\"width\":2},\"mode\":\"lines\",\"showlegend\":false,\"x\":[-0.00390625,-0.001953125,-0.005859375],\"y\":[0.8985126479940111,0.8951297362604781,0.8951297362604781],\"type\":\"scatter\"},{\"fill\":\"toself\",\"line\":{\"color\":\"LightSeaGreen\",\"width\":2},\"mode\":\"lines\",\"showlegend\":false,\"x\":[-0.427734375,-0.42578125,-0.4296875],\"y\":[0.25237650688921515,0.24899359515568217,0.24899359515568217],\"type\":\"scatter\"},{\"fill\":\"toself\",\"line\":{\"color\":\"LightSeaGreen\",\"width\":2},\"mode\":\"lines\",\"showlegend\":false,\"x\":[0.25,0.251953125,0.248046875],\"y\":[0.5669872981077807,0.5636043863742477,0.5636043863742477],\"type\":\"scatter\"},{\"fill\":\"toself\",\"line\":{\"color\":\"LightSeaGreen\",\"width\":2},\"mode\":\"lines\",\"showlegend\":false,\"x\":[0.33984375,0.341796875,0.337890625],\"y\":[0.19486700741915475,0.19148409568562177,0.19148409568562177],\"type\":\"scatter\"},{\"fill\":\"toself\",\"line\":{\"color\":\"LightSeaGreen\",\"width\":2},\"mode\":\"lines\",\"showlegend\":false,\"x\":[0.232421875,0.234375,0.23046875],\"y\":[0.35386385889520405,0.3504809471616711,0.3504809471616711],\"type\":\"scatter\"},{\"fill\":\"toself\",\"line\":{\"color\":\"LightSeaGreen\",\"width\":2},\"mode\":\"lines\",\"showlegend\":false,\"x\":[-0.2890625,-0.287109375,-0.291015625],\"y\":[0.4722657695688577,0.46888285783532474,0.46888285783532474],\"type\":\"scatter\"},{\"fill\":\"toself\",\"line\":{\"color\":\"LightSeaGreen\",\"width\":2},\"mode\":\"lines\",\"showlegend\":false,\"x\":[-0.18359375,-0.181640625,-0.185546875],\"y\":[0.19486700741915475,0.19148409568562177,0.19148409568562177],\"type\":\"scatter\"},{\"fill\":\"toself\",\"line\":{\"color\":\"LightSeaGreen\",\"width\":2},\"mode\":\"lines\",\"showlegend\":false,\"x\":[0.291015625,0.29296875,0.2890625],\"y\":[0.4621170343682588,0.45873412263472585,0.45873412263472585],\"type\":\"scatter\"},{\"fill\":\"toself\",\"line\":{\"color\":\"LightSeaGreen\",\"width\":2},\"mode\":\"lines\",\"showlegend\":false,\"x\":[0.169921875,0.171875,0.16796875],\"y\":[0.6244967975778412,0.6211138858443082,0.6211138858443082],\"type\":\"scatter\"},{\"fill\":\"toself\",\"line\":{\"color\":\"LightSeaGreen\",\"width\":2},\"mode\":\"lines\",\"showlegend\":false,\"x\":[-0.236328125,-0.234375,-0.23828125],\"y\":[0.5839018567754456,0.5805189450419126,0.5805189450419126],\"type\":\"scatter\"},{\"fill\":\"toself\",\"line\":{\"color\":\"LightSeaGreen\",\"width\":2},\"mode\":\"lines\",\"showlegend\":false,\"x\":[-0.236328125,-0.234375,-0.23828125],\"y\":[0.5839018567754456,0.5805189450419126,0.5805189450419126],\"type\":\"scatter\"},{\"fill\":\"toself\",\"line\":{\"color\":\"LightSeaGreen\",\"width\":2},\"mode\":\"lines\",\"showlegend\":false,\"x\":[-0.482421875,-0.48046875,-0.484375],\"y\":[0.13735750794909435,0.13397459621556138,0.13397459621556138],\"type\":\"scatter\"},{\"fill\":\"toself\",\"line\":{\"color\":\"LightSeaGreen\",\"width\":2},\"mode\":\"lines\",\"showlegend\":false,\"x\":[0.15234375,0.154296875,0.150390625],\"y\":[0.6820062970479015,0.6786233853143685,0.6786233853143685],\"type\":\"scatter\"},{\"fill\":\"toself\",\"line\":{\"color\":\"LightSeaGreen\",\"width\":2},\"mode\":\"lines\",\"showlegend\":false,\"x\":[-0.16015625,-0.158203125,-0.162109375],\"y\":[0.6278797093113742,0.6244967975778412,0.6244967975778412],\"type\":\"scatter\"},{\"fill\":\"toself\",\"line\":{\"color\":\"LightSeaGreen\",\"width\":2},\"mode\":\"lines\",\"showlegend\":false,\"x\":[0.103515625,0.10546875,0.1015625],\"y\":[0.17118662528442397,0.167803713550891,0.167803713550891],\"type\":\"scatter\"},{\"fill\":\"toself\",\"line\":{\"color\":\"LightSeaGreen\",\"width\":2},\"mode\":\"lines\",\"showlegend\":false,\"x\":[-0.15234375,-0.150390625,-0.154296875],\"y\":[0.16780371355089102,0.16442080181735805,0.16442080181735805],\"type\":\"scatter\"},{\"fill\":\"toself\",\"line\":{\"color\":\"LightSeaGreen\",\"width\":2},\"mode\":\"lines\",\"showlegend\":false,\"x\":[0.291015625,0.29296875,0.2890625],\"y\":[0.3876929762305337,0.3843100644970008,0.3843100644970008],\"type\":\"scatter\"},{\"fill\":\"toself\",\"line\":{\"color\":\"LightSeaGreen\",\"width\":2},\"mode\":\"lines\",\"showlegend\":false,\"x\":[-0.14453125,-0.142578125,-0.146484375],\"y\":[0.6008164154431104,0.5974335037095774,0.5974335037095774],\"type\":\"scatter\"},{\"fill\":\"toself\",\"line\":{\"color\":\"LightSeaGreen\",\"width\":2},\"mode\":\"lines\",\"showlegend\":false,\"x\":[0.412109375,0.4140625,0.41015625],\"y\":[0.13735750794909435,0.13397459621556138,0.13397459621556138],\"type\":\"scatter\"},{\"fill\":\"toself\",\"line\":{\"color\":\"LightSeaGreen\",\"width\":2},\"mode\":\"lines\",\"showlegend\":false,\"x\":[-0.041015625,-0.0390625,-0.04296875],\"y\":[0.8410031485239507,0.8376202367904177,0.8376202367904177],\"type\":\"scatter\"},{\"fill\":\"toself\",\"line\":{\"color\":\"LightSeaGreen\",\"width\":2},\"mode\":\"lines\",\"showlegend\":false,\"x\":[0.048828125,0.05078125,0.046875],\"y\":[0.5906676802425115,0.5872847685089785,0.5872847685089785],\"type\":\"scatter\"},{\"fill\":\"toself\",\"line\":{\"color\":\"LightSeaGreen\",\"width\":2},\"mode\":\"lines\",\"showlegend\":false,\"x\":[-0.11328125,-0.111328125,-0.115234375],\"y\":[0.5737531215748467,0.5703702098413137,0.5703702098413137],\"type\":\"scatter\"},{\"fill\":\"toself\",\"line\":{\"color\":\"LightSeaGreen\",\"width\":2},\"mode\":\"lines\",\"showlegend\":false,\"x\":[0.408203125,0.41015625,0.40625],\"y\":[0.2726739772904129,0.26929106555688,0.26929106555688],\"type\":\"scatter\"},{\"fill\":\"toself\",\"line\":{\"color\":\"LightSeaGreen\",\"width\":2},\"mode\":\"lines\",\"showlegend\":false,\"x\":[-0.083984375,-0.08203125,-0.0859375],\"y\":[0.1982499191526877,0.19486700741915472,0.19486700741915472],\"type\":\"scatter\"},{\"fill\":\"toself\",\"line\":{\"color\":\"LightSeaGreen\",\"width\":2},\"mode\":\"lines\",\"showlegend\":false,\"x\":[0.099609375,0.1015625,0.09765625],\"y\":[0.5703702098413137,0.5669872981077807,0.5669872981077807],\"type\":\"scatter\"},{\"fill\":\"toself\",\"line\":{\"color\":\"LightSeaGreen\",\"width\":2},\"mode\":\"lines\",\"showlegend\":false,\"x\":[0.267578125,0.26953125,0.265625],\"y\":[0.1508891548832262,0.14750624314969324,0.14750624314969324],\"type\":\"scatter\"},{\"fill\":\"toself\",\"line\":{\"color\":\"LightSeaGreen\",\"width\":2},\"mode\":\"lines\",\"showlegend\":false,\"x\":[0.119140625,0.12109375,0.1171875],\"y\":[0.13735750794909435,0.13397459621556138,0.13397459621556138],\"type\":\"scatter\"},{\"fill\":\"toself\",\"line\":{\"color\":\"LightSeaGreen\",\"width\":2},\"mode\":\"lines\",\"showlegend\":false,\"x\":[0.087890625,0.08984375,0.0859375],\"y\":[0.8207056781227529,0.8173227663892199,0.8173227663892199],\"type\":\"scatter\"},{\"fill\":\"toself\",\"line\":{\"color\":\"LightSeaGreen\",\"width\":2},\"mode\":\"lines\",\"showlegend\":false,\"x\":[0.326171875,0.328125,0.32421875],\"y\":[0.35386385889520405,0.3504809471616711,0.3504809471616711],\"type\":\"scatter\"},{\"fill\":\"toself\",\"line\":{\"color\":\"LightSeaGreen\",\"width\":2},\"mode\":\"lines\",\"showlegend\":false,\"x\":[-0.369140625,-0.3671875,-0.37109375],\"y\":[0.13735750794909435,0.13397459621556138,0.13397459621556138],\"type\":\"scatter\"},{\"fill\":\"toself\",\"line\":{\"color\":\"LightSeaGreen\",\"width\":2},\"mode\":\"lines\",\"showlegend\":false,\"x\":[0.26171875,0.263671875,0.259765625],\"y\":[0.5196265338383192,0.5162436221047862,0.5162436221047862],\"type\":\"scatter\"},{\"fill\":\"toself\",\"line\":{\"color\":\"LightSeaGreen\",\"width\":2},\"mode\":\"lines\",\"showlegend\":false,\"x\":[0.361328125,0.36328125,0.359375],\"y\":[0.25914233035628104,0.2557594186227481,0.2557594186227481],\"type\":\"scatter\"},{\"fill\":\"toself\",\"line\":{\"color\":\"LightSeaGreen\",\"width\":2},\"mode\":\"lines\",\"showlegend\":false,\"x\":[0.017578125,0.01953125,0.015625],\"y\":[0.13735750794909435,0.13397459621556138,0.13397459621556138],\"type\":\"scatter\"},{\"fill\":\"toself\",\"line\":{\"color\":\"LightSeaGreen\",\"width\":2},\"mode\":\"lines\",\"showlegend\":false,\"x\":[0.220703125,0.22265625,0.21875],\"y\":[0.3809271527634678,0.37754424102993484,0.37754424102993484],\"type\":\"scatter\"},{\"fill\":\"toself\",\"line\":{\"color\":\"LightSeaGreen\",\"width\":2},\"mode\":\"lines\",\"showlegend\":false,\"x\":[0.314453125,0.31640625,0.3125],\"y\":[0.45535121090119296,0.45196829916766,0.45196829916766],\"type\":\"scatter\"},{\"fill\":\"toself\",\"line\":{\"color\":\"LightSeaGreen\",\"width\":2},\"mode\":\"lines\",\"showlegend\":false,\"x\":[0.056640625,0.05859375,0.0546875],\"y\":[0.8951297362604781,0.8917468245269451,0.8917468245269451],\"type\":\"scatter\"},{\"fill\":\"toself\",\"line\":{\"color\":\"LightSeaGreen\",\"width\":2},\"mode\":\"lines\",\"showlegend\":false,\"x\":[0.361328125,0.36328125,0.359375],\"y\":[0.13735750794909435,0.13397459621556138,0.13397459621556138],\"type\":\"scatter\"},{\"fill\":\"toself\",\"line\":{\"color\":\"LightSeaGreen\",\"width\":2},\"mode\":\"lines\",\"showlegend\":false,\"x\":[0.013671875,0.015625,0.01171875],\"y\":[0.9763196178652692,0.9729367061317362,0.9729367061317362],\"type\":\"scatter\"},{\"fill\":\"toself\",\"line\":{\"color\":\"LightSeaGreen\",\"width\":2},\"mode\":\"lines\",\"showlegend\":false,\"x\":[-0.068359375,-0.06640625,-0.0703125],\"y\":[0.23207903648801734,0.22869612475448436,0.22869612475448436],\"type\":\"scatter\"},{\"fill\":\"toself\",\"line\":{\"color\":\"LightSeaGreen\",\"width\":2},\"mode\":\"lines\",\"showlegend\":false,\"x\":[-0.095703125,-0.09375,-0.09765625],\"y\":[0.16442080181735805,0.16103789008382507,0.16103789008382507],\"type\":\"scatter\"},{\"fill\":\"toself\",\"line\":{\"color\":\"LightSeaGreen\",\"width\":2},\"mode\":\"lines\",\"showlegend\":false,\"x\":[0.3671875,0.369140625,0.365234375],\"y\":[0.3098860063592755,0.30650309462574254,0.30650309462574254],\"type\":\"scatter\"},{\"fill\":\"toself\",\"line\":{\"color\":\"LightSeaGreen\",\"width\":2},\"mode\":\"lines\",\"showlegend\":false,\"x\":[-0.181640625,-0.1796875,-0.18359375],\"y\":[0.2456106834221492,0.24222777168861623,0.24222777168861623],\"type\":\"scatter\"},{\"fill\":\"toself\",\"line\":{\"color\":\"LightSeaGreen\",\"width\":2},\"mode\":\"lines\",\"showlegend\":false,\"x\":[-0.21484375,-0.212890625,-0.216796875],\"y\":[0.6008164154431104,0.5974335037095774,0.5974335037095774],\"type\":\"scatter\"},{\"fill\":\"toself\",\"line\":{\"color\":\"LightSeaGreen\",\"width\":2},\"mode\":\"lines\",\"showlegend\":false,\"x\":[-0.044921875,-0.04296875,-0.046875],\"y\":[0.813939854655687,0.810556942922154,0.810556942922154],\"type\":\"scatter\"},{\"fill\":\"toself\",\"line\":{\"color\":\"LightSeaGreen\",\"width\":2},\"mode\":\"lines\",\"showlegend\":false,\"x\":[-0.30859375,-0.306640625,-0.310546875],\"y\":[0.22193030128741845,0.21854738955388547,0.21854738955388547],\"type\":\"scatter\"},{\"fill\":\"toself\",\"line\":{\"color\":\"LightSeaGreen\",\"width\":2},\"mode\":\"lines\",\"showlegend\":false,\"x\":[-0.04296875,-0.041015625,-0.044921875],\"y\":[0.641411356245506,0.638028444511973,0.638028444511973],\"type\":\"scatter\"},{\"fill\":\"toself\",\"line\":{\"color\":\"LightSeaGreen\",\"width\":2},\"mode\":\"lines\",\"showlegend\":false,\"x\":[-0.33203125,-0.330078125,-0.333984375],\"y\":[0.2760568890239459,0.2726739772904129,0.2726739772904129],\"type\":\"scatter\"},{\"fill\":\"toself\",\"line\":{\"color\":\"LightSeaGreen\",\"width\":2},\"mode\":\"lines\",\"showlegend\":false,\"x\":[-0.052734375,-0.05078125,-0.0546875],\"y\":[0.8410031485239507,0.8376202367904177,0.8376202367904177],\"type\":\"scatter\"},{\"fill\":\"toself\",\"line\":{\"color\":\"LightSeaGreen\",\"width\":2},\"mode\":\"lines\",\"showlegend\":false,\"x\":[-0.208984375,-0.20703125,-0.2109375],\"y\":[0.4215220935658633,0.41813918183233034,0.41813918183233034],\"type\":\"scatter\"},{\"fill\":\"toself\",\"line\":{\"color\":\"LightSeaGreen\",\"width\":2},\"mode\":\"lines\",\"showlegend\":false,\"x\":[0.134765625,0.13671875,0.1328125],\"y\":[0.31326891809280843,0.3098860063592755,0.3098860063592755],\"type\":\"scatter\"},{\"fill\":\"toself\",\"line\":{\"color\":\"LightSeaGreen\",\"width\":2},\"mode\":\"lines\",\"showlegend\":false,\"x\":[-0.177734375,-0.17578125,-0.1796875],\"y\":[0.25914233035628104,0.2557594186227481,0.2557594186227481],\"type\":\"scatter\"},{\"fill\":\"toself\",\"line\":{\"color\":\"LightSeaGreen\",\"width\":2},\"mode\":\"lines\",\"showlegend\":false,\"x\":[0.107421875,0.109375,0.10546875],\"y\":[0.5839018567754456,0.5805189450419126,0.5805189450419126],\"type\":\"scatter\"},{\"fill\":\"toself\",\"line\":{\"color\":\"LightSeaGreen\",\"width\":2},\"mode\":\"lines\",\"showlegend\":false,\"x\":[0.322265625,0.32421875,0.3203125],\"y\":[0.4418195639670611,0.4384366522335282,0.4384366522335282],\"type\":\"scatter\"},{\"fill\":\"toself\",\"line\":{\"color\":\"LightSeaGreen\",\"width\":2},\"mode\":\"lines\",\"showlegend\":false,\"x\":[0.181640625,0.18359375,0.1796875],\"y\":[0.19148409568562177,0.1881011839520888,0.1881011839520888],\"type\":\"scatter\"},{\"fill\":\"toself\",\"line\":{\"color\":\"LightSeaGreen\",\"width\":2},\"mode\":\"lines\",\"showlegend\":false,\"x\":[0.21875,0.220703125,0.216796875],\"y\":[0.5128607103712532,0.5094777986377202,0.5094777986377202],\"type\":\"scatter\"},{\"fill\":\"toself\",\"line\":{\"color\":\"LightSeaGreen\",\"width\":2},\"mode\":\"lines\",\"showlegend\":false,\"x\":[-0.06640625,-0.064453125,-0.068359375],\"y\":[0.8443860602574838,0.8410031485239507,0.8410031485239507],\"type\":\"scatter\"},{\"fill\":\"toself\",\"line\":{\"color\":\"LightSeaGreen\",\"width\":2},\"mode\":\"lines\",\"showlegend\":false,\"x\":[-0.0859375,-0.083984375,-0.087890625],\"y\":[0.7970252959880222,0.7936423842544892,0.7936423842544892],\"type\":\"scatter\"},{\"fill\":\"toself\",\"line\":{\"color\":\"LightSeaGreen\",\"width\":2},\"mode\":\"lines\",\"showlegend\":false,\"x\":[0.0390625,0.041015625,0.037109375],\"y\":[0.14750624314969324,0.14412333141616027,0.14412333141616027],\"type\":\"scatter\"},{\"fill\":\"toself\",\"line\":{\"color\":\"LightSeaGreen\",\"width\":2},\"mode\":\"lines\",\"showlegend\":false,\"x\":[-0.166015625,-0.1640625,-0.16796875],\"y\":[0.6244967975778412,0.6211138858443082,0.6211138858443082],\"type\":\"scatter\"},{\"fill\":\"toself\",\"line\":{\"color\":\"LightSeaGreen\",\"width\":2},\"mode\":\"lines\",\"showlegend\":false,\"x\":[-0.47265625,-0.470703125,-0.474609375],\"y\":[0.16780371355089102,0.16442080181735805,0.16442080181735805],\"type\":\"scatter\"},{\"fill\":\"toself\",\"line\":{\"color\":\"LightSeaGreen\",\"width\":2},\"mode\":\"lines\",\"showlegend\":false,\"x\":[0.083984375,0.0859375,0.08203125],\"y\":[0.8410031485239507,0.8376202367904177,0.8376202367904177],\"type\":\"scatter\"},{\"fill\":\"toself\",\"line\":{\"color\":\"LightSeaGreen\",\"width\":2},\"mode\":\"lines\",\"showlegend\":false,\"x\":[0.037109375,0.0390625,0.03515625],\"y\":[0.8951297362604781,0.8917468245269451,0.8917468245269451],\"type\":\"scatter\"},{\"fill\":\"toself\",\"line\":{\"color\":\"LightSeaGreen\",\"width\":2},\"mode\":\"lines\",\"showlegend\":false,\"x\":[0.34765625,0.349609375,0.345703125],\"y\":[0.3843100644970007,0.3809271527634678,0.3809271527634678],\"type\":\"scatter\"},{\"fill\":\"toself\",\"line\":{\"color\":\"LightSeaGreen\",\"width\":2},\"mode\":\"lines\",\"showlegend\":false,\"x\":[-0.318359375,-0.31640625,-0.3203125],\"y\":[0.25237650688921515,0.24899359515568217,0.24899359515568217],\"type\":\"scatter\"},{\"fill\":\"toself\",\"line\":{\"color\":\"LightSeaGreen\",\"width\":2},\"mode\":\"lines\",\"showlegend\":false,\"x\":[0.162109375,0.1640625,0.16015625],\"y\":[0.3876929762305337,0.3843100644970008,0.3843100644970008],\"type\":\"scatter\"},{\"fill\":\"toself\",\"line\":{\"color\":\"LightSeaGreen\",\"width\":2},\"mode\":\"lines\",\"showlegend\":false,\"x\":[0.291015625,0.29296875,0.2890625],\"y\":[0.4147562700987974,0.41137335836526445,0.41137335836526445],\"type\":\"scatter\"},{\"fill\":\"toself\",\"line\":{\"color\":\"LightSeaGreen\",\"width\":2},\"mode\":\"lines\",\"showlegend\":false,\"x\":[0.11328125,0.115234375,0.111328125],\"y\":[0.7496645317185608,0.7462816199850278,0.7462816199850278],\"type\":\"scatter\"},{\"fill\":\"toself\",\"line\":{\"color\":\"LightSeaGreen\",\"width\":2},\"mode\":\"lines\",\"showlegend\":false,\"x\":[0.15234375,0.154296875,0.150390625],\"y\":[0.7090695909161652,0.7056866791826322,0.7056866791826322],\"type\":\"scatter\"},{\"fill\":\"toself\",\"line\":{\"color\":\"LightSeaGreen\",\"width\":2},\"mode\":\"lines\",\"showlegend\":false,\"x\":[-0.443359375,-0.44140625,-0.4453125],\"y\":[0.14412333141616027,0.1407404196826273,0.1407404196826273],\"type\":\"scatter\"},{\"fill\":\"toself\",\"line\":{\"color\":\"LightSeaGreen\",\"width\":2},\"mode\":\"lines\",\"showlegend\":false,\"x\":[0.3515625,0.353515625,0.349609375],\"y\":[0.39107588796406667,0.3876929762305337,0.3876929762305337],\"type\":\"scatter\"},{\"fill\":\"toself\",\"line\":{\"color\":\"LightSeaGreen\",\"width\":2},\"mode\":\"lines\",\"showlegend\":false,\"x\":[0.0703125,0.072265625,0.068359375],\"y\":[0.7970252959880222,0.7936423842544892,0.7936423842544892],\"type\":\"scatter\"},{\"fill\":\"toself\",\"line\":{\"color\":\"LightSeaGreen\",\"width\":2},\"mode\":\"lines\",\"showlegend\":false,\"x\":[0.298828125,0.30078125,0.296875],\"y\":[0.4621170343682588,0.45873412263472585,0.45873412263472585],\"type\":\"scatter\"},{\"fill\":\"toself\",\"line\":{\"color\":\"LightSeaGreen\",\"width\":2},\"mode\":\"lines\",\"showlegend\":false,\"x\":[-0.025390625,-0.0234375,-0.02734375],\"y\":[0.9289588535958077,0.9255759418622747,0.9255759418622747],\"type\":\"scatter\"},{\"fill\":\"toself\",\"line\":{\"color\":\"LightSeaGreen\",\"width\":2},\"mode\":\"lines\",\"showlegend\":false,\"x\":[-0.294921875,-0.29296875,-0.296875],\"y\":[0.4215220935658633,0.41813918183233034,0.41813918183233034],\"type\":\"scatter\"},{\"fill\":\"toself\",\"line\":{\"color\":\"LightSeaGreen\",\"width\":2},\"mode\":\"lines\",\"showlegend\":false,\"x\":[-0.330078125,-0.328125,-0.33203125],\"y\":[0.19148409568562177,0.1881011839520888,0.1881011839520888],\"type\":\"scatter\"},{\"fill\":\"toself\",\"line\":{\"color\":\"LightSeaGreen\",\"width\":2},\"mode\":\"lines\",\"showlegend\":false,\"x\":[-0.333984375,-0.33203125,-0.3359375],\"y\":[0.13735750794909435,0.13397459621556138,0.13397459621556138],\"type\":\"scatter\"},{\"fill\":\"toself\",\"line\":{\"color\":\"LightSeaGreen\",\"width\":2},\"mode\":\"lines\",\"showlegend\":false,\"x\":[0.33984375,0.341796875,0.337890625],\"y\":[0.24899359515568217,0.2456106834221492,0.2456106834221492],\"type\":\"scatter\"},{\"fill\":\"toself\",\"line\":{\"color\":\"LightSeaGreen\",\"width\":2},\"mode\":\"lines\",\"showlegend\":false,\"x\":[-0.166015625,-0.1640625,-0.16796875],\"y\":[0.1508891548832262,0.14750624314969324,0.14750624314969324],\"type\":\"scatter\"},{\"fill\":\"toself\",\"line\":{\"color\":\"LightSeaGreen\",\"width\":2},\"mode\":\"lines\",\"showlegend\":false,\"x\":[-0.13671875,-0.134765625,-0.138671875],\"y\":[0.24899359515568217,0.2456106834221492,0.2456106834221492],\"type\":\"scatter\"},{\"fill\":\"toself\",\"line\":{\"color\":\"LightSeaGreen\",\"width\":2},\"mode\":\"lines\",\"showlegend\":false,\"x\":[-0.31640625,-0.314453125,-0.318359375],\"y\":[0.14074041968262732,0.13735750794909435,0.13735750794909435],\"type\":\"scatter\"},{\"fill\":\"toself\",\"line\":{\"color\":\"LightSeaGreen\",\"width\":2},\"mode\":\"lines\",\"showlegend\":false,\"x\":[-0.017578125,-0.015625,-0.01953125],\"y\":[0.8951297362604781,0.8917468245269451,0.8917468245269451],\"type\":\"scatter\"},{\"fill\":\"toself\",\"line\":{\"color\":\"LightSeaGreen\",\"width\":2},\"mode\":\"lines\",\"showlegend\":false,\"x\":[0.158203125,0.16015625,0.15625],\"y\":[0.2726739772904129,0.26929106555688,0.26929106555688],\"type\":\"scatter\"},{\"fill\":\"toself\",\"line\":{\"color\":\"LightSeaGreen\",\"width\":2},\"mode\":\"lines\",\"showlegend\":false,\"x\":[0.103515625,0.10546875,0.1015625],\"y\":[0.16442080181735805,0.16103789008382507,0.16103789008382507],\"type\":\"scatter\"},{\"fill\":\"toself\",\"line\":{\"color\":\"LightSeaGreen\",\"width\":2},\"mode\":\"lines\",\"showlegend\":false,\"x\":[0.287109375,0.2890625,0.28515625],\"y\":[0.3809271527634678,0.37754424102993484,0.37754424102993484],\"type\":\"scatter\"},{\"fill\":\"toself\",\"line\":{\"color\":\"LightSeaGreen\",\"width\":2},\"mode\":\"lines\",\"showlegend\":false,\"x\":[0.345703125,0.34765625,0.34375],\"y\":[0.13735750794909435,0.13397459621556138,0.13397459621556138],\"type\":\"scatter\"},{\"fill\":\"toself\",\"line\":{\"color\":\"LightSeaGreen\",\"width\":2},\"mode\":\"lines\",\"showlegend\":false,\"x\":[0.072265625,0.07421875,0.0703125],\"y\":[0.7868765607874233,0.7834936490538903,0.7834936490538903],\"type\":\"scatter\"},{\"fill\":\"toself\",\"line\":{\"color\":\"LightSeaGreen\",\"width\":2},\"mode\":\"lines\",\"showlegend\":false,\"x\":[-0.17578125,-0.173828125,-0.177734375],\"y\":[0.5872847685089786,0.5839018567754456,0.5839018567754456],\"type\":\"scatter\"},{\"fill\":\"toself\",\"line\":{\"color\":\"LightSeaGreen\",\"width\":2},\"mode\":\"lines\",\"showlegend\":false,\"x\":[0.208984375,0.2109375,0.20703125],\"y\":[0.13735750794909435,0.13397459621556138,0.13397459621556138],\"type\":\"scatter\"},{\"fill\":\"toself\",\"line\":{\"color\":\"LightSeaGreen\",\"width\":2},\"mode\":\"lines\",\"showlegend\":false,\"x\":[0.048828125,0.05078125,0.046875],\"y\":[0.15765497835029213,0.15427206661675916,0.15427206661675916],\"type\":\"scatter\"},{\"fill\":\"toself\",\"line\":{\"color\":\"LightSeaGreen\",\"width\":2},\"mode\":\"lines\",\"showlegend\":false,\"x\":[0.416015625,0.41796875,0.4140625],\"y\":[0.20501574261975364,0.20163283088622067,0.20163283088622067],\"type\":\"scatter\"},{\"fill\":\"toself\",\"line\":{\"color\":\"LightSeaGreen\",\"width\":2},\"mode\":\"lines\",\"showlegend\":false,\"x\":[0.48046875,0.482421875,0.478515625],\"y\":[0.14074041968262732,0.13735750794909435,0.13735750794909435],\"type\":\"scatter\"},{\"fill\":\"toself\",\"line\":{\"color\":\"LightSeaGreen\",\"width\":2},\"mode\":\"lines\",\"showlegend\":false,\"x\":[0.072265625,0.07421875,0.0703125],\"y\":[0.14412333141616027,0.1407404196826273,0.1407404196826273],\"type\":\"scatter\"},{\"fill\":\"toself\",\"line\":{\"color\":\"LightSeaGreen\",\"width\":2},\"mode\":\"lines\",\"showlegend\":false,\"x\":[-0.228515625,-0.2265625,-0.23046875],\"y\":[0.3809271527634678,0.37754424102993484,0.37754424102993484],\"type\":\"scatter\"},{\"fill\":\"toself\",\"line\":{\"color\":\"LightSeaGreen\",\"width\":2},\"mode\":\"lines\",\"showlegend\":false,\"x\":[0.384765625,0.38671875,0.3828125],\"y\":[0.31326891809280843,0.3098860063592755,0.3098860063592755],\"type\":\"scatter\"},{\"fill\":\"toself\",\"line\":{\"color\":\"LightSeaGreen\",\"width\":2},\"mode\":\"lines\",\"showlegend\":false,\"x\":[-0.349609375,-0.34765625,-0.3515625],\"y\":[0.3809271527634678,0.37754424102993484,0.37754424102993484],\"type\":\"scatter\"},{\"fill\":\"toself\",\"line\":{\"color\":\"LightSeaGreen\",\"width\":2},\"mode\":\"lines\",\"showlegend\":false,\"x\":[0.275390625,0.27734375,0.2734375],\"y\":[0.3809271527634678,0.37754424102993484,0.37754424102993484],\"type\":\"scatter\"},{\"fill\":\"toself\",\"line\":{\"color\":\"LightSeaGreen\",\"width\":2},\"mode\":\"lines\",\"showlegend\":false,\"x\":[-0.064453125,-0.0625,-0.06640625],\"y\":[0.21854738955388547,0.2151644778203525,0.2151644778203525],\"type\":\"scatter\"},{\"fill\":\"toself\",\"line\":{\"color\":\"LightSeaGreen\",\"width\":2},\"mode\":\"lines\",\"showlegend\":false,\"x\":[-0.01171875,-0.009765625,-0.013671875],\"y\":[0.5872847685089786,0.5839018567754456,0.5839018567754456],\"type\":\"scatter\"},{\"fill\":\"toself\",\"line\":{\"color\":\"LightSeaGreen\",\"width\":2},\"mode\":\"lines\",\"showlegend\":false,\"x\":[0.294921875,0.296875,0.29296875],\"y\":[0.3673955058293359,0.36401259409580294,0.36401259409580294],\"type\":\"scatter\"},{\"fill\":\"toself\",\"line\":{\"color\":\"LightSeaGreen\",\"width\":2},\"mode\":\"lines\",\"showlegend\":false,\"x\":[0.060546875,0.0625,0.05859375],\"y\":[0.8410031485239507,0.8376202367904177,0.8376202367904177],\"type\":\"scatter\"},{\"fill\":\"toself\",\"line\":{\"color\":\"LightSeaGreen\",\"width\":2},\"mode\":\"lines\",\"showlegend\":false,\"x\":[-0.26171875,-0.259765625,-0.263671875],\"y\":[0.357246770628737,0.35386385889520405,0.35386385889520405],\"type\":\"scatter\"},{\"fill\":\"toself\",\"line\":{\"color\":\"LightSeaGreen\",\"width\":2},\"mode\":\"lines\",\"showlegend\":false,\"x\":[0.357421875,0.359375,0.35546875],\"y\":[0.3200347415598744,0.31665182982634144,0.31665182982634144],\"type\":\"scatter\"},{\"fill\":\"toself\",\"line\":{\"color\":\"LightSeaGreen\",\"width\":2},\"mode\":\"lines\",\"showlegend\":false,\"x\":[-0.380859375,-0.37890625,-0.3828125],\"y\":[0.25237650688921515,0.24899359515568217,0.24899359515568217],\"type\":\"scatter\"},{\"fill\":\"toself\",\"line\":{\"color\":\"LightSeaGreen\",\"width\":2},\"mode\":\"lines\",\"showlegend\":false,\"x\":[0.107421875,0.109375,0.10546875],\"y\":[0.2997372711586766,0.29635435942514365,0.29635435942514365],\"type\":\"scatter\"},{\"fill\":\"toself\",\"line\":{\"color\":\"LightSeaGreen\",\"width\":2},\"mode\":\"lines\",\"showlegend\":false,\"x\":[-0.134765625,-0.1328125,-0.13671875],\"y\":[0.732749973050896,0.729367061317363,0.729367061317363],\"type\":\"scatter\"},{\"fill\":\"toself\",\"line\":{\"color\":\"LightSeaGreen\",\"width\":2},\"mode\":\"lines\",\"showlegend\":false,\"x\":[0.41796875,0.419921875,0.416015625],\"y\":[0.24899359515568217,0.2456106834221492,0.2456106834221492],\"type\":\"scatter\"},{\"fill\":\"toself\",\"line\":{\"color\":\"LightSeaGreen\",\"width\":2},\"mode\":\"lines\",\"showlegend\":false,\"x\":[-0.298828125,-0.296875,-0.30078125],\"y\":[0.42828791703292923,0.4249050052993963,0.4249050052993963],\"type\":\"scatter\"},{\"fill\":\"toself\",\"line\":{\"color\":\"LightSeaGreen\",\"width\":2},\"mode\":\"lines\",\"showlegend\":false,\"x\":[0.353515625,0.35546875,0.3515625],\"y\":[0.2794398007574789,0.27605688902394593,0.27605688902394593],\"type\":\"scatter\"},{\"fill\":\"toself\",\"line\":{\"color\":\"LightSeaGreen\",\"width\":2},\"mode\":\"lines\",\"showlegend\":false,\"x\":[-0.14453125,-0.142578125,-0.146484375],\"y\":[0.357246770628737,0.35386385889520405,0.35386385889520405],\"type\":\"scatter\"},{\"fill\":\"toself\",\"line\":{\"color\":\"LightSeaGreen\",\"width\":2},\"mode\":\"lines\",\"showlegend\":false,\"x\":[0.353515625,0.35546875,0.3515625],\"y\":[0.2726739772904129,0.26929106555688,0.26929106555688],\"type\":\"scatter\"},{\"fill\":\"toself\",\"line\":{\"color\":\"LightSeaGreen\",\"width\":2},\"mode\":\"lines\",\"showlegend\":false,\"x\":[0.3515625,0.353515625,0.349609375],\"y\":[0.2828227124910118,0.2794398007574789,0.2794398007574789],\"type\":\"scatter\"},{\"fill\":\"toself\",\"line\":{\"color\":\"LightSeaGreen\",\"width\":2},\"mode\":\"lines\",\"showlegend\":false,\"x\":[-0.087890625,-0.0859375,-0.08984375],\"y\":[0.5703702098413137,0.5669872981077807,0.5669872981077807],\"type\":\"scatter\"},{\"fill\":\"toself\",\"line\":{\"color\":\"LightSeaGreen\",\"width\":2},\"mode\":\"lines\",\"showlegend\":false,\"x\":[-0.099609375,-0.09765625,-0.1015625],\"y\":[0.7124525026496981,0.7090695909161651,0.7090695909161651],\"type\":\"scatter\"},{\"fill\":\"toself\",\"line\":{\"color\":\"LightSeaGreen\",\"width\":2},\"mode\":\"lines\",\"showlegend\":false,\"x\":[0.115234375,0.1171875,0.11328125],\"y\":[0.6786233853143685,0.6752404735808355,0.6752404735808355],\"type\":\"scatter\"},{\"fill\":\"toself\",\"line\":{\"color\":\"LightSeaGreen\",\"width\":2},\"mode\":\"lines\",\"showlegend\":false,\"x\":[0.166015625,0.16796875,0.1640625],\"y\":[0.3809271527634678,0.37754424102993484,0.37754424102993484],\"type\":\"scatter\"},{\"fill\":\"toself\",\"line\":{\"color\":\"LightSeaGreen\",\"width\":2},\"mode\":\"lines\",\"showlegend\":false,\"x\":[-0.05859375,-0.056640625,-0.060546875],\"y\":[0.6684746501137697,0.6650917383802367,0.6650917383802367],\"type\":\"scatter\"},{\"fill\":\"toself\",\"line\":{\"color\":\"LightSeaGreen\",\"width\":2},\"mode\":\"lines\",\"showlegend\":false,\"x\":[-0.349609375,-0.34765625,-0.3515625],\"y\":[0.2726739772904129,0.26929106555688,0.26929106555688],\"type\":\"scatter\"},{\"fill\":\"toself\",\"line\":{\"color\":\"LightSeaGreen\",\"width\":2},\"mode\":\"lines\",\"showlegend\":false,\"x\":[-0.2109375,-0.208984375,-0.212890625],\"y\":[0.6075822389101763,0.6041993271766433,0.6041993271766433],\"type\":\"scatter\"},{\"fill\":\"toself\",\"line\":{\"color\":\"LightSeaGreen\",\"width\":2},\"mode\":\"lines\",\"showlegend\":false,\"x\":[-0.06640625,-0.064453125,-0.068359375],\"y\":[0.8849810010598793,0.8815980893263463,0.8815980893263463],\"type\":\"scatter\"},{\"fill\":\"toself\",\"line\":{\"color\":\"LightSeaGreen\",\"width\":2},\"mode\":\"lines\",\"showlegend\":false,\"x\":[0.080078125,0.08203125,0.078125],\"y\":[0.25914233035628104,0.2557594186227481,0.2557594186227481],\"type\":\"scatter\"},{\"fill\":\"toself\",\"line\":{\"color\":\"LightSeaGreen\",\"width\":2},\"mode\":\"lines\",\"showlegend\":false,\"x\":[-0.021484375,-0.01953125,-0.0234375],\"y\":[0.7868765607874233,0.7834936490538903,0.7834936490538903],\"type\":\"scatter\"},{\"fill\":\"toself\",\"line\":{\"color\":\"LightSeaGreen\",\"width\":2},\"mode\":\"lines\",\"showlegend\":false,\"x\":[-0.2890625,-0.287109375,-0.291015625],\"y\":[0.14750624314969324,0.14412333141616027,0.14412333141616027],\"type\":\"scatter\"},{\"fill\":\"toself\",\"line\":{\"color\":\"LightSeaGreen\",\"width\":2},\"mode\":\"lines\",\"showlegend\":false,\"x\":[0.181640625,0.18359375,0.1796875],\"y\":[0.631262621044907,0.627879709311374,0.627879709311374],\"type\":\"scatter\"},{\"fill\":\"toself\",\"line\":{\"color\":\"LightSeaGreen\",\"width\":2},\"mode\":\"lines\",\"showlegend\":false,\"x\":[-0.123046875,-0.12109375,-0.125],\"y\":[0.3268005650269403,0.3234176532934074,0.3234176532934074],\"type\":\"scatter\"},{\"fill\":\"toself\",\"line\":{\"color\":\"LightSeaGreen\",\"width\":2},\"mode\":\"lines\",\"showlegend\":false,\"x\":[-0.322265625,-0.3203125,-0.32421875],\"y\":[0.4147562700987974,0.41137335836526445,0.41137335836526445],\"type\":\"scatter\"},{\"fill\":\"toself\",\"line\":{\"color\":\"LightSeaGreen\",\"width\":2},\"mode\":\"lines\",\"showlegend\":false,\"x\":[0.298828125,0.30078125,0.296875],\"y\":[0.19148409568562177,0.1881011839520888,0.1881011839520888],\"type\":\"scatter\"},{\"fill\":\"toself\",\"line\":{\"color\":\"LightSeaGreen\",\"width\":2},\"mode\":\"lines\",\"showlegend\":false,\"x\":[0.04296875,0.044921875,0.041015625],\"y\":[0.15427206661675918,0.1508891548832262,0.1508891548832262],\"type\":\"scatter\"},{\"fill\":\"toself\",\"line\":{\"color\":\"LightSeaGreen\",\"width\":2},\"mode\":\"lines\",\"showlegend\":false,\"x\":[-0.025390625,-0.0234375,-0.02734375],\"y\":[0.16442080181735805,0.16103789008382507,0.16103789008382507],\"type\":\"scatter\"},{\"fill\":\"toself\",\"line\":{\"color\":\"LightSeaGreen\",\"width\":2},\"mode\":\"lines\",\"showlegend\":false,\"x\":[-0.333984375,-0.33203125,-0.3359375],\"y\":[0.14412333141616027,0.1407404196826273,0.1407404196826273],\"type\":\"scatter\"},{\"fill\":\"toself\",\"line\":{\"color\":\"LightSeaGreen\",\"width\":2},\"mode\":\"lines\",\"showlegend\":false,\"x\":[-0.064453125,-0.0625,-0.06640625],\"y\":[0.8883639127934122,0.8849810010598792,0.8849810010598792],\"type\":\"scatter\"},{\"fill\":\"toself\",\"line\":{\"color\":\"LightSeaGreen\",\"width\":2},\"mode\":\"lines\",\"showlegend\":false,\"x\":[-0.208984375,-0.20703125,-0.2109375],\"y\":[0.1982499191526877,0.19486700741915472,0.19486700741915472],\"type\":\"scatter\"},{\"fill\":\"toself\",\"line\":{\"color\":\"LightSeaGreen\",\"width\":2},\"mode\":\"lines\",\"showlegend\":false,\"x\":[-0.0859375,-0.083984375,-0.087890625],\"y\":[0.7158354143832311,0.7124525026496981,0.7124525026496981],\"type\":\"scatter\"},{\"fill\":\"toself\",\"line\":{\"color\":\"LightSeaGreen\",\"width\":2},\"mode\":\"lines\",\"showlegend\":false,\"x\":[0.044921875,0.046875,0.04296875],\"y\":[0.5974335037095774,0.5940505919760444,0.5940505919760444],\"type\":\"scatter\"},{\"fill\":\"toself\",\"line\":{\"color\":\"LightSeaGreen\",\"width\":2},\"mode\":\"lines\",\"showlegend\":false,\"x\":[-0.06640625,-0.064453125,-0.068359375],\"y\":[0.14074041968262732,0.13735750794909435,0.13735750794909435],\"type\":\"scatter\"},{\"fill\":\"toself\",\"line\":{\"color\":\"LightSeaGreen\",\"width\":2},\"mode\":\"lines\",\"showlegend\":false,\"x\":[-0.2890625,-0.287109375,-0.291015625],\"y\":[0.14750624314969324,0.14412333141616027,0.14412333141616027],\"type\":\"scatter\"},{\"fill\":\"toself\",\"line\":{\"color\":\"LightSeaGreen\",\"width\":2},\"mode\":\"lines\",\"showlegend\":false,\"x\":[-0.169921875,-0.16796875,-0.171875],\"y\":[0.3673955058293359,0.36401259409580294,0.36401259409580294],\"type\":\"scatter\"},{\"fill\":\"toself\",\"line\":{\"color\":\"LightSeaGreen\",\"width\":2},\"mode\":\"lines\",\"showlegend\":false,\"x\":[0.111328125,0.11328125,0.109375],\"y\":[0.13735750794909435,0.13397459621556138,0.13397459621556138],\"type\":\"scatter\"},{\"fill\":\"toself\",\"line\":{\"color\":\"LightSeaGreen\",\"width\":2},\"mode\":\"lines\",\"showlegend\":false,\"x\":[0.091796875,0.09375,0.08984375],\"y\":[0.16442080181735805,0.16103789008382507,0.16103789008382507],\"type\":\"scatter\"},{\"fill\":\"toself\",\"line\":{\"color\":\"LightSeaGreen\",\"width\":2},\"mode\":\"lines\",\"showlegend\":false,\"x\":[0.220703125,0.22265625,0.21875],\"y\":[0.5974335037095774,0.5940505919760444,0.5940505919760444],\"type\":\"scatter\"},{\"fill\":\"toself\",\"line\":{\"color\":\"LightSeaGreen\",\"width\":2},\"mode\":\"lines\",\"showlegend\":false,\"x\":[0.15234375,0.154296875,0.150390625],\"y\":[0.14074041968262732,0.13735750794909435,0.13735750794909435],\"type\":\"scatter\"},{\"fill\":\"toself\",\"line\":{\"color\":\"LightSeaGreen\",\"width\":2},\"mode\":\"lines\",\"showlegend\":false,\"x\":[0.119140625,0.12109375,0.1171875],\"y\":[0.33356638849400627,0.3301834767604733,0.3301834767604733],\"type\":\"scatter\"},{\"fill\":\"toself\",\"line\":{\"color\":\"LightSeaGreen\",\"width\":2},\"mode\":\"lines\",\"showlegend\":false,\"x\":[0.283203125,0.28515625,0.28125],\"y\":[0.3809271527634678,0.37754424102993484,0.37754424102993484],\"type\":\"scatter\"},{\"fill\":\"toself\",\"line\":{\"color\":\"LightSeaGreen\",\"width\":2},\"mode\":\"lines\",\"showlegend\":false,\"x\":[0.1796875,0.181640625,0.177734375],\"y\":[0.44520247570059407,0.4418195639670611,0.4418195639670611],\"type\":\"scatter\"},{\"fill\":\"toself\",\"line\":{\"color\":\"LightSeaGreen\",\"width\":2},\"mode\":\"lines\",\"showlegend\":false,\"x\":[-0.228515625,-0.2265625,-0.23046875],\"y\":[0.35386385889520405,0.3504809471616711,0.3504809471616711],\"type\":\"scatter\"},{\"fill\":\"toself\",\"line\":{\"color\":\"LightSeaGreen\",\"width\":2},\"mode\":\"lines\",\"showlegend\":false,\"x\":[0.357421875,0.359375,0.35546875],\"y\":[0.25914233035628104,0.2557594186227481,0.2557594186227481],\"type\":\"scatter\"},{\"fill\":\"toself\",\"line\":{\"color\":\"LightSeaGreen\",\"width\":2},\"mode\":\"lines\",\"showlegend\":false,\"x\":[-0.142578125,-0.140625,-0.14453125],\"y\":[0.5974335037095774,0.5940505919760444,0.5940505919760444],\"type\":\"scatter\"},{\"fill\":\"toself\",\"line\":{\"color\":\"LightSeaGreen\",\"width\":2},\"mode\":\"lines\",\"showlegend\":false,\"x\":[0.13671875,0.138671875,0.134765625],\"y\":[0.24899359515568217,0.2456106834221492,0.2456106834221492],\"type\":\"scatter\"},{\"fill\":\"toself\",\"line\":{\"color\":\"LightSeaGreen\",\"width\":2},\"mode\":\"lines\",\"showlegend\":false,\"x\":[-0.373046875,-0.37109375,-0.375],\"y\":[0.2997372711586766,0.29635435942514365,0.29635435942514365],\"type\":\"scatter\"},{\"fill\":\"toself\",\"line\":{\"color\":\"LightSeaGreen\",\"width\":2},\"mode\":\"lines\",\"showlegend\":false,\"x\":[-0.083984375,-0.08203125,-0.0859375],\"y\":[0.631262621044907,0.627879709311374,0.627879709311374],\"type\":\"scatter\"},{\"fill\":\"toself\",\"line\":{\"color\":\"LightSeaGreen\",\"width\":2},\"mode\":\"lines\",\"showlegend\":false,\"x\":[-0.048828125,-0.046875,-0.05078125],\"y\":[0.5703702098413137,0.5669872981077807,0.5669872981077807],\"type\":\"scatter\"},{\"fill\":\"toself\",\"line\":{\"color\":\"LightSeaGreen\",\"width\":2},\"mode\":\"lines\",\"showlegend\":false,\"x\":[0.435546875,0.4375,0.43359375],\"y\":[0.23884485995508326,0.23546194822155028,0.23546194822155028],\"type\":\"scatter\"},{\"fill\":\"toself\",\"line\":{\"color\":\"LightSeaGreen\",\"width\":2},\"mode\":\"lines\",\"showlegend\":false,\"x\":[0.181640625,0.18359375,0.1796875],\"y\":[0.14412333141616027,0.1407404196826273,0.1407404196826273],\"type\":\"scatter\"},{\"fill\":\"toself\",\"line\":{\"color\":\"LightSeaGreen\",\"width\":2},\"mode\":\"lines\",\"showlegend\":false,\"x\":[0.404296875,0.40625,0.40234375],\"y\":[0.2929714476916107,0.28958853595807776,0.28958853595807776],\"type\":\"scatter\"},{\"fill\":\"toself\",\"line\":{\"color\":\"LightSeaGreen\",\"width\":2},\"mode\":\"lines\",\"showlegend\":false,\"x\":[0.111328125,0.11328125,0.109375],\"y\":[0.6786233853143685,0.6752404735808355,0.6752404735808355],\"type\":\"scatter\"},{\"fill\":\"toself\",\"line\":{\"color\":\"LightSeaGreen\",\"width\":2},\"mode\":\"lines\",\"showlegend\":false,\"x\":[0.255859375,0.2578125,0.25390625],\"y\":[0.36062968236227,0.35724677062873705,0.35724677062873705],\"type\":\"scatter\"},{\"fill\":\"toself\",\"line\":{\"color\":\"LightSeaGreen\",\"width\":2},\"mode\":\"lines\",\"showlegend\":false,\"x\":[-0.26953125,-0.267578125,-0.271484375],\"y\":[0.357246770628737,0.35386385889520405,0.35386385889520405],\"type\":\"scatter\"},{\"fill\":\"toself\",\"line\":{\"color\":\"LightSeaGreen\",\"width\":2},\"mode\":\"lines\",\"showlegend\":false,\"x\":[-0.14453125,-0.142578125,-0.146484375],\"y\":[0.37077841756286883,0.3673955058293359,0.3673955058293359],\"type\":\"scatter\"},{\"fill\":\"toself\",\"line\":{\"color\":\"LightSeaGreen\",\"width\":2},\"mode\":\"lines\",\"showlegend\":false,\"x\":[0.099609375,0.1015625,0.09765625],\"y\":[0.14412333141616027,0.1407404196826273,0.1407404196826273],\"type\":\"scatter\"},{\"fill\":\"toself\",\"line\":{\"color\":\"LightSeaGreen\",\"width\":2},\"mode\":\"lines\",\"showlegend\":false,\"x\":[0.146484375,0.1484375,0.14453125],\"y\":[0.7462816199850278,0.7428987082514948,0.7428987082514948],\"type\":\"scatter\"},{\"fill\":\"toself\",\"line\":{\"color\":\"LightSeaGreen\",\"width\":2},\"mode\":\"lines\",\"showlegend\":false,\"x\":[-0.13671875,-0.134765625,-0.138671875],\"y\":[0.736132884784429,0.732749973050896,0.732749973050896],\"type\":\"scatter\"},{\"fill\":\"toself\",\"line\":{\"color\":\"LightSeaGreen\",\"width\":2},\"mode\":\"lines\",\"showlegend\":false,\"x\":[0.13671875,0.138671875,0.134765625],\"y\":[0.5872847685089786,0.5839018567754456,0.5839018567754456],\"type\":\"scatter\"},{\"fill\":\"toself\",\"line\":{\"color\":\"LightSeaGreen\",\"width\":2},\"mode\":\"lines\",\"showlegend\":false,\"x\":[-0.115234375,-0.11328125,-0.1171875],\"y\":[0.6786233853143685,0.6752404735808355,0.6752404735808355],\"type\":\"scatter\"},{\"fill\":\"toself\",\"line\":{\"color\":\"LightSeaGreen\",\"width\":2},\"mode\":\"lines\",\"showlegend\":false,\"x\":[0.0390625,0.041015625,0.037109375],\"y\":[0.6075822389101763,0.6041993271766433,0.6041993271766433],\"type\":\"scatter\"},{\"fill\":\"toself\",\"line\":{\"color\":\"LightSeaGreen\",\"width\":2},\"mode\":\"lines\",\"showlegend\":false,\"x\":[-0.353515625,-0.3515625,-0.35546875],\"y\":[0.2997372711586766,0.29635435942514365,0.29635435942514365],\"type\":\"scatter\"},{\"fill\":\"toself\",\"line\":{\"color\":\"LightSeaGreen\",\"width\":2},\"mode\":\"lines\",\"showlegend\":false,\"x\":[0.171875,0.173828125,0.169921875],\"y\":[0.7023037674490993,0.6989208557155663,0.6989208557155663],\"type\":\"scatter\"},{\"fill\":\"toself\",\"line\":{\"color\":\"LightSeaGreen\",\"width\":2},\"mode\":\"lines\",\"showlegend\":false,\"x\":[0.091796875,0.09375,0.08984375],\"y\":[0.8342373250568847,0.8308544133233517,0.8308544133233517],\"type\":\"scatter\"},{\"fill\":\"toself\",\"line\":{\"color\":\"LightSeaGreen\",\"width\":2},\"mode\":\"lines\",\"showlegend\":false,\"x\":[-0.35546875,-0.353515625,-0.357421875],\"y\":[0.15427206661675918,0.1508891548832262,0.1508891548832262],\"type\":\"scatter\"},{\"fill\":\"toself\",\"line\":{\"color\":\"LightSeaGreen\",\"width\":2},\"mode\":\"lines\",\"showlegend\":false,\"x\":[-0.115234375,-0.11328125,-0.1171875],\"y\":[0.30650309462574254,0.3031201828922096,0.3031201828922096],\"type\":\"scatter\"},{\"fill\":\"toself\",\"line\":{\"color\":\"LightSeaGreen\",\"width\":2},\"mode\":\"lines\",\"showlegend\":false,\"x\":[-0.345703125,-0.34375,-0.34765625],\"y\":[0.2456106834221492,0.24222777168861623,0.24222777168861623],\"type\":\"scatter\"},{\"fill\":\"toself\",\"line\":{\"color\":\"LightSeaGreen\",\"width\":2},\"mode\":\"lines\",\"showlegend\":false,\"x\":[0.361328125,0.36328125,0.359375],\"y\":[0.13735750794909435,0.13397459621556138,0.13397459621556138],\"type\":\"scatter\"},{\"fill\":\"toself\",\"line\":{\"color\":\"LightSeaGreen\",\"width\":2},\"mode\":\"lines\",\"showlegend\":false,\"x\":[0.353515625,0.35546875,0.3515625],\"y\":[0.16442080181735805,0.16103789008382507,0.16103789008382507],\"type\":\"scatter\"},{\"fill\":\"toself\",\"line\":{\"color\":\"LightSeaGreen\",\"width\":2},\"mode\":\"lines\",\"showlegend\":false,\"x\":[0.419921875,0.421875,0.41796875],\"y\":[0.15765497835029213,0.15427206661675916,0.15427206661675916],\"type\":\"scatter\"},{\"fill\":\"toself\",\"line\":{\"color\":\"LightSeaGreen\",\"width\":2},\"mode\":\"lines\",\"showlegend\":false,\"x\":[-0.197265625,-0.1953125,-0.19921875],\"y\":[0.2253132130209514,0.22193030128741842,0.22193030128741842],\"type\":\"scatter\"},{\"fill\":\"toself\",\"line\":{\"color\":\"LightSeaGreen\",\"width\":2},\"mode\":\"lines\",\"showlegend\":false,\"x\":[0.2890625,0.291015625,0.287109375],\"y\":[0.20163283088622067,0.1982499191526877,0.1982499191526877],\"type\":\"scatter\"},{\"fill\":\"toself\",\"line\":{\"color\":\"LightSeaGreen\",\"width\":2},\"mode\":\"lines\",\"showlegend\":false,\"x\":[-0.388671875,-0.38671875,-0.390625],\"y\":[0.25914233035628104,0.2557594186227481,0.2557594186227481],\"type\":\"scatter\"},{\"fill\":\"toself\",\"line\":{\"color\":\"LightSeaGreen\",\"width\":2},\"mode\":\"lines\",\"showlegend\":false,\"x\":[-0.03515625,-0.033203125,-0.037109375],\"y\":[0.6008164154431104,0.5974335037095774,0.5974335037095774],\"type\":\"scatter\"},{\"fill\":\"toself\",\"line\":{\"color\":\"LightSeaGreen\",\"width\":2},\"mode\":\"lines\",\"showlegend\":false,\"x\":[-0.017578125,-0.015625,-0.01953125],\"y\":[0.5703702098413137,0.5669872981077807,0.5669872981077807],\"type\":\"scatter\"},{\"fill\":\"toself\",\"line\":{\"color\":\"LightSeaGreen\",\"width\":2},\"mode\":\"lines\",\"showlegend\":false,\"x\":[-0.318359375,-0.31640625,-0.3203125],\"y\":[0.1982499191526877,0.19486700741915472,0.19486700741915472],\"type\":\"scatter\"},{\"fill\":\"toself\",\"line\":{\"color\":\"LightSeaGreen\",\"width\":2},\"mode\":\"lines\",\"showlegend\":false,\"x\":[0.345703125,0.34765625,0.34375],\"y\":[0.2929714476916107,0.28958853595807776,0.28958853595807776],\"type\":\"scatter\"},{\"fill\":\"toself\",\"line\":{\"color\":\"LightSeaGreen\",\"width\":2},\"mode\":\"lines\",\"showlegend\":false,\"x\":[0.07421875,0.076171875,0.072265625],\"y\":[0.7902594725209563,0.7868765607874233,0.7868765607874233],\"type\":\"scatter\"},{\"fill\":\"toself\",\"line\":{\"color\":\"LightSeaGreen\",\"width\":2},\"mode\":\"lines\",\"showlegend\":false,\"x\":[0.00390625,0.005859375,0.001953125],\"y\":[0.5737531215748467,0.5703702098413137,0.5703702098413137],\"type\":\"scatter\"},{\"fill\":\"toself\",\"line\":{\"color\":\"LightSeaGreen\",\"width\":2},\"mode\":\"lines\",\"showlegend\":false,\"x\":[-0.14453125,-0.142578125,-0.146484375],\"y\":[0.5872847685089786,0.5839018567754456,0.5839018567754456],\"type\":\"scatter\"},{\"fill\":\"toself\",\"line\":{\"color\":\"LightSeaGreen\",\"width\":2},\"mode\":\"lines\",\"showlegend\":false,\"x\":[0.326171875,0.328125,0.32421875],\"y\":[0.15765497835029213,0.15427206661675916,0.15427206661675916],\"type\":\"scatter\"},{\"fill\":\"toself\",\"line\":{\"color\":\"LightSeaGreen\",\"width\":2},\"mode\":\"lines\",\"showlegend\":false,\"x\":[-0.15234375,-0.150390625,-0.154296875],\"y\":[0.6143480623772423,0.6109651506437093,0.6109651506437093],\"type\":\"scatter\"},{\"fill\":\"toself\",\"line\":{\"color\":\"LightSeaGreen\",\"width\":2},\"mode\":\"lines\",\"showlegend\":false,\"x\":[-0.275390625,-0.2734375,-0.27734375],\"y\":[0.5230094455718521,0.5196265338383191,0.5196265338383191],\"type\":\"scatter\"},{\"fill\":\"toself\",\"line\":{\"color\":\"LightSeaGreen\",\"width\":2},\"mode\":\"lines\",\"showlegend\":false,\"x\":[-0.373046875,-0.37109375,-0.375],\"y\":[0.35386385889520405,0.3504809471616711,0.3504809471616711],\"type\":\"scatter\"},{\"fill\":\"toself\",\"line\":{\"color\":\"LightSeaGreen\",\"width\":2},\"mode\":\"lines\",\"showlegend\":false,\"x\":[0.103515625,0.10546875,0.1015625],\"y\":[0.7462816199850278,0.7428987082514948,0.7428987082514948],\"type\":\"scatter\"},{\"fill\":\"toself\",\"line\":{\"color\":\"LightSeaGreen\",\"width\":2},\"mode\":\"lines\",\"showlegend\":false,\"x\":[-0.380859375,-0.37890625,-0.3828125],\"y\":[0.14412333141616027,0.1407404196826273,0.1407404196826273],\"type\":\"scatter\"},{\"fill\":\"toself\",\"line\":{\"color\":\"LightSeaGreen\",\"width\":2},\"mode\":\"lines\",\"showlegend\":false,\"x\":[0.201171875,0.203125,0.19921875],\"y\":[0.15765497835029213,0.15427206661675916,0.15427206661675916],\"type\":\"scatter\"},{\"fill\":\"toself\",\"line\":{\"color\":\"LightSeaGreen\",\"width\":2},\"mode\":\"lines\",\"showlegend\":false,\"x\":[0.130859375,0.1328125,0.12890625],\"y\":[0.6786233853143685,0.6752404735808355,0.6752404735808355],\"type\":\"scatter\"},{\"fill\":\"toself\",\"line\":{\"color\":\"LightSeaGreen\",\"width\":2},\"mode\":\"lines\",\"showlegend\":false,\"x\":[0.150390625,0.15234375,0.1484375],\"y\":[0.3809271527634678,0.37754424102993484,0.37754424102993484],\"type\":\"scatter\"},{\"fill\":\"toself\",\"line\":{\"color\":\"LightSeaGreen\",\"width\":2},\"mode\":\"lines\",\"showlegend\":false,\"x\":[0.072265625,0.07421875,0.0703125],\"y\":[0.6853892087814344,0.6820062970479014,0.6820062970479014],\"type\":\"scatter\"},{\"fill\":\"toself\",\"line\":{\"color\":\"LightSeaGreen\",\"width\":2},\"mode\":\"lines\",\"showlegend\":false,\"x\":[-0.150390625,-0.1484375,-0.15234375],\"y\":[0.17118662528442397,0.167803713550891,0.167803713550891],\"type\":\"scatter\"},{\"fill\":\"toself\",\"line\":{\"color\":\"LightSeaGreen\",\"width\":2},\"mode\":\"lines\",\"showlegend\":false,\"x\":[0.119140625,0.12109375,0.1171875],\"y\":[0.7598132669191596,0.7564303551856266,0.7564303551856266],\"type\":\"scatter\"},{\"fill\":\"toself\",\"line\":{\"color\":\"LightSeaGreen\",\"width\":2},\"mode\":\"lines\",\"showlegend\":false,\"x\":[0.044921875,0.046875,0.04296875],\"y\":[0.9154272066616759,0.9120442949281429,0.9120442949281429],\"type\":\"scatter\"},{\"fill\":\"toself\",\"line\":{\"color\":\"LightSeaGreen\",\"width\":2},\"mode\":\"lines\",\"showlegend\":false,\"x\":[-0.056640625,-0.0546875,-0.05859375],\"y\":[0.5703702098413137,0.5669872981077807,0.5669872981077807],\"type\":\"scatter\"},{\"fill\":\"toself\",\"line\":{\"color\":\"LightSeaGreen\",\"width\":2},\"mode\":\"lines\",\"showlegend\":false,\"x\":[0.048828125,0.05078125,0.046875],\"y\":[0.7868765607874233,0.7834936490538903,0.7834936490538903],\"type\":\"scatter\"},{\"fill\":\"toself\",\"line\":{\"color\":\"LightSeaGreen\",\"width\":2},\"mode\":\"lines\",\"showlegend\":false,\"x\":[0.126953125,0.12890625,0.125],\"y\":[0.2997372711586766,0.29635435942514365,0.29635435942514365],\"type\":\"scatter\"},{\"fill\":\"toself\",\"line\":{\"color\":\"LightSeaGreen\",\"width\":2},\"mode\":\"lines\",\"showlegend\":false,\"x\":[0.134765625,0.13671875,0.1328125],\"y\":[0.7462816199850278,0.7428987082514948,0.7428987082514948],\"type\":\"scatter\"},{\"fill\":\"toself\",\"line\":{\"color\":\"LightSeaGreen\",\"width\":2},\"mode\":\"lines\",\"showlegend\":false,\"x\":[0.33203125,0.333984375,0.330078125],\"y\":[0.37077841756286883,0.3673955058293359,0.3673955058293359],\"type\":\"scatter\"},{\"fill\":\"toself\",\"line\":{\"color\":\"LightSeaGreen\",\"width\":2},\"mode\":\"lines\",\"showlegend\":false,\"x\":[0.20703125,0.208984375,0.205078125],\"y\":[0.19486700741915475,0.19148409568562177,0.19148409568562177],\"type\":\"scatter\"},{\"fill\":\"toself\",\"line\":{\"color\":\"LightSeaGreen\",\"width\":2},\"mode\":\"lines\",\"showlegend\":false,\"x\":[-0.212890625,-0.2109375,-0.21484375],\"y\":[0.19148409568562177,0.1881011839520888,0.1881011839520888],\"type\":\"scatter\"},{\"fill\":\"toself\",\"line\":{\"color\":\"LightSeaGreen\",\"width\":2},\"mode\":\"lines\",\"showlegend\":false,\"x\":[0.01953125,0.021484375,0.017578125],\"y\":[0.9661708826646704,0.9627879709311374,0.9627879709311374],\"type\":\"scatter\"},{\"fill\":\"toself\",\"line\":{\"color\":\"LightSeaGreen\",\"width\":2},\"mode\":\"lines\",\"showlegend\":false,\"x\":[-0.443359375,-0.44140625,-0.4453125],\"y\":[0.19148409568562177,0.1881011839520888,0.1881011839520888],\"type\":\"scatter\"},{\"fill\":\"toself\",\"line\":{\"color\":\"LightSeaGreen\",\"width\":2},\"mode\":\"lines\",\"showlegend\":false,\"x\":[-0.142578125,-0.140625,-0.14453125],\"y\":[0.6921550322485004,0.6887721205149674,0.6887721205149674],\"type\":\"scatter\"},{\"fill\":\"toself\",\"line\":{\"color\":\"LightSeaGreen\",\"width\":2},\"mode\":\"lines\",\"showlegend\":false,\"x\":[-0.41015625,-0.408203125,-0.412109375],\"y\":[0.2760568890239459,0.2726739772904129,0.2726739772904129],\"type\":\"scatter\"},{\"fill\":\"toself\",\"line\":{\"color\":\"LightSeaGreen\",\"width\":2},\"mode\":\"lines\",\"showlegend\":false,\"x\":[-0.35546875,-0.353515625,-0.357421875],\"y\":[0.3843100644970007,0.3809271527634678,0.3809271527634678],\"type\":\"scatter\"},{\"fill\":\"toself\",\"line\":{\"color\":\"LightSeaGreen\",\"width\":2},\"mode\":\"lines\",\"showlegend\":false,\"x\":[0.357421875,0.359375,0.35546875],\"y\":[0.35386385889520405,0.3504809471616711,0.3504809471616711],\"type\":\"scatter\"},{\"fill\":\"toself\",\"line\":{\"color\":\"LightSeaGreen\",\"width\":2},\"mode\":\"lines\",\"showlegend\":false,\"x\":[0.212890625,0.21484375,0.2109375],\"y\":[0.6109651506437093,0.6075822389101763,0.6075822389101763],\"type\":\"scatter\"},{\"fill\":\"toself\",\"line\":{\"color\":\"LightSeaGreen\",\"width\":2},\"mode\":\"lines\",\"showlegend\":false,\"x\":[0.396484375,0.3984375,0.39453125],\"y\":[0.1508891548832262,0.14750624314969324,0.14750624314969324],\"type\":\"scatter\"},{\"fill\":\"toself\",\"line\":{\"color\":\"LightSeaGreen\",\"width\":2},\"mode\":\"lines\",\"showlegend\":false,\"x\":[-0.412109375,-0.41015625,-0.4140625],\"y\":[0.13735750794909435,0.13397459621556138,0.13397459621556138],\"type\":\"scatter\"},{\"fill\":\"toself\",\"line\":{\"color\":\"LightSeaGreen\",\"width\":2},\"mode\":\"lines\",\"showlegend\":false,\"x\":[0.033203125,0.03515625,0.03125],\"y\":[0.19148409568562177,0.1881011839520888,0.1881011839520888],\"type\":\"scatter\"},{\"fill\":\"toself\",\"line\":{\"color\":\"LightSeaGreen\",\"width\":2},\"mode\":\"lines\",\"showlegend\":false,\"x\":[-0.2890625,-0.287109375,-0.291015625],\"y\":[0.20163283088622067,0.1982499191526877,0.1982499191526877],\"type\":\"scatter\"},{\"fill\":\"toself\",\"line\":{\"color\":\"LightSeaGreen\",\"width\":2},\"mode\":\"lines\",\"showlegend\":false,\"x\":[-0.4140625,-0.412109375,-0.416015625],\"y\":[0.20163283088622067,0.1982499191526877,0.1982499191526877],\"type\":\"scatter\"},{\"fill\":\"toself\",\"line\":{\"color\":\"LightSeaGreen\",\"width\":2},\"mode\":\"lines\",\"showlegend\":false,\"x\":[0.259765625,0.26171875,0.2578125],\"y\":[0.5230094455718521,0.5196265338383191,0.5196265338383191],\"type\":\"scatter\"},{\"fill\":\"toself\",\"line\":{\"color\":\"LightSeaGreen\",\"width\":2},\"mode\":\"lines\",\"showlegend\":false,\"x\":[0.27734375,0.279296875,0.275390625],\"y\":[0.5060948869041874,0.5027119751706544,0.5027119751706544],\"type\":\"scatter\"},{\"fill\":\"toself\",\"line\":{\"color\":\"LightSeaGreen\",\"width\":2},\"mode\":\"lines\",\"showlegend\":false,\"x\":[-0.240234375,-0.23828125,-0.2421875],\"y\":[0.5297752690389181,0.5263923573053851,0.5263923573053851],\"type\":\"scatter\"},{\"fill\":\"toself\",\"line\":{\"color\":\"LightSeaGreen\",\"width\":2},\"mode\":\"lines\",\"showlegend\":false,\"x\":[0.005859375,0.0078125,0.00390625],\"y\":[0.14412333141616027,0.1407404196826273,0.1407404196826273],\"type\":\"scatter\"},{\"fill\":\"toself\",\"line\":{\"color\":\"LightSeaGreen\",\"width\":2},\"mode\":\"lines\",\"showlegend\":false,\"x\":[0.271484375,0.2734375,0.26953125],\"y\":[0.4891803282365225,0.4857974165029896,0.4857974165029896],\"type\":\"scatter\"},{\"fill\":\"toself\",\"line\":{\"color\":\"LightSeaGreen\",\"width\":2},\"mode\":\"lines\",\"showlegend\":false,\"x\":[-0.12109375,-0.119140625,-0.123046875],\"y\":[0.3437151236946051,0.34033221196107216,0.34033221196107216],\"type\":\"scatter\"},{\"fill\":\"toself\",\"line\":{\"color\":\"LightSeaGreen\",\"width\":2},\"mode\":\"lines\",\"showlegend\":false,\"x\":[-0.01953125,-0.017578125,-0.021484375],\"y\":[0.9255759418622748,0.9221930301287418,0.9221930301287418],\"type\":\"scatter\"},{\"fill\":\"toself\",\"line\":{\"color\":\"LightSeaGreen\",\"width\":2},\"mode\":\"lines\",\"showlegend\":false,\"x\":[0.42578125,0.427734375,0.423828125],\"y\":[0.14074041968262732,0.13735750794909435,0.13735750794909435],\"type\":\"scatter\"},{\"fill\":\"toself\",\"line\":{\"color\":\"LightSeaGreen\",\"width\":2},\"mode\":\"lines\",\"showlegend\":false,\"x\":[0.357421875,0.359375,0.35546875],\"y\":[0.3809271527634678,0.37754424102993484,0.37754424102993484],\"type\":\"scatter\"},{\"fill\":\"toself\",\"line\":{\"color\":\"LightSeaGreen\",\"width\":2},\"mode\":\"lines\",\"showlegend\":false,\"x\":[-0.078125,-0.076171875,-0.080078125],\"y\":[0.8646835306586815,0.8613006189251485,0.8613006189251485],\"type\":\"scatter\"},{\"fill\":\"toself\",\"line\":{\"color\":\"LightSeaGreen\",\"width\":2},\"mode\":\"lines\",\"showlegend\":false,\"x\":[-0.486328125,-0.484375,-0.48828125],\"y\":[0.15765497835029213,0.15427206661675916,0.15427206661675916],\"type\":\"scatter\"},{\"fill\":\"toself\",\"line\":{\"color\":\"LightSeaGreen\",\"width\":2},\"mode\":\"lines\",\"showlegend\":false,\"x\":[0.060546875,0.0625,0.05859375],\"y\":[0.23884485995508326,0.23546194822155028,0.23546194822155028],\"type\":\"scatter\"},{\"fill\":\"toself\",\"line\":{\"color\":\"LightSeaGreen\",\"width\":2},\"mode\":\"lines\",\"showlegend\":false,\"x\":[0.083984375,0.0859375,0.08203125],\"y\":[0.5703702098413137,0.5669872981077807,0.5669872981077807],\"type\":\"scatter\"},{\"fill\":\"toself\",\"line\":{\"color\":\"LightSeaGreen\",\"width\":2},\"mode\":\"lines\",\"showlegend\":false,\"x\":[-0.087890625,-0.0859375,-0.08984375],\"y\":[0.14412333141616027,0.1407404196826273,0.1407404196826273],\"type\":\"scatter\"},{\"fill\":\"toself\",\"line\":{\"color\":\"LightSeaGreen\",\"width\":2},\"mode\":\"lines\",\"showlegend\":false,\"x\":[0.107421875,0.109375,0.10546875],\"y\":[0.732749973050896,0.729367061317363,0.729367061317363],\"type\":\"scatter\"},{\"fill\":\"toself\",\"line\":{\"color\":\"LightSeaGreen\",\"width\":2},\"mode\":\"lines\",\"showlegend\":false,\"x\":[0.21484375,0.216796875,0.212890625],\"y\":[0.19486700741915475,0.19148409568562177,0.19148409568562177],\"type\":\"scatter\"},{\"fill\":\"toself\",\"line\":{\"color\":\"LightSeaGreen\",\"width\":2},\"mode\":\"lines\",\"showlegend\":false,\"x\":[0.025390625,0.02734375,0.0234375],\"y\":[0.6109651506437093,0.6075822389101763,0.6075822389101763],\"type\":\"scatter\"},{\"fill\":\"toself\",\"line\":{\"color\":\"LightSeaGreen\",\"width\":2},\"mode\":\"lines\",\"showlegend\":false,\"x\":[-0.19921875,-0.197265625,-0.201171875],\"y\":[0.357246770628737,0.35386385889520405,0.35386385889520405],\"type\":\"scatter\"},{\"fill\":\"toself\",\"line\":{\"color\":\"LightSeaGreen\",\"width\":2},\"mode\":\"lines\",\"showlegend\":false,\"x\":[0.39453125,0.396484375,0.392578125],\"y\":[0.16780371355089102,0.16442080181735805,0.16442080181735805],\"type\":\"scatter\"},{\"fill\":\"toself\",\"line\":{\"color\":\"LightSeaGreen\",\"width\":2},\"mode\":\"lines\",\"showlegend\":false,\"x\":[0.462890625,0.46484375,0.4609375],\"y\":[0.14412333141616027,0.1407404196826273,0.1407404196826273],\"type\":\"scatter\"},{\"fill\":\"toself\",\"line\":{\"color\":\"LightSeaGreen\",\"width\":2},\"mode\":\"lines\",\"showlegend\":false,\"x\":[-0.12890625,-0.126953125,-0.130859375],\"y\":[0.14074041968262732,0.13735750794909435,0.13735750794909435],\"type\":\"scatter\"},{\"fill\":\"toself\",\"line\":{\"color\":\"LightSeaGreen\",\"width\":2},\"mode\":\"lines\",\"showlegend\":false,\"x\":[0.22265625,0.224609375,0.220703125],\"y\":[0.3843100644970007,0.3809271527634678,0.3809271527634678],\"type\":\"scatter\"},{\"fill\":\"toself\",\"line\":{\"color\":\"LightSeaGreen\",\"width\":2},\"mode\":\"lines\",\"showlegend\":false,\"x\":[0.19140625,0.193359375,0.189453125],\"y\":[0.2354619482215503,0.23207903648801734,0.23207903648801734],\"type\":\"scatter\"},{\"fill\":\"toself\",\"line\":{\"color\":\"LightSeaGreen\",\"width\":2},\"mode\":\"lines\",\"showlegend\":false,\"x\":[-0.244140625,-0.2421875,-0.24609375],\"y\":[0.5433069159730499,0.5399240042395169,0.5399240042395169],\"type\":\"scatter\"},{\"fill\":\"toself\",\"line\":{\"color\":\"LightSeaGreen\",\"width\":2},\"mode\":\"lines\",\"showlegend\":false,\"x\":[0.169921875,0.171875,0.16796875],\"y\":[0.638028444511973,0.63464553277844,0.63464553277844],\"type\":\"scatter\"},{\"fill\":\"toself\",\"line\":{\"color\":\"LightSeaGreen\",\"width\":2},\"mode\":\"lines\",\"showlegend\":false,\"x\":[0.07421875,0.076171875,0.072265625],\"y\":[0.7902594725209563,0.7868765607874233,0.7868765607874233],\"type\":\"scatter\"},{\"fill\":\"toself\",\"line\":{\"color\":\"LightSeaGreen\",\"width\":2},\"mode\":\"lines\",\"showlegend\":false,\"x\":[-0.107421875,-0.10546875,-0.109375],\"y\":[0.7868765607874233,0.7834936490538903,0.7834936490538903],\"type\":\"scatter\"},{\"fill\":\"toself\",\"line\":{\"color\":\"LightSeaGreen\",\"width\":2},\"mode\":\"lines\",\"showlegend\":false,\"x\":[0.4140625,0.416015625,0.412109375],\"y\":[0.2557594186227481,0.25237650688921515,0.25237650688921515],\"type\":\"scatter\"},{\"fill\":\"toself\",\"line\":{\"color\":\"LightSeaGreen\",\"width\":2},\"mode\":\"lines\",\"showlegend\":false,\"x\":[0.150390625,0.15234375,0.1484375],\"y\":[0.2726739772904129,0.26929106555688,0.26929106555688],\"type\":\"scatter\"},{\"fill\":\"toself\",\"line\":{\"color\":\"LightSeaGreen\",\"width\":2},\"mode\":\"lines\",\"showlegend\":false,\"x\":[-0.25390625,-0.251953125,-0.255859375],\"y\":[0.5466898277065829,0.5433069159730499,0.5433069159730499],\"type\":\"scatter\"},{\"fill\":\"toself\",\"line\":{\"color\":\"LightSeaGreen\",\"width\":2},\"mode\":\"lines\",\"showlegend\":false,\"x\":[0.16796875,0.169921875,0.166015625],\"y\":[0.15427206661675918,0.1508891548832262,0.1508891548832262],\"type\":\"scatter\"},{\"fill\":\"toself\",\"line\":{\"color\":\"LightSeaGreen\",\"width\":2},\"mode\":\"lines\",\"showlegend\":false,\"x\":[0.35546875,0.357421875,0.353515625],\"y\":[0.14074041968262732,0.13735750794909435,0.13735750794909435],\"type\":\"scatter\"},{\"fill\":\"toself\",\"line\":{\"color\":\"LightSeaGreen\",\"width\":2},\"mode\":\"lines\",\"showlegend\":false,\"x\":[-0.150390625,-0.1484375,-0.15234375],\"y\":[0.6041993271766433,0.6008164154431103,0.6008164154431103],\"type\":\"scatter\"},{\"fill\":\"toself\",\"line\":{\"color\":\"LightSeaGreen\",\"width\":2},\"mode\":\"lines\",\"showlegend\":false,\"x\":[0.142578125,0.14453125,0.140625],\"y\":[0.3200347415598744,0.31665182982634144,0.31665182982634144],\"type\":\"scatter\"},{\"fill\":\"toself\",\"line\":{\"color\":\"LightSeaGreen\",\"width\":2},\"mode\":\"lines\",\"showlegend\":false,\"x\":[-0.435546875,-0.43359375,-0.4375],\"y\":[0.23884485995508326,0.23546194822155028,0.23546194822155028],\"type\":\"scatter\"},{\"fill\":\"toself\",\"line\":{\"color\":\"LightSeaGreen\",\"width\":2},\"mode\":\"lines\",\"showlegend\":false,\"x\":[0.244140625,0.24609375,0.2421875],\"y\":[0.5433069159730499,0.5399240042395169,0.5399240042395169],\"type\":\"scatter\"},{\"fill\":\"toself\",\"line\":{\"color\":\"LightSeaGreen\",\"width\":2},\"mode\":\"lines\",\"showlegend\":false,\"x\":[-0.15234375,-0.150390625,-0.154296875],\"y\":[0.7226012378502971,0.7192183261167641,0.7192183261167641],\"type\":\"scatter\"},{\"fill\":\"toself\",\"line\":{\"color\":\"LightSeaGreen\",\"width\":2},\"mode\":\"lines\",\"showlegend\":false,\"x\":[0.138671875,0.140625,0.13671875],\"y\":[0.6989208557155663,0.6955379439820333,0.6955379439820333],\"type\":\"scatter\"},{\"fill\":\"toself\",\"line\":{\"color\":\"LightSeaGreen\",\"width\":2},\"mode\":\"lines\",\"showlegend\":false,\"x\":[-0.26953125,-0.267578125,-0.271484375],\"y\":[0.4790315930359236,0.47564868130239063,0.47564868130239063],\"type\":\"scatter\"},{\"fill\":\"toself\",\"line\":{\"color\":\"LightSeaGreen\",\"width\":2},\"mode\":\"lines\",\"showlegend\":false,\"x\":[0.05078125,0.052734375,0.048828125],\"y\":[0.6549430031796378,0.6515600914461048,0.6515600914461048],\"type\":\"scatter\"},{\"fill\":\"toself\",\"line\":{\"color\":\"LightSeaGreen\",\"width\":2},\"mode\":\"lines\",\"showlegend\":false,\"x\":[-0.234375,-0.232421875,-0.236328125],\"y\":[0.539924004239517,0.536541092505984,0.536541092505984],\"type\":\"scatter\"},{\"fill\":\"toself\",\"line\":{\"color\":\"LightSeaGreen\",\"width\":2},\"mode\":\"lines\",\"showlegend\":false,\"x\":[0.45703125,0.458984375,0.455078125],\"y\":[0.16780371355089102,0.16442080181735805,0.16442080181735805],\"type\":\"scatter\"},{\"fill\":\"toself\",\"line\":{\"color\":\"LightSeaGreen\",\"width\":2},\"mode\":\"lines\",\"showlegend\":false,\"x\":[-0.291015625,-0.2890625,-0.29296875],\"y\":[0.4147562700987974,0.41137335836526445,0.41137335836526445],\"type\":\"scatter\"},{\"fill\":\"toself\",\"line\":{\"color\":\"LightSeaGreen\",\"width\":2},\"mode\":\"lines\",\"showlegend\":false,\"x\":[-0.392578125,-0.390625,-0.39453125],\"y\":[0.16442080181735805,0.16103789008382507,0.16103789008382507],\"type\":\"scatter\"},{\"fill\":\"toself\",\"line\":{\"color\":\"LightSeaGreen\",\"width\":2},\"mode\":\"lines\",\"showlegend\":false,\"x\":[0.064453125,0.06640625,0.0625],\"y\":[0.6786233853143685,0.6752404735808355,0.6752404735808355],\"type\":\"scatter\"},{\"fill\":\"toself\",\"line\":{\"color\":\"LightSeaGreen\",\"width\":2},\"mode\":\"lines\",\"showlegend\":false,\"x\":[0.26953125,0.271484375,0.267578125],\"y\":[0.46549994610179174,0.4621170343682588,0.4621170343682588],\"type\":\"scatter\"},{\"fill\":\"toself\",\"line\":{\"color\":\"LightSeaGreen\",\"width\":2},\"mode\":\"lines\",\"showlegend\":false,\"x\":[-0.412109375,-0.41015625,-0.4140625],\"y\":[0.28620562422454476,0.2828227124910118,0.2828227124910118],\"type\":\"scatter\"},{\"fill\":\"toself\",\"line\":{\"color\":\"LightSeaGreen\",\"width\":2},\"mode\":\"lines\",\"showlegend\":false,\"x\":[0.27734375,0.279296875,0.275390625],\"y\":[0.3843100644970007,0.3809271527634678,0.3809271527634678],\"type\":\"scatter\"},{\"fill\":\"toself\",\"line\":{\"color\":\"LightSeaGreen\",\"width\":2},\"mode\":\"lines\",\"showlegend\":false,\"x\":[-0.392578125,-0.390625,-0.39453125],\"y\":[0.3200347415598744,0.31665182982634144,0.31665182982634144],\"type\":\"scatter\"},{\"fill\":\"toself\",\"line\":{\"color\":\"LightSeaGreen\",\"width\":2},\"mode\":\"lines\",\"showlegend\":false,\"x\":[-0.26953125,-0.267578125,-0.271484375],\"y\":[0.46549994610179174,0.4621170343682588,0.4621170343682588],\"type\":\"scatter\"},{\"fill\":\"toself\",\"line\":{\"color\":\"LightSeaGreen\",\"width\":2},\"mode\":\"lines\",\"showlegend\":false,\"x\":[0.271484375,0.2734375,0.26953125],\"y\":[0.5162436221047862,0.5128607103712532,0.5128607103712532],\"type\":\"scatter\"},{\"fill\":\"toself\",\"line\":{\"color\":\"LightSeaGreen\",\"width\":2},\"mode\":\"lines\",\"showlegend\":false,\"x\":[0.166015625,0.16796875,0.1640625],\"y\":[0.6921550322485004,0.6887721205149674,0.6887721205149674],\"type\":\"scatter\"},{\"fill\":\"toself\",\"line\":{\"color\":\"LightSeaGreen\",\"width\":2},\"mode\":\"lines\",\"showlegend\":false,\"x\":[-0.154296875,-0.15234375,-0.15625],\"y\":[0.40122462316466556,0.3978417114311326,0.3978417114311326],\"type\":\"scatter\"},{\"fill\":\"toself\",\"line\":{\"color\":\"LightSeaGreen\",\"width\":2},\"mode\":\"lines\",\"showlegend\":false,\"x\":[0.388671875,0.390625,0.38671875],\"y\":[0.3200347415598744,0.31665182982634144,0.31665182982634144],\"type\":\"scatter\"},{\"fill\":\"toself\",\"line\":{\"color\":\"LightSeaGreen\",\"width\":2},\"mode\":\"lines\",\"showlegend\":false,\"x\":[0.142578125,0.14453125,0.140625],\"y\":[0.7056866791826322,0.7023037674490992,0.7023037674490992],\"type\":\"scatter\"},{\"fill\":\"toself\",\"line\":{\"color\":\"LightSeaGreen\",\"width\":2},\"mode\":\"lines\",\"showlegend\":false,\"x\":[-0.30859375,-0.306640625,-0.310546875],\"y\":[0.357246770628737,0.35386385889520405,0.35386385889520405],\"type\":\"scatter\"},{\"fill\":\"toself\",\"line\":{\"color\":\"LightSeaGreen\",\"width\":2},\"mode\":\"lines\",\"showlegend\":false,\"x\":[-0.404296875,-0.40234375,-0.40625],\"y\":[0.2929714476916107,0.28958853595807776,0.28958853595807776],\"type\":\"scatter\"},{\"fill\":\"toself\",\"line\":{\"color\":\"LightSeaGreen\",\"width\":2},\"mode\":\"lines\",\"showlegend\":false,\"x\":[0.0859375,0.087890625,0.083984375],\"y\":[0.2828227124910118,0.2794398007574789,0.2794398007574789],\"type\":\"scatter\"},{\"fill\":\"toself\",\"line\":{\"color\":\"LightSeaGreen\",\"width\":2},\"mode\":\"lines\",\"showlegend\":false,\"x\":[-0.267578125,-0.265625,-0.26953125],\"y\":[0.5297752690389181,0.5263923573053851,0.5263923573053851],\"type\":\"scatter\"},{\"fill\":\"toself\",\"line\":{\"color\":\"LightSeaGreen\",\"width\":2},\"mode\":\"lines\",\"showlegend\":false,\"x\":[0.083984375,0.0859375,0.08203125],\"y\":[0.7124525026496981,0.7090695909161651,0.7090695909161651],\"type\":\"scatter\"},{\"fill\":\"toself\",\"line\":{\"color\":\"LightSeaGreen\",\"width\":2},\"mode\":\"lines\",\"showlegend\":false,\"x\":[-0.064453125,-0.0625,-0.06640625],\"y\":[0.8883639127934122,0.8849810010598792,0.8849810010598792],\"type\":\"scatter\"},{\"fill\":\"toself\",\"line\":{\"color\":\"LightSeaGreen\",\"width\":2},\"mode\":\"lines\",\"showlegend\":false,\"x\":[0.099609375,0.1015625,0.09765625],\"y\":[0.5703702098413137,0.5669872981077807,0.5669872981077807],\"type\":\"scatter\"},{\"fill\":\"toself\",\"line\":{\"color\":\"LightSeaGreen\",\"width\":2},\"mode\":\"lines\",\"showlegend\":false,\"x\":[-0.27734375,-0.275390625,-0.279296875],\"y\":[0.18133536048502288,0.1779524487514899,0.1779524487514899],\"type\":\"scatter\"},{\"fill\":\"toself\",\"line\":{\"color\":\"LightSeaGreen\",\"width\":2},\"mode\":\"lines\",\"showlegend\":false,\"x\":[0.193359375,0.1953125,0.19140625],\"y\":[0.23207903648801734,0.22869612475448436,0.22869612475448436],\"type\":\"scatter\"},{\"fill\":\"toself\",\"line\":{\"color\":\"LightSeaGreen\",\"width\":2},\"mode\":\"lines\",\"showlegend\":false,\"x\":[0.279296875,0.28125,0.27734375],\"y\":[0.16442080181735805,0.16103789008382507,0.16103789008382507],\"type\":\"scatter\"},{\"fill\":\"toself\",\"line\":{\"color\":\"LightSeaGreen\",\"width\":2},\"mode\":\"lines\",\"showlegend\":false,\"x\":[0.076171875,0.078125,0.07421875],\"y\":[0.1508891548832262,0.14750624314969324,0.14750624314969324],\"type\":\"scatter\"},{\"fill\":\"toself\",\"line\":{\"color\":\"LightSeaGreen\",\"width\":2},\"mode\":\"lines\",\"showlegend\":false,\"x\":[-0.185546875,-0.18359375,-0.1875],\"y\":[0.6515600914461048,0.6481771797125718,0.6481771797125718],\"type\":\"scatter\"},{\"fill\":\"toself\",\"line\":{\"color\":\"LightSeaGreen\",\"width\":2},\"mode\":\"lines\",\"showlegend\":false,\"x\":[0.224609375,0.2265625,0.22265625],\"y\":[0.5974335037095774,0.5940505919760444,0.5940505919760444],\"type\":\"scatter\"},{\"fill\":\"toself\",\"line\":{\"color\":\"LightSeaGreen\",\"width\":2},\"mode\":\"lines\",\"showlegend\":false,\"x\":[0.083984375,0.0859375,0.08203125],\"y\":[0.7056866791826322,0.7023037674490992,0.7023037674490992],\"type\":\"scatter\"},{\"fill\":\"toself\",\"line\":{\"color\":\"LightSeaGreen\",\"width\":2},\"mode\":\"lines\",\"showlegend\":false,\"x\":[-0.142578125,-0.140625,-0.14453125],\"y\":[0.1508891548832262,0.14750624314969324,0.14750624314969324],\"type\":\"scatter\"},{\"fill\":\"toself\",\"line\":{\"color\":\"LightSeaGreen\",\"width\":2},\"mode\":\"lines\",\"showlegend\":false,\"x\":[0.36328125,0.365234375,0.361328125],\"y\":[0.262525242089814,0.25914233035628104,0.25914233035628104],\"type\":\"scatter\"},{\"fill\":\"toself\",\"line\":{\"color\":\"LightSeaGreen\",\"width\":2},\"mode\":\"lines\",\"showlegend\":false,\"x\":[-0.267578125,-0.265625,-0.26953125],\"y\":[0.4891803282365225,0.4857974165029896,0.4857974165029896],\"type\":\"scatter\"},{\"fill\":\"toself\",\"line\":{\"color\":\"LightSeaGreen\",\"width\":2},\"mode\":\"lines\",\"showlegend\":false,\"x\":[0.072265625,0.07421875,0.0703125],\"y\":[0.6583259149131707,0.6549430031796377,0.6549430031796377],\"type\":\"scatter\"},{\"fill\":\"toself\",\"line\":{\"color\":\"LightSeaGreen\",\"width\":2},\"mode\":\"lines\",\"showlegend\":false,\"x\":[-0.287109375,-0.28515625,-0.2890625],\"y\":[0.36062968236227,0.35724677062873705,0.35724677062873705],\"type\":\"scatter\"},{\"fill\":\"toself\",\"line\":{\"color\":\"LightSeaGreen\",\"width\":2},\"mode\":\"lines\",\"showlegend\":false,\"x\":[-0.349609375,-0.34765625,-0.3515625],\"y\":[0.16442080181735805,0.16103789008382507,0.16103789008382507],\"type\":\"scatter\"},{\"fill\":\"toself\",\"line\":{\"color\":\"LightSeaGreen\",\"width\":2},\"mode\":\"lines\",\"showlegend\":false,\"x\":[0.025390625,0.02734375,0.0234375],\"y\":[0.9221930301287418,0.9188101183952088,0.9188101183952088],\"type\":\"scatter\"},{\"fill\":\"toself\",\"line\":{\"color\":\"LightSeaGreen\",\"width\":2},\"mode\":\"lines\",\"showlegend\":false,\"x\":[0.080078125,0.08203125,0.078125],\"y\":[0.6447942679790389,0.6414113562455059,0.6414113562455059],\"type\":\"scatter\"},{\"fill\":\"toself\",\"line\":{\"color\":\"LightSeaGreen\",\"width\":2},\"mode\":\"lines\",\"showlegend\":false,\"x\":[0.0234375,0.025390625,0.021484375],\"y\":[0.905278471461077,0.901895559727544,0.901895559727544],\"type\":\"scatter\"},{\"fill\":\"toself\",\"line\":{\"color\":\"LightSeaGreen\",\"width\":2},\"mode\":\"lines\",\"showlegend\":false,\"x\":[-0.19921875,-0.197265625,-0.201171875],\"y\":[0.15427206661675918,0.1508891548832262,0.1508891548832262],\"type\":\"scatter\"},{\"fill\":\"toself\",\"line\":{\"color\":\"LightSeaGreen\",\"width\":2},\"mode\":\"lines\",\"showlegend\":false,\"x\":[0.08984375,0.091796875,0.087890625],\"y\":[0.2760568890239459,0.2726739772904129,0.2726739772904129],\"type\":\"scatter\"},{\"fill\":\"toself\",\"line\":{\"color\":\"LightSeaGreen\",\"width\":2},\"mode\":\"lines\",\"showlegend\":false,\"x\":[-0.455078125,-0.453125,-0.45703125],\"y\":[0.20501574261975364,0.20163283088622067,0.20163283088622067],\"type\":\"scatter\"},{\"fill\":\"toself\",\"line\":{\"color\":\"LightSeaGreen\",\"width\":2},\"mode\":\"lines\",\"showlegend\":false,\"x\":[-0.314453125,-0.3125,-0.31640625],\"y\":[0.4350537404999952,0.43167082876646223,0.43167082876646223],\"type\":\"scatter\"},{\"fill\":\"toself\",\"line\":{\"color\":\"LightSeaGreen\",\"width\":2},\"mode\":\"lines\",\"showlegend\":false,\"x\":[-0.115234375,-0.11328125,-0.1171875],\"y\":[0.8004082077215552,0.7970252959880222,0.7970252959880222],\"type\":\"scatter\"},{\"fill\":\"toself\",\"line\":{\"color\":\"LightSeaGreen\",\"width\":2},\"mode\":\"lines\",\"showlegend\":false,\"x\":[0.32421875,0.326171875,0.322265625],\"y\":[0.2083986543532866,0.20501574261975364,0.20501574261975364],\"type\":\"scatter\"},{\"fill\":\"toself\",\"line\":{\"color\":\"LightSeaGreen\",\"width\":2},\"mode\":\"lines\",\"showlegend\":false,\"x\":[0.099609375,0.1015625,0.09765625],\"y\":[0.5771360333083796,0.5737531215748466,0.5737531215748466],\"type\":\"scatter\"},{\"fill\":\"toself\",\"line\":{\"color\":\"LightSeaGreen\",\"width\":2},\"mode\":\"lines\",\"showlegend\":false,\"x\":[0.267578125,0.26953125,0.265625],\"y\":[0.4824145047694566,0.47903159303592363,0.47903159303592363],\"type\":\"scatter\"},{\"fill\":\"toself\",\"line\":{\"color\":\"LightSeaGreen\",\"width\":2},\"mode\":\"lines\",\"showlegend\":false,\"x\":[-0.146484375,-0.14453125,-0.1484375],\"y\":[0.6853892087814344,0.6820062970479014,0.6820062970479014],\"type\":\"scatter\"},{\"fill\":\"toself\",\"line\":{\"color\":\"LightSeaGreen\",\"width\":2},\"mode\":\"lines\",\"showlegend\":false,\"x\":[-0.056640625,-0.0546875,-0.05859375],\"y\":[0.6515600914461048,0.6481771797125718,0.6481771797125718],\"type\":\"scatter\"},{\"fill\":\"toself\",\"line\":{\"color\":\"LightSeaGreen\",\"width\":2},\"mode\":\"lines\",\"showlegend\":false,\"x\":[0.373046875,0.375,0.37109375],\"y\":[0.3268005650269403,0.3234176532934074,0.3234176532934074],\"type\":\"scatter\"},{\"fill\":\"toself\",\"line\":{\"color\":\"LightSeaGreen\",\"width\":2},\"mode\":\"lines\",\"showlegend\":false,\"x\":[-0.236328125,-0.234375,-0.23828125],\"y\":[0.5703702098413137,0.5669872981077807,0.5669872981077807],\"type\":\"scatter\"},{\"fill\":\"toself\",\"line\":{\"color\":\"LightSeaGreen\",\"width\":2},\"mode\":\"lines\",\"showlegend\":false,\"x\":[-0.173828125,-0.171875,-0.17578125],\"y\":[0.2456106834221492,0.24222777168861623,0.24222777168861623],\"type\":\"scatter\"},{\"fill\":\"toself\",\"line\":{\"color\":\"LightSeaGreen\",\"width\":2},\"mode\":\"lines\",\"showlegend\":false,\"x\":[0.177734375,0.1796875,0.17578125],\"y\":[0.6583259149131707,0.6549430031796377,0.6549430031796377],\"type\":\"scatter\"},{\"fill\":\"toself\",\"line\":{\"color\":\"LightSeaGreen\",\"width\":2},\"mode\":\"lines\",\"showlegend\":false,\"x\":[-0.3203125,-0.318359375,-0.322265625],\"y\":[0.20163283088622067,0.1982499191526877,0.1982499191526877],\"type\":\"scatter\"},{\"fill\":\"toself\",\"line\":{\"color\":\"LightSeaGreen\",\"width\":2},\"mode\":\"lines\",\"showlegend\":false,\"x\":[0.052734375,0.0546875,0.05078125],\"y\":[0.20501574261975364,0.20163283088622067,0.20163283088622067],\"type\":\"scatter\"},{\"fill\":\"toself\",\"line\":{\"color\":\"LightSeaGreen\",\"width\":2},\"mode\":\"lines\",\"showlegend\":false,\"x\":[0.056640625,0.05859375,0.0546875],\"y\":[0.13735750794909435,0.13397459621556138,0.13397459621556138],\"type\":\"scatter\"},{\"fill\":\"toself\",\"line\":{\"color\":\"LightSeaGreen\",\"width\":2},\"mode\":\"lines\",\"showlegend\":false,\"x\":[0.205078125,0.20703125,0.203125],\"y\":[0.4215220935658633,0.41813918183233034,0.41813918183233034],\"type\":\"scatter\"},{\"fill\":\"toself\",\"line\":{\"color\":\"LightSeaGreen\",\"width\":2},\"mode\":\"lines\",\"showlegend\":false,\"x\":[-0.17578125,-0.173828125,-0.177734375],\"y\":[0.6820062970479015,0.6786233853143685,0.6786233853143685],\"type\":\"scatter\"},{\"fill\":\"toself\",\"line\":{\"color\":\"LightSeaGreen\",\"width\":2},\"mode\":\"lines\",\"showlegend\":false,\"x\":[-0.158203125,-0.15625,-0.16015625],\"y\":[0.18471827221855583,0.18133536048502286,0.18133536048502286],\"type\":\"scatter\"},{\"fill\":\"toself\",\"line\":{\"color\":\"LightSeaGreen\",\"width\":2},\"mode\":\"lines\",\"showlegend\":false,\"x\":[-0.23828125,-0.236328125,-0.240234375],\"y\":[0.5331581807724511,0.5297752690389181,0.5297752690389181],\"type\":\"scatter\"},{\"fill\":\"toself\",\"line\":{\"color\":\"LightSeaGreen\",\"width\":2},\"mode\":\"lines\",\"showlegend\":false,\"x\":[-0.015625,-0.013671875,-0.017578125],\"y\":[0.9188101183952089,0.9154272066616759,0.9154272066616759],\"type\":\"scatter\"},{\"fill\":\"toself\",\"line\":{\"color\":\"LightSeaGreen\",\"width\":2},\"mode\":\"lines\",\"showlegend\":false,\"x\":[0.13671875,0.138671875,0.134765625],\"y\":[0.262525242089814,0.25914233035628104,0.25914233035628104],\"type\":\"scatter\"},{\"fill\":\"toself\",\"line\":{\"color\":\"LightSeaGreen\",\"width\":2},\"mode\":\"lines\",\"showlegend\":false,\"x\":[-0.26171875,-0.259765625,-0.263671875],\"y\":[0.5196265338383192,0.5162436221047862,0.5162436221047862],\"type\":\"scatter\"},{\"fill\":\"toself\",\"line\":{\"color\":\"LightSeaGreen\",\"width\":2},\"mode\":\"lines\",\"showlegend\":false,\"x\":[0.3671875,0.369140625,0.365234375],\"y\":[0.14750624314969324,0.14412333141616027,0.14412333141616027],\"type\":\"scatter\"},{\"fill\":\"toself\",\"line\":{\"color\":\"LightSeaGreen\",\"width\":2},\"mode\":\"lines\",\"showlegend\":false,\"x\":[-0.158203125,-0.15625,-0.16015625],\"y\":[0.19148409568562177,0.1881011839520888,0.1881011839520888],\"type\":\"scatter\"},{\"fill\":\"toself\",\"line\":{\"color\":\"LightSeaGreen\",\"width\":2},\"mode\":\"lines\",\"showlegend\":false,\"x\":[0.27734375,0.279296875,0.275390625],\"y\":[0.3843100644970007,0.3809271527634678,0.3809271527634678],\"type\":\"scatter\"},{\"fill\":\"toself\",\"line\":{\"color\":\"LightSeaGreen\",\"width\":2},\"mode\":\"lines\",\"showlegend\":false,\"x\":[-0.099609375,-0.09765625,-0.1015625],\"y\":[0.6041993271766433,0.6008164154431103,0.6008164154431103],\"type\":\"scatter\"},{\"fill\":\"toself\",\"line\":{\"color\":\"LightSeaGreen\",\"width\":2},\"mode\":\"lines\",\"showlegend\":false,\"x\":[0.177734375,0.1796875,0.17578125],\"y\":[0.14412333141616027,0.1407404196826273,0.1407404196826273],\"type\":\"scatter\"},{\"fill\":\"toself\",\"line\":{\"color\":\"LightSeaGreen\",\"width\":2},\"mode\":\"lines\",\"showlegend\":false,\"x\":[-0.103515625,-0.1015625,-0.10546875],\"y\":[0.5771360333083796,0.5737531215748466,0.5737531215748466],\"type\":\"scatter\"},{\"fill\":\"toself\",\"line\":{\"color\":\"LightSeaGreen\",\"width\":2},\"mode\":\"lines\",\"showlegend\":false,\"x\":[-0.298828125,-0.296875,-0.30078125],\"y\":[0.4215220935658633,0.41813918183233034,0.41813918183233034],\"type\":\"scatter\"},{\"fill\":\"toself\",\"line\":{\"color\":\"LightSeaGreen\",\"width\":2},\"mode\":\"lines\",\"showlegend\":false,\"x\":[-0.01171875,-0.009765625,-0.013671875],\"y\":[0.9797025295988022,0.9763196178652692,0.9763196178652692],\"type\":\"scatter\"},{\"fill\":\"toself\",\"line\":{\"color\":\"LightSeaGreen\",\"width\":2},\"mode\":\"lines\",\"showlegend\":false,\"x\":[0.416015625,0.41796875,0.4140625],\"y\":[0.13735750794909435,0.13397459621556138,0.13397459621556138],\"type\":\"scatter\"},{\"fill\":\"toself\",\"line\":{\"color\":\"LightSeaGreen\",\"width\":2},\"mode\":\"lines\",\"showlegend\":false,\"x\":[-0.18359375,-0.181640625,-0.185546875],\"y\":[0.2354619482215503,0.23207903648801734,0.23207903648801734],\"type\":\"scatter\"},{\"fill\":\"toself\",\"line\":{\"color\":\"LightSeaGreen\",\"width\":2},\"mode\":\"lines\",\"showlegend\":false,\"x\":[0.298828125,0.30078125,0.296875],\"y\":[0.1508891548832262,0.14750624314969324,0.14750624314969324],\"type\":\"scatter\"},{\"fill\":\"toself\",\"line\":{\"color\":\"LightSeaGreen\",\"width\":2},\"mode\":\"lines\",\"showlegend\":false,\"x\":[-0.357421875,-0.35546875,-0.359375],\"y\":[0.25914233035628104,0.2557594186227481,0.2557594186227481],\"type\":\"scatter\"},{\"fill\":\"toself\",\"line\":{\"color\":\"LightSeaGreen\",\"width\":2},\"mode\":\"lines\",\"showlegend\":false,\"x\":[0.12109375,0.123046875,0.119140625],\"y\":[0.3437151236946051,0.34033221196107216,0.34033221196107216],\"type\":\"scatter\"},{\"fill\":\"toself\",\"line\":{\"color\":\"LightSeaGreen\",\"width\":2},\"mode\":\"lines\",\"showlegend\":false,\"x\":[-0.103515625,-0.1015625,-0.10546875],\"y\":[0.7868765607874233,0.7834936490538903,0.7834936490538903],\"type\":\"scatter\"},{\"fill\":\"toself\",\"line\":{\"color\":\"LightSeaGreen\",\"width\":2},\"mode\":\"lines\",\"showlegend\":false,\"x\":[0.189453125,0.19140625,0.1875],\"y\":[0.6718575618473026,0.6684746501137696,0.6684746501137696],\"type\":\"scatter\"},{\"fill\":\"toself\",\"line\":{\"color\":\"LightSeaGreen\",\"width\":2},\"mode\":\"lines\",\"showlegend\":false,\"x\":[-0.10546875,-0.103515625,-0.107421875],\"y\":[0.262525242089814,0.25914233035628104,0.25914233035628104],\"type\":\"scatter\"},{\"fill\":\"toself\",\"line\":{\"color\":\"LightSeaGreen\",\"width\":2},\"mode\":\"lines\",\"showlegend\":false,\"x\":[0.318359375,0.3203125,0.31640625],\"y\":[0.14412333141616027,0.1407404196826273,0.1407404196826273],\"type\":\"scatter\"},{\"fill\":\"toself\",\"line\":{\"color\":\"LightSeaGreen\",\"width\":2},\"mode\":\"lines\",\"showlegend\":false,\"x\":[-0.365234375,-0.36328125,-0.3671875],\"y\":[0.31326891809280843,0.3098860063592755,0.3098860063592755],\"type\":\"scatter\"},{\"fill\":\"toself\",\"line\":{\"color\":\"LightSeaGreen\",\"width\":2},\"mode\":\"lines\",\"showlegend\":false,\"x\":[-0.21484375,-0.212890625,-0.216796875],\"y\":[0.4113733583652644,0.40799044663173145,0.40799044663173145],\"type\":\"scatter\"},{\"fill\":\"toself\",\"line\":{\"color\":\"LightSeaGreen\",\"width\":2},\"mode\":\"lines\",\"showlegend\":false,\"x\":[0.091796875,0.09375,0.08984375],\"y\":[0.7868765607874233,0.7834936490538903,0.7834936490538903],\"type\":\"scatter\"},{\"fill\":\"toself\",\"line\":{\"color\":\"LightSeaGreen\",\"width\":2},\"mode\":\"lines\",\"showlegend\":false,\"x\":[-0.302734375,-0.30078125,-0.3046875],\"y\":[0.4418195639670611,0.4384366522335282,0.4384366522335282],\"type\":\"scatter\"},{\"fill\":\"toself\",\"line\":{\"color\":\"LightSeaGreen\",\"width\":2},\"mode\":\"lines\",\"showlegend\":false,\"x\":[-0.154296875,-0.15234375,-0.15625],\"y\":[0.2929714476916107,0.28958853595807776,0.28958853595807776],\"type\":\"scatter\"},{\"fill\":\"toself\",\"line\":{\"color\":\"LightSeaGreen\",\"width\":2},\"mode\":\"lines\",\"showlegend\":false,\"x\":[0.208984375,0.2109375,0.20703125],\"y\":[0.17118662528442397,0.167803713550891,0.167803713550891],\"type\":\"scatter\"},{\"fill\":\"toself\",\"line\":{\"color\":\"LightSeaGreen\",\"width\":2},\"mode\":\"lines\",\"showlegend\":false,\"x\":[0.45703125,0.458984375,0.455078125],\"y\":[0.14074041968262732,0.13735750794909435,0.13735750794909435],\"type\":\"scatter\"},{\"fill\":\"toself\",\"line\":{\"color\":\"LightSeaGreen\",\"width\":2},\"mode\":\"lines\",\"showlegend\":false,\"x\":[-0.408203125,-0.40625,-0.41015625],\"y\":[0.2726739772904129,0.26929106555688,0.26929106555688],\"type\":\"scatter\"},{\"fill\":\"toself\",\"line\":{\"color\":\"LightSeaGreen\",\"width\":2},\"mode\":\"lines\",\"showlegend\":false,\"x\":[0.197265625,0.19921875,0.1953125],\"y\":[0.47564868130239063,0.4722657695688577,0.4722657695688577],\"type\":\"scatter\"},{\"fill\":\"toself\",\"line\":{\"color\":\"LightSeaGreen\",\"width\":2},\"mode\":\"lines\",\"showlegend\":false,\"x\":[-0.208984375,-0.20703125,-0.2109375],\"y\":[0.5974335037095774,0.5940505919760444,0.5940505919760444],\"type\":\"scatter\"},{\"fill\":\"toself\",\"line\":{\"color\":\"LightSeaGreen\",\"width\":2},\"mode\":\"lines\",\"showlegend\":false,\"x\":[0.263671875,0.265625,0.26171875],\"y\":[0.536541092505984,0.533158180772451,0.533158180772451],\"type\":\"scatter\"},{\"fill\":\"toself\",\"line\":{\"color\":\"LightSeaGreen\",\"width\":2},\"mode\":\"lines\",\"showlegend\":false,\"x\":[0.080078125,0.08203125,0.078125],\"y\":[0.6244967975778412,0.6211138858443082,0.6211138858443082],\"type\":\"scatter\"},{\"fill\":\"toself\",\"line\":{\"color\":\"LightSeaGreen\",\"width\":2},\"mode\":\"lines\",\"showlegend\":false,\"x\":[-0.169921875,-0.16796875,-0.171875],\"y\":[0.35386385889520405,0.3504809471616711,0.3504809471616711],\"type\":\"scatter\"},{\"fill\":\"toself\",\"line\":{\"color\":\"LightSeaGreen\",\"width\":2},\"mode\":\"lines\",\"showlegend\":false,\"x\":[-0.310546875,-0.30859375,-0.3125],\"y\":[0.23207903648801734,0.22869612475448436,0.22869612475448436],\"type\":\"scatter\"},{\"fill\":\"toself\",\"line\":{\"color\":\"LightSeaGreen\",\"width\":2},\"mode\":\"lines\",\"showlegend\":false,\"x\":[0.3359375,0.337890625,0.333984375],\"y\":[0.14750624314969324,0.14412333141616027,0.14412333141616027],\"type\":\"scatter\"},{\"fill\":\"toself\",\"line\":{\"color\":\"LightSeaGreen\",\"width\":2},\"mode\":\"lines\",\"showlegend\":false,\"x\":[-0.1484375,-0.146484375,-0.150390625],\"y\":[0.39107588796406667,0.3876929762305337,0.3876929762305337],\"type\":\"scatter\"},{\"fill\":\"toself\",\"line\":{\"color\":\"LightSeaGreen\",\"width\":2},\"mode\":\"lines\",\"showlegend\":false,\"x\":[-0.419921875,-0.41796875,-0.421875],\"y\":[0.2456106834221492,0.24222777168861623,0.24222777168861623],\"type\":\"scatter\"},{\"fill\":\"toself\",\"line\":{\"color\":\"LightSeaGreen\",\"width\":2},\"mode\":\"lines\",\"showlegend\":false,\"x\":[0.341796875,0.34375,0.33984375],\"y\":[0.35386385889520405,0.3504809471616711,0.3504809471616711],\"type\":\"scatter\"},{\"fill\":\"toself\",\"line\":{\"color\":\"LightSeaGreen\",\"width\":2},\"mode\":\"lines\",\"showlegend\":false,\"x\":[-0.166015625,-0.1640625,-0.16796875],\"y\":[0.5839018567754456,0.5805189450419126,0.5805189450419126],\"type\":\"scatter\"},{\"fill\":\"toself\",\"line\":{\"color\":\"LightSeaGreen\",\"width\":2},\"mode\":\"lines\",\"showlegend\":false,\"x\":[0.130859375,0.1328125,0.12890625],\"y\":[0.2997372711586766,0.29635435942514365,0.29635435942514365],\"type\":\"scatter\"},{\"fill\":\"toself\",\"line\":{\"color\":\"LightSeaGreen\",\"width\":2},\"mode\":\"lines\",\"showlegend\":false,\"x\":[0.287109375,0.2890625,0.28515625],\"y\":[0.35386385889520405,0.3504809471616711,0.3504809471616711],\"type\":\"scatter\"},{\"fill\":\"toself\",\"line\":{\"color\":\"LightSeaGreen\",\"width\":2},\"mode\":\"lines\",\"showlegend\":false,\"x\":[-0.302734375,-0.30078125,-0.3046875],\"y\":[0.47564868130239063,0.4722657695688577,0.4722657695688577],\"type\":\"scatter\"},{\"fill\":\"toself\",\"line\":{\"color\":\"LightSeaGreen\",\"width\":2},\"mode\":\"lines\",\"showlegend\":false,\"x\":[0.19921875,0.201171875,0.197265625],\"y\":[0.6278797093113742,0.6244967975778412,0.6244967975778412],\"type\":\"scatter\"},{\"fill\":\"toself\",\"line\":{\"color\":\"LightSeaGreen\",\"width\":2},\"mode\":\"lines\",\"showlegend\":false,\"x\":[-0.24609375,-0.244140625,-0.248046875],\"y\":[0.5196265338383192,0.5162436221047862,0.5162436221047862],\"type\":\"scatter\"},{\"fill\":\"toself\",\"line\":{\"color\":\"LightSeaGreen\",\"width\":2},\"mode\":\"lines\",\"showlegend\":false,\"x\":[-0.419921875,-0.41796875,-0.421875],\"y\":[0.25914233035628104,0.2557594186227481,0.2557594186227481],\"type\":\"scatter\"},{\"fill\":\"toself\",\"line\":{\"color\":\"LightSeaGreen\",\"width\":2},\"mode\":\"lines\",\"showlegend\":false,\"x\":[0.404296875,0.40625,0.40234375],\"y\":[0.18471827221855583,0.18133536048502286,0.18133536048502286],\"type\":\"scatter\"},{\"fill\":\"toself\",\"line\":{\"color\":\"LightSeaGreen\",\"width\":2},\"mode\":\"lines\",\"showlegend\":false,\"x\":[0.41015625,0.412109375,0.408203125],\"y\":[0.14074041968262732,0.13735750794909435,0.13735750794909435],\"type\":\"scatter\"},{\"fill\":\"toself\",\"line\":{\"color\":\"LightSeaGreen\",\"width\":2},\"mode\":\"lines\",\"showlegend\":false,\"x\":[0.162109375,0.1640625,0.16015625],\"y\":[0.2794398007574789,0.27605688902394593,0.27605688902394593],\"type\":\"scatter\"},{\"fill\":\"toself\",\"line\":{\"color\":\"LightSeaGreen\",\"width\":2},\"mode\":\"lines\",\"showlegend\":false,\"x\":[0.11328125,0.115234375,0.111328125],\"y\":[0.33018347676047327,0.3268005650269403,0.3268005650269403],\"type\":\"scatter\"},{\"fill\":\"toself\",\"line\":{\"color\":\"LightSeaGreen\",\"width\":2},\"mode\":\"lines\",\"showlegend\":false,\"x\":[0.302734375,0.3046875,0.30078125],\"y\":[0.35386385889520405,0.3504809471616711,0.3504809471616711],\"type\":\"scatter\"},{\"fill\":\"toself\",\"line\":{\"color\":\"LightSeaGreen\",\"width\":2},\"mode\":\"lines\",\"showlegend\":false,\"x\":[-0.009765625,-0.0078125,-0.01171875],\"y\":[0.9560221474640714,0.9526392357305384,0.9526392357305384],\"type\":\"scatter\"},{\"fill\":\"toself\",\"line\":{\"color\":\"LightSeaGreen\",\"width\":2},\"mode\":\"lines\",\"showlegend\":false,\"x\":[-0.177734375,-0.17578125,-0.1796875],\"y\":[0.25237650688921515,0.24899359515568217,0.24899359515568217],\"type\":\"scatter\"},{\"fill\":\"toself\",\"line\":{\"color\":\"LightSeaGreen\",\"width\":2},\"mode\":\"lines\",\"showlegend\":false,\"x\":[-0.28515625,-0.283203125,-0.287109375],\"y\":[0.16780371355089102,0.16442080181735805,0.16442080181735805],\"type\":\"scatter\"},{\"fill\":\"toself\",\"line\":{\"color\":\"LightSeaGreen\",\"width\":2},\"mode\":\"lines\",\"showlegend\":false,\"x\":[-0.037109375,-0.03515625,-0.0390625],\"y\":[0.16442080181735805,0.16103789008382507,0.16103789008382507],\"type\":\"scatter\"},{\"fill\":\"toself\",\"line\":{\"color\":\"LightSeaGreen\",\"width\":2},\"mode\":\"lines\",\"showlegend\":false,\"x\":[0.140625,0.142578125,0.138671875],\"y\":[0.5940505919760445,0.5906676802425115,0.5906676802425115],\"type\":\"scatter\"},{\"fill\":\"toself\",\"line\":{\"color\":\"LightSeaGreen\",\"width\":2},\"mode\":\"lines\",\"showlegend\":false,\"x\":[-0.025390625,-0.0234375,-0.02734375],\"y\":[0.8951297362604781,0.8917468245269451,0.8917468245269451],\"type\":\"scatter\"},{\"fill\":\"toself\",\"line\":{\"color\":\"LightSeaGreen\",\"width\":2},\"mode\":\"lines\",\"showlegend\":false,\"x\":[-0.091796875,-0.08984375,-0.09375],\"y\":[0.813939854655687,0.810556942922154,0.810556942922154],\"type\":\"scatter\"},{\"fill\":\"toself\",\"line\":{\"color\":\"LightSeaGreen\",\"width\":2},\"mode\":\"lines\",\"showlegend\":false,\"x\":[-0.302734375,-0.30078125,-0.3046875],\"y\":[0.36062968236227,0.35724677062873705,0.35724677062873705],\"type\":\"scatter\"},{\"fill\":\"toself\",\"line\":{\"color\":\"LightSeaGreen\",\"width\":2},\"mode\":\"lines\",\"showlegend\":false,\"x\":[0.06640625,0.068359375,0.064453125],\"y\":[0.22193030128741845,0.21854738955388547,0.21854738955388547],\"type\":\"scatter\"},{\"fill\":\"toself\",\"line\":{\"color\":\"LightSeaGreen\",\"width\":2},\"mode\":\"lines\",\"showlegend\":false,\"x\":[0.09765625,0.099609375,0.095703125],\"y\":[0.7090695909161652,0.7056866791826322,0.7056866791826322],\"type\":\"scatter\"},{\"fill\":\"toself\",\"line\":{\"color\":\"LightSeaGreen\",\"width\":2},\"mode\":\"lines\",\"showlegend\":false,\"x\":[-0.037109375,-0.03515625,-0.0390625],\"y\":[0.5703702098413137,0.5669872981077807,0.5669872981077807],\"type\":\"scatter\"},{\"fill\":\"toself\",\"line\":{\"color\":\"LightSeaGreen\",\"width\":2},\"mode\":\"lines\",\"showlegend\":false,\"x\":[0.400390625,0.40234375,0.3984375],\"y\":[0.25237650688921515,0.24899359515568217,0.24899359515568217],\"type\":\"scatter\"},{\"fill\":\"toself\",\"line\":{\"color\":\"LightSeaGreen\",\"width\":2},\"mode\":\"lines\",\"showlegend\":false,\"x\":[-0.29296875,-0.291015625,-0.294921875],\"y\":[0.357246770628737,0.35386385889520405,0.35386385889520405],\"type\":\"scatter\"},{\"fill\":\"toself\",\"line\":{\"color\":\"LightSeaGreen\",\"width\":2},\"mode\":\"lines\",\"showlegend\":false,\"x\":[0.1640625,0.166015625,0.162109375],\"y\":[0.6075822389101763,0.6041993271766433,0.6041993271766433],\"type\":\"scatter\"},{\"fill\":\"toself\",\"line\":{\"color\":\"LightSeaGreen\",\"width\":2},\"mode\":\"lines\",\"showlegend\":false,\"x\":[0.00390625,0.005859375,0.001953125],\"y\":[0.14074041968262732,0.13735750794909435,0.13735750794909435],\"type\":\"scatter\"},{\"fill\":\"toself\",\"line\":{\"color\":\"LightSeaGreen\",\"width\":2},\"mode\":\"lines\",\"showlegend\":false,\"x\":[-0.15234375,-0.150390625,-0.154296875],\"y\":[0.736132884784429,0.732749973050896,0.732749973050896],\"type\":\"scatter\"},{\"fill\":\"toself\",\"line\":{\"color\":\"LightSeaGreen\",\"width\":2},\"mode\":\"lines\",\"showlegend\":false,\"x\":[0.119140625,0.12109375,0.1171875],\"y\":[0.25237650688921515,0.24899359515568217,0.24899359515568217],\"type\":\"scatter\"},{\"fill\":\"toself\",\"line\":{\"color\":\"LightSeaGreen\",\"width\":2},\"mode\":\"lines\",\"showlegend\":false,\"x\":[-0.052734375,-0.05078125,-0.0546875],\"y\":[0.638028444511973,0.63464553277844,0.63464553277844],\"type\":\"scatter\"},{\"fill\":\"toself\",\"line\":{\"color\":\"LightSeaGreen\",\"width\":2},\"mode\":\"lines\",\"showlegend\":false,\"x\":[0.41015625,0.412109375,0.408203125],\"y\":[0.19486700741915475,0.19148409568562177,0.19148409568562177],\"type\":\"scatter\"},{\"fill\":\"toself\",\"line\":{\"color\":\"LightSeaGreen\",\"width\":2},\"mode\":\"lines\",\"showlegend\":false,\"x\":[0.134765625,0.13671875,0.1328125],\"y\":[0.30650309462574254,0.3031201828922096,0.3031201828922096],\"type\":\"scatter\"},{\"fill\":\"toself\",\"line\":{\"color\":\"LightSeaGreen\",\"width\":2},\"mode\":\"lines\",\"showlegend\":false,\"x\":[0.185546875,0.1875,0.18359375],\"y\":[0.21854738955388547,0.2151644778203525,0.2151644778203525],\"type\":\"scatter\"},{\"fill\":\"toself\",\"line\":{\"color\":\"LightSeaGreen\",\"width\":2},\"mode\":\"lines\",\"showlegend\":false,\"x\":[0.373046875,0.375,0.37109375],\"y\":[0.3470980354281381,0.34371512369460516,0.34371512369460516],\"type\":\"scatter\"},{\"fill\":\"toself\",\"line\":{\"color\":\"LightSeaGreen\",\"width\":2},\"mode\":\"lines\",\"showlegend\":false,\"x\":[0.130859375,0.1328125,0.12890625],\"y\":[0.5771360333083796,0.5737531215748466,0.5737531215748466],\"type\":\"scatter\"},{\"fill\":\"toself\",\"line\":{\"color\":\"LightSeaGreen\",\"width\":2},\"mode\":\"lines\",\"showlegend\":false,\"x\":[0.251953125,0.25390625,0.25],\"y\":[0.5568385629071818,0.5534556511736488,0.5534556511736488],\"type\":\"scatter\"},{\"fill\":\"toself\",\"line\":{\"color\":\"LightSeaGreen\",\"width\":2},\"mode\":\"lines\",\"showlegend\":false,\"x\":[-0.208984375,-0.20703125,-0.2109375],\"y\":[0.1982499191526877,0.19486700741915472,0.19486700741915472],\"type\":\"scatter\"},{\"fill\":\"toself\",\"line\":{\"color\":\"LightSeaGreen\",\"width\":2},\"mode\":\"lines\",\"showlegend\":false,\"x\":[-0.2578125,-0.255859375,-0.259765625],\"y\":[0.5534556511736488,0.5500727394401158,0.5500727394401158],\"type\":\"scatter\"},{\"fill\":\"toself\",\"line\":{\"color\":\"LightSeaGreen\",\"width\":2},\"mode\":\"lines\",\"showlegend\":false,\"x\":[-0.337890625,-0.3359375,-0.33984375],\"y\":[0.19148409568562177,0.1881011839520888,0.1881011839520888],\"type\":\"scatter\"},{\"fill\":\"toself\",\"line\":{\"color\":\"LightSeaGreen\",\"width\":2},\"mode\":\"lines\",\"showlegend\":false,\"x\":[-0.16015625,-0.158203125,-0.162109375],\"y\":[0.7090695909161652,0.7056866791826322,0.7056866791826322],\"type\":\"scatter\"},{\"fill\":\"toself\",\"line\":{\"color\":\"LightSeaGreen\",\"width\":2},\"mode\":\"lines\",\"showlegend\":false,\"x\":[-0.173828125,-0.171875,-0.17578125],\"y\":[0.20501574261975364,0.20163283088622067,0.20163283088622067],\"type\":\"scatter\"},{\"fill\":\"toself\",\"line\":{\"color\":\"LightSeaGreen\",\"width\":2},\"mode\":\"lines\",\"showlegend\":false,\"x\":[-0.30078125,-0.298828125,-0.302734375],\"y\":[0.2083986543532866,0.20501574261975364,0.20501574261975364],\"type\":\"scatter\"},{\"fill\":\"toself\",\"line\":{\"color\":\"LightSeaGreen\",\"width\":2},\"mode\":\"lines\",\"showlegend\":false,\"x\":[0.224609375,0.2265625,0.22265625],\"y\":[0.4891803282365225,0.4857974165029896,0.4857974165029896],\"type\":\"scatter\"},{\"fill\":\"toself\",\"line\":{\"color\":\"LightSeaGreen\",\"width\":2},\"mode\":\"lines\",\"showlegend\":false,\"x\":[-0.07421875,-0.072265625,-0.076171875],\"y\":[0.19486700741915475,0.19148409568562177,0.19148409568562177],\"type\":\"scatter\"},{\"fill\":\"toself\",\"line\":{\"color\":\"LightSeaGreen\",\"width\":2},\"mode\":\"lines\",\"showlegend\":false,\"x\":[0.2109375,0.212890625,0.208984375],\"y\":[0.14750624314969324,0.14412333141616027,0.14412333141616027],\"type\":\"scatter\"},{\"fill\":\"toself\",\"line\":{\"color\":\"LightSeaGreen\",\"width\":2},\"mode\":\"lines\",\"showlegend\":false,\"x\":[-0.201171875,-0.19921875,-0.203125],\"y\":[0.5906676802425115,0.5872847685089785,0.5872847685089785],\"type\":\"scatter\"},{\"fill\":\"toself\",\"line\":{\"color\":\"LightSeaGreen\",\"width\":2},\"mode\":\"lines\",\"showlegend\":false,\"x\":[0.490234375,0.4921875,0.48828125],\"y\":[0.13735750794909435,0.13397459621556138,0.13397459621556138],\"type\":\"scatter\"},{\"fill\":\"toself\",\"line\":{\"color\":\"LightSeaGreen\",\"width\":2},\"mode\":\"lines\",\"showlegend\":false,\"x\":[0.216796875,0.21875,0.21484375],\"y\":[0.16442080181735805,0.16103789008382507,0.16103789008382507],\"type\":\"scatter\"},{\"fill\":\"toself\",\"line\":{\"color\":\"LightSeaGreen\",\"width\":2},\"mode\":\"lines\",\"showlegend\":false,\"x\":[-0.265625,-0.263671875,-0.267578125],\"y\":[0.1610378900838251,0.15765497835029213,0.15765497835029213],\"type\":\"scatter\"},{\"fill\":\"toself\",\"line\":{\"color\":\"LightSeaGreen\",\"width\":2},\"mode\":\"lines\",\"showlegend\":false,\"x\":[-0.119140625,-0.1171875,-0.12109375],\"y\":[0.13735750794909435,0.13397459621556138,0.13397459621556138],\"type\":\"scatter\"},{\"fill\":\"toself\",\"line\":{\"color\":\"LightSeaGreen\",\"width\":2},\"mode\":\"lines\",\"showlegend\":false,\"x\":[0.458984375,0.4609375,0.45703125],\"y\":[0.1982499191526877,0.19486700741915472,0.19486700741915472],\"type\":\"scatter\"},{\"fill\":\"toself\",\"line\":{\"color\":\"LightSeaGreen\",\"width\":2},\"mode\":\"lines\",\"showlegend\":false,\"x\":[-0.2265625,-0.224609375,-0.228515625],\"y\":[0.4993290634371214,0.49594615170358847,0.49594615170358847],\"type\":\"scatter\"},{\"fill\":\"toself\",\"line\":{\"color\":\"LightSeaGreen\",\"width\":2},\"mode\":\"lines\",\"showlegend\":false,\"x\":[-0.302734375,-0.30078125,-0.3046875],\"y\":[0.40799044663173145,0.4046075348981985,0.4046075348981985],\"type\":\"scatter\"},{\"fill\":\"toself\",\"line\":{\"color\":\"LightSeaGreen\",\"width\":2},\"mode\":\"lines\",\"showlegend\":false,\"x\":[0.185546875,0.1875,0.18359375],\"y\":[0.45535121090119296,0.45196829916766,0.45196829916766],\"type\":\"scatter\"},{\"fill\":\"toself\",\"line\":{\"color\":\"LightSeaGreen\",\"width\":2},\"mode\":\"lines\",\"showlegend\":false,\"x\":[-0.388671875,-0.38671875,-0.390625],\"y\":[0.25914233035628104,0.2557594186227481,0.2557594186227481],\"type\":\"scatter\"},{\"fill\":\"toself\",\"line\":{\"color\":\"LightSeaGreen\",\"width\":2},\"mode\":\"lines\",\"showlegend\":false,\"x\":[-0.205078125,-0.203125,-0.20703125],\"y\":[0.5974335037095774,0.5940505919760444,0.5940505919760444],\"type\":\"scatter\"},{\"fill\":\"toself\",\"line\":{\"color\":\"LightSeaGreen\",\"width\":2},\"mode\":\"lines\",\"showlegend\":false,\"x\":[0.474609375,0.4765625,0.47265625],\"y\":[0.17118662528442397,0.167803713550891,0.167803713550891],\"type\":\"scatter\"},{\"fill\":\"toself\",\"line\":{\"color\":\"LightSeaGreen\",\"width\":2},\"mode\":\"lines\",\"showlegend\":false,\"x\":[0.015625,0.017578125,0.013671875],\"y\":[0.1610378900838251,0.15765497835029213,0.15765497835029213],\"type\":\"scatter\"},{\"fill\":\"toself\",\"line\":{\"color\":\"LightSeaGreen\",\"width\":2},\"mode\":\"lines\",\"showlegend\":false,\"x\":[-0.158203125,-0.15625,-0.16015625],\"y\":[0.2726739772904129,0.26929106555688,0.26929106555688],\"type\":\"scatter\"},{\"fill\":\"toself\",\"line\":{\"color\":\"LightSeaGreen\",\"width\":2},\"mode\":\"lines\",\"showlegend\":false,\"x\":[-0.033203125,-0.03125,-0.03515625],\"y\":[0.9357246770628737,0.9323417653293407,0.9323417653293407],\"type\":\"scatter\"},{\"fill\":\"toself\",\"line\":{\"color\":\"LightSeaGreen\",\"width\":2},\"mode\":\"lines\",\"showlegend\":false,\"x\":[0.205078125,0.20703125,0.203125],\"y\":[0.3673955058293359,0.36401259409580294,0.36401259409580294],\"type\":\"scatter\"},{\"fill\":\"toself\",\"line\":{\"color\":\"LightSeaGreen\",\"width\":2},\"mode\":\"lines\",\"showlegend\":false,\"x\":[0.20703125,0.208984375,0.205078125],\"y\":[0.4113733583652644,0.40799044663173145,0.40799044663173145],\"type\":\"scatter\"},{\"fill\":\"toself\",\"line\":{\"color\":\"LightSeaGreen\",\"width\":2},\"mode\":\"lines\",\"showlegend\":false,\"x\":[-0.177734375,-0.17578125,-0.1796875],\"y\":[0.5771360333083796,0.5737531215748466,0.5737531215748466],\"type\":\"scatter\"},{\"fill\":\"toself\",\"line\":{\"color\":\"LightSeaGreen\",\"width\":2},\"mode\":\"lines\",\"showlegend\":false,\"x\":[0.19921875,0.201171875,0.197265625],\"y\":[0.42490500529939623,0.4215220935658633,0.4215220935658633],\"type\":\"scatter\"},{\"fill\":\"toself\",\"line\":{\"color\":\"LightSeaGreen\",\"width\":2},\"mode\":\"lines\",\"showlegend\":false,\"x\":[0.345703125,0.34765625,0.34375],\"y\":[0.28620562422454476,0.2828227124910118,0.2828227124910118],\"type\":\"scatter\"},{\"fill\":\"toself\",\"line\":{\"color\":\"LightSeaGreen\",\"width\":2},\"mode\":\"lines\",\"showlegend\":false,\"x\":[0.037109375,0.0390625,0.03515625],\"y\":[0.6244967975778412,0.6211138858443082,0.6211138858443082],\"type\":\"scatter\"},{\"fill\":\"toself\",\"line\":{\"color\":\"LightSeaGreen\",\"width\":2},\"mode\":\"lines\",\"showlegend\":false,\"x\":[0.14453125,0.146484375,0.142578125],\"y\":[0.5737531215748467,0.5703702098413137,0.5703702098413137],\"type\":\"scatter\"},{\"fill\":\"toself\",\"line\":{\"color\":\"LightSeaGreen\",\"width\":2},\"mode\":\"lines\",\"showlegend\":false,\"x\":[-0.01953125,-0.017578125,-0.021484375],\"y\":[0.9255759418622748,0.9221930301287418,0.9221930301287418],\"type\":\"scatter\"},{\"fill\":\"toself\",\"line\":{\"color\":\"LightSeaGreen\",\"width\":2},\"mode\":\"lines\",\"showlegend\":false,\"x\":[-0.318359375,-0.31640625,-0.3203125],\"y\":[0.448585387434127,0.44520247570059407,0.44520247570059407],\"type\":\"scatter\"},{\"fill\":\"toself\",\"line\":{\"color\":\"LightSeaGreen\",\"width\":2},\"mode\":\"lines\",\"showlegend\":false,\"x\":[-0.05078125,-0.048828125,-0.052734375],\"y\":[0.5737531215748467,0.5703702098413137,0.5703702098413137],\"type\":\"scatter\"},{\"fill\":\"toself\",\"line\":{\"color\":\"LightSeaGreen\",\"width\":2},\"mode\":\"lines\",\"showlegend\":false,\"x\":[-0.02734375,-0.025390625,-0.029296875],\"y\":[0.8308544133233519,0.8274715015898189,0.8274715015898189],\"type\":\"scatter\"},{\"fill\":\"toself\",\"line\":{\"color\":\"LightSeaGreen\",\"width\":2},\"mode\":\"lines\",\"showlegend\":false,\"x\":[0.064453125,0.06640625,0.0625],\"y\":[0.8410031485239507,0.8376202367904177,0.8376202367904177],\"type\":\"scatter\"},{\"fill\":\"toself\",\"line\":{\"color\":\"LightSeaGreen\",\"width\":2},\"mode\":\"lines\",\"showlegend\":false,\"x\":[0.1796875,0.181640625,0.177734375],\"y\":[0.22869612475448436,0.2253132130209514,0.2253132130209514],\"type\":\"scatter\"},{\"fill\":\"toself\",\"line\":{\"color\":\"LightSeaGreen\",\"width\":2},\"mode\":\"lines\",\"showlegend\":false,\"x\":[-0.23046875,-0.228515625,-0.232421875],\"y\":[0.49256323997005547,0.4891803282365225,0.4891803282365225],\"type\":\"scatter\"},{\"fill\":\"toself\",\"line\":{\"color\":\"LightSeaGreen\",\"width\":2},\"mode\":\"lines\",\"showlegend\":false,\"x\":[0.076171875,0.078125,0.07421875],\"y\":[0.8410031485239507,0.8376202367904177,0.8376202367904177],\"type\":\"scatter\"},{\"fill\":\"toself\",\"line\":{\"color\":\"LightSeaGreen\",\"width\":2},\"mode\":\"lines\",\"showlegend\":false,\"x\":[0.041015625,0.04296875,0.0390625],\"y\":[0.6041993271766433,0.6008164154431103,0.6008164154431103],\"type\":\"scatter\"},{\"fill\":\"toself\",\"line\":{\"color\":\"LightSeaGreen\",\"width\":2},\"mode\":\"lines\",\"showlegend\":false,\"x\":[0.3125,0.314453125,0.310546875],\"y\":[0.24222777168861623,0.23884485995508326,0.23884485995508326],\"type\":\"scatter\"},{\"fill\":\"toself\",\"line\":{\"color\":\"LightSeaGreen\",\"width\":2},\"mode\":\"lines\",\"showlegend\":false,\"x\":[-0.087890625,-0.0859375,-0.08984375],\"y\":[0.6853892087814344,0.6820062970479014,0.6820062970479014],\"type\":\"scatter\"},{\"fill\":\"toself\",\"line\":{\"color\":\"LightSeaGreen\",\"width\":2},\"mode\":\"lines\",\"showlegend\":false,\"x\":[-0.134765625,-0.1328125,-0.13671875],\"y\":[0.7665790903862255,0.7631961786526925,0.7631961786526925],\"type\":\"scatter\"},{\"fill\":\"toself\",\"line\":{\"color\":\"LightSeaGreen\",\"width\":2},\"mode\":\"lines\",\"showlegend\":false,\"x\":[-0.349609375,-0.34765625,-0.3515625],\"y\":[0.36062968236227,0.35724677062873705,0.35724677062873705],\"type\":\"scatter\"},{\"fill\":\"toself\",\"line\":{\"color\":\"LightSeaGreen\",\"width\":2},\"mode\":\"lines\",\"showlegend\":false,\"x\":[-0.173828125,-0.171875,-0.17578125],\"y\":[0.5906676802425115,0.5872847685089785,0.5872847685089785],\"type\":\"scatter\"},{\"fill\":\"toself\",\"line\":{\"color\":\"LightSeaGreen\",\"width\":2},\"mode\":\"lines\",\"showlegend\":false,\"x\":[-0.361328125,-0.359375,-0.36328125],\"y\":[0.2997372711586766,0.29635435942514365,0.29635435942514365],\"type\":\"scatter\"},{\"fill\":\"toself\",\"line\":{\"color\":\"LightSeaGreen\",\"width\":2},\"mode\":\"lines\",\"showlegend\":false,\"x\":[0.041015625,0.04296875,0.0390625],\"y\":[0.16442080181735805,0.16103789008382507,0.16103789008382507],\"type\":\"scatter\"},{\"fill\":\"toself\",\"line\":{\"color\":\"LightSeaGreen\",\"width\":2},\"mode\":\"lines\",\"showlegend\":false,\"x\":[0.1953125,0.197265625,0.193359375],\"y\":[0.6617088266467037,0.6583259149131707,0.6583259149131707],\"type\":\"scatter\"},{\"fill\":\"toself\",\"line\":{\"color\":\"LightSeaGreen\",\"width\":2},\"mode\":\"lines\",\"showlegend\":false,\"x\":[-0.220703125,-0.21875,-0.22265625],\"y\":[0.40122462316466556,0.3978417114311326,0.3978417114311326],\"type\":\"scatter\"},{\"fill\":\"toself\",\"line\":{\"color\":\"LightSeaGreen\",\"width\":2},\"mode\":\"lines\",\"showlegend\":false,\"x\":[0.09375,0.095703125,0.091796875],\"y\":[0.6211138858443082,0.6177309741107752,0.6177309741107752],\"type\":\"scatter\"},{\"fill\":\"toself\",\"line\":{\"color\":\"LightSeaGreen\",\"width\":2},\"mode\":\"lines\",\"showlegend\":false,\"x\":[-0.140625,-0.138671875,-0.142578125],\"y\":[0.7564303551856267,0.7530474434520937,0.7530474434520937],\"type\":\"scatter\"},{\"fill\":\"toself\",\"line\":{\"color\":\"LightSeaGreen\",\"width\":2},\"mode\":\"lines\",\"showlegend\":false,\"x\":[-0.478515625,-0.4765625,-0.48046875],\"y\":[0.13735750794909435,0.13397459621556138,0.13397459621556138],\"type\":\"scatter\"},{\"fill\":\"toself\",\"line\":{\"color\":\"LightSeaGreen\",\"width\":2},\"mode\":\"lines\",\"showlegend\":false,\"x\":[0.353515625,0.35546875,0.3515625],\"y\":[0.14412333141616027,0.1407404196826273,0.1407404196826273],\"type\":\"scatter\"},{\"fill\":\"toself\",\"line\":{\"color\":\"LightSeaGreen\",\"width\":2},\"mode\":\"lines\",\"showlegend\":false,\"x\":[0.25390625,0.255859375,0.251953125],\"y\":[0.5466898277065829,0.5433069159730499,0.5433069159730499],\"type\":\"scatter\"},{\"fill\":\"toself\",\"line\":{\"color\":\"LightSeaGreen\",\"width\":2},\"mode\":\"lines\",\"showlegend\":false,\"x\":[0.025390625,0.02734375,0.0234375],\"y\":[0.9289588535958077,0.9255759418622747,0.9255759418622747],\"type\":\"scatter\"},{\"fill\":\"toself\",\"line\":{\"color\":\"LightSeaGreen\",\"width\":2},\"mode\":\"lines\",\"showlegend\":false,\"x\":[-0.021484375,-0.01953125,-0.0234375],\"y\":[0.9289588535958077,0.9255759418622747,0.9255759418622747],\"type\":\"scatter\"},{\"fill\":\"toself\",\"line\":{\"color\":\"LightSeaGreen\",\"width\":2},\"mode\":\"lines\",\"showlegend\":false,\"x\":[0.072265625,0.07421875,0.0703125],\"y\":[0.8004082077215552,0.7970252959880222,0.7970252959880222],\"type\":\"scatter\"},{\"fill\":\"toself\",\"line\":{\"color\":\"LightSeaGreen\",\"width\":2},\"mode\":\"lines\",\"showlegend\":false,\"x\":[0.10546875,0.107421875,0.103515625],\"y\":[0.7090695909161652,0.7056866791826322,0.7056866791826322],\"type\":\"scatter\"},{\"fill\":\"toself\",\"line\":{\"color\":\"LightSeaGreen\",\"width\":2},\"mode\":\"lines\",\"showlegend\":false,\"x\":[-0.158203125,-0.15625,-0.16015625],\"y\":[0.13735750794909435,0.13397459621556138,0.13397459621556138],\"type\":\"scatter\"},{\"fill\":\"toself\",\"line\":{\"color\":\"LightSeaGreen\",\"width\":2},\"mode\":\"lines\",\"showlegend\":false,\"x\":[0.365234375,0.3671875,0.36328125],\"y\":[0.30650309462574254,0.3031201828922096,0.3031201828922096],\"type\":\"scatter\"},{\"fill\":\"toself\",\"line\":{\"color\":\"LightSeaGreen\",\"width\":2},\"mode\":\"lines\",\"showlegend\":false,\"x\":[-0.060546875,-0.05859375,-0.0625],\"y\":[0.8883639127934122,0.8849810010598792,0.8849810010598792],\"type\":\"scatter\"},{\"fill\":\"toself\",\"line\":{\"color\":\"LightSeaGreen\",\"width\":2},\"mode\":\"lines\",\"showlegend\":false,\"x\":[-0.404296875,-0.40234375,-0.40625],\"y\":[0.2929714476916107,0.28958853595807776,0.28958853595807776],\"type\":\"scatter\"},{\"fill\":\"toself\",\"line\":{\"color\":\"LightSeaGreen\",\"width\":2},\"mode\":\"lines\",\"showlegend\":false,\"x\":[0.146484375,0.1484375,0.14453125],\"y\":[0.6786233853143685,0.6752404735808355,0.6752404735808355],\"type\":\"scatter\"},{\"fill\":\"toself\",\"line\":{\"color\":\"LightSeaGreen\",\"width\":2},\"mode\":\"lines\",\"showlegend\":false,\"x\":[-0.306640625,-0.3046875,-0.30859375],\"y\":[0.21854738955388547,0.2151644778203525,0.2151644778203525],\"type\":\"scatter\"},{\"fill\":\"toself\",\"line\":{\"color\":\"LightSeaGreen\",\"width\":2},\"mode\":\"lines\",\"showlegend\":false,\"x\":[-0.19921875,-0.197265625,-0.201171875],\"y\":[0.15427206661675918,0.1508891548832262,0.1508891548832262],\"type\":\"scatter\"},{\"fill\":\"toself\",\"line\":{\"color\":\"LightSeaGreen\",\"width\":2},\"mode\":\"lines\",\"showlegend\":false,\"x\":[-0.482421875,-0.48046875,-0.484375],\"y\":[0.15765497835029213,0.15427206661675916,0.15427206661675916],\"type\":\"scatter\"},{\"fill\":\"toself\",\"line\":{\"color\":\"LightSeaGreen\",\"width\":2},\"mode\":\"lines\",\"showlegend\":false,\"x\":[0.412109375,0.4140625,0.41015625],\"y\":[0.19148409568562177,0.1881011839520888,0.1881011839520888],\"type\":\"scatter\"},{\"fill\":\"toself\",\"line\":{\"color\":\"LightSeaGreen\",\"width\":2},\"mode\":\"lines\",\"showlegend\":false,\"x\":[0.400390625,0.40234375,0.3984375],\"y\":[0.2456106834221492,0.24222777168861623,0.24222777168861623],\"type\":\"scatter\"},{\"fill\":\"toself\",\"line\":{\"color\":\"LightSeaGreen\",\"width\":2},\"mode\":\"lines\",\"showlegend\":false,\"x\":[0.482421875,0.484375,0.48046875],\"y\":[0.15765497835029213,0.15427206661675916,0.15427206661675916],\"type\":\"scatter\"},{\"fill\":\"toself\",\"line\":{\"color\":\"LightSeaGreen\",\"width\":2},\"mode\":\"lines\",\"showlegend\":false,\"x\":[0.2109375,0.212890625,0.208984375],\"y\":[0.4993290634371214,0.49594615170358847,0.49594615170358847],\"type\":\"scatter\"},{\"fill\":\"toself\",\"line\":{\"color\":\"LightSeaGreen\",\"width\":2},\"mode\":\"lines\",\"showlegend\":false,\"x\":[0.41015625,0.412109375,0.408203125],\"y\":[0.14074041968262732,0.13735750794909435,0.13735750794909435],\"type\":\"scatter\"},{\"fill\":\"toself\",\"line\":{\"color\":\"LightSeaGreen\",\"width\":2},\"mode\":\"lines\",\"showlegend\":false,\"x\":[-0.20703125,-0.205078125,-0.208984375],\"y\":[0.6278797093113742,0.6244967975778412,0.6244967975778412],\"type\":\"scatter\"},{\"fill\":\"toself\",\"line\":{\"color\":\"LightSeaGreen\",\"width\":2},\"mode\":\"lines\",\"showlegend\":false,\"x\":[0.166015625,0.16796875,0.1640625],\"y\":[0.1508891548832262,0.14750624314969324,0.14750624314969324],\"type\":\"scatter\"},{\"fill\":\"toself\",\"line\":{\"color\":\"LightSeaGreen\",\"width\":2},\"mode\":\"lines\",\"showlegend\":false,\"x\":[0.41796875,0.419921875,0.416015625],\"y\":[0.19486700741915475,0.19148409568562177,0.19148409568562177],\"type\":\"scatter\"},{\"fill\":\"toself\",\"line\":{\"color\":\"LightSeaGreen\",\"width\":2},\"mode\":\"lines\",\"showlegend\":false,\"x\":[-0.1953125,-0.193359375,-0.197265625],\"y\":[0.20163283088622067,0.1982499191526877,0.1982499191526877],\"type\":\"scatter\"},{\"fill\":\"toself\",\"line\":{\"color\":\"LightSeaGreen\",\"width\":2},\"mode\":\"lines\",\"showlegend\":false,\"x\":[0.220703125,0.22265625,0.21875],\"y\":[0.4621170343682588,0.45873412263472585,0.45873412263472585],\"type\":\"scatter\"},{\"fill\":\"toself\",\"line\":{\"color\":\"LightSeaGreen\",\"width\":2},\"mode\":\"lines\",\"showlegend\":false,\"x\":[-0.34765625,-0.345703125,-0.349609375],\"y\":[0.357246770628737,0.35386385889520405,0.35386385889520405],\"type\":\"scatter\"},{\"fill\":\"toself\",\"line\":{\"color\":\"LightSeaGreen\",\"width\":2},\"mode\":\"lines\",\"showlegend\":false,\"x\":[0.228515625,0.23046875,0.2265625],\"y\":[0.1508891548832262,0.14750624314969324,0.14750624314969324],\"type\":\"scatter\"},{\"fill\":\"toself\",\"line\":{\"color\":\"LightSeaGreen\",\"width\":2},\"mode\":\"lines\",\"showlegend\":false,\"x\":[0.31640625,0.318359375,0.314453125],\"y\":[0.24899359515568217,0.2456106834221492,0.2456106834221492],\"type\":\"scatter\"},{\"fill\":\"toself\",\"line\":{\"color\":\"LightSeaGreen\",\"width\":2},\"mode\":\"lines\",\"showlegend\":false,\"x\":[-0.302734375,-0.30078125,-0.3046875],\"y\":[0.1508891548832262,0.14750624314969324,0.14750624314969324],\"type\":\"scatter\"},{\"fill\":\"toself\",\"line\":{\"color\":\"LightSeaGreen\",\"width\":2},\"mode\":\"lines\",\"showlegend\":false,\"x\":[-0.189453125,-0.1875,-0.19140625],\"y\":[0.6650917383802367,0.6617088266467037,0.6617088266467037],\"type\":\"scatter\"},{\"fill\":\"toself\",\"line\":{\"color\":\"LightSeaGreen\",\"width\":2},\"mode\":\"lines\",\"showlegend\":false,\"x\":[0.162109375,0.1640625,0.16015625],\"y\":[0.25237650688921515,0.24899359515568217,0.24899359515568217],\"type\":\"scatter\"},{\"fill\":\"toself\",\"line\":{\"color\":\"LightSeaGreen\",\"width\":2},\"mode\":\"lines\",\"showlegend\":false,\"x\":[-0.048828125,-0.046875,-0.05078125],\"y\":[0.8410031485239507,0.8376202367904177,0.8376202367904177],\"type\":\"scatter\"},{\"fill\":\"toself\",\"line\":{\"color\":\"LightSeaGreen\",\"width\":2},\"mode\":\"lines\",\"showlegend\":false,\"x\":[-0.146484375,-0.14453125,-0.1484375],\"y\":[0.7395157965179618,0.7361328847844288,0.7361328847844288],\"type\":\"scatter\"},{\"fill\":\"toself\",\"line\":{\"color\":\"LightSeaGreen\",\"width\":2},\"mode\":\"lines\",\"showlegend\":false,\"x\":[-0.0390625,-0.037109375,-0.041015625],\"y\":[0.17456953701795694,0.17118662528442397,0.17118662528442397],\"type\":\"scatter\"},{\"fill\":\"toself\",\"line\":{\"color\":\"LightSeaGreen\",\"width\":2},\"mode\":\"lines\",\"showlegend\":false,\"x\":[0.25390625,0.255859375,0.251953125],\"y\":[0.5196265338383192,0.5162436221047862,0.5162436221047862],\"type\":\"scatter\"},{\"fill\":\"toself\",\"line\":{\"color\":\"LightSeaGreen\",\"width\":2},\"mode\":\"lines\",\"showlegend\":false,\"x\":[0.443359375,0.4453125,0.44140625],\"y\":[0.19148409568562177,0.1881011839520888,0.1881011839520888],\"type\":\"scatter\"},{\"fill\":\"toself\",\"line\":{\"color\":\"LightSeaGreen\",\"width\":2},\"mode\":\"lines\",\"showlegend\":false,\"x\":[0.169921875,0.171875,0.16796875],\"y\":[0.3809271527634678,0.37754424102993484,0.37754424102993484],\"type\":\"scatter\"},{\"fill\":\"toself\",\"line\":{\"color\":\"LightSeaGreen\",\"width\":2},\"mode\":\"lines\",\"showlegend\":false,\"x\":[0.36328125,0.365234375,0.361328125],\"y\":[0.357246770628737,0.35386385889520405,0.35386385889520405],\"type\":\"scatter\"},{\"fill\":\"toself\",\"line\":{\"color\":\"LightSeaGreen\",\"width\":2},\"mode\":\"lines\",\"showlegend\":false,\"x\":[0.08203125,0.083984375,0.080078125],\"y\":[0.5737531215748467,0.5703702098413137,0.5703702098413137],\"type\":\"scatter\"},{\"fill\":\"toself\",\"line\":{\"color\":\"LightSeaGreen\",\"width\":2},\"mode\":\"lines\",\"showlegend\":false,\"x\":[-0.021484375,-0.01953125,-0.0234375],\"y\":[0.8951297362604781,0.8917468245269451,0.8917468245269451],\"type\":\"scatter\"},{\"fill\":\"toself\",\"line\":{\"color\":\"LightSeaGreen\",\"width\":2},\"mode\":\"lines\",\"showlegend\":false,\"x\":[0.302734375,0.3046875,0.30078125],\"y\":[0.3673955058293359,0.36401259409580294,0.36401259409580294],\"type\":\"scatter\"},{\"fill\":\"toself\",\"line\":{\"color\":\"LightSeaGreen\",\"width\":2},\"mode\":\"lines\",\"showlegend\":false,\"x\":[0.263671875,0.265625,0.26171875],\"y\":[0.3673955058293359,0.36401259409580294,0.36401259409580294],\"type\":\"scatter\"},{\"fill\":\"toself\",\"line\":{\"color\":\"LightSeaGreen\",\"width\":2},\"mode\":\"lines\",\"showlegend\":false,\"x\":[0.06640625,0.068359375,0.064453125],\"y\":[0.8714493541257474,0.8680664423922144,0.8680664423922144],\"type\":\"scatter\"},{\"fill\":\"toself\",\"line\":{\"color\":\"LightSeaGreen\",\"width\":2},\"mode\":\"lines\",\"showlegend\":false,\"x\":[0.458984375,0.4609375,0.45703125],\"y\":[0.20501574261975364,0.20163283088622067,0.20163283088622067],\"type\":\"scatter\"},{\"fill\":\"toself\",\"line\":{\"color\":\"LightSeaGreen\",\"width\":2},\"mode\":\"lines\",\"showlegend\":false,\"x\":[0.349609375,0.3515625,0.34765625],\"y\":[0.3876929762305337,0.3843100644970008,0.3843100644970008],\"type\":\"scatter\"},{\"fill\":\"toself\",\"line\":{\"color\":\"LightSeaGreen\",\"width\":2},\"mode\":\"lines\",\"showlegend\":false,\"x\":[-0.046875,-0.044921875,-0.048828125],\"y\":[0.9188101183952089,0.9154272066616759,0.9154272066616759],\"type\":\"scatter\"},{\"fill\":\"toself\",\"line\":{\"color\":\"LightSeaGreen\",\"width\":2},\"mode\":\"lines\",\"showlegend\":false,\"x\":[-0.271484375,-0.26953125,-0.2734375],\"y\":[0.35386385889520405,0.3504809471616711,0.3504809471616711],\"type\":\"scatter\"},{\"fill\":\"toself\",\"line\":{\"color\":\"LightSeaGreen\",\"width\":2},\"mode\":\"lines\",\"showlegend\":false,\"x\":[0.208984375,0.2109375,0.20703125],\"y\":[0.47564868130239063,0.4722657695688577,0.4722657695688577],\"type\":\"scatter\"},{\"fill\":\"toself\",\"line\":{\"color\":\"LightSeaGreen\",\"width\":2},\"mode\":\"lines\",\"showlegend\":false,\"x\":[0.291015625,0.29296875,0.2890625],\"y\":[0.4891803282365225,0.4857974165029896,0.4857974165029896],\"type\":\"scatter\"},{\"fill\":\"toself\",\"line\":{\"color\":\"LightSeaGreen\",\"width\":2},\"mode\":\"lines\",\"showlegend\":false,\"x\":[-0.11328125,-0.111328125,-0.115234375],\"y\":[0.30312018289220954,0.2997372711586766,0.2997372711586766],\"type\":\"scatter\"},{\"fill\":\"toself\",\"line\":{\"color\":\"LightSeaGreen\",\"width\":2},\"mode\":\"lines\",\"showlegend\":false,\"x\":[0.080078125,0.08203125,0.078125],\"y\":[0.638028444511973,0.63464553277844,0.63464553277844],\"type\":\"scatter\"},{\"fill\":\"toself\",\"line\":{\"color\":\"LightSeaGreen\",\"width\":2},\"mode\":\"lines\",\"showlegend\":false,\"x\":[0.267578125,0.26953125,0.265625],\"y\":[0.35386385889520405,0.3504809471616711,0.3504809471616711],\"type\":\"scatter\"},{\"fill\":\"toself\",\"line\":{\"color\":\"LightSeaGreen\",\"width\":2},\"mode\":\"lines\",\"showlegend\":false,\"x\":[0.2109375,0.212890625,0.208984375],\"y\":[0.17456953701795694,0.17118662528442397,0.17118662528442397],\"type\":\"scatter\"},{\"fill\":\"toself\",\"line\":{\"color\":\"LightSeaGreen\",\"width\":2},\"mode\":\"lines\",\"showlegend\":false,\"x\":[-0.283203125,-0.28125,-0.28515625],\"y\":[0.35386385889520405,0.3504809471616711,0.3504809471616711],\"type\":\"scatter\"},{\"fill\":\"toself\",\"line\":{\"color\":\"LightSeaGreen\",\"width\":2},\"mode\":\"lines\",\"showlegend\":false,\"x\":[-0.107421875,-0.10546875,-0.109375],\"y\":[0.5974335037095774,0.5940505919760444,0.5940505919760444],\"type\":\"scatter\"},{\"fill\":\"toself\",\"line\":{\"color\":\"LightSeaGreen\",\"width\":2},\"mode\":\"lines\",\"showlegend\":false,\"x\":[-0.146484375,-0.14453125,-0.1484375],\"y\":[0.5839018567754456,0.5805189450419126,0.5805189450419126],\"type\":\"scatter\"},{\"fill\":\"toself\",\"line\":{\"color\":\"LightSeaGreen\",\"width\":2},\"mode\":\"lines\",\"showlegend\":false,\"x\":[0.16015625,0.162109375,0.158203125],\"y\":[0.7090695909161652,0.7056866791826322,0.7056866791826322],\"type\":\"scatter\"},{\"fill\":\"toself\",\"line\":{\"color\":\"LightSeaGreen\",\"width\":2},\"mode\":\"lines\",\"showlegend\":false,\"x\":[0.3203125,0.322265625,0.318359375],\"y\":[0.44520247570059407,0.4418195639670611,0.4418195639670611],\"type\":\"scatter\"},{\"fill\":\"toself\",\"line\":{\"color\":\"LightSeaGreen\",\"width\":2},\"mode\":\"lines\",\"showlegend\":false,\"x\":[0.130859375,0.1328125,0.12890625],\"y\":[0.7665790903862255,0.7631961786526925,0.7631961786526925],\"type\":\"scatter\"},{\"fill\":\"toself\",\"line\":{\"color\":\"LightSeaGreen\",\"width\":2},\"mode\":\"lines\",\"showlegend\":false,\"x\":[0.244140625,0.24609375,0.2421875],\"y\":[0.5230094455718521,0.5196265338383191,0.5196265338383191],\"type\":\"scatter\"},{\"fill\":\"toself\",\"line\":{\"color\":\"LightSeaGreen\",\"width\":2},\"mode\":\"lines\",\"showlegend\":false,\"x\":[-0.02734375,-0.025390625,-0.029296875],\"y\":[0.18133536048502288,0.1779524487514899,0.1779524487514899],\"type\":\"scatter\"},{\"fill\":\"toself\",\"line\":{\"color\":\"LightSeaGreen\",\"width\":2},\"mode\":\"lines\",\"showlegend\":false,\"x\":[-0.232421875,-0.23046875,-0.234375],\"y\":[0.3809271527634678,0.37754424102993484,0.37754424102993484],\"type\":\"scatter\"},{\"fill\":\"toself\",\"line\":{\"color\":\"LightSeaGreen\",\"width\":2},\"mode\":\"lines\",\"showlegend\":false,\"x\":[0.05078125,0.052734375,0.048828125],\"y\":[0.22193030128741845,0.21854738955388547,0.21854738955388547],\"type\":\"scatter\"},{\"fill\":\"toself\",\"line\":{\"color\":\"LightSeaGreen\",\"width\":2},\"mode\":\"lines\",\"showlegend\":false,\"x\":[0.306640625,0.30859375,0.3046875],\"y\":[0.21854738955388547,0.2151644778203525,0.2151644778203525],\"type\":\"scatter\"},{\"fill\":\"toself\",\"line\":{\"color\":\"LightSeaGreen\",\"width\":2},\"mode\":\"lines\",\"showlegend\":false,\"x\":[0.302734375,0.3046875,0.30078125],\"y\":[0.4147562700987974,0.41137335836526445,0.41137335836526445],\"type\":\"scatter\"},{\"fill\":\"toself\",\"line\":{\"color\":\"LightSeaGreen\",\"width\":2},\"mode\":\"lines\",\"showlegend\":false,\"x\":[-0.244140625,-0.2421875,-0.24609375],\"y\":[0.5433069159730499,0.5399240042395169,0.5399240042395169],\"type\":\"scatter\"},{\"fill\":\"toself\",\"line\":{\"color\":\"LightSeaGreen\",\"width\":2},\"mode\":\"lines\",\"showlegend\":false,\"x\":[0.13671875,0.138671875,0.134765625],\"y\":[0.37077841756286883,0.3673955058293359,0.3673955058293359],\"type\":\"scatter\"},{\"fill\":\"toself\",\"line\":{\"color\":\"LightSeaGreen\",\"width\":2},\"mode\":\"lines\",\"showlegend\":false,\"x\":[0.201171875,0.203125,0.19921875],\"y\":[0.5703702098413137,0.5669872981077807,0.5669872981077807],\"type\":\"scatter\"},{\"fill\":\"toself\",\"line\":{\"color\":\"LightSeaGreen\",\"width\":2},\"mode\":\"lines\",\"showlegend\":false,\"x\":[0.060546875,0.0625,0.05859375],\"y\":[0.23884485995508326,0.23546194822155028,0.23546194822155028],\"type\":\"scatter\"},{\"fill\":\"toself\",\"line\":{\"color\":\"LightSeaGreen\",\"width\":2},\"mode\":\"lines\",\"showlegend\":false,\"x\":[0.34765625,0.349609375,0.345703125],\"y\":[0.14074041968262732,0.13735750794909435,0.13735750794909435],\"type\":\"scatter\"},{\"fill\":\"toself\",\"line\":{\"color\":\"LightSeaGreen\",\"width\":2},\"mode\":\"lines\",\"showlegend\":false,\"x\":[0.103515625,0.10546875,0.1015625],\"y\":[0.7868765607874233,0.7834936490538903,0.7834936490538903],\"type\":\"scatter\"},{\"fill\":\"toself\",\"line\":{\"color\":\"LightSeaGreen\",\"width\":2},\"mode\":\"lines\",\"showlegend\":false,\"x\":[-0.197265625,-0.1953125,-0.19921875],\"y\":[0.19148409568562177,0.1881011839520888,0.1881011839520888],\"type\":\"scatter\"},{\"fill\":\"toself\",\"line\":{\"color\":\"LightSeaGreen\",\"width\":2},\"mode\":\"lines\",\"showlegend\":false,\"x\":[-0.044921875,-0.04296875,-0.046875],\"y\":[0.21178156608681956,0.20839865435328658,0.20839865435328658],\"type\":\"scatter\"},{\"fill\":\"toself\",\"line\":{\"color\":\"LightSeaGreen\",\"width\":2},\"mode\":\"lines\",\"showlegend\":false,\"x\":[0.169921875,0.171875,0.16796875],\"y\":[0.265908153823347,0.26252524208981404,0.26252524208981404],\"type\":\"scatter\"},{\"fill\":\"toself\",\"line\":{\"color\":\"LightSeaGreen\",\"width\":2},\"mode\":\"lines\",\"showlegend\":false,\"x\":[-0.16015625,-0.158203125,-0.162109375],\"y\":[0.7226012378502971,0.7192183261167641,0.7192183261167641],\"type\":\"scatter\"},{\"fill\":\"toself\",\"line\":{\"color\":\"LightSeaGreen\",\"width\":2},\"mode\":\"lines\",\"showlegend\":false,\"x\":[-0.30859375,-0.306640625,-0.310546875],\"y\":[0.2354619482215503,0.23207903648801734,0.23207903648801734],\"type\":\"scatter\"},{\"fill\":\"toself\",\"line\":{\"color\":\"LightSeaGreen\",\"width\":2},\"mode\":\"lines\",\"showlegend\":false,\"x\":[-0.353515625,-0.3515625,-0.35546875],\"y\":[0.17118662528442397,0.167803713550891,0.167803713550891],\"type\":\"scatter\"},{\"fill\":\"toself\",\"line\":{\"color\":\"LightSeaGreen\",\"width\":2},\"mode\":\"lines\",\"showlegend\":false,\"x\":[0.306640625,0.30859375,0.3046875],\"y\":[0.19148409568562177,0.1881011839520888,0.1881011839520888],\"type\":\"scatter\"},{\"fill\":\"toself\",\"line\":{\"color\":\"LightSeaGreen\",\"width\":2},\"mode\":\"lines\",\"showlegend\":false,\"x\":[0.31640625,0.318359375,0.314453125],\"y\":[0.19486700741915475,0.19148409568562177,0.19148409568562177],\"type\":\"scatter\"},{\"fill\":\"toself\",\"line\":{\"color\":\"LightSeaGreen\",\"width\":2},\"mode\":\"lines\",\"showlegend\":false,\"x\":[-0.07421875,-0.072265625,-0.076171875],\"y\":[0.5737531215748467,0.5703702098413137,0.5703702098413137],\"type\":\"scatter\"},{\"fill\":\"toself\",\"line\":{\"color\":\"LightSeaGreen\",\"width\":2},\"mode\":\"lines\",\"showlegend\":false,\"x\":[-0.1640625,-0.162109375,-0.166015625],\"y\":[0.20163283088622067,0.1982499191526877,0.1982499191526877],\"type\":\"scatter\"},{\"fill\":\"toself\",\"line\":{\"color\":\"LightSeaGreen\",\"width\":2},\"mode\":\"lines\",\"showlegend\":false,\"x\":[-0.322265625,-0.3203125,-0.32421875],\"y\":[0.4215220935658633,0.41813918183233034,0.41813918183233034],\"type\":\"scatter\"},{\"fill\":\"toself\",\"line\":{\"color\":\"LightSeaGreen\",\"width\":2},\"mode\":\"lines\",\"showlegend\":false,\"x\":[0.142578125,0.14453125,0.140625],\"y\":[0.2456106834221492,0.24222777168861623,0.24222777168861623],\"type\":\"scatter\"},{\"fill\":\"toself\",\"line\":{\"color\":\"LightSeaGreen\",\"width\":2},\"mode\":\"lines\",\"showlegend\":false,\"x\":[-0.072265625,-0.0703125,-0.07421875],\"y\":[0.6583259149131707,0.6549430031796377,0.6549430031796377],\"type\":\"scatter\"},{\"fill\":\"toself\",\"line\":{\"color\":\"LightSeaGreen\",\"width\":2},\"mode\":\"lines\",\"showlegend\":false,\"x\":[-0.162109375,-0.16015625,-0.1640625],\"y\":[0.17118662528442397,0.167803713550891,0.167803713550891],\"type\":\"scatter\"},{\"fill\":\"toself\",\"line\":{\"color\":\"LightSeaGreen\",\"width\":2},\"mode\":\"lines\",\"showlegend\":false,\"x\":[-0.07421875,-0.072265625,-0.076171875],\"y\":[0.6549430031796378,0.6515600914461048,0.6515600914461048],\"type\":\"scatter\"},{\"fill\":\"toself\",\"line\":{\"color\":\"LightSeaGreen\",\"width\":2},\"mode\":\"lines\",\"showlegend\":false,\"x\":[-0.10546875,-0.103515625,-0.107421875],\"y\":[0.14074041968262732,0.13735750794909435,0.13735750794909435],\"type\":\"scatter\"},{\"fill\":\"toself\",\"line\":{\"color\":\"LightSeaGreen\",\"width\":2},\"mode\":\"lines\",\"showlegend\":false,\"x\":[-0.349609375,-0.34765625,-0.3515625],\"y\":[0.25237650688921515,0.24899359515568217,0.24899359515568217],\"type\":\"scatter\"},{\"fill\":\"toself\",\"line\":{\"color\":\"LightSeaGreen\",\"width\":2},\"mode\":\"lines\",\"showlegend\":false,\"x\":[-0.068359375,-0.06640625,-0.0703125],\"y\":[0.7868765607874233,0.7834936490538903,0.7834936490538903],\"type\":\"scatter\"},{\"fill\":\"toself\",\"line\":{\"color\":\"LightSeaGreen\",\"width\":2},\"mode\":\"lines\",\"showlegend\":false,\"x\":[-0.177734375,-0.17578125,-0.1796875],\"y\":[0.638028444511973,0.63464553277844,0.63464553277844],\"type\":\"scatter\"},{\"fill\":\"toself\",\"line\":{\"color\":\"LightSeaGreen\",\"width\":2},\"mode\":\"lines\",\"showlegend\":false,\"x\":[-0.09765625,-0.095703125,-0.099609375],\"y\":[0.7090695909161652,0.7056866791826322,0.7056866791826322],\"type\":\"scatter\"},{\"fill\":\"toself\",\"line\":{\"color\":\"LightSeaGreen\",\"width\":2},\"mode\":\"lines\",\"showlegend\":false,\"x\":[-0.00390625,-0.001953125,-0.005859375],\"y\":[0.9526392357305385,0.9492563239970055,0.9492563239970055],\"type\":\"scatter\"},{\"fill\":\"toself\",\"line\":{\"color\":\"LightSeaGreen\",\"width\":2},\"mode\":\"lines\",\"showlegend\":false,\"x\":[-0.099609375,-0.09765625,-0.1015625],\"y\":[0.2456106834221492,0.24222777168861623,0.24222777168861623],\"type\":\"scatter\"},{\"fill\":\"toself\",\"line\":{\"color\":\"LightSeaGreen\",\"width\":2},\"mode\":\"lines\",\"showlegend\":false,\"x\":[-0.26171875,-0.259765625,-0.263671875],\"y\":[0.5331581807724511,0.5297752690389181,0.5297752690389181],\"type\":\"scatter\"},{\"fill\":\"toself\",\"line\":{\"color\":\"LightSeaGreen\",\"width\":2},\"mode\":\"lines\",\"showlegend\":false,\"x\":[0.302734375,0.3046875,0.30078125],\"y\":[0.47564868130239063,0.4722657695688577,0.4722657695688577],\"type\":\"scatter\"},{\"fill\":\"toself\",\"line\":{\"color\":\"LightSeaGreen\",\"width\":2},\"mode\":\"lines\",\"showlegend\":false,\"x\":[0.3828125,0.384765625,0.380859375],\"y\":[0.2557594186227481,0.25237650688921515,0.25237650688921515],\"type\":\"scatter\"},{\"fill\":\"toself\",\"line\":{\"color\":\"LightSeaGreen\",\"width\":2},\"mode\":\"lines\",\"showlegend\":false,\"x\":[0.181640625,0.18359375,0.1796875],\"y\":[0.6244967975778412,0.6211138858443082,0.6211138858443082],\"type\":\"scatter\"},{\"fill\":\"toself\",\"line\":{\"color\":\"LightSeaGreen\",\"width\":2},\"mode\":\"lines\",\"showlegend\":false,\"x\":[-0.470703125,-0.46875,-0.47265625],\"y\":[0.1779524487514899,0.17456953701795694,0.17456953701795694],\"type\":\"scatter\"},{\"fill\":\"toself\",\"line\":{\"color\":\"LightSeaGreen\",\"width\":2},\"mode\":\"lines\",\"showlegend\":false,\"x\":[0.14453125,0.146484375,0.142578125],\"y\":[0.5737531215748467,0.5703702098413137,0.5703702098413137],\"type\":\"scatter\"},{\"fill\":\"toself\",\"line\":{\"color\":\"LightSeaGreen\",\"width\":2},\"mode\":\"lines\",\"showlegend\":false,\"x\":[-0.4375,-0.435546875,-0.439453125],\"y\":[0.24222777168861623,0.23884485995508326,0.23884485995508326],\"type\":\"scatter\"},{\"fill\":\"toself\",\"line\":{\"color\":\"LightSeaGreen\",\"width\":2},\"mode\":\"lines\",\"showlegend\":false,\"x\":[0.31640625,0.318359375,0.314453125],\"y\":[0.24899359515568217,0.2456106834221492,0.2456106834221492],\"type\":\"scatter\"},{\"fill\":\"toself\",\"line\":{\"color\":\"LightSeaGreen\",\"width\":2},\"mode\":\"lines\",\"showlegend\":false,\"x\":[-0.3203125,-0.318359375,-0.322265625],\"y\":[0.2557594186227481,0.25237650688921515,0.25237650688921515],\"type\":\"scatter\"},{\"fill\":\"toself\",\"line\":{\"color\":\"LightSeaGreen\",\"width\":2},\"mode\":\"lines\",\"showlegend\":false,\"x\":[-0.212890625,-0.2109375,-0.21484375],\"y\":[0.4891803282365225,0.4857974165029896,0.4857974165029896],\"type\":\"scatter\"},{\"fill\":\"toself\",\"line\":{\"color\":\"LightSeaGreen\",\"width\":2},\"mode\":\"lines\",\"showlegend\":false,\"x\":[0.10546875,0.107421875,0.103515625],\"y\":[0.5872847685089786,0.5839018567754456,0.5839018567754456],\"type\":\"scatter\"},{\"fill\":\"toself\",\"line\":{\"color\":\"LightSeaGreen\",\"width\":2},\"mode\":\"lines\",\"showlegend\":false,\"x\":[-0.22265625,-0.220703125,-0.224609375],\"y\":[0.5737531215748467,0.5703702098413137,0.5703702098413137],\"type\":\"scatter\"},{\"fill\":\"toself\",\"line\":{\"color\":\"LightSeaGreen\",\"width\":2},\"mode\":\"lines\",\"showlegend\":false,\"x\":[-0.015625,-0.013671875,-0.017578125],\"y\":[0.9729367061317363,0.9695537943982033,0.9695537943982033],\"type\":\"scatter\"},{\"fill\":\"toself\",\"line\":{\"color\":\"LightSeaGreen\",\"width\":2},\"mode\":\"lines\",\"showlegend\":false,\"x\":[-0.083984375,-0.08203125,-0.0859375],\"y\":[0.638028444511973,0.63464553277844,0.63464553277844],\"type\":\"scatter\"},{\"fill\":\"toself\",\"line\":{\"color\":\"LightSeaGreen\",\"width\":2},\"mode\":\"lines\",\"showlegend\":false,\"x\":[0.478515625,0.48046875,0.4765625],\"y\":[0.14412333141616027,0.1407404196826273,0.1407404196826273],\"type\":\"scatter\"},{\"fill\":\"toself\",\"line\":{\"color\":\"LightSeaGreen\",\"width\":2},\"mode\":\"lines\",\"showlegend\":false,\"x\":[-0.015625,-0.013671875,-0.017578125],\"y\":[0.8105569429221541,0.8071740311886211,0.8071740311886211],\"type\":\"scatter\"},{\"fill\":\"toself\",\"line\":{\"color\":\"LightSeaGreen\",\"width\":2},\"mode\":\"lines\",\"showlegend\":false,\"x\":[0.240234375,0.2421875,0.23828125],\"y\":[0.5162436221047862,0.5128607103712532,0.5128607103712532],\"type\":\"scatter\"},{\"fill\":\"toself\",\"line\":{\"color\":\"LightSeaGreen\",\"width\":2},\"mode\":\"lines\",\"showlegend\":false,\"x\":[-0.166015625,-0.1640625,-0.16796875],\"y\":[0.7124525026496981,0.7090695909161651,0.7090695909161651],\"type\":\"scatter\"},{\"fill\":\"toself\",\"line\":{\"color\":\"LightSeaGreen\",\"width\":2},\"mode\":\"lines\",\"showlegend\":false,\"x\":[-0.197265625,-0.1953125,-0.19921875],\"y\":[0.6515600914461048,0.6481771797125718,0.6481771797125718],\"type\":\"scatter\"},{\"fill\":\"toself\",\"line\":{\"color\":\"LightSeaGreen\",\"width\":2},\"mode\":\"lines\",\"showlegend\":false,\"x\":[-0.1875,-0.185546875,-0.189453125],\"y\":[0.24222777168861623,0.23884485995508326,0.23884485995508326],\"type\":\"scatter\"},{\"fill\":\"toself\",\"line\":{\"color\":\"LightSeaGreen\",\"width\":2},\"mode\":\"lines\",\"showlegend\":false,\"x\":[0.08984375,0.091796875,0.087890625],\"y\":[0.2895885359580777,0.28620562422454476,0.28620562422454476],\"type\":\"scatter\"},{\"fill\":\"toself\",\"line\":{\"color\":\"LightSeaGreen\",\"width\":2},\"mode\":\"lines\",\"showlegend\":false,\"x\":[0.353515625,0.35546875,0.3515625],\"y\":[0.2794398007574789,0.27605688902394593,0.27605688902394593],\"type\":\"scatter\"},{\"fill\":\"toself\",\"line\":{\"color\":\"LightSeaGreen\",\"width\":2},\"mode\":\"lines\",\"showlegend\":false,\"x\":[-0.306640625,-0.3046875,-0.30859375],\"y\":[0.2253132130209514,0.22193030128741842,0.22193030128741842],\"type\":\"scatter\"},{\"fill\":\"toself\",\"line\":{\"color\":\"LightSeaGreen\",\"width\":2},\"mode\":\"lines\",\"showlegend\":false,\"x\":[-0.01171875,-0.009765625,-0.013671875],\"y\":[0.9661708826646704,0.9627879709311374,0.9627879709311374],\"type\":\"scatter\"},{\"fill\":\"toself\",\"line\":{\"color\":\"LightSeaGreen\",\"width\":2},\"mode\":\"lines\",\"showlegend\":false,\"x\":[0.171875,0.173828125,0.169921875],\"y\":[0.1610378900838251,0.15765497835029213,0.15765497835029213],\"type\":\"scatter\"},{\"fill\":\"toself\",\"line\":{\"color\":\"LightSeaGreen\",\"width\":2},\"mode\":\"lines\",\"showlegend\":false,\"x\":[0.349609375,0.3515625,0.34765625],\"y\":[0.16442080181735805,0.16103789008382507,0.16103789008382507],\"type\":\"scatter\"},{\"fill\":\"toself\",\"line\":{\"color\":\"LightSeaGreen\",\"width\":2},\"mode\":\"lines\",\"showlegend\":false,\"x\":[0.39453125,0.396484375,0.392578125],\"y\":[0.16780371355089102,0.16442080181735805,0.16442080181735805],\"type\":\"scatter\"},{\"fill\":\"toself\",\"line\":{\"color\":\"LightSeaGreen\",\"width\":2},\"mode\":\"lines\",\"showlegend\":false,\"x\":[-0.033203125,-0.03125,-0.03515625],\"y\":[0.6109651506437093,0.6075822389101763,0.6075822389101763],\"type\":\"scatter\"},{\"fill\":\"toself\",\"line\":{\"color\":\"LightSeaGreen\",\"width\":2},\"mode\":\"lines\",\"showlegend\":false,\"x\":[0.158203125,0.16015625,0.15625],\"y\":[0.18471827221855583,0.18133536048502286,0.18133536048502286],\"type\":\"scatter\"},{\"fill\":\"toself\",\"line\":{\"color\":\"LightSeaGreen\",\"width\":2},\"mode\":\"lines\",\"showlegend\":false,\"x\":[0.19140625,0.193359375,0.189453125],\"y\":[0.6549430031796378,0.6515600914461048,0.6515600914461048],\"type\":\"scatter\"},{\"fill\":\"toself\",\"line\":{\"color\":\"LightSeaGreen\",\"width\":2},\"mode\":\"lines\",\"showlegend\":false,\"x\":[-0.412109375,-0.41015625,-0.4140625],\"y\":[0.14412333141616027,0.1407404196826273,0.1407404196826273],\"type\":\"scatter\"},{\"fill\":\"toself\",\"line\":{\"color\":\"LightSeaGreen\",\"width\":2},\"mode\":\"lines\",\"showlegend\":false,\"x\":[-0.494140625,-0.4921875,-0.49609375],\"y\":[0.13735750794909435,0.13397459621556138,0.13397459621556138],\"type\":\"scatter\"},{\"fill\":\"toself\",\"line\":{\"color\":\"LightSeaGreen\",\"width\":2},\"mode\":\"lines\",\"showlegend\":false,\"x\":[0.16015625,0.162109375,0.158203125],\"y\":[0.6008164154431104,0.5974335037095774,0.5974335037095774],\"type\":\"scatter\"},{\"fill\":\"toself\",\"line\":{\"color\":\"LightSeaGreen\",\"width\":2},\"mode\":\"lines\",\"showlegend\":false,\"x\":[0.033203125,0.03515625,0.03125],\"y\":[0.5974335037095774,0.5940505919760444,0.5940505919760444],\"type\":\"scatter\"},{\"fill\":\"toself\",\"line\":{\"color\":\"LightSeaGreen\",\"width\":2},\"mode\":\"lines\",\"showlegend\":false,\"x\":[0.048828125,0.05078125,0.046875],\"y\":[0.13735750794909435,0.13397459621556138,0.13397459621556138],\"type\":\"scatter\"},{\"fill\":\"toself\",\"line\":{\"color\":\"LightSeaGreen\",\"width\":2},\"mode\":\"lines\",\"showlegend\":false,\"x\":[-0.046875,-0.044921875,-0.048828125],\"y\":[0.9188101183952089,0.9154272066616759,0.9154272066616759],\"type\":\"scatter\"},{\"fill\":\"toself\",\"line\":{\"color\":\"LightSeaGreen\",\"width\":2},\"mode\":\"lines\",\"showlegend\":false,\"x\":[0.201171875,0.203125,0.19921875],\"y\":[0.19148409568562177,0.1881011839520888,0.1881011839520888],\"type\":\"scatter\"},{\"fill\":\"toself\",\"line\":{\"color\":\"LightSeaGreen\",\"width\":2},\"mode\":\"lines\",\"showlegend\":false,\"x\":[0.072265625,0.07421875,0.0703125],\"y\":[0.5703702098413137,0.5669872981077807,0.5669872981077807],\"type\":\"scatter\"},{\"fill\":\"toself\",\"line\":{\"color\":\"LightSeaGreen\",\"width\":2},\"mode\":\"lines\",\"showlegend\":false,\"x\":[0.091796875,0.09375,0.08984375],\"y\":[0.7868765607874233,0.7834936490538903,0.7834936490538903],\"type\":\"scatter\"},{\"fill\":\"toself\",\"line\":{\"color\":\"LightSeaGreen\",\"width\":2},\"mode\":\"lines\",\"showlegend\":false,\"x\":[-0.23046875,-0.228515625,-0.232421875],\"y\":[0.5872847685089786,0.5839018567754456,0.5839018567754456],\"type\":\"scatter\"},{\"fill\":\"toself\",\"line\":{\"color\":\"LightSeaGreen\",\"width\":2},\"mode\":\"lines\",\"showlegend\":false,\"x\":[-0.39453125,-0.392578125,-0.396484375],\"y\":[0.3166518298263414,0.31326891809280843,0.31326891809280843],\"type\":\"scatter\"},{\"fill\":\"toself\",\"line\":{\"color\":\"LightSeaGreen\",\"width\":2},\"mode\":\"lines\",\"showlegend\":false,\"x\":[-0.404296875,-0.40234375,-0.40625],\"y\":[0.2456106834221492,0.24222777168861623,0.24222777168861623],\"type\":\"scatter\"},{\"fill\":\"toself\",\"line\":{\"color\":\"LightSeaGreen\",\"width\":2},\"mode\":\"lines\",\"showlegend\":false,\"x\":[0.169921875,0.171875,0.16796875],\"y\":[0.20501574261975364,0.20163283088622067,0.20163283088622067],\"type\":\"scatter\"},{\"fill\":\"toself\",\"line\":{\"color\":\"LightSeaGreen\",\"width\":2},\"mode\":\"lines\",\"showlegend\":false,\"x\":[-0.23046875,-0.228515625,-0.232421875],\"y\":[0.16780371355089102,0.16442080181735805,0.16442080181735805],\"type\":\"scatter\"},{\"fill\":\"toself\",\"line\":{\"color\":\"LightSeaGreen\",\"width\":2},\"mode\":\"lines\",\"showlegend\":false,\"x\":[0.015625,0.017578125,0.013671875],\"y\":[0.1610378900838251,0.15765497835029213,0.15765497835029213],\"type\":\"scatter\"},{\"fill\":\"toself\",\"line\":{\"color\":\"LightSeaGreen\",\"width\":2},\"mode\":\"lines\",\"showlegend\":false,\"x\":[0.138671875,0.140625,0.13671875],\"y\":[0.13735750794909435,0.13397459621556138,0.13397459621556138],\"type\":\"scatter\"},{\"fill\":\"toself\",\"line\":{\"color\":\"LightSeaGreen\",\"width\":2},\"mode\":\"lines\",\"showlegend\":false,\"x\":[0.2890625,0.291015625,0.287109375],\"y\":[0.41813918183233034,0.4147562700987974,0.4147562700987974],\"type\":\"scatter\"},{\"fill\":\"toself\",\"line\":{\"color\":\"LightSeaGreen\",\"width\":2},\"mode\":\"lines\",\"showlegend\":false,\"x\":[0.1015625,0.103515625,0.099609375],\"y\":[0.14750624314969324,0.14412333141616027,0.14412333141616027],\"type\":\"scatter\"},{\"fill\":\"toself\",\"line\":{\"color\":\"LightSeaGreen\",\"width\":2},\"mode\":\"lines\",\"showlegend\":false,\"x\":[-0.15625,-0.154296875,-0.158203125],\"y\":[0.4046075348981985,0.40122462316466556,0.40122462316466556],\"type\":\"scatter\"},{\"fill\":\"toself\",\"line\":{\"color\":\"LightSeaGreen\",\"width\":2},\"mode\":\"lines\",\"showlegend\":false,\"x\":[0.130859375,0.1328125,0.12890625],\"y\":[0.33356638849400627,0.3301834767604733,0.3301834767604733],\"type\":\"scatter\"},{\"fill\":\"toself\",\"line\":{\"color\":\"LightSeaGreen\",\"width\":2},\"mode\":\"lines\",\"showlegend\":false,\"x\":[-0.236328125,-0.234375,-0.23828125],\"y\":[0.5297752690389181,0.5263923573053851,0.5263923573053851],\"type\":\"scatter\"},{\"fill\":\"toself\",\"line\":{\"color\":\"LightSeaGreen\",\"width\":2},\"mode\":\"lines\",\"showlegend\":false,\"x\":[0.294921875,0.296875,0.29296875],\"y\":[0.15765497835029213,0.15427206661675916,0.15427206661675916],\"type\":\"scatter\"},{\"fill\":\"toself\",\"line\":{\"color\":\"LightSeaGreen\",\"width\":2},\"mode\":\"lines\",\"showlegend\":false,\"x\":[-0.046875,-0.044921875,-0.048828125],\"y\":[0.5940505919760445,0.5906676802425115,0.5906676802425115],\"type\":\"scatter\"},{\"fill\":\"toself\",\"line\":{\"color\":\"LightSeaGreen\",\"width\":2},\"mode\":\"lines\",\"showlegend\":false,\"x\":[-0.080078125,-0.078125,-0.08203125],\"y\":[0.20501574261975364,0.20163283088622067,0.20163283088622067],\"type\":\"scatter\"},{\"fill\":\"toself\",\"line\":{\"color\":\"LightSeaGreen\",\"width\":2},\"mode\":\"lines\",\"showlegend\":false,\"x\":[0.197265625,0.19921875,0.1953125],\"y\":[0.6244967975778412,0.6211138858443082,0.6211138858443082],\"type\":\"scatter\"},{\"fill\":\"toself\",\"line\":{\"color\":\"LightSeaGreen\",\"width\":2},\"mode\":\"lines\",\"showlegend\":false,\"x\":[-0.095703125,-0.09375,-0.09765625],\"y\":[0.72598414958383,0.722601237850297,0.722601237850297],\"type\":\"scatter\"},{\"fill\":\"toself\",\"line\":{\"color\":\"LightSeaGreen\",\"width\":2},\"mode\":\"lines\",\"showlegend\":false,\"x\":[-0.1875,-0.185546875,-0.189453125],\"y\":[0.24222777168861623,0.23884485995508326,0.23884485995508326],\"type\":\"scatter\"},{\"fill\":\"toself\",\"line\":{\"color\":\"LightSeaGreen\",\"width\":2},\"mode\":\"lines\",\"showlegend\":false,\"x\":[-0.185546875,-0.18359375,-0.1875],\"y\":[0.4350537404999952,0.43167082876646223,0.43167082876646223],\"type\":\"scatter\"},{\"fill\":\"toself\",\"line\":{\"color\":\"LightSeaGreen\",\"width\":2},\"mode\":\"lines\",\"showlegend\":false,\"x\":[0.201171875,0.203125,0.19921875],\"y\":[0.1508891548832262,0.14750624314969324,0.14750624314969324],\"type\":\"scatter\"},{\"fill\":\"toself\",\"line\":{\"color\":\"LightSeaGreen\",\"width\":2},\"mode\":\"lines\",\"showlegend\":false,\"x\":[0.205078125,0.20703125,0.203125],\"y\":[0.4621170343682588,0.45873412263472585,0.45873412263472585],\"type\":\"scatter\"},{\"fill\":\"toself\",\"line\":{\"color\":\"LightSeaGreen\",\"width\":2},\"mode\":\"lines\",\"showlegend\":false,\"x\":[0.34375,0.345703125,0.341796875],\"y\":[0.29635435942514365,0.2929714476916107,0.2929714476916107],\"type\":\"scatter\"},{\"fill\":\"toself\",\"line\":{\"color\":\"LightSeaGreen\",\"width\":2},\"mode\":\"lines\",\"showlegend\":false,\"x\":[-0.31640625,-0.314453125,-0.318359375],\"y\":[0.19486700741915475,0.19148409568562177,0.19148409568562177],\"type\":\"scatter\"},{\"fill\":\"toself\",\"line\":{\"color\":\"LightSeaGreen\",\"width\":2},\"mode\":\"lines\",\"showlegend\":false,\"x\":[0.203125,0.205078125,0.201171875],\"y\":[0.1610378900838251,0.15765497835029213,0.15765497835029213],\"type\":\"scatter\"},{\"fill\":\"toself\",\"line\":{\"color\":\"LightSeaGreen\",\"width\":2},\"mode\":\"lines\",\"showlegend\":false,\"x\":[-0.169921875,-0.16796875,-0.171875],\"y\":[0.6786233853143685,0.6752404735808355,0.6752404735808355],\"type\":\"scatter\"},{\"fill\":\"toself\",\"line\":{\"color\":\"LightSeaGreen\",\"width\":2},\"mode\":\"lines\",\"showlegend\":false,\"x\":[0.0703125,0.072265625,0.068359375],\"y\":[0.8511518837245496,0.8477689719910166,0.8477689719910166],\"type\":\"scatter\"},{\"fill\":\"toself\",\"line\":{\"color\":\"LightSeaGreen\",\"width\":2},\"mode\":\"lines\",\"showlegend\":false,\"x\":[-0.130859375,-0.12890625,-0.1328125],\"y\":[0.7733449138532915,0.7699620021197585,0.7699620021197585],\"type\":\"scatter\"},{\"fill\":\"toself\",\"line\":{\"color\":\"LightSeaGreen\",\"width\":2},\"mode\":\"lines\",\"showlegend\":false,\"x\":[0.333984375,0.3359375,0.33203125],\"y\":[0.4215220935658633,0.41813918183233034,0.41813918183233034],\"type\":\"scatter\"},{\"fill\":\"toself\",\"line\":{\"color\":\"LightSeaGreen\",\"width\":2},\"mode\":\"lines\",\"showlegend\":false,\"x\":[-0.455078125,-0.453125,-0.45703125],\"y\":[0.15765497835029213,0.15427206661675916,0.15427206661675916],\"type\":\"scatter\"},{\"fill\":\"toself\",\"line\":{\"color\":\"LightSeaGreen\",\"width\":2},\"mode\":\"lines\",\"showlegend\":false,\"x\":[0.177734375,0.1796875,0.17578125],\"y\":[0.5771360333083796,0.5737531215748466,0.5737531215748466],\"type\":\"scatter\"},{\"fill\":\"toself\",\"line\":{\"color\":\"LightSeaGreen\",\"width\":2},\"mode\":\"lines\",\"showlegend\":false,\"x\":[0.111328125,0.11328125,0.109375],\"y\":[0.2456106834221492,0.24222777168861623,0.24222777168861623],\"type\":\"scatter\"},{\"fill\":\"toself\",\"line\":{\"color\":\"LightSeaGreen\",\"width\":2},\"mode\":\"lines\",\"showlegend\":false,\"x\":[0.099609375,0.1015625,0.09765625],\"y\":[0.7936423842544892,0.7902594725209562,0.7902594725209562],\"type\":\"scatter\"},{\"fill\":\"toself\",\"line\":{\"color\":\"LightSeaGreen\",\"width\":2},\"mode\":\"lines\",\"showlegend\":false,\"x\":[0.083984375,0.0859375,0.08203125],\"y\":[0.7056866791826322,0.7023037674490992,0.7023037674490992],\"type\":\"scatter\"},{\"fill\":\"toself\",\"line\":{\"color\":\"LightSeaGreen\",\"width\":2},\"mode\":\"lines\",\"showlegend\":false,\"x\":[0.275390625,0.27734375,0.2734375],\"y\":[0.14412333141616027,0.1407404196826273,0.1407404196826273],\"type\":\"scatter\"},{\"fill\":\"toself\",\"line\":{\"color\":\"LightSeaGreen\",\"width\":2},\"mode\":\"lines\",\"showlegend\":false,\"x\":[-0.044921875,-0.04296875,-0.046875],\"y\":[0.13735750794909435,0.13397459621556138,0.13397459621556138],\"type\":\"scatter\"},{\"fill\":\"toself\",\"line\":{\"color\":\"LightSeaGreen\",\"width\":2},\"mode\":\"lines\",\"showlegend\":false,\"x\":[-0.115234375,-0.11328125,-0.1171875],\"y\":[0.7462816199850278,0.7428987082514948,0.7428987082514948],\"type\":\"scatter\"},{\"fill\":\"toself\",\"line\":{\"color\":\"LightSeaGreen\",\"width\":2},\"mode\":\"lines\",\"showlegend\":false,\"x\":[0.197265625,0.19921875,0.1953125],\"y\":[0.3673955058293359,0.36401259409580294,0.36401259409580294],\"type\":\"scatter\"},{\"fill\":\"toself\",\"line\":{\"color\":\"LightSeaGreen\",\"width\":2},\"mode\":\"lines\",\"showlegend\":false,\"x\":[-0.474609375,-0.47265625,-0.4765625],\"y\":[0.13735750794909435,0.13397459621556138,0.13397459621556138],\"type\":\"scatter\"},{\"fill\":\"toself\",\"line\":{\"color\":\"LightSeaGreen\",\"width\":2},\"mode\":\"lines\",\"showlegend\":false,\"x\":[0.17578125,0.177734375,0.173828125],\"y\":[0.4113733583652644,0.40799044663173145,0.40799044663173145],\"type\":\"scatter\"},{\"fill\":\"toself\",\"line\":{\"color\":\"LightSeaGreen\",\"width\":2},\"mode\":\"lines\",\"showlegend\":false,\"x\":[-0.005859375,-0.00390625,-0.0078125],\"y\":[0.9830854413323351,0.9797025295988021,0.9797025295988021],\"type\":\"scatter\"},{\"fill\":\"toself\",\"line\":{\"color\":\"LightSeaGreen\",\"width\":2},\"mode\":\"lines\",\"showlegend\":false,\"x\":[-0.291015625,-0.2890625,-0.29296875],\"y\":[0.20501574261975364,0.20163283088622067,0.20163283088622067],\"type\":\"scatter\"},{\"fill\":\"toself\",\"line\":{\"color\":\"LightSeaGreen\",\"width\":2},\"mode\":\"lines\",\"showlegend\":false,\"x\":[0.380859375,0.3828125,0.37890625],\"y\":[0.2997372711586766,0.29635435942514365,0.29635435942514365],\"type\":\"scatter\"},{\"fill\":\"toself\",\"line\":{\"color\":\"LightSeaGreen\",\"width\":2},\"mode\":\"lines\",\"showlegend\":false,\"x\":[-0.197265625,-0.1953125,-0.19921875],\"y\":[0.631262621044907,0.627879709311374,0.627879709311374],\"type\":\"scatter\"},{\"fill\":\"toself\",\"line\":{\"color\":\"LightSeaGreen\",\"width\":2},\"mode\":\"lines\",\"showlegend\":false,\"x\":[0.013671875,0.015625,0.01171875],\"y\":[0.8004082077215552,0.7970252959880222,0.7970252959880222],\"type\":\"scatter\"},{\"fill\":\"toself\",\"line\":{\"color\":\"LightSeaGreen\",\"width\":2},\"mode\":\"lines\",\"showlegend\":false,\"x\":[-0.025390625,-0.0234375,-0.02734375],\"y\":[0.5771360333083796,0.5737531215748466,0.5737531215748466],\"type\":\"scatter\"},{\"fill\":\"toself\",\"line\":{\"color\":\"LightSeaGreen\",\"width\":2},\"mode\":\"lines\",\"showlegend\":false,\"x\":[-0.234375,-0.232421875,-0.236328125],\"y\":[0.539924004239517,0.536541092505984,0.536541092505984],\"type\":\"scatter\"},{\"fill\":\"toself\",\"line\":{\"color\":\"LightSeaGreen\",\"width\":2},\"mode\":\"lines\",\"showlegend\":false,\"x\":[0.12890625,0.130859375,0.126953125],\"y\":[0.736132884784429,0.732749973050896,0.732749973050896],\"type\":\"scatter\"},{\"fill\":\"toself\",\"line\":{\"color\":\"LightSeaGreen\",\"width\":2},\"mode\":\"lines\",\"showlegend\":false,\"x\":[-0.041015625,-0.0390625,-0.04296875],\"y\":[0.17118662528442397,0.167803713550891,0.167803713550891],\"type\":\"scatter\"},{\"fill\":\"toself\",\"line\":{\"color\":\"LightSeaGreen\",\"width\":2},\"mode\":\"lines\",\"showlegend\":false,\"x\":[0.14453125,0.146484375,0.142578125],\"y\":[0.6955379439820334,0.6921550322485004,0.6921550322485004],\"type\":\"scatter\"},{\"fill\":\"toself\",\"line\":{\"color\":\"LightSeaGreen\",\"width\":2},\"mode\":\"lines\",\"showlegend\":false,\"x\":[-0.263671875,-0.26171875,-0.265625],\"y\":[0.15765497835029213,0.15427206661675916,0.15427206661675916],\"type\":\"scatter\"},{\"fill\":\"toself\",\"line\":{\"color\":\"LightSeaGreen\",\"width\":2},\"mode\":\"lines\",\"showlegend\":false,\"x\":[0.287109375,0.2890625,0.28515625],\"y\":[0.3809271527634678,0.37754424102993484,0.37754424102993484],\"type\":\"scatter\"},{\"fill\":\"toself\",\"line\":{\"color\":\"LightSeaGreen\",\"width\":2},\"mode\":\"lines\",\"showlegend\":false,\"x\":[0.0078125,0.009765625,0.005859375],\"y\":[0.14750624314969324,0.14412333141616027,0.14412333141616027],\"type\":\"scatter\"},{\"fill\":\"toself\",\"line\":{\"color\":\"LightSeaGreen\",\"width\":2},\"mode\":\"lines\",\"showlegend\":false,\"x\":[0.060546875,0.0625,0.05859375],\"y\":[0.23884485995508326,0.23546194822155028,0.23546194822155028],\"type\":\"scatter\"},{\"fill\":\"toself\",\"line\":{\"color\":\"LightSeaGreen\",\"width\":2},\"mode\":\"lines\",\"showlegend\":false,\"x\":[0.181640625,0.18359375,0.1796875],\"y\":[0.4350537404999952,0.43167082876646223,0.43167082876646223],\"type\":\"scatter\"},{\"fill\":\"toself\",\"line\":{\"color\":\"LightSeaGreen\",\"width\":2},\"mode\":\"lines\",\"showlegend\":false,\"x\":[0.32421875,0.326171875,0.322265625],\"y\":[0.4384366522335281,0.4350537404999952,0.4350537404999952],\"type\":\"scatter\"},{\"fill\":\"toself\",\"line\":{\"color\":\"LightSeaGreen\",\"width\":2},\"mode\":\"lines\",\"showlegend\":false,\"x\":[0.013671875,0.015625,0.01171875],\"y\":[0.8951297362604781,0.8917468245269451,0.8917468245269451],\"type\":\"scatter\"},{\"fill\":\"toself\",\"line\":{\"color\":\"LightSeaGreen\",\"width\":2},\"mode\":\"lines\",\"showlegend\":false,\"x\":[0.314453125,0.31640625,0.3125],\"y\":[0.21854738955388547,0.2151644778203525,0.2151644778203525],\"type\":\"scatter\"},{\"fill\":\"toself\",\"line\":{\"color\":\"LightSeaGreen\",\"width\":2},\"mode\":\"lines\",\"showlegend\":false,\"x\":[0.103515625,0.10546875,0.1015625],\"y\":[0.7124525026496981,0.7090695909161651,0.7090695909161651],\"type\":\"scatter\"},{\"fill\":\"toself\",\"line\":{\"color\":\"LightSeaGreen\",\"width\":2},\"mode\":\"lines\",\"showlegend\":false,\"x\":[0.330078125,0.33203125,0.328125],\"y\":[0.13735750794909435,0.13397459621556138,0.13397459621556138],\"type\":\"scatter\"},{\"fill\":\"toself\",\"line\":{\"color\":\"LightSeaGreen\",\"width\":2},\"mode\":\"lines\",\"showlegend\":false,\"x\":[0.216796875,0.21875,0.21484375],\"y\":[0.19148409568562177,0.1881011839520888,0.1881011839520888],\"type\":\"scatter\"},{\"fill\":\"toself\",\"line\":{\"color\":\"LightSeaGreen\",\"width\":2},\"mode\":\"lines\",\"showlegend\":false,\"x\":[0.248046875,0.25,0.24609375],\"y\":[0.13735750794909435,0.13397459621556138,0.13397459621556138],\"type\":\"scatter\"},{\"fill\":\"toself\",\"line\":{\"color\":\"LightSeaGreen\",\"width\":2},\"mode\":\"lines\",\"showlegend\":false,\"x\":[0.177734375,0.1796875,0.17578125],\"y\":[0.2456106834221492,0.24222777168861623,0.24222777168861623],\"type\":\"scatter\"},{\"fill\":\"toself\",\"line\":{\"color\":\"LightSeaGreen\",\"width\":2},\"mode\":\"lines\",\"showlegend\":false,\"x\":[-0.044921875,-0.04296875,-0.046875],\"y\":[0.8951297362604781,0.8917468245269451,0.8917468245269451],\"type\":\"scatter\"},{\"fill\":\"toself\",\"line\":{\"color\":\"LightSeaGreen\",\"width\":2},\"mode\":\"lines\",\"showlegend\":false,\"x\":[-0.072265625,-0.0703125,-0.07421875],\"y\":[0.5839018567754456,0.5805189450419126,0.5805189450419126],\"type\":\"scatter\"},{\"fill\":\"toself\",\"line\":{\"color\":\"LightSeaGreen\",\"width\":2},\"mode\":\"lines\",\"showlegend\":false,\"x\":[0.431640625,0.43359375,0.4296875],\"y\":[0.21854738955388547,0.2151644778203525,0.2151644778203525],\"type\":\"scatter\"},{\"fill\":\"toself\",\"line\":{\"color\":\"LightSeaGreen\",\"width\":2},\"mode\":\"lines\",\"showlegend\":false,\"x\":[-0.216796875,-0.21484375,-0.21875],\"y\":[0.19148409568562177,0.1881011839520888,0.1881011839520888],\"type\":\"scatter\"},{\"fill\":\"toself\",\"line\":{\"color\":\"LightSeaGreen\",\"width\":2},\"mode\":\"lines\",\"showlegend\":false,\"x\":[-0.056640625,-0.0546875,-0.05859375],\"y\":[0.14412333141616027,0.1407404196826273,0.1407404196826273],\"type\":\"scatter\"},{\"fill\":\"toself\",\"line\":{\"color\":\"LightSeaGreen\",\"width\":2},\"mode\":\"lines\",\"showlegend\":false,\"x\":[-0.287109375,-0.28515625,-0.2890625],\"y\":[0.1779524487514899,0.17456953701795694,0.17456953701795694],\"type\":\"scatter\"},{\"fill\":\"toself\",\"line\":{\"color\":\"LightSeaGreen\",\"width\":2},\"mode\":\"lines\",\"showlegend\":false,\"x\":[-0.330078125,-0.328125,-0.33203125],\"y\":[0.13735750794909435,0.13397459621556138,0.13397459621556138],\"type\":\"scatter\"},{\"fill\":\"toself\",\"line\":{\"color\":\"LightSeaGreen\",\"width\":2},\"mode\":\"lines\",\"showlegend\":false,\"x\":[-0.01171875,-0.009765625,-0.013671875],\"y\":[0.5737531215748467,0.5703702098413137,0.5703702098413137],\"type\":\"scatter\"},{\"fill\":\"toself\",\"line\":{\"color\":\"LightSeaGreen\",\"width\":2},\"mode\":\"lines\",\"showlegend\":false,\"x\":[0.349609375,0.3515625,0.34765625],\"y\":[0.2794398007574789,0.27605688902394593,0.27605688902394593],\"type\":\"scatter\"},{\"fill\":\"toself\",\"line\":{\"color\":\"LightSeaGreen\",\"width\":2},\"mode\":\"lines\",\"showlegend\":false,\"x\":[0.001953125,0.00390625,0.0],\"y\":[0.7868765607874233,0.7834936490538903,0.7834936490538903],\"type\":\"scatter\"},{\"fill\":\"toself\",\"line\":{\"color\":\"LightSeaGreen\",\"width\":2},\"mode\":\"lines\",\"showlegend\":false,\"x\":[0.208984375,0.2109375,0.20703125],\"y\":[0.4891803282365225,0.4857974165029896,0.4857974165029896],\"type\":\"scatter\"},{\"fill\":\"toself\",\"line\":{\"color\":\"LightSeaGreen\",\"width\":2},\"mode\":\"lines\",\"showlegend\":false,\"x\":[0.486328125,0.48828125,0.484375],\"y\":[0.13735750794909435,0.13397459621556138,0.13397459621556138],\"type\":\"scatter\"},{\"fill\":\"toself\",\"line\":{\"color\":\"LightSeaGreen\",\"width\":2},\"mode\":\"lines\",\"showlegend\":false,\"x\":[-0.12890625,-0.126953125,-0.130859375],\"y\":[0.33018347676047327,0.3268005650269403,0.3268005650269403],\"type\":\"scatter\"},{\"fill\":\"toself\",\"line\":{\"color\":\"LightSeaGreen\",\"width\":2},\"mode\":\"lines\",\"showlegend\":false,\"x\":[-0.462890625,-0.4609375,-0.46484375],\"y\":[0.13735750794909435,0.13397459621556138,0.13397459621556138],\"type\":\"scatter\"},{\"fill\":\"toself\",\"line\":{\"color\":\"LightSeaGreen\",\"width\":2},\"mode\":\"lines\",\"showlegend\":false,\"x\":[-0.0546875,-0.052734375,-0.056640625],\"y\":[0.8782151775928133,0.8748322658592803,0.8748322658592803],\"type\":\"scatter\"},{\"fill\":\"toself\",\"line\":{\"color\":\"LightSeaGreen\",\"width\":2},\"mode\":\"lines\",\"showlegend\":false,\"x\":[-0.0859375,-0.083984375,-0.087890625],\"y\":[0.5805189450419126,0.5771360333083796,0.5771360333083796],\"type\":\"scatter\"},{\"fill\":\"toself\",\"line\":{\"color\":\"LightSeaGreen\",\"width\":2},\"mode\":\"lines\",\"showlegend\":false,\"x\":[-0.072265625,-0.0703125,-0.07421875],\"y\":[0.13735750794909435,0.13397459621556138,0.13397459621556138],\"type\":\"scatter\"},{\"fill\":\"toself\",\"line\":{\"color\":\"LightSeaGreen\",\"width\":2},\"mode\":\"lines\",\"showlegend\":false,\"x\":[0.396484375,0.3984375,0.39453125],\"y\":[0.2456106834221492,0.24222777168861623,0.24222777168861623],\"type\":\"scatter\"},{\"fill\":\"toself\",\"line\":{\"color\":\"LightSeaGreen\",\"width\":2},\"mode\":\"lines\",\"showlegend\":false,\"x\":[-0.337890625,-0.3359375,-0.33984375],\"y\":[0.3944587996975996,0.39107588796406667,0.39107588796406667],\"type\":\"scatter\"},{\"fill\":\"toself\",\"line\":{\"color\":\"LightSeaGreen\",\"width\":2},\"mode\":\"lines\",\"showlegend\":false,\"x\":[-0.177734375,-0.17578125,-0.1796875],\"y\":[0.6786233853143685,0.6752404735808355,0.6752404735808355],\"type\":\"scatter\"},{\"fill\":\"toself\",\"line\":{\"color\":\"LightSeaGreen\",\"width\":2},\"mode\":\"lines\",\"showlegend\":false,\"x\":[-0.259765625,-0.2578125,-0.26171875],\"y\":[0.5297752690389181,0.5263923573053851,0.5263923573053851],\"type\":\"scatter\"},{\"fill\":\"toself\",\"line\":{\"color\":\"LightSeaGreen\",\"width\":2},\"mode\":\"lines\",\"showlegend\":false,\"x\":[0.396484375,0.3984375,0.39453125],\"y\":[0.14412333141616027,0.1407404196826273,0.1407404196826273],\"type\":\"scatter\"},{\"fill\":\"toself\",\"line\":{\"color\":\"LightSeaGreen\",\"width\":2},\"mode\":\"lines\",\"showlegend\":false,\"x\":[0.20703125,0.208984375,0.205078125],\"y\":[0.4113733583652644,0.40799044663173145,0.40799044663173145],\"type\":\"scatter\"},{\"fill\":\"toself\",\"line\":{\"color\":\"LightSeaGreen\",\"width\":2},\"mode\":\"lines\",\"showlegend\":false,\"x\":[-0.224609375,-0.22265625,-0.2265625],\"y\":[0.5230094455718521,0.5196265338383191,0.5196265338383191],\"type\":\"scatter\"},{\"fill\":\"toself\",\"line\":{\"color\":\"LightSeaGreen\",\"width\":2},\"mode\":\"lines\",\"showlegend\":false,\"x\":[-0.056640625,-0.0546875,-0.05859375],\"y\":[0.631262621044907,0.627879709311374,0.627879709311374],\"type\":\"scatter\"},{\"fill\":\"toself\",\"line\":{\"color\":\"LightSeaGreen\",\"width\":2},\"mode\":\"lines\",\"showlegend\":false,\"x\":[0.1953125,0.197265625,0.193359375],\"y\":[0.22869612475448436,0.2253132130209514,0.2253132130209514],\"type\":\"scatter\"},{\"fill\":\"toself\",\"line\":{\"color\":\"LightSeaGreen\",\"width\":2},\"mode\":\"lines\",\"showlegend\":false,\"x\":[-0.361328125,-0.359375,-0.36328125],\"y\":[0.13735750794909435,0.13397459621556138,0.13397459621556138],\"type\":\"scatter\"},{\"fill\":\"toself\",\"line\":{\"color\":\"LightSeaGreen\",\"width\":2},\"mode\":\"lines\",\"showlegend\":false,\"x\":[-0.357421875,-0.35546875,-0.359375],\"y\":[0.3673955058293359,0.36401259409580294,0.36401259409580294],\"type\":\"scatter\"},{\"fill\":\"toself\",\"line\":{\"color\":\"LightSeaGreen\",\"width\":2},\"mode\":\"lines\",\"showlegend\":false,\"x\":[0.2890625,0.291015625,0.287109375],\"y\":[0.17456953701795694,0.17118662528442397,0.17118662528442397],\"type\":\"scatter\"},{\"fill\":\"toself\",\"line\":{\"color\":\"LightSeaGreen\",\"width\":2},\"mode\":\"lines\",\"showlegend\":false,\"x\":[0.197265625,0.19921875,0.1953125],\"y\":[0.2253132130209514,0.22193030128741842,0.22193030128741842],\"type\":\"scatter\"},{\"fill\":\"toself\",\"line\":{\"color\":\"LightSeaGreen\",\"width\":2},\"mode\":\"lines\",\"showlegend\":false,\"x\":[0.072265625,0.07421875,0.0703125],\"y\":[0.5771360333083796,0.5737531215748466,0.5737531215748466],\"type\":\"scatter\"},{\"fill\":\"toself\",\"line\":{\"color\":\"LightSeaGreen\",\"width\":2},\"mode\":\"lines\",\"showlegend\":false,\"x\":[0.365234375,0.3671875,0.36328125],\"y\":[0.25914233035628104,0.2557594186227481,0.2557594186227481],\"type\":\"scatter\"},{\"fill\":\"toself\",\"line\":{\"color\":\"LightSeaGreen\",\"width\":2},\"mode\":\"lines\",\"showlegend\":false,\"x\":[-0.166015625,-0.1640625,-0.16796875],\"y\":[0.40799044663173145,0.4046075348981985,0.4046075348981985],\"type\":\"scatter\"},{\"fill\":\"toself\",\"line\":{\"color\":\"LightSeaGreen\",\"width\":2},\"mode\":\"lines\",\"showlegend\":false,\"x\":[0.080078125,0.08203125,0.078125],\"y\":[0.6921550322485004,0.6887721205149674,0.6887721205149674],\"type\":\"scatter\"},{\"fill\":\"toself\",\"line\":{\"color\":\"LightSeaGreen\",\"width\":2},\"mode\":\"lines\",\"showlegend\":false,\"x\":[-0.318359375,-0.31640625,-0.3203125],\"y\":[0.21854738955388547,0.2151644778203525,0.2151644778203525],\"type\":\"scatter\"},{\"fill\":\"toself\",\"line\":{\"color\":\"LightSeaGreen\",\"width\":2},\"mode\":\"lines\",\"showlegend\":false,\"x\":[0.12109375,0.123046875,0.119140625],\"y\":[0.33018347676047327,0.3268005650269403,0.3268005650269403],\"type\":\"scatter\"},{\"fill\":\"toself\",\"line\":{\"color\":\"LightSeaGreen\",\"width\":2},\"mode\":\"lines\",\"showlegend\":false,\"x\":[-0.314453125,-0.3125,-0.31640625],\"y\":[0.13735750794909435,0.13397459621556138,0.13397459621556138],\"type\":\"scatter\"},{\"fill\":\"toself\",\"line\":{\"color\":\"LightSeaGreen\",\"width\":2},\"mode\":\"lines\",\"showlegend\":false,\"x\":[0.259765625,0.26171875,0.2578125],\"y\":[0.4621170343682588,0.45873412263472585,0.45873412263472585],\"type\":\"scatter\"},{\"fill\":\"toself\",\"line\":{\"color\":\"LightSeaGreen\",\"width\":2},\"mode\":\"lines\",\"showlegend\":false,\"x\":[0.091796875,0.09375,0.08984375],\"y\":[0.5974335037095774,0.5940505919760444,0.5940505919760444],\"type\":\"scatter\"},{\"fill\":\"toself\",\"line\":{\"color\":\"LightSeaGreen\",\"width\":2},\"mode\":\"lines\",\"showlegend\":false,\"x\":[0.404296875,0.40625,0.40234375],\"y\":[0.2997372711586766,0.29635435942514365,0.29635435942514365],\"type\":\"scatter\"},{\"fill\":\"toself\",\"line\":{\"color\":\"LightSeaGreen\",\"width\":2},\"mode\":\"lines\",\"showlegend\":false,\"x\":[-0.419921875,-0.41796875,-0.421875],\"y\":[0.20501574261975364,0.20163283088622067,0.20163283088622067],\"type\":\"scatter\"},{\"fill\":\"toself\",\"line\":{\"color\":\"LightSeaGreen\",\"width\":2},\"mode\":\"lines\",\"showlegend\":false,\"x\":[-0.033203125,-0.03125,-0.03515625],\"y\":[0.18471827221855583,0.18133536048502286,0.18133536048502286],\"type\":\"scatter\"},{\"fill\":\"toself\",\"line\":{\"color\":\"LightSeaGreen\",\"width\":2},\"mode\":\"lines\",\"showlegend\":false,\"x\":[-0.009765625,-0.0078125,-0.01171875],\"y\":[0.9627879709311374,0.9594050591976044,0.9594050591976044],\"type\":\"scatter\"},{\"fill\":\"toself\",\"line\":{\"color\":\"LightSeaGreen\",\"width\":2},\"mode\":\"lines\",\"showlegend\":false,\"x\":[0.1796875,0.181640625,0.177734375],\"y\":[0.63464553277844,0.631262621044907,0.631262621044907],\"type\":\"scatter\"},{\"fill\":\"toself\",\"line\":{\"color\":\"LightSeaGreen\",\"width\":2},\"mode\":\"lines\",\"showlegend\":false,\"x\":[-0.158203125,-0.15625,-0.16015625],\"y\":[0.6786233853143685,0.6752404735808355,0.6752404735808355],\"type\":\"scatter\"},{\"fill\":\"toself\",\"line\":{\"color\":\"LightSeaGreen\",\"width\":2},\"mode\":\"lines\",\"showlegend\":false,\"x\":[0.14453125,0.146484375,0.142578125],\"y\":[0.6955379439820334,0.6921550322485004,0.6921550322485004],\"type\":\"scatter\"},{\"fill\":\"toself\",\"line\":{\"color\":\"LightSeaGreen\",\"width\":2},\"mode\":\"lines\",\"showlegend\":false,\"x\":[-0.373046875,-0.37109375,-0.375],\"y\":[0.34033221196107216,0.3369493002275392,0.3369493002275392],\"type\":\"scatter\"},{\"fill\":\"toself\",\"line\":{\"color\":\"LightSeaGreen\",\"width\":2},\"mode\":\"lines\",\"showlegend\":false,\"x\":[-0.087890625,-0.0859375,-0.08984375],\"y\":[0.6853892087814344,0.6820062970479014,0.6820062970479014],\"type\":\"scatter\"},{\"fill\":\"toself\",\"line\":{\"color\":\"LightSeaGreen\",\"width\":2},\"mode\":\"lines\",\"showlegend\":false,\"x\":[0.1328125,0.134765625,0.130859375],\"y\":[0.14750624314969324,0.14412333141616027,0.14412333141616027],\"type\":\"scatter\"},{\"fill\":\"toself\",\"line\":{\"color\":\"LightSeaGreen\",\"width\":2},\"mode\":\"lines\",\"showlegend\":false,\"x\":[0.40234375,0.404296875,0.400390625],\"y\":[0.18133536048502288,0.1779524487514899,0.1779524487514899],\"type\":\"scatter\"},{\"fill\":\"toself\",\"line\":{\"color\":\"LightSeaGreen\",\"width\":2},\"mode\":\"lines\",\"showlegend\":false,\"x\":[0.033203125,0.03515625,0.03125],\"y\":[0.5703702098413137,0.5669872981077807,0.5669872981077807],\"type\":\"scatter\"},{\"fill\":\"toself\",\"line\":{\"color\":\"LightSeaGreen\",\"width\":2},\"mode\":\"lines\",\"showlegend\":false,\"x\":[-0.19140625,-0.189453125,-0.193359375],\"y\":[0.5737531215748467,0.5703702098413137,0.5703702098413137],\"type\":\"scatter\"},{\"fill\":\"toself\",\"line\":{\"color\":\"LightSeaGreen\",\"width\":2},\"mode\":\"lines\",\"showlegend\":false,\"x\":[0.4765625,0.478515625,0.474609375],\"y\":[0.14750624314969324,0.14412333141616027,0.14412333141616027],\"type\":\"scatter\"},{\"fill\":\"toself\",\"line\":{\"color\":\"LightSeaGreen\",\"width\":2},\"mode\":\"lines\",\"showlegend\":false,\"x\":[-0.32421875,-0.322265625,-0.326171875],\"y\":[0.19486700741915475,0.19148409568562177,0.19148409568562177],\"type\":\"scatter\"},{\"fill\":\"toself\",\"line\":{\"color\":\"LightSeaGreen\",\"width\":2},\"mode\":\"lines\",\"showlegend\":false,\"x\":[-0.240234375,-0.23828125,-0.2421875],\"y\":[0.5433069159730499,0.5399240042395169,0.5399240042395169],\"type\":\"scatter\"},{\"fill\":\"toself\",\"line\":{\"color\":\"LightSeaGreen\",\"width\":2},\"mode\":\"lines\",\"showlegend\":false,\"x\":[0.169921875,0.171875,0.16796875],\"y\":[0.2726739772904129,0.26929106555688,0.26929106555688],\"type\":\"scatter\"},{\"fill\":\"toself\",\"line\":{\"color\":\"LightSeaGreen\",\"width\":2},\"mode\":\"lines\",\"showlegend\":false,\"x\":[0.1875,0.189453125,0.185546875],\"y\":[0.6752404735808356,0.6718575618473026,0.6718575618473026],\"type\":\"scatter\"},{\"fill\":\"toself\",\"line\":{\"color\":\"LightSeaGreen\",\"width\":2},\"mode\":\"lines\",\"showlegend\":false,\"x\":[-0.216796875,-0.21484375,-0.21875],\"y\":[0.5094777986377202,0.5060948869041872,0.5060948869041872],\"type\":\"scatter\"},{\"fill\":\"toself\",\"line\":{\"color\":\"LightSeaGreen\",\"width\":2},\"mode\":\"lines\",\"showlegend\":false,\"x\":[0.099609375,0.1015625,0.09765625],\"y\":[0.8274715015898189,0.8240885898562859,0.8240885898562859],\"type\":\"scatter\"},{\"fill\":\"toself\",\"line\":{\"color\":\"LightSeaGreen\",\"width\":2},\"mode\":\"lines\",\"showlegend\":false,\"x\":[-0.48046875,-0.478515625,-0.482421875],\"y\":[0.14074041968262732,0.13735750794909435,0.13735750794909435],\"type\":\"scatter\"},{\"fill\":\"toself\",\"line\":{\"color\":\"LightSeaGreen\",\"width\":2},\"mode\":\"lines\",\"showlegend\":false,\"x\":[0.34765625,0.349609375,0.345703125],\"y\":[0.24899359515568217,0.2456106834221492,0.2456106834221492],\"type\":\"scatter\"},{\"fill\":\"toself\",\"line\":{\"color\":\"LightSeaGreen\",\"width\":2},\"mode\":\"lines\",\"showlegend\":false,\"x\":[0.099609375,0.1015625,0.09765625],\"y\":[0.7395157965179618,0.7361328847844288,0.7361328847844288],\"type\":\"scatter\"},{\"fill\":\"toself\",\"line\":{\"color\":\"LightSeaGreen\",\"width\":2},\"mode\":\"lines\",\"showlegend\":false,\"x\":[0.056640625,0.05859375,0.0546875],\"y\":[0.5771360333083796,0.5737531215748466,0.5737531215748466],\"type\":\"scatter\"},{\"fill\":\"toself\",\"line\":{\"color\":\"LightSeaGreen\",\"width\":2},\"mode\":\"lines\",\"showlegend\":false,\"x\":[-0.20703125,-0.205078125,-0.208984375],\"y\":[0.19486700741915475,0.19148409568562177,0.19148409568562177],\"type\":\"scatter\"},{\"fill\":\"toself\",\"line\":{\"color\":\"LightSeaGreen\",\"width\":2},\"mode\":\"lines\",\"showlegend\":false,\"x\":[-0.08203125,-0.080078125,-0.083984375],\"y\":[0.8443860602574838,0.8410031485239507,0.8410031485239507],\"type\":\"scatter\"},{\"fill\":\"toself\",\"line\":{\"color\":\"LightSeaGreen\",\"width\":2},\"mode\":\"lines\",\"showlegend\":false,\"x\":[0.12890625,0.130859375,0.126953125],\"y\":[0.3437151236946051,0.34033221196107216,0.34033221196107216],\"type\":\"scatter\"},{\"fill\":\"toself\",\"line\":{\"color\":\"LightSeaGreen\",\"width\":2},\"mode\":\"lines\",\"showlegend\":false,\"x\":[0.224609375,0.2265625,0.22265625],\"y\":[0.5771360333083796,0.5737531215748466,0.5737531215748466],\"type\":\"scatter\"},{\"fill\":\"toself\",\"line\":{\"color\":\"LightSeaGreen\",\"width\":2},\"mode\":\"lines\",\"showlegend\":false,\"x\":[-0.08203125,-0.080078125,-0.083984375],\"y\":[0.6278797093113742,0.6244967975778412,0.6244967975778412],\"type\":\"scatter\"},{\"fill\":\"toself\",\"line\":{\"color\":\"LightSeaGreen\",\"width\":2},\"mode\":\"lines\",\"showlegend\":false,\"x\":[0.275390625,0.27734375,0.2734375],\"y\":[0.13735750794909435,0.13397459621556138,0.13397459621556138],\"type\":\"scatter\"},{\"fill\":\"toself\",\"line\":{\"color\":\"LightSeaGreen\",\"width\":2},\"mode\":\"lines\",\"showlegend\":false,\"x\":[0.267578125,0.26953125,0.265625],\"y\":[0.47564868130239063,0.4722657695688577,0.4722657695688577],\"type\":\"scatter\"},{\"fill\":\"toself\",\"line\":{\"color\":\"LightSeaGreen\",\"width\":2},\"mode\":\"lines\",\"showlegend\":false,\"x\":[-0.236328125,-0.234375,-0.23828125],\"y\":[0.5703702098413137,0.5669872981077807,0.5669872981077807],\"type\":\"scatter\"},{\"fill\":\"toself\",\"line\":{\"color\":\"LightSeaGreen\",\"width\":2},\"mode\":\"lines\",\"showlegend\":false,\"x\":[0.314453125,0.31640625,0.3125],\"y\":[0.13735750794909435,0.13397459621556138,0.13397459621556138],\"type\":\"scatter\"},{\"fill\":\"toself\",\"line\":{\"color\":\"LightSeaGreen\",\"width\":2},\"mode\":\"lines\",\"showlegend\":false,\"x\":[0.259765625,0.26171875,0.2578125],\"y\":[0.46888285783532474,0.4654999461017918,0.4654999461017918],\"type\":\"scatter\"},{\"fill\":\"toself\",\"line\":{\"color\":\"LightSeaGreen\",\"width\":2},\"mode\":\"lines\",\"showlegend\":false,\"x\":[-0.076171875,-0.07421875,-0.078125],\"y\":[0.8613006189251485,0.8579177071916155,0.8579177071916155],\"type\":\"scatter\"},{\"fill\":\"toself\",\"line\":{\"color\":\"LightSeaGreen\",\"width\":2},\"mode\":\"lines\",\"showlegend\":false,\"x\":[-0.087890625,-0.0859375,-0.08984375],\"y\":[0.7192183261167641,0.7158354143832311,0.7158354143832311],\"type\":\"scatter\"},{\"fill\":\"toself\",\"line\":{\"color\":\"LightSeaGreen\",\"width\":2},\"mode\":\"lines\",\"showlegend\":false,\"x\":[-0.318359375,-0.31640625,-0.3203125],\"y\":[0.4147562700987974,0.41137335836526445,0.41137335836526445],\"type\":\"scatter\"},{\"fill\":\"toself\",\"line\":{\"color\":\"LightSeaGreen\",\"width\":2},\"mode\":\"lines\",\"showlegend\":false,\"x\":[-0.353515625,-0.3515625,-0.35546875],\"y\":[0.13735750794909435,0.13397459621556138,0.13397459621556138],\"type\":\"scatter\"},{\"fill\":\"toself\",\"line\":{\"color\":\"LightSeaGreen\",\"width\":2},\"mode\":\"lines\",\"showlegend\":false,\"x\":[-0.123046875,-0.12109375,-0.125],\"y\":[0.732749973050896,0.729367061317363,0.729367061317363],\"type\":\"scatter\"},{\"fill\":\"toself\",\"line\":{\"color\":\"LightSeaGreen\",\"width\":2},\"mode\":\"lines\",\"showlegend\":false,\"x\":[0.337890625,0.33984375,0.3359375],\"y\":[0.1982499191526877,0.19486700741915472,0.19486700741915472],\"type\":\"scatter\"},{\"fill\":\"toself\",\"line\":{\"color\":\"LightSeaGreen\",\"width\":2},\"mode\":\"lines\",\"showlegend\":false,\"x\":[0.216796875,0.21875,0.21484375],\"y\":[0.35386385889520405,0.3504809471616711,0.3504809471616711],\"type\":\"scatter\"},{\"fill\":\"toself\",\"line\":{\"color\":\"LightSeaGreen\",\"width\":2},\"mode\":\"lines\",\"showlegend\":false,\"x\":[0.03515625,0.037109375,0.033203125],\"y\":[0.7902594725209563,0.7868765607874233,0.7868765607874233],\"type\":\"scatter\"},{\"fill\":\"toself\",\"line\":{\"color\":\"LightSeaGreen\",\"width\":2},\"mode\":\"lines\",\"showlegend\":false,\"x\":[0.041015625,0.04296875,0.0390625],\"y\":[0.14412333141616027,0.1407404196826273,0.1407404196826273],\"type\":\"scatter\"},{\"fill\":\"toself\",\"line\":{\"color\":\"LightSeaGreen\",\"width\":2},\"mode\":\"lines\",\"showlegend\":false,\"x\":[-0.1328125,-0.130859375,-0.134765625],\"y\":[0.3369493002275392,0.33356638849400627,0.33356638849400627],\"type\":\"scatter\"},{\"fill\":\"toself\",\"line\":{\"color\":\"LightSeaGreen\",\"width\":2},\"mode\":\"lines\",\"showlegend\":false,\"x\":[-0.02734375,-0.025390625,-0.029296875],\"y\":[0.14074041968262732,0.13735750794909435,0.13735750794909435],\"type\":\"scatter\"},{\"fill\":\"toself\",\"line\":{\"color\":\"LightSeaGreen\",\"width\":2},\"mode\":\"lines\",\"showlegend\":false,\"x\":[0.166015625,0.16796875,0.1640625],\"y\":[0.20501574261975364,0.20163283088622067,0.20163283088622067],\"type\":\"scatter\"},{\"fill\":\"toself\",\"line\":{\"color\":\"LightSeaGreen\",\"width\":2},\"mode\":\"lines\",\"showlegend\":false,\"x\":[-0.259765625,-0.2578125,-0.26171875],\"y\":[0.13735750794909435,0.13397459621556138,0.13397459621556138],\"type\":\"scatter\"},{\"fill\":\"toself\",\"line\":{\"color\":\"LightSeaGreen\",\"width\":2},\"mode\":\"lines\",\"showlegend\":false,\"x\":[0.197265625,0.19921875,0.1953125],\"y\":[0.6244967975778412,0.6211138858443082,0.6211138858443082],\"type\":\"scatter\"},{\"fill\":\"toself\",\"line\":{\"color\":\"LightSeaGreen\",\"width\":2},\"mode\":\"lines\",\"showlegend\":false,\"x\":[-0.07421875,-0.072265625,-0.076171875],\"y\":[0.19486700741915475,0.19148409568562177,0.19148409568562177],\"type\":\"scatter\"},{\"fill\":\"toself\",\"line\":{\"color\":\"LightSeaGreen\",\"width\":2},\"mode\":\"lines\",\"showlegend\":false,\"x\":[0.267578125,0.26953125,0.265625],\"y\":[0.5162436221047862,0.5128607103712532,0.5128607103712532],\"type\":\"scatter\"},{\"fill\":\"toself\",\"line\":{\"color\":\"LightSeaGreen\",\"width\":2},\"mode\":\"lines\",\"showlegend\":false,\"x\":[-0.3359375,-0.333984375,-0.337890625],\"y\":[0.2828227124910118,0.2794398007574789,0.2794398007574789],\"type\":\"scatter\"},{\"fill\":\"toself\",\"line\":{\"color\":\"LightSeaGreen\",\"width\":2},\"mode\":\"lines\",\"showlegend\":false,\"x\":[0.05078125,0.052734375,0.048828125],\"y\":[0.22193030128741845,0.21854738955388547,0.21854738955388547],\"type\":\"scatter\"},{\"fill\":\"toself\",\"line\":{\"color\":\"LightSeaGreen\",\"width\":2},\"mode\":\"lines\",\"showlegend\":false,\"x\":[0.005859375,0.0078125,0.00390625],\"y\":[0.9560221474640714,0.9526392357305384,0.9526392357305384],\"type\":\"scatter\"},{\"fill\":\"toself\",\"line\":{\"color\":\"LightSeaGreen\",\"width\":2},\"mode\":\"lines\",\"showlegend\":false,\"x\":[0.150390625,0.15234375,0.1484375],\"y\":[0.25237650688921515,0.24899359515568217,0.24899359515568217],\"type\":\"scatter\"},{\"fill\":\"toself\",\"line\":{\"color\":\"LightSeaGreen\",\"width\":2},\"mode\":\"lines\",\"showlegend\":false,\"x\":[-0.236328125,-0.234375,-0.23828125],\"y\":[0.15765497835029213,0.15427206661675916,0.15427206661675916],\"type\":\"scatter\"},{\"fill\":\"toself\",\"line\":{\"color\":\"LightSeaGreen\",\"width\":2},\"mode\":\"lines\",\"showlegend\":false,\"x\":[0.232421875,0.234375,0.23046875],\"y\":[0.5297752690389181,0.5263923573053851,0.5263923573053851],\"type\":\"scatter\"},{\"fill\":\"toself\",\"line\":{\"color\":\"LightSeaGreen\",\"width\":2},\"mode\":\"lines\",\"showlegend\":false,\"x\":[0.283203125,0.28515625,0.28125],\"y\":[0.5027119751706544,0.4993290634371214,0.4993290634371214],\"type\":\"scatter\"},{\"fill\":\"toself\",\"line\":{\"color\":\"LightSeaGreen\",\"width\":2},\"mode\":\"lines\",\"showlegend\":false,\"x\":[-0.451171875,-0.44921875,-0.453125],\"y\":[0.20501574261975364,0.20163283088622067,0.20163283088622067],\"type\":\"scatter\"},{\"fill\":\"toself\",\"line\":{\"color\":\"LightSeaGreen\",\"width\":2},\"mode\":\"lines\",\"showlegend\":false,\"x\":[0.19140625,0.193359375,0.189453125],\"y\":[0.6278797093113742,0.6244967975778412,0.6244967975778412],\"type\":\"scatter\"},{\"fill\":\"toself\",\"line\":{\"color\":\"LightSeaGreen\",\"width\":2},\"mode\":\"lines\",\"showlegend\":false,\"x\":[0.220703125,0.22265625,0.21875],\"y\":[0.16442080181735805,0.16103789008382507,0.16103789008382507],\"type\":\"scatter\"},{\"fill\":\"toself\",\"line\":{\"color\":\"LightSeaGreen\",\"width\":2},\"mode\":\"lines\",\"showlegend\":false,\"x\":[0.1640625,0.166015625,0.162109375],\"y\":[0.17456953701795694,0.17118662528442397,0.17118662528442397],\"type\":\"scatter\"},{\"fill\":\"toself\",\"line\":{\"color\":\"LightSeaGreen\",\"width\":2},\"mode\":\"lines\",\"showlegend\":false,\"x\":[-0.107421875,-0.10546875,-0.109375],\"y\":[0.5906676802425115,0.5872847685089785,0.5872847685089785],\"type\":\"scatter\"},{\"fill\":\"toself\",\"line\":{\"color\":\"LightSeaGreen\",\"width\":2},\"mode\":\"lines\",\"showlegend\":false,\"x\":[-0.08984375,-0.087890625,-0.091796875],\"y\":[0.2760568890239459,0.2726739772904129,0.2726739772904129],\"type\":\"scatter\"},{\"fill\":\"toself\",\"line\":{\"color\":\"LightSeaGreen\",\"width\":2},\"mode\":\"lines\",\"showlegend\":false,\"x\":[0.244140625,0.24609375,0.2421875],\"y\":[0.36062968236227,0.35724677062873705,0.35724677062873705],\"type\":\"scatter\"},{\"fill\":\"toself\",\"line\":{\"color\":\"LightSeaGreen\",\"width\":2},\"mode\":\"lines\",\"showlegend\":false,\"x\":[0.0859375,0.087890625,0.083984375],\"y\":[0.5805189450419126,0.5771360333083796,0.5771360333083796],\"type\":\"scatter\"},{\"fill\":\"toself\",\"line\":{\"color\":\"LightSeaGreen\",\"width\":2},\"mode\":\"lines\",\"showlegend\":false,\"x\":[0.283203125,0.28515625,0.28125],\"y\":[0.19148409568562177,0.1881011839520888,0.1881011839520888],\"type\":\"scatter\"},{\"fill\":\"toself\",\"line\":{\"color\":\"LightSeaGreen\",\"width\":2},\"mode\":\"lines\",\"showlegend\":false,\"x\":[-0.212890625,-0.2109375,-0.21484375],\"y\":[0.19148409568562177,0.1881011839520888,0.1881011839520888],\"type\":\"scatter\"},{\"fill\":\"toself\",\"line\":{\"color\":\"LightSeaGreen\",\"width\":2},\"mode\":\"lines\",\"showlegend\":false,\"x\":[0.1484375,0.150390625,0.146484375],\"y\":[0.2828227124910118,0.2794398007574789,0.2794398007574789],\"type\":\"scatter\"},{\"fill\":\"toself\",\"line\":{\"color\":\"LightSeaGreen\",\"width\":2},\"mode\":\"lines\",\"showlegend\":false,\"x\":[0.1875,0.189453125,0.185546875],\"y\":[0.4587341226347259,0.45535121090119296,0.45535121090119296],\"type\":\"scatter\"},{\"fill\":\"toself\",\"line\":{\"color\":\"LightSeaGreen\",\"width\":2},\"mode\":\"lines\",\"showlegend\":false,\"x\":[0.107421875,0.109375,0.10546875],\"y\":[0.25914233035628104,0.2557594186227481,0.2557594186227481],\"type\":\"scatter\"},{\"fill\":\"toself\",\"line\":{\"color\":\"LightSeaGreen\",\"width\":2},\"mode\":\"lines\",\"showlegend\":false,\"x\":[-0.07421875,-0.072265625,-0.076171875],\"y\":[0.6549430031796378,0.6515600914461048,0.6515600914461048],\"type\":\"scatter\"},{\"fill\":\"toself\",\"line\":{\"color\":\"LightSeaGreen\",\"width\":2},\"mode\":\"lines\",\"showlegend\":false,\"x\":[0.134765625,0.13671875,0.1328125],\"y\":[0.7395157965179618,0.7361328847844288,0.7361328847844288],\"type\":\"scatter\"},{\"fill\":\"toself\",\"line\":{\"color\":\"LightSeaGreen\",\"width\":2},\"mode\":\"lines\",\"showlegend\":false,\"x\":[-0.11328125,-0.111328125,-0.115234375],\"y\":[0.6955379439820334,0.6921550322485004,0.6921550322485004],\"type\":\"scatter\"},{\"fill\":\"toself\",\"line\":{\"color\":\"LightSeaGreen\",\"width\":2},\"mode\":\"lines\",\"showlegend\":false,\"x\":[-0.009765625,-0.0078125,-0.01171875],\"y\":[0.8004082077215552,0.7970252959880222,0.7970252959880222],\"type\":\"scatter\"},{\"fill\":\"toself\",\"line\":{\"color\":\"LightSeaGreen\",\"width\":2},\"mode\":\"lines\",\"showlegend\":false,\"x\":[0.16015625,0.162109375,0.158203125],\"y\":[0.6008164154431104,0.5974335037095774,0.5974335037095774],\"type\":\"scatter\"},{\"fill\":\"toself\",\"line\":{\"color\":\"LightSeaGreen\",\"width\":2},\"mode\":\"lines\",\"showlegend\":false,\"x\":[0.173828125,0.17578125,0.171875],\"y\":[0.13735750794909435,0.13397459621556138,0.13397459621556138],\"type\":\"scatter\"},{\"fill\":\"toself\",\"line\":{\"color\":\"LightSeaGreen\",\"width\":2},\"mode\":\"lines\",\"showlegend\":false,\"x\":[0.41015625,0.412109375,0.408203125],\"y\":[0.19486700741915475,0.19148409568562177,0.19148409568562177],\"type\":\"scatter\"},{\"fill\":\"toself\",\"line\":{\"color\":\"LightSeaGreen\",\"width\":2},\"mode\":\"lines\",\"showlegend\":false,\"x\":[0.423828125,0.42578125,0.421875],\"y\":[0.2456106834221492,0.24222777168861623,0.24222777168861623],\"type\":\"scatter\"},{\"fill\":\"toself\",\"line\":{\"color\":\"LightSeaGreen\",\"width\":2},\"mode\":\"lines\",\"showlegend\":false,\"x\":[0.201171875,0.203125,0.19921875],\"y\":[0.40799044663173145,0.4046075348981985,0.4046075348981985],\"type\":\"scatter\"},{\"fill\":\"toself\",\"line\":{\"color\":\"LightSeaGreen\",\"width\":2},\"mode\":\"lines\",\"showlegend\":false,\"x\":[0.26953125,0.271484375,0.267578125],\"y\":[0.15427206661675918,0.1508891548832262,0.1508891548832262],\"type\":\"scatter\"},{\"fill\":\"toself\",\"line\":{\"color\":\"LightSeaGreen\",\"width\":2},\"mode\":\"lines\",\"showlegend\":false,\"x\":[-0.044921875,-0.04296875,-0.046875],\"y\":[0.16442080181735805,0.16103789008382507,0.16103789008382507],\"type\":\"scatter\"},{\"fill\":\"toself\",\"line\":{\"color\":\"LightSeaGreen\",\"width\":2},\"mode\":\"lines\",\"showlegend\":false,\"x\":[0.419921875,0.421875,0.41796875],\"y\":[0.16442080181735805,0.16103789008382507,0.16103789008382507],\"type\":\"scatter\"},{\"fill\":\"toself\",\"line\":{\"color\":\"LightSeaGreen\",\"width\":2},\"mode\":\"lines\",\"showlegend\":false,\"x\":[-0.15625,-0.154296875,-0.158203125],\"y\":[0.6211138858443082,0.6177309741107752,0.6177309741107752],\"type\":\"scatter\"},{\"fill\":\"toself\",\"line\":{\"color\":\"LightSeaGreen\",\"width\":2},\"mode\":\"lines\",\"showlegend\":false,\"x\":[-0.267578125,-0.265625,-0.26953125],\"y\":[0.47564868130239063,0.4722657695688577,0.4722657695688577],\"type\":\"scatter\"},{\"fill\":\"toself\",\"line\":{\"color\":\"LightSeaGreen\",\"width\":2},\"mode\":\"lines\",\"showlegend\":false,\"x\":[-0.072265625,-0.0703125,-0.07421875],\"y\":[0.6786233853143685,0.6752404735808355,0.6752404735808355],\"type\":\"scatter\"},{\"fill\":\"toself\",\"line\":{\"color\":\"LightSeaGreen\",\"width\":2},\"mode\":\"lines\",\"showlegend\":false,\"x\":[-0.205078125,-0.203125,-0.20703125],\"y\":[0.5703702098413137,0.5669872981077807,0.5669872981077807],\"type\":\"scatter\"},{\"fill\":\"toself\",\"line\":{\"color\":\"LightSeaGreen\",\"width\":2},\"mode\":\"lines\",\"showlegend\":false,\"x\":[0.185546875,0.1875,0.18359375],\"y\":[0.6515600914461048,0.6481771797125718,0.6481771797125718],\"type\":\"scatter\"},{\"fill\":\"toself\",\"line\":{\"color\":\"LightSeaGreen\",\"width\":2},\"mode\":\"lines\",\"showlegend\":false,\"x\":[-0.142578125,-0.140625,-0.14453125],\"y\":[0.35386385889520405,0.3504809471616711,0.3504809471616711],\"type\":\"scatter\"},{\"fill\":\"toself\",\"line\":{\"color\":\"LightSeaGreen\",\"width\":2},\"mode\":\"lines\",\"showlegend\":false,\"x\":[0.44921875,0.451171875,0.447265625],\"y\":[0.14074041968262732,0.13735750794909435,0.13735750794909435],\"type\":\"scatter\"},{\"fill\":\"toself\",\"line\":{\"color\":\"LightSeaGreen\",\"width\":2},\"mode\":\"lines\",\"showlegend\":false,\"x\":[-0.478515625,-0.4765625,-0.48046875],\"y\":[0.14412333141616027,0.1407404196826273,0.1407404196826273],\"type\":\"scatter\"},{\"fill\":\"toself\",\"line\":{\"color\":\"LightSeaGreen\",\"width\":2},\"mode\":\"lines\",\"showlegend\":false,\"x\":[0.044921875,0.046875,0.04296875],\"y\":[0.8410031485239507,0.8376202367904177,0.8376202367904177],\"type\":\"scatter\"},{\"fill\":\"toself\",\"line\":{\"color\":\"LightSeaGreen\",\"width\":2},\"mode\":\"lines\",\"showlegend\":false,\"x\":[-0.04296875,-0.041015625,-0.044921875],\"y\":[0.8443860602574838,0.8410031485239507,0.8410031485239507],\"type\":\"scatter\"},{\"fill\":\"toself\",\"line\":{\"color\":\"LightSeaGreen\",\"width\":2},\"mode\":\"lines\",\"showlegend\":false,\"x\":[-0.02734375,-0.025390625,-0.029296875],\"y\":[0.8985126479940111,0.8951297362604781,0.8951297362604781],\"type\":\"scatter\"},{\"fill\":\"toself\",\"line\":{\"color\":\"LightSeaGreen\",\"width\":2},\"mode\":\"lines\",\"showlegend\":false,\"x\":[0.095703125,0.09765625,0.09375],\"y\":[0.2726739772904129,0.26929106555688,0.26929106555688],\"type\":\"scatter\"},{\"fill\":\"toself\",\"line\":{\"color\":\"LightSeaGreen\",\"width\":2},\"mode\":\"lines\",\"showlegend\":false,\"x\":[-0.2109375,-0.208984375,-0.212890625],\"y\":[0.17456953701795694,0.17118662528442397,0.17118662528442397],\"type\":\"scatter\"},{\"fill\":\"toself\",\"line\":{\"color\":\"LightSeaGreen\",\"width\":2},\"mode\":\"lines\",\"showlegend\":false,\"x\":[0.14453125,0.146484375,0.142578125],\"y\":[0.262525242089814,0.25914233035628104,0.25914233035628104],\"type\":\"scatter\"},{\"fill\":\"toself\",\"line\":{\"color\":\"LightSeaGreen\",\"width\":2},\"mode\":\"lines\",\"showlegend\":false,\"x\":[0.166015625,0.16796875,0.1640625],\"y\":[0.1508891548832262,0.14750624314969324,0.14750624314969324],\"type\":\"scatter\"},{\"fill\":\"toself\",\"line\":{\"color\":\"LightSeaGreen\",\"width\":2},\"mode\":\"lines\",\"showlegend\":false,\"x\":[0.083984375,0.0859375,0.08203125],\"y\":[0.631262621044907,0.627879709311374,0.627879709311374],\"type\":\"scatter\"},{\"fill\":\"toself\",\"line\":{\"color\":\"LightSeaGreen\",\"width\":2},\"mode\":\"lines\",\"showlegend\":false,\"x\":[0.064453125,0.06640625,0.0625],\"y\":[0.13735750794909435,0.13397459621556138,0.13397459621556138],\"type\":\"scatter\"},{\"fill\":\"toself\",\"line\":{\"color\":\"LightSeaGreen\",\"width\":2},\"mode\":\"lines\",\"showlegend\":false,\"x\":[0.23828125,0.240234375,0.236328125],\"y\":[0.15427206661675918,0.1508891548832262,0.1508891548832262],\"type\":\"scatter\"},{\"fill\":\"toself\",\"line\":{\"color\":\"LightSeaGreen\",\"width\":2},\"mode\":\"lines\",\"showlegend\":false,\"x\":[0.013671875,0.015625,0.01171875],\"y\":[0.8071740311886211,0.8037911194550881,0.8037911194550881],\"type\":\"scatter\"},{\"fill\":\"toself\",\"line\":{\"color\":\"LightSeaGreen\",\"width\":2},\"mode\":\"lines\",\"showlegend\":false,\"x\":[0.138671875,0.140625,0.13671875],\"y\":[0.3268005650269403,0.3234176532934074,0.3234176532934074],\"type\":\"scatter\"},{\"fill\":\"toself\",\"line\":{\"color\":\"LightSeaGreen\",\"width\":2},\"mode\":\"lines\",\"showlegend\":false,\"x\":[0.166015625,0.16796875,0.1640625],\"y\":[0.3673955058293359,0.36401259409580294,0.36401259409580294],\"type\":\"scatter\"},{\"fill\":\"toself\",\"line\":{\"color\":\"LightSeaGreen\",\"width\":2},\"mode\":\"lines\",\"showlegend\":false,\"x\":[-0.423828125,-0.421875,-0.42578125],\"y\":[0.13735750794909435,0.13397459621556138,0.13397459621556138],\"type\":\"scatter\"},{\"fill\":\"toself\",\"line\":{\"color\":\"LightSeaGreen\",\"width\":2},\"mode\":\"lines\",\"showlegend\":false,\"x\":[0.138671875,0.140625,0.13671875],\"y\":[0.6921550322485004,0.6887721205149674,0.6887721205149674],\"type\":\"scatter\"},{\"fill\":\"toself\",\"line\":{\"color\":\"LightSeaGreen\",\"width\":2},\"mode\":\"lines\",\"showlegend\":false,\"x\":[-0.396484375,-0.39453125,-0.3984375],\"y\":[0.13735750794909435,0.13397459621556138,0.13397459621556138],\"type\":\"scatter\"},{\"fill\":\"toself\",\"line\":{\"color\":\"LightSeaGreen\",\"width\":2},\"mode\":\"lines\",\"showlegend\":false,\"x\":[-0.26953125,-0.267578125,-0.271484375],\"y\":[0.37077841756286883,0.3673955058293359,0.3673955058293359],\"type\":\"scatter\"},{\"fill\":\"toself\",\"line\":{\"color\":\"LightSeaGreen\",\"width\":2},\"mode\":\"lines\",\"showlegend\":false,\"x\":[-0.072265625,-0.0703125,-0.07421875],\"y\":[0.6244967975778412,0.6211138858443082,0.6211138858443082],\"type\":\"scatter\"},{\"fill\":\"toself\",\"line\":{\"color\":\"LightSeaGreen\",\"width\":2},\"mode\":\"lines\",\"showlegend\":false,\"x\":[-0.201171875,-0.19921875,-0.203125],\"y\":[0.5906676802425115,0.5872847685089785,0.5872847685089785],\"type\":\"scatter\"},{\"fill\":\"toself\",\"line\":{\"color\":\"LightSeaGreen\",\"width\":2},\"mode\":\"lines\",\"showlegend\":false,\"x\":[-0.083984375,-0.08203125,-0.0859375],\"y\":[0.7868765607874233,0.7834936490538903,0.7834936490538903],\"type\":\"scatter\"},{\"fill\":\"toself\",\"line\":{\"color\":\"LightSeaGreen\",\"width\":2},\"mode\":\"lines\",\"showlegend\":false,\"x\":[0.15234375,0.154296875,0.150390625],\"y\":[0.6008164154431104,0.5974335037095774,0.5974335037095774],\"type\":\"scatter\"},{\"fill\":\"toself\",\"line\":{\"color\":\"LightSeaGreen\",\"width\":2},\"mode\":\"lines\",\"showlegend\":false,\"x\":[-0.236328125,-0.234375,-0.23828125],\"y\":[0.5839018567754456,0.5805189450419126,0.5805189450419126],\"type\":\"scatter\"},{\"fill\":\"toself\",\"line\":{\"color\":\"LightSeaGreen\",\"width\":2},\"mode\":\"lines\",\"showlegend\":false,\"x\":[-0.197265625,-0.1953125,-0.19921875],\"y\":[0.20501574261975364,0.20163283088622067,0.20163283088622067],\"type\":\"scatter\"},{\"fill\":\"toself\",\"line\":{\"color\":\"LightSeaGreen\",\"width\":2},\"mode\":\"lines\",\"showlegend\":false,\"x\":[-0.103515625,-0.1015625,-0.10546875],\"y\":[0.1508891548832262,0.14750624314969324,0.14750624314969324],\"type\":\"scatter\"},{\"fill\":\"toself\",\"line\":{\"color\":\"LightSeaGreen\",\"width\":2},\"mode\":\"lines\",\"showlegend\":false,\"x\":[0.037109375,0.0390625,0.03515625],\"y\":[0.7868765607874233,0.7834936490538903,0.7834936490538903],\"type\":\"scatter\"},{\"fill\":\"toself\",\"line\":{\"color\":\"LightSeaGreen\",\"width\":2},\"mode\":\"lines\",\"showlegend\":false,\"x\":[-0.478515625,-0.4765625,-0.48046875],\"y\":[0.1508891548832262,0.14750624314969324,0.14750624314969324],\"type\":\"scatter\"},{\"fill\":\"toself\",\"line\":{\"color\":\"LightSeaGreen\",\"width\":2},\"mode\":\"lines\",\"showlegend\":false,\"x\":[-0.23828125,-0.236328125,-0.240234375],\"y\":[0.5466898277065829,0.5433069159730499,0.5433069159730499],\"type\":\"scatter\"},{\"fill\":\"toself\",\"line\":{\"color\":\"LightSeaGreen\",\"width\":2},\"mode\":\"lines\",\"showlegend\":false,\"x\":[0.2109375,0.212890625,0.208984375],\"y\":[0.5805189450419126,0.5771360333083796,0.5771360333083796],\"type\":\"scatter\"},{\"fill\":\"toself\",\"line\":{\"color\":\"LightSeaGreen\",\"width\":2},\"mode\":\"lines\",\"showlegend\":false,\"x\":[0.34765625,0.349609375,0.345703125],\"y\":[0.14074041968262732,0.13735750794909435,0.13735750794909435],\"type\":\"scatter\"},{\"fill\":\"toself\",\"line\":{\"color\":\"LightSeaGreen\",\"width\":2},\"mode\":\"lines\",\"showlegend\":false,\"x\":[0.162109375,0.1640625,0.16015625],\"y\":[0.2456106834221492,0.24222777168861623,0.24222777168861623],\"type\":\"scatter\"},{\"fill\":\"toself\",\"line\":{\"color\":\"LightSeaGreen\",\"width\":2},\"mode\":\"lines\",\"showlegend\":false,\"x\":[-0.302734375,-0.30078125,-0.3046875],\"y\":[0.13735750794909435,0.13397459621556138,0.13397459621556138],\"type\":\"scatter\"},{\"fill\":\"toself\",\"line\":{\"color\":\"LightSeaGreen\",\"width\":2},\"mode\":\"lines\",\"showlegend\":false,\"x\":[-0.43359375,-0.431640625,-0.435546875],\"y\":[0.22193030128741845,0.21854738955388547,0.21854738955388547],\"type\":\"scatter\"},{\"fill\":\"toself\",\"line\":{\"color\":\"LightSeaGreen\",\"width\":2},\"mode\":\"lines\",\"showlegend\":false,\"x\":[-0.185546875,-0.18359375,-0.1875],\"y\":[0.6650917383802367,0.6617088266467037,0.6617088266467037],\"type\":\"scatter\"},{\"fill\":\"toself\",\"line\":{\"color\":\"LightSeaGreen\",\"width\":2},\"mode\":\"lines\",\"showlegend\":false,\"x\":[0.091796875,0.09375,0.08984375],\"y\":[0.72598414958383,0.722601237850297,0.722601237850297],\"type\":\"scatter\"},{\"fill\":\"toself\",\"line\":{\"color\":\"LightSeaGreen\",\"width\":2},\"mode\":\"lines\",\"showlegend\":false,\"x\":[-0.173828125,-0.171875,-0.17578125],\"y\":[0.35386385889520405,0.3504809471616711,0.3504809471616711],\"type\":\"scatter\"},{\"fill\":\"toself\",\"line\":{\"color\":\"LightSeaGreen\",\"width\":2},\"mode\":\"lines\",\"showlegend\":false,\"x\":[0.15625,0.158203125,0.154296875],\"y\":[0.729367061317363,0.72598414958383,0.72598414958383],\"type\":\"scatter\"},{\"fill\":\"toself\",\"line\":{\"color\":\"LightSeaGreen\",\"width\":2},\"mode\":\"lines\",\"showlegend\":false,\"x\":[0.056640625,0.05859375,0.0546875],\"y\":[0.7868765607874233,0.7834936490538903,0.7834936490538903],\"type\":\"scatter\"},{\"fill\":\"toself\",\"line\":{\"color\":\"LightSeaGreen\",\"width\":2},\"mode\":\"lines\",\"showlegend\":false,\"x\":[-0.291015625,-0.2890625,-0.29296875],\"y\":[0.1982499191526877,0.19486700741915472,0.19486700741915472],\"type\":\"scatter\"},{\"fill\":\"toself\",\"line\":{\"color\":\"LightSeaGreen\",\"width\":2},\"mode\":\"lines\",\"showlegend\":false,\"x\":[0.146484375,0.1484375,0.14453125],\"y\":[0.25914233035628104,0.2557594186227481,0.2557594186227481],\"type\":\"scatter\"},{\"fill\":\"toself\",\"line\":{\"color\":\"LightSeaGreen\",\"width\":2},\"mode\":\"lines\",\"showlegend\":false,\"x\":[0.169921875,0.171875,0.16796875],\"y\":[0.16442080181735805,0.16103789008382507,0.16103789008382507],\"type\":\"scatter\"},{\"fill\":\"toself\",\"line\":{\"color\":\"LightSeaGreen\",\"width\":2},\"mode\":\"lines\",\"showlegend\":false,\"x\":[-0.09765625,-0.095703125,-0.099609375],\"y\":[0.14074041968262732,0.13735750794909435,0.13735750794909435],\"type\":\"scatter\"},{\"fill\":\"toself\",\"line\":{\"color\":\"LightSeaGreen\",\"width\":2},\"mode\":\"lines\",\"showlegend\":false,\"x\":[0.216796875,0.21875,0.21484375],\"y\":[0.5027119751706544,0.4993290634371214,0.4993290634371214],\"type\":\"scatter\"},{\"fill\":\"toself\",\"line\":{\"color\":\"LightSeaGreen\",\"width\":2},\"mode\":\"lines\",\"showlegend\":false,\"x\":[-0.056640625,-0.0546875,-0.05859375],\"y\":[0.6650917383802367,0.6617088266467037,0.6617088266467037],\"type\":\"scatter\"},{\"fill\":\"toself\",\"line\":{\"color\":\"LightSeaGreen\",\"width\":2},\"mode\":\"lines\",\"showlegend\":false,\"x\":[-0.181640625,-0.1796875,-0.18359375],\"y\":[0.40799044663173145,0.4046075348981985,0.4046075348981985],\"type\":\"scatter\"},{\"fill\":\"toself\",\"line\":{\"color\":\"LightSeaGreen\",\"width\":2},\"mode\":\"lines\",\"showlegend\":false,\"x\":[0.099609375,0.1015625,0.09765625],\"y\":[0.6853892087814344,0.6820062970479014,0.6820062970479014],\"type\":\"scatter\"},{\"fill\":\"toself\",\"line\":{\"color\":\"LightSeaGreen\",\"width\":2},\"mode\":\"lines\",\"showlegend\":false,\"x\":[0.322265625,0.32421875,0.3203125],\"y\":[0.40799044663173145,0.4046075348981985,0.4046075348981985],\"type\":\"scatter\"},{\"fill\":\"toself\",\"line\":{\"color\":\"LightSeaGreen\",\"width\":2},\"mode\":\"lines\",\"showlegend\":false,\"x\":[-0.37890625,-0.376953125,-0.380859375],\"y\":[0.24899359515568217,0.2456106834221492,0.2456106834221492],\"type\":\"scatter\"},{\"fill\":\"toself\",\"line\":{\"color\":\"LightSeaGreen\",\"width\":2},\"mode\":\"lines\",\"showlegend\":false,\"x\":[-0.267578125,-0.265625,-0.26953125],\"y\":[0.4621170343682588,0.45873412263472585,0.45873412263472585],\"type\":\"scatter\"},{\"fill\":\"toself\",\"line\":{\"color\":\"LightSeaGreen\",\"width\":2},\"mode\":\"lines\",\"showlegend\":false,\"x\":[0.330078125,0.33203125,0.328125],\"y\":[0.37416132929640183,0.3707784175628689,0.3707784175628689],\"type\":\"scatter\"},{\"fill\":\"toself\",\"line\":{\"color\":\"LightSeaGreen\",\"width\":2},\"mode\":\"lines\",\"showlegend\":false,\"x\":[-0.333984375,-0.33203125,-0.3359375],\"y\":[0.3673955058293359,0.36401259409580294,0.36401259409580294],\"type\":\"scatter\"},{\"fill\":\"toself\",\"line\":{\"color\":\"LightSeaGreen\",\"width\":2},\"mode\":\"lines\",\"showlegend\":false,\"x\":[0.427734375,0.4296875,0.42578125],\"y\":[0.13735750794909435,0.13397459621556138,0.13397459621556138],\"type\":\"scatter\"},{\"fill\":\"toself\",\"line\":{\"color\":\"LightSeaGreen\",\"width\":2},\"mode\":\"lines\",\"showlegend\":false,\"x\":[0.22265625,0.224609375,0.220703125],\"y\":[0.3843100644970007,0.3809271527634678,0.3809271527634678],\"type\":\"scatter\"},{\"fill\":\"toself\",\"line\":{\"color\":\"LightSeaGreen\",\"width\":2},\"mode\":\"lines\",\"showlegend\":false,\"x\":[0.166015625,0.16796875,0.1640625],\"y\":[0.20501574261975364,0.20163283088622067,0.20163283088622067],\"type\":\"scatter\"},{\"fill\":\"toself\",\"line\":{\"color\":\"LightSeaGreen\",\"width\":2},\"mode\":\"lines\",\"showlegend\":false,\"x\":[0.29296875,0.294921875,0.291015625],\"y\":[0.4113733583652644,0.40799044663173145,0.40799044663173145],\"type\":\"scatter\"},{\"fill\":\"toself\",\"line\":{\"color\":\"LightSeaGreen\",\"width\":2},\"mode\":\"lines\",\"showlegend\":false,\"x\":[0.080078125,0.08203125,0.078125],\"y\":[0.6989208557155663,0.6955379439820333,0.6955379439820333],\"type\":\"scatter\"},{\"fill\":\"toself\",\"line\":{\"color\":\"LightSeaGreen\",\"width\":2},\"mode\":\"lines\",\"showlegend\":false,\"x\":[-0.376953125,-0.375,-0.37890625],\"y\":[0.34033221196107216,0.3369493002275392,0.3369493002275392],\"type\":\"scatter\"},{\"fill\":\"toself\",\"line\":{\"color\":\"LightSeaGreen\",\"width\":2},\"mode\":\"lines\",\"showlegend\":false,\"x\":[0.068359375,0.0703125,0.06640625],\"y\":[0.6786233853143685,0.6752404735808355,0.6752404735808355],\"type\":\"scatter\"},{\"fill\":\"toself\",\"line\":{\"color\":\"LightSeaGreen\",\"width\":2},\"mode\":\"lines\",\"showlegend\":false,\"x\":[-0.333984375,-0.33203125,-0.3359375],\"y\":[0.20501574261975364,0.20163283088622067,0.20163283088622067],\"type\":\"scatter\"},{\"fill\":\"toself\",\"line\":{\"color\":\"LightSeaGreen\",\"width\":2},\"mode\":\"lines\",\"showlegend\":false,\"x\":[0.025390625,0.02734375,0.0234375],\"y\":[0.6041993271766433,0.6008164154431103,0.6008164154431103],\"type\":\"scatter\"},{\"fill\":\"toself\",\"line\":{\"color\":\"LightSeaGreen\",\"width\":2},\"mode\":\"lines\",\"showlegend\":false,\"x\":[0.458984375,0.4609375,0.45703125],\"y\":[0.17118662528442397,0.167803713550891,0.167803713550891],\"type\":\"scatter\"},{\"fill\":\"toself\",\"line\":{\"color\":\"LightSeaGreen\",\"width\":2},\"mode\":\"lines\",\"showlegend\":false,\"x\":[0.060546875,0.0625,0.05859375],\"y\":[0.7868765607874233,0.7834936490538903,0.7834936490538903],\"type\":\"scatter\"},{\"fill\":\"toself\",\"line\":{\"color\":\"LightSeaGreen\",\"width\":2},\"mode\":\"lines\",\"showlegend\":false,\"x\":[-0.43359375,-0.431640625,-0.435546875],\"y\":[0.19486700741915475,0.19148409568562177,0.19148409568562177],\"type\":\"scatter\"},{\"fill\":\"toself\",\"line\":{\"color\":\"LightSeaGreen\",\"width\":2},\"mode\":\"lines\",\"showlegend\":false,\"x\":[-0.404296875,-0.40234375,-0.40625],\"y\":[0.2726739772904129,0.26929106555688,0.26929106555688],\"type\":\"scatter\"},{\"fill\":\"toself\",\"line\":{\"color\":\"LightSeaGreen\",\"width\":2},\"mode\":\"lines\",\"showlegend\":false,\"x\":[-0.041015625,-0.0390625,-0.04296875],\"y\":[0.1508891548832262,0.14750624314969324,0.14750624314969324],\"type\":\"scatter\"},{\"fill\":\"toself\",\"line\":{\"color\":\"LightSeaGreen\",\"width\":2},\"mode\":\"lines\",\"showlegend\":false,\"x\":[-0.244140625,-0.2421875,-0.24609375],\"y\":[0.5500727394401158,0.5466898277065828,0.5466898277065828],\"type\":\"scatter\"},{\"fill\":\"toself\",\"line\":{\"color\":\"LightSeaGreen\",\"width\":2},\"mode\":\"lines\",\"showlegend\":false,\"x\":[0.083984375,0.0859375,0.08203125],\"y\":[0.638028444511973,0.63464553277844,0.63464553277844],\"type\":\"scatter\"},{\"fill\":\"toself\",\"line\":{\"color\":\"LightSeaGreen\",\"width\":2},\"mode\":\"lines\",\"showlegend\":false,\"x\":[0.25390625,0.255859375,0.251953125],\"y\":[0.5196265338383192,0.5162436221047862,0.5162436221047862],\"type\":\"scatter\"},{\"fill\":\"toself\",\"line\":{\"color\":\"LightSeaGreen\",\"width\":2},\"mode\":\"lines\",\"showlegend\":false,\"x\":[-0.08203125,-0.080078125,-0.083984375],\"y\":[0.8037911194550882,0.8004082077215552,0.8004082077215552],\"type\":\"scatter\"},{\"fill\":\"toself\",\"line\":{\"color\":\"LightSeaGreen\",\"width\":2},\"mode\":\"lines\",\"showlegend\":false,\"x\":[-0.197265625,-0.1953125,-0.19921875],\"y\":[0.47564868130239063,0.4722657695688577,0.4722657695688577],\"type\":\"scatter\"},{\"fill\":\"toself\",\"line\":{\"color\":\"LightSeaGreen\",\"width\":2},\"mode\":\"lines\",\"showlegend\":false,\"x\":[0.091796875,0.09375,0.08984375],\"y\":[0.2726739772904129,0.26929106555688,0.26929106555688],\"type\":\"scatter\"},{\"fill\":\"toself\",\"line\":{\"color\":\"LightSeaGreen\",\"width\":2},\"mode\":\"lines\",\"showlegend\":false,\"x\":[0.095703125,0.09765625,0.09375],\"y\":[0.28620562422454476,0.2828227124910118,0.2828227124910118],\"type\":\"scatter\"},{\"fill\":\"toself\",\"line\":{\"color\":\"LightSeaGreen\",\"width\":2},\"mode\":\"lines\",\"showlegend\":false,\"x\":[-0.00390625,-0.001953125,-0.005859375],\"y\":[0.14074041968262732,0.13735750794909435,0.13735750794909435],\"type\":\"scatter\"},{\"fill\":\"toself\",\"line\":{\"color\":\"LightSeaGreen\",\"width\":2},\"mode\":\"lines\",\"showlegend\":false,\"x\":[0.224609375,0.2265625,0.22265625],\"y\":[0.17118662528442397,0.167803713550891,0.167803713550891],\"type\":\"scatter\"},{\"fill\":\"toself\",\"line\":{\"color\":\"LightSeaGreen\",\"width\":2},\"mode\":\"lines\",\"showlegend\":false,\"x\":[-0.146484375,-0.14453125,-0.1484375],\"y\":[0.25237650688921515,0.24899359515568217,0.24899359515568217],\"type\":\"scatter\"},{\"fill\":\"toself\",\"line\":{\"color\":\"LightSeaGreen\",\"width\":2},\"mode\":\"lines\",\"showlegend\":false,\"x\":[0.451171875,0.453125,0.44921875],\"y\":[0.21178156608681956,0.20839865435328658,0.20839865435328658],\"type\":\"scatter\"},{\"fill\":\"toself\",\"line\":{\"color\":\"LightSeaGreen\",\"width\":2},\"mode\":\"lines\",\"showlegend\":false,\"x\":[-0.455078125,-0.453125,-0.45703125],\"y\":[0.19148409568562177,0.1881011839520888,0.1881011839520888],\"type\":\"scatter\"},{\"fill\":\"toself\",\"line\":{\"color\":\"LightSeaGreen\",\"width\":2},\"mode\":\"lines\",\"showlegend\":false,\"x\":[0.10546875,0.107421875,0.103515625],\"y\":[0.736132884784429,0.732749973050896,0.732749973050896],\"type\":\"scatter\"},{\"fill\":\"toself\",\"line\":{\"color\":\"LightSeaGreen\",\"width\":2},\"mode\":\"lines\",\"showlegend\":false,\"x\":[0.10546875,0.107421875,0.103515625],\"y\":[0.5737531215748467,0.5703702098413137,0.5703702098413137],\"type\":\"scatter\"},{\"fill\":\"toself\",\"line\":{\"color\":\"LightSeaGreen\",\"width\":2},\"mode\":\"lines\",\"showlegend\":false,\"x\":[-0.322265625,-0.3203125,-0.32421875],\"y\":[0.35386385889520405,0.3504809471616711,0.3504809471616711],\"type\":\"scatter\"},{\"fill\":\"toself\",\"line\":{\"color\":\"LightSeaGreen\",\"width\":2},\"mode\":\"lines\",\"showlegend\":false,\"x\":[0.029296875,0.03125,0.02734375],\"y\":[0.9492563239970055,0.9458734122634725,0.9458734122634725],\"type\":\"scatter\"},{\"fill\":\"toself\",\"line\":{\"color\":\"LightSeaGreen\",\"width\":2},\"mode\":\"lines\",\"showlegend\":false,\"x\":[-0.02734375,-0.025390625,-0.029296875],\"y\":[0.16780371355089102,0.16442080181735805,0.16442080181735805],\"type\":\"scatter\"},{\"fill\":\"toself\",\"line\":{\"color\":\"LightSeaGreen\",\"width\":2},\"mode\":\"lines\",\"showlegend\":false,\"x\":[0.130859375,0.1328125,0.12890625],\"y\":[0.2456106834221492,0.24222777168861623,0.24222777168861623],\"type\":\"scatter\"},{\"fill\":\"toself\",\"line\":{\"color\":\"LightSeaGreen\",\"width\":2},\"mode\":\"lines\",\"showlegend\":false,\"x\":[-0.18359375,-0.181640625,-0.185546875],\"y\":[0.6278797093113742,0.6244967975778412,0.6244967975778412],\"type\":\"scatter\"},{\"fill\":\"toself\",\"line\":{\"color\":\"LightSeaGreen\",\"width\":2},\"mode\":\"lines\",\"showlegend\":false,\"x\":[0.35546875,0.357421875,0.353515625],\"y\":[0.262525242089814,0.25914233035628104,0.25914233035628104],\"type\":\"scatter\"},{\"fill\":\"toself\",\"line\":{\"color\":\"LightSeaGreen\",\"width\":2},\"mode\":\"lines\",\"showlegend\":false,\"x\":[-0.412109375,-0.41015625,-0.4140625],\"y\":[0.14412333141616027,0.1407404196826273,0.1407404196826273],\"type\":\"scatter\"},{\"fill\":\"toself\",\"line\":{\"color\":\"LightSeaGreen\",\"width\":2},\"mode\":\"lines\",\"showlegend\":false,\"x\":[-0.033203125,-0.03125,-0.03515625],\"y\":[0.6177309741107752,0.6143480623772422,0.6143480623772422],\"type\":\"scatter\"},{\"fill\":\"toself\",\"line\":{\"color\":\"LightSeaGreen\",\"width\":2},\"mode\":\"lines\",\"showlegend\":false,\"x\":[0.169921875,0.171875,0.16796875],\"y\":[0.5839018567754456,0.5805189450419126,0.5805189450419126],\"type\":\"scatter\"},{\"fill\":\"toself\",\"line\":{\"color\":\"LightSeaGreen\",\"width\":2},\"mode\":\"lines\",\"showlegend\":false,\"x\":[-0.0078125,-0.005859375,-0.009765625],\"y\":[0.905278471461077,0.901895559727544,0.901895559727544],\"type\":\"scatter\"},{\"fill\":\"toself\",\"line\":{\"color\":\"LightSeaGreen\",\"width\":2},\"mode\":\"lines\",\"showlegend\":false,\"x\":[-0.099609375,-0.09765625,-0.1015625],\"y\":[0.6041993271766433,0.6008164154431103,0.6008164154431103],\"type\":\"scatter\"},{\"fill\":\"toself\",\"line\":{\"color\":\"LightSeaGreen\",\"width\":2},\"mode\":\"lines\",\"showlegend\":false,\"x\":[0.017578125,0.01953125,0.015625],\"y\":[0.8004082077215552,0.7970252959880222,0.7970252959880222],\"type\":\"scatter\"},{\"fill\":\"toself\",\"line\":{\"color\":\"LightSeaGreen\",\"width\":2},\"mode\":\"lines\",\"showlegend\":false,\"x\":[-0.416015625,-0.4140625,-0.41796875],\"y\":[0.1982499191526877,0.19486700741915472,0.19486700741915472],\"type\":\"scatter\"},{\"fill\":\"toself\",\"line\":{\"color\":\"LightSeaGreen\",\"width\":2},\"mode\":\"lines\",\"showlegend\":false,\"x\":[0.423828125,0.42578125,0.421875],\"y\":[0.13735750794909435,0.13397459621556138,0.13397459621556138],\"type\":\"scatter\"},{\"fill\":\"toself\",\"line\":{\"color\":\"LightSeaGreen\",\"width\":2},\"mode\":\"lines\",\"showlegend\":false,\"x\":[0.181640625,0.18359375,0.1796875],\"y\":[0.6583259149131707,0.6549430031796377,0.6549430031796377],\"type\":\"scatter\"},{\"fill\":\"toself\",\"line\":{\"color\":\"LightSeaGreen\",\"width\":2},\"mode\":\"lines\",\"showlegend\":false,\"x\":[0.185546875,0.1875,0.18359375],\"y\":[0.40799044663173145,0.4046075348981985,0.4046075348981985],\"type\":\"scatter\"},{\"fill\":\"toself\",\"line\":{\"color\":\"LightSeaGreen\",\"width\":2},\"mode\":\"lines\",\"showlegend\":false,\"x\":[0.32421875,0.326171875,0.322265625],\"y\":[0.4113733583652644,0.40799044663173145,0.40799044663173145],\"type\":\"scatter\"},{\"fill\":\"toself\",\"line\":{\"color\":\"LightSeaGreen\",\"width\":2},\"mode\":\"lines\",\"showlegend\":false,\"x\":[0.162109375,0.1640625,0.16015625],\"y\":[0.19148409568562177,0.1881011839520888,0.1881011839520888],\"type\":\"scatter\"},{\"fill\":\"toself\",\"line\":{\"color\":\"LightSeaGreen\",\"width\":2},\"mode\":\"lines\",\"showlegend\":false,\"x\":[-0.45703125,-0.455078125,-0.458984375],\"y\":[0.2083986543532866,0.20501574261975364,0.20501574261975364],\"type\":\"scatter\"},{\"fill\":\"toself\",\"line\":{\"color\":\"LightSeaGreen\",\"width\":2},\"mode\":\"lines\",\"showlegend\":false,\"x\":[-0.310546875,-0.30859375,-0.3125],\"y\":[0.13735750794909435,0.13397459621556138,0.13397459621556138],\"type\":\"scatter\"},{\"fill\":\"toself\",\"line\":{\"color\":\"LightSeaGreen\",\"width\":2},\"mode\":\"lines\",\"showlegend\":false,\"x\":[-0.181640625,-0.1796875,-0.18359375],\"y\":[0.35386385889520405,0.3504809471616711,0.3504809471616711],\"type\":\"scatter\"},{\"fill\":\"toself\",\"line\":{\"color\":\"LightSeaGreen\",\"width\":2},\"mode\":\"lines\",\"showlegend\":false,\"x\":[-0.10546875,-0.103515625,-0.107421875],\"y\":[0.7496645317185608,0.7462816199850278,0.7462816199850278],\"type\":\"scatter\"},{\"fill\":\"toself\",\"line\":{\"color\":\"LightSeaGreen\",\"width\":2},\"mode\":\"lines\",\"showlegend\":false,\"x\":[-0.154296875,-0.15234375,-0.15625],\"y\":[0.5974335037095774,0.5940505919760444,0.5940505919760444],\"type\":\"scatter\"},{\"fill\":\"toself\",\"line\":{\"color\":\"LightSeaGreen\",\"width\":2},\"mode\":\"lines\",\"showlegend\":false,\"x\":[0.259765625,0.26171875,0.2578125],\"y\":[0.47564868130239063,0.4722657695688577,0.4722657695688577],\"type\":\"scatter\"},{\"fill\":\"toself\",\"line\":{\"color\":\"LightSeaGreen\",\"width\":2},\"mode\":\"lines\",\"showlegend\":false,\"x\":[0.103515625,0.10546875,0.1015625],\"y\":[0.7936423842544892,0.7902594725209562,0.7902594725209562],\"type\":\"scatter\"},{\"fill\":\"toself\",\"line\":{\"color\":\"LightSeaGreen\",\"width\":2},\"mode\":\"lines\",\"showlegend\":false,\"x\":[-0.005859375,-0.00390625,-0.0078125],\"y\":[0.7936423842544892,0.7902594725209562,0.7902594725209562],\"type\":\"scatter\"},{\"fill\":\"toself\",\"line\":{\"color\":\"LightSeaGreen\",\"width\":2},\"mode\":\"lines\",\"showlegend\":false,\"x\":[-0.419921875,-0.41796875,-0.421875],\"y\":[0.16442080181735805,0.16103789008382507,0.16103789008382507],\"type\":\"scatter\"},{\"fill\":\"toself\",\"line\":{\"color\":\"LightSeaGreen\",\"width\":2},\"mode\":\"lines\",\"showlegend\":false,\"x\":[-0.14453125,-0.142578125,-0.146484375],\"y\":[0.6955379439820334,0.6921550322485004,0.6921550322485004],\"type\":\"scatter\"},{\"fill\":\"toself\",\"line\":{\"color\":\"LightSeaGreen\",\"width\":2},\"mode\":\"lines\",\"showlegend\":false,\"x\":[-0.494140625,-0.4921875,-0.49609375],\"y\":[0.13735750794909435,0.13397459621556138,0.13397459621556138],\"type\":\"scatter\"},{\"fill\":\"toself\",\"line\":{\"color\":\"LightSeaGreen\",\"width\":2},\"mode\":\"lines\",\"showlegend\":false,\"x\":[0.201171875,0.203125,0.19921875],\"y\":[0.15765497835029213,0.15427206661675916,0.15427206661675916],\"type\":\"scatter\"},{\"fill\":\"toself\",\"line\":{\"color\":\"LightSeaGreen\",\"width\":2},\"mode\":\"lines\",\"showlegend\":false,\"x\":[0.232421875,0.234375,0.23046875],\"y\":[0.5297752690389181,0.5263923573053851,0.5263923573053851],\"type\":\"scatter\"},{\"fill\":\"toself\",\"line\":{\"color\":\"LightSeaGreen\",\"width\":2},\"mode\":\"lines\",\"showlegend\":false,\"x\":[0.306640625,0.30859375,0.3046875],\"y\":[0.19148409568562177,0.1881011839520888,0.1881011839520888],\"type\":\"scatter\"},{\"fill\":\"toself\",\"line\":{\"color\":\"LightSeaGreen\",\"width\":2},\"mode\":\"lines\",\"showlegend\":false,\"x\":[0.267578125,0.26953125,0.265625],\"y\":[0.4824145047694566,0.47903159303592363,0.47903159303592363],\"type\":\"scatter\"},{\"fill\":\"toself\",\"line\":{\"color\":\"LightSeaGreen\",\"width\":2},\"mode\":\"lines\",\"showlegend\":false,\"x\":[-0.39453125,-0.392578125,-0.396484375],\"y\":[0.24899359515568217,0.2456106834221492,0.2456106834221492],\"type\":\"scatter\"},{\"fill\":\"toself\",\"line\":{\"color\":\"LightSeaGreen\",\"width\":2},\"mode\":\"lines\",\"showlegend\":false,\"x\":[0.009765625,0.01171875,0.0078125],\"y\":[0.9830854413323351,0.9797025295988021,0.9797025295988021],\"type\":\"scatter\"},{\"fill\":\"toself\",\"line\":{\"color\":\"LightSeaGreen\",\"width\":2},\"mode\":\"lines\",\"showlegend\":false,\"x\":[0.27734375,0.279296875,0.275390625],\"y\":[0.357246770628737,0.35386385889520405,0.35386385889520405],\"type\":\"scatter\"},{\"fill\":\"toself\",\"line\":{\"color\":\"LightSeaGreen\",\"width\":2},\"mode\":\"lines\",\"showlegend\":false,\"x\":[0.076171875,0.078125,0.07421875],\"y\":[0.638028444511973,0.63464553277844,0.63464553277844],\"type\":\"scatter\"},{\"fill\":\"toself\",\"line\":{\"color\":\"LightSeaGreen\",\"width\":2},\"mode\":\"lines\",\"showlegend\":false,\"x\":[0.115234375,0.1171875,0.11328125],\"y\":[0.13735750794909435,0.13397459621556138,0.13397459621556138],\"type\":\"scatter\"},{\"fill\":\"toself\",\"line\":{\"color\":\"LightSeaGreen\",\"width\":2},\"mode\":\"lines\",\"showlegend\":false,\"x\":[-0.060546875,-0.05859375,-0.0625],\"y\":[0.8883639127934122,0.8849810010598792,0.8849810010598792],\"type\":\"scatter\"},{\"fill\":\"toself\",\"line\":{\"color\":\"LightSeaGreen\",\"width\":2},\"mode\":\"lines\",\"showlegend\":false,\"x\":[-0.044921875,-0.04296875,-0.046875],\"y\":[0.9154272066616759,0.9120442949281429,0.9120442949281429],\"type\":\"scatter\"},{\"fill\":\"toself\",\"line\":{\"color\":\"LightSeaGreen\",\"width\":2},\"mode\":\"lines\",\"showlegend\":false,\"x\":[0.162109375,0.1640625,0.16015625],\"y\":[0.7192183261167641,0.7158354143832311,0.7158354143832311],\"type\":\"scatter\"},{\"fill\":\"toself\",\"line\":{\"color\":\"LightSeaGreen\",\"width\":2},\"mode\":\"lines\",\"showlegend\":false,\"x\":[0.205078125,0.20703125,0.203125],\"y\":[0.6244967975778412,0.6211138858443082,0.6211138858443082],\"type\":\"scatter\"},{\"fill\":\"toself\",\"line\":{\"color\":\"LightSeaGreen\",\"width\":2},\"mode\":\"lines\",\"showlegend\":false,\"x\":[-0.248046875,-0.24609375,-0.25],\"y\":[0.35386385889520405,0.3504809471616711,0.3504809471616711],\"type\":\"scatter\"},{\"fill\":\"toself\",\"line\":{\"color\":\"LightSeaGreen\",\"width\":2},\"mode\":\"lines\",\"showlegend\":false,\"x\":[0.291015625,0.29296875,0.2890625],\"y\":[0.4215220935658633,0.41813918183233034,0.41813918183233034],\"type\":\"scatter\"},{\"fill\":\"toself\",\"line\":{\"color\":\"LightSeaGreen\",\"width\":2},\"mode\":\"lines\",\"showlegend\":false,\"x\":[-0.322265625,-0.3203125,-0.32421875],\"y\":[0.21854738955388547,0.2151644778203525,0.2151644778203525],\"type\":\"scatter\"},{\"fill\":\"toself\",\"line\":{\"color\":\"LightSeaGreen\",\"width\":2},\"mode\":\"lines\",\"showlegend\":false,\"x\":[0.005859375,0.0078125,0.00390625],\"y\":[0.5703702098413137,0.5669872981077807,0.5669872981077807],\"type\":\"scatter\"},{\"fill\":\"toself\",\"line\":{\"color\":\"LightSeaGreen\",\"width\":2},\"mode\":\"lines\",\"showlegend\":false,\"x\":[0.189453125,0.19140625,0.1875],\"y\":[0.35386385889520405,0.3504809471616711,0.3504809471616711],\"type\":\"scatter\"},{\"fill\":\"toself\",\"line\":{\"color\":\"LightSeaGreen\",\"width\":2},\"mode\":\"lines\",\"showlegend\":false,\"x\":[-0.220703125,-0.21875,-0.22265625],\"y\":[0.5162436221047862,0.5128607103712532,0.5128607103712532],\"type\":\"scatter\"},{\"fill\":\"toself\",\"line\":{\"color\":\"LightSeaGreen\",\"width\":2},\"mode\":\"lines\",\"showlegend\":false,\"x\":[-0.033203125,-0.03125,-0.03515625],\"y\":[0.6109651506437093,0.6075822389101763,0.6075822389101763],\"type\":\"scatter\"},{\"fill\":\"toself\",\"line\":{\"color\":\"LightSeaGreen\",\"width\":2},\"mode\":\"lines\",\"showlegend\":false,\"x\":[-0.07421875,-0.072265625,-0.076171875],\"y\":[0.5737531215748467,0.5703702098413137,0.5703702098413137],\"type\":\"scatter\"},{\"fill\":\"toself\",\"line\":{\"color\":\"LightSeaGreen\",\"width\":2},\"mode\":\"lines\",\"showlegend\":false,\"x\":[-0.271484375,-0.26953125,-0.2734375],\"y\":[0.3809271527634678,0.37754424102993484,0.37754424102993484],\"type\":\"scatter\"},{\"fill\":\"toself\",\"line\":{\"color\":\"LightSeaGreen\",\"width\":2},\"mode\":\"lines\",\"showlegend\":false,\"x\":[-0.388671875,-0.38671875,-0.390625],\"y\":[0.2456106834221492,0.24222777168861623,0.24222777168861623],\"type\":\"scatter\"},{\"fill\":\"toself\",\"line\":{\"color\":\"LightSeaGreen\",\"width\":2},\"mode\":\"lines\",\"showlegend\":false,\"x\":[0.298828125,0.30078125,0.296875],\"y\":[0.3673955058293359,0.36401259409580294,0.36401259409580294],\"type\":\"scatter\"},{\"fill\":\"toself\",\"line\":{\"color\":\"LightSeaGreen\",\"width\":2},\"mode\":\"lines\",\"showlegend\":false,\"x\":[0.16796875,0.169921875,0.166015625],\"y\":[0.42490500529939623,0.4215220935658633,0.4215220935658633],\"type\":\"scatter\"},{\"fill\":\"toself\",\"line\":{\"color\":\"LightSeaGreen\",\"width\":2},\"mode\":\"lines\",\"showlegend\":false,\"x\":[0.037109375,0.0390625,0.03515625],\"y\":[0.901895559727544,0.898512647994011,0.898512647994011],\"type\":\"scatter\"},{\"fill\":\"toself\",\"line\":{\"color\":\"LightSeaGreen\",\"width\":2},\"mode\":\"lines\",\"showlegend\":false,\"x\":[0.330078125,0.33203125,0.328125],\"y\":[0.2456106834221492,0.24222777168861623,0.24222777168861623],\"type\":\"scatter\"},{\"fill\":\"toself\",\"line\":{\"color\":\"LightSeaGreen\",\"width\":2},\"mode\":\"lines\",\"showlegend\":false,\"x\":[-0.099609375,-0.09765625,-0.1015625],\"y\":[0.6041993271766433,0.6008164154431103,0.6008164154431103],\"type\":\"scatter\"},{\"fill\":\"toself\",\"line\":{\"color\":\"LightSeaGreen\",\"width\":2},\"mode\":\"lines\",\"showlegend\":false,\"x\":[-0.02734375,-0.025390625,-0.029296875],\"y\":[0.6008164154431104,0.5974335037095774,0.5974335037095774],\"type\":\"scatter\"},{\"fill\":\"toself\",\"line\":{\"color\":\"LightSeaGreen\",\"width\":2},\"mode\":\"lines\",\"showlegend\":false,\"x\":[-0.474609375,-0.47265625,-0.4765625],\"y\":[0.13735750794909435,0.13397459621556138,0.13397459621556138],\"type\":\"scatter\"},{\"fill\":\"toself\",\"line\":{\"color\":\"LightSeaGreen\",\"width\":2},\"mode\":\"lines\",\"showlegend\":false,\"x\":[-0.498046875,-0.49609375,-0.5],\"y\":[0.13735750794909435,0.13397459621556138,0.13397459621556138],\"type\":\"scatter\"},{\"fill\":\"toself\",\"line\":{\"color\":\"LightSeaGreen\",\"width\":2},\"mode\":\"lines\",\"showlegend\":false,\"x\":[-0.1640625,-0.162109375,-0.166015625],\"y\":[0.39107588796406667,0.3876929762305337,0.3876929762305337],\"type\":\"scatter\"},{\"fill\":\"toself\",\"line\":{\"color\":\"LightSeaGreen\",\"width\":2},\"mode\":\"lines\",\"showlegend\":false,\"x\":[0.349609375,0.3515625,0.34765625],\"y\":[0.3876929762305337,0.3843100644970008,0.3843100644970008],\"type\":\"scatter\"},{\"fill\":\"toself\",\"line\":{\"color\":\"LightSeaGreen\",\"width\":2},\"mode\":\"lines\",\"showlegend\":false,\"x\":[0.322265625,0.32421875,0.3203125],\"y\":[0.19148409568562177,0.1881011839520888,0.1881011839520888],\"type\":\"scatter\"},{\"fill\":\"toself\",\"line\":{\"color\":\"LightSeaGreen\",\"width\":2},\"mode\":\"lines\",\"showlegend\":false,\"x\":[0.208984375,0.2109375,0.20703125],\"y\":[0.5839018567754456,0.5805189450419126,0.5805189450419126],\"type\":\"scatter\"},{\"fill\":\"toself\",\"line\":{\"color\":\"LightSeaGreen\",\"width\":2},\"mode\":\"lines\",\"showlegend\":false,\"x\":[0.30078125,0.302734375,0.298828125],\"y\":[0.357246770628737,0.35386385889520405,0.35386385889520405],\"type\":\"scatter\"},{\"fill\":\"toself\",\"line\":{\"color\":\"LightSeaGreen\",\"width\":2},\"mode\":\"lines\",\"showlegend\":false,\"x\":[-0.298828125,-0.296875,-0.30078125],\"y\":[0.4215220935658633,0.41813918183233034,0.41813918183233034],\"type\":\"scatter\"},{\"fill\":\"toself\",\"line\":{\"color\":\"LightSeaGreen\",\"width\":2},\"mode\":\"lines\",\"showlegend\":false,\"x\":[0.083984375,0.0859375,0.08203125],\"y\":[0.13735750794909435,0.13397459621556138,0.13397459621556138],\"type\":\"scatter\"},{\"fill\":\"toself\",\"line\":{\"color\":\"LightSeaGreen\",\"width\":2},\"mode\":\"lines\",\"showlegend\":false,\"x\":[0.19921875,0.201171875,0.197265625],\"y\":[0.4790315930359236,0.47564868130239063,0.47564868130239063],\"type\":\"scatter\"},{\"fill\":\"toself\",\"line\":{\"color\":\"LightSeaGreen\",\"width\":2},\"mode\":\"lines\",\"showlegend\":false,\"x\":[-0.12890625,-0.126953125,-0.130859375],\"y\":[0.7631961786526926,0.7598132669191596,0.7598132669191596],\"type\":\"scatter\"},{\"fill\":\"toself\",\"line\":{\"color\":\"LightSeaGreen\",\"width\":2},\"mode\":\"lines\",\"showlegend\":false,\"x\":[-0.353515625,-0.3515625,-0.35546875],\"y\":[0.25914233035628104,0.2557594186227481,0.2557594186227481],\"type\":\"scatter\"},{\"fill\":\"toself\",\"line\":{\"color\":\"LightSeaGreen\",\"width\":2},\"mode\":\"lines\",\"showlegend\":false,\"x\":[-0.416015625,-0.4140625,-0.41796875],\"y\":[0.13735750794909435,0.13397459621556138,0.13397459621556138],\"type\":\"scatter\"},{\"fill\":\"toself\",\"line\":{\"color\":\"LightSeaGreen\",\"width\":2},\"mode\":\"lines\",\"showlegend\":false,\"x\":[-0.208984375,-0.20703125,-0.2109375],\"y\":[0.5771360333083796,0.5737531215748466,0.5737531215748466],\"type\":\"scatter\"}],                        {\"template\":{\"data\":{\"bar\":[{\"error_x\":{\"color\":\"#f2f5fa\"},\"error_y\":{\"color\":\"#f2f5fa\"},\"marker\":{\"line\":{\"color\":\"rgb(17,17,17)\",\"width\":0.5},\"pattern\":{\"fillmode\":\"overlay\",\"size\":10,\"solidity\":0.2}},\"type\":\"bar\"}],\"barpolar\":[{\"marker\":{\"line\":{\"color\":\"rgb(17,17,17)\",\"width\":0.5},\"pattern\":{\"fillmode\":\"overlay\",\"size\":10,\"solidity\":0.2}},\"type\":\"barpolar\"}],\"carpet\":[{\"aaxis\":{\"endlinecolor\":\"#A2B1C6\",\"gridcolor\":\"#506784\",\"linecolor\":\"#506784\",\"minorgridcolor\":\"#506784\",\"startlinecolor\":\"#A2B1C6\"},\"baxis\":{\"endlinecolor\":\"#A2B1C6\",\"gridcolor\":\"#506784\",\"linecolor\":\"#506784\",\"minorgridcolor\":\"#506784\",\"startlinecolor\":\"#A2B1C6\"},\"type\":\"carpet\"}],\"choropleth\":[{\"colorbar\":{\"outlinewidth\":0,\"ticks\":\"\"},\"type\":\"choropleth\"}],\"contour\":[{\"colorbar\":{\"outlinewidth\":0,\"ticks\":\"\"},\"colorscale\":[[0.0,\"#0d0887\"],[0.1111111111111111,\"#46039f\"],[0.2222222222222222,\"#7201a8\"],[0.3333333333333333,\"#9c179e\"],[0.4444444444444444,\"#bd3786\"],[0.5555555555555556,\"#d8576b\"],[0.6666666666666666,\"#ed7953\"],[0.7777777777777778,\"#fb9f3a\"],[0.8888888888888888,\"#fdca26\"],[1.0,\"#f0f921\"]],\"type\":\"contour\"}],\"contourcarpet\":[{\"colorbar\":{\"outlinewidth\":0,\"ticks\":\"\"},\"type\":\"contourcarpet\"}],\"heatmap\":[{\"colorbar\":{\"outlinewidth\":0,\"ticks\":\"\"},\"colorscale\":[[0.0,\"#0d0887\"],[0.1111111111111111,\"#46039f\"],[0.2222222222222222,\"#7201a8\"],[0.3333333333333333,\"#9c179e\"],[0.4444444444444444,\"#bd3786\"],[0.5555555555555556,\"#d8576b\"],[0.6666666666666666,\"#ed7953\"],[0.7777777777777778,\"#fb9f3a\"],[0.8888888888888888,\"#fdca26\"],[1.0,\"#f0f921\"]],\"type\":\"heatmap\"}],\"heatmapgl\":[{\"colorbar\":{\"outlinewidth\":0,\"ticks\":\"\"},\"colorscale\":[[0.0,\"#0d0887\"],[0.1111111111111111,\"#46039f\"],[0.2222222222222222,\"#7201a8\"],[0.3333333333333333,\"#9c179e\"],[0.4444444444444444,\"#bd3786\"],[0.5555555555555556,\"#d8576b\"],[0.6666666666666666,\"#ed7953\"],[0.7777777777777778,\"#fb9f3a\"],[0.8888888888888888,\"#fdca26\"],[1.0,\"#f0f921\"]],\"type\":\"heatmapgl\"}],\"histogram\":[{\"marker\":{\"pattern\":{\"fillmode\":\"overlay\",\"size\":10,\"solidity\":0.2}},\"type\":\"histogram\"}],\"histogram2d\":[{\"colorbar\":{\"outlinewidth\":0,\"ticks\":\"\"},\"colorscale\":[[0.0,\"#0d0887\"],[0.1111111111111111,\"#46039f\"],[0.2222222222222222,\"#7201a8\"],[0.3333333333333333,\"#9c179e\"],[0.4444444444444444,\"#bd3786\"],[0.5555555555555556,\"#d8576b\"],[0.6666666666666666,\"#ed7953\"],[0.7777777777777778,\"#fb9f3a\"],[0.8888888888888888,\"#fdca26\"],[1.0,\"#f0f921\"]],\"type\":\"histogram2d\"}],\"histogram2dcontour\":[{\"colorbar\":{\"outlinewidth\":0,\"ticks\":\"\"},\"colorscale\":[[0.0,\"#0d0887\"],[0.1111111111111111,\"#46039f\"],[0.2222222222222222,\"#7201a8\"],[0.3333333333333333,\"#9c179e\"],[0.4444444444444444,\"#bd3786\"],[0.5555555555555556,\"#d8576b\"],[0.6666666666666666,\"#ed7953\"],[0.7777777777777778,\"#fb9f3a\"],[0.8888888888888888,\"#fdca26\"],[1.0,\"#f0f921\"]],\"type\":\"histogram2dcontour\"}],\"mesh3d\":[{\"colorbar\":{\"outlinewidth\":0,\"ticks\":\"\"},\"type\":\"mesh3d\"}],\"parcoords\":[{\"line\":{\"colorbar\":{\"outlinewidth\":0,\"ticks\":\"\"}},\"type\":\"parcoords\"}],\"pie\":[{\"automargin\":true,\"type\":\"pie\"}],\"scatter\":[{\"marker\":{\"line\":{\"color\":\"#283442\"}},\"type\":\"scatter\"}],\"scatter3d\":[{\"line\":{\"colorbar\":{\"outlinewidth\":0,\"ticks\":\"\"}},\"marker\":{\"colorbar\":{\"outlinewidth\":0,\"ticks\":\"\"}},\"type\":\"scatter3d\"}],\"scattercarpet\":[{\"marker\":{\"colorbar\":{\"outlinewidth\":0,\"ticks\":\"\"}},\"type\":\"scattercarpet\"}],\"scattergeo\":[{\"marker\":{\"colorbar\":{\"outlinewidth\":0,\"ticks\":\"\"}},\"type\":\"scattergeo\"}],\"scattergl\":[{\"marker\":{\"line\":{\"color\":\"#283442\"}},\"type\":\"scattergl\"}],\"scattermapbox\":[{\"marker\":{\"colorbar\":{\"outlinewidth\":0,\"ticks\":\"\"}},\"type\":\"scattermapbox\"}],\"scatterpolar\":[{\"marker\":{\"colorbar\":{\"outlinewidth\":0,\"ticks\":\"\"}},\"type\":\"scatterpolar\"}],\"scatterpolargl\":[{\"marker\":{\"colorbar\":{\"outlinewidth\":0,\"ticks\":\"\"}},\"type\":\"scatterpolargl\"}],\"scatterternary\":[{\"marker\":{\"colorbar\":{\"outlinewidth\":0,\"ticks\":\"\"}},\"type\":\"scatterternary\"}],\"surface\":[{\"colorbar\":{\"outlinewidth\":0,\"ticks\":\"\"},\"colorscale\":[[0.0,\"#0d0887\"],[0.1111111111111111,\"#46039f\"],[0.2222222222222222,\"#7201a8\"],[0.3333333333333333,\"#9c179e\"],[0.4444444444444444,\"#bd3786\"],[0.5555555555555556,\"#d8576b\"],[0.6666666666666666,\"#ed7953\"],[0.7777777777777778,\"#fb9f3a\"],[0.8888888888888888,\"#fdca26\"],[1.0,\"#f0f921\"]],\"type\":\"surface\"}],\"table\":[{\"cells\":{\"fill\":{\"color\":\"#506784\"},\"line\":{\"color\":\"rgb(17,17,17)\"}},\"header\":{\"fill\":{\"color\":\"#2a3f5f\"},\"line\":{\"color\":\"rgb(17,17,17)\"}},\"type\":\"table\"}]},\"layout\":{\"annotationdefaults\":{\"arrowcolor\":\"#f2f5fa\",\"arrowhead\":0,\"arrowwidth\":1},\"autotypenumbers\":\"strict\",\"coloraxis\":{\"colorbar\":{\"outlinewidth\":0,\"ticks\":\"\"}},\"colorscale\":{\"diverging\":[[0,\"#8e0152\"],[0.1,\"#c51b7d\"],[0.2,\"#de77ae\"],[0.3,\"#f1b6da\"],[0.4,\"#fde0ef\"],[0.5,\"#f7f7f7\"],[0.6,\"#e6f5d0\"],[0.7,\"#b8e186\"],[0.8,\"#7fbc41\"],[0.9,\"#4d9221\"],[1,\"#276419\"]],\"sequential\":[[0.0,\"#0d0887\"],[0.1111111111111111,\"#46039f\"],[0.2222222222222222,\"#7201a8\"],[0.3333333333333333,\"#9c179e\"],[0.4444444444444444,\"#bd3786\"],[0.5555555555555556,\"#d8576b\"],[0.6666666666666666,\"#ed7953\"],[0.7777777777777778,\"#fb9f3a\"],[0.8888888888888888,\"#fdca26\"],[1.0,\"#f0f921\"]],\"sequentialminus\":[[0.0,\"#0d0887\"],[0.1111111111111111,\"#46039f\"],[0.2222222222222222,\"#7201a8\"],[0.3333333333333333,\"#9c179e\"],[0.4444444444444444,\"#bd3786\"],[0.5555555555555556,\"#d8576b\"],[0.6666666666666666,\"#ed7953\"],[0.7777777777777778,\"#fb9f3a\"],[0.8888888888888888,\"#fdca26\"],[1.0,\"#f0f921\"]]},\"colorway\":[\"#636efa\",\"#EF553B\",\"#00cc96\",\"#ab63fa\",\"#FFA15A\",\"#19d3f3\",\"#FF6692\",\"#B6E880\",\"#FF97FF\",\"#FECB52\"],\"font\":{\"color\":\"#f2f5fa\"},\"geo\":{\"bgcolor\":\"rgb(17,17,17)\",\"lakecolor\":\"rgb(17,17,17)\",\"landcolor\":\"rgb(17,17,17)\",\"showlakes\":true,\"showland\":true,\"subunitcolor\":\"#506784\"},\"hoverlabel\":{\"align\":\"left\"},\"hovermode\":\"closest\",\"mapbox\":{\"style\":\"dark\"},\"paper_bgcolor\":\"rgb(17,17,17)\",\"plot_bgcolor\":\"rgb(17,17,17)\",\"polar\":{\"angularaxis\":{\"gridcolor\":\"#506784\",\"linecolor\":\"#506784\",\"ticks\":\"\"},\"bgcolor\":\"rgb(17,17,17)\",\"radialaxis\":{\"gridcolor\":\"#506784\",\"linecolor\":\"#506784\",\"ticks\":\"\"}},\"scene\":{\"xaxis\":{\"backgroundcolor\":\"rgb(17,17,17)\",\"gridcolor\":\"#506784\",\"gridwidth\":2,\"linecolor\":\"#506784\",\"showbackground\":true,\"ticks\":\"\",\"zerolinecolor\":\"#C8D4E3\"},\"yaxis\":{\"backgroundcolor\":\"rgb(17,17,17)\",\"gridcolor\":\"#506784\",\"gridwidth\":2,\"linecolor\":\"#506784\",\"showbackground\":true,\"ticks\":\"\",\"zerolinecolor\":\"#C8D4E3\"},\"zaxis\":{\"backgroundcolor\":\"rgb(17,17,17)\",\"gridcolor\":\"#506784\",\"gridwidth\":2,\"linecolor\":\"#506784\",\"showbackground\":true,\"ticks\":\"\",\"zerolinecolor\":\"#C8D4E3\"}},\"shapedefaults\":{\"line\":{\"color\":\"#f2f5fa\"}},\"sliderdefaults\":{\"bgcolor\":\"#C8D4E3\",\"bordercolor\":\"rgb(17,17,17)\",\"borderwidth\":1,\"tickwidth\":0},\"ternary\":{\"aaxis\":{\"gridcolor\":\"#506784\",\"linecolor\":\"#506784\",\"ticks\":\"\"},\"baxis\":{\"gridcolor\":\"#506784\",\"linecolor\":\"#506784\",\"ticks\":\"\"},\"bgcolor\":\"rgb(17,17,17)\",\"caxis\":{\"gridcolor\":\"#506784\",\"linecolor\":\"#506784\",\"ticks\":\"\"}},\"title\":{\"x\":0.05},\"updatemenudefaults\":{\"bgcolor\":\"#506784\",\"borderwidth\":0},\"xaxis\":{\"automargin\":true,\"gridcolor\":\"#283442\",\"linecolor\":\"#506784\",\"ticks\":\"\",\"title\":{\"standoff\":15},\"zerolinecolor\":\"#283442\",\"zerolinewidth\":2},\"yaxis\":{\"automargin\":true,\"gridcolor\":\"#283442\",\"linecolor\":\"#506784\",\"ticks\":\"\",\"title\":{\"standoff\":15},\"zerolinecolor\":\"#283442\",\"zerolinewidth\":2}}}},                        {\"responsive\": true}                    ).then(function(){\n                            \nvar gd = document.getElementById('d58e14c9-a05d-48f5-a5b0-3df55679dffd');\nvar x = new MutationObserver(function (mutations, observer) {{\n        var display = window.getComputedStyle(gd).display;\n        if (!display || display === 'none') {{\n            console.log([gd, 'removed!']);\n            Plotly.purge(gd);\n            observer.disconnect();\n        }}\n}});\n\n// Listen for the removal of the full notebook cells\nvar notebookContainer = gd.closest('#notebook-container');\nif (notebookContainer) {{\n    x.observe(notebookContainer, {childList: true});\n}}\n\n// Listen for the clearing of the current output cell\nvar outputEl = gd.closest('.output');\nif (outputEl) {{\n    x.observe(outputEl, {childList: true});\n}}\n\n                        })                };                });            </script>        </div>"
     },
     "metadata": {},
     "output_type": "display_data"
    }
   ],
   "source": [
    "sierpinski.drawRandomFractal(8,1000)"
   ],
   "metadata": {
    "collapsed": false
   }
  },
  {
   "cell_type": "code",
   "execution_count": null,
   "outputs": [],
   "source": [],
   "metadata": {
    "collapsed": false
   }
  }
 ],
 "metadata": {
  "kernelspec": {
   "display_name": "Python 3",
   "language": "python",
   "name": "python3"
  },
  "language_info": {
   "codemirror_mode": {
    "name": "ipython",
    "version": 2
   },
   "file_extension": ".py",
   "mimetype": "text/x-python",
   "name": "python",
   "nbconvert_exporter": "python",
   "pygments_lexer": "ipython2",
   "version": "2.7.6"
  }
 },
 "nbformat": 4,
 "nbformat_minor": 0
}
