{
 "cells": [
  {
   "cell_type": "markdown",
   "source": [
    "# Imports:"
   ],
   "metadata": {
    "collapsed": false
   }
  },
  {
   "cell_type": "code",
   "execution_count": 5,
   "outputs": [],
   "source": [
    "import numpy as np\n",
    "import matplotlib.pyplot as plt\n",
    "import copy\n",
    "from typing import Sequence"
   ],
   "metadata": {
    "collapsed": false
   }
  },
  {
   "cell_type": "markdown",
   "source": [
    "# Q4.1:"
   ],
   "metadata": {
    "collapsed": false
   }
  },
  {
   "cell_type": "code",
   "execution_count": 6,
   "outputs": [],
   "source": [
    "class SimplePercolation:\n",
    "    \"\"\"\n",
    "    the class to simulate 2d percolation and check it with simple method(checking all pathes)\n",
    "    methods:\n",
    "\n",
    "    light:\n",
    "    the function to check a random number and light the squares\n",
    "\n",
    "    show:\n",
    "    the function to show the result of the percolation\n",
    "\n",
    "    check:\n",
    "    the function to check the percolation with simple method\n",
    "\n",
    "    checkSquare:\n",
    "    the function to check a square\n",
    "\n",
    "    \"\"\"\n",
    "\n",
    "    def __init__(self, p: float, length: int) -> None:\n",
    "        \"\"\"\n",
    "        the function to construct the simplePercolation object\n",
    "\n",
    "        :param p:the input possiblity\n",
    "        :type p: float\n",
    "        :param length: the size of the area\n",
    "        :type length: int\n",
    "        \"\"\"\n",
    "        self.p = p\n",
    "        self.length = length\n",
    "        self.map = np.zeros((self.length,self.length))\n",
    "        self.cmap = self.map.copy()\n",
    "\n",
    "\n",
    "    def light(self) -> None:\n",
    "        \"\"\"\n",
    "        the function to check a random number and light the squares\n",
    "\n",
    "        rp is the random param\n",
    "        \"\"\"\n",
    "        rp = np.random.uniform(0.,1.,(self.length,self.length))\n",
    "        self.map += np.ones((self.length,self.length)) * (rp<self.p)\n",
    "\n",
    "    def show(self) -> None:\n",
    "        \"\"\"\n",
    "        the function to show the result of the percolation\n",
    "        \"\"\"\n",
    "        plt.imshow(self.map)\n",
    "\n",
    "    def check(self) -> int:\n",
    "        \"\"\"\n",
    "        the function to check the percolation with simple method\n",
    "\n",
    "        :return: 1 if the percolation happened, else 0\n",
    "        :rtype: int\n",
    "        \"\"\"\n",
    "        self.cmap = self.map.copy()\n",
    "        res = 0\n",
    "        for i in range(self.length):\n",
    "            if self.checkSquare(0,i)==1:\n",
    "                res = 1\n",
    "                break\n",
    "\n",
    "        return res\n",
    "\n",
    "    def checkSquare(self, x: int, y: int) -> int:\n",
    "        \"\"\"\n",
    "        the function to check a square\n",
    "        first check if the point is in bounds then check the left,right,up and down recursively\n",
    "        if we reach the end return 1\n",
    "\n",
    "        :param x: the first coordinate of the point\n",
    "        :type x:int\n",
    "        :param y: the second coordinate of the point\n",
    "        :type y: int\n",
    "        :return: 1 if the square is at the end else:None\n",
    "        :rtype: int,None\n",
    "        \"\"\"\n",
    "        if x==-1 or x==self.length or y==-1 or y==self.length:pass\n",
    "        else:\n",
    "            if self.cmap[x][y] ==1 :\n",
    "                if x==self.length-1:\n",
    "                    return 1\n",
    "                self.cmap[x][y] = 0\n",
    "                if self.checkSquare(x-1,y)==1: return 1\n",
    "                if self.checkSquare(x,y-1)==1: return 1\n",
    "                if self.checkSquare(x+1,y)==1: return 1\n",
    "                if self.checkSquare(x,y+1)==1: return 1\n",
    "            else:\n",
    "                pass\n",
    "\n"
   ],
   "metadata": {
    "collapsed": false
   }
  },
  {
   "cell_type": "markdown",
   "source": [
    "## Q4.1 main Part:"
   ],
   "metadata": {
    "collapsed": false
   }
  },
  {
   "cell_type": "code",
   "execution_count": 7,
   "outputs": [
    {
     "data": {
      "text/plain": "1"
     },
     "execution_count": 7,
     "metadata": {},
     "output_type": "execute_result"
    },
    {
     "data": {
      "text/plain": "<Figure size 432x288 with 1 Axes>",
      "image/png": "[encoded data removed]"
     },
     "metadata": {
      "needs_background": "light"
     },
     "output_type": "display_data"
    }
   ],
   "source": [
    "p = SimplePercolation(0.9,20)\n",
    "p.light()\n",
    "p.show()\n",
    "p.check()"
   ],
   "metadata": {
    "collapsed": false
   }
  },
  {
   "cell_type": "markdown",
   "source": [
    "# Q4.2:"
   ],
   "metadata": {
    "collapsed": false
   }
  },
  {
   "cell_type": "code",
   "execution_count": 8,
   "outputs": [],
   "source": [
    "class ColoringPercolation:\n",
    "    \"\"\"\n",
    "    the class to simulate 2d percolation and check it with coloring method\n",
    "    methods:\n",
    "\n",
    "    show:\n",
    "        the function to show the result of the percolation\n",
    "\n",
    "    check:\n",
    "        the function to check the percolation with coloring method\n",
    "\n",
    "    checkSquare:\n",
    "        the function to check a square\n",
    "\n",
    "    getColors:\n",
    "        the function to get the colors of the points in the input list\n",
    "\n",
    "    getLightingNeighbors:\n",
    "        the function to get the lighting neighbors of the point (x,y)\n",
    "\n",
    "    \"\"\"\n",
    "    def __init__(self, p: float, length: int, maxInt: int) -> None:\n",
    "        \"\"\"\n",
    "        the function to construct the coloringPercolation object\n",
    "\n",
    "        :param p:the possibility param\n",
    "        :type p:float\n",
    "        :param length:the size of the area\n",
    "        :type length:int\n",
    "        :param maxInt:the color of the last layer\n",
    "        :type maxInt:int\n",
    "        \"\"\"\n",
    "        self.p = p\n",
    "        self.length = length\n",
    "        self.map = np.zeros((self.length,self.length))\n",
    "        self.color = 2\n",
    "        self.maxInt = maxInt\n",
    "\n",
    "    def show(self) -> None:\n",
    "        \"\"\"\n",
    "        the function to show the result of the percolation\n",
    "        \"\"\"\n",
    "        plt.imshow(self.map)\n",
    "\n",
    "    def check(self) -> int:\n",
    "        \"\"\"\n",
    "        the function to check the percolation with coloring method\n",
    "\n",
    "        :return:1 if the percolation happened else 0\n",
    "        :rtype:int\n",
    "        \"\"\"\n",
    "        self.map[0]=1\n",
    "        self.map[self.length-1] = self.maxInt\n",
    "        for i in range(1,self.length-1):\n",
    "            for j in range(self.length):\n",
    "                self.checkSquare(i,j)\n",
    "        if any(self.map[self.length-1]==1) :return 1\n",
    "        else:return 0\n",
    "\n",
    "    def checkSquare(self, x: int, y: int) -> None:\n",
    "        \"\"\"\n",
    "        the function to check a square\n",
    "\n",
    "        :param x:the first coordination of the point\n",
    "        :type x:int\n",
    "        :param y:the second coordination of the point\n",
    "        :type y:int\n",
    "        \"\"\"\n",
    "        rand = int(np.random.rand(1)<=self.p)\n",
    "        if rand == 1:\n",
    "            self.map[x,y] = self.color\n",
    "            self.color += 1\n",
    "\n",
    "            lns = self.getLightingNeighbors(x,y)\n",
    "            if len(lns)==1:\n",
    "                self.map[x][y] = self.map[lns[0][0]][lns[0][1]]\n",
    "            elif len(lns)>1:\n",
    "                colors = self.getColors(lns)\n",
    "                colors.append(self.map[x][y])\n",
    "                minColor = min(colors)\n",
    "                for c in colors:\n",
    "                    self.map += (minColor-c)*np.ones((self.length,self.length))*(self.map==c)\n",
    "\n",
    "    def getColors(self, points: Sequence[Sequence[int]]) -> Sequence[int]:\n",
    "        \"\"\"\n",
    "        the function to get the colors of the points in the input list\n",
    "\n",
    "        :param points:the input list\n",
    "        :type points:Sequence[Sequence[int]]\n",
    "        :return:the list of colors\n",
    "        :rtype:Sequence[int]\n",
    "        \"\"\"\n",
    "        colors = []\n",
    "        for point in points:\n",
    "            colors.append(self.map[point[0]][point[1]])\n",
    "        return list(set(colors))\n",
    "\n",
    "\n",
    "    def getLightingNeighbors(self, x: int, y: int) -> Sequence[Sequence[int]]:\n",
    "        \"\"\"\n",
    "        the function to get the lighting neighbors of the point (x,y)\n",
    "        checking if the neighbors are not out of bounds.\n",
    "\n",
    "        :param x:the first coordinate of the point\n",
    "        :type x:int\n",
    "        :param y:the second coordinate of the point\n",
    "        :type y:int\n",
    "        :return:the lighting neighbors\n",
    "        :rtype:Sequence[Sequence[int]]\n",
    "        \"\"\"\n",
    "        lightingNeighbors = []\n",
    "        if (x+1)!=self.length:\n",
    "            if self.map[x+1][y]!=0:\n",
    "                lightingNeighbors.append((x+1,y))\n",
    "\n",
    "        if x!=0:\n",
    "            if self.map[x-1][y]!=0:\n",
    "                lightingNeighbors.append((x-1,y))\n",
    "\n",
    "        if (y+1)!=self.length:\n",
    "            if self.map[x][y+1]!=0:\n",
    "                lightingNeighbors.append((x,y+1))\n",
    "\n",
    "        if y!=0:\n",
    "            if self.map[x][y-1]!=0:\n",
    "                lightingNeighbors.append((x,y-1))\n",
    "\n",
    "        return lightingNeighbors\n",
    "\n",
    "\n"
   ],
   "metadata": {
    "collapsed": false
   }
  },
  {
   "cell_type": "markdown",
   "source": [
    "## Q4.2 main Part:"
   ],
   "metadata": {
    "collapsed": false
   }
  },
  {
   "cell_type": "code",
   "execution_count": 11,
   "outputs": [
    {
     "name": "stdout",
     "output_type": "stream",
     "text": [
      "1\n"
     ]
    },
    {
     "data": {
      "text/plain": "<Figure size 432x288 with 1 Axes>",
      "image/png": "[encoded data removed]"
     },
     "metadata": {
      "needs_background": "light"
     },
     "output_type": "display_data"
    }
   ],
   "source": [
    "cp = ColoringPercolation(0.5,10,20)\n",
    "print(cp.check())\n",
    "cp.show()"
   ],
   "metadata": {
    "collapsed": false
   }
  },
  {
   "cell_type": "markdown",
   "source": [
    "# Q4.3:"
   ],
   "metadata": {
    "collapsed": false
   }
  },
  {
   "cell_type": "code",
   "execution_count": 13,
   "outputs": [],
   "source": [
    "class HoshenKeoplmanPercolation:\n",
    "    \"\"\"\n",
    "    the class to simulate 2d percolation and check it with Hoshen Keoplman method\n",
    "    methods:\n",
    "\n",
    "    show:\n",
    "        the function to show the result of the percolation\n",
    "\n",
    "    check:\n",
    "        the function to check the percolation with coloring method\n",
    "\n",
    "    checkLeft:\n",
    "        the function to check bounds ,the left square of the given coordination and return if its value is not 0 and the value\n",
    "\n",
    "    checkAbove:\n",
    "        the function to check bounds ,the above square of the given coordination and return if its value is not 0 and the value\n",
    "\n",
    "    getSolidarityLength:\n",
    "        the function to get the solitary length of the fractal\n",
    "\n",
    "    translateMap:\n",
    "        the function to translate the labels\n",
    "\n",
    "    checkSquare:\n",
    "        the function to check a square\n",
    "    \"\"\"\n",
    "\n",
    "    def __init__(self, p: float, length: int) -> None:\n",
    "        \"\"\"\n",
    "        the function to construct the Hoshen Keoplman Percolation object\n",
    "\n",
    "        initializing the l,s,k and infColor\n",
    "\n",
    "        :param p:the input possibility\n",
    "        :type p: float\n",
    "        :param length: the size of the area\n",
    "        :type length: int\n",
    "        \"\"\"\n",
    "        self.p = p\n",
    "        self.length = length\n",
    "        self.map = np.zeros((self.length,self.length),dtype=int)\n",
    "        self.l = [0,1,0]\n",
    "        self.s = [0,self.length,0]\n",
    "        self.k = 2\n",
    "        self.infColor = 0\n",
    "\n",
    "\n",
    "    def show(self) -> None:\n",
    "        \"\"\"\n",
    "        the function to show the result of the percolation\n",
    "        \"\"\"\n",
    "        self.translateMap()\n",
    "        plt.imshow(self.map)\n",
    "\n",
    "    def check(self) -> None:\n",
    "        \"\"\"\n",
    "        the function to check the percolation with HoshenKeoplman method\n",
    "        \"\"\"\n",
    "        self.map[0]=1\n",
    "        for x in range(1,self.length):\n",
    "            for y in range(self.length):\n",
    "\n",
    "                self.checkSquare(x,y)\n",
    "\n",
    "        self.translateMap()\n",
    "        if any(self.map[self.length-1]==self.map[0]) :\n",
    "            self.infColor = self.map[0][0]\n",
    "            return 1\n",
    "        else:return 0\n",
    "\n",
    "    def checkSquare(self, x: int, y: int) -> None:\n",
    "        \"\"\"\n",
    "        the function to check a square with HoshenKeoplman algorithm\n",
    "\n",
    "        :param x: the first coordinate of the square\n",
    "        :type x: int\n",
    "        :param y: thg second coordinate of the square\n",
    "        :type y: int\n",
    "        \"\"\"\n",
    "        rand = int(np.random.rand(1)<self.p)\n",
    "        if rand == 1:\n",
    "            if self.checkLeft(x,y)[0]:\n",
    "                self.map[x][y] = copy.deepcopy(self.checkLeft(x,y)[1])\n",
    "                self.s[self.checkLeft(x,y)[1]] += 1\n",
    "\n",
    "                if self.checkAbove(x,y)[0]:\n",
    "                    if self.checkLeft(x, y)[1] != self.checkAbove(x, y)[1]:\n",
    "                        self.s[self.checkLeft(x,y)[1]] += copy.deepcopy(self.s[self.checkAbove(x,y)[1]])\n",
    "                        self.s[self.checkAbove(x,y)[1]] = 0\n",
    "                        for i in range(len(self.l)):\n",
    "                            if self.l[i] == self.l[self.checkAbove(x,y)[1]]:\n",
    "                                self.l[i] = copy.deepcopy(self.l[self.checkLeft(x,y)[1]])\n",
    "\n",
    "            else:\n",
    "                if self.checkAbove(x,y)[0]:\n",
    "                    self.map[x][y] = copy.deepcopy(self.checkAbove(x,y)[1])\n",
    "                    self.s[self.checkAbove(x,y)[1]] +=1\n",
    "                else:\n",
    "                    self.l[self.k]=copy.deepcopy(self.k)\n",
    "                    self.map[x][y] = copy.deepcopy(self.k)\n",
    "                    self.s[self.k] += 1\n",
    "                    self.k +=1\n",
    "                    self.l.append(0)\n",
    "                    self.s.append(0)\n",
    "\n",
    "\n",
    "    def checkLeft(self, x: int, y: int) -> Sequence:\n",
    "        \"\"\"\n",
    "        the function to check bounds ,the left square of the given coordination and return if its value is not 0 and the value\n",
    "\n",
    "        :param x: the first coordinate of the square\n",
    "        :type x: int\n",
    "        :param y: thg second coordinate of the square\n",
    "        :type y: int\n",
    "        :return: if its value is not 0 and the value\n",
    "        :rtype: Sequence\n",
    "        \"\"\"\n",
    "        if x==0 :return False, 0\n",
    "        else:return self.map[x-1][y]!=0 , self.map[x-1][y]\n",
    "\n",
    "    def checkAbove(self, x: int, y: int) -> Sequence:\n",
    "        \"\"\"\n",
    "        the function to check bounds ,the above square of the given coordination and return if its value is not 0 and the value\n",
    "\n",
    "        :param x: the first coordinate of the square\n",
    "        :type x: int\n",
    "        :param y: thg second coordinate of the square\n",
    "        :type y: int\n",
    "        :return: if its value is not 0 and the value\n",
    "        :rtype: Sequence\n",
    "        \"\"\"\n",
    "        if y==0 :return False, 0\n",
    "        else:return self.map[x][y-1]!=0 , self.map[x][y-1]\n",
    "\n",
    "    def translateMap(self) -> None:\n",
    "        \"\"\"\n",
    "        the function to translate the labels\n",
    "        \"\"\"\n",
    "        for i in range(self.length):\n",
    "            for j in range(self.length):\n",
    "                self.map[i][j] = self.l[self.map[i][j]]\n",
    "\n",
    "    def getSolidarityLength(self) -> float:\n",
    "        \"\"\"\n",
    "        the function to get the solitary length of the the percolation\n",
    "\n",
    "        removing the inf one from the set,gettng r for each one and returning the mean of them\n",
    "        \"\"\"\n",
    "        hMap = [ [[],[]] ]\n",
    "        h = list(set(self.l))\n",
    "        h.remove(self.infColor)\n",
    "\n",
    "        for i in range(max(h)):\n",
    "             hMap.append( [[],[]] )\n",
    "\n",
    "        sum  = 0\n",
    "        n = 0\n",
    "\n",
    "        for x in range(self.length):\n",
    "            for y in range(self.length):\n",
    "                if self.map[x][y]!=0 and self.map[x][y]!=self.infColor :\n",
    "                    hMap[self.map[x][y]][0].append(x)\n",
    "                    hMap[self.map[x][y]][1].append(y)\n",
    "\n",
    "        for k in hMap:\n",
    "            if k != [[], []]:\n",
    "                sum += np.sqrt( np.var(np.array(k[0]))  + np.var(np.array(k[1])))\n",
    "                n +=1\n",
    "        if n ==0 : return 0\n",
    "        else: return sum/n"
   ],
   "metadata": {
    "collapsed": false
   }
  },
  {
   "cell_type": "markdown",
   "source": [
    "## Q4.2 main Part:"
   ],
   "metadata": {
    "collapsed": false
   }
  },
  {
   "cell_type": "code",
   "execution_count": 14,
   "outputs": [
    {
     "name": "stdout",
     "output_type": "stream",
     "text": [
      "0\n"
     ]
    },
    {
     "data": {
      "text/plain": "0.589646291183361"
     },
     "execution_count": 14,
     "metadata": {},
     "output_type": "execute_result"
    },
    {
     "data": {
      "text/plain": "<Figure size 432x288 with 1 Axes>",
      "image/png": "[encoded data removed]"
     },
     "metadata": {
      "needs_background": "light"
     },
     "output_type": "display_data"
    }
   ],
   "source": [
    "cp = HoshenKeoplmanPercolation(0.25,10)\n",
    "print(cp.check())\n",
    "cp.show()\n",
    "cp.getSolidarityLength()"
   ],
   "metadata": {
    "collapsed": false
   }
  },
  {
   "cell_type": "code",
   "execution_count": 15,
   "outputs": [],
   "source": [
    "def getAverageQs(l: int) -> Sequence[float]:\n",
    "    \"\"\"\n",
    "    the function to get average Q for different ps  for 100 iterations\n",
    "\n",
    "    :param l: the size of area\n",
    "    :type l: int\n",
    "    :return: the average qs\n",
    "    :rtype: Sequence[float]\n",
    "    \"\"\"\n",
    "    averageQs = []\n",
    "    for i in range(21):\n",
    "        p = i * 0.05\n",
    "        qs = []\n",
    "        for j in range(100):\n",
    "            cp = HoshenKeoplmanPercolation(p,l)\n",
    "            qs.append(cp.check())\n",
    "            del cp\n",
    "        averageQs.append(np.average(qs))\n",
    "    return averageQs\n"
   ],
   "metadata": {
    "collapsed": false
   }
  },
  {
   "cell_type": "code",
   "execution_count": 16,
   "outputs": [],
   "source": [
    "#the array for ps\n",
    "ps   = np.array(range(0,21))/20"
   ],
   "metadata": {
    "collapsed": false
   }
  },
  {
   "cell_type": "code",
   "execution_count": 382,
   "outputs": [],
   "source": [
    "averageQ1 = getAverageQs(10)"
   ],
   "metadata": {
    "collapsed": false
   }
  },
  {
   "cell_type": "code",
   "execution_count": 384,
   "outputs": [],
   "source": [
    "averageQ2 = getAverageQs(100)"
   ],
   "metadata": {
    "collapsed": false
   }
  },
  {
   "cell_type": "code",
   "execution_count": 385,
   "outputs": [],
   "source": [
    "averageQ3 = getAverageQs(200)"
   ],
   "metadata": {
    "collapsed": false
   }
  },
  {
   "cell_type": "markdown",
   "source": [
    "#### Plotting the average qs:"
   ],
   "metadata": {
    "collapsed": false
   }
  },
  {
   "cell_type": "code",
   "execution_count": 383,
   "outputs": [
    {
     "data": {
      "text/plain": "<Figure size 432x288 with 1 Axes>",
      "image/png": "[encoded data removed]"
     },
     "metadata": {
      "needs_background": "light"
     },
     "output_type": "display_data"
    }
   ],
   "source": [
    "plt.scatter(ps , averageQ1)\n",
    "plt.show()"
   ],
   "metadata": {
    "collapsed": false
   }
  },
  {
   "cell_type": "code",
   "execution_count": 386,
   "outputs": [
    {
     "data": {
      "text/plain": "<Figure size 432x288 with 1 Axes>",
      "image/png": "[encoded data removed]"
     },
     "metadata": {
      "needs_background": "light"
     },
     "output_type": "display_data"
    }
   ],
   "source": [
    "plt.scatter(ps , averageQ2)\n",
    "plt.show()"
   ],
   "metadata": {
    "collapsed": false
   }
  },
  {
   "cell_type": "code",
   "execution_count": 387,
   "outputs": [
    {
     "data": {
      "text/plain": "<Figure size 432x288 with 1 Axes>",
      "image/png": "[encoded data removed]"
     },
     "metadata": {
      "needs_background": "light"
     },
     "output_type": "display_data"
    }
   ],
   "source": [
    "plt.scatter(ps , averageQ3)\n",
    "plt.show()"
   ],
   "metadata": {
    "collapsed": false
   }
  },
  {
   "cell_type": "markdown",
   "source": [
    "# Q4.4:"
   ],
   "metadata": {
    "collapsed": false
   }
  },
  {
   "cell_type": "code",
   "execution_count": 34,
   "outputs": [],
   "source": [
    "def getAverageQInfs(l: int) -> Sequence[float]:\n",
    "    \"\"\"\n",
    "    the function to get average Q_inf for different ps  for 100 iterations\n",
    "\n",
    "    :param l: the size of area\n",
    "    :type l: int\n",
    "    :return: the average q_infs\n",
    "    :rtype: Sequence[float]\n",
    "    \"\"\"\n",
    "    averageQInfs = []\n",
    "    for i in range(21):\n",
    "        p = i * 0.05\n",
    "        qInfs = []\n",
    "        for j in range(100):\n",
    "            cp = HoshenKeoplmanPercolation(p,l)\n",
    "            if cp.check(): qInfs.append(cp.s[1]/(l**2))\n",
    "            else: qInfs.append(0)\n",
    "            del cp\n",
    "        averageQInfs.append(np.average(qInfs))\n",
    "    return averageQInfs\n"
   ],
   "metadata": {
    "collapsed": false
   }
  },
  {
   "cell_type": "code",
   "execution_count": 35,
   "outputs": [],
   "source": [
    "averageQInfs1 = getAverageQInfs(10)"
   ],
   "metadata": {
    "collapsed": false
   }
  },
  {
   "cell_type": "code",
   "execution_count": 36,
   "outputs": [],
   "source": [
    "averageQInfs2 = getAverageQInfs(100)"
   ],
   "metadata": {
    "collapsed": false
   }
  },
  {
   "cell_type": "code",
   "execution_count": 37,
   "outputs": [],
   "source": [
    "averageQInfs3 = getAverageQInfs(200)"
   ],
   "metadata": {
    "collapsed": false
   }
  },
  {
   "cell_type": "markdown",
   "source": [
    "#### Plotting the  Q_inf  for different sizes"
   ],
   "metadata": {
    "collapsed": false
   }
  },
  {
   "cell_type": "code",
   "execution_count": 38,
   "outputs": [
    {
     "data": {
      "text/plain": "<Figure size 432x288 with 1 Axes>",
      "image/png": "[encoded data removed]"
     },
     "metadata": {
      "needs_background": "light"
     },
     "output_type": "display_data"
    }
   ],
   "source": [
    "plt.scatter(ps , averageQInfs1)\n",
    "plt.show()"
   ],
   "metadata": {
    "collapsed": false
   }
  },
  {
   "cell_type": "code",
   "execution_count": 39,
   "outputs": [
    {
     "data": {
      "text/plain": "<Figure size 432x288 with 1 Axes>",
      "image/png": "[encoded data removed]"
     },
     "metadata": {
      "needs_background": "light"
     },
     "output_type": "display_data"
    }
   ],
   "source": [
    "plt.scatter(ps , averageQInfs2)\n",
    "plt.show()"
   ],
   "metadata": {
    "collapsed": false
   }
  },
  {
   "cell_type": "code",
   "execution_count": 40,
   "outputs": [
    {
     "data": {
      "text/plain": "<Figure size 432x288 with 1 Axes>",
      "image/png": "[encoded data removed]"
     },
     "metadata": {
      "needs_background": "light"
     },
     "output_type": "display_data"
    }
   ],
   "source": [
    "plt.scatter(ps , averageQInfs3)\n",
    "plt.show()"
   ],
   "metadata": {
    "collapsed": false
   }
  },
  {
   "cell_type": "markdown",
   "source": [
    "# Q4.5:"
   ],
   "metadata": {
    "collapsed": false
   }
  },
  {
   "cell_type": "code",
   "execution_count": 41,
   "outputs": [],
   "source": [
    "def getAverageSolidaryLengths(l: int) -> Sequence[float]:\n",
    "    \"\"\"\n",
    "    the function to get average SolidaryLengths for different ps for 100 iterations\n",
    "\n",
    "    :param l: the size of area\n",
    "    :type l: int\n",
    "    :return: averageSolidaryLengths\n",
    "    :rtype: Sequence[float]\n",
    "    \"\"\"\n",
    "    averageSolidaryLengths = []\n",
    "    for i in range(1,21):\n",
    "        p = i * 0.05\n",
    "        sls = []\n",
    "        for j in range(100):\n",
    "            cp = HoshenKeoplmanPercolation(p,l)\n",
    "            cp.check()\n",
    "            sls.append(cp.getSolidarityLength())\n",
    "            del cp\n",
    "        averageSolidaryLengths.append(np.average(sls))\n",
    "    return averageSolidaryLengths\n"
   ],
   "metadata": {
    "collapsed": false
   }
  },
  {
   "cell_type": "code",
   "execution_count": 42,
   "outputs": [],
   "source": [
    "averageSolidaryLengths1 = getAverageSolidaryLengths(10)"
   ],
   "metadata": {
    "collapsed": false
   }
  },
  {
   "cell_type": "code",
   "execution_count": 43,
   "outputs": [],
   "source": [
    "averageSolidaryLengths2 = getAverageSolidaryLengths(20)"
   ],
   "metadata": {
    "collapsed": false
   }
  },
  {
   "cell_type": "code",
   "execution_count": 44,
   "outputs": [],
   "source": [
    "averageSolidaryLengths3 = getAverageSolidaryLengths(40)"
   ],
   "metadata": {
    "collapsed": false
   }
  },
  {
   "cell_type": "code",
   "execution_count": 45,
   "outputs": [],
   "source": [
    "averageSolidaryLengths4 = getAverageSolidaryLengths(80)"
   ],
   "metadata": {
    "collapsed": false
   }
  },
  {
   "cell_type": "code",
   "execution_count": 46,
   "outputs": [],
   "source": [
    "averageSolidaryLengths5 = getAverageSolidaryLengths(160)"
   ],
   "metadata": {
    "collapsed": false
   }
  },
  {
   "cell_type": "markdown",
   "source": [
    "#### Plotting the  SolidaryLengths for different sizes"
   ],
   "metadata": {
    "collapsed": false
   }
  },
  {
   "cell_type": "code",
   "execution_count": 47,
   "outputs": [
    {
     "data": {
      "text/plain": "<Figure size 432x288 with 1 Axes>",
      "image/png": "[encoded data removed]"
     },
     "metadata": {
      "needs_background": "light"
     },
     "output_type": "display_data"
    }
   ],
   "source": [
    "plt.scatter(ps[1:] , averageSolidaryLengths1)\n",
    "plt.show()"
   ],
   "metadata": {
    "collapsed": false
   }
  },
  {
   "cell_type": "code",
   "execution_count": 48,
   "outputs": [
    {
     "data": {
      "text/plain": "<Figure size 432x288 with 1 Axes>",
      "image/png": "[encoded data removed]"
     },
     "metadata": {
      "needs_background": "light"
     },
     "output_type": "display_data"
    }
   ],
   "source": [
    "plt.scatter(ps[1:] , averageSolidaryLengths2)\n",
    "plt.show()"
   ],
   "metadata": {
    "collapsed": false
   }
  },
  {
   "cell_type": "code",
   "execution_count": 49,
   "outputs": [
    {
     "data": {
      "text/plain": "<Figure size 432x288 with 1 Axes>",
      "image/png": "[encoded data removed]"
     },
     "metadata": {
      "needs_background": "light"
     },
     "output_type": "display_data"
    }
   ],
   "source": [
    "plt.scatter(ps[1:] , averageSolidaryLengths3)\n",
    "plt.show()"
   ],
   "metadata": {
    "collapsed": false
   }
  },
  {
   "cell_type": "code",
   "execution_count": 50,
   "outputs": [
    {
     "data": {
      "text/plain": "<Figure size 432x288 with 1 Axes>",
      "image/png": "[encoded data removed]"
     },
     "metadata": {
      "needs_background": "light"
     },
     "output_type": "display_data"
    }
   ],
   "source": [
    "plt.scatter(ps[1:] , averageSolidaryLengths4)\n",
    "plt.show()"
   ],
   "metadata": {
    "collapsed": false
   }
  },
  {
   "cell_type": "code",
   "execution_count": 51,
   "outputs": [
    {
     "data": {
      "text/plain": "<Figure size 432x288 with 1 Axes>",
      "image/png": "[encoded data removed]"
     },
     "metadata": {
      "needs_background": "light"
     },
     "output_type": "display_data"
    }
   ],
   "source": [
    "plt.scatter(ps[1:] , averageSolidaryLengths5)\n",
    "plt.show()"
   ],
   "metadata": {
    "collapsed": false
   }
  },
  {
   "cell_type": "code",
   "execution_count": 52,
   "outputs": [],
   "source": [
    "# specifying the first step max of the solitary Lengths\n",
    "max1 = max(averageSolidaryLengths1)\n",
    "max2 = max(averageSolidaryLengths2)\n",
    "max3 = max(averageSolidaryLengths3)\n",
    "max4 = max(averageSolidaryLengths4)\n",
    "max5 = max(averageSolidaryLengths5)"
   ],
   "metadata": {
    "collapsed": false
   }
  },
  {
   "cell_type": "code",
   "execution_count": 99,
   "outputs": [],
   "source": [
    "p_c1_i = ps[1:][averageSolidaryLengths1.index(max1)]\n",
    "p_c2_i = ps[1:][averageSolidaryLengths2.index(max2)]\n",
    "p_c3_i = ps[1:][averageSolidaryLengths3.index(max3)]\n",
    "p_c4_i = ps[1:][averageSolidaryLengths4.index(max4)]\n",
    "p_c5_i = ps[1:][averageSolidaryLengths5.index(max5)]"
   ],
   "metadata": {
    "collapsed": false
   }
  },
  {
   "cell_type": "code",
   "execution_count": 53,
   "outputs": [],
   "source": [
    "def getAverageSolidaryLengthsCompletion(l: int, max: float) -> Sequence[float]:\n",
    "    \"\"\"\n",
    "    the function to get complete average SolitaryLengths for new different ps for 100 iterations\n",
    "\n",
    "    :param max: the p with the max first step solitary witch we're setting new points close to it\n",
    "    :type max: float\n",
    "    :param l: the size of area\n",
    "    :type l: int\n",
    "    :return: averageSolitaryLengths\n",
    "    :rtype: Sequence[float]\n",
    "    \"\"\"\n",
    "    averageSolidaryLengthsC = []\n",
    "    for i in range(-2,3):\n",
    "        p = max+i*0.01\n",
    "        sls = []\n",
    "        for j in range(100):\n",
    "            cp = HoshenKeoplmanPercolation(p,l)\n",
    "            cp.check()\n",
    "            sls.append(cp.getSolidarityLength())\n",
    "            del cp\n",
    "        averageSolidaryLengthsC.append(np.average(sls))\n",
    "    return averageSolidaryLengthsC\n"
   ],
   "metadata": {
    "collapsed": false
   }
  },
  {
   "cell_type": "code",
   "execution_count": 100,
   "outputs": [],
   "source": [
    "averageSolidaryLengths1Complete = averageSolidaryLengths1 + getAverageSolidaryLengthsCompletion(10,p_c1_i)"
   ],
   "metadata": {
    "collapsed": false
   }
  },
  {
   "cell_type": "code",
   "execution_count": 101,
   "outputs": [],
   "source": [
    "averageSolidaryLengths2Complete = averageSolidaryLengths2 + getAverageSolidaryLengthsCompletion(20,p_c2_i)"
   ],
   "metadata": {
    "collapsed": false
   }
  },
  {
   "cell_type": "code",
   "execution_count": 102,
   "outputs": [],
   "source": [
    "averageSolidaryLengths3Complete = averageSolidaryLengths3 + getAverageSolidaryLengthsCompletion(40,p_c3_i)"
   ],
   "metadata": {
    "collapsed": false
   }
  },
  {
   "cell_type": "code",
   "execution_count": 106,
   "outputs": [],
   "source": [
    "averageSolidaryLengths4Complete = averageSolidaryLengths4 + getAverageSolidaryLengthsCompletion(80,p_c4_i)"
   ],
   "metadata": {
    "collapsed": false
   }
  },
  {
   "cell_type": "code",
   "execution_count": 107,
   "outputs": [],
   "source": [
    "averageSolidaryLengths5Complete = averageSolidaryLengths5 + getAverageSolidaryLengthsCompletion(160,p_c5_i)"
   ],
   "metadata": {
    "collapsed": false
   }
  },
  {
   "cell_type": "code",
   "execution_count": 115,
   "outputs": [],
   "source": [
    "ps1 = list(ps[1:]) + list(p_c1_i + np.array([-0.02,-0.01,0.,0.01,0.02]))\n",
    "ps2 = list(ps[1:]) + list(p_c2_i + np.array([-0.02,-0.01,0.,0.01,0.02]))\n",
    "ps3 = list(ps[1:]) + list(p_c3_i + np.array([-0.02,-0.01,0.,0.01,0.02]))\n",
    "ps4 = list(ps[1:]) + list(p_c4_i + np.array([-0.02,-0.01,0.,0.01,0.02]))\n",
    "ps5 = list(ps[1:]) + list(p_c5_i + np.array([-0.02,-0.01,0.,0.01,0.02]))"
   ],
   "metadata": {
    "collapsed": false
   }
  },
  {
   "cell_type": "markdown",
   "source": [
    "#### plotting the complete averageSolitaryLengths:"
   ],
   "metadata": {
    "collapsed": false
   }
  },
  {
   "cell_type": "code",
   "execution_count": 122,
   "outputs": [
    {
     "data": {
      "text/plain": "<Figure size 432x288 with 1 Axes>",
      "image/png": "[encoded data removed]"
     },
     "metadata": {
      "needs_background": "light"
     },
     "output_type": "display_data"
    }
   ],
   "source": [
    "plt.scatter(ps1 , averageSolidaryLengths1Complete)\n",
    "plt.show()"
   ],
   "metadata": {
    "collapsed": false
   }
  },
  {
   "cell_type": "code",
   "execution_count": 123,
   "outputs": [
    {
     "data": {
      "text/plain": "<Figure size 432x288 with 1 Axes>",
      "image/png": "[encoded data removed]"
     },
     "metadata": {
      "needs_background": "light"
     },
     "output_type": "display_data"
    }
   ],
   "source": [
    "plt.scatter(ps2 , averageSolidaryLengths2Complete)\n",
    "plt.show()"
   ],
   "metadata": {
    "collapsed": false
   }
  },
  {
   "cell_type": "code",
   "execution_count": 124,
   "outputs": [
    {
     "data": {
      "text/plain": "<Figure size 432x288 with 1 Axes>",
      "image/png": "[encoded data removed]"
     },
     "metadata": {
      "needs_background": "light"
     },
     "output_type": "display_data"
    }
   ],
   "source": [
    "plt.scatter(ps3, averageSolidaryLengths3Complete)\n",
    "plt.show()"
   ],
   "metadata": {
    "collapsed": false
   }
  },
  {
   "cell_type": "code",
   "execution_count": 125,
   "outputs": [
    {
     "data": {
      "text/plain": "<Figure size 432x288 with 1 Axes>",
      "image/png": "[encoded data removed]"
     },
     "metadata": {
      "needs_background": "light"
     },
     "output_type": "display_data"
    }
   ],
   "source": [
    "plt.scatter(ps4, averageSolidaryLengths4Complete)\n",
    "plt.show()"
   ],
   "metadata": {
    "collapsed": false
   }
  },
  {
   "cell_type": "code",
   "execution_count": 126,
   "outputs": [
    {
     "data": {
      "text/plain": "<Figure size 432x288 with 1 Axes>",
      "image/png": "[encoded data removed]"
     },
     "metadata": {
      "needs_background": "light"
     },
     "output_type": "display_data"
    }
   ],
   "source": [
    "plt.scatter(ps5, averageSolidaryLengths5Complete)\n",
    "plt.show()"
   ],
   "metadata": {
    "collapsed": false
   }
  },
  {
   "cell_type": "code",
   "execution_count": 127,
   "outputs": [],
   "source": [
    "# finding new maximizing ps:\n",
    "max1final = max(averageSolidaryLengths1Complete)\n",
    "max2final = max(averageSolidaryLengths2Complete)\n",
    "max3final = max(averageSolidaryLengths3Complete)\n",
    "max4final = max(averageSolidaryLengths4Complete)\n",
    "max5final = max(averageSolidaryLengths5Complete)"
   ],
   "metadata": {
    "collapsed": false
   }
  },
  {
   "cell_type": "code",
   "execution_count": 130,
   "outputs": [],
   "source": [
    "p_c1_f = ps1[averageSolidaryLengths1Complete.index(max1final)]\n",
    "p_c2_f = ps2[averageSolidaryLengths2Complete.index(max2final)]\n",
    "p_c3_f = ps3[averageSolidaryLengths3Complete.index(max3final)]\n",
    "p_c4_f = ps4[averageSolidaryLengths4Complete.index(max4final)]\n",
    "p_c5_f = ps5[averageSolidaryLengths5Complete.index(max5final)]"
   ],
   "metadata": {
    "collapsed": false
   }
  },
  {
   "cell_type": "markdown",
   "source": [
    "####  plotting maximizing p_c and lengths:"
   ],
   "metadata": {
    "collapsed": false
   }
  },
  {
   "cell_type": "code",
   "execution_count": 170,
   "outputs": [
    {
     "data": {
      "text/plain": "<Figure size 432x288 with 1 Axes>",
      "image/png": "[encoded data removed]"
     },
     "metadata": {
      "needs_background": "light"
     },
     "output_type": "display_data"
    }
   ],
   "source": [
    "plt.plot([10,20,40,80,160],[p_c1_f,p_c2_f,p_c3_f,p_c4_f,p_c5_f])\n",
    "plt.show()"
   ],
   "metadata": {
    "collapsed": false
   }
  },
  {
   "cell_type": "markdown",
   "source": [
    "# Q4.6:"
   ],
   "metadata": {
    "collapsed": false
   }
  },
  {
   "cell_type": "code",
   "execution_count": 195,
   "outputs": [
    {
     "data": {
      "text/plain": "[<matplotlib.lines.Line2D at 0x1e3a3800880>]"
     },
     "execution_count": 195,
     "metadata": {},
     "output_type": "execute_result"
    },
    {
     "data": {
      "text/plain": "<Figure size 432x288 with 1 Axes>",
      "image/png": "[encoded data removed]"
     },
     "metadata": {
      "needs_background": "light"
     },
     "output_type": "display_data"
    }
   ],
   "source": [
    "pc_inf = 1\n",
    "deltaPc = pc_inf - np.array([0.5,p_c1_f,p_c2_f,p_c3_f,p_c4_f,p_c5_f])\n",
    "logDeltaPc = np.log(deltaPc)\n",
    "logLs = np.log(np.array([2,10,20,40,80,160]))\n",
    "plt.plot(logLs,logDeltaPc)"
   ],
   "metadata": {
    "collapsed": false
   }
  },
  {
   "cell_type": "code",
   "execution_count": 196,
   "outputs": [
    {
     "name": "stdout",
     "output_type": "stream",
     "text": [
      "v is :  2.163583431434251\n",
      "r2 for logDeltaPc and logLs:  -0.9429376198145349\n"
     ]
    }
   ],
   "source": [
    "m = np.polyfit(logLs,logDeltaPc,1)[0]\n",
    "v = -1/m\n",
    "print(\"v is : \",v)\n",
    "print(\"r2 for logDeltaPc and logLs: \",np.corrcoef(logLs, logDeltaPc)[0][1])"
   ],
   "metadata": {
    "collapsed": false
   }
  },
  {
   "cell_type": "markdown",
   "source": [
    "# Q4.7:"
   ],
   "metadata": {
    "collapsed": false
   }
  },
  {
   "cell_type": "code",
   "execution_count": 181,
   "outputs": [],
   "source": [
    "class FractalPercolation:\n",
    "    \"\"\"\n",
    "    the class  to simulate the fractal percolation\n",
    "    methods:\n",
    "        show:\n",
    "        the function to show the result of simulation\n",
    "\n",
    "        light:\n",
    "        the function to get a random number and fractaly light the squares\n",
    "\n",
    "        lightSquare:\n",
    "        the function to ligth the input square\n",
    "\n",
    "        getSolidarityLength:\n",
    "        the function to get the solitary length of the fractal\n",
    "\n",
    "        translate:\n",
    "        the function to turn blocked squares to 0\n",
    "\n",
    "    \"\"\"\n",
    "\n",
    "    def __init__(self, p: float, length: int) -> None:\n",
    "        \"\"\"\n",
    "        the function to construct the fractal percolation object\n",
    "        :param p: the input possibility param\n",
    "        :type p: float\n",
    "        :param length:the size of the area\n",
    "        :type length: int\n",
    "        \"\"\"\n",
    "        self.p = p\n",
    "        self.length = length\n",
    "        self.map = np.zeros((self.length,self.length))\n",
    "        self.neighbors = [(0,0)]\n",
    "        self.count = 0\n",
    "\n",
    "\n",
    "\n",
    "    def show(self) -> None:\n",
    "        \"\"\"\n",
    "        the function to show the result of simulation\n",
    "        \"\"\"\n",
    "        plt.imshow(self.map)\n",
    "\n",
    "    def light(self) -> None:\n",
    "        \"\"\"\n",
    "        the function to get a random number and fractaly light the squares\n",
    "        \"\"\"\n",
    "        self.lightSquare(1)\n",
    "        while len(self.neighbors)>0:\n",
    "            self.lightSquare(np.random.rand(1)<=self.p)\n",
    "\n",
    "        self.translate()\n",
    "\n",
    "    def lightSquare(self, rand: int) -> None:\n",
    "        \"\"\"\n",
    "        the function to ligth the input square\n",
    "        light if rand == 1 and block if rand == 0\n",
    "        check if the neighbors are in bounds and unoccupied the add to the neighbors\n",
    "\n",
    "        :param rand:the rand number(0,1)\n",
    "        :type rand:int\n",
    "        \"\"\"\n",
    "        x = self.neighbors[0][0]\n",
    "        y = self.neighbors[0][1]\n",
    "\n",
    "        if rand:\n",
    "            self.map[x][y] = 1\n",
    "            self.count += 1\n",
    "            self.neighbors.remove(self.neighbors[0])\n",
    "\n",
    "            if x != 0 and self.map[x - 1][y] ==0 :\n",
    "                self.neighbors.append((x-1,y))\n",
    "\n",
    "            if y!=0 and self.map[x][y-1]==0:\n",
    "                self.neighbors.append((x,y-1))\n",
    "\n",
    "            if x!=self.length-1 and self.map[x+1][y]==0:\n",
    "                self.neighbors.append((x+1,y))\n",
    "\n",
    "            if y!=self.length-1 and self.map[x][y+1]==0:\n",
    "                self.neighbors.append((x,y+1))\n",
    "\n",
    "\n",
    "        else:\n",
    "            self.map[x][y] = -1\n",
    "            self.neighbors.remove(self.neighbors[0])\n",
    "\n",
    "\n",
    "\n",
    "\n",
    "    def translate(self) -> None:\n",
    "        \"\"\"\n",
    "        the function to turn blocked squares to 0\n",
    "        \"\"\"\n",
    "        self.map += np.ones((self.length,self.length))*(self.map==-1)\n",
    "\n",
    "    def getSolidarityLength(self) -> None:\n",
    "        \"\"\"\n",
    "        the function to get the solitary length of the fractal\n",
    "        \"\"\"\n",
    "        xs = []\n",
    "        ys = []\n",
    "\n",
    "        for x in range(self.length):\n",
    "            for y in range(self.length):\n",
    "                if self.map[x][y]==1 :\n",
    "                    xs.append(x)\n",
    "                    ys.append(y)\n",
    "\n",
    "        return np.sqrt( np.var(np.array(xs))  + np.var(np.array(ys)))"
   ],
   "metadata": {
    "collapsed": false
   }
  },
  {
   "cell_type": "markdown",
   "source": [
    "## Q4.7 main part:"
   ],
   "metadata": {
    "collapsed": false
   }
  },
  {
   "cell_type": "code",
   "execution_count": 197,
   "outputs": [
    {
     "name": "stdout",
     "output_type": "stream",
     "text": [
      "8.216214646376935\n"
     ]
    },
    {
     "data": {
      "text/plain": "<Figure size 432x288 with 1 Axes>",
      "image/png": "[encoded data removed]"
     },
     "metadata": {
      "needs_background": "light"
     },
     "output_type": "display_data"
    }
   ],
   "source": [
    "fp = FractalPercolation(0.7,20)\n",
    "fp.light()\n",
    "fp.show()\n",
    "print(fp.getSolidarityLength())"
   ],
   "metadata": {
    "collapsed": false
   }
  },
  {
   "cell_type": "code",
   "execution_count": null,
   "outputs": [],
   "source": [
    "def getFractalPercolationMeans(p: float, l: int) -> Sequence:\n",
    "    \"\"\"\n",
    "    the function to get average mean size and mean correlation length of the fractal percolation for 100 iterations\n",
    "\n",
    "    :param p: the input possibility\n",
    "    :type p: float\n",
    "    :param l: the size of the area\n",
    "    :type l: int\n",
    "    :return: the mean size and the mean correlation length\n",
    "    :rtype: Sequence\n",
    "    \"\"\"\n",
    "    ss = []\n",
    "    cls = []\n",
    "    for i in range(100):\n",
    "        fp = FractalPercolation(p,l)\n",
    "        fp.light()\n",
    "        ss.append(fp.count)\n",
    "        cls.append(fp.getSolidarityLength())\n",
    "    return np.mean(ss),np.mean(cls)"
   ],
   "metadata": {
    "collapsed": false
   }
  },
  {
   "cell_type": "code",
   "execution_count": null,
   "outputs": [],
   "source": [
    "meanSs = []\n",
    "meanCls = []\n",
    "\n",
    "for p in [0.5,0.55,0.59]:\n",
    "    meanSs.append(getFractalPercolationMeans(p,10)[0])\n",
    "    meanCls.append(getFractalPercolationMeans(p,10)[1])"
   ],
   "metadata": {
    "collapsed": false
   }
  },
  {
   "cell_type": "markdown",
   "source": [
    "#### plotting the log of Sizes and the log of the solitary Lengths:"
   ],
   "metadata": {
    "collapsed": false
   }
  },
  {
   "cell_type": "code",
   "execution_count": 198,
   "outputs": [
    {
     "data": {
      "text/plain": "<Figure size 432x288 with 1 Axes>",
      "image/png": "[encoded data removed]"
     },
     "metadata": {
      "needs_background": "light"
     },
     "output_type": "display_data"
    }
   ],
   "source": [
    "plt.plot(np.log10(meanSs),np.log10(meanCls))\n",
    "plt.show()"
   ],
   "metadata": {
    "collapsed": false
   }
  }
 ],
 "metadata": {
  "kernelspec": {
   "display_name": "Python 3",
   "language": "python",
   "name": "python3"
  },
  "language_info": {
   "codemirror_mode": {
    "name": "ipython",
    "version": 2
   },
   "file_extension": ".py",
   "mimetype": "text/x-python",
   "name": "python",
   "nbconvert_exporter": "python",
   "pygments_lexer": "ipython2",
   "version": "2.7.6"
  }
 },
 "nbformat": 4,
 "nbformat_minor": 0
}
